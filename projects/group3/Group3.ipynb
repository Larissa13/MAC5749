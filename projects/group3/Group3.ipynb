{
 "cells": [
  {
   "cell_type": "markdown",
   "metadata": {},
   "source": [
    "# Leaf classification with Gradient Boosting"
   ]
  },
  {
   "cell_type": "markdown",
   "metadata": {},
   "source": [
    "TODO: improve this introductory section!\n",
    "\n",
    "This notebook presents a practical overview about shape analysis and classification. \n",
    "\n",
    "The dataset are available at [UCI repository](https://archive.ics.uci.edu/ml/datasets/leaf).\n",
    "\n",
    "This notebook was splitted in the following sections:\n",
    "\n",
    "1. Setup workspace\n",
    "2. Load raw data\n",
    "3. Image normalization\n",
    "4. Feature extraction\n",
    "5. Principal component analysis\n",
    "6. Gradient boosting classifier\n",
    "7. Results\n",
    "8. Concluding remarks"
   ]
  },
  {
   "cell_type": "markdown",
   "metadata": {},
   "source": [
    "## 1. Setup workspace"
   ]
  },
  {
   "cell_type": "markdown",
   "metadata": {},
   "source": [
    "Set global options and import python packages:"
   ]
  },
  {
   "cell_type": "code",
   "execution_count": 12,
   "metadata": {},
   "outputs": [
    {
     "data": {
      "text/html": [
       "<script>requirejs.config({paths: { 'plotly': ['https://cdn.plot.ly/plotly-latest.min']},});if(!window.Plotly) {{require(['plotly'],function(plotly) {window.Plotly=plotly;});}}</script>"
      ],
      "text/vnd.plotly.v1+html": [
       "<script>requirejs.config({paths: { 'plotly': ['https://cdn.plot.ly/plotly-latest.min']},});if(!window.Plotly) {{require(['plotly'],function(plotly) {window.Plotly=plotly;});}}</script>"
      ]
     },
     "metadata": {},
     "output_type": "display_data"
    }
   ],
   "source": [
    "#Some useful packages\n",
    "import pathlib\n",
    "import pandas\n",
    "import random\n",
    "import scipy\n",
    "import numpy\n",
    "import os\n",
    "import re\n",
    "import math\n",
    "\n",
    "#To read image files\n",
    "import scipy.ndimage as scimg\n",
    "import scipy.spatial as spatial\n",
    "\n",
    "#OpenCV image processing package\n",
    "import cv2\n",
    "\n",
    "#Plot tools\n",
    "import matplotlib as mpl\n",
    "import matplotlib.pyplot as plt\n",
    "import plotly.graph_objs as go\n",
    "import plotly.offline as po\n",
    "\n",
    "#Scikit learn\n",
    "from sklearn.preprocessing import StandardScaler\n",
    "\n",
    "%matplotlib inline\n",
    "import matplotlib as mpl\n",
    "mpl.rcParams['figure.figsize'] = (14,7)\n",
    "po.init_notebook_mode(connected=True)"
   ]
  },
  {
   "cell_type": "markdown",
   "metadata": {},
   "source": [
    "## 2. Load the raw images"
   ]
  },
  {
   "cell_type": "markdown",
   "metadata": {},
   "source": [
    "The raw images from the [UCI repository](https://archive.ics.uci.edu/ml/datasets/leaf) were added into the local folder: `./data/raw-images/`.\n",
    "\n",
    "Here we scan all subdirectories and store each image in a numpy array:"
   ]
  },
  {
   "cell_type": "code",
   "execution_count": 2,
   "metadata": {
    "collapsed": true
   },
   "outputs": [],
   "source": [
    "#Raw data path\n",
    "folder = \"./data/raw-images/\"\n",
    "\n",
    "#Check subdirectories\n",
    "subdirectories = list(map(str, [sb for sb in  pathlib.Path(folder).iterdir() if sb.is_dir()]))\n",
    "\n",
    "#Load all images in each subdirectory\n",
    "images = []\n",
    "cat_id = 1\n",
    "id = 1\n",
    "for sb in subdirectories:\n",
    "    filenames = os.listdir(sb)\n",
    "    filenames = [fname for fname in filenames if re.match(\".*.jpg\", fname)]\n",
    "    classname = os.path.basename(sb).lower()\n",
    "    for fname in filenames:\n",
    "        images.append({\n",
    "                \"id\": id,\n",
    "                \"species_name\": classname,\n",
    "                \"image\": scimg.imread(sb + \"/\" + fname)})\n",
    "        id += 1\n",
    "    cat_id += 1\n",
    "\n",
    "#Store labels for each image id \n",
    "labeltable = pandas.DataFrame(images, columns = [\"id\", \"species_name\"])"
   ]
  },
  {
   "cell_type": "markdown",
   "metadata": {},
   "source": [
    "### 2.1 Example Plot"
   ]
  },
  {
   "cell_type": "markdown",
   "metadata": {},
   "source": [
    "TODO: Plot 20"
   ]
  },
  {
   "cell_type": "code",
   "execution_count": 3,
   "metadata": {},
   "outputs": [
    {
     "data": {
      "text/plain": [
       "<matplotlib.image.AxesImage at 0x7fd5f55ad710>"
      ]
     },
     "execution_count": 3,
     "metadata": {},
     "output_type": "execute_result"
    },
    {
     "data": {
      "image/png": "[encoded data removed]",
      "text/plain": [
       "<matplotlib.figure.Figure at 0x7fd6355db9b0>"
      ]
     },
     "metadata": {},
     "output_type": "display_data"
    }
   ],
   "source": [
    "plt.imshow(images[0][\"image\"], cmap = \"gray\")"
   ]
  },
  {
   "cell_type": "markdown",
   "metadata": {},
   "source": [
    "## 3. Image normalization and pre-processing"
   ]
  },
  {
   "cell_type": "markdown",
   "metadata": {},
   "source": [
    "The raw images have different pixel sizes, which can be a problem for some features that are sensible to shifting.\n",
    "\n",
    "In this section we insert all leaf images in a black background in such a way that all images have the same pixel size and the center of mass of each leaf matches the center of the global image."
   ]
  },
  {
   "cell_type": "markdown",
   "metadata": {},
   "source": [
    "### 3.1 Find a suitable image size"
   ]
  },
  {
   "cell_type": "code",
   "execution_count": 4,
   "metadata": {
    "collapsed": true
   },
   "outputs": [],
   "source": [
    "#Center of mass of each leaf\n",
    "mass_centers = [tuple(map(int, scimg.measurements.center_of_mass(img[\"image\"]))) for img in images]\n",
    "#Shape of each raw image\n",
    "im_shapes = [img[\"image\"].shape for img in images]\n",
    "\n",
    "#Find out a suitable image size to normalize images\n",
    "max_height = numpy.array([2*max(im_shapes[i][0]-mass_centers[i][0], mass_centers[i][0]) for i in range(len(im_shapes))]).max()\n",
    "max_width = numpy.array([2*max(im_shapes[i][1]-mass_centers[i][1], mass_centers[i][1]) for i in range(len(im_shapes))]).max()\n",
    "max_width  = round(max_width+5, -1) + 1\n",
    "max_height = round(max_height+5, -1) + 1\n",
    "\n",
    "#Shape of normalized images\n",
    "shape = (max_height, max_width)\n",
    "\n",
    "#Center position of images\n",
    "center = (int(max_height/2), int(max_width/2))"
   ]
  },
  {
   "cell_type": "markdown",
   "metadata": {},
   "source": [
    "### 3.2 Save all images with the same size"
   ]
  },
  {
   "cell_type": "code",
   "execution_count": 5,
   "metadata": {
    "collapsed": true
   },
   "outputs": [],
   "source": [
    "#Destination folder of normalized images\n",
    "folder = \"./data/normalized-images/\"\n",
    "\n",
    "#Save images after normalization\n",
    "for idx, img in enumerate(images):\n",
    "    norm_image = numpy.zeros(shape)\n",
    "    img_center = scimg.measurements.center_of_mass(img[\"image\"])\n",
    "    img_center = tuple([int(round(c)) for c in img_center])\n",
    "    x0 = center[0]-img_center[0]\n",
    "    y0 = center[1]-img_center[1]\n",
    "    x1 = x0 + img[\"image\"].shape[0]\n",
    "    y1 = y0 + img[\"image\"].shape[1]\n",
    "    norm_image[x0:x1, y0:y1] = img[\"image\"]\n",
    "    scipy.misc.imsave(folder + str(img[\"id\"]).zfill(4) + \"_\" + img[\"species_name\"] + \".jpg\", norm_image)\n",
    "\n",
    "#Delete images to free memory\n",
    "del images"
   ]
  },
  {
   "cell_type": "markdown",
   "metadata": {},
   "source": [
    "## 4. Feature Engineering"
   ]
  },
  {
   "cell_type": "markdown",
   "metadata": {},
   "source": [
    "### 4.1 Area"
   ]
  },
  {
   "cell_type": "markdown",
   "metadata": {},
   "source": [
    "The plot below shows two distinct leaf species: `acer_mono` (left) and `liriodendron_tulipifera` (right).\n",
    "\n",
    "It's easy to see that the leaf area can be a good feature."
   ]
  },
  {
   "cell_type": "code",
   "execution_count": 6,
   "metadata": {},
   "outputs": [
    {
     "data": {
      "image/png": "[encoded data removed]",
      "text/plain": [
       "<matplotlib.figure.Figure at 0x7fd5f557c6d8>"
      ]
     },
     "metadata": {},
     "output_type": "display_data"
    }
   ],
   "source": [
    "plt.figure()\n",
    "plt.subplot(1,2,1)\n",
    "plt.imshow(cv2.cvtColor(scimg.imread(folder + \"0111_acer_mono.jpg\"),cv2.COLOR_GRAY2RGB))\n",
    "plt.subplot(1,2,2)\n",
    "plt.imshow(cv2.cvtColor(scimg.imread(folder + \"0123_liriodendron_tulipifera.jpg\"),cv2.COLOR_GRAY2RGB))\n",
    "plt.show()"
   ]
  },
  {
   "cell_type": "markdown",
   "metadata": {},
   "source": [
    "### 4.2 Perimeter & Perimeter/Area"
   ]
  },
  {
   "cell_type": "markdown",
   "metadata": {},
   "source": [
    "\n",
    "However, leaf species with similar area can have very different perimeter."
   ]
  },
  {
   "cell_type": "code",
   "execution_count": 7,
   "metadata": {},
   "outputs": [
    {
     "data": {
      "image/png": "[encoded data removed]",
      "text/plain": [
       "<matplotlib.figure.Figure at 0x7fd5f555f4a8>"
      ]
     },
     "metadata": {},
     "output_type": "display_data"
    },
    {
     "name": "stdout",
     "output_type": "stream",
     "text": [
      "Area:\n",
      "0173_castanea_sativa: 213375.5\n",
      "0214_quercus_palustris: 199065.5\n",
      "Perimeter:\n",
      "0173_castanea_sativa: 3350.789217233658\n",
      "0214_quercus_palustris: 6080.0179134607315\n"
     ]
    }
   ],
   "source": [
    "ret, im1 = cv2.threshold(scimg.imread(folder + \"0173_castanea_sativa.jpg\"), 127, 255, 0)\n",
    "ret, im2 = cv2.threshold(scimg.imread(folder + \"0214_quercus_palustris.jpg\"), 127, 255, 0)\n",
    "\n",
    "im, contours1, hierarchy = cv2.findContours(im1, cv2.RETR_TREE, cv2.CHAIN_APPROX_SIMPLE)\n",
    "im, contours2, hierarchy = cv2.findContours(im2, cv2.RETR_TREE, cv2.CHAIN_APPROX_SIMPLE)\n",
    "\n",
    "im1 = cv2.cvtColor(im1, cv2.COLOR_GRAY2RGB)\n",
    "im2 = cv2.cvtColor(im2, cv2.COLOR_GRAY2RGB)\n",
    "\n",
    "im1 = cv2.drawContours(im1, contours1, 0, (255,0,0), 10)\n",
    "im2 = cv2.drawContours(im2, contours2, 0, (255,0,0), 10)\n",
    "\n",
    "plt.figure()\n",
    "plt.subplot(1,2,1)\n",
    "plt.imshow(im1)\n",
    "plt.subplot(1,2,2)\n",
    "plt.imshow(im2)\n",
    "plt.show()\n",
    "\n",
    "print(\"Area:\")\n",
    "print(\"0173_castanea_sativa: \" + str(cv2.contourArea(contours1[0])))\n",
    "print(\"0214_quercus_palustris: \" + str(cv2.contourArea(contours2[0])))\n",
    "print(\"Perimeter:\")\n",
    "print(\"0173_castanea_sativa: \" + str(cv2.arcLength(contours1[0],True)))\n",
    "print(\"0214_quercus_palustris: \" + str(cv2.arcLength(contours2[0],True)))"
   ]
  },
  {
   "cell_type": "markdown",
   "metadata": {},
   "source": [
    "### 4.3 Extent & Slimness"
   ]
  },
  {
   "cell_type": "markdown",
   "metadata": {},
   "source": []
  },
  {
   "cell_type": "code",
   "execution_count": 9,
   "metadata": {},
   "outputs": [
    {
     "data": {
      "image/png": "[encoded data removed]",
      "text/plain": [
       "<matplotlib.figure.Figure at 0x7fd5f541c7f0>"
      ]
     },
     "metadata": {},
     "output_type": "display_data"
    }
   ],
   "source": [
    "ret, im1 = cv2.threshold(scimg.imread(folder + \"0132_quercus_pontica.jpg\"), 127, 255, 0)\n",
    "ret, im2 = cv2.threshold(scimg.imread(folder + \"0158_arundinaria_simonii.jpg\"), 127, 255, 0)\n",
    "\n",
    "im, contours1, hierarchy = cv2.findContours(im1, cv2.RETR_TREE, cv2.CHAIN_APPROX_SIMPLE)\n",
    "im, contours2, hierarchy = cv2.findContours(im2, cv2.RETR_TREE, cv2.CHAIN_APPROX_SIMPLE)\n",
    "\n",
    "rect1 = cv2.minAreaRect(contours1[0])\n",
    "rect2 = cv2.minAreaRect(contours2[0])\n",
    "\n",
    "box1 = numpy.int0(cv2.boxPoints(rect1))\n",
    "box2 = numpy.int0(cv2.boxPoints(rect2))\n",
    "\n",
    "im1 = cv2.cvtColor(im1, cv2.COLOR_GRAY2RGB)\n",
    "im2 = cv2.cvtColor(im2, cv2.COLOR_GRAY2RGB)\n",
    "\n",
    "im1 = cv2.drawContours(im1, [box1], 0, (255,0,0), 10)\n",
    "im2 = cv2.drawContours(im2, [box2], 0, (255,0,0), 10)\n",
    "\n",
    "plt.figure()\n",
    "plt.subplot(1,2,1)\n",
    "plt.imshow(im1)\n",
    "plt.subplot(1,2,2)\n",
    "plt.imshow(im2)\n",
    "plt.show()"
   ]
  },
  {
   "cell_type": "markdown",
   "metadata": {},
   "source": [
    "### 4.4 Solidity"
   ]
  },
  {
   "cell_type": "code",
   "execution_count": 10,
   "metadata": {},
   "outputs": [
    {
     "data": {
      "image/png": "[encoded data removed]",
      "text/plain": [
       "<matplotlib.figure.Figure at 0x7fd5f5423a90>"
      ]
     },
     "metadata": {},
     "output_type": "display_data"
    }
   ],
   "source": [
    "ret, im1 = cv2.threshold(scimg.imread(folder + \"0439_sorbus_aria.jpg\"), 127, 255, 0)\n",
    "ret, im2 = cv2.threshold(scimg.imread(folder + \"0430_acer_pictum.jpg\"), 127, 255, 0)\n",
    "\n",
    "im, contours1, hierarchy = cv2.findContours(im1, cv2.RETR_TREE, cv2.CHAIN_APPROX_SIMPLE)\n",
    "im, contours2, hierarchy = cv2.findContours(im2, cv2.RETR_TREE, cv2.CHAIN_APPROX_SIMPLE)\n",
    "\n",
    "convex_hull_1 = cv2.convexHull(contours1[0])\n",
    "convex_hull_2 = cv2.convexHull(contours2[0])\n",
    "\n",
    "im1 = cv2.cvtColor(im1, cv2.COLOR_GRAY2RGB)\n",
    "im2 = cv2.cvtColor(im2, cv2.COLOR_GRAY2RGB)\n",
    "\n",
    "im1 = cv2.drawContours(im1, [convex_hull_1], 0, (255,0,0), 10)\n",
    "im2 = cv2.drawContours(im2, [convex_hull_2], 0, (255,0,0), 10)\n",
    "\n",
    "plt.figure()\n",
    "plt.subplot(1,2,1)\n",
    "plt.imshow(im1)\n",
    "plt.subplot(1,2,2)\n",
    "plt.imshow(im2)\n",
    "plt.show()"
   ]
  },
  {
   "cell_type": "markdown",
   "metadata": {},
   "source": [
    "### 4.5 Other Features"
   ]
  },
  {
   "cell_type": "markdown",
   "metadata": {},
   "source": [
    "#### Roundness"
   ]
  },
  {
   "cell_type": "markdown",
   "metadata": {},
   "source": [
    "$Roundness = \\dfrac{4 \\times \\pi \\times Area}{(Perimeter)^2}$"
   ]
  },
  {
   "cell_type": "markdown",
   "metadata": {},
   "source": [
    "#### Equivalent Diameter"
   ]
  },
  {
   "cell_type": "markdown",
   "metadata": {},
   "source": [
    "Equivalent Diameter is the diameter of the circle whose area is same as the area of the object:"
   ]
  },
  {
   "cell_type": "markdown",
   "metadata": {},
   "source": [
    "$Equivalent\\_Distance = \\sqrt{\\dfrac{4 \\times Contour\\_Area}{\\pi}}$"
   ]
  },
  {
   "cell_type": "markdown",
   "metadata": {},
   "source": [
    "#### Dispersion"
   ]
  },
  {
   "cell_type": "markdown",
   "metadata": {},
   "source": [
    "$Dispersion = \\dfrac{max(\\sqrt{(x_i-\\bar{x})^2+(y_i-\\bar{y})^2}}{min(\\sqrt{(x_i-\\bar{x})^2+(y_i-\\bar{y})^2}}$"
   ]
  },
  {
   "cell_type": "markdown",
   "metadata": {},
   "source": [
    "### 4.2 Extract image features"
   ]
  },
  {
   "cell_type": "code",
   "execution_count": 14,
   "metadata": {},
   "outputs": [],
   "source": [
    "#Path to normalized images\n",
    "folder = \"./data/normalized-images/\"\n",
    "\n",
    "#Scan all files\n",
    "filenames = os.listdir(folder)\n",
    "filenames = [fname for fname in filenames if re.match(\".*.jpg\", fname)]\n",
    "filenames.sort()\n",
    "filenames = filenames[0:(16*20)] #subset\n",
    "\n",
    "#Extract features for each image\n",
    "features = []\n",
    "for file in filenames:\n",
    "    img =  scimg.imread(folder + file)\n",
    "    ret, thresh = cv2.threshold(img, 127, 255, 0)\n",
    "    img2, contours, hierarchy = cv2.findContours(thresh, cv2.RETR_TREE, cv2.CHAIN_APPROX_SIMPLE)\n",
    "    \n",
    "    contour = contours[numpy.array(list(map(len, contours))).argmax()]\n",
    "    convex_hull = cv2.convexHull(contour)    \n",
    "    rect = cv2.minAreaRect(contour)\n",
    "    box = cv2.boxPoints(rect)\n",
    "    d1 = spatial.distance.euclidean(box[0],box[1])\n",
    "    d2 = spatial.distance.euclidean(box[1],box[2])\n",
    "    img_center = scimg.measurements.center_of_mass(img)\n",
    "    img_center = tuple([int(round(c)) for c in img_center])\n",
    "    x0 = img_center[0]\n",
    "    y0 = img_center[1]\n",
    "        \n",
    "    area = cv2.contourArea(contour)\n",
    "    rect_area = d1*d2\n",
    "    extent = float(area)/rect_area\n",
    "    convex_hull_area = cv2.contourArea(convex_hull)\n",
    "    solidity = area/convex_hull_area\n",
    "    perimeter = cv2.arcLength(contour,True)\n",
    "    perimeter_area_ratio = perimeter/area\n",
    "    slimness = max(d1, d2)/min(d1, d2)\n",
    "    equi_diameter = numpy.sqrt(4*area/numpy.pi)\n",
    "    roundness = 4*math.pi*area/perimeter*perimeter\n",
    "    \n",
    "    eucl_dist = numpy.zeros(len(contours[0]))\n",
    "    for index, p in enumerate(contours[0]):\n",
    "        eucl_dist[index] = scipy.spatial.distance.euclidean([x0,y0],p[0])\n",
    "    dispersion = max(eucl_dist)/min(eucl_dist)\n",
    "    \n",
    "    features.append([\n",
    "            int(file[:4]),\n",
    "            area,\n",
    "            rect_area,\n",
    "            extent,\n",
    "            convex_hull_area,\n",
    "            solidity,\n",
    "            perimeter,\n",
    "            perimeter_area_ratio,\n",
    "            slimness,\n",
    "            equi_diameter,\n",
    "            roundness,\n",
    "            dispersion\n",
    "            ])"
   ]
  },
  {
   "cell_type": "markdown",
   "metadata": {},
   "source": [
    "### 4.3 Build the dataset"
   ]
  },
  {
   "cell_type": "code",
   "execution_count": 79,
   "metadata": {},
   "outputs": [],
   "source": [
    "#Feature set\n",
    "dataset = pandas.DataFrame(features, \n",
    "                           columns=[\"id\", \"area\", \"rect_area\", \"extent\", \"convex_hull_area\", \n",
    "                                    \"solidity\", \"perimeter\", \"perimeter_area_ratio\", \"slimness\",\n",
    "                                    \"equi_diameter\", \"roundness\", \"dispersion\"])\n",
    "\n",
    "#Add class label\n",
    "dataset = pandas.merge(dataset, labeltable, how=\"left\", on=\"id\")\n",
    "\n",
    "#Add class label id\n",
    "target = [[i] * 16 for i in range(1,21)]\n",
    "target = numpy.asarray(numpy.array(target)).reshape(-1)\n",
    "dataset[\"class_id\"] = target\n",
    "\n",
    "#Save to '.csv' file\n",
    "dataset.to_csv(\"dataset.csv\")"
   ]
  },
  {
   "cell_type": "markdown",
   "metadata": {},
   "source": [
    "## 5. Principal Component Analysis"
   ]
  },
  {
   "cell_type": "markdown",
   "metadata": {},
   "source": [
    "TODO: explain why we should use PCA"
   ]
  },
  {
   "cell_type": "markdown",
   "metadata": {},
   "source": [
    "### 5.1 Extract principal components"
   ]
  },
  {
   "cell_type": "code",
   "execution_count": 16,
   "metadata": {
    "collapsed": true
   },
   "outputs": [],
   "source": [
    "#Inputs and outputs\n",
    "X = dataset.ix[:,1:-1]\n",
    "y = dataset.ix[:,-1]\n",
    "\n",
    "#Scale normalization\n",
    "X_std = StandardScaler().fit_transform(X)\n",
    "\n",
    "#Compute covariance matrix, eigenvalues and eigenvectors\n",
    "cov_mat = numpy.cov(X_std.T)\n",
    "eig_vals, eig_vecs = numpy.linalg.eig(cov_mat)\n",
    "\n",
    "#Compute principal components (PCA)\n",
    "eig_pairs = [(numpy.abs(eig_vals[i]), eig_vecs[:,i]) for i in range(len(eig_vals))]\n",
    "matrix_w = numpy.hstack(tuple([ep[1].reshape(len(X.columns),1) for ep in eig_pairs]))\n",
    "Y = X_std.dot(matrix_w)"
   ]
  },
  {
   "cell_type": "markdown",
   "metadata": {},
   "source": [
    "### 5.2 Variance of principal components"
   ]
  },
  {
   "cell_type": "code",
   "execution_count": 17,
   "metadata": {},
   "outputs": [
    {
     "data": {
      "application/vnd.plotly.v1+json": {
       "data": [
        {
         "showlegend": false,
         "type": "bar",
         "x": [
          "PC 1",
          "PC 2",
          "PC 3",
          "PC 4",
          "PC 5",
          "PC 6",
          "PC 7",
          "PC 8",
          "PC 9",
          "PC 10"
         ],
         "y": [
          54.29431001693599,
          23.803675952908414,
          9.891908027435324,
          7.445758371913937,
          2.4441905439048286,
          1.1535553187224366,
          0.7201729835139541,
          0.1861794595980568,
          0.030756236042682693,
          0.029493089024389286,
          -1.1355557973730293e-15
         ]
        },
        {
         "name": "cumulative explained variance",
         "type": "scatter",
         "x": [
          "PC 1",
          "PC 2",
          "PC 3",
          "PC 4",
          "PC 5",
          "PC 6",
          "PC 7",
          "PC 8",
          "PC 9",
          "PC 10"
         ],
         "y": [
          54.29431001693599,
          78.0979859698444,
          87.98989399727972,
          95.43565236919366,
          97.87984291309849,
          99.03339823182093,
          99.75357121533487,
          99.93975067493292,
          99.9705069109756,
          99.99999999999999,
          99.99999999999999
         ]
        }
       ],
       "layout": {
        "hovermode": "closest",
        "title": "Explained variance by different principal components",
        "yaxis": {
         "title": "Explained variance in percent"
        }
       }
      },
      "text/html": [
       "<div id=\"ad6fc23b-6fec-4850-b223-33a90b865bdb\" style=\"height: 525px; width: 100%;\" class=\"plotly-graph-div\"></div><script type=\"text/javascript\">require([\"plotly\"], function(Plotly) { window.PLOTLYENV=window.PLOTLYENV || {};window.PLOTLYENV.BASE_URL=\"https://plot.ly\";Plotly.newPlot(\"ad6fc23b-6fec-4850-b223-33a90b865bdb\", [{\"x\": [\"PC 1\", \"PC 2\", \"PC 3\", \"PC 4\", \"PC 5\", \"PC 6\", \"PC 7\", \"PC 8\", \"PC 9\", \"PC 10\"], \"type\": \"bar\", \"y\": [54.29431001693599, 23.803675952908414, 9.891908027435324, 7.445758371913937, 2.4441905439048286, 1.1535553187224366, 0.7201729835139541, 0.1861794595980568, 0.030756236042682693, 0.029493089024389286, -1.1355557973730293e-15], \"showlegend\": false}, {\"name\": \"cumulative explained variance\", \"x\": [\"PC 1\", \"PC 2\", \"PC 3\", \"PC 4\", \"PC 5\", \"PC 6\", \"PC 7\", \"PC 8\", \"PC 9\", \"PC 10\"], \"type\": \"scatter\", \"y\": [54.29431001693599, 78.0979859698444, 87.98989399727972, 95.43565236919366, 97.87984291309849, 99.03339823182093, 99.75357121533487, 99.93975067493292, 99.9705069109756, 99.99999999999999, 99.99999999999999]}], {\"title\": \"Explained variance by different principal components\", \"hovermode\": \"closest\", \"yaxis\": {\"title\": \"Explained variance in percent\"}}, {\"linkText\": \"Export to plot.ly\", \"showLink\": true})});</script>"
      ],
      "text/vnd.plotly.v1+html": [
       "<div id=\"ad6fc23b-6fec-4850-b223-33a90b865bdb\" style=\"height: 525px; width: 100%;\" class=\"plotly-graph-div\"></div><script type=\"text/javascript\">require([\"plotly\"], function(Plotly) { window.PLOTLYENV=window.PLOTLYENV || {};window.PLOTLYENV.BASE_URL=\"https://plot.ly\";Plotly.newPlot(\"ad6fc23b-6fec-4850-b223-33a90b865bdb\", [{\"x\": [\"PC 1\", \"PC 2\", \"PC 3\", \"PC 4\", \"PC 5\", \"PC 6\", \"PC 7\", \"PC 8\", \"PC 9\", \"PC 10\"], \"type\": \"bar\", \"y\": [54.29431001693599, 23.803675952908414, 9.891908027435324, 7.445758371913937, 2.4441905439048286, 1.1535553187224366, 0.7201729835139541, 0.1861794595980568, 0.030756236042682693, 0.029493089024389286, -1.1355557973730293e-15], \"showlegend\": false}, {\"name\": \"cumulative explained variance\", \"x\": [\"PC 1\", \"PC 2\", \"PC 3\", \"PC 4\", \"PC 5\", \"PC 6\", \"PC 7\", \"PC 8\", \"PC 9\", \"PC 10\"], \"type\": \"scatter\", \"y\": [54.29431001693599, 78.0979859698444, 87.98989399727972, 95.43565236919366, 97.87984291309849, 99.03339823182093, 99.75357121533487, 99.93975067493292, 99.9705069109756, 99.99999999999999, 99.99999999999999]}], {\"title\": \"Explained variance by different principal components\", \"hovermode\": \"closest\", \"yaxis\": {\"title\": \"Explained variance in percent\"}}, {\"linkText\": \"Export to plot.ly\", \"showLink\": true})});</script>"
      ]
     },
     "metadata": {},
     "output_type": "display_data"
    }
   ],
   "source": [
    "#Compute self and cumulative variance of each PCA component\n",
    "tot = sum(eig_vals)\n",
    "var_exp = [(i / tot)*100 for i in sorted(eig_vals, reverse=True)]\n",
    "cum_var_exp = numpy.cumsum(var_exp)\n",
    "\n",
    "#Plot variance of each component\n",
    "trace1 = go.Bar(\n",
    "        x=['PC %s' %i for i in range(1,Y.shape[1])],\n",
    "        y=var_exp,\n",
    "        showlegend=False)\n",
    "\n",
    "trace2 = go.Scatter(\n",
    "        x=['PC %s' %i for i in range(1,Y.shape[1])], \n",
    "        y=cum_var_exp,\n",
    "        name='cumulative explained variance')\n",
    "\n",
    "data = go.Data([trace1, trace2])\n",
    "\n",
    "layout = go.Layout(\n",
    "    title='Explained variance by different principal components',  \n",
    "    hovermode=\"closest\",\n",
    "    yaxis=go.YAxis(title='Explained variance in percent'))\n",
    "\n",
    "fig = go.Figure(data=data, layout=layout)\n",
    "po.iplot(fig)"
   ]
  },
  {
   "cell_type": "markdown",
   "metadata": {},
   "source": [
    "From the above plot we can see that 83% of the dataset variance can be retrieved"
   ]
  },
  {
   "cell_type": "markdown",
   "metadata": {},
   "source": [
    "### 5.3 Scatter plot visualization (2 PCs)"
   ]
  },
  {
   "cell_type": "code",
   "execution_count": 18,
   "metadata": {},
   "outputs": [
    {
     "data": {
      "application/vnd.plotly.v1+json": {
       "data": [
        {
         "marker": {
          "line": {
           "color": "rgba(217, 217, 217, 0.14)",
           "width": 0.5
          },
          "opacity": 0.7,
          "size": 12
         },
         "mode": "markers",
         "name": "acer_circinatum",
         "type": "scatter",
         "x": [
          0.23424142416693347,
          -1.5416229693294088,
          -0.7272280008479501,
          -0.1450442121533773,
          -0.3018785989703378,
          0.2506295180198486,
          -0.647867362417682,
          -0.6084738616870953,
          -0.24344210561831484,
          -0.6578488899322299,
          -0.16192111370431178,
          -0.48771859756858077,
          0.1880196877437214,
          -0.40032993397636346,
          0.003216557178066813,
          1.7350264182876032
         ],
         "y": [
          1.7285772126638723,
          2.35885096024923,
          2.05046162091652,
          1.963244965437351,
          2.2236782535366824,
          1.446473092073744,
          2.4763392619973184,
          2.2247390184327274,
          1.6572722259921941,
          1.9404445361355407,
          2.3066661751271824,
          2.251891292314751,
          2.0915999921128354,
          1.9030539439121061,
          2.3428859621636335,
          1.5909244965879024
         ]
        },
        {
         "marker": {
          "line": {
           "color": "rgba(217, 217, 217, 0.14)",
           "width": 0.5
          },
          "opacity": 0.7,
          "size": 12
         },
         "mode": "markers",
         "name": "acer_mono",
         "type": "scatter",
         "x": [
          -2.2815295867078116,
          -2.820573184461651,
          -2.4823094321736527,
          -2.4244097897454973,
          -2.4448331006680046,
          -2.2048532639896514,
          -1.897751519191953,
          -2.5587953273460307,
          -2.371083803366383,
          -2.956763810147109,
          -2.5237375930132067,
          -2.120205352245883,
          -2.0759055804021935,
          -2.290959775930013,
          -2.8308074373429237,
          -1.9617153734137602
         ],
         "y": [
          0.8936878576945942,
          1.9353626625016331,
          0.08705161477932691,
          1.8901419730381632,
          1.1052516339610459,
          1.5063896263591017,
          1.069705210611745,
          1.223059200788804,
          1.1100042512378108,
          0.7683246978295827,
          1.1179911643815368,
          2.3798743382668044,
          2.301513062386791,
          1.6307838943395765,
          0.8106312598596784,
          1.0149406013726228
         ]
        },
        {
         "marker": {
          "line": {
           "color": "rgba(217, 217, 217, 0.14)",
           "width": 0.5
          },
          "opacity": 0.7,
          "size": 12
         },
         "mode": "markers",
         "name": "arundinaria_simonii",
         "type": "scatter",
         "x": [
          -1.5812759460638337,
          -1.2848094074262928,
          -1.5289915728574945,
          -1.2075638848548353,
          -1.3147619363108358,
          -1.3918133967754558,
          -1.3649925489766255,
          -1.4441390922850588,
          -1.3622934614714493,
          -1.311712729915896,
          -1.392816912980954,
          -1.3306856344809352,
          -1.2478980977707166,
          -1.2588676198737625,
          -1.5116018144922103,
          -1.1869652600545664
         ],
         "y": [
          -0.6945961113901493,
          -0.7159514320471128,
          -0.7311861496418874,
          -0.4291474652339926,
          -0.6091304137145995,
          -0.7996684260104121,
          -0.6012578990363475,
          -0.4897490479133666,
          -0.48525805173495506,
          -0.7115572335836949,
          -0.5018485369619289,
          -0.5750363734791295,
          -0.5798249529517409,
          -0.40933018838448954,
          -0.8324579838433982,
          -0.3186231656611528
         ]
        },
        {
         "marker": {
          "line": {
           "color": "rgba(217, 217, 217, 0.14)",
           "width": 0.5
          },
          "opacity": 0.7,
          "size": 12
         },
         "mode": "markers",
         "name": "betula_pendula",
         "type": "scatter",
         "x": [
          -3.8323218162278962,
          -3.5987425345643933,
          -3.4601407417231878,
          -3.7434251234601543,
          -3.7126016688524466,
          -3.6598553171782005,
          -3.374312913977134,
          -4.024611889055162,
          -3.397226250158959,
          -3.6992344124233325,
          -3.711817244943703,
          -3.980374422024323,
          -3.7404179156587025,
          -3.552356768071892,
          -3.41251346700559,
          -3.58952053101375
         ],
         "y": [
          1.7088283760017458,
          1.05784113751,
          0.8100743600073643,
          1.323032267727207,
          1.1745387912352483,
          1.4850373610073286,
          0.9096154437074531,
          1.3232211131182987,
          1.1240018723858374,
          0.4868911897406112,
          1.1021317240560238,
          1.5148797237374518,
          1.8125418620654348,
          0.7157404987851617,
          0.8076024900537531,
          1.9422497011651085
         ]
        },
        {
         "marker": {
          "line": {
           "color": "rgba(217, 217, 217, 0.14)",
           "width": 0.5
          },
          "opacity": 0.7,
          "size": 12
         },
         "mode": "markers",
         "name": "castanea_sativa",
         "type": "scatter",
         "x": [
          2.5023607294234953,
          4.091328380595166,
          5.611688807708838,
          5.333523822236569,
          3.6127455474013437,
          4.680080062919784,
          3.2108813322464336,
          1.2627003133228478,
          3.7223574627603275,
          4.715106353101989,
          1.7301145527411028,
          7.533356848217169,
          1.2144252736319254,
          6.1943416552703345,
          3.172741613891961,
          3.005156954218309
         ],
         "y": [
          -0.3851458803003769,
          -0.7545008202360793,
          -1.509545645268201,
          -0.7712936722239336,
          -0.5965167902277665,
          -0.8063378823245283,
          -1.2225808993114462,
          0.3690010666336622,
          -0.388212459108668,
          -0.25173583671671707,
          -0.33611794591141236,
          -0.6704537727431025,
          -0.29466684226313816,
          -1.1060992665793545,
          -0.11518319264008882,
          -0.19200056247144118
         ]
        },
        {
         "marker": {
          "line": {
           "color": "rgba(217, 217, 217, 0.14)",
           "width": 0.5
          },
          "opacity": 0.7,
          "size": 12
         },
         "mode": "markers",
         "name": "cornus_chinensis",
         "type": "scatter",
         "x": [
          2.033987572945259,
          1.0032739059735016,
          1.55637716056683,
          2.1747052603894006,
          2.12181146951432,
          2.372502268577146,
          2.8790225683276414,
          0.9738112804114761,
          2.6518768854902213,
          1.543692961423427,
          1.5656128757333403,
          1.9732050254323696,
          0.7992541121090623,
          -1.4118254255889229,
          0.6521536040410694,
          2.4704356615393017
         ],
         "y": [
          -1.793827837047143,
          -1.3146718575569216,
          -1.267776637113583,
          -1.5698000412278845,
          -1.4954387357180516,
          -1.8091089716384376,
          -2.4326500186472626,
          -1.2734716519078075,
          -1.3990788055486814,
          -1.2978966681025546,
          -2.0566512450421275,
          -1.6754622289870977,
          -0.8890124908848906,
          -0.33627366237113276,
          -1.0443781414798088,
          -1.582915646031328
         ]
        },
        {
         "marker": {
          "line": {
           "color": "rgba(217, 217, 217, 0.14)",
           "width": 0.5
          },
          "opacity": 0.7,
          "size": 12
         },
         "mode": "markers",
         "name": "ilex_aquifolium",
         "type": "scatter",
         "x": [
          -2.0802444128192934,
          -0.4960679075320167,
          -1.742726541435962,
          -1.1292391082524555,
          0.382739763419284,
          0.20140245613936053,
          -1.6391030053087414,
          -0.9047927943863224,
          0.3395436251696797,
          -0.8091057673133278,
          -1.2150097649996656,
          -0.08984854353049349,
          -0.4665020114172833,
          -1.4265799619376054,
          -0.49940791397971046,
          -0.8744268536974662
         ],
         "y": [
          -0.8849688683065108,
          -0.9374864607414769,
          -0.8812315622982626,
          -0.6748434531939759,
          -1.1029769370369045,
          -1.0189469005010332,
          -0.4404656770090991,
          -0.9817310680918852,
          -1.1198201815051618,
          -0.5266485399699448,
          -0.7831234162698963,
          -1.2134403995063223,
          -1.060466693015698,
          -0.6720718065314744,
          -0.5747490487908786,
          -0.8811613220429205
         ]
        },
        {
         "marker": {
          "line": {
           "color": "rgba(217, 217, 217, 0.14)",
           "width": 0.5
          },
          "opacity": 0.7,
          "size": 12
         },
         "mode": "markers",
         "name": "liriodendron_tulipifera",
         "type": "scatter",
         "x": [
          7.5724920385158025,
          6.748102561351241,
          4.082271128706654,
          5.285568143118289,
          3.404889075993152,
          3.5934149990658675,
          6.364821442252968,
          5.90975415530515,
          6.673338015655701,
          4.6525237549100895,
          8.938948507047247,
          6.9941263940982425,
          6.688544851452589,
          3.519339917862676,
          2.400804637328278,
          4.6924265892687425
         ],
         "y": [
          -2.2730294911066657,
          -2.4159894198225973,
          -1.0719347220652609,
          -2.398492195521122,
          -1.5879042269817205,
          -1.4407000399996004,
          -2.0541137099085574,
          -2.7933861339608375,
          -2.353152297909713,
          -1.5581322978545522,
          -2.8369399890351015,
          -2.10338655263599,
          -2.880299119408924,
          -1.3446564509545047,
          -1.34423647658462,
          -1.3472142003604892
         ]
        },
        {
         "marker": {
          "line": {
           "color": "rgba(217, 217, 217, 0.14)",
           "width": 0.5
          },
          "opacity": 0.7,
          "size": 12
         },
         "mode": "markers",
         "name": "lithocarpus_edulis",
         "type": "scatter",
         "x": [
          -1.101242946553392,
          -1.0757931337158249,
          -0.944295026571798,
          -0.961673313130751,
          -1.0253723718154848,
          -1.1022888193875868,
          -0.9171117110853805,
          -1.0057460240401,
          -0.9842222032405471,
          -0.9666420363641718,
          -1.0705064588376518,
          -0.9602072333979403,
          -0.9795833964706077,
          -1.0106538602445394,
          -1.090571460861825,
          -0.9797791482702318
         ],
         "y": [
          -1.0186044849470908,
          -0.9682636051664174,
          -0.5984638231629098,
          -0.6152915313949883,
          -0.7978595709155587,
          -0.9705595825987671,
          -0.48072507127591685,
          -0.7373523535412831,
          -0.7158936604226128,
          -0.6662714910351688,
          -0.9133018664417865,
          -0.6719265702633854,
          -0.6941274512058981,
          -0.742554811438612,
          -0.9713370463418839,
          -0.6525565645219512
         ]
        },
        {
         "marker": {
          "line": {
           "color": "rgba(217, 217, 217, 0.14)",
           "width": 0.5
          },
          "opacity": 0.7,
          "size": 12
         },
         "mode": "markers",
         "name": "populus_nigra",
         "type": "scatter",
         "x": [
          -1.8158407516377821,
          -1.0290944330664056,
          -1.9179744290053762,
          -0.9260838373490371,
          -0.941402369588915,
          -0.6526444100792933,
          -0.8372740658759065,
          -0.9826815675698719,
          -1.3557822912029633,
          -1.1851392954651183,
          -1.5963691635295483,
          -1.541429294176696,
          -0.9164745044084165,
          -1.876098972504156,
          -1.8505971124495026,
          -0.35055552686947256
         ],
         "y": [
          -0.43252953468471766,
          -1.0144819391815094,
          -0.833864497819477,
          -0.7979215467886126,
          -0.7397983215074572,
          -1.069363911249482,
          -1.1546336754425748,
          -1.036612020355904,
          -0.795217527366058,
          -0.8226607431084175,
          -0.7932841687033712,
          -0.8597867558795826,
          -0.9757960104885199,
          -0.6992906465385772,
          -0.34185830897074226,
          -1.0020571816641644
         ]
        },
        {
         "marker": {
          "line": {
           "color": "rgba(217, 217, 217, 0.14)",
           "width": 0.5
          },
          "opacity": 0.7,
          "size": 12
         },
         "mode": "markers",
         "name": "prunus_x_shmittii",
         "type": "scatter",
         "x": [
          2.7755678159751382,
          0.21566514314318813,
          -1.4989755760033416,
          2.292864886164673,
          -1.750002985622627,
          -1.0057724491764706,
          -0.8470180625874902,
          1.4539022477819434,
          0.32530344038102976,
          1.9017028312320816,
          0.1471294497939168,
          2.205522657062296,
          1.1553011845286565,
          0.10791668721758205,
          0.9163037850054871,
          1.172437269189365
         ],
         "y": [
          -0.8000983157981306,
          -0.3630384110354158,
          0.2925526068476028,
          -1.2507844574195812,
          -0.23625960488430797,
          -0.24473459689353633,
          -0.07081725468850923,
          -0.6906474420972761,
          -0.7360176949708401,
          -1.0542789127640726,
          -0.9919776083936405,
          -0.9891523542119008,
          -0.4730987333842302,
          -0.9842214981394053,
          -0.6054977720483831,
          -0.734673030843242
         ]
        },
        {
         "marker": {
          "line": {
           "color": "rgba(217, 217, 217, 0.14)",
           "width": 0.5
          },
          "opacity": 0.7,
          "size": 12
         },
         "mode": "markers",
         "name": "quercus_canariensis",
         "type": "scatter",
         "x": [
          0.2743336894683156,
          -0.9566236217953245,
          -0.7177140827800289,
          -1.334698708206439,
          -0.7329585353329812,
          -0.014106829946522265,
          -1.590942912605407,
          -0.9259416263879168,
          -1.4566222256027985,
          -0.3958861153265282,
          -0.49083463349014395,
          -0.6773080268858214,
          -0.10601241460521717,
          0.9066630015855898,
          -0.4716578968381216,
          -1.9364547612639664
         ],
         "y": [
          -0.850813503577468,
          -0.44989023478558804,
          -0.8692706748328474,
          -0.24361168448876935,
          -1.0856390472162396,
          -1.1755530866253516,
          -0.29104962106248966,
          -0.36272923241577987,
          -0.5609791178515007,
          -0.39943025527946974,
          -0.5807622402456921,
          -0.4785252464111619,
          -0.7369306327070462,
          -1.3232154790392008,
          -0.5278770902754705,
          -0.11590548194275122
         ]
        },
        {
         "marker": {
          "line": {
           "color": "rgba(217, 217, 217, 0.14)",
           "width": 0.5
          },
          "opacity": 0.7,
          "size": 12
         },
         "mode": "markers",
         "name": "quercus_chrysolepis",
         "type": "scatter",
         "x": [
          -1.1379416772191555,
          -1.1965097348043778,
          -1.1745060129204892,
          -1.2409583297455218,
          -1.2774359860026288,
          -1.2549469098079762,
          -1.2013930539476754,
          -1.0901410604060646,
          -1.1152048185902002,
          -1.149653634565023,
          -1.2879664459038054,
          -1.1791372078395754,
          -1.2177364829731503,
          -1.1956519815333884,
          -1.1594446479122542,
          -1.217304795178991
         ],
         "y": [
          -0.948553406058106,
          -1.1087591280727966,
          -1.091219381599438,
          -1.2598441854055662,
          -1.3928311144540637,
          -1.2544652700681622,
          -1.09112718886013,
          -0.82294730421431,
          -0.898974498967497,
          -1.0772119284304804,
          -1.3371851516876425,
          -1.0337312949480435,
          -1.1904322758263044,
          -1.1114242600271127,
          -1.07510775942292,
          -1.1580045548763256
         ]
        },
        {
         "marker": {
          "line": {
           "color": "rgba(217, 217, 217, 0.14)",
           "width": 0.5
          },
          "opacity": 0.7,
          "size": 12
         },
         "mode": "markers",
         "name": "quercus_infectoria_sub",
         "type": "scatter",
         "x": [
          -2.3948087892133474,
          -2.2488175002924327,
          -2.1753613229807685,
          -1.213088015235776,
          -2.812368148237647,
          -2.146484801805155,
          -2.1261871427043912,
          -1.750806149942115,
          -1.3789429187833162,
          -2.1668939390911115,
          -1.205488805997798,
          -2.169420849161949,
          -1.6542142360265608,
          -1.690278382851731,
          -1.0990707522623082,
          -0.11071615916458202
         ],
         "y": [
          0.18184552818544128,
          -0.3290828997209256,
          -0.05443111551693419,
          -0.34716489500895603,
          -0.1469130362945956,
          -0.2867609771238795,
          -0.6397725247454626,
          -0.3734341490452729,
          -0.3887742852457431,
          -0.4616136714738548,
          -0.7564288432061634,
          -0.1977186467100304,
          -0.5808043017571645,
          -0.5816232155465588,
          -0.9349817185736345,
          -0.7634421438596853
         ]
        },
        {
         "marker": {
          "line": {
           "color": "rgba(217, 217, 217, 0.14)",
           "width": 0.5
          },
          "opacity": 0.7,
          "size": 12
         },
         "mode": "markers",
         "name": "quercus_nigra",
         "type": "scatter",
         "x": [
          2.8464504154960824,
          3.093739594501347,
          1.1678943399159258,
          3.094833595671853,
          4.068417649170417,
          4.013649746386441,
          1.495042246604931,
          2.57942438443309,
          -0.03936929618030197,
          0.8557547430935531,
          2.1700224228698977,
          2.622331669483712,
          1.4554890019086226,
          1.6153202501740447,
          3.7590253277119876,
          3.006727877767183
         ],
         "y": [
          -0.1688846979349357,
          1.4918680876797423,
          -0.030115327210708007,
          -1.1488334775249243,
          -1.0252917952017961,
          -0.6412403754340434,
          0.1277548862825732,
          -0.3474270506364926,
          0.8180442453236064,
          0.25690513318464847,
          0.07762384912856433,
          -0.26986992026175416,
          -1.2106671669045987,
          -0.3428527945001967,
          -1.435559050334118,
          -1.6719995930085267
         ]
        },
        {
         "marker": {
          "line": {
           "color": "rgba(217, 217, 217, 0.14)",
           "width": 0.5
          },
          "opacity": 0.7,
          "size": 12
         },
         "mode": "markers",
         "name": "quercus_palustris",
         "type": "scatter",
         "x": [
          3.655097969117916,
          1.7183909789172973,
          3.3095168535688693,
          3.6747511403892346,
          2.476302676383113,
          4.6502293639970125,
          2.5046401698833582,
          2.6942716254415715,
          3.092879825943321,
          1.3543992843946682,
          0.4205035611955406,
          3.346817390997822,
          0.5922532221653112,
          1.8846776149533788,
          2.6680348627619654,
          0.9568469067181977
         ],
         "y": [
          4.389424792562267,
          4.690753354185382,
          4.573033744127733,
          4.733763235644914,
          5.66922285028875,
          5.70448056236421,
          4.05444055377476,
          4.447186991590821,
          5.343639979621989,
          5.873578616226061,
          4.744079741864068,
          4.125958086459335,
          4.34642054147903,
          4.525365805532905,
          4.119680723066309,
          5.323599452658536
         ]
        },
        {
         "marker": {
          "line": {
           "color": "rgba(217, 217, 217, 0.14)",
           "width": 0.5
          },
          "opacity": 0.7,
          "size": 12
         },
         "mode": "markers",
         "name": "quercus_pontica",
         "type": "scatter",
         "x": [
          -0.9368106672799644,
          -0.9695069652029791,
          -0.8653710634870784,
          -1.1471217780317635,
          -0.9321798342315918,
          -0.9564906165028502,
          -0.8665913847490059,
          -1.1357543296092236,
          -1.0562746162423866,
          -1.071695855696892,
          -1.0193713969836566,
          -1.0308802271096855,
          -1.03873581397796,
          -0.9244974623875261,
          -0.9934161994899958,
          -0.9573574769948225
         ],
         "y": [
          -0.41267833523059805,
          -0.48151506358434387,
          -0.16951631466112074,
          -0.9495669296589384,
          -0.23774077067226757,
          -0.4401821425175244,
          -0.04558467562502254,
          -0.8664568082250194,
          -0.8419079536717542,
          -0.5762513085262859,
          -0.6808129929080793,
          -0.39836685784889964,
          -0.6419791313569924,
          -0.31614579441323304,
          -0.46528214426345804,
          -0.46451562195625473
         ]
        },
        {
         "marker": {
          "line": {
           "color": "rgba(217, 217, 217, 0.14)",
           "width": 0.5
          },
          "opacity": 0.7,
          "size": 12
         },
         "mode": "markers",
         "name": "quercus_texana",
         "type": "scatter",
         "x": [
          2.4071891473352336,
          3.717265223648295,
          1.314011737857564,
          1.1532041667403827,
          0.800102819503161,
          3.423185438319137,
          2.661148741464302,
          3.0771922299496013,
          4.658820076148869,
          4.0297594840500714,
          1.995045424086796,
          2.3924645919693392,
          2.490209181923418,
          1.0137772697668277,
          3.02287710776595,
          3.509234982918726
         ],
         "y": [
          2.9483318923470367,
          2.589740634611606,
          2.5986363118004037,
          2.6605860434649466,
          2.330460809196175,
          2.367335782729771,
          2.5394661641435494,
          2.3764334583044873,
          2.941465643654461,
          2.1901151766612066,
          2.7914821145666635,
          2.681274271053288,
          2.410407704064337,
          2.593003309963432,
          2.9605097217075445,
          2.21828745882854
         ]
        },
        {
         "marker": {
          "line": {
           "color": "rgba(217, 217, 217, 0.14)",
           "width": 0.5
          },
          "opacity": 0.7,
          "size": 12
         },
         "mode": "markers",
         "name": "quercus_x_turneri",
         "type": "scatter",
         "x": [
          -0.7497586291302464,
          -0.8060405643165962,
          -0.8188682682286088,
          -0.7065802357100175,
          -0.9621154208509058,
          -0.9869012443230538,
          -0.8083447109196426,
          -0.9713687407137818,
          -0.9927331102627182,
          -0.912920172018929,
          -0.9257435180585876,
          -0.7741611488162646,
          -1.0717588278755028,
          -0.930432508952402,
          -0.8275426151232271,
          -0.799996315053021
         ],
         "y": [
          0.15149795794759008,
          0.02482273406707894,
          0.06014895933133548,
          0.24450400624205726,
          -0.5680261630857223,
          -0.5557774727682468,
          -0.15463216856732426,
          -0.42039828667687956,
          -0.5154882400189108,
          -0.2790631867845639,
          -0.46583655656511674,
          0.0019013018174921371,
          -0.7039866942718678,
          -0.27656535378297664,
          0.007804731146041154,
          -0.077938579750706
         ]
        },
        {
         "marker": {
          "line": {
           "color": "rgba(217, 217, 217, 0.14)",
           "width": 0.5
          },
          "opacity": 0.7,
          "size": 12
         },
         "mode": "markers",
         "name": "salix_intergra",
         "type": "scatter",
         "x": [
          -2.5973748249674484,
          -2.585217482352254,
          -3.2989079596449193,
          -2.716757197151162,
          -3.341026240698979,
          -3.093606664901206,
          -2.202978376668556,
          -3.070669881740662,
          -2.665862339942462,
          -2.624201215566111,
          -2.6604502629648947,
          -2.505484224917815,
          -2.818841024895552,
          -2.6931169717197863,
          -2.427909368597682,
          -2.826866109168052
         ],
         "y": [
          -1.1682010221512695,
          -1.1819475694564527,
          -0.5227374118114786,
          -0.8348200826746621,
          -0.743392665481335,
          -0.8369803456253782,
          -1.154276637052371,
          -1.2203862375983485,
          -1.029481605579497,
          -1.1876670099625293,
          -1.2325875993197295,
          -1.0544741073195998,
          -0.9700755153708674,
          -0.8153543302465661,
          -1.263057926601257,
          -0.9164668154914632
         ]
        }
       ],
       "layout": {
        "hovermode": "closest",
        "showlegend": false,
        "title": "Leaf Species",
        "xaxis": {
         "gridwidth": 2,
         "ticklen": 5,
         "title": "Principal Component 1",
         "zeroline": false
        },
        "yaxis": {
         "gridwidth": 2,
         "ticklen": 5,
         "title": "Principal Component 2"
        }
       }
      },
      "text/html": [
       "<div id=\"546b42f2-40d2-4edf-b163-449f0fa2c82f\" style=\"height: 525px; width: 100%;\" class=\"plotly-graph-div\"></div><script type=\"text/javascript\">require([\"plotly\"], function(Plotly) { window.PLOTLYENV=window.PLOTLYENV || {};window.PLOTLYENV.BASE_URL=\"https://plot.ly\";Plotly.newPlot(\"546b42f2-40d2-4edf-b163-449f0fa2c82f\", [{\"marker\": {\"size\": 12, \"line\": {\"width\": 0.5, \"color\": \"rgba(217, 217, 217, 0.14)\"}, \"opacity\": 0.7}, \"mode\": \"markers\", \"name\": \"acer_circinatum\", \"x\": [0.23424142416693347, -1.5416229693294088, -0.7272280008479501, -0.1450442121533773, -0.3018785989703378, 0.2506295180198486, -0.647867362417682, -0.6084738616870953, -0.24344210561831484, -0.6578488899322299, -0.16192111370431178, -0.48771859756858077, 0.1880196877437214, -0.40032993397636346, 0.003216557178066813, 1.7350264182876032], \"type\": \"scatter\", \"y\": [1.7285772126638723, 2.35885096024923, 2.05046162091652, 1.963244965437351, 2.2236782535366824, 1.446473092073744, 2.4763392619973184, 2.2247390184327274, 1.6572722259921941, 1.9404445361355407, 2.3066661751271824, 2.251891292314751, 2.0915999921128354, 1.9030539439121061, 2.3428859621636335, 1.5909244965879024]}, {\"marker\": {\"size\": 12, \"line\": {\"width\": 0.5, \"color\": \"rgba(217, 217, 217, 0.14)\"}, \"opacity\": 0.7}, \"mode\": \"markers\", \"name\": \"acer_mono\", \"x\": [-2.2815295867078116, -2.820573184461651, -2.4823094321736527, -2.4244097897454973, -2.4448331006680046, -2.2048532639896514, -1.897751519191953, -2.5587953273460307, -2.371083803366383, -2.956763810147109, -2.5237375930132067, -2.120205352245883, -2.0759055804021935, -2.290959775930013, -2.8308074373429237, -1.9617153734137602], \"type\": \"scatter\", \"y\": [0.8936878576945942, 1.9353626625016331, 0.08705161477932691, 1.8901419730381632, 1.1052516339610459, 1.5063896263591017, 1.069705210611745, 1.223059200788804, 1.1100042512378108, 0.7683246978295827, 1.1179911643815368, 2.3798743382668044, 2.301513062386791, 1.6307838943395765, 0.8106312598596784, 1.0149406013726228]}, {\"marker\": {\"size\": 12, \"line\": {\"width\": 0.5, \"color\": \"rgba(217, 217, 217, 0.14)\"}, \"opacity\": 0.7}, \"mode\": \"markers\", \"name\": \"arundinaria_simonii\", \"x\": [-1.5812759460638337, -1.2848094074262928, -1.5289915728574945, -1.2075638848548353, -1.3147619363108358, -1.3918133967754558, -1.3649925489766255, -1.4441390922850588, -1.3622934614714493, -1.311712729915896, -1.392816912980954, -1.3306856344809352, -1.2478980977707166, -1.2588676198737625, -1.5116018144922103, -1.1869652600545664], \"type\": \"scatter\", \"y\": [-0.6945961113901493, -0.7159514320471128, -0.7311861496418874, -0.4291474652339926, -0.6091304137145995, -0.7996684260104121, -0.6012578990363475, -0.4897490479133666, -0.48525805173495506, -0.7115572335836949, -0.5018485369619289, -0.5750363734791295, -0.5798249529517409, -0.40933018838448954, -0.8324579838433982, -0.3186231656611528]}, {\"marker\": {\"size\": 12, \"line\": {\"width\": 0.5, \"color\": \"rgba(217, 217, 217, 0.14)\"}, \"opacity\": 0.7}, \"mode\": \"markers\", \"name\": \"betula_pendula\", \"x\": [-3.8323218162278962, -3.5987425345643933, -3.4601407417231878, -3.7434251234601543, -3.7126016688524466, -3.6598553171782005, -3.374312913977134, -4.024611889055162, -3.397226250158959, -3.6992344124233325, -3.711817244943703, -3.980374422024323, -3.7404179156587025, -3.552356768071892, -3.41251346700559, -3.58952053101375], \"type\": \"scatter\", \"y\": [1.7088283760017458, 1.05784113751, 0.8100743600073643, 1.323032267727207, 1.1745387912352483, 1.4850373610073286, 0.9096154437074531, 1.3232211131182987, 1.1240018723858374, 0.4868911897406112, 1.1021317240560238, 1.5148797237374518, 1.8125418620654348, 0.7157404987851617, 0.8076024900537531, 1.9422497011651085]}, {\"marker\": {\"size\": 12, \"line\": {\"width\": 0.5, \"color\": \"rgba(217, 217, 217, 0.14)\"}, \"opacity\": 0.7}, \"mode\": \"markers\", \"name\": \"castanea_sativa\", \"x\": [2.5023607294234953, 4.091328380595166, 5.611688807708838, 5.333523822236569, 3.6127455474013437, 4.680080062919784, 3.2108813322464336, 1.2627003133228478, 3.7223574627603275, 4.715106353101989, 1.7301145527411028, 7.533356848217169, 1.2144252736319254, 6.1943416552703345, 3.172741613891961, 3.005156954218309], \"type\": \"scatter\", \"y\": [-0.3851458803003769, -0.7545008202360793, -1.509545645268201, -0.7712936722239336, -0.5965167902277665, -0.8063378823245283, -1.2225808993114462, 0.3690010666336622, -0.388212459108668, -0.25173583671671707, -0.33611794591141236, -0.6704537727431025, -0.29466684226313816, -1.1060992665793545, -0.11518319264008882, -0.19200056247144118]}, {\"marker\": {\"size\": 12, \"line\": {\"width\": 0.5, \"color\": \"rgba(217, 217, 217, 0.14)\"}, \"opacity\": 0.7}, \"mode\": \"markers\", \"name\": \"cornus_chinensis\", \"x\": [2.033987572945259, 1.0032739059735016, 1.55637716056683, 2.1747052603894006, 2.12181146951432, 2.372502268577146, 2.8790225683276414, 0.9738112804114761, 2.6518768854902213, 1.543692961423427, 1.5656128757333403, 1.9732050254323696, 0.7992541121090623, -1.4118254255889229, 0.6521536040410694, 2.4704356615393017], \"type\": \"scatter\", \"y\": [-1.793827837047143, -1.3146718575569216, -1.267776637113583, -1.5698000412278845, -1.4954387357180516, -1.8091089716384376, -2.4326500186472626, -1.2734716519078075, -1.3990788055486814, -1.2978966681025546, -2.0566512450421275, -1.6754622289870977, -0.8890124908848906, -0.33627366237113276, -1.0443781414798088, -1.582915646031328]}, {\"marker\": {\"size\": 12, \"line\": {\"width\": 0.5, \"color\": \"rgba(217, 217, 217, 0.14)\"}, \"opacity\": 0.7}, \"mode\": \"markers\", \"name\": \"ilex_aquifolium\", \"x\": [-2.0802444128192934, -0.4960679075320167, -1.742726541435962, -1.1292391082524555, 0.382739763419284, 0.20140245613936053, -1.6391030053087414, -0.9047927943863224, 0.3395436251696797, -0.8091057673133278, -1.2150097649996656, -0.08984854353049349, -0.4665020114172833, -1.4265799619376054, -0.49940791397971046, -0.8744268536974662], \"type\": \"scatter\", \"y\": [-0.8849688683065108, -0.9374864607414769, -0.8812315622982626, -0.6748434531939759, -1.1029769370369045, -1.0189469005010332, -0.4404656770090991, -0.9817310680918852, -1.1198201815051618, -0.5266485399699448, -0.7831234162698963, -1.2134403995063223, -1.060466693015698, -0.6720718065314744, -0.5747490487908786, -0.8811613220429205]}, {\"marker\": {\"size\": 12, \"line\": {\"width\": 0.5, \"color\": \"rgba(217, 217, 217, 0.14)\"}, \"opacity\": 0.7}, \"mode\": \"markers\", \"name\": \"liriodendron_tulipifera\", \"x\": [7.5724920385158025, 6.748102561351241, 4.082271128706654, 5.285568143118289, 3.404889075993152, 3.5934149990658675, 6.364821442252968, 5.90975415530515, 6.673338015655701, 4.6525237549100895, 8.938948507047247, 6.9941263940982425, 6.688544851452589, 3.519339917862676, 2.400804637328278, 4.6924265892687425], \"type\": \"scatter\", \"y\": [-2.2730294911066657, -2.4159894198225973, -1.0719347220652609, -2.398492195521122, -1.5879042269817205, -1.4407000399996004, -2.0541137099085574, -2.7933861339608375, -2.353152297909713, -1.5581322978545522, -2.8369399890351015, -2.10338655263599, -2.880299119408924, -1.3446564509545047, -1.34423647658462, -1.3472142003604892]}, {\"marker\": {\"size\": 12, \"line\": {\"width\": 0.5, \"color\": \"rgba(217, 217, 217, 0.14)\"}, \"opacity\": 0.7}, \"mode\": \"markers\", \"name\": \"lithocarpus_edulis\", \"x\": [-1.101242946553392, -1.0757931337158249, -0.944295026571798, -0.961673313130751, -1.0253723718154848, -1.1022888193875868, -0.9171117110853805, -1.0057460240401, -0.9842222032405471, -0.9666420363641718, -1.0705064588376518, -0.9602072333979403, -0.9795833964706077, -1.0106538602445394, -1.090571460861825, -0.9797791482702318], \"type\": \"scatter\", \"y\": [-1.0186044849470908, -0.9682636051664174, -0.5984638231629098, -0.6152915313949883, -0.7978595709155587, -0.9705595825987671, -0.48072507127591685, -0.7373523535412831, -0.7158936604226128, -0.6662714910351688, -0.9133018664417865, -0.6719265702633854, -0.6941274512058981, -0.742554811438612, -0.9713370463418839, -0.6525565645219512]}, {\"marker\": {\"size\": 12, \"line\": {\"width\": 0.5, \"color\": \"rgba(217, 217, 217, 0.14)\"}, \"opacity\": 0.7}, \"mode\": \"markers\", \"name\": \"populus_nigra\", \"x\": [-1.8158407516377821, -1.0290944330664056, -1.9179744290053762, -0.9260838373490371, -0.941402369588915, -0.6526444100792933, -0.8372740658759065, -0.9826815675698719, -1.3557822912029633, -1.1851392954651183, -1.5963691635295483, -1.541429294176696, -0.9164745044084165, -1.876098972504156, -1.8505971124495026, -0.35055552686947256], \"type\": \"scatter\", \"y\": [-0.43252953468471766, -1.0144819391815094, -0.833864497819477, -0.7979215467886126, -0.7397983215074572, -1.069363911249482, -1.1546336754425748, -1.036612020355904, -0.795217527366058, -0.8226607431084175, -0.7932841687033712, -0.8597867558795826, -0.9757960104885199, -0.6992906465385772, -0.34185830897074226, -1.0020571816641644]}, {\"marker\": {\"size\": 12, \"line\": {\"width\": 0.5, \"color\": \"rgba(217, 217, 217, 0.14)\"}, \"opacity\": 0.7}, \"mode\": \"markers\", \"name\": \"prunus_x_shmittii\", \"x\": [2.7755678159751382, 0.21566514314318813, -1.4989755760033416, 2.292864886164673, -1.750002985622627, -1.0057724491764706, -0.8470180625874902, 1.4539022477819434, 0.32530344038102976, 1.9017028312320816, 0.1471294497939168, 2.205522657062296, 1.1553011845286565, 0.10791668721758205, 0.9163037850054871, 1.172437269189365], \"type\": \"scatter\", \"y\": [-0.8000983157981306, -0.3630384110354158, 0.2925526068476028, -1.2507844574195812, -0.23625960488430797, -0.24473459689353633, -0.07081725468850923, -0.6906474420972761, -0.7360176949708401, -1.0542789127640726, -0.9919776083936405, -0.9891523542119008, -0.4730987333842302, -0.9842214981394053, -0.6054977720483831, -0.734673030843242]}, {\"marker\": {\"size\": 12, \"line\": {\"width\": 0.5, \"color\": \"rgba(217, 217, 217, 0.14)\"}, \"opacity\": 0.7}, \"mode\": \"markers\", \"name\": \"quercus_canariensis\", \"x\": [0.2743336894683156, -0.9566236217953245, -0.7177140827800289, -1.334698708206439, -0.7329585353329812, -0.014106829946522265, -1.590942912605407, -0.9259416263879168, -1.4566222256027985, -0.3958861153265282, -0.49083463349014395, -0.6773080268858214, -0.10601241460521717, 0.9066630015855898, -0.4716578968381216, -1.9364547612639664], \"type\": \"scatter\", \"y\": [-0.850813503577468, -0.44989023478558804, -0.8692706748328474, -0.24361168448876935, -1.0856390472162396, -1.1755530866253516, -0.29104962106248966, -0.36272923241577987, -0.5609791178515007, -0.39943025527946974, -0.5807622402456921, -0.4785252464111619, -0.7369306327070462, -1.3232154790392008, -0.5278770902754705, -0.11590548194275122]}, {\"marker\": {\"size\": 12, \"line\": {\"width\": 0.5, \"color\": \"rgba(217, 217, 217, 0.14)\"}, \"opacity\": 0.7}, \"mode\": \"markers\", \"name\": \"quercus_chrysolepis\", \"x\": [-1.1379416772191555, -1.1965097348043778, -1.1745060129204892, -1.2409583297455218, -1.2774359860026288, -1.2549469098079762, -1.2013930539476754, -1.0901410604060646, -1.1152048185902002, -1.149653634565023, -1.2879664459038054, -1.1791372078395754, -1.2177364829731503, -1.1956519815333884, -1.1594446479122542, -1.217304795178991], \"type\": \"scatter\", \"y\": [-0.948553406058106, -1.1087591280727966, -1.091219381599438, -1.2598441854055662, -1.3928311144540637, -1.2544652700681622, -1.09112718886013, -0.82294730421431, -0.898974498967497, -1.0772119284304804, -1.3371851516876425, -1.0337312949480435, -1.1904322758263044, -1.1114242600271127, -1.07510775942292, -1.1580045548763256]}, {\"marker\": {\"size\": 12, \"line\": {\"width\": 0.5, \"color\": \"rgba(217, 217, 217, 0.14)\"}, \"opacity\": 0.7}, \"mode\": \"markers\", \"name\": \"quercus_infectoria_sub\", \"x\": [-2.3948087892133474, -2.2488175002924327, -2.1753613229807685, -1.213088015235776, -2.812368148237647, -2.146484801805155, -2.1261871427043912, -1.750806149942115, -1.3789429187833162, -2.1668939390911115, -1.205488805997798, -2.169420849161949, -1.6542142360265608, -1.690278382851731, -1.0990707522623082, -0.11071615916458202], \"type\": \"scatter\", \"y\": [0.18184552818544128, -0.3290828997209256, -0.05443111551693419, -0.34716489500895603, -0.1469130362945956, -0.2867609771238795, -0.6397725247454626, -0.3734341490452729, -0.3887742852457431, -0.4616136714738548, -0.7564288432061634, -0.1977186467100304, -0.5808043017571645, -0.5816232155465588, -0.9349817185736345, -0.7634421438596853]}, {\"marker\": {\"size\": 12, \"line\": {\"width\": 0.5, \"color\": \"rgba(217, 217, 217, 0.14)\"}, \"opacity\": 0.7}, \"mode\": \"markers\", \"name\": \"quercus_nigra\", \"x\": [2.8464504154960824, 3.093739594501347, 1.1678943399159258, 3.094833595671853, 4.068417649170417, 4.013649746386441, 1.495042246604931, 2.57942438443309, -0.03936929618030197, 0.8557547430935531, 2.1700224228698977, 2.622331669483712, 1.4554890019086226, 1.6153202501740447, 3.7590253277119876, 3.006727877767183], \"type\": \"scatter\", \"y\": [-0.1688846979349357, 1.4918680876797423, -0.030115327210708007, -1.1488334775249243, -1.0252917952017961, -0.6412403754340434, 0.1277548862825732, -0.3474270506364926, 0.8180442453236064, 0.25690513318464847, 0.07762384912856433, -0.26986992026175416, -1.2106671669045987, -0.3428527945001967, -1.435559050334118, -1.6719995930085267]}, {\"marker\": {\"size\": 12, \"line\": {\"width\": 0.5, \"color\": \"rgba(217, 217, 217, 0.14)\"}, \"opacity\": 0.7}, \"mode\": \"markers\", \"name\": \"quercus_palustris\", \"x\": [3.655097969117916, 1.7183909789172973, 3.3095168535688693, 3.6747511403892346, 2.476302676383113, 4.6502293639970125, 2.5046401698833582, 2.6942716254415715, 3.092879825943321, 1.3543992843946682, 0.4205035611955406, 3.346817390997822, 0.5922532221653112, 1.8846776149533788, 2.6680348627619654, 0.9568469067181977], \"type\": \"scatter\", \"y\": [4.389424792562267, 4.690753354185382, 4.573033744127733, 4.733763235644914, 5.66922285028875, 5.70448056236421, 4.05444055377476, 4.447186991590821, 5.343639979621989, 5.873578616226061, 4.744079741864068, 4.125958086459335, 4.34642054147903, 4.525365805532905, 4.119680723066309, 5.323599452658536]}, {\"marker\": {\"size\": 12, \"line\": {\"width\": 0.5, \"color\": \"rgba(217, 217, 217, 0.14)\"}, \"opacity\": 0.7}, \"mode\": \"markers\", \"name\": \"quercus_pontica\", \"x\": [-0.9368106672799644, -0.9695069652029791, -0.8653710634870784, -1.1471217780317635, -0.9321798342315918, -0.9564906165028502, -0.8665913847490059, -1.1357543296092236, -1.0562746162423866, -1.071695855696892, -1.0193713969836566, -1.0308802271096855, -1.03873581397796, -0.9244974623875261, -0.9934161994899958, -0.9573574769948225], \"type\": \"scatter\", \"y\": [-0.41267833523059805, -0.48151506358434387, -0.16951631466112074, -0.9495669296589384, -0.23774077067226757, -0.4401821425175244, -0.04558467562502254, -0.8664568082250194, -0.8419079536717542, -0.5762513085262859, -0.6808129929080793, -0.39836685784889964, -0.6419791313569924, -0.31614579441323304, -0.46528214426345804, -0.46451562195625473]}, {\"marker\": {\"size\": 12, \"line\": {\"width\": 0.5, \"color\": \"rgba(217, 217, 217, 0.14)\"}, \"opacity\": 0.7}, \"mode\": \"markers\", \"name\": \"quercus_texana\", \"x\": [2.4071891473352336, 3.717265223648295, 1.314011737857564, 1.1532041667403827, 0.800102819503161, 3.423185438319137, 2.661148741464302, 3.0771922299496013, 4.658820076148869, 4.0297594840500714, 1.995045424086796, 2.3924645919693392, 2.490209181923418, 1.0137772697668277, 3.02287710776595, 3.509234982918726], \"type\": \"scatter\", \"y\": [2.9483318923470367, 2.589740634611606, 2.5986363118004037, 2.6605860434649466, 2.330460809196175, 2.367335782729771, 2.5394661641435494, 2.3764334583044873, 2.941465643654461, 2.1901151766612066, 2.7914821145666635, 2.681274271053288, 2.410407704064337, 2.593003309963432, 2.9605097217075445, 2.21828745882854]}, {\"marker\": {\"size\": 12, \"line\": {\"width\": 0.5, \"color\": \"rgba(217, 217, 217, 0.14)\"}, \"opacity\": 0.7}, \"mode\": \"markers\", \"name\": \"quercus_x_turneri\", \"x\": [-0.7497586291302464, -0.8060405643165962, -0.8188682682286088, -0.7065802357100175, -0.9621154208509058, -0.9869012443230538, -0.8083447109196426, -0.9713687407137818, -0.9927331102627182, -0.912920172018929, -0.9257435180585876, -0.7741611488162646, -1.0717588278755028, -0.930432508952402, -0.8275426151232271, -0.799996315053021], \"type\": \"scatter\", \"y\": [0.15149795794759008, 0.02482273406707894, 0.06014895933133548, 0.24450400624205726, -0.5680261630857223, -0.5557774727682468, -0.15463216856732426, -0.42039828667687956, -0.5154882400189108, -0.2790631867845639, -0.46583655656511674, 0.0019013018174921371, -0.7039866942718678, -0.27656535378297664, 0.007804731146041154, -0.077938579750706]}, {\"marker\": {\"size\": 12, \"line\": {\"width\": 0.5, \"color\": \"rgba(217, 217, 217, 0.14)\"}, \"opacity\": 0.7}, \"mode\": \"markers\", \"name\": \"salix_intergra\", \"x\": [-2.5973748249674484, -2.585217482352254, -3.2989079596449193, -2.716757197151162, -3.341026240698979, -3.093606664901206, -2.202978376668556, -3.070669881740662, -2.665862339942462, -2.624201215566111, -2.6604502629648947, -2.505484224917815, -2.818841024895552, -2.6931169717197863, -2.427909368597682, -2.826866109168052], \"type\": \"scatter\", \"y\": [-1.1682010221512695, -1.1819475694564527, -0.5227374118114786, -0.8348200826746621, -0.743392665481335, -0.8369803456253782, -1.154276637052371, -1.2203862375983485, -1.029481605579497, -1.1876670099625293, -1.2325875993197295, -1.0544741073195998, -0.9700755153708674, -0.8153543302465661, -1.263057926601257, -0.9164668154914632]}], {\"xaxis\": {\"title\": \"Principal Component 1\", \"ticklen\": 5, \"zeroline\": false, \"gridwidth\": 2}, \"title\": \"Leaf Species\", \"hovermode\": \"closest\", \"yaxis\": {\"title\": \"Principal Component 2\", \"ticklen\": 5, \"gridwidth\": 2}, \"showlegend\": false}, {\"linkText\": \"Export to plot.ly\", \"showLink\": true})});</script>"
      ],
      "text/vnd.plotly.v1+html": [
       "<div id=\"546b42f2-40d2-4edf-b163-449f0fa2c82f\" style=\"height: 525px; width: 100%;\" class=\"plotly-graph-div\"></div><script type=\"text/javascript\">require([\"plotly\"], function(Plotly) { window.PLOTLYENV=window.PLOTLYENV || {};window.PLOTLYENV.BASE_URL=\"https://plot.ly\";Plotly.newPlot(\"546b42f2-40d2-4edf-b163-449f0fa2c82f\", [{\"marker\": {\"size\": 12, \"line\": {\"width\": 0.5, \"color\": \"rgba(217, 217, 217, 0.14)\"}, \"opacity\": 0.7}, \"mode\": \"markers\", \"name\": \"acer_circinatum\", \"x\": [0.23424142416693347, -1.5416229693294088, -0.7272280008479501, -0.1450442121533773, -0.3018785989703378, 0.2506295180198486, -0.647867362417682, -0.6084738616870953, -0.24344210561831484, -0.6578488899322299, -0.16192111370431178, -0.48771859756858077, 0.1880196877437214, -0.40032993397636346, 0.003216557178066813, 1.7350264182876032], \"type\": \"scatter\", \"y\": [1.7285772126638723, 2.35885096024923, 2.05046162091652, 1.963244965437351, 2.2236782535366824, 1.446473092073744, 2.4763392619973184, 2.2247390184327274, 1.6572722259921941, 1.9404445361355407, 2.3066661751271824, 2.251891292314751, 2.0915999921128354, 1.9030539439121061, 2.3428859621636335, 1.5909244965879024]}, {\"marker\": {\"size\": 12, \"line\": {\"width\": 0.5, \"color\": \"rgba(217, 217, 217, 0.14)\"}, \"opacity\": 0.7}, \"mode\": \"markers\", \"name\": \"acer_mono\", \"x\": [-2.2815295867078116, -2.820573184461651, -2.4823094321736527, -2.4244097897454973, -2.4448331006680046, -2.2048532639896514, -1.897751519191953, -2.5587953273460307, -2.371083803366383, -2.956763810147109, -2.5237375930132067, -2.120205352245883, -2.0759055804021935, -2.290959775930013, -2.8308074373429237, -1.9617153734137602], \"type\": \"scatter\", \"y\": [0.8936878576945942, 1.9353626625016331, 0.08705161477932691, 1.8901419730381632, 1.1052516339610459, 1.5063896263591017, 1.069705210611745, 1.223059200788804, 1.1100042512378108, 0.7683246978295827, 1.1179911643815368, 2.3798743382668044, 2.301513062386791, 1.6307838943395765, 0.8106312598596784, 1.0149406013726228]}, {\"marker\": {\"size\": 12, \"line\": {\"width\": 0.5, \"color\": \"rgba(217, 217, 217, 0.14)\"}, \"opacity\": 0.7}, \"mode\": \"markers\", \"name\": \"arundinaria_simonii\", \"x\": [-1.5812759460638337, -1.2848094074262928, -1.5289915728574945, -1.2075638848548353, -1.3147619363108358, -1.3918133967754558, -1.3649925489766255, -1.4441390922850588, -1.3622934614714493, -1.311712729915896, -1.392816912980954, -1.3306856344809352, -1.2478980977707166, -1.2588676198737625, -1.5116018144922103, -1.1869652600545664], \"type\": \"scatter\", \"y\": [-0.6945961113901493, -0.7159514320471128, -0.7311861496418874, -0.4291474652339926, -0.6091304137145995, -0.7996684260104121, -0.6012578990363475, -0.4897490479133666, -0.48525805173495506, -0.7115572335836949, -0.5018485369619289, -0.5750363734791295, -0.5798249529517409, -0.40933018838448954, -0.8324579838433982, -0.3186231656611528]}, {\"marker\": {\"size\": 12, \"line\": {\"width\": 0.5, \"color\": \"rgba(217, 217, 217, 0.14)\"}, \"opacity\": 0.7}, \"mode\": \"markers\", \"name\": \"betula_pendula\", \"x\": [-3.8323218162278962, -3.5987425345643933, -3.4601407417231878, -3.7434251234601543, -3.7126016688524466, -3.6598553171782005, -3.374312913977134, -4.024611889055162, -3.397226250158959, -3.6992344124233325, -3.711817244943703, -3.980374422024323, -3.7404179156587025, -3.552356768071892, -3.41251346700559, -3.58952053101375], \"type\": \"scatter\", \"y\": [1.7088283760017458, 1.05784113751, 0.8100743600073643, 1.323032267727207, 1.1745387912352483, 1.4850373610073286, 0.9096154437074531, 1.3232211131182987, 1.1240018723858374, 0.4868911897406112, 1.1021317240560238, 1.5148797237374518, 1.8125418620654348, 0.7157404987851617, 0.8076024900537531, 1.9422497011651085]}, {\"marker\": {\"size\": 12, \"line\": {\"width\": 0.5, \"color\": \"rgba(217, 217, 217, 0.14)\"}, \"opacity\": 0.7}, \"mode\": \"markers\", \"name\": \"castanea_sativa\", \"x\": [2.5023607294234953, 4.091328380595166, 5.611688807708838, 5.333523822236569, 3.6127455474013437, 4.680080062919784, 3.2108813322464336, 1.2627003133228478, 3.7223574627603275, 4.715106353101989, 1.7301145527411028, 7.533356848217169, 1.2144252736319254, 6.1943416552703345, 3.172741613891961, 3.005156954218309], \"type\": \"scatter\", \"y\": [-0.3851458803003769, -0.7545008202360793, -1.509545645268201, -0.7712936722239336, -0.5965167902277665, -0.8063378823245283, -1.2225808993114462, 0.3690010666336622, -0.388212459108668, -0.25173583671671707, -0.33611794591141236, -0.6704537727431025, -0.29466684226313816, -1.1060992665793545, -0.11518319264008882, -0.19200056247144118]}, {\"marker\": {\"size\": 12, \"line\": {\"width\": 0.5, \"color\": \"rgba(217, 217, 217, 0.14)\"}, \"opacity\": 0.7}, \"mode\": \"markers\", \"name\": \"cornus_chinensis\", \"x\": [2.033987572945259, 1.0032739059735016, 1.55637716056683, 2.1747052603894006, 2.12181146951432, 2.372502268577146, 2.8790225683276414, 0.9738112804114761, 2.6518768854902213, 1.543692961423427, 1.5656128757333403, 1.9732050254323696, 0.7992541121090623, -1.4118254255889229, 0.6521536040410694, 2.4704356615393017], \"type\": \"scatter\", \"y\": [-1.793827837047143, -1.3146718575569216, -1.267776637113583, -1.5698000412278845, -1.4954387357180516, -1.8091089716384376, -2.4326500186472626, -1.2734716519078075, -1.3990788055486814, -1.2978966681025546, -2.0566512450421275, -1.6754622289870977, -0.8890124908848906, -0.33627366237113276, -1.0443781414798088, -1.582915646031328]}, {\"marker\": {\"size\": 12, \"line\": {\"width\": 0.5, \"color\": \"rgba(217, 217, 217, 0.14)\"}, \"opacity\": 0.7}, \"mode\": \"markers\", \"name\": \"ilex_aquifolium\", \"x\": [-2.0802444128192934, -0.4960679075320167, -1.742726541435962, -1.1292391082524555, 0.382739763419284, 0.20140245613936053, -1.6391030053087414, -0.9047927943863224, 0.3395436251696797, -0.8091057673133278, -1.2150097649996656, -0.08984854353049349, -0.4665020114172833, -1.4265799619376054, -0.49940791397971046, -0.8744268536974662], \"type\": \"scatter\", \"y\": [-0.8849688683065108, -0.9374864607414769, -0.8812315622982626, -0.6748434531939759, -1.1029769370369045, -1.0189469005010332, -0.4404656770090991, -0.9817310680918852, -1.1198201815051618, -0.5266485399699448, -0.7831234162698963, -1.2134403995063223, -1.060466693015698, -0.6720718065314744, -0.5747490487908786, -0.8811613220429205]}, {\"marker\": {\"size\": 12, \"line\": {\"width\": 0.5, \"color\": \"rgba(217, 217, 217, 0.14)\"}, \"opacity\": 0.7}, \"mode\": \"markers\", \"name\": \"liriodendron_tulipifera\", \"x\": [7.5724920385158025, 6.748102561351241, 4.082271128706654, 5.285568143118289, 3.404889075993152, 3.5934149990658675, 6.364821442252968, 5.90975415530515, 6.673338015655701, 4.6525237549100895, 8.938948507047247, 6.9941263940982425, 6.688544851452589, 3.519339917862676, 2.400804637328278, 4.6924265892687425], \"type\": \"scatter\", \"y\": [-2.2730294911066657, -2.4159894198225973, -1.0719347220652609, -2.398492195521122, -1.5879042269817205, -1.4407000399996004, -2.0541137099085574, -2.7933861339608375, -2.353152297909713, -1.5581322978545522, -2.8369399890351015, -2.10338655263599, -2.880299119408924, -1.3446564509545047, -1.34423647658462, -1.3472142003604892]}, {\"marker\": {\"size\": 12, \"line\": {\"width\": 0.5, \"color\": \"rgba(217, 217, 217, 0.14)\"}, \"opacity\": 0.7}, \"mode\": \"markers\", \"name\": \"lithocarpus_edulis\", \"x\": [-1.101242946553392, -1.0757931337158249, -0.944295026571798, -0.961673313130751, -1.0253723718154848, -1.1022888193875868, -0.9171117110853805, -1.0057460240401, -0.9842222032405471, -0.9666420363641718, -1.0705064588376518, -0.9602072333979403, -0.9795833964706077, -1.0106538602445394, -1.090571460861825, -0.9797791482702318], \"type\": \"scatter\", \"y\": [-1.0186044849470908, -0.9682636051664174, -0.5984638231629098, -0.6152915313949883, -0.7978595709155587, -0.9705595825987671, -0.48072507127591685, -0.7373523535412831, -0.7158936604226128, -0.6662714910351688, -0.9133018664417865, -0.6719265702633854, -0.6941274512058981, -0.742554811438612, -0.9713370463418839, -0.6525565645219512]}, {\"marker\": {\"size\": 12, \"line\": {\"width\": 0.5, \"color\": \"rgba(217, 217, 217, 0.14)\"}, \"opacity\": 0.7}, \"mode\": \"markers\", \"name\": \"populus_nigra\", \"x\": [-1.8158407516377821, -1.0290944330664056, -1.9179744290053762, -0.9260838373490371, -0.941402369588915, -0.6526444100792933, -0.8372740658759065, -0.9826815675698719, -1.3557822912029633, -1.1851392954651183, -1.5963691635295483, -1.541429294176696, -0.9164745044084165, -1.876098972504156, -1.8505971124495026, -0.35055552686947256], \"type\": \"scatter\", \"y\": [-0.43252953468471766, -1.0144819391815094, -0.833864497819477, -0.7979215467886126, -0.7397983215074572, -1.069363911249482, -1.1546336754425748, -1.036612020355904, -0.795217527366058, -0.8226607431084175, -0.7932841687033712, -0.8597867558795826, -0.9757960104885199, -0.6992906465385772, -0.34185830897074226, -1.0020571816641644]}, {\"marker\": {\"size\": 12, \"line\": {\"width\": 0.5, \"color\": \"rgba(217, 217, 217, 0.14)\"}, \"opacity\": 0.7}, \"mode\": \"markers\", \"name\": \"prunus_x_shmittii\", \"x\": [2.7755678159751382, 0.21566514314318813, -1.4989755760033416, 2.292864886164673, -1.750002985622627, -1.0057724491764706, -0.8470180625874902, 1.4539022477819434, 0.32530344038102976, 1.9017028312320816, 0.1471294497939168, 2.205522657062296, 1.1553011845286565, 0.10791668721758205, 0.9163037850054871, 1.172437269189365], \"type\": \"scatter\", \"y\": [-0.8000983157981306, -0.3630384110354158, 0.2925526068476028, -1.2507844574195812, -0.23625960488430797, -0.24473459689353633, -0.07081725468850923, -0.6906474420972761, -0.7360176949708401, -1.0542789127640726, -0.9919776083936405, -0.9891523542119008, -0.4730987333842302, -0.9842214981394053, -0.6054977720483831, -0.734673030843242]}, {\"marker\": {\"size\": 12, \"line\": {\"width\": 0.5, \"color\": \"rgba(217, 217, 217, 0.14)\"}, \"opacity\": 0.7}, \"mode\": \"markers\", \"name\": \"quercus_canariensis\", \"x\": [0.2743336894683156, -0.9566236217953245, -0.7177140827800289, -1.334698708206439, -0.7329585353329812, -0.014106829946522265, -1.590942912605407, -0.9259416263879168, -1.4566222256027985, -0.3958861153265282, -0.49083463349014395, -0.6773080268858214, -0.10601241460521717, 0.9066630015855898, -0.4716578968381216, -1.9364547612639664], \"type\": \"scatter\", \"y\": [-0.850813503577468, -0.44989023478558804, -0.8692706748328474, -0.24361168448876935, -1.0856390472162396, -1.1755530866253516, -0.29104962106248966, -0.36272923241577987, -0.5609791178515007, -0.39943025527946974, -0.5807622402456921, -0.4785252464111619, -0.7369306327070462, -1.3232154790392008, -0.5278770902754705, -0.11590548194275122]}, {\"marker\": {\"size\": 12, \"line\": {\"width\": 0.5, \"color\": \"rgba(217, 217, 217, 0.14)\"}, \"opacity\": 0.7}, \"mode\": \"markers\", \"name\": \"quercus_chrysolepis\", \"x\": [-1.1379416772191555, -1.1965097348043778, -1.1745060129204892, -1.2409583297455218, -1.2774359860026288, -1.2549469098079762, -1.2013930539476754, -1.0901410604060646, -1.1152048185902002, -1.149653634565023, -1.2879664459038054, -1.1791372078395754, -1.2177364829731503, -1.1956519815333884, -1.1594446479122542, -1.217304795178991], \"type\": \"scatter\", \"y\": [-0.948553406058106, -1.1087591280727966, -1.091219381599438, -1.2598441854055662, -1.3928311144540637, -1.2544652700681622, -1.09112718886013, -0.82294730421431, -0.898974498967497, -1.0772119284304804, -1.3371851516876425, -1.0337312949480435, -1.1904322758263044, -1.1114242600271127, -1.07510775942292, -1.1580045548763256]}, {\"marker\": {\"size\": 12, \"line\": {\"width\": 0.5, \"color\": \"rgba(217, 217, 217, 0.14)\"}, \"opacity\": 0.7}, \"mode\": \"markers\", \"name\": \"quercus_infectoria_sub\", \"x\": [-2.3948087892133474, -2.2488175002924327, -2.1753613229807685, -1.213088015235776, -2.812368148237647, -2.146484801805155, -2.1261871427043912, -1.750806149942115, -1.3789429187833162, -2.1668939390911115, -1.205488805997798, -2.169420849161949, -1.6542142360265608, -1.690278382851731, -1.0990707522623082, -0.11071615916458202], \"type\": \"scatter\", \"y\": [0.18184552818544128, -0.3290828997209256, -0.05443111551693419, -0.34716489500895603, -0.1469130362945956, -0.2867609771238795, -0.6397725247454626, -0.3734341490452729, -0.3887742852457431, -0.4616136714738548, -0.7564288432061634, -0.1977186467100304, -0.5808043017571645, -0.5816232155465588, -0.9349817185736345, -0.7634421438596853]}, {\"marker\": {\"size\": 12, \"line\": {\"width\": 0.5, \"color\": \"rgba(217, 217, 217, 0.14)\"}, \"opacity\": 0.7}, \"mode\": \"markers\", \"name\": \"quercus_nigra\", \"x\": [2.8464504154960824, 3.093739594501347, 1.1678943399159258, 3.094833595671853, 4.068417649170417, 4.013649746386441, 1.495042246604931, 2.57942438443309, -0.03936929618030197, 0.8557547430935531, 2.1700224228698977, 2.622331669483712, 1.4554890019086226, 1.6153202501740447, 3.7590253277119876, 3.006727877767183], \"type\": \"scatter\", \"y\": [-0.1688846979349357, 1.4918680876797423, -0.030115327210708007, -1.1488334775249243, -1.0252917952017961, -0.6412403754340434, 0.1277548862825732, -0.3474270506364926, 0.8180442453236064, 0.25690513318464847, 0.07762384912856433, -0.26986992026175416, -1.2106671669045987, -0.3428527945001967, -1.435559050334118, -1.6719995930085267]}, {\"marker\": {\"size\": 12, \"line\": {\"width\": 0.5, \"color\": \"rgba(217, 217, 217, 0.14)\"}, \"opacity\": 0.7}, \"mode\": \"markers\", \"name\": \"quercus_palustris\", \"x\": [3.655097969117916, 1.7183909789172973, 3.3095168535688693, 3.6747511403892346, 2.476302676383113, 4.6502293639970125, 2.5046401698833582, 2.6942716254415715, 3.092879825943321, 1.3543992843946682, 0.4205035611955406, 3.346817390997822, 0.5922532221653112, 1.8846776149533788, 2.6680348627619654, 0.9568469067181977], \"type\": \"scatter\", \"y\": [4.389424792562267, 4.690753354185382, 4.573033744127733, 4.733763235644914, 5.66922285028875, 5.70448056236421, 4.05444055377476, 4.447186991590821, 5.343639979621989, 5.873578616226061, 4.744079741864068, 4.125958086459335, 4.34642054147903, 4.525365805532905, 4.119680723066309, 5.323599452658536]}, {\"marker\": {\"size\": 12, \"line\": {\"width\": 0.5, \"color\": \"rgba(217, 217, 217, 0.14)\"}, \"opacity\": 0.7}, \"mode\": \"markers\", \"name\": \"quercus_pontica\", \"x\": [-0.9368106672799644, -0.9695069652029791, -0.8653710634870784, -1.1471217780317635, -0.9321798342315918, -0.9564906165028502, -0.8665913847490059, -1.1357543296092236, -1.0562746162423866, -1.071695855696892, -1.0193713969836566, -1.0308802271096855, -1.03873581397796, -0.9244974623875261, -0.9934161994899958, -0.9573574769948225], \"type\": \"scatter\", \"y\": [-0.41267833523059805, -0.48151506358434387, -0.16951631466112074, -0.9495669296589384, -0.23774077067226757, -0.4401821425175244, -0.04558467562502254, -0.8664568082250194, -0.8419079536717542, -0.5762513085262859, -0.6808129929080793, -0.39836685784889964, -0.6419791313569924, -0.31614579441323304, -0.46528214426345804, -0.46451562195625473]}, {\"marker\": {\"size\": 12, \"line\": {\"width\": 0.5, \"color\": \"rgba(217, 217, 217, 0.14)\"}, \"opacity\": 0.7}, \"mode\": \"markers\", \"name\": \"quercus_texana\", \"x\": [2.4071891473352336, 3.717265223648295, 1.314011737857564, 1.1532041667403827, 0.800102819503161, 3.423185438319137, 2.661148741464302, 3.0771922299496013, 4.658820076148869, 4.0297594840500714, 1.995045424086796, 2.3924645919693392, 2.490209181923418, 1.0137772697668277, 3.02287710776595, 3.509234982918726], \"type\": \"scatter\", \"y\": [2.9483318923470367, 2.589740634611606, 2.5986363118004037, 2.6605860434649466, 2.330460809196175, 2.367335782729771, 2.5394661641435494, 2.3764334583044873, 2.941465643654461, 2.1901151766612066, 2.7914821145666635, 2.681274271053288, 2.410407704064337, 2.593003309963432, 2.9605097217075445, 2.21828745882854]}, {\"marker\": {\"size\": 12, \"line\": {\"width\": 0.5, \"color\": \"rgba(217, 217, 217, 0.14)\"}, \"opacity\": 0.7}, \"mode\": \"markers\", \"name\": \"quercus_x_turneri\", \"x\": [-0.7497586291302464, -0.8060405643165962, -0.8188682682286088, -0.7065802357100175, -0.9621154208509058, -0.9869012443230538, -0.8083447109196426, -0.9713687407137818, -0.9927331102627182, -0.912920172018929, -0.9257435180585876, -0.7741611488162646, -1.0717588278755028, -0.930432508952402, -0.8275426151232271, -0.799996315053021], \"type\": \"scatter\", \"y\": [0.15149795794759008, 0.02482273406707894, 0.06014895933133548, 0.24450400624205726, -0.5680261630857223, -0.5557774727682468, -0.15463216856732426, -0.42039828667687956, -0.5154882400189108, -0.2790631867845639, -0.46583655656511674, 0.0019013018174921371, -0.7039866942718678, -0.27656535378297664, 0.007804731146041154, -0.077938579750706]}, {\"marker\": {\"size\": 12, \"line\": {\"width\": 0.5, \"color\": \"rgba(217, 217, 217, 0.14)\"}, \"opacity\": 0.7}, \"mode\": \"markers\", \"name\": \"salix_intergra\", \"x\": [-2.5973748249674484, -2.585217482352254, -3.2989079596449193, -2.716757197151162, -3.341026240698979, -3.093606664901206, -2.202978376668556, -3.070669881740662, -2.665862339942462, -2.624201215566111, -2.6604502629648947, -2.505484224917815, -2.818841024895552, -2.6931169717197863, -2.427909368597682, -2.826866109168052], \"type\": \"scatter\", \"y\": [-1.1682010221512695, -1.1819475694564527, -0.5227374118114786, -0.8348200826746621, -0.743392665481335, -0.8369803456253782, -1.154276637052371, -1.2203862375983485, -1.029481605579497, -1.1876670099625293, -1.2325875993197295, -1.0544741073195998, -0.9700755153708674, -0.8153543302465661, -1.263057926601257, -0.9164668154914632]}], {\"xaxis\": {\"title\": \"Principal Component 1\", \"ticklen\": 5, \"zeroline\": false, \"gridwidth\": 2}, \"title\": \"Leaf Species\", \"hovermode\": \"closest\", \"yaxis\": {\"title\": \"Principal Component 2\", \"ticklen\": 5, \"gridwidth\": 2}, \"showlegend\": false}, {\"linkText\": \"Export to plot.ly\", \"showLink\": true})});</script>"
      ]
     },
     "metadata": {},
     "output_type": "display_data"
    }
   ],
   "source": [
    "traces = []\n",
    "\n",
    "for name in numpy.unique(y):\n",
    "    trace = go.Scatter(\n",
    "        x=Y[y==name,0],\n",
    "        y=Y[y==name,1],\n",
    "        mode=\"markers\",\n",
    "        name=name,\n",
    "        marker=go.Marker(\n",
    "            size=12,\n",
    "            line=go.Line(\n",
    "                color=\"rgba(217, 217, 217, 0.14)\",\n",
    "                width=0.5),\n",
    "            opacity=0.7))\n",
    "    traces.append(trace)\n",
    "\n",
    "\n",
    "data = go.Data(traces)\n",
    "\n",
    "layout = go.Layout(\n",
    "    title= \"Leaf Species\",\n",
    "    hovermode= \"closest\",\n",
    "    xaxis= dict(\n",
    "        title= \"Principal Component 1\",\n",
    "        ticklen= 5,\n",
    "        zeroline= False,\n",
    "        gridwidth= 2,\n",
    "    ),\n",
    "    yaxis=dict(\n",
    "        title= \"Principal Component 2\",\n",
    "        ticklen= 5,\n",
    "        gridwidth= 2,\n",
    "    ),\n",
    "    showlegend= False\n",
    ")\n",
    "\n",
    "fig = go.Figure(data=data, layout=layout)\n",
    "po.iplot(fig)"
   ]
  },
  {
   "cell_type": "markdown",
   "metadata": {},
   "source": [
    "### 5.4 Scatter plot visualization (3 PCs)"
   ]
  },
  {
   "cell_type": "markdown",
   "metadata": {},
   "source": [
    "From the previous plot we can see that with just 2 principal components it can be very diffucult to classify some leaf species. \n",
    "\n",
    "Let's try to visualize the first 3 principal components and see what we can get:"
   ]
  },
  {
   "cell_type": "code",
   "execution_count": 19,
   "metadata": {},
   "outputs": [
    {
     "data": {
      "application/vnd.plotly.v1+json": {
       "data": [
        {
         "marker": {
          "line": {
           "color": "rgba(217, 217, 217, 0.14)",
           "width": 0.5
          },
          "opacity": 0.8,
          "size": 12
         },
         "mode": "markers",
         "name": "acer_circinatum",
         "type": "scatter3d",
         "x": [
          0.23424142416693347,
          -1.5416229693294088,
          -0.7272280008479501,
          -0.1450442121533773,
          -0.3018785989703378,
          0.2506295180198486,
          -0.647867362417682,
          -0.6084738616870953,
          -0.24344210561831484,
          -0.6578488899322299,
          -0.16192111370431178,
          -0.48771859756858077,
          0.1880196877437214,
          -0.40032993397636346,
          0.003216557178066813,
          1.7350264182876032
         ],
         "y": [
          1.7285772126638723,
          2.35885096024923,
          2.05046162091652,
          1.963244965437351,
          2.2236782535366824,
          1.446473092073744,
          2.4763392619973184,
          2.2247390184327274,
          1.6572722259921941,
          1.9404445361355407,
          2.3066661751271824,
          2.251891292314751,
          2.0915999921128354,
          1.9030539439121061,
          2.3428859621636335,
          1.5909244965879024
         ],
         "z": [
          -0.018033409271843017,
          0.06140473828406688,
          0.018514439051604832,
          0.09048964150064759,
          0.04749188148647198,
          0.046387430355537565,
          -0.023433980983155484,
          0.04734278630955477,
          0.04796342285582417,
          0.14727468395955728,
          -0.0704699820146672,
          0.0524483913733228,
          -0.038049693572284944,
          0.0723037948950971,
          0.14883658284955853,
          -0.14435864304419221
         ]
        },
        {
         "marker": {
          "line": {
           "color": "rgba(217, 217, 217, 0.14)",
           "width": 0.5
          },
          "opacity": 0.8,
          "size": 12
         },
         "mode": "markers",
         "name": "acer_mono",
         "type": "scatter3d",
         "x": [
          -2.2815295867078116,
          -2.820573184461651,
          -2.4823094321736527,
          -2.4244097897454973,
          -2.4448331006680046,
          -2.2048532639896514,
          -1.897751519191953,
          -2.5587953273460307,
          -2.371083803366383,
          -2.956763810147109,
          -2.5237375930132067,
          -2.120205352245883,
          -2.0759055804021935,
          -2.290959775930013,
          -2.8308074373429237,
          -1.9617153734137602
         ],
         "y": [
          0.8936878576945942,
          1.9353626625016331,
          0.08705161477932691,
          1.8901419730381632,
          1.1052516339610459,
          1.5063896263591017,
          1.069705210611745,
          1.223059200788804,
          1.1100042512378108,
          0.7683246978295827,
          1.1179911643815368,
          2.3798743382668044,
          2.301513062386791,
          1.6307838943395765,
          0.8106312598596784,
          1.0149406013726228
         ],
         "z": [
          0.6831144294156177,
          0.6905808506086786,
          0.7156109904232557,
          0.6979334326534111,
          0.5996362093756937,
          0.6835045857843987,
          0.6585608938528578,
          0.6005380662154005,
          0.741477180397419,
          0.6336294954769354,
          0.7359530420372843,
          0.7383470298967468,
          0.6094855081116642,
          0.8107657299009527,
          0.6675684738274252,
          0.6324039570677643
         ]
        },
        {
         "marker": {
          "line": {
           "color": "rgba(217, 217, 217, 0.14)",
           "width": 0.5
          },
          "opacity": 0.8,
          "size": 12
         },
         "mode": "markers",
         "name": "arundinaria_simonii",
         "type": "scatter3d",
         "x": [
          -1.5812759460638337,
          -1.2848094074262928,
          -1.5289915728574945,
          -1.2075638848548353,
          -1.3147619363108358,
          -1.3918133967754558,
          -1.3649925489766255,
          -1.4441390922850588,
          -1.3622934614714493,
          -1.311712729915896,
          -1.392816912980954,
          -1.3306856344809352,
          -1.2478980977707166,
          -1.2588676198737625,
          -1.5116018144922103,
          -1.1869652600545664
         ],
         "y": [
          -0.6945961113901493,
          -0.7159514320471128,
          -0.7311861496418874,
          -0.4291474652339926,
          -0.6091304137145995,
          -0.7996684260104121,
          -0.6012578990363475,
          -0.4897490479133666,
          -0.48525805173495506,
          -0.7115572335836949,
          -0.5018485369619289,
          -0.5750363734791295,
          -0.5798249529517409,
          -0.40933018838448954,
          -0.8324579838433982,
          -0.3186231656611528
         ],
         "z": [
          -6.637741572573253,
          -2.4438782412498274,
          -5.6996969231275,
          -2.9866844638192043,
          -3.4668520653035215,
          -3.4577146871922086,
          -4.121769444903015,
          -5.619841757779326,
          -4.715138875122389,
          -2.95191888546285,
          -4.537227961151422,
          -3.6998494156171167,
          -2.650185187596504,
          -3.6240757224819102,
          -4.977225405430533,
          -2.9952690715538743
         ]
        },
        {
         "marker": {
          "line": {
           "color": "rgba(217, 217, 217, 0.14)",
           "width": 0.5
          },
          "opacity": 0.8,
          "size": 12
         },
         "mode": "markers",
         "name": "betula_pendula",
         "type": "scatter3d",
         "x": [
          -3.8323218162278962,
          -3.5987425345643933,
          -3.4601407417231878,
          -3.7434251234601543,
          -3.7126016688524466,
          -3.6598553171782005,
          -3.374312913977134,
          -4.024611889055162,
          -3.397226250158959,
          -3.6992344124233325,
          -3.711817244943703,
          -3.980374422024323,
          -3.7404179156587025,
          -3.552356768071892,
          -3.41251346700559,
          -3.58952053101375
         ],
         "y": [
          1.7088283760017458,
          1.05784113751,
          0.8100743600073643,
          1.323032267727207,
          1.1745387912352483,
          1.4850373610073286,
          0.9096154437074531,
          1.3232211131182987,
          1.1240018723858374,
          0.4868911897406112,
          1.1021317240560238,
          1.5148797237374518,
          1.8125418620654348,
          0.7157404987851617,
          0.8076024900537531,
          1.9422497011651085
         ],
         "z": [
          0.3074159573526103,
          0.5155227700289498,
          0.5220149971221564,
          0.4653625147328546,
          0.44962427824395124,
          0.47176538109075833,
          0.5330726826786917,
          0.35306302910396786,
          0.5281361067077504,
          0.5823041634727042,
          0.4677265013119869,
          0.35003196335911707,
          0.3048369759088985,
          0.5360872665152934,
          0.5373371537961484,
          0.43380826893494484
         ]
        },
        {
         "marker": {
          "line": {
           "color": "rgba(217, 217, 217, 0.14)",
           "width": 0.5
          },
          "opacity": 0.8,
          "size": 12
         },
         "mode": "markers",
         "name": "castanea_sativa",
         "type": "scatter3d",
         "x": [
          2.5023607294234953,
          4.091328380595166,
          5.611688807708838,
          5.333523822236569,
          3.6127455474013437,
          4.680080062919784,
          3.2108813322464336,
          1.2627003133228478,
          3.7223574627603275,
          4.715106353101989,
          1.7301145527411028,
          7.533356848217169,
          1.2144252736319254,
          6.1943416552703345,
          3.172741613891961,
          3.005156954218309
         ],
         "y": [
          -0.3851458803003769,
          -0.7545008202360793,
          -1.509545645268201,
          -0.7712936722239336,
          -0.5965167902277665,
          -0.8063378823245283,
          -1.2225808993114462,
          0.3690010666336622,
          -0.388212459108668,
          -0.25173583671671707,
          -0.33611794591141236,
          -0.6704537727431025,
          -0.29466684226313816,
          -1.1060992665793545,
          -0.11518319264008882,
          -0.19200056247144118
         ],
         "z": [
          -0.41876761669066936,
          -0.6683522949120156,
          -0.7476704238502268,
          -0.9062928050993776,
          -0.8681291318319813,
          -0.9241051595969718,
          -0.3071223223790102,
          -0.37941293870254345,
          -0.8595918624585455,
          -1.2302925261340603,
          -0.4175851382874143,
          -1.8766621764517384,
          -0.1592724180920617,
          -1.0322714789491438,
          -0.697115283175614,
          -1.0253988061770272
         ]
        },
        {
         "marker": {
          "line": {
           "color": "rgba(217, 217, 217, 0.14)",
           "width": 0.5
          },
          "opacity": 0.8,
          "size": 12
         },
         "mode": "markers",
         "name": "cornus_chinensis",
         "type": "scatter3d",
         "x": [
          2.033987572945259,
          1.0032739059735016,
          1.55637716056683,
          2.1747052603894006,
          2.12181146951432,
          2.372502268577146,
          2.8790225683276414,
          0.9738112804114761,
          2.6518768854902213,
          1.543692961423427,
          1.5656128757333403,
          1.9732050254323696,
          0.7992541121090623,
          -1.4118254255889229,
          0.6521536040410694,
          2.4704356615393017
         ],
         "y": [
          -1.793827837047143,
          -1.3146718575569216,
          -1.267776637113583,
          -1.5698000412278845,
          -1.4954387357180516,
          -1.8091089716384376,
          -2.4326500186472626,
          -1.2734716519078075,
          -1.3990788055486814,
          -1.2978966681025546,
          -2.0566512450421275,
          -1.6754622289870977,
          -0.8890124908848906,
          -0.33627366237113276,
          -1.0443781414798088,
          -1.582915646031328
         ],
         "z": [
          0.41785664280118967,
          0.32698204928461605,
          0.3556112592199209,
          0.2278760851076212,
          0.5576821192253364,
          0.31018140177898207,
          0.6127740322367095,
          0.44224982352754094,
          0.15691864511682502,
          0.2975926337438164,
          0.7659572175030609,
          0.5441708371525159,
          0.2130087859920424,
          0.40483257167033204,
          0.33596960587841135,
          0.21933252548293256
         ]
        },
        {
         "marker": {
          "line": {
           "color": "rgba(217, 217, 217, 0.14)",
           "width": 0.5
          },
          "opacity": 0.8,
          "size": 12
         },
         "mode": "markers",
         "name": "ilex_aquifolium",
         "type": "scatter3d",
         "x": [
          -2.0802444128192934,
          -0.4960679075320167,
          -1.742726541435962,
          -1.1292391082524555,
          0.382739763419284,
          0.20140245613936053,
          -1.6391030053087414,
          -0.9047927943863224,
          0.3395436251696797,
          -0.8091057673133278,
          -1.2150097649996656,
          -0.08984854353049349,
          -0.4665020114172833,
          -1.4265799619376054,
          -0.49940791397971046,
          -0.8744268536974662
         ],
         "y": [
          -0.8849688683065108,
          -0.9374864607414769,
          -0.8812315622982626,
          -0.6748434531939759,
          -1.1029769370369045,
          -1.0189469005010332,
          -0.4404656770090991,
          -0.9817310680918852,
          -1.1198201815051618,
          -0.5266485399699448,
          -0.7831234162698963,
          -1.2134403995063223,
          -1.060466693015698,
          -0.6720718065314744,
          -0.5747490487908786,
          -0.8811613220429205
         ],
         "z": [
          0.8691221215768568,
          0.4862144846675573,
          0.647098223554875,
          0.6119613047782531,
          0.45638459116589636,
          0.5178024651615399,
          0.5830294160667079,
          0.5474643367294334,
          0.7259931099013914,
          0.7997736226824306,
          0.5361882871196493,
          0.8104918664342752,
          0.7885693640422948,
          0.7141319678749791,
          0.753332842300862,
          0.5109478369406503
         ]
        },
        {
         "marker": {
          "line": {
           "color": "rgba(217, 217, 217, 0.14)",
           "width": 0.5
          },
          "opacity": 0.8,
          "size": 12
         },
         "mode": "markers",
         "name": "liriodendron_tulipifera",
         "type": "scatter3d",
         "x": [
          7.5724920385158025,
          6.748102561351241,
          4.082271128706654,
          5.285568143118289,
          3.404889075993152,
          3.5934149990658675,
          6.364821442252968,
          5.90975415530515,
          6.673338015655701,
          4.6525237549100895,
          8.938948507047247,
          6.9941263940982425,
          6.688544851452589,
          3.519339917862676,
          2.400804637328278,
          4.6924265892687425
         ],
         "y": [
          -2.2730294911066657,
          -2.4159894198225973,
          -1.0719347220652609,
          -2.398492195521122,
          -1.5879042269817205,
          -1.4407000399996004,
          -2.0541137099085574,
          -2.7933861339608375,
          -2.353152297909713,
          -1.5581322978545522,
          -2.8369399890351015,
          -2.10338655263599,
          -2.880299119408924,
          -1.3446564509545047,
          -1.34423647658462,
          -1.3472142003604892
         ],
         "z": [
          0.5608232872696983,
          0.6058775186360994,
          0.2283141918788386,
          0.6299169393619041,
          0.7350775398781952,
          0.5905178486210418,
          0.615762481773671,
          0.6394238181049537,
          0.5957135849634619,
          0.588565947701577,
          0.46998133174928824,
          0.6037884641777501,
          0.611408620918057,
          0.6812967033875279,
          0.7786595380346483,
          0.030735251021301813
         ]
        },
        {
         "marker": {
          "line": {
           "color": "rgba(217, 217, 217, 0.14)",
           "width": 0.5
          },
          "opacity": 0.8,
          "size": 12
         },
         "mode": "markers",
         "name": "lithocarpus_edulis",
         "type": "scatter3d",
         "x": [
          -1.101242946553392,
          -1.0757931337158249,
          -0.944295026571798,
          -0.961673313130751,
          -1.0253723718154848,
          -1.1022888193875868,
          -0.9171117110853805,
          -1.0057460240401,
          -0.9842222032405471,
          -0.9666420363641718,
          -1.0705064588376518,
          -0.9602072333979403,
          -0.9795833964706077,
          -1.0106538602445394,
          -1.090571460861825,
          -0.9797791482702318
         ],
         "y": [
          -1.0186044849470908,
          -0.9682636051664174,
          -0.5984638231629098,
          -0.6152915313949883,
          -0.7978595709155587,
          -0.9705595825987671,
          -0.48072507127591685,
          -0.7373523535412831,
          -0.7158936604226128,
          -0.6662714910351688,
          -0.9133018664417865,
          -0.6719265702633854,
          -0.6941274512058981,
          -0.742554811438612,
          -0.9713370463418839,
          -0.6525565645219512
         ],
         "z": [
          0.35763694095178017,
          0.5191060546859666,
          0.25259607428706304,
          0.14145922828856072,
          0.2692577963811938,
          0.18271357444422526,
          -0.006075821934381279,
          0.29103170447660975,
          0.36610574053518624,
          0.3648013071995348,
          0.3574188487531344,
          0.2998383716690155,
          0.2925104478107572,
          0.26461286819090934,
          0.36361435936984376,
          0.16208019719999653
         ]
        },
        {
         "marker": {
          "line": {
           "color": "rgba(217, 217, 217, 0.14)",
           "width": 0.5
          },
          "opacity": 0.8,
          "size": 12
         },
         "mode": "markers",
         "name": "populus_nigra",
         "type": "scatter3d",
         "x": [
          -1.8158407516377821,
          -1.0290944330664056,
          -1.9179744290053762,
          -0.9260838373490371,
          -0.941402369588915,
          -0.6526444100792933,
          -0.8372740658759065,
          -0.9826815675698719,
          -1.3557822912029633,
          -1.1851392954651183,
          -1.5963691635295483,
          -1.541429294176696,
          -0.9164745044084165,
          -1.876098972504156,
          -1.8505971124495026,
          -0.35055552686947256
         ],
         "y": [
          -0.43252953468471766,
          -1.0144819391815094,
          -0.833864497819477,
          -0.7979215467886126,
          -0.7397983215074572,
          -1.069363911249482,
          -1.1546336754425748,
          -1.036612020355904,
          -0.795217527366058,
          -0.8226607431084175,
          -0.7932841687033712,
          -0.8597867558795826,
          -0.9757960104885199,
          -0.6992906465385772,
          -0.34185830897074226,
          -1.0020571816641644
         ],
         "z": [
          0.8845033134670367,
          0.8725669964595975,
          0.8737281779714294,
          0.8469239069584139,
          0.7228402943397082,
          0.8561662619498412,
          0.8941718761056862,
          0.8926837969579193,
          0.8687081315100323,
          0.8228660579836327,
          0.8752191729822654,
          0.8883145425663433,
          0.8490551153237981,
          0.8749633138389468,
          0.861508937294511,
          0.8693007076377202
         ]
        },
        {
         "marker": {
          "line": {
           "color": "rgba(217, 217, 217, 0.14)",
           "width": 0.5
          },
          "opacity": 0.8,
          "size": 12
         },
         "mode": "markers",
         "name": "prunus_x_shmittii",
         "type": "scatter3d",
         "x": [
          2.7755678159751382,
          0.21566514314318813,
          -1.4989755760033416,
          2.292864886164673,
          -1.750002985622627,
          -1.0057724491764706,
          -0.8470180625874902,
          1.4539022477819434,
          0.32530344038102976,
          1.9017028312320816,
          0.1471294497939168,
          2.205522657062296,
          1.1553011845286565,
          0.10791668721758205,
          0.9163037850054871,
          1.172437269189365
         ],
         "y": [
          -0.8000983157981306,
          -0.3630384110354158,
          0.2925526068476028,
          -1.2507844574195812,
          -0.23625960488430797,
          -0.24473459689353633,
          -0.07081725468850923,
          -0.6906474420972761,
          -0.7360176949708401,
          -1.0542789127640726,
          -0.9919776083936405,
          -0.9891523542119008,
          -0.4730987333842302,
          -0.9842214981394053,
          -0.6054977720483831,
          -0.734673030843242
         ],
         "z": [
          0.19807458108121181,
          0.2050606769484131,
          0.08853949828108174,
          0.21023922648610716,
          0.6653798883163262,
          0.47258232341494927,
          0.34747992059804217,
          0.19514848586313085,
          0.5122521219169789,
          0.3260394631113468,
          0.4846895021171836,
          0.2823917039945596,
          0.31962068783735254,
          0.4575544029753629,
          0.3364885425352477,
          0.3602775615423421
         ]
        },
        {
         "marker": {
          "line": {
           "color": "rgba(217, 217, 217, 0.14)",
           "width": 0.5
          },
          "opacity": 0.8,
          "size": 12
         },
         "mode": "markers",
         "name": "quercus_canariensis",
         "type": "scatter3d",
         "x": [
          0.2743336894683156,
          -0.9566236217953245,
          -0.7177140827800289,
          -1.334698708206439,
          -0.7329585353329812,
          -0.014106829946522265,
          -1.590942912605407,
          -0.9259416263879168,
          -1.4566222256027985,
          -0.3958861153265282,
          -0.49083463349014395,
          -0.6773080268858214,
          -0.10601241460521717,
          0.9066630015855898,
          -0.4716578968381216,
          -1.9364547612639664
         ],
         "y": [
          -0.850813503577468,
          -0.44989023478558804,
          -0.8692706748328474,
          -0.24361168448876935,
          -1.0856390472162396,
          -1.1755530866253516,
          -0.29104962106248966,
          -0.36272923241577987,
          -0.5609791178515007,
          -0.39943025527946974,
          -0.5807622402456921,
          -0.4785252464111619,
          -0.7369306327070462,
          -1.3232154790392008,
          -0.5278770902754705,
          -0.11590548194275122
         ],
         "z": [
          0.3579065701363034,
          0.013833090106911614,
          0.0702239769869104,
          -0.006821183401120236,
          -0.4434858926905527,
          0.20109741935324463,
          -0.07938173750996876,
          0.1798471334985034,
          -0.048021301636331656,
          -0.005683539686940454,
          -0.1139370312215543,
          0.13676274973894562,
          0.0615361867879053,
          0.29054974445744003,
          0.04610684915290621,
          -0.002627616377852412
         ]
        },
        {
         "marker": {
          "line": {
           "color": "rgba(217, 217, 217, 0.14)",
           "width": 0.5
          },
          "opacity": 0.8,
          "size": 12
         },
         "mode": "markers",
         "name": "quercus_chrysolepis",
         "type": "scatter3d",
         "x": [
          -1.1379416772191555,
          -1.1965097348043778,
          -1.1745060129204892,
          -1.2409583297455218,
          -1.2774359860026288,
          -1.2549469098079762,
          -1.2013930539476754,
          -1.0901410604060646,
          -1.1152048185902002,
          -1.149653634565023,
          -1.2879664459038054,
          -1.1791372078395754,
          -1.2177364829731503,
          -1.1956519815333884,
          -1.1594446479122542,
          -1.217304795178991
         ],
         "y": [
          -0.948553406058106,
          -1.1087591280727966,
          -1.091219381599438,
          -1.2598441854055662,
          -1.3928311144540637,
          -1.2544652700681622,
          -1.09112718886013,
          -0.82294730421431,
          -0.898974498967497,
          -1.0772119284304804,
          -1.3371851516876425,
          -1.0337312949480435,
          -1.1904322758263044,
          -1.1114242600271127,
          -1.07510775942292,
          -1.1580045548763256
         ],
         "z": [
          -0.08415354502866101,
          0.015328031193584994,
          0.14614953623366994,
          0.16454604022455568,
          0.2943490758933318,
          0.08785367065239602,
          0.12673796871211074,
          -0.14096090588997087,
          -0.139877252389675,
          0.21137322590922442,
          0.04146725532765745,
          0.1748791884297977,
          0.14649321700099055,
          -0.01398654788415592,
          0.1268102383572726,
          -0.06728665519560549
         ]
        },
        {
         "marker": {
          "line": {
           "color": "rgba(217, 217, 217, 0.14)",
           "width": 0.5
          },
          "opacity": 0.8,
          "size": 12
         },
         "mode": "markers",
         "name": "quercus_infectoria_sub",
         "type": "scatter3d",
         "x": [
          -2.3948087892133474,
          -2.2488175002924327,
          -2.1753613229807685,
          -1.213088015235776,
          -2.812368148237647,
          -2.146484801805155,
          -2.1261871427043912,
          -1.750806149942115,
          -1.3789429187833162,
          -2.1668939390911115,
          -1.205488805997798,
          -2.169420849161949,
          -1.6542142360265608,
          -1.690278382851731,
          -1.0990707522623082,
          -0.11071615916458202
         ],
         "y": [
          0.18184552818544128,
          -0.3290828997209256,
          -0.05443111551693419,
          -0.34716489500895603,
          -0.1469130362945956,
          -0.2867609771238795,
          -0.6397725247454626,
          -0.3734341490452729,
          -0.3887742852457431,
          -0.4616136714738548,
          -0.7564288432061634,
          -0.1977186467100304,
          -0.5808043017571645,
          -0.5816232155465588,
          -0.9349817185736345,
          -0.7634421438596853
         ],
         "z": [
          0.13034568524081297,
          0.056404508987043564,
          0.2666291655968776,
          0.295200441061589,
          0.14236090889600114,
          0.1087707836111568,
          0.3507532854800392,
          0.4318303892687162,
          0.3999693168831795,
          0.14767605610648496,
          0.16807200205290718,
          0.1983837480092264,
          0.49780211802228314,
          0.4408898672448261,
          0.07098288523688202,
          0.17535073526892417
         ]
        },
        {
         "marker": {
          "line": {
           "color": "rgba(217, 217, 217, 0.14)",
           "width": 0.5
          },
          "opacity": 0.8,
          "size": 12
         },
         "mode": "markers",
         "name": "quercus_nigra",
         "type": "scatter3d",
         "x": [
          2.8464504154960824,
          3.093739594501347,
          1.1678943399159258,
          3.094833595671853,
          4.068417649170417,
          4.013649746386441,
          1.495042246604931,
          2.57942438443309,
          -0.03936929618030197,
          0.8557547430935531,
          2.1700224228698977,
          2.622331669483712,
          1.4554890019086226,
          1.6153202501740447,
          3.7590253277119876,
          3.006727877767183
         ],
         "y": [
          -0.1688846979349357,
          1.4918680876797423,
          -0.030115327210708007,
          -1.1488334775249243,
          -1.0252917952017961,
          -0.6412403754340434,
          0.1277548862825732,
          -0.3474270506364926,
          0.8180442453236064,
          0.25690513318464847,
          0.07762384912856433,
          -0.26986992026175416,
          -1.2106671669045987,
          -0.3428527945001967,
          -1.435559050334118,
          -1.6719995930085267
         ],
         "z": [
          -0.182150810429351,
          -0.42482737123271713,
          0.26245580201202584,
          -0.2208991381186087,
          0.11197820851597716,
          0.07706733157078911,
          -0.0873880715788841,
          0.37432210413389283,
          0.033467157608970746,
          0.3744900681010414,
          -0.17129220150520755,
          -0.28857648182725215,
          0.10893478486936077,
          -0.09074024512073026,
          -0.013978096975872708,
          -0.012830960681992274
         ]
        },
        {
         "marker": {
          "line": {
           "color": "rgba(217, 217, 217, 0.14)",
           "width": 0.5
          },
          "opacity": 0.8,
          "size": 12
         },
         "mode": "markers",
         "name": "quercus_palustris",
         "type": "scatter3d",
         "x": [
          3.655097969117916,
          1.7183909789172973,
          3.3095168535688693,
          3.6747511403892346,
          2.476302676383113,
          4.6502293639970125,
          2.5046401698833582,
          2.6942716254415715,
          3.092879825943321,
          1.3543992843946682,
          0.4205035611955406,
          3.346817390997822,
          0.5922532221653112,
          1.8846776149533788,
          2.6680348627619654,
          0.9568469067181977
         ],
         "y": [
          4.389424792562267,
          4.690753354185382,
          4.573033744127733,
          4.733763235644914,
          5.66922285028875,
          5.70448056236421,
          4.05444055377476,
          4.447186991590821,
          5.343639979621989,
          5.873578616226061,
          4.744079741864068,
          4.125958086459335,
          4.34642054147903,
          4.525365805532905,
          4.119680723066309,
          5.323599452658536
         ],
         "z": [
          -0.33032481852191964,
          -0.18260486142680737,
          -0.5432920566995249,
          -0.3171348616889768,
          -0.26179704598087655,
          -0.7984122859262471,
          -0.14953530312333563,
          -0.26350305038413735,
          -0.3506746941610995,
          -0.5547563252489772,
          0.06032779837679029,
          -0.35131212518956345,
          0.24319346964918628,
          -0.13767329250159632,
          -0.05932920901725144,
          -0.25125194232842823
         ]
        },
        {
         "marker": {
          "line": {
           "color": "rgba(217, 217, 217, 0.14)",
           "width": 0.5
          },
          "opacity": 0.8,
          "size": 12
         },
         "mode": "markers",
         "name": "quercus_pontica",
         "type": "scatter3d",
         "x": [
          -0.9368106672799644,
          -0.9695069652029791,
          -0.8653710634870784,
          -1.1471217780317635,
          -0.9321798342315918,
          -0.9564906165028502,
          -0.8665913847490059,
          -1.1357543296092236,
          -1.0562746162423866,
          -1.071695855696892,
          -1.0193713969836566,
          -1.0308802271096855,
          -1.03873581397796,
          -0.9244974623875261,
          -0.9934161994899958,
          -0.9573574769948225
         ],
         "y": [
          -0.41267833523059805,
          -0.48151506358434387,
          -0.16951631466112074,
          -0.9495669296589384,
          -0.23774077067226757,
          -0.4401821425175244,
          -0.04558467562502254,
          -0.8664568082250194,
          -0.8419079536717542,
          -0.5762513085262859,
          -0.6808129929080793,
          -0.39836685784889964,
          -0.6419791313569924,
          -0.31614579441323304,
          -0.46528214426345804,
          -0.46451562195625473
         ],
         "z": [
          0.5489362609319353,
          0.266439396184427,
          0.28963367906773824,
          0.4834977941639441,
          0.5276825639823742,
          0.6971579877474012,
          0.18978095331245687,
          0.6089536064092006,
          0.451170003378167,
          0.45902207750822915,
          0.41454638117859544,
          0.13266867323092504,
          0.35694301192111616,
          0.13652289837583634,
          0.5710251642091275,
          0.18668287784467413
         ]
        },
        {
         "marker": {
          "line": {
           "color": "rgba(217, 217, 217, 0.14)",
           "width": 0.5
          },
          "opacity": 0.8,
          "size": 12
         },
         "mode": "markers",
         "name": "quercus_texana",
         "type": "scatter3d",
         "x": [
          2.4071891473352336,
          3.717265223648295,
          1.314011737857564,
          1.1532041667403827,
          0.800102819503161,
          3.423185438319137,
          2.661148741464302,
          3.0771922299496013,
          4.658820076148869,
          4.0297594840500714,
          1.995045424086796,
          2.3924645919693392,
          2.490209181923418,
          1.0137772697668277,
          3.02287710776595,
          3.509234982918726
         ],
         "y": [
          2.9483318923470367,
          2.589740634611606,
          2.5986363118004037,
          2.6605860434649466,
          2.330460809196175,
          2.367335782729771,
          2.5394661641435494,
          2.3764334583044873,
          2.941465643654461,
          2.1901151766612066,
          2.7914821145666635,
          2.681274271053288,
          2.410407704064337,
          2.593003309963432,
          2.9605097217075445,
          2.21828745882854
         ],
         "z": [
          0.35881837469458977,
          0.12497652022177369,
          0.33710733152793515,
          0.2962660329382779,
          0.407144221320562,
          0.29683302455510047,
          0.38953727524821363,
          0.2859009537156929,
          0.05774624006519903,
          0.18388582346564405,
          0.2785720274124766,
          0.25472759848628973,
          0.3269512785464742,
          0.3904984948380111,
          0.28291138531375953,
          0.2182267601839557
         ]
        },
        {
         "marker": {
          "line": {
           "color": "rgba(217, 217, 217, 0.14)",
           "width": 0.5
          },
          "opacity": 0.8,
          "size": 12
         },
         "mode": "markers",
         "name": "quercus_x_turneri",
         "type": "scatter3d",
         "x": [
          -0.7497586291302464,
          -0.8060405643165962,
          -0.8188682682286088,
          -0.7065802357100175,
          -0.9621154208509058,
          -0.9869012443230538,
          -0.8083447109196426,
          -0.9713687407137818,
          -0.9927331102627182,
          -0.912920172018929,
          -0.9257435180585876,
          -0.7741611488162646,
          -1.0717588278755028,
          -0.930432508952402,
          -0.8275426151232271,
          -0.799996315053021
         ],
         "y": [
          0.15149795794759008,
          0.02482273406707894,
          0.06014895933133548,
          0.24450400624205726,
          -0.5680261630857223,
          -0.5557774727682468,
          -0.15463216856732426,
          -0.42039828667687956,
          -0.5154882400189108,
          -0.2790631867845639,
          -0.46583655656511674,
          0.0019013018174921371,
          -0.7039866942718678,
          -0.27656535378297664,
          0.007804731146041154,
          -0.077938579750706
         ],
         "z": [
          0.05299906785805782,
          -0.08179976743770004,
          -0.13359877453156815,
          0.08828172546971656,
          0.29947363088364387,
          -0.002978942027564869,
          0.15952657746690385,
          0.15775658490811748,
          0.019421998867813036,
          0.04793483912041306,
          0.34043966532603087,
          -0.09574587237606004,
          0.015012946778106197,
          -0.02334755112458234,
          -0.19762240970525818,
          -0.11439141629692408
         ]
        },
        {
         "marker": {
          "line": {
           "color": "rgba(217, 217, 217, 0.14)",
           "width": 0.5
          },
          "opacity": 0.8,
          "size": 12
         },
         "mode": "markers",
         "name": "salix_intergra",
         "type": "scatter3d",
         "x": [
          -2.5973748249674484,
          -2.585217482352254,
          -3.2989079596449193,
          -2.716757197151162,
          -3.341026240698979,
          -3.093606664901206,
          -2.202978376668556,
          -3.070669881740662,
          -2.665862339942462,
          -2.624201215566111,
          -2.6604502629648947,
          -2.505484224917815,
          -2.818841024895552,
          -2.6931169717197863,
          -2.427909368597682,
          -2.826866109168052
         ],
         "y": [
          -1.1682010221512695,
          -1.1819475694564527,
          -0.5227374118114786,
          -0.8348200826746621,
          -0.743392665481335,
          -0.8369803456253782,
          -1.154276637052371,
          -1.2203862375983485,
          -1.029481605579497,
          -1.1876670099625293,
          -1.2325875993197295,
          -1.0544741073195998,
          -0.9700755153708674,
          -0.8153543302465661,
          -1.263057926601257,
          -0.9164668154914632
         ],
         "z": [
          -0.18943017365612,
          -0.39480887084983707,
          -0.21070035145679175,
          -0.2336516775942671,
          -0.4747465114485874,
          -0.41478655162412553,
          0.09752097609955418,
          -0.2317580822392665,
          -0.41534158040615826,
          -0.06339364472272316,
          -0.1134170053375278,
          -0.11552324854844628,
          -0.01594181178755862,
          -0.3022237948674136,
          -0.22008235798828096,
          -0.12247755327058184
         ]
        }
       ],
       "layout": {
        "hovermode": "closest",
        "showlegend": false,
        "title": "Leaf Species",
        "xaxis": {
         "gridwidth": 2,
         "ticklen": 5,
         "title": "Principal Component 1",
         "zeroline": false
        },
        "yaxis": {
         "gridwidth": 2,
         "ticklen": 5,
         "title": "Principal Component 2"
        }
       }
      },
      "text/html": [
       "<div id=\"0fb6b724-6458-4e55-8181-f0fc6673063c\" style=\"height: 525px; width: 100%;\" class=\"plotly-graph-div\"></div><script type=\"text/javascript\">require([\"plotly\"], function(Plotly) { window.PLOTLYENV=window.PLOTLYENV || {};window.PLOTLYENV.BASE_URL=\"https://plot.ly\";Plotly.newPlot(\"0fb6b724-6458-4e55-8181-f0fc6673063c\", [{\"marker\": {\"size\": 12, \"line\": {\"width\": 0.5, \"color\": \"rgba(217, 217, 217, 0.14)\"}, \"opacity\": 0.8}, \"mode\": \"markers\", \"z\": [-0.018033409271843017, 0.06140473828406688, 0.018514439051604832, 0.09048964150064759, 0.04749188148647198, 0.046387430355537565, -0.023433980983155484, 0.04734278630955477, 0.04796342285582417, 0.14727468395955728, -0.0704699820146672, 0.0524483913733228, -0.038049693572284944, 0.0723037948950971, 0.14883658284955853, -0.14435864304419221], \"name\": \"acer_circinatum\", \"x\": [0.23424142416693347, -1.5416229693294088, -0.7272280008479501, -0.1450442121533773, -0.3018785989703378, 0.2506295180198486, -0.647867362417682, -0.6084738616870953, -0.24344210561831484, -0.6578488899322299, -0.16192111370431178, -0.48771859756858077, 0.1880196877437214, -0.40032993397636346, 0.003216557178066813, 1.7350264182876032], \"type\": \"scatter3d\", \"y\": [1.7285772126638723, 2.35885096024923, 2.05046162091652, 1.963244965437351, 2.2236782535366824, 1.446473092073744, 2.4763392619973184, 2.2247390184327274, 1.6572722259921941, 1.9404445361355407, 2.3066661751271824, 2.251891292314751, 2.0915999921128354, 1.9030539439121061, 2.3428859621636335, 1.5909244965879024]}, {\"marker\": {\"size\": 12, \"line\": {\"width\": 0.5, \"color\": \"rgba(217, 217, 217, 0.14)\"}, \"opacity\": 0.8}, \"mode\": \"markers\", \"z\": [0.6831144294156177, 0.6905808506086786, 0.7156109904232557, 0.6979334326534111, 0.5996362093756937, 0.6835045857843987, 0.6585608938528578, 0.6005380662154005, 0.741477180397419, 0.6336294954769354, 0.7359530420372843, 0.7383470298967468, 0.6094855081116642, 0.8107657299009527, 0.6675684738274252, 0.6324039570677643], \"name\": \"acer_mono\", \"x\": [-2.2815295867078116, -2.820573184461651, -2.4823094321736527, -2.4244097897454973, -2.4448331006680046, -2.2048532639896514, -1.897751519191953, -2.5587953273460307, -2.371083803366383, -2.956763810147109, -2.5237375930132067, -2.120205352245883, -2.0759055804021935, -2.290959775930013, -2.8308074373429237, -1.9617153734137602], \"type\": \"scatter3d\", \"y\": [0.8936878576945942, 1.9353626625016331, 0.08705161477932691, 1.8901419730381632, 1.1052516339610459, 1.5063896263591017, 1.069705210611745, 1.223059200788804, 1.1100042512378108, 0.7683246978295827, 1.1179911643815368, 2.3798743382668044, 2.301513062386791, 1.6307838943395765, 0.8106312598596784, 1.0149406013726228]}, {\"marker\": {\"size\": 12, \"line\": {\"width\": 0.5, \"color\": \"rgba(217, 217, 217, 0.14)\"}, \"opacity\": 0.8}, \"mode\": \"markers\", \"z\": [-6.637741572573253, -2.4438782412498274, -5.6996969231275, -2.9866844638192043, -3.4668520653035215, -3.4577146871922086, -4.121769444903015, -5.619841757779326, -4.715138875122389, -2.95191888546285, -4.537227961151422, -3.6998494156171167, -2.650185187596504, -3.6240757224819102, -4.977225405430533, -2.9952690715538743], \"name\": \"arundinaria_simonii\", \"x\": [-1.5812759460638337, -1.2848094074262928, -1.5289915728574945, -1.2075638848548353, -1.3147619363108358, -1.3918133967754558, -1.3649925489766255, -1.4441390922850588, -1.3622934614714493, -1.311712729915896, -1.392816912980954, -1.3306856344809352, -1.2478980977707166, -1.2588676198737625, -1.5116018144922103, -1.1869652600545664], \"type\": \"scatter3d\", \"y\": [-0.6945961113901493, -0.7159514320471128, -0.7311861496418874, -0.4291474652339926, -0.6091304137145995, -0.7996684260104121, -0.6012578990363475, -0.4897490479133666, -0.48525805173495506, -0.7115572335836949, -0.5018485369619289, -0.5750363734791295, -0.5798249529517409, -0.40933018838448954, -0.8324579838433982, -0.3186231656611528]}, {\"marker\": {\"size\": 12, \"line\": {\"width\": 0.5, \"color\": \"rgba(217, 217, 217, 0.14)\"}, \"opacity\": 0.8}, \"mode\": \"markers\", \"z\": [0.3074159573526103, 0.5155227700289498, 0.5220149971221564, 0.4653625147328546, 0.44962427824395124, 0.47176538109075833, 0.5330726826786917, 0.35306302910396786, 0.5281361067077504, 0.5823041634727042, 0.4677265013119869, 0.35003196335911707, 0.3048369759088985, 0.5360872665152934, 0.5373371537961484, 0.43380826893494484], \"name\": \"betula_pendula\", \"x\": [-3.8323218162278962, -3.5987425345643933, -3.4601407417231878, -3.7434251234601543, -3.7126016688524466, -3.6598553171782005, -3.374312913977134, -4.024611889055162, -3.397226250158959, -3.6992344124233325, -3.711817244943703, -3.980374422024323, -3.7404179156587025, -3.552356768071892, -3.41251346700559, -3.58952053101375], \"type\": \"scatter3d\", \"y\": [1.7088283760017458, 1.05784113751, 0.8100743600073643, 1.323032267727207, 1.1745387912352483, 1.4850373610073286, 0.9096154437074531, 1.3232211131182987, 1.1240018723858374, 0.4868911897406112, 1.1021317240560238, 1.5148797237374518, 1.8125418620654348, 0.7157404987851617, 0.8076024900537531, 1.9422497011651085]}, {\"marker\": {\"size\": 12, \"line\": {\"width\": 0.5, \"color\": \"rgba(217, 217, 217, 0.14)\"}, \"opacity\": 0.8}, \"mode\": \"markers\", \"z\": [-0.41876761669066936, -0.6683522949120156, -0.7476704238502268, -0.9062928050993776, -0.8681291318319813, -0.9241051595969718, -0.3071223223790102, -0.37941293870254345, -0.8595918624585455, -1.2302925261340603, -0.4175851382874143, -1.8766621764517384, -0.1592724180920617, -1.0322714789491438, -0.697115283175614, -1.0253988061770272], \"name\": \"castanea_sativa\", \"x\": [2.5023607294234953, 4.091328380595166, 5.611688807708838, 5.333523822236569, 3.6127455474013437, 4.680080062919784, 3.2108813322464336, 1.2627003133228478, 3.7223574627603275, 4.715106353101989, 1.7301145527411028, 7.533356848217169, 1.2144252736319254, 6.1943416552703345, 3.172741613891961, 3.005156954218309], \"type\": \"scatter3d\", \"y\": [-0.3851458803003769, -0.7545008202360793, -1.509545645268201, -0.7712936722239336, -0.5965167902277665, -0.8063378823245283, -1.2225808993114462, 0.3690010666336622, -0.388212459108668, -0.25173583671671707, -0.33611794591141236, -0.6704537727431025, -0.29466684226313816, -1.1060992665793545, -0.11518319264008882, -0.19200056247144118]}, {\"marker\": {\"size\": 12, \"line\": {\"width\": 0.5, \"color\": \"rgba(217, 217, 217, 0.14)\"}, \"opacity\": 0.8}, \"mode\": \"markers\", \"z\": [0.41785664280118967, 0.32698204928461605, 0.3556112592199209, 0.2278760851076212, 0.5576821192253364, 0.31018140177898207, 0.6127740322367095, 0.44224982352754094, 0.15691864511682502, 0.2975926337438164, 0.7659572175030609, 0.5441708371525159, 0.2130087859920424, 0.40483257167033204, 0.33596960587841135, 0.21933252548293256], \"name\": \"cornus_chinensis\", \"x\": [2.033987572945259, 1.0032739059735016, 1.55637716056683, 2.1747052603894006, 2.12181146951432, 2.372502268577146, 2.8790225683276414, 0.9738112804114761, 2.6518768854902213, 1.543692961423427, 1.5656128757333403, 1.9732050254323696, 0.7992541121090623, -1.4118254255889229, 0.6521536040410694, 2.4704356615393017], \"type\": \"scatter3d\", \"y\": [-1.793827837047143, -1.3146718575569216, -1.267776637113583, -1.5698000412278845, -1.4954387357180516, -1.8091089716384376, -2.4326500186472626, -1.2734716519078075, -1.3990788055486814, -1.2978966681025546, -2.0566512450421275, -1.6754622289870977, -0.8890124908848906, -0.33627366237113276, -1.0443781414798088, -1.582915646031328]}, {\"marker\": {\"size\": 12, \"line\": {\"width\": 0.5, \"color\": \"rgba(217, 217, 217, 0.14)\"}, \"opacity\": 0.8}, \"mode\": \"markers\", \"z\": [0.8691221215768568, 0.4862144846675573, 0.647098223554875, 0.6119613047782531, 0.45638459116589636, 0.5178024651615399, 0.5830294160667079, 0.5474643367294334, 0.7259931099013914, 0.7997736226824306, 0.5361882871196493, 0.8104918664342752, 0.7885693640422948, 0.7141319678749791, 0.753332842300862, 0.5109478369406503], \"name\": \"ilex_aquifolium\", \"x\": [-2.0802444128192934, -0.4960679075320167, -1.742726541435962, -1.1292391082524555, 0.382739763419284, 0.20140245613936053, -1.6391030053087414, -0.9047927943863224, 0.3395436251696797, -0.8091057673133278, -1.2150097649996656, -0.08984854353049349, -0.4665020114172833, -1.4265799619376054, -0.49940791397971046, -0.8744268536974662], \"type\": \"scatter3d\", \"y\": [-0.8849688683065108, -0.9374864607414769, -0.8812315622982626, -0.6748434531939759, -1.1029769370369045, -1.0189469005010332, -0.4404656770090991, -0.9817310680918852, -1.1198201815051618, -0.5266485399699448, -0.7831234162698963, -1.2134403995063223, -1.060466693015698, -0.6720718065314744, -0.5747490487908786, -0.8811613220429205]}, {\"marker\": {\"size\": 12, \"line\": {\"width\": 0.5, \"color\": \"rgba(217, 217, 217, 0.14)\"}, \"opacity\": 0.8}, \"mode\": \"markers\", \"z\": [0.5608232872696983, 0.6058775186360994, 0.2283141918788386, 0.6299169393619041, 0.7350775398781952, 0.5905178486210418, 0.615762481773671, 0.6394238181049537, 0.5957135849634619, 0.588565947701577, 0.46998133174928824, 0.6037884641777501, 0.611408620918057, 0.6812967033875279, 0.7786595380346483, 0.030735251021301813], \"name\": \"liriodendron_tulipifera\", \"x\": [7.5724920385158025, 6.748102561351241, 4.082271128706654, 5.285568143118289, 3.404889075993152, 3.5934149990658675, 6.364821442252968, 5.90975415530515, 6.673338015655701, 4.6525237549100895, 8.938948507047247, 6.9941263940982425, 6.688544851452589, 3.519339917862676, 2.400804637328278, 4.6924265892687425], \"type\": \"scatter3d\", \"y\": [-2.2730294911066657, -2.4159894198225973, -1.0719347220652609, -2.398492195521122, -1.5879042269817205, -1.4407000399996004, -2.0541137099085574, -2.7933861339608375, -2.353152297909713, -1.5581322978545522, -2.8369399890351015, -2.10338655263599, -2.880299119408924, -1.3446564509545047, -1.34423647658462, -1.3472142003604892]}, {\"marker\": {\"size\": 12, \"line\": {\"width\": 0.5, \"color\": \"rgba(217, 217, 217, 0.14)\"}, \"opacity\": 0.8}, \"mode\": \"markers\", \"z\": [0.35763694095178017, 0.5191060546859666, 0.25259607428706304, 0.14145922828856072, 0.2692577963811938, 0.18271357444422526, -0.006075821934381279, 0.29103170447660975, 0.36610574053518624, 0.3648013071995348, 0.3574188487531344, 0.2998383716690155, 0.2925104478107572, 0.26461286819090934, 0.36361435936984376, 0.16208019719999653], \"name\": \"lithocarpus_edulis\", \"x\": [-1.101242946553392, -1.0757931337158249, -0.944295026571798, -0.961673313130751, -1.0253723718154848, -1.1022888193875868, -0.9171117110853805, -1.0057460240401, -0.9842222032405471, -0.9666420363641718, -1.0705064588376518, -0.9602072333979403, -0.9795833964706077, -1.0106538602445394, -1.090571460861825, -0.9797791482702318], \"type\": \"scatter3d\", \"y\": [-1.0186044849470908, -0.9682636051664174, -0.5984638231629098, -0.6152915313949883, -0.7978595709155587, -0.9705595825987671, -0.48072507127591685, -0.7373523535412831, -0.7158936604226128, -0.6662714910351688, -0.9133018664417865, -0.6719265702633854, -0.6941274512058981, -0.742554811438612, -0.9713370463418839, -0.6525565645219512]}, {\"marker\": {\"size\": 12, \"line\": {\"width\": 0.5, \"color\": \"rgba(217, 217, 217, 0.14)\"}, \"opacity\": 0.8}, \"mode\": \"markers\", \"z\": [0.8845033134670367, 0.8725669964595975, 0.8737281779714294, 0.8469239069584139, 0.7228402943397082, 0.8561662619498412, 0.8941718761056862, 0.8926837969579193, 0.8687081315100323, 0.8228660579836327, 0.8752191729822654, 0.8883145425663433, 0.8490551153237981, 0.8749633138389468, 0.861508937294511, 0.8693007076377202], \"name\": \"populus_nigra\", \"x\": [-1.8158407516377821, -1.0290944330664056, -1.9179744290053762, -0.9260838373490371, -0.941402369588915, -0.6526444100792933, -0.8372740658759065, -0.9826815675698719, -1.3557822912029633, -1.1851392954651183, -1.5963691635295483, -1.541429294176696, -0.9164745044084165, -1.876098972504156, -1.8505971124495026, -0.35055552686947256], \"type\": \"scatter3d\", \"y\": [-0.43252953468471766, -1.0144819391815094, -0.833864497819477, -0.7979215467886126, -0.7397983215074572, -1.069363911249482, -1.1546336754425748, -1.036612020355904, -0.795217527366058, -0.8226607431084175, -0.7932841687033712, -0.8597867558795826, -0.9757960104885199, -0.6992906465385772, -0.34185830897074226, -1.0020571816641644]}, {\"marker\": {\"size\": 12, \"line\": {\"width\": 0.5, \"color\": \"rgba(217, 217, 217, 0.14)\"}, \"opacity\": 0.8}, \"mode\": \"markers\", \"z\": [0.19807458108121181, 0.2050606769484131, 0.08853949828108174, 0.21023922648610716, 0.6653798883163262, 0.47258232341494927, 0.34747992059804217, 0.19514848586313085, 0.5122521219169789, 0.3260394631113468, 0.4846895021171836, 0.2823917039945596, 0.31962068783735254, 0.4575544029753629, 0.3364885425352477, 0.3602775615423421], \"name\": \"prunus_x_shmittii\", \"x\": [2.7755678159751382, 0.21566514314318813, -1.4989755760033416, 2.292864886164673, -1.750002985622627, -1.0057724491764706, -0.8470180625874902, 1.4539022477819434, 0.32530344038102976, 1.9017028312320816, 0.1471294497939168, 2.205522657062296, 1.1553011845286565, 0.10791668721758205, 0.9163037850054871, 1.172437269189365], \"type\": \"scatter3d\", \"y\": [-0.8000983157981306, -0.3630384110354158, 0.2925526068476028, -1.2507844574195812, -0.23625960488430797, -0.24473459689353633, -0.07081725468850923, -0.6906474420972761, -0.7360176949708401, -1.0542789127640726, -0.9919776083936405, -0.9891523542119008, -0.4730987333842302, -0.9842214981394053, -0.6054977720483831, -0.734673030843242]}, {\"marker\": {\"size\": 12, \"line\": {\"width\": 0.5, \"color\": \"rgba(217, 217, 217, 0.14)\"}, \"opacity\": 0.8}, \"mode\": \"markers\", \"z\": [0.3579065701363034, 0.013833090106911614, 0.0702239769869104, -0.006821183401120236, -0.4434858926905527, 0.20109741935324463, -0.07938173750996876, 0.1798471334985034, -0.048021301636331656, -0.005683539686940454, -0.1139370312215543, 0.13676274973894562, 0.0615361867879053, 0.29054974445744003, 0.04610684915290621, -0.002627616377852412], \"name\": \"quercus_canariensis\", \"x\": [0.2743336894683156, -0.9566236217953245, -0.7177140827800289, -1.334698708206439, -0.7329585353329812, -0.014106829946522265, -1.590942912605407, -0.9259416263879168, -1.4566222256027985, -0.3958861153265282, -0.49083463349014395, -0.6773080268858214, -0.10601241460521717, 0.9066630015855898, -0.4716578968381216, -1.9364547612639664], \"type\": \"scatter3d\", \"y\": [-0.850813503577468, -0.44989023478558804, -0.8692706748328474, -0.24361168448876935, -1.0856390472162396, -1.1755530866253516, -0.29104962106248966, -0.36272923241577987, -0.5609791178515007, -0.39943025527946974, -0.5807622402456921, -0.4785252464111619, -0.7369306327070462, -1.3232154790392008, -0.5278770902754705, -0.11590548194275122]}, {\"marker\": {\"size\": 12, \"line\": {\"width\": 0.5, \"color\": \"rgba(217, 217, 217, 0.14)\"}, \"opacity\": 0.8}, \"mode\": \"markers\", \"z\": [-0.08415354502866101, 0.015328031193584994, 0.14614953623366994, 0.16454604022455568, 0.2943490758933318, 0.08785367065239602, 0.12673796871211074, -0.14096090588997087, -0.139877252389675, 0.21137322590922442, 0.04146725532765745, 0.1748791884297977, 0.14649321700099055, -0.01398654788415592, 0.1268102383572726, -0.06728665519560549], \"name\": \"quercus_chrysolepis\", \"x\": [-1.1379416772191555, -1.1965097348043778, -1.1745060129204892, -1.2409583297455218, -1.2774359860026288, -1.2549469098079762, -1.2013930539476754, -1.0901410604060646, -1.1152048185902002, -1.149653634565023, -1.2879664459038054, -1.1791372078395754, -1.2177364829731503, -1.1956519815333884, -1.1594446479122542, -1.217304795178991], \"type\": \"scatter3d\", \"y\": [-0.948553406058106, -1.1087591280727966, -1.091219381599438, -1.2598441854055662, -1.3928311144540637, -1.2544652700681622, -1.09112718886013, -0.82294730421431, -0.898974498967497, -1.0772119284304804, -1.3371851516876425, -1.0337312949480435, -1.1904322758263044, -1.1114242600271127, -1.07510775942292, -1.1580045548763256]}, {\"marker\": {\"size\": 12, \"line\": {\"width\": 0.5, \"color\": \"rgba(217, 217, 217, 0.14)\"}, \"opacity\": 0.8}, \"mode\": \"markers\", \"z\": [0.13034568524081297, 0.056404508987043564, 0.2666291655968776, 0.295200441061589, 0.14236090889600114, 0.1087707836111568, 0.3507532854800392, 0.4318303892687162, 0.3999693168831795, 0.14767605610648496, 0.16807200205290718, 0.1983837480092264, 0.49780211802228314, 0.4408898672448261, 0.07098288523688202, 0.17535073526892417], \"name\": \"quercus_infectoria_sub\", \"x\": [-2.3948087892133474, -2.2488175002924327, -2.1753613229807685, -1.213088015235776, -2.812368148237647, -2.146484801805155, -2.1261871427043912, -1.750806149942115, -1.3789429187833162, -2.1668939390911115, -1.205488805997798, -2.169420849161949, -1.6542142360265608, -1.690278382851731, -1.0990707522623082, -0.11071615916458202], \"type\": \"scatter3d\", \"y\": [0.18184552818544128, -0.3290828997209256, -0.05443111551693419, -0.34716489500895603, -0.1469130362945956, -0.2867609771238795, -0.6397725247454626, -0.3734341490452729, -0.3887742852457431, -0.4616136714738548, -0.7564288432061634, -0.1977186467100304, -0.5808043017571645, -0.5816232155465588, -0.9349817185736345, -0.7634421438596853]}, {\"marker\": {\"size\": 12, \"line\": {\"width\": 0.5, \"color\": \"rgba(217, 217, 217, 0.14)\"}, \"opacity\": 0.8}, \"mode\": \"markers\", \"z\": [-0.182150810429351, -0.42482737123271713, 0.26245580201202584, -0.2208991381186087, 0.11197820851597716, 0.07706733157078911, -0.0873880715788841, 0.37432210413389283, 0.033467157608970746, 0.3744900681010414, -0.17129220150520755, -0.28857648182725215, 0.10893478486936077, -0.09074024512073026, -0.013978096975872708, -0.012830960681992274], \"name\": \"quercus_nigra\", \"x\": [2.8464504154960824, 3.093739594501347, 1.1678943399159258, 3.094833595671853, 4.068417649170417, 4.013649746386441, 1.495042246604931, 2.57942438443309, -0.03936929618030197, 0.8557547430935531, 2.1700224228698977, 2.622331669483712, 1.4554890019086226, 1.6153202501740447, 3.7590253277119876, 3.006727877767183], \"type\": \"scatter3d\", \"y\": [-0.1688846979349357, 1.4918680876797423, -0.030115327210708007, -1.1488334775249243, -1.0252917952017961, -0.6412403754340434, 0.1277548862825732, -0.3474270506364926, 0.8180442453236064, 0.25690513318464847, 0.07762384912856433, -0.26986992026175416, -1.2106671669045987, -0.3428527945001967, -1.435559050334118, -1.6719995930085267]}, {\"marker\": {\"size\": 12, \"line\": {\"width\": 0.5, \"color\": \"rgba(217, 217, 217, 0.14)\"}, \"opacity\": 0.8}, \"mode\": \"markers\", \"z\": [-0.33032481852191964, -0.18260486142680737, -0.5432920566995249, -0.3171348616889768, -0.26179704598087655, -0.7984122859262471, -0.14953530312333563, -0.26350305038413735, -0.3506746941610995, -0.5547563252489772, 0.06032779837679029, -0.35131212518956345, 0.24319346964918628, -0.13767329250159632, -0.05932920901725144, -0.25125194232842823], \"name\": \"quercus_palustris\", \"x\": [3.655097969117916, 1.7183909789172973, 3.3095168535688693, 3.6747511403892346, 2.476302676383113, 4.6502293639970125, 2.5046401698833582, 2.6942716254415715, 3.092879825943321, 1.3543992843946682, 0.4205035611955406, 3.346817390997822, 0.5922532221653112, 1.8846776149533788, 2.6680348627619654, 0.9568469067181977], \"type\": \"scatter3d\", \"y\": [4.389424792562267, 4.690753354185382, 4.573033744127733, 4.733763235644914, 5.66922285028875, 5.70448056236421, 4.05444055377476, 4.447186991590821, 5.343639979621989, 5.873578616226061, 4.744079741864068, 4.125958086459335, 4.34642054147903, 4.525365805532905, 4.119680723066309, 5.323599452658536]}, {\"marker\": {\"size\": 12, \"line\": {\"width\": 0.5, \"color\": \"rgba(217, 217, 217, 0.14)\"}, \"opacity\": 0.8}, \"mode\": \"markers\", \"z\": [0.5489362609319353, 0.266439396184427, 0.28963367906773824, 0.4834977941639441, 0.5276825639823742, 0.6971579877474012, 0.18978095331245687, 0.6089536064092006, 0.451170003378167, 0.45902207750822915, 0.41454638117859544, 0.13266867323092504, 0.35694301192111616, 0.13652289837583634, 0.5710251642091275, 0.18668287784467413], \"name\": \"quercus_pontica\", \"x\": [-0.9368106672799644, -0.9695069652029791, -0.8653710634870784, -1.1471217780317635, -0.9321798342315918, -0.9564906165028502, -0.8665913847490059, -1.1357543296092236, -1.0562746162423866, -1.071695855696892, -1.0193713969836566, -1.0308802271096855, -1.03873581397796, -0.9244974623875261, -0.9934161994899958, -0.9573574769948225], \"type\": \"scatter3d\", \"y\": [-0.41267833523059805, -0.48151506358434387, -0.16951631466112074, -0.9495669296589384, -0.23774077067226757, -0.4401821425175244, -0.04558467562502254, -0.8664568082250194, -0.8419079536717542, -0.5762513085262859, -0.6808129929080793, -0.39836685784889964, -0.6419791313569924, -0.31614579441323304, -0.46528214426345804, -0.46451562195625473]}, {\"marker\": {\"size\": 12, \"line\": {\"width\": 0.5, \"color\": \"rgba(217, 217, 217, 0.14)\"}, \"opacity\": 0.8}, \"mode\": \"markers\", \"z\": [0.35881837469458977, 0.12497652022177369, 0.33710733152793515, 0.2962660329382779, 0.407144221320562, 0.29683302455510047, 0.38953727524821363, 0.2859009537156929, 0.05774624006519903, 0.18388582346564405, 0.2785720274124766, 0.25472759848628973, 0.3269512785464742, 0.3904984948380111, 0.28291138531375953, 0.2182267601839557], \"name\": \"quercus_texana\", \"x\": [2.4071891473352336, 3.717265223648295, 1.314011737857564, 1.1532041667403827, 0.800102819503161, 3.423185438319137, 2.661148741464302, 3.0771922299496013, 4.658820076148869, 4.0297594840500714, 1.995045424086796, 2.3924645919693392, 2.490209181923418, 1.0137772697668277, 3.02287710776595, 3.509234982918726], \"type\": \"scatter3d\", \"y\": [2.9483318923470367, 2.589740634611606, 2.5986363118004037, 2.6605860434649466, 2.330460809196175, 2.367335782729771, 2.5394661641435494, 2.3764334583044873, 2.941465643654461, 2.1901151766612066, 2.7914821145666635, 2.681274271053288, 2.410407704064337, 2.593003309963432, 2.9605097217075445, 2.21828745882854]}, {\"marker\": {\"size\": 12, \"line\": {\"width\": 0.5, \"color\": \"rgba(217, 217, 217, 0.14)\"}, \"opacity\": 0.8}, \"mode\": \"markers\", \"z\": [0.05299906785805782, -0.08179976743770004, -0.13359877453156815, 0.08828172546971656, 0.29947363088364387, -0.002978942027564869, 0.15952657746690385, 0.15775658490811748, 0.019421998867813036, 0.04793483912041306, 0.34043966532603087, -0.09574587237606004, 0.015012946778106197, -0.02334755112458234, -0.19762240970525818, -0.11439141629692408], \"name\": \"quercus_x_turneri\", \"x\": [-0.7497586291302464, -0.8060405643165962, -0.8188682682286088, -0.7065802357100175, -0.9621154208509058, -0.9869012443230538, -0.8083447109196426, -0.9713687407137818, -0.9927331102627182, -0.912920172018929, -0.9257435180585876, -0.7741611488162646, -1.0717588278755028, -0.930432508952402, -0.8275426151232271, -0.799996315053021], \"type\": \"scatter3d\", \"y\": [0.15149795794759008, 0.02482273406707894, 0.06014895933133548, 0.24450400624205726, -0.5680261630857223, -0.5557774727682468, -0.15463216856732426, -0.42039828667687956, -0.5154882400189108, -0.2790631867845639, -0.46583655656511674, 0.0019013018174921371, -0.7039866942718678, -0.27656535378297664, 0.007804731146041154, -0.077938579750706]}, {\"marker\": {\"size\": 12, \"line\": {\"width\": 0.5, \"color\": \"rgba(217, 217, 217, 0.14)\"}, \"opacity\": 0.8}, \"mode\": \"markers\", \"z\": [-0.18943017365612, -0.39480887084983707, -0.21070035145679175, -0.2336516775942671, -0.4747465114485874, -0.41478655162412553, 0.09752097609955418, -0.2317580822392665, -0.41534158040615826, -0.06339364472272316, -0.1134170053375278, -0.11552324854844628, -0.01594181178755862, -0.3022237948674136, -0.22008235798828096, -0.12247755327058184], \"name\": \"salix_intergra\", \"x\": [-2.5973748249674484, -2.585217482352254, -3.2989079596449193, -2.716757197151162, -3.341026240698979, -3.093606664901206, -2.202978376668556, -3.070669881740662, -2.665862339942462, -2.624201215566111, -2.6604502629648947, -2.505484224917815, -2.818841024895552, -2.6931169717197863, -2.427909368597682, -2.826866109168052], \"type\": \"scatter3d\", \"y\": [-1.1682010221512695, -1.1819475694564527, -0.5227374118114786, -0.8348200826746621, -0.743392665481335, -0.8369803456253782, -1.154276637052371, -1.2203862375983485, -1.029481605579497, -1.1876670099625293, -1.2325875993197295, -1.0544741073195998, -0.9700755153708674, -0.8153543302465661, -1.263057926601257, -0.9164668154914632]}], {\"xaxis\": {\"title\": \"Principal Component 1\", \"ticklen\": 5, \"zeroline\": false, \"gridwidth\": 2}, \"title\": \"Leaf Species\", \"hovermode\": \"closest\", \"yaxis\": {\"title\": \"Principal Component 2\", \"ticklen\": 5, \"gridwidth\": 2}, \"showlegend\": false}, {\"linkText\": \"Export to plot.ly\", \"showLink\": true})});</script>"
      ],
      "text/vnd.plotly.v1+html": [
       "<div id=\"0fb6b724-6458-4e55-8181-f0fc6673063c\" style=\"height: 525px; width: 100%;\" class=\"plotly-graph-div\"></div><script type=\"text/javascript\">require([\"plotly\"], function(Plotly) { window.PLOTLYENV=window.PLOTLYENV || {};window.PLOTLYENV.BASE_URL=\"https://plot.ly\";Plotly.newPlot(\"0fb6b724-6458-4e55-8181-f0fc6673063c\", [{\"marker\": {\"size\": 12, \"line\": {\"width\": 0.5, \"color\": \"rgba(217, 217, 217, 0.14)\"}, \"opacity\": 0.8}, \"mode\": \"markers\", \"z\": [-0.018033409271843017, 0.06140473828406688, 0.018514439051604832, 0.09048964150064759, 0.04749188148647198, 0.046387430355537565, -0.023433980983155484, 0.04734278630955477, 0.04796342285582417, 0.14727468395955728, -0.0704699820146672, 0.0524483913733228, -0.038049693572284944, 0.0723037948950971, 0.14883658284955853, -0.14435864304419221], \"name\": \"acer_circinatum\", \"x\": [0.23424142416693347, -1.5416229693294088, -0.7272280008479501, -0.1450442121533773, -0.3018785989703378, 0.2506295180198486, -0.647867362417682, -0.6084738616870953, -0.24344210561831484, -0.6578488899322299, -0.16192111370431178, -0.48771859756858077, 0.1880196877437214, -0.40032993397636346, 0.003216557178066813, 1.7350264182876032], \"type\": \"scatter3d\", \"y\": [1.7285772126638723, 2.35885096024923, 2.05046162091652, 1.963244965437351, 2.2236782535366824, 1.446473092073744, 2.4763392619973184, 2.2247390184327274, 1.6572722259921941, 1.9404445361355407, 2.3066661751271824, 2.251891292314751, 2.0915999921128354, 1.9030539439121061, 2.3428859621636335, 1.5909244965879024]}, {\"marker\": {\"size\": 12, \"line\": {\"width\": 0.5, \"color\": \"rgba(217, 217, 217, 0.14)\"}, \"opacity\": 0.8}, \"mode\": \"markers\", \"z\": [0.6831144294156177, 0.6905808506086786, 0.7156109904232557, 0.6979334326534111, 0.5996362093756937, 0.6835045857843987, 0.6585608938528578, 0.6005380662154005, 0.741477180397419, 0.6336294954769354, 0.7359530420372843, 0.7383470298967468, 0.6094855081116642, 0.8107657299009527, 0.6675684738274252, 0.6324039570677643], \"name\": \"acer_mono\", \"x\": [-2.2815295867078116, -2.820573184461651, -2.4823094321736527, -2.4244097897454973, -2.4448331006680046, -2.2048532639896514, -1.897751519191953, -2.5587953273460307, -2.371083803366383, -2.956763810147109, -2.5237375930132067, -2.120205352245883, -2.0759055804021935, -2.290959775930013, -2.8308074373429237, -1.9617153734137602], \"type\": \"scatter3d\", \"y\": [0.8936878576945942, 1.9353626625016331, 0.08705161477932691, 1.8901419730381632, 1.1052516339610459, 1.5063896263591017, 1.069705210611745, 1.223059200788804, 1.1100042512378108, 0.7683246978295827, 1.1179911643815368, 2.3798743382668044, 2.301513062386791, 1.6307838943395765, 0.8106312598596784, 1.0149406013726228]}, {\"marker\": {\"size\": 12, \"line\": {\"width\": 0.5, \"color\": \"rgba(217, 217, 217, 0.14)\"}, \"opacity\": 0.8}, \"mode\": \"markers\", \"z\": [-6.637741572573253, -2.4438782412498274, -5.6996969231275, -2.9866844638192043, -3.4668520653035215, -3.4577146871922086, -4.121769444903015, -5.619841757779326, -4.715138875122389, -2.95191888546285, -4.537227961151422, -3.6998494156171167, -2.650185187596504, -3.6240757224819102, -4.977225405430533, -2.9952690715538743], \"name\": \"arundinaria_simonii\", \"x\": [-1.5812759460638337, -1.2848094074262928, -1.5289915728574945, -1.2075638848548353, -1.3147619363108358, -1.3918133967754558, -1.3649925489766255, -1.4441390922850588, -1.3622934614714493, -1.311712729915896, -1.392816912980954, -1.3306856344809352, -1.2478980977707166, -1.2588676198737625, -1.5116018144922103, -1.1869652600545664], \"type\": \"scatter3d\", \"y\": [-0.6945961113901493, -0.7159514320471128, -0.7311861496418874, -0.4291474652339926, -0.6091304137145995, -0.7996684260104121, -0.6012578990363475, -0.4897490479133666, -0.48525805173495506, -0.7115572335836949, -0.5018485369619289, -0.5750363734791295, -0.5798249529517409, -0.40933018838448954, -0.8324579838433982, -0.3186231656611528]}, {\"marker\": {\"size\": 12, \"line\": {\"width\": 0.5, \"color\": \"rgba(217, 217, 217, 0.14)\"}, \"opacity\": 0.8}, \"mode\": \"markers\", \"z\": [0.3074159573526103, 0.5155227700289498, 0.5220149971221564, 0.4653625147328546, 0.44962427824395124, 0.47176538109075833, 0.5330726826786917, 0.35306302910396786, 0.5281361067077504, 0.5823041634727042, 0.4677265013119869, 0.35003196335911707, 0.3048369759088985, 0.5360872665152934, 0.5373371537961484, 0.43380826893494484], \"name\": \"betula_pendula\", \"x\": [-3.8323218162278962, -3.5987425345643933, -3.4601407417231878, -3.7434251234601543, -3.7126016688524466, -3.6598553171782005, -3.374312913977134, -4.024611889055162, -3.397226250158959, -3.6992344124233325, -3.711817244943703, -3.980374422024323, -3.7404179156587025, -3.552356768071892, -3.41251346700559, -3.58952053101375], \"type\": \"scatter3d\", \"y\": [1.7088283760017458, 1.05784113751, 0.8100743600073643, 1.323032267727207, 1.1745387912352483, 1.4850373610073286, 0.9096154437074531, 1.3232211131182987, 1.1240018723858374, 0.4868911897406112, 1.1021317240560238, 1.5148797237374518, 1.8125418620654348, 0.7157404987851617, 0.8076024900537531, 1.9422497011651085]}, {\"marker\": {\"size\": 12, \"line\": {\"width\": 0.5, \"color\": \"rgba(217, 217, 217, 0.14)\"}, \"opacity\": 0.8}, \"mode\": \"markers\", \"z\": [-0.41876761669066936, -0.6683522949120156, -0.7476704238502268, -0.9062928050993776, -0.8681291318319813, -0.9241051595969718, -0.3071223223790102, -0.37941293870254345, -0.8595918624585455, -1.2302925261340603, -0.4175851382874143, -1.8766621764517384, -0.1592724180920617, -1.0322714789491438, -0.697115283175614, -1.0253988061770272], \"name\": \"castanea_sativa\", \"x\": [2.5023607294234953, 4.091328380595166, 5.611688807708838, 5.333523822236569, 3.6127455474013437, 4.680080062919784, 3.2108813322464336, 1.2627003133228478, 3.7223574627603275, 4.715106353101989, 1.7301145527411028, 7.533356848217169, 1.2144252736319254, 6.1943416552703345, 3.172741613891961, 3.005156954218309], \"type\": \"scatter3d\", \"y\": [-0.3851458803003769, -0.7545008202360793, -1.509545645268201, -0.7712936722239336, -0.5965167902277665, -0.8063378823245283, -1.2225808993114462, 0.3690010666336622, -0.388212459108668, -0.25173583671671707, -0.33611794591141236, -0.6704537727431025, -0.29466684226313816, -1.1060992665793545, -0.11518319264008882, -0.19200056247144118]}, {\"marker\": {\"size\": 12, \"line\": {\"width\": 0.5, \"color\": \"rgba(217, 217, 217, 0.14)\"}, \"opacity\": 0.8}, \"mode\": \"markers\", \"z\": [0.41785664280118967, 0.32698204928461605, 0.3556112592199209, 0.2278760851076212, 0.5576821192253364, 0.31018140177898207, 0.6127740322367095, 0.44224982352754094, 0.15691864511682502, 0.2975926337438164, 0.7659572175030609, 0.5441708371525159, 0.2130087859920424, 0.40483257167033204, 0.33596960587841135, 0.21933252548293256], \"name\": \"cornus_chinensis\", \"x\": [2.033987572945259, 1.0032739059735016, 1.55637716056683, 2.1747052603894006, 2.12181146951432, 2.372502268577146, 2.8790225683276414, 0.9738112804114761, 2.6518768854902213, 1.543692961423427, 1.5656128757333403, 1.9732050254323696, 0.7992541121090623, -1.4118254255889229, 0.6521536040410694, 2.4704356615393017], \"type\": \"scatter3d\", \"y\": [-1.793827837047143, -1.3146718575569216, -1.267776637113583, -1.5698000412278845, -1.4954387357180516, -1.8091089716384376, -2.4326500186472626, -1.2734716519078075, -1.3990788055486814, -1.2978966681025546, -2.0566512450421275, -1.6754622289870977, -0.8890124908848906, -0.33627366237113276, -1.0443781414798088, -1.582915646031328]}, {\"marker\": {\"size\": 12, \"line\": {\"width\": 0.5, \"color\": \"rgba(217, 217, 217, 0.14)\"}, \"opacity\": 0.8}, \"mode\": \"markers\", \"z\": [0.8691221215768568, 0.4862144846675573, 0.647098223554875, 0.6119613047782531, 0.45638459116589636, 0.5178024651615399, 0.5830294160667079, 0.5474643367294334, 0.7259931099013914, 0.7997736226824306, 0.5361882871196493, 0.8104918664342752, 0.7885693640422948, 0.7141319678749791, 0.753332842300862, 0.5109478369406503], \"name\": \"ilex_aquifolium\", \"x\": [-2.0802444128192934, -0.4960679075320167, -1.742726541435962, -1.1292391082524555, 0.382739763419284, 0.20140245613936053, -1.6391030053087414, -0.9047927943863224, 0.3395436251696797, -0.8091057673133278, -1.2150097649996656, -0.08984854353049349, -0.4665020114172833, -1.4265799619376054, -0.49940791397971046, -0.8744268536974662], \"type\": \"scatter3d\", \"y\": [-0.8849688683065108, -0.9374864607414769, -0.8812315622982626, -0.6748434531939759, -1.1029769370369045, -1.0189469005010332, -0.4404656770090991, -0.9817310680918852, -1.1198201815051618, -0.5266485399699448, -0.7831234162698963, -1.2134403995063223, -1.060466693015698, -0.6720718065314744, -0.5747490487908786, -0.8811613220429205]}, {\"marker\": {\"size\": 12, \"line\": {\"width\": 0.5, \"color\": \"rgba(217, 217, 217, 0.14)\"}, \"opacity\": 0.8}, \"mode\": \"markers\", \"z\": [0.5608232872696983, 0.6058775186360994, 0.2283141918788386, 0.6299169393619041, 0.7350775398781952, 0.5905178486210418, 0.615762481773671, 0.6394238181049537, 0.5957135849634619, 0.588565947701577, 0.46998133174928824, 0.6037884641777501, 0.611408620918057, 0.6812967033875279, 0.7786595380346483, 0.030735251021301813], \"name\": \"liriodendron_tulipifera\", \"x\": [7.5724920385158025, 6.748102561351241, 4.082271128706654, 5.285568143118289, 3.404889075993152, 3.5934149990658675, 6.364821442252968, 5.90975415530515, 6.673338015655701, 4.6525237549100895, 8.938948507047247, 6.9941263940982425, 6.688544851452589, 3.519339917862676, 2.400804637328278, 4.6924265892687425], \"type\": \"scatter3d\", \"y\": [-2.2730294911066657, -2.4159894198225973, -1.0719347220652609, -2.398492195521122, -1.5879042269817205, -1.4407000399996004, -2.0541137099085574, -2.7933861339608375, -2.353152297909713, -1.5581322978545522, -2.8369399890351015, -2.10338655263599, -2.880299119408924, -1.3446564509545047, -1.34423647658462, -1.3472142003604892]}, {\"marker\": {\"size\": 12, \"line\": {\"width\": 0.5, \"color\": \"rgba(217, 217, 217, 0.14)\"}, \"opacity\": 0.8}, \"mode\": \"markers\", \"z\": [0.35763694095178017, 0.5191060546859666, 0.25259607428706304, 0.14145922828856072, 0.2692577963811938, 0.18271357444422526, -0.006075821934381279, 0.29103170447660975, 0.36610574053518624, 0.3648013071995348, 0.3574188487531344, 0.2998383716690155, 0.2925104478107572, 0.26461286819090934, 0.36361435936984376, 0.16208019719999653], \"name\": \"lithocarpus_edulis\", \"x\": [-1.101242946553392, -1.0757931337158249, -0.944295026571798, -0.961673313130751, -1.0253723718154848, -1.1022888193875868, -0.9171117110853805, -1.0057460240401, -0.9842222032405471, -0.9666420363641718, -1.0705064588376518, -0.9602072333979403, -0.9795833964706077, -1.0106538602445394, -1.090571460861825, -0.9797791482702318], \"type\": \"scatter3d\", \"y\": [-1.0186044849470908, -0.9682636051664174, -0.5984638231629098, -0.6152915313949883, -0.7978595709155587, -0.9705595825987671, -0.48072507127591685, -0.7373523535412831, -0.7158936604226128, -0.6662714910351688, -0.9133018664417865, -0.6719265702633854, -0.6941274512058981, -0.742554811438612, -0.9713370463418839, -0.6525565645219512]}, {\"marker\": {\"size\": 12, \"line\": {\"width\": 0.5, \"color\": \"rgba(217, 217, 217, 0.14)\"}, \"opacity\": 0.8}, \"mode\": \"markers\", \"z\": [0.8845033134670367, 0.8725669964595975, 0.8737281779714294, 0.8469239069584139, 0.7228402943397082, 0.8561662619498412, 0.8941718761056862, 0.8926837969579193, 0.8687081315100323, 0.8228660579836327, 0.8752191729822654, 0.8883145425663433, 0.8490551153237981, 0.8749633138389468, 0.861508937294511, 0.8693007076377202], \"name\": \"populus_nigra\", \"x\": [-1.8158407516377821, -1.0290944330664056, -1.9179744290053762, -0.9260838373490371, -0.941402369588915, -0.6526444100792933, -0.8372740658759065, -0.9826815675698719, -1.3557822912029633, -1.1851392954651183, -1.5963691635295483, -1.541429294176696, -0.9164745044084165, -1.876098972504156, -1.8505971124495026, -0.35055552686947256], \"type\": \"scatter3d\", \"y\": [-0.43252953468471766, -1.0144819391815094, -0.833864497819477, -0.7979215467886126, -0.7397983215074572, -1.069363911249482, -1.1546336754425748, -1.036612020355904, -0.795217527366058, -0.8226607431084175, -0.7932841687033712, -0.8597867558795826, -0.9757960104885199, -0.6992906465385772, -0.34185830897074226, -1.0020571816641644]}, {\"marker\": {\"size\": 12, \"line\": {\"width\": 0.5, \"color\": \"rgba(217, 217, 217, 0.14)\"}, \"opacity\": 0.8}, \"mode\": \"markers\", \"z\": [0.19807458108121181, 0.2050606769484131, 0.08853949828108174, 0.21023922648610716, 0.6653798883163262, 0.47258232341494927, 0.34747992059804217, 0.19514848586313085, 0.5122521219169789, 0.3260394631113468, 0.4846895021171836, 0.2823917039945596, 0.31962068783735254, 0.4575544029753629, 0.3364885425352477, 0.3602775615423421], \"name\": \"prunus_x_shmittii\", \"x\": [2.7755678159751382, 0.21566514314318813, -1.4989755760033416, 2.292864886164673, -1.750002985622627, -1.0057724491764706, -0.8470180625874902, 1.4539022477819434, 0.32530344038102976, 1.9017028312320816, 0.1471294497939168, 2.205522657062296, 1.1553011845286565, 0.10791668721758205, 0.9163037850054871, 1.172437269189365], \"type\": \"scatter3d\", \"y\": [-0.8000983157981306, -0.3630384110354158, 0.2925526068476028, -1.2507844574195812, -0.23625960488430797, -0.24473459689353633, -0.07081725468850923, -0.6906474420972761, -0.7360176949708401, -1.0542789127640726, -0.9919776083936405, -0.9891523542119008, -0.4730987333842302, -0.9842214981394053, -0.6054977720483831, -0.734673030843242]}, {\"marker\": {\"size\": 12, \"line\": {\"width\": 0.5, \"color\": \"rgba(217, 217, 217, 0.14)\"}, \"opacity\": 0.8}, \"mode\": \"markers\", \"z\": [0.3579065701363034, 0.013833090106911614, 0.0702239769869104, -0.006821183401120236, -0.4434858926905527, 0.20109741935324463, -0.07938173750996876, 0.1798471334985034, -0.048021301636331656, -0.005683539686940454, -0.1139370312215543, 0.13676274973894562, 0.0615361867879053, 0.29054974445744003, 0.04610684915290621, -0.002627616377852412], \"name\": \"quercus_canariensis\", \"x\": [0.2743336894683156, -0.9566236217953245, -0.7177140827800289, -1.334698708206439, -0.7329585353329812, -0.014106829946522265, -1.590942912605407, -0.9259416263879168, -1.4566222256027985, -0.3958861153265282, -0.49083463349014395, -0.6773080268858214, -0.10601241460521717, 0.9066630015855898, -0.4716578968381216, -1.9364547612639664], \"type\": \"scatter3d\", \"y\": [-0.850813503577468, -0.44989023478558804, -0.8692706748328474, -0.24361168448876935, -1.0856390472162396, -1.1755530866253516, -0.29104962106248966, -0.36272923241577987, -0.5609791178515007, -0.39943025527946974, -0.5807622402456921, -0.4785252464111619, -0.7369306327070462, -1.3232154790392008, -0.5278770902754705, -0.11590548194275122]}, {\"marker\": {\"size\": 12, \"line\": {\"width\": 0.5, \"color\": \"rgba(217, 217, 217, 0.14)\"}, \"opacity\": 0.8}, \"mode\": \"markers\", \"z\": [-0.08415354502866101, 0.015328031193584994, 0.14614953623366994, 0.16454604022455568, 0.2943490758933318, 0.08785367065239602, 0.12673796871211074, -0.14096090588997087, -0.139877252389675, 0.21137322590922442, 0.04146725532765745, 0.1748791884297977, 0.14649321700099055, -0.01398654788415592, 0.1268102383572726, -0.06728665519560549], \"name\": \"quercus_chrysolepis\", \"x\": [-1.1379416772191555, -1.1965097348043778, -1.1745060129204892, -1.2409583297455218, -1.2774359860026288, -1.2549469098079762, -1.2013930539476754, -1.0901410604060646, -1.1152048185902002, -1.149653634565023, -1.2879664459038054, -1.1791372078395754, -1.2177364829731503, -1.1956519815333884, -1.1594446479122542, -1.217304795178991], \"type\": \"scatter3d\", \"y\": [-0.948553406058106, -1.1087591280727966, -1.091219381599438, -1.2598441854055662, -1.3928311144540637, -1.2544652700681622, -1.09112718886013, -0.82294730421431, -0.898974498967497, -1.0772119284304804, -1.3371851516876425, -1.0337312949480435, -1.1904322758263044, -1.1114242600271127, -1.07510775942292, -1.1580045548763256]}, {\"marker\": {\"size\": 12, \"line\": {\"width\": 0.5, \"color\": \"rgba(217, 217, 217, 0.14)\"}, \"opacity\": 0.8}, \"mode\": \"markers\", \"z\": [0.13034568524081297, 0.056404508987043564, 0.2666291655968776, 0.295200441061589, 0.14236090889600114, 0.1087707836111568, 0.3507532854800392, 0.4318303892687162, 0.3999693168831795, 0.14767605610648496, 0.16807200205290718, 0.1983837480092264, 0.49780211802228314, 0.4408898672448261, 0.07098288523688202, 0.17535073526892417], \"name\": \"quercus_infectoria_sub\", \"x\": [-2.3948087892133474, -2.2488175002924327, -2.1753613229807685, -1.213088015235776, -2.812368148237647, -2.146484801805155, -2.1261871427043912, -1.750806149942115, -1.3789429187833162, -2.1668939390911115, -1.205488805997798, -2.169420849161949, -1.6542142360265608, -1.690278382851731, -1.0990707522623082, -0.11071615916458202], \"type\": \"scatter3d\", \"y\": [0.18184552818544128, -0.3290828997209256, -0.05443111551693419, -0.34716489500895603, -0.1469130362945956, -0.2867609771238795, -0.6397725247454626, -0.3734341490452729, -0.3887742852457431, -0.4616136714738548, -0.7564288432061634, -0.1977186467100304, -0.5808043017571645, -0.5816232155465588, -0.9349817185736345, -0.7634421438596853]}, {\"marker\": {\"size\": 12, \"line\": {\"width\": 0.5, \"color\": \"rgba(217, 217, 217, 0.14)\"}, \"opacity\": 0.8}, \"mode\": \"markers\", \"z\": [-0.182150810429351, -0.42482737123271713, 0.26245580201202584, -0.2208991381186087, 0.11197820851597716, 0.07706733157078911, -0.0873880715788841, 0.37432210413389283, 0.033467157608970746, 0.3744900681010414, -0.17129220150520755, -0.28857648182725215, 0.10893478486936077, -0.09074024512073026, -0.013978096975872708, -0.012830960681992274], \"name\": \"quercus_nigra\", \"x\": [2.8464504154960824, 3.093739594501347, 1.1678943399159258, 3.094833595671853, 4.068417649170417, 4.013649746386441, 1.495042246604931, 2.57942438443309, -0.03936929618030197, 0.8557547430935531, 2.1700224228698977, 2.622331669483712, 1.4554890019086226, 1.6153202501740447, 3.7590253277119876, 3.006727877767183], \"type\": \"scatter3d\", \"y\": [-0.1688846979349357, 1.4918680876797423, -0.030115327210708007, -1.1488334775249243, -1.0252917952017961, -0.6412403754340434, 0.1277548862825732, -0.3474270506364926, 0.8180442453236064, 0.25690513318464847, 0.07762384912856433, -0.26986992026175416, -1.2106671669045987, -0.3428527945001967, -1.435559050334118, -1.6719995930085267]}, {\"marker\": {\"size\": 12, \"line\": {\"width\": 0.5, \"color\": \"rgba(217, 217, 217, 0.14)\"}, \"opacity\": 0.8}, \"mode\": \"markers\", \"z\": [-0.33032481852191964, -0.18260486142680737, -0.5432920566995249, -0.3171348616889768, -0.26179704598087655, -0.7984122859262471, -0.14953530312333563, -0.26350305038413735, -0.3506746941610995, -0.5547563252489772, 0.06032779837679029, -0.35131212518956345, 0.24319346964918628, -0.13767329250159632, -0.05932920901725144, -0.25125194232842823], \"name\": \"quercus_palustris\", \"x\": [3.655097969117916, 1.7183909789172973, 3.3095168535688693, 3.6747511403892346, 2.476302676383113, 4.6502293639970125, 2.5046401698833582, 2.6942716254415715, 3.092879825943321, 1.3543992843946682, 0.4205035611955406, 3.346817390997822, 0.5922532221653112, 1.8846776149533788, 2.6680348627619654, 0.9568469067181977], \"type\": \"scatter3d\", \"y\": [4.389424792562267, 4.690753354185382, 4.573033744127733, 4.733763235644914, 5.66922285028875, 5.70448056236421, 4.05444055377476, 4.447186991590821, 5.343639979621989, 5.873578616226061, 4.744079741864068, 4.125958086459335, 4.34642054147903, 4.525365805532905, 4.119680723066309, 5.323599452658536]}, {\"marker\": {\"size\": 12, \"line\": {\"width\": 0.5, \"color\": \"rgba(217, 217, 217, 0.14)\"}, \"opacity\": 0.8}, \"mode\": \"markers\", \"z\": [0.5489362609319353, 0.266439396184427, 0.28963367906773824, 0.4834977941639441, 0.5276825639823742, 0.6971579877474012, 0.18978095331245687, 0.6089536064092006, 0.451170003378167, 0.45902207750822915, 0.41454638117859544, 0.13266867323092504, 0.35694301192111616, 0.13652289837583634, 0.5710251642091275, 0.18668287784467413], \"name\": \"quercus_pontica\", \"x\": [-0.9368106672799644, -0.9695069652029791, -0.8653710634870784, -1.1471217780317635, -0.9321798342315918, -0.9564906165028502, -0.8665913847490059, -1.1357543296092236, -1.0562746162423866, -1.071695855696892, -1.0193713969836566, -1.0308802271096855, -1.03873581397796, -0.9244974623875261, -0.9934161994899958, -0.9573574769948225], \"type\": \"scatter3d\", \"y\": [-0.41267833523059805, -0.48151506358434387, -0.16951631466112074, -0.9495669296589384, -0.23774077067226757, -0.4401821425175244, -0.04558467562502254, -0.8664568082250194, -0.8419079536717542, -0.5762513085262859, -0.6808129929080793, -0.39836685784889964, -0.6419791313569924, -0.31614579441323304, -0.46528214426345804, -0.46451562195625473]}, {\"marker\": {\"size\": 12, \"line\": {\"width\": 0.5, \"color\": \"rgba(217, 217, 217, 0.14)\"}, \"opacity\": 0.8}, \"mode\": \"markers\", \"z\": [0.35881837469458977, 0.12497652022177369, 0.33710733152793515, 0.2962660329382779, 0.407144221320562, 0.29683302455510047, 0.38953727524821363, 0.2859009537156929, 0.05774624006519903, 0.18388582346564405, 0.2785720274124766, 0.25472759848628973, 0.3269512785464742, 0.3904984948380111, 0.28291138531375953, 0.2182267601839557], \"name\": \"quercus_texana\", \"x\": [2.4071891473352336, 3.717265223648295, 1.314011737857564, 1.1532041667403827, 0.800102819503161, 3.423185438319137, 2.661148741464302, 3.0771922299496013, 4.658820076148869, 4.0297594840500714, 1.995045424086796, 2.3924645919693392, 2.490209181923418, 1.0137772697668277, 3.02287710776595, 3.509234982918726], \"type\": \"scatter3d\", \"y\": [2.9483318923470367, 2.589740634611606, 2.5986363118004037, 2.6605860434649466, 2.330460809196175, 2.367335782729771, 2.5394661641435494, 2.3764334583044873, 2.941465643654461, 2.1901151766612066, 2.7914821145666635, 2.681274271053288, 2.410407704064337, 2.593003309963432, 2.9605097217075445, 2.21828745882854]}, {\"marker\": {\"size\": 12, \"line\": {\"width\": 0.5, \"color\": \"rgba(217, 217, 217, 0.14)\"}, \"opacity\": 0.8}, \"mode\": \"markers\", \"z\": [0.05299906785805782, -0.08179976743770004, -0.13359877453156815, 0.08828172546971656, 0.29947363088364387, -0.002978942027564869, 0.15952657746690385, 0.15775658490811748, 0.019421998867813036, 0.04793483912041306, 0.34043966532603087, -0.09574587237606004, 0.015012946778106197, -0.02334755112458234, -0.19762240970525818, -0.11439141629692408], \"name\": \"quercus_x_turneri\", \"x\": [-0.7497586291302464, -0.8060405643165962, -0.8188682682286088, -0.7065802357100175, -0.9621154208509058, -0.9869012443230538, -0.8083447109196426, -0.9713687407137818, -0.9927331102627182, -0.912920172018929, -0.9257435180585876, -0.7741611488162646, -1.0717588278755028, -0.930432508952402, -0.8275426151232271, -0.799996315053021], \"type\": \"scatter3d\", \"y\": [0.15149795794759008, 0.02482273406707894, 0.06014895933133548, 0.24450400624205726, -0.5680261630857223, -0.5557774727682468, -0.15463216856732426, -0.42039828667687956, -0.5154882400189108, -0.2790631867845639, -0.46583655656511674, 0.0019013018174921371, -0.7039866942718678, -0.27656535378297664, 0.007804731146041154, -0.077938579750706]}, {\"marker\": {\"size\": 12, \"line\": {\"width\": 0.5, \"color\": \"rgba(217, 217, 217, 0.14)\"}, \"opacity\": 0.8}, \"mode\": \"markers\", \"z\": [-0.18943017365612, -0.39480887084983707, -0.21070035145679175, -0.2336516775942671, -0.4747465114485874, -0.41478655162412553, 0.09752097609955418, -0.2317580822392665, -0.41534158040615826, -0.06339364472272316, -0.1134170053375278, -0.11552324854844628, -0.01594181178755862, -0.3022237948674136, -0.22008235798828096, -0.12247755327058184], \"name\": \"salix_intergra\", \"x\": [-2.5973748249674484, -2.585217482352254, -3.2989079596449193, -2.716757197151162, -3.341026240698979, -3.093606664901206, -2.202978376668556, -3.070669881740662, -2.665862339942462, -2.624201215566111, -2.6604502629648947, -2.505484224917815, -2.818841024895552, -2.6931169717197863, -2.427909368597682, -2.826866109168052], \"type\": \"scatter3d\", \"y\": [-1.1682010221512695, -1.1819475694564527, -0.5227374118114786, -0.8348200826746621, -0.743392665481335, -0.8369803456253782, -1.154276637052371, -1.2203862375983485, -1.029481605579497, -1.1876670099625293, -1.2325875993197295, -1.0544741073195998, -0.9700755153708674, -0.8153543302465661, -1.263057926601257, -0.9164668154914632]}], {\"xaxis\": {\"title\": \"Principal Component 1\", \"ticklen\": 5, \"zeroline\": false, \"gridwidth\": 2}, \"title\": \"Leaf Species\", \"hovermode\": \"closest\", \"yaxis\": {\"title\": \"Principal Component 2\", \"ticklen\": 5, \"gridwidth\": 2}, \"showlegend\": false}, {\"linkText\": \"Export to plot.ly\", \"showLink\": true})});</script>"
      ]
     },
     "metadata": {},
     "output_type": "display_data"
    }
   ],
   "source": [
    "traces = []\n",
    "\n",
    "for name in numpy.unique(y):\n",
    "    trace = go.Scatter3d(\n",
    "        x=Y[y==name,0],\n",
    "        y=Y[y==name,1],\n",
    "        z=Y[y==name,2],\n",
    "        mode=\"markers\",\n",
    "        name=name,\n",
    "        marker=go.Marker(\n",
    "            size=12,\n",
    "            line=go.Line(\n",
    "                color=\"rgba(217, 217, 217, 0.14)\",\n",
    "                width=0.5),\n",
    "            opacity=0.8))\n",
    "    traces.append(trace)\n",
    "   \n",
    "layout = go.Layout(\n",
    "    title= \"Leaf Species\",\n",
    "    hovermode= \"closest\",\n",
    "    xaxis= dict(\n",
    "        title= \"Principal Component 1\",\n",
    "        ticklen= 5,\n",
    "        zeroline= False,\n",
    "        gridwidth= 2,\n",
    "    ),\n",
    "    yaxis=dict(\n",
    "        title= \"Principal Component 2\",\n",
    "        ticklen= 5,\n",
    "        gridwidth= 2,\n",
    "    ),\n",
    "    showlegend= False\n",
    ")\n",
    "\n",
    "fig = go.Figure(data=go.Data(traces), layout=layout)\n",
    "po.iplot(fig)"
   ]
  },
  {
   "cell_type": "markdown",
   "metadata": {},
   "source": [
    "## 6. Gradient Boosting Classifier"
   ]
  },
  {
   "cell_type": "markdown",
   "metadata": {},
   "source": [
    "### 6.1 Split the data into train and test set"
   ]
  },
  {
   "cell_type": "code",
   "execution_count": 88,
   "metadata": {
    "collapsed": true
   },
   "outputs": [],
   "source": [
    "#Split train and test set\n",
    "seed = [\"test\"] * 6 + [\"train\"] * 10\n",
    "\n",
    "rowset = []\n",
    "for _ in range(20):\n",
    "    random.shuffle(seed)\n",
    "    rowset += seed\n",
    "\n",
    "rowset = numpy.array(rowset)\n",
    "\n",
    "trainset = dataset[rowset == \"train\"]\n",
    "traindata = trainset.iloc[:,1:-2]\n",
    "traintarget = trainset.iloc[:, -1]\n",
    "\n",
    "testset = dataset[rowset == \"test\"]\n",
    "testdata = testset.iloc[:,1:-2]\n",
    "testtarget = testset.iloc[:, -1]"
   ]
  },
  {
   "cell_type": "markdown",
   "metadata": {},
   "source": [
    "### 6.2 Fit SVM"
   ]
  },
  {
   "cell_type": "code",
   "execution_count": 89,
   "metadata": {},
   "outputs": [
    {
     "data": {
      "text/plain": [
       "array([20, 20, 20, 20, 20, 20, 20, 20, 20, 20, 20, 20, 20, 20, 20, 20, 20,\n",
       "       20, 20, 20, 20, 20, 20, 20, 20, 20, 20, 20, 20, 20, 20, 20, 20, 20,\n",
       "       20, 20, 20, 20, 20, 20, 20, 20, 20, 20, 20, 20, 20, 20, 20, 20, 20,\n",
       "       20, 20, 20, 20, 20, 10, 20, 20, 20, 20, 20, 20, 20, 20, 20, 20, 20,\n",
       "       20, 20, 20, 20, 20, 20, 20, 20, 20, 20, 20, 20, 20, 20, 20, 20, 20,\n",
       "       20, 20, 20, 20, 20, 20, 20, 20, 20, 20, 20, 20, 20, 20, 20, 20, 20,\n",
       "       20, 20, 20, 20, 20, 20, 20, 20, 20, 20, 20, 20, 20, 20, 20, 20, 20,\n",
       "       20])"
      ]
     },
     "execution_count": 89,
     "metadata": {},
     "output_type": "execute_result"
    }
   ],
   "source": [
    "from sklearn import svm\n",
    "clf = svm.SVC(gamma=0.001, C=100.)\n",
    "\n",
    "clf.fit(traindata, traintarget)\n",
    "clf.predict(testdata)"
   ]
  },
  {
   "cell_type": "markdown",
   "metadata": {},
   "source": [
    "## 7. Results"
   ]
  },
  {
   "cell_type": "markdown",
   "metadata": {},
   "source": [
    "TODO: present results (accuracy, confusion matrix, and so on)"
   ]
  },
  {
   "cell_type": "markdown",
   "metadata": {},
   "source": [
    "## 8. Concluding remarks"
   ]
  },
  {
   "cell_type": "markdown",
   "metadata": {},
   "source": [
    "TODO: Present some conclusions about this analysis"
   ]
  }
 ],
 "metadata": {
  "kernelspec": {
   "display_name": "Python 3",
   "language": "python",
   "name": "python3"
  },
  "language_info": {
   "codemirror_mode": {
    "name": "ipython",
    "version": 3
   },
   "file_extension": ".py",
   "mimetype": "text/x-python",
   "name": "python",
   "nbconvert_exporter": "python",
   "pygments_lexer": "ipython3",
   "version": "3.5.2"
  }
 },
 "nbformat": 4,
 "nbformat_minor": 2
}
