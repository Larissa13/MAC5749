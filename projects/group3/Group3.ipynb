{
 "cells": [
  {
   "cell_type": "markdown",
   "metadata": {},
   "source": [
    "# Leaf classification with Gradient Boosting"
   ]
  },
  {
   "cell_type": "markdown",
   "metadata": {},
   "source": [
    "TODO: improve this introductory section!\n",
    "\n",
    "This notebook presents a practical overview about shape analysis and classification. \n",
    "\n",
    "The dataset are available at [UCI repository](https://archive.ics.uci.edu/ml/datasets/leaf).\n",
    "\n",
    "This notebook was splitted in the following sections:\n",
    "\n",
    "1. Setup workspace\n",
    "2. Load raw data\n",
    "3. Image normalization\n",
    "4. Feature extraction\n",
    "5. Principal component analysis\n",
    "6. Gradient boosting classifier\n",
    "7. Results\n",
    "8. Concluding remarks"
   ]
  },
  {
   "cell_type": "markdown",
   "metadata": {},
   "source": [
    "## 1. Setup workspace"
   ]
  },
  {
   "cell_type": "markdown",
   "metadata": {},
   "source": [
    "Set global options and import python packages:"
   ]
  },
  {
   "cell_type": "code",
   "execution_count": 74,
   "metadata": {},
   "outputs": [
    {
     "data": {
      "text/html": [
       "<script>requirejs.config({paths: { 'plotly': ['https://cdn.plot.ly/plotly-latest.min']},});if(!window.Plotly) {{require(['plotly'],function(plotly) {window.Plotly=plotly;});}}</script>"
      ],
      "text/vnd.plotly.v1+html": [
       "<script>requirejs.config({paths: { 'plotly': ['https://cdn.plot.ly/plotly-latest.min']},});if(!window.Plotly) {{require(['plotly'],function(plotly) {window.Plotly=plotly;});}}</script>"
      ]
     },
     "metadata": {},
     "output_type": "display_data"
    }
   ],
   "source": [
    "#Some useful packages\n",
    "import pathlib\n",
    "import pandas\n",
    "import random\n",
    "import scipy\n",
    "import numpy\n",
    "import os\n",
    "import re\n",
    "\n",
    "#To read image files\n",
    "import scipy.ndimage as scimg\n",
    "\n",
    "#OpenCV image processing package\n",
    "import cv2\n",
    "\n",
    "#Plot tools\n",
    "import matplotlib.pyplot as plt\n",
    "import plotly.graph_objs as go\n",
    "import plotly.offline as po\n",
    "\n",
    "#Scikit learn\n",
    "from sklearn.preprocessing import StandardScaler\n",
    "\n",
    "%matplotlib inline\n",
    "pylab.rcParams['figure.figsize'] = (14, 7)\n",
    "po.init_notebook_mode(connected=True)"
   ]
  },
  {
   "cell_type": "markdown",
   "metadata": {},
   "source": [
    "## 2. Load the raw images"
   ]
  },
  {
   "cell_type": "markdown",
   "metadata": {},
   "source": [
    "The raw images from the [UCI repository](https://archive.ics.uci.edu/ml/datasets/leaf) were added into the local folder: `./data/raw-images/`.\n",
    "\n",
    "Here we scan all subdirectories and store each image in a numpy array:"
   ]
  },
  {
   "cell_type": "code",
   "execution_count": 2,
   "metadata": {
    "collapsed": true
   },
   "outputs": [],
   "source": [
    "#Raw data path\n",
    "folder = \"./data/raw-images/\"\n",
    "\n",
    "#Check subdirectories\n",
    "subdirectories = list(map(str, [sb for sb in  pathlib.Path(folder).iterdir() if sb.is_dir()]))\n",
    "\n",
    "#Load all images in each subdirectory\n",
    "images = []\n",
    "cat_id = 1\n",
    "id = 1\n",
    "for sb in subdirectories:\n",
    "    filenames = os.listdir(sb)\n",
    "    filenames = [fname for fname in filenames if re.match(\".*.jpg\", fname)]\n",
    "    classname = os.path.basename(sb).lower()\n",
    "    for fname in filenames:\n",
    "        images.append({\n",
    "                \"id\": id,\n",
    "                \"species_name\": classname,\n",
    "                \"image\": scimg.imread(sb + \"/\" + fname)})\n",
    "        id += 1\n",
    "    cat_id += 1\n",
    "\n",
    "#Store labels for each image id \n",
    "labeltable = pandas.DataFrame(images, columns = [\"id\", \"species_name\"])"
   ]
  },
  {
   "cell_type": "markdown",
   "metadata": {},
   "source": [
    "### 2.1 Example Plot"
   ]
  },
  {
   "cell_type": "markdown",
   "metadata": {},
   "source": [
    "TODO: Plot 20"
   ]
  },
  {
   "cell_type": "code",
   "execution_count": 3,
   "metadata": {},
   "outputs": [
    {
     "data": {
      "text/plain": [
       "<matplotlib.image.AxesImage at 0x7f6e58c5ee10>"
      ]
     },
     "execution_count": 3,
     "metadata": {},
     "output_type": "execute_result"
    },
    {
     "data": {
      "image/png": "[encoded data removed]",
      "text/plain": [
       "<matplotlib.figure.Figure at 0x7f6e98ca78d0>"
      ]
     },
     "metadata": {},
     "output_type": "display_data"
    }
   ],
   "source": [
    "plt.imshow(images[0][\"image\"], cmap = \"gray\")"
   ]
  },
  {
   "cell_type": "markdown",
   "metadata": {},
   "source": [
    "## 3. Image normalization and pre-processing"
   ]
  },
  {
   "cell_type": "markdown",
   "metadata": {},
   "source": [
    "The raw images have different pixel sizes, which can be a problem for some features that are sensible to shifting.\n",
    "\n",
    "In this section we insert all leaf images in a black background in such a way that all images have the same pixel size and the center of mass of each leaf matches the center of the global image."
   ]
  },
  {
   "cell_type": "markdown",
   "metadata": {},
   "source": [
    "### 3.1 Find a suitable image size"
   ]
  },
  {
   "cell_type": "code",
   "execution_count": 4,
   "metadata": {
    "collapsed": true
   },
   "outputs": [],
   "source": [
    "#Center of mass of each leaf\n",
    "mass_centers = [tuple(map(int, scimg.measurements.center_of_mass(img[\"image\"]))) for img in images]\n",
    "#Shape of each raw image\n",
    "im_shapes = [img[\"image\"].shape for img in images]\n",
    "\n",
    "#Find out a suitable image size to normalize images\n",
    "max_height = numpy.array([2*max(im_shapes[i][0]-mass_centers[i][0], mass_centers[i][0]) for i in range(len(im_shapes))]).max()\n",
    "max_width = numpy.array([2*max(im_shapes[i][1]-mass_centers[i][1], mass_centers[i][1]) for i in range(len(im_shapes))]).max()\n",
    "max_width  = round(max_width+5, -1) + 1\n",
    "max_height = round(max_height+5, -1) + 1\n",
    "\n",
    "#Shape of normalized images\n",
    "shape = (max_height, max_width)\n",
    "\n",
    "#Center position of images\n",
    "center = (int(max_height/2), int(max_width/2))"
   ]
  },
  {
   "cell_type": "markdown",
   "metadata": {},
   "source": [
    "### 3.2 Save all images with the same size"
   ]
  },
  {
   "cell_type": "code",
   "execution_count": 5,
   "metadata": {
    "collapsed": true
   },
   "outputs": [],
   "source": [
    "#Destination folder of normalized images\n",
    "folder = \"./data/normalized-images/\"\n",
    "\n",
    "#Save images after normalization\n",
    "for idx, img in enumerate(images):\n",
    "    norm_image = numpy.zeros(shape)\n",
    "    img_center = scimg.measurements.center_of_mass(img[\"image\"])\n",
    "    img_center = tuple([int(round(c)) for c in img_center])\n",
    "    x0 = center[0]-img_center[0]\n",
    "    y0 = center[1]-img_center[1]\n",
    "    x1 = x0 + img[\"image\"].shape[0]\n",
    "    y1 = y0 + img[\"image\"].shape[1]\n",
    "    norm_image[x0:x1, y0:y1] = img[\"image\"]\n",
    "    scipy.misc.imsave(folder + str(img[\"id\"]).zfill(4) + \"_\" + img[\"species_name\"] + \".jpg\", norm_image)\n",
    "\n",
    "#Delete images to free memory\n",
    "del images"
   ]
  },
  {
   "cell_type": "markdown",
   "metadata": {},
   "source": [
    "## 4. Feature Engineering"
   ]
  },
  {
   "cell_type": "markdown",
   "metadata": {},
   "source": [
    "### 4.1 Area"
   ]
  },
  {
   "cell_type": "markdown",
   "metadata": {},
   "source": [
    "The plot below shows two distinct leaf species: `acer_mono` (left) and `liriodendron_tulipifera` (right).\n",
    "\n",
    "It's easy to see that the leaf area can be a good feature."
   ]
  },
  {
   "cell_type": "code",
   "execution_count": 106,
   "metadata": {},
   "outputs": [
    {
     "data": {
      "image/png": "[encoded data removed]",
      "text/plain": [
       "<matplotlib.figure.Figure at 0x7f6e4e25e128>"
      ]
     },
     "metadata": {},
     "output_type": "display_data"
    }
   ],
   "source": [
    "plt.figure()\n",
    "plt.subplot(1,2,1)\n",
    "plt.imshow(cv2.cvtColor(scimg.imread(folder + \"0111_acer_mono.jpg\"),cv2.COLOR_GRAY2RGB))\n",
    "plt.subplot(1,2,2)\n",
    "plt.imshow(cv2.cvtColor(scimg.imread(folder + \"0123_liriodendron_tulipifera.jpg\"),cv2.COLOR_GRAY2RGB))\n",
    "plt.show()"
   ]
  },
  {
   "cell_type": "markdown",
   "metadata": {},
   "source": [
    "### 4.2 Perimeter & Perimeter/Area"
   ]
  },
  {
   "cell_type": "markdown",
   "metadata": {},
   "source": [
    "\n",
    "However, leaf species with similar area can have very different perimeter."
   ]
  },
  {
   "cell_type": "code",
   "execution_count": 114,
   "metadata": {},
   "outputs": [
    {
     "data": {
      "image/png": "[encoded data removed]",
      "text/plain": [
       "<matplotlib.figure.Figure at 0x7f6e4e2b4ef0>"
      ]
     },
     "metadata": {},
     "output_type": "display_data"
    },
    {
     "name": "stdout",
     "output_type": "stream",
     "text": [
      "Area:\n",
      "0173_castanea_sativa: 213375.5\n",
      "0214_quercus_palustris: 199065.5\n",
      "Perimeter:\n",
      "0173_castanea_sativa: 3350.789217233658\n",
      "0214_quercus_palustris: 6080.0179134607315\n"
     ]
    }
   ],
   "source": [
    "ret, im1 = cv2.threshold(scimg.imread(folder + \"0173_castanea_sativa.jpg\"), 127, 255, 0)\n",
    "ret, im2 = cv2.threshold(scimg.imread(folder + \"0214_quercus_palustris.jpg\"), 127, 255, 0)\n",
    "\n",
    "im, contours1, hierarchy = cv2.findContours(im1, cv2.RETR_TREE, cv2.CHAIN_APPROX_SIMPLE)\n",
    "im, contours2, hierarchy = cv2.findContours(im2, cv2.RETR_TREE, cv2.CHAIN_APPROX_SIMPLE)\n",
    "\n",
    "im1 = cv2.cvtColor(im1, cv2.COLOR_GRAY2RGB)\n",
    "im2 = cv2.cvtColor(im2, cv2.COLOR_GRAY2RGB)\n",
    "\n",
    "im1 = cv2.drawContours(im1, contours1, 0, (255,0,0), 10)\n",
    "im2 = cv2.drawContours(im2, contours2, 0, (255,0,0), 10)\n",
    "\n",
    "plt.figure()\n",
    "plt.subplot(1,2,1)\n",
    "plt.imshow(im1)\n",
    "plt.subplot(1,2,2)\n",
    "plt.imshow(im2)\n",
    "plt.show()\n",
    "\n",
    "print(\"Area:\")\n",
    "print(\"0173_castanea_sativa: \" + str(cv2.contourArea(contours1[0])))\n",
    "print(\"0214_quercus_palustris: \" + str(cv2.contourArea(contours2[0])))\n",
    "print(\"Perimeter:\")\n",
    "print(\"0173_castanea_sativa: \" + str(cv2.arcLength(contours1[0],True)))\n",
    "print(\"0214_quercus_palustris: \" + str(cv2.arcLength(contours2[0],True)))"
   ]
  },
  {
   "cell_type": "markdown",
   "metadata": {},
   "source": [
    "### 4.3 Extent & Slimness"
   ]
  },
  {
   "cell_type": "markdown",
   "metadata": {},
   "source": []
  },
  {
   "cell_type": "code",
   "execution_count": 108,
   "metadata": {},
   "outputs": [
    {
     "data": {
      "image/png": "[encoded data removed]",
      "text/plain": [
       "<matplotlib.figure.Figure at 0x7f6e4e212748>"
      ]
     },
     "metadata": {},
     "output_type": "display_data"
    }
   ],
   "source": [
    "ret, im1 = cv2.threshold(scimg.imread(folder + \"0132_quercus_pontica.jpg\"), 127, 255, 0)\n",
    "ret, im2 = cv2.threshold(scimg.imread(folder + \"0158_arundinaria_simonii.jpg\"), 127, 255, 0)\n",
    "\n",
    "im, contours1, hierarchy = cv2.findContours(im1, cv2.RETR_TREE, cv2.CHAIN_APPROX_SIMPLE)\n",
    "im, contours2, hierarchy = cv2.findContours(im2, cv2.RETR_TREE, cv2.CHAIN_APPROX_SIMPLE)\n",
    "\n",
    "rect1 = cv2.minAreaRect(contours1[0])\n",
    "rect2 = cv2.minAreaRect(contours2[0])\n",
    "\n",
    "box1 = np.int0(cv2.boxPoints(rect1))\n",
    "box2 = np.int0(cv2.boxPoints(rect2))\n",
    "\n",
    "im1 = cv2.cvtColor(im1, cv2.COLOR_GRAY2RGB)\n",
    "im2 = cv2.cvtColor(im2, cv2.COLOR_GRAY2RGB)\n",
    "\n",
    "im1 = cv2.drawContours(im1, [box1], 0, (255,0,0), 10)\n",
    "im2 = cv2.drawContours(im2, [box2], 0, (255,0,0), 10)\n",
    "\n",
    "plt.figure()\n",
    "plt.subplot(1,2,1)\n",
    "plt.imshow(im1)\n",
    "plt.subplot(1,2,2)\n",
    "plt.imshow(im2)\n",
    "plt.show()"
   ]
  },
  {
   "cell_type": "markdown",
   "metadata": {},
   "source": [
    "### 4.4 Solidity"
   ]
  },
  {
   "cell_type": "code",
   "execution_count": 113,
   "metadata": {},
   "outputs": [
    {
     "data": {
      "image/png": "[encoded data removed]",
      "text/plain": [
       "<matplotlib.figure.Figure at 0x7f6e4dc304e0>"
      ]
     },
     "metadata": {},
     "output_type": "display_data"
    }
   ],
   "source": [
    "ret, im1 = cv2.threshold(scimg.imread(folder + \"0439_sorbus_aria.jpg\"), 127, 255, 0)\n",
    "ret, im2 = cv2.threshold(scimg.imread(folder + \"0430_acer_pictum.jpg\"), 127, 255, 0)\n",
    "\n",
    "im, contours1, hierarchy = cv2.findContours(im1, cv2.RETR_TREE, cv2.CHAIN_APPROX_SIMPLE)\n",
    "im, contours2, hierarchy = cv2.findContours(im2, cv2.RETR_TREE, cv2.CHAIN_APPROX_SIMPLE)\n",
    "\n",
    "convex_hull_1 = cv2.convexHull(contours1[0])\n",
    "convex_hull_2 = cv2.convexHull(contours2[0])\n",
    "\n",
    "im1 = cv2.cvtColor(im1, cv2.COLOR_GRAY2RGB)\n",
    "im2 = cv2.cvtColor(im2, cv2.COLOR_GRAY2RGB)\n",
    "\n",
    "im1 = cv2.drawContours(im1, [convex_hull_1], 0, (255,0,0), 10)\n",
    "im2 = cv2.drawContours(im2, [convex_hull_2], 0, (255,0,0), 10)\n",
    "\n",
    "plt.figure()\n",
    "plt.subplot(1,2,1)\n",
    "plt.imshow(im1)\n",
    "plt.subplot(1,2,2)\n",
    "plt.imshow(im2)\n",
    "plt.show()"
   ]
  },
  {
   "cell_type": "markdown",
   "metadata": {},
   "source": [
    "### 4.5 Other Features"
   ]
  },
  {
   "cell_type": "markdown",
   "metadata": {},
   "source": [
    "#### Roundness"
   ]
  },
  {
   "cell_type": "markdown",
   "metadata": {},
   "source": [
    "$Roundness = \\dfrac{4 \\times \\pi \\times Area}{(Perimeter)^2}$"
   ]
  },
  {
   "cell_type": "markdown",
   "metadata": {},
   "source": [
    "#### Equivalent Diameter"
   ]
  },
  {
   "cell_type": "markdown",
   "metadata": {},
   "source": [
    "Equivalent Diameter is the diameter of the circle whose area is same as the area of the object:"
   ]
  },
  {
   "cell_type": "markdown",
   "metadata": {},
   "source": [
    "$Equivalent\\_Distance = \\sqrt{\\dfrac{4 \\times Contour\\_Area}{\\pi}}$"
   ]
  },
  {
   "cell_type": "markdown",
   "metadata": {},
   "source": [
    "#### Dispersion"
   ]
  },
  {
   "cell_type": "markdown",
   "metadata": {},
   "source": [
    "$Dispersion = \\dfrac{max(\\sqrt{((x_i-\\bar{x})^2+(y_i-\\bar{y})^2)})}{min(\\sqrt{((x_i-\\bar{x})^2+(y_i-\\bar{y})^2)})}$"
   ]
  },
  {
   "cell_type": "markdown",
   "metadata": {},
   "source": [
    "### 4.2 Extract image features"
   ]
  },
  {
   "cell_type": "code",
   "execution_count": 8,
   "metadata": {
    "collapsed": true
   },
   "outputs": [],
   "source": [
    "#Path to normalized images\n",
    "folder = \"./data/normalized-images/\"\n",
    "\n",
    "#Scan all files\n",
    "filenames = os.listdir(folder)\n",
    "filenames = [fname for fname in filenames if re.match(\".*.jpg\", fname)]\n",
    "filenames.sort()\n",
    "filenames = filenames[0:16*20] #subset\n",
    "\n",
    "#Extract features for each image\n",
    "features = []\n",
    "for file in filenames:\n",
    "    img =  scimg.imread(folder + file)\n",
    "    ret, thresh = cv2.threshold(img, 127, 255, 0)\n",
    "    img2, contours, hierarchy = cv2.findContours(thresh, cv2.RETR_TREE, cv2.CHAIN_APPROX_SIMPLE)\n",
    "    \n",
    "    contour = contours[numpy.array(list(map(len, contours))).argmax()]\n",
    "    convex_hull = cv2.convexHull(contour)    \n",
    "    x,y,w,h = cv2.boundingRect(contour)\n",
    "    rect = cv2.minAreaRect(contour)\n",
    "        \n",
    "    area = cv2.contourArea(contour)\n",
    "    rect_area = w*h\n",
    "    extent = float(area)/rect_area\n",
    "    convex_hull_area = cv2.contourArea(convex_hull)\n",
    "    solidity = area/convex_hull_area\n",
    "    perimeter = cv2.arcLength(contour,True)\n",
    "    perimeter_area_ratio = perimeter/area\n",
    "    aspect_ratio = float(w)/h\n",
    "    equi_diameter = numpy.sqrt(4*area/numpy.pi)\n",
    "    \n",
    "    features.append([\n",
    "            int(file[:4]),\n",
    "            area,\n",
    "            rect_area,\n",
    "            extent,\n",
    "            convex_hull_area,\n",
    "            solidity,\n",
    "            perimeter,\n",
    "            perimeter_area_ratio,\n",
    "            aspect_ratio,\n",
    "            equi_diameter\n",
    "            ])"
   ]
  },
  {
   "cell_type": "markdown",
   "metadata": {},
   "source": [
    "### 4.3 Build the dataset"
   ]
  },
  {
   "cell_type": "code",
   "execution_count": 16,
   "metadata": {
    "collapsed": true
   },
   "outputs": [],
   "source": [
    "#Feature set\n",
    "dataset = pandas.DataFrame(features, \n",
    "                           columns=[\"id\", \"area\", \"rect_area\", \"extent\", \"convex_hull_area\", \n",
    "                                    \"solidity\", \"perimeter\", \"perimeter_area_ratio\", \"aspect_ratio\",\n",
    "                                    \"equi_diameter\"])\n",
    "\n",
    "#Add class label\n",
    "dataset = pandas.merge(dataset, labeltable, how=\"left\", on=\"id\")"
   ]
  },
  {
   "cell_type": "markdown",
   "metadata": {},
   "source": [
    "## 5. Principal Component Analysis"
   ]
  },
  {
   "cell_type": "markdown",
   "metadata": {},
   "source": [
    "TODO: explain why we should use PCA"
   ]
  },
  {
   "cell_type": "markdown",
   "metadata": {},
   "source": [
    "### 5.1 Extract principal components"
   ]
  },
  {
   "cell_type": "code",
   "execution_count": 17,
   "metadata": {
    "collapsed": true
   },
   "outputs": [],
   "source": [
    "#Inputs and outputs\n",
    "X = dataset.ix[:,1:-1]\n",
    "y = dataset.ix[:,-1]\n",
    "\n",
    "#Scale normalization\n",
    "X_std = StandardScaler().fit_transform(X)\n",
    "\n",
    "#Compute covariance matrix, eigenvalues and eigenvectors\n",
    "cov_mat = numpy.cov(X_std.T)\n",
    "eig_vals, eig_vecs = numpy.linalg.eig(cov_mat)\n",
    "\n",
    "#Compute principal components (PCA)\n",
    "eig_pairs = [(numpy.abs(eig_vals[i]), eig_vecs[:,i]) for i in range(len(eig_vals))]\n",
    "matrix_w = numpy.hstack(tuple([ep[1].reshape(len(X.columns),1) for ep in eig_pairs]))\n",
    "Y = X_std.dot(matrix_w)"
   ]
  },
  {
   "cell_type": "markdown",
   "metadata": {},
   "source": [
    "### 5.2 Variance of principal components"
   ]
  },
  {
   "cell_type": "code",
   "execution_count": 18,
   "metadata": {},
   "outputs": [
    {
     "data": {
      "application/vnd.plotly.v1+json": {
       "data": [
        {
         "showlegend": false,
         "type": "bar",
         "x": [
          "PC 1",
          "PC 2",
          "PC 3",
          "PC 4",
          "PC 5",
          "PC 6",
          "PC 7",
          "PC 8"
         ],
         "y": [
          53.27932285048965,
          29.75394608387055,
          12.029541898902444,
          2.6215176886589386,
          1.2877397575227607,
          0.6793397337755548,
          0.28733264263471103,
          0.04235788616389429,
          0.01890145798150963
         ]
        },
        {
         "name": "cumulative explained variance",
         "type": "scatter",
         "x": [
          "PC 1",
          "PC 2",
          "PC 3",
          "PC 4",
          "PC 5",
          "PC 6",
          "PC 7",
          "PC 8"
         ],
         "y": [
          53.27932285048965,
          83.0332689343602,
          95.06281083326263,
          97.68432852192157,
          98.97206827944433,
          99.65140801321988,
          99.93874065585459,
          99.98109854201849,
          100
         ]
        }
       ],
       "layout": {
        "hovermode": "closest",
        "title": "Explained variance by different principal components",
        "yaxis": {
         "title": "Explained variance in percent"
        }
       }
      },
      "text/html": [
       "<div id=\"b789fc33-472e-4a19-90f0-f945b5e8a1f1\" style=\"height: 525px; width: 100%;\" class=\"plotly-graph-div\"></div><script type=\"text/javascript\">require([\"plotly\"], function(Plotly) { window.PLOTLYENV=window.PLOTLYENV || {};window.PLOTLYENV.BASE_URL=\"https://plot.ly\";Plotly.newPlot(\"b789fc33-472e-4a19-90f0-f945b5e8a1f1\", [{\"type\": \"bar\", \"y\": [53.27932285048965, 29.75394608387055, 12.029541898902444, 2.6215176886589386, 1.2877397575227607, 0.6793397337755548, 0.28733264263471103, 0.04235788616389429, 0.01890145798150963], \"x\": [\"PC 1\", \"PC 2\", \"PC 3\", \"PC 4\", \"PC 5\", \"PC 6\", \"PC 7\", \"PC 8\"], \"showlegend\": false}, {\"type\": \"scatter\", \"name\": \"cumulative explained variance\", \"y\": [53.27932285048965, 83.0332689343602, 95.06281083326263, 97.68432852192157, 98.97206827944433, 99.65140801321988, 99.93874065585459, 99.98109854201849, 100.0], \"x\": [\"PC 1\", \"PC 2\", \"PC 3\", \"PC 4\", \"PC 5\", \"PC 6\", \"PC 7\", \"PC 8\"]}], {\"yaxis\": {\"title\": \"Explained variance in percent\"}, \"title\": \"Explained variance by different principal components\", \"hovermode\": \"closest\"}, {\"linkText\": \"Export to plot.ly\", \"showLink\": true})});</script>"
      ],
      "text/vnd.plotly.v1+html": [
       "<div id=\"b789fc33-472e-4a19-90f0-f945b5e8a1f1\" style=\"height: 525px; width: 100%;\" class=\"plotly-graph-div\"></div><script type=\"text/javascript\">require([\"plotly\"], function(Plotly) { window.PLOTLYENV=window.PLOTLYENV || {};window.PLOTLYENV.BASE_URL=\"https://plot.ly\";Plotly.newPlot(\"b789fc33-472e-4a19-90f0-f945b5e8a1f1\", [{\"type\": \"bar\", \"y\": [53.27932285048965, 29.75394608387055, 12.029541898902444, 2.6215176886589386, 1.2877397575227607, 0.6793397337755548, 0.28733264263471103, 0.04235788616389429, 0.01890145798150963], \"x\": [\"PC 1\", \"PC 2\", \"PC 3\", \"PC 4\", \"PC 5\", \"PC 6\", \"PC 7\", \"PC 8\"], \"showlegend\": false}, {\"type\": \"scatter\", \"name\": \"cumulative explained variance\", \"y\": [53.27932285048965, 83.0332689343602, 95.06281083326263, 97.68432852192157, 98.97206827944433, 99.65140801321988, 99.93874065585459, 99.98109854201849, 100.0], \"x\": [\"PC 1\", \"PC 2\", \"PC 3\", \"PC 4\", \"PC 5\", \"PC 6\", \"PC 7\", \"PC 8\"]}], {\"yaxis\": {\"title\": \"Explained variance in percent\"}, \"title\": \"Explained variance by different principal components\", \"hovermode\": \"closest\"}, {\"linkText\": \"Export to plot.ly\", \"showLink\": true})});</script>"
      ]
     },
     "metadata": {},
     "output_type": "display_data"
    }
   ],
   "source": [
    "#Compute self and cumulative variance of each PCA component\n",
    "tot = sum(eig_vals)\n",
    "var_exp = [(i / tot)*100 for i in sorted(eig_vals, reverse=True)]\n",
    "cum_var_exp = numpy.cumsum(var_exp)\n",
    "\n",
    "#Plot variance of each component\n",
    "trace1 = go.Bar(\n",
    "        x=['PC %s' %i for i in range(1,Y.shape[1])],\n",
    "        y=var_exp,\n",
    "        showlegend=False)\n",
    "\n",
    "trace2 = go.Scatter(\n",
    "        x=['PC %s' %i for i in range(1,Y.shape[1])], \n",
    "        y=cum_var_exp,\n",
    "        name='cumulative explained variance')\n",
    "\n",
    "data = go.Data([trace1, trace2])\n",
    "\n",
    "layout = go.Layout(\n",
    "    title='Explained variance by different principal components',  \n",
    "    hovermode=\"closest\",\n",
    "    yaxis=go.YAxis(title='Explained variance in percent'))\n",
    "\n",
    "fig = go.Figure(data=data, layout=layout)\n",
    "po.iplot(fig)"
   ]
  },
  {
   "cell_type": "markdown",
   "metadata": {},
   "source": [
    "From the above plot we can see that 83% of the dataset variance can be retrieved"
   ]
  },
  {
   "cell_type": "markdown",
   "metadata": {},
   "source": [
    "### 5.3 Scatter plot visualization (2 PCs)"
   ]
  },
  {
   "cell_type": "code",
   "execution_count": 19,
   "metadata": {},
   "outputs": [
    {
     "data": {
      "application/vnd.plotly.v1+json": {
       "data": [
        {
         "marker": {
          "line": {
           "color": "rgba(217, 217, 217, 0.14)",
           "width": 0.5
          },
          "opacity": 0.7,
          "size": 12
         },
         "mode": "markers",
         "name": "acer_circinatum",
         "type": "scatter",
         "x": [
          0.39378542152643836,
          -1.0936869722422615,
          -0.3793737117348804,
          0.06411268854426606,
          0.02467850742658087,
          0.38739125343562336,
          -0.22947562329420249,
          -0.30519495879122815,
          0.0423190512912074,
          -0.28761988027242835,
          0.09840841463680447,
          -0.14368842065403956,
          0.49373538902706476,
          -0.114773714110035,
          0.2377800960851232,
          1.6878964071492404
         ],
         "y": [
          -1.4268188302330291,
          -2.382318220436148,
          -1.9415177605170364,
          -1.6435024244054812,
          -2.0373895713835806,
          -1.146982132512669,
          -2.372778119851146,
          -2.011088661274845,
          -1.546408793157136,
          -1.8972888691864749,
          -1.9703723059346685,
          -2.0930376069766377,
          -1.8888209606137387,
          -1.7446657062913968,
          -2.0069096967807605,
          -1.1585421020849158
         ]
        },
        {
         "marker": {
          "line": {
           "color": "rgba(217, 217, 217, 0.14)",
           "width": 0.5
          },
          "opacity": 0.7,
          "size": 12
         },
         "mode": "markers",
         "name": "acer_mono",
         "type": "scatter",
         "x": [
          -1.7313136833684275,
          -2.3308379041680833,
          -2.176330171015738,
          -1.9176118740349772,
          -1.9108783357432135,
          -1.582405653276816,
          -1.3503249937660993,
          -1.9976048470328243,
          -1.751714545765294,
          -2.46628442211909,
          -2.060543054260142,
          -1.6095194463404905,
          -1.4891730840109296,
          -1.8150065672620324,
          -2.2331896271178064,
          -1.4397087094644998
         ],
         "y": [
          -1.5024975049218678,
          -2.2410363529236017,
          -0.46382973214837,
          -2.205483231700004,
          -1.6518414872786595,
          -2.071191361096325,
          -1.5883142394795366,
          -1.7972735572734218,
          -1.78362635820266,
          -1.3611683219498627,
          -1.5306202210488309,
          -2.5507979609881906,
          -2.6112471362176044,
          -1.9392007006248904,
          -1.5846487080813696,
          -1.5127927194615483
         ]
        },
        {
         "marker": {
          "line": {
           "color": "rgba(217, 217, 217, 0.14)",
           "width": 0.5
          },
          "opacity": 0.7,
          "size": 12
         },
         "mode": "markers",
         "name": "arundinaria_simonii",
         "type": "scatter",
         "x": [
          -0.7958168093317871,
          -1.2416729681755696,
          -1.3477914671426496,
          -1.218026461321661,
          -1.2176270490063117,
          -1.1768187695830585,
          -1.045095732755646,
          -1.3786186734163801,
          -1.343348512553084,
          -1.2860038352497047,
          -1.2730364219788968,
          -1.2975743120784204,
          -1.235008225750493,
          -1.24814782461521,
          -0.9163960218776006,
          -1.0827877747635135
         ],
         "y": [
          -0.5167347519989801,
          0.6335879573114003,
          0.510969386296401,
          0.5241541033938173,
          0.49709102355381113,
          0.43615993369892087,
          0.12257880801758263,
          0.5332939419510815,
          0.5825809713048252,
          0.6821796454517794,
          0.46681843630755465,
          0.5948081184846555,
          0.5872065016929319,
          0.506548903619842,
          -0.1492289524551115,
          0.29338166392922527
         ]
        },
        {
         "marker": {
          "line": {
           "color": "rgba(217, 217, 217, 0.14)",
           "width": 0.5
          },
          "opacity": 0.7,
          "size": 12
         },
         "mode": "markers",
         "name": "betula_pendula",
         "type": "scatter",
         "x": [
          -3.2131881349190436,
          -3.097201348994514,
          -2.8464235379603515,
          -3.0831686870984756,
          -3.0975213361466976,
          -2.9885934755283037,
          -2.8354258385058797,
          -3.3364315983752775,
          -2.7994862673680005,
          -3.102856769939532,
          -3.088361595925603,
          -3.3502352912713613,
          -3.094101636545998,
          -3.017164397449736,
          -2.945542037153368,
          -2.9444227108606293
         ],
         "y": [
          -2.4428356281289116,
          -1.6738181633365823,
          -1.6711874784612764,
          -2.197818805571586,
          -1.9994423092854483,
          -2.3332365046957904,
          -1.5987316616697498,
          -2.296330406521066,
          -1.888415308871158,
          -1.4135985803964903,
          -1.9490292227628223,
          -2.334460028850132,
          -2.5825129086974323,
          -1.4591345444741355,
          -1.3937109260451426,
          -2.658418783004512
         ]
        },
        {
         "marker": {
          "line": {
           "color": "rgba(217, 217, 217, 0.14)",
           "width": 0.5
          },
          "opacity": 0.7,
          "size": 12
         },
         "mode": "markers",
         "name": "castanea_sativa",
         "type": "scatter",
         "x": [
          2.0606788812847467,
          3.273445503528303,
          4.448451012742199,
          4.398468310749209,
          3.072682179537491,
          3.6363932014737728,
          2.5428252388810355,
          1.0846066921250457,
          3.1150376133755073,
          3.9158194900496124,
          1.4017488345861122,
          4.5835298294660705,
          0.9624656926491945,
          4.9359745077799815,
          2.7770949343561044,
          2.6446815886959976
         ],
         "y": [
          0.8301847202877837,
          1.302325214071752,
          2.0573917884002695,
          1.4351957782193332,
          1.1258091626438496,
          1.3495497412939288,
          1.6400266228333171,
          0.019838187862289886,
          0.9637002306235133,
          0.9286897449827411,
          0.7113493452436841,
          1.415146845264497,
          0.564602471512656,
          1.7208358924571119,
          0.5778490068887948,
          0.6206075374337101
         ]
        },
        {
         "marker": {
          "line": {
           "color": "rgba(217, 217, 217, 0.14)",
           "width": 0.5
          },
          "opacity": 0.7,
          "size": 12
         },
         "mode": "markers",
         "name": "cornus_chinensis",
         "type": "scatter",
         "x": [
          1.3848835379582067,
          0.5386567521883348,
          1.0388440452708056,
          1.5103476315512323,
          1.4973832061814303,
          1.6490185647416427,
          1.903233512325577,
          0.5468896975316959,
          1.9034880299788597,
          1.0597095967790369,
          1.0180912320415891,
          1.3279386148652175,
          0.4388671722657697,
          -1.445657203716258,
          0.2951858350825798,
          1.8528951297472203
         ],
         "y": [
          2.0629787229962497,
          1.543588826080897,
          1.5565154229102975,
          1.864916292204958,
          1.7873889829093128,
          2.1110115447239686,
          2.453119358682252,
          1.5030826258881733,
          1.7006699851741551,
          1.5460419257207765,
          2.1544177950211294,
          1.9390092774865346,
          1.1442603712814758,
          0.40133154909898006,
          1.2536359197552045,
          1.8446613871021744
         ]
        },
        {
         "marker": {
          "line": {
           "color": "rgba(217, 217, 217, 0.14)",
           "width": 0.5
          },
          "opacity": 0.7,
          "size": 12
         },
         "mode": "markers",
         "name": "ilex_aquifolium",
         "type": "scatter",
         "x": [
          -1.8402707125410007,
          -0.684030662663641,
          -1.773313964055827,
          -1.1881939381667093,
          0.07892138764299274,
          -0.06702143874503183,
          -1.622585544971655,
          -1.0293150774121647,
          0.13286613365310757,
          -0.9166047673278356,
          -1.2936229224326177,
          -0.12363287013349507,
          -0.6042141651678427,
          -1.4386253517069112,
          -0.5992530325109205,
          -0.9461823809787213
         ],
         "y": [
          0.3703235035104464,
          1.050970685860914,
          0.8603919765690832,
          0.7045337566349752,
          1.2946693188131992,
          1.1813437899806274,
          0.4330016385229495,
          1.0534020153092678,
          1.1610726559379965,
          0.6511794196005399,
          0.820790207466221,
          1.0061100136892196,
          1.059653998915075,
          0.631211153188108,
          0.6613151130139057,
          0.869095547973522
         ]
        },
        {
         "marker": {
          "line": {
           "color": "rgba(217, 217, 217, 0.14)",
           "width": 0.5
          },
          "opacity": 0.7,
          "size": 12
         },
         "mode": "markers",
         "name": "liriodendron_tulipifera",
         "type": "scatter",
         "x": [
          6.394433983423748,
          5.601028978825276,
          2.1898976484142336,
          4.197272606690051,
          2.6355441816907392,
          2.403954186239299,
          5.490794212278024,
          4.673031115921364,
          5.702265306347128,
          3.8167430015236343,
          7.294440467144483,
          5.845162229600436,
          5.351458457071672,
          2.6889064115769648,
          2.1065526993310044,
          2.4707008364332506
         ],
         "y": [
          2.717533244996262,
          2.7948949531726472,
          1.5338602876767866,
          2.775820108303426,
          1.8319548531545737,
          1.7336694442497553,
          2.28149929176823,
          3.2384253706271577,
          2.5963109503472572,
          1.9859244438708565,
          3.463604653298739,
          2.5731309864627767,
          3.318386956620449,
          1.5086434432974778,
          1.1939056259709928,
          1.774675624129189
         ]
        },
        {
         "marker": {
          "line": {
           "color": "rgba(217, 217, 217, 0.14)",
           "width": 0.5
          },
          "opacity": 0.7,
          "size": 12
         },
         "mode": "markers",
         "name": "lithocarpus_edulis",
         "type": "scatter",
         "x": [
          -1.2465265404185732,
          -1.1835946004335813,
          -1.0611223298677241,
          -1.05245215037021,
          -1.1648032922936056,
          -1.2505798905452232,
          -1.0333742283607719,
          -1.1253740775000887,
          -1.1065236381887416,
          -1.0959250749784308,
          -1.2111413367732078,
          -1.093335205163427,
          -1.0919509298553207,
          -1.13971031304298,
          -1.2162711128038168,
          -1.103398362237383
         ],
         "y": [
          1.0743528896836112,
          0.9617159247960954,
          0.6916807197210131,
          0.6603952801989704,
          0.8842793123955177,
          1.0425653639299548,
          0.5899782253011736,
          0.8052140705980972,
          0.796740600453412,
          0.7669764181821452,
          0.9830395788642547,
          0.7652227067724211,
          0.769328896568417,
          0.836443542557226,
          1.0007123982888384,
          0.7478806641103846
         ]
        },
        {
         "marker": {
          "line": {
           "color": "rgba(217, 217, 217, 0.14)",
           "width": 0.5
          },
          "opacity": 0.7,
          "size": 12
         },
         "mode": "markers",
         "name": "populus_nigra",
         "type": "scatter",
         "x": [
          -1.4325411843328606,
          -0.7871800276684375,
          -1.5215688101101046,
          -0.7380805151068456,
          -0.9142499505402065,
          -0.38792377783591464,
          -0.6461598458999123,
          -0.8369776330998522,
          -1.0467281069158298,
          -0.8665150981520555,
          -1.2600773932871834,
          -1.1776588558346437,
          -0.6647690480569509,
          -1.4837536717645077,
          -1.5301716560897187,
          -0.25027225854632074
         ],
         "y": [
          -0.2075837005222586,
          0.44512405997685667,
          0.06720531290030557,
          0.3720846963225803,
          0.5878750324319703,
          0.44785870400119737,
          0.6366274539824684,
          0.6232872223880339,
          0.19036945818895545,
          0.19825913513124305,
          0.1462547742115935,
          0.14981097327124956,
          0.40286859382306817,
          -0.03188704636277784,
          -0.1692086672486145,
          0.6404579740953065
         ]
        },
        {
         "marker": {
          "line": {
           "color": "rgba(217, 217, 217, 0.14)",
           "width": 0.5
          },
          "opacity": 0.7,
          "size": 12
         },
         "mode": "markers",
         "name": "prunus_x_shmittii",
         "type": "scatter",
         "x": [
          2.3632232627395062,
          0.07075243501837769,
          -1.4416669008860716,
          1.8906271169587165,
          -1.6939849108764378,
          -1.0269241667128948,
          -0.7640154776182361,
          1.264939207131274,
          0.27555984689953006,
          1.5567977241985254,
          0.2474390481886396,
          1.7738244141474067,
          0.8509645558720245,
          0.13016287305157995,
          0.7264075251621682,
          0.967523837475188
         ],
         "y": [
          0.9598020992268853,
          0.5045807217391372,
          -0.22790552678779702,
          1.3020135217931395,
          0.2005224150986572,
          0.29290874324366234,
          -0.017581376287128025,
          0.7522327663532469,
          0.6665474108748,
          1.1799156555961778,
          0.6345108945782132,
          1.2263585443002762,
          0.7538511025087127,
          0.7325328227243182,
          0.7192133605516242,
          0.7976264418692625
         ]
        },
        {
         "marker": {
          "line": {
           "color": "rgba(217, 217, 217, 0.14)",
           "width": 0.5
          },
          "opacity": 0.7,
          "size": 12
         },
         "mode": "markers",
         "name": "quercus_canariensis",
         "type": "scatter",
         "x": [
          0.03102536782338612,
          -0.8913313734370061,
          -0.765460947066848,
          -1.27440486618248,
          -0.8485376822534748,
          -0.21425743782949702,
          -1.574764383864517,
          -0.9855772583533526,
          -1.478824827451721,
          -0.4939173406759961,
          -0.617235994120965,
          -0.7568365321563454,
          -0.2520834936741114,
          0.5810949213310304,
          -0.6001037698209261,
          -1.8475304017656256
         ],
         "y": [
          1.025763511180228,
          0.33024647057906237,
          0.8017133922309959,
          0.21645229634914698,
          1.126869635231779,
          1.2351536324166374,
          0.3415359207002673,
          0.4568525208816186,
          0.6154266684955173,
          0.5222011408544253,
          0.7396998572922704,
          0.5898280931769687,
          0.8420297666391747,
          1.469455894075268,
          0.6754583704274012,
          0.0837338951573337
         ]
        },
        {
         "marker": {
          "line": {
           "color": "rgba(217, 217, 217, 0.14)",
           "width": 0.5
          },
          "opacity": 0.7,
          "size": 12
         },
         "mode": "markers",
         "name": "quercus_chrysolepis",
         "type": "scatter",
         "x": [
          -1.2496410199933041,
          -1.2852245692779178,
          -1.305773521236207,
          -1.3863967543985514,
          -1.3854203765551625,
          -1.2817770268317605,
          -1.2703058420486018,
          -1.1603635834450299,
          -1.2239908696171167,
          -1.239944638142339,
          -1.3195236868002367,
          -1.2092321220350328,
          -1.3534635236337804,
          -1.3343828845481112,
          -1.295269156763515,
          -1.3201510411837465
         ],
         "y": [
          0.9915001500253615,
          1.0887305521763457,
          1.1256529285607226,
          1.299879962626606,
          1.3366073796141997,
          1.0885479796844464,
          1.0727568859590626,
          0.8171059594400971,
          0.9424966186652975,
          1.0454664580406972,
          1.1681771782286134,
          0.9555687408309741,
          1.2341932273067187,
          1.1699333043468172,
          1.127859733423222,
          1.1487115369478682
         ]
        },
        {
         "marker": {
          "line": {
           "color": "rgba(217, 217, 217, 0.14)",
           "width": 0.5
          },
          "opacity": 0.7,
          "size": 12
         },
         "mode": "markers",
         "name": "quercus_infectoria_sub",
         "type": "scatter",
         "x": [
          -2.261103117542395,
          -2.162029814309365,
          -2.0979688593428114,
          -1.2173420482793298,
          -2.6111878755842888,
          -2.0264725557622025,
          -2.081278976429598,
          -1.6991005391777585,
          -1.3904525827652123,
          -2.0541898541266446,
          -1.180209782784927,
          -2.0491492243128624,
          -1.657091929139946,
          -1.6335605810594305,
          -1.116594153179693,
          -0.3100202987611528
         ],
         "y": [
          -0.208157546175255,
          0.2593918431390535,
          0.04643413811582403,
          0.39255357321339013,
          -0.08583842009888587,
          0.1488458520599152,
          0.5826385958102862,
          0.33304006034937433,
          0.43006439018515874,
          0.29783739306802626,
          0.633621162896919,
          0.09393538412697713,
          0.5764603874427376,
          0.47826046798304633,
          0.8681240137201295,
          0.9163861630769309
         ]
        },
        {
         "marker": {
          "line": {
           "color": "rgba(217, 217, 217, 0.14)",
           "width": 0.5
          },
          "opacity": 0.7,
          "size": 12
         },
         "mode": "markers",
         "name": "quercus_nigra",
         "type": "scatter",
         "x": [
          2.5523158835622586,
          3.067444456803231,
          1.005515615400128,
          2.5043664102789225,
          3.4301460696591812,
          3.394362568061676,
          1.2953240848455851,
          2.3630075446329872,
          0.056172052798923386,
          0.8616791728638741,
          1.8772288966116835,
          2.1155962682728706,
          1.072239055041809,
          1.3409171114191785,
          3.1013453233388204,
          2.40921837278752
         ],
         "y": [
          0.49836422098051025,
          -1.002823503496731,
          0.26524536942337945,
          1.507735124034447,
          1.395959683016921,
          1.1176338468862543,
          0.18601613585969018,
          0.5279312878009745,
          -0.6947699256879357,
          -0.14986694627310548,
          0.3406774638231649,
          0.6079737790901518,
          1.397916395811572,
          0.6265389521682438,
          1.7207469895535583,
          1.9143733127506068
         ]
        },
        {
         "marker": {
          "line": {
           "color": "rgba(217, 217, 217, 0.14)",
           "width": 0.5
          },
          "opacity": 0.7,
          "size": 12
         },
         "mode": "markers",
         "name": "quercus_palustris",
         "type": "scatter",
         "x": [
          4.102922117777562,
          2.731803765600881,
          3.4102255035217084,
          4.744519018807717,
          3.564232455394353,
          5.367163936050195,
          3.372173185512074,
          3.3229884417791657,
          3.9408143901713384,
          2.564850383540802,
          1.5291321942865712,
          4.415833874302809,
          1.892900302209115,
          2.6298029516878385,
          3.7385967984516686,
          2.094565704424718
         ],
         "y": [
          -3.987436797066,
          -4.502001477401962,
          -3.802001514617774,
          -4.272703021812884,
          -5.179115206767153,
          -4.853885672490231,
          -3.85180799884084,
          -4.021392733720929,
          -4.777722197860919,
          -5.644545194015086,
          -4.801609281293959,
          -3.913246010645708,
          -4.558088258056235,
          -4.195628764428398,
          -3.9508125152636646,
          -5.205511683932512
         ]
        },
        {
         "marker": {
          "line": {
           "color": "rgba(217, 217, 217, 0.14)",
           "width": 0.5
          },
          "opacity": 0.7,
          "size": 12
         },
         "mode": "markers",
         "name": "quercus_pontica",
         "type": "scatter",
         "x": [
          -0.9403462692007972,
          -1.048034207525407,
          -0.8136301691030124,
          -1.1127173253187137,
          -0.813191076496683,
          -0.9400940357794643,
          -0.7795587619782445,
          -1.2050670306883253,
          -1.137690524734569,
          -0.9218805258666182,
          -1.0792396280528829,
          -0.9588949165045229,
          -1.0660494695831906,
          -0.9822821316775118,
          -0.8861429387904982,
          -1.0344937313549156
         ],
         "y": [
          0.3828811004262067,
          0.5671753918154837,
          0.12032556564723215,
          0.7450926840943404,
          0.11342299472289909,
          0.3937370814590741,
          0.01478463952335117,
          0.9202839427975896,
          0.844986499650087,
          0.2821853521060181,
          0.6839939473366353,
          0.3214618605510908,
          0.6130461487876661,
          0.4103528035859916,
          0.26501989031707496,
          0.5606436825682146
         ]
        },
        {
         "marker": {
          "line": {
           "color": "rgba(217, 217, 217, 0.14)",
           "width": 0.5
          },
          "opacity": 0.7,
          "size": 12
         },
         "mode": "markers",
         "name": "quercus_texana",
         "type": "scatter",
         "x": [
          2.930528750026182,
          4.135990563491734,
          2.17736967099223,
          1.6638726222896902,
          1.1962247945779063,
          3.8227590540786265,
          3.1255803454911617,
          3.601883590633826,
          5.244461774335591,
          4.009280857977535,
          2.5275034360431845,
          2.753066667899631,
          2.6590401476922683,
          1.6522864497790952,
          3.6516693000890377,
          4.016358561039794
         ],
         "y": [
          -2.5909531292690358,
          -2.1399602087711123,
          -2.7834926321220137,
          -2.4922717217722057,
          -2.1310760630291945,
          -1.9538457024621567,
          -2.1909009973853277,
          -2.093186096761326,
          -2.4365239989078207,
          -1.639770840443322,
          -2.537212662739209,
          -2.2909616670564854,
          -1.9674470042785503,
          -2.5707679307530715,
          -2.6116658126860894,
          -1.9390708561167602
         ]
        },
        {
         "marker": {
          "line": {
           "color": "rgba(217, 217, 217, 0.14)",
           "width": 0.5
          },
          "opacity": 0.7,
          "size": 12
         },
         "mode": "markers",
         "name": "quercus_x_turneri",
         "type": "scatter",
         "x": [
          -0.7253527353145203,
          -0.8330657818033576,
          -0.8263607076389721,
          -0.6866184501136154,
          -1.005198105243752,
          -1.012277491500198,
          -0.8767139833805508,
          -0.8156098320545916,
          -1.063169852753205,
          -0.9567383312213875,
          -1.0137961435679772,
          -0.8164167265165931,
          -1.1546227270030034,
          -0.9315849959851833,
          -0.7980468001818607,
          -0.8358537169121122
         ],
         "y": [
          -0.05957909978651266,
          0.12801491670146212,
          0.07342502042773445,
          -0.13828131559562282,
          0.5693489800156769,
          0.552054531735716,
          0.3024881462347304,
          0.16667547297562674,
          0.6156334394894402,
          0.382429777462177,
          0.5705997684494584,
          0.15478120560233827,
          0.790026021576577,
          0.3194715234744626,
          0.03706016666405515,
          0.18903115528352682
         ]
        },
        {
         "marker": {
          "line": {
           "color": "rgba(217, 217, 217, 0.14)",
           "width": 0.5
          },
          "opacity": 0.7,
          "size": 12
         },
         "mode": "markers",
         "name": "salix_intergra",
         "type": "scatter",
         "x": [
          -2.572631938844647,
          -2.3896746480159305,
          -3.138159512382058,
          -2.5541085933192877,
          -3.095744338973102,
          -2.8273558628726088,
          -2.216981470339976,
          -2.9628082314819535,
          -2.4264714911904726,
          -2.3339472001146975,
          -2.5293604161803227,
          -2.4015900494533353,
          -2.6081150489705642,
          -2.456263555044083,
          -2.416807318405147,
          -2.740819729709081
         ],
         "y": [
          1.0558018355449894,
          0.7356444158806594,
          0.29786460492771755,
          0.5428736568265794,
          0.3003428624296683,
          0.3258387974033782,
          1.087964146620909,
          0.9642512756627071,
          0.5347039254153594,
          0.5437677095339262,
          0.8893374753885273,
          0.803848257954523,
          0.5458730259606221,
          0.3685822946849611,
          1.1673274877906408,
          0.7583607272871769
         ]
        }
       ],
       "layout": {
        "hovermode": "closest",
        "showlegend": false,
        "title": "Leaf Species",
        "xaxis": {
         "gridwidth": 2,
         "ticklen": 5,
         "title": "Principal Component 1",
         "zeroline": false
        },
        "yaxis": {
         "gridwidth": 2,
         "ticklen": 5,
         "title": "Principal Component 2"
        }
       }
      },
      "text/html": [
       "<div id=\"5d28b57d-d9c9-46ae-8169-f5b36bf5a055\" style=\"height: 525px; width: 100%;\" class=\"plotly-graph-div\"></div><script type=\"text/javascript\">require([\"plotly\"], function(Plotly) { window.PLOTLYENV=window.PLOTLYENV || {};window.PLOTLYENV.BASE_URL=\"https://plot.ly\";Plotly.newPlot(\"5d28b57d-d9c9-46ae-8169-f5b36bf5a055\", [{\"x\": [0.39378542152643836, -1.0936869722422615, -0.3793737117348804, 0.06411268854426606, 0.02467850742658087, 0.38739125343562336, -0.22947562329420249, -0.30519495879122815, 0.0423190512912074, -0.28761988027242835, 0.09840841463680447, -0.14368842065403956, 0.49373538902706476, -0.114773714110035, 0.2377800960851232, 1.6878964071492404], \"name\": \"acer_circinatum\", \"type\": \"scatter\", \"marker\": {\"opacity\": 0.7, \"line\": {\"width\": 0.5, \"color\": \"rgba(217, 217, 217, 0.14)\"}, \"size\": 12}, \"y\": [-1.4268188302330291, -2.382318220436148, -1.9415177605170364, -1.6435024244054812, -2.0373895713835806, -1.146982132512669, -2.372778119851146, -2.011088661274845, -1.546408793157136, -1.8972888691864749, -1.9703723059346685, -2.0930376069766377, -1.8888209606137387, -1.7446657062913968, -2.0069096967807605, -1.1585421020849158], \"mode\": \"markers\"}, {\"x\": [-1.7313136833684275, -2.3308379041680833, -2.176330171015738, -1.9176118740349772, -1.9108783357432135, -1.582405653276816, -1.3503249937660993, -1.9976048470328243, -1.751714545765294, -2.46628442211909, -2.060543054260142, -1.6095194463404905, -1.4891730840109296, -1.8150065672620324, -2.2331896271178064, -1.4397087094644998], \"name\": \"acer_mono\", \"type\": \"scatter\", \"marker\": {\"opacity\": 0.7, \"line\": {\"width\": 0.5, \"color\": \"rgba(217, 217, 217, 0.14)\"}, \"size\": 12}, \"y\": [-1.5024975049218678, -2.2410363529236017, -0.46382973214837, -2.205483231700004, -1.6518414872786595, -2.071191361096325, -1.5883142394795366, -1.7972735572734218, -1.78362635820266, -1.3611683219498627, -1.5306202210488309, -2.5507979609881906, -2.6112471362176044, -1.9392007006248904, -1.5846487080813696, -1.5127927194615483], \"mode\": \"markers\"}, {\"x\": [-0.7958168093317871, -1.2416729681755696, -1.3477914671426496, -1.218026461321661, -1.2176270490063117, -1.1768187695830585, -1.045095732755646, -1.3786186734163801, -1.343348512553084, -1.2860038352497047, -1.2730364219788968, -1.2975743120784204, -1.235008225750493, -1.24814782461521, -0.9163960218776006, -1.0827877747635135], \"name\": \"arundinaria_simonii\", \"type\": \"scatter\", \"marker\": {\"opacity\": 0.7, \"line\": {\"width\": 0.5, \"color\": \"rgba(217, 217, 217, 0.14)\"}, \"size\": 12}, \"y\": [-0.5167347519989801, 0.6335879573114003, 0.510969386296401, 0.5241541033938173, 0.49709102355381113, 0.43615993369892087, 0.12257880801758263, 0.5332939419510815, 0.5825809713048252, 0.6821796454517794, 0.46681843630755465, 0.5948081184846555, 0.5872065016929319, 0.506548903619842, -0.1492289524551115, 0.29338166392922527], \"mode\": \"markers\"}, {\"x\": [-3.2131881349190436, -3.097201348994514, -2.8464235379603515, -3.0831686870984756, -3.0975213361466976, -2.9885934755283037, -2.8354258385058797, -3.3364315983752775, -2.7994862673680005, -3.102856769939532, -3.088361595925603, -3.3502352912713613, -3.094101636545998, -3.017164397449736, -2.945542037153368, -2.9444227108606293], \"name\": \"betula_pendula\", \"type\": \"scatter\", \"marker\": {\"opacity\": 0.7, \"line\": {\"width\": 0.5, \"color\": \"rgba(217, 217, 217, 0.14)\"}, \"size\": 12}, \"y\": [-2.4428356281289116, -1.6738181633365823, -1.6711874784612764, -2.197818805571586, -1.9994423092854483, -2.3332365046957904, -1.5987316616697498, -2.296330406521066, -1.888415308871158, -1.4135985803964903, -1.9490292227628223, -2.334460028850132, -2.5825129086974323, -1.4591345444741355, -1.3937109260451426, -2.658418783004512], \"mode\": \"markers\"}, {\"x\": [2.0606788812847467, 3.273445503528303, 4.448451012742199, 4.398468310749209, 3.072682179537491, 3.6363932014737728, 2.5428252388810355, 1.0846066921250457, 3.1150376133755073, 3.9158194900496124, 1.4017488345861122, 4.5835298294660705, 0.9624656926491945, 4.9359745077799815, 2.7770949343561044, 2.6446815886959976], \"name\": \"castanea_sativa\", \"type\": \"scatter\", \"marker\": {\"opacity\": 0.7, \"line\": {\"width\": 0.5, \"color\": \"rgba(217, 217, 217, 0.14)\"}, \"size\": 12}, \"y\": [0.8301847202877837, 1.302325214071752, 2.0573917884002695, 1.4351957782193332, 1.1258091626438496, 1.3495497412939288, 1.6400266228333171, 0.019838187862289886, 0.9637002306235133, 0.9286897449827411, 0.7113493452436841, 1.415146845264497, 0.564602471512656, 1.7208358924571119, 0.5778490068887948, 0.6206075374337101], \"mode\": \"markers\"}, {\"x\": [1.3848835379582067, 0.5386567521883348, 1.0388440452708056, 1.5103476315512323, 1.4973832061814303, 1.6490185647416427, 1.903233512325577, 0.5468896975316959, 1.9034880299788597, 1.0597095967790369, 1.0180912320415891, 1.3279386148652175, 0.4388671722657697, -1.445657203716258, 0.2951858350825798, 1.8528951297472203], \"name\": \"cornus_chinensis\", \"type\": \"scatter\", \"marker\": {\"opacity\": 0.7, \"line\": {\"width\": 0.5, \"color\": \"rgba(217, 217, 217, 0.14)\"}, \"size\": 12}, \"y\": [2.0629787229962497, 1.543588826080897, 1.5565154229102975, 1.864916292204958, 1.7873889829093128, 2.1110115447239686, 2.453119358682252, 1.5030826258881733, 1.7006699851741551, 1.5460419257207765, 2.1544177950211294, 1.9390092774865346, 1.1442603712814758, 0.40133154909898006, 1.2536359197552045, 1.8446613871021744], \"mode\": \"markers\"}, {\"x\": [-1.8402707125410007, -0.684030662663641, -1.773313964055827, -1.1881939381667093, 0.07892138764299274, -0.06702143874503183, -1.622585544971655, -1.0293150774121647, 0.13286613365310757, -0.9166047673278356, -1.2936229224326177, -0.12363287013349507, -0.6042141651678427, -1.4386253517069112, -0.5992530325109205, -0.9461823809787213], \"name\": \"ilex_aquifolium\", \"type\": \"scatter\", \"marker\": {\"opacity\": 0.7, \"line\": {\"width\": 0.5, \"color\": \"rgba(217, 217, 217, 0.14)\"}, \"size\": 12}, \"y\": [0.3703235035104464, 1.050970685860914, 0.8603919765690832, 0.7045337566349752, 1.2946693188131992, 1.1813437899806274, 0.4330016385229495, 1.0534020153092678, 1.1610726559379965, 0.6511794196005399, 0.820790207466221, 1.0061100136892196, 1.059653998915075, 0.631211153188108, 0.6613151130139057, 0.869095547973522], \"mode\": \"markers\"}, {\"x\": [6.394433983423748, 5.601028978825276, 2.1898976484142336, 4.197272606690051, 2.6355441816907392, 2.403954186239299, 5.490794212278024, 4.673031115921364, 5.702265306347128, 3.8167430015236343, 7.294440467144483, 5.845162229600436, 5.351458457071672, 2.6889064115769648, 2.1065526993310044, 2.4707008364332506], \"name\": \"liriodendron_tulipifera\", \"type\": \"scatter\", \"marker\": {\"opacity\": 0.7, \"line\": {\"width\": 0.5, \"color\": \"rgba(217, 217, 217, 0.14)\"}, \"size\": 12}, \"y\": [2.717533244996262, 2.7948949531726472, 1.5338602876767866, 2.775820108303426, 1.8319548531545737, 1.7336694442497553, 2.28149929176823, 3.2384253706271577, 2.5963109503472572, 1.9859244438708565, 3.463604653298739, 2.5731309864627767, 3.318386956620449, 1.5086434432974778, 1.1939056259709928, 1.774675624129189], \"mode\": \"markers\"}, {\"x\": [-1.2465265404185732, -1.1835946004335813, -1.0611223298677241, -1.05245215037021, -1.1648032922936056, -1.2505798905452232, -1.0333742283607719, -1.1253740775000887, -1.1065236381887416, -1.0959250749784308, -1.2111413367732078, -1.093335205163427, -1.0919509298553207, -1.13971031304298, -1.2162711128038168, -1.103398362237383], \"name\": \"lithocarpus_edulis\", \"type\": \"scatter\", \"marker\": {\"opacity\": 0.7, \"line\": {\"width\": 0.5, \"color\": \"rgba(217, 217, 217, 0.14)\"}, \"size\": 12}, \"y\": [1.0743528896836112, 0.9617159247960954, 0.6916807197210131, 0.6603952801989704, 0.8842793123955177, 1.0425653639299548, 0.5899782253011736, 0.8052140705980972, 0.796740600453412, 0.7669764181821452, 0.9830395788642547, 0.7652227067724211, 0.769328896568417, 0.836443542557226, 1.0007123982888384, 0.7478806641103846], \"mode\": \"markers\"}, {\"x\": [-1.4325411843328606, -0.7871800276684375, -1.5215688101101046, -0.7380805151068456, -0.9142499505402065, -0.38792377783591464, -0.6461598458999123, -0.8369776330998522, -1.0467281069158298, -0.8665150981520555, -1.2600773932871834, -1.1776588558346437, -0.6647690480569509, -1.4837536717645077, -1.5301716560897187, -0.25027225854632074], \"name\": \"populus_nigra\", \"type\": \"scatter\", \"marker\": {\"opacity\": 0.7, \"line\": {\"width\": 0.5, \"color\": \"rgba(217, 217, 217, 0.14)\"}, \"size\": 12}, \"y\": [-0.2075837005222586, 0.44512405997685667, 0.06720531290030557, 0.3720846963225803, 0.5878750324319703, 0.44785870400119737, 0.6366274539824684, 0.6232872223880339, 0.19036945818895545, 0.19825913513124305, 0.1462547742115935, 0.14981097327124956, 0.40286859382306817, -0.03188704636277784, -0.1692086672486145, 0.6404579740953065], \"mode\": \"markers\"}, {\"x\": [2.3632232627395062, 0.07075243501837769, -1.4416669008860716, 1.8906271169587165, -1.6939849108764378, -1.0269241667128948, -0.7640154776182361, 1.264939207131274, 0.27555984689953006, 1.5567977241985254, 0.2474390481886396, 1.7738244141474067, 0.8509645558720245, 0.13016287305157995, 0.7264075251621682, 0.967523837475188], \"name\": \"prunus_x_shmittii\", \"type\": \"scatter\", \"marker\": {\"opacity\": 0.7, \"line\": {\"width\": 0.5, \"color\": \"rgba(217, 217, 217, 0.14)\"}, \"size\": 12}, \"y\": [0.9598020992268853, 0.5045807217391372, -0.22790552678779702, 1.3020135217931395, 0.2005224150986572, 0.29290874324366234, -0.017581376287128025, 0.7522327663532469, 0.6665474108748, 1.1799156555961778, 0.6345108945782132, 1.2263585443002762, 0.7538511025087127, 0.7325328227243182, 0.7192133605516242, 0.7976264418692625], \"mode\": \"markers\"}, {\"x\": [0.03102536782338612, -0.8913313734370061, -0.765460947066848, -1.27440486618248, -0.8485376822534748, -0.21425743782949702, -1.574764383864517, -0.9855772583533526, -1.478824827451721, -0.4939173406759961, -0.617235994120965, -0.7568365321563454, -0.2520834936741114, 0.5810949213310304, -0.6001037698209261, -1.8475304017656256], \"name\": \"quercus_canariensis\", \"type\": \"scatter\", \"marker\": {\"opacity\": 0.7, \"line\": {\"width\": 0.5, \"color\": \"rgba(217, 217, 217, 0.14)\"}, \"size\": 12}, \"y\": [1.025763511180228, 0.33024647057906237, 0.8017133922309959, 0.21645229634914698, 1.126869635231779, 1.2351536324166374, 0.3415359207002673, 0.4568525208816186, 0.6154266684955173, 0.5222011408544253, 0.7396998572922704, 0.5898280931769687, 0.8420297666391747, 1.469455894075268, 0.6754583704274012, 0.0837338951573337], \"mode\": \"markers\"}, {\"x\": [-1.2496410199933041, -1.2852245692779178, -1.305773521236207, -1.3863967543985514, -1.3854203765551625, -1.2817770268317605, -1.2703058420486018, -1.1603635834450299, -1.2239908696171167, -1.239944638142339, -1.3195236868002367, -1.2092321220350328, -1.3534635236337804, -1.3343828845481112, -1.295269156763515, -1.3201510411837465], \"name\": \"quercus_chrysolepis\", \"type\": \"scatter\", \"marker\": {\"opacity\": 0.7, \"line\": {\"width\": 0.5, \"color\": \"rgba(217, 217, 217, 0.14)\"}, \"size\": 12}, \"y\": [0.9915001500253615, 1.0887305521763457, 1.1256529285607226, 1.299879962626606, 1.3366073796141997, 1.0885479796844464, 1.0727568859590626, 0.8171059594400971, 0.9424966186652975, 1.0454664580406972, 1.1681771782286134, 0.9555687408309741, 1.2341932273067187, 1.1699333043468172, 1.127859733423222, 1.1487115369478682], \"mode\": \"markers\"}, {\"x\": [-2.261103117542395, -2.162029814309365, -2.0979688593428114, -1.2173420482793298, -2.6111878755842888, -2.0264725557622025, -2.081278976429598, -1.6991005391777585, -1.3904525827652123, -2.0541898541266446, -1.180209782784927, -2.0491492243128624, -1.657091929139946, -1.6335605810594305, -1.116594153179693, -0.3100202987611528], \"name\": \"quercus_infectoria_sub\", \"type\": \"scatter\", \"marker\": {\"opacity\": 0.7, \"line\": {\"width\": 0.5, \"color\": \"rgba(217, 217, 217, 0.14)\"}, \"size\": 12}, \"y\": [-0.208157546175255, 0.2593918431390535, 0.04643413811582403, 0.39255357321339013, -0.08583842009888587, 0.1488458520599152, 0.5826385958102862, 0.33304006034937433, 0.43006439018515874, 0.29783739306802626, 0.633621162896919, 0.09393538412697713, 0.5764603874427376, 0.47826046798304633, 0.8681240137201295, 0.9163861630769309], \"mode\": \"markers\"}, {\"x\": [2.5523158835622586, 3.067444456803231, 1.005515615400128, 2.5043664102789225, 3.4301460696591812, 3.394362568061676, 1.2953240848455851, 2.3630075446329872, 0.056172052798923386, 0.8616791728638741, 1.8772288966116835, 2.1155962682728706, 1.072239055041809, 1.3409171114191785, 3.1013453233388204, 2.40921837278752], \"name\": \"quercus_nigra\", \"type\": \"scatter\", \"marker\": {\"opacity\": 0.7, \"line\": {\"width\": 0.5, \"color\": \"rgba(217, 217, 217, 0.14)\"}, \"size\": 12}, \"y\": [0.49836422098051025, -1.002823503496731, 0.26524536942337945, 1.507735124034447, 1.395959683016921, 1.1176338468862543, 0.18601613585969018, 0.5279312878009745, -0.6947699256879357, -0.14986694627310548, 0.3406774638231649, 0.6079737790901518, 1.397916395811572, 0.6265389521682438, 1.7207469895535583, 1.9143733127506068], \"mode\": \"markers\"}, {\"x\": [4.102922117777562, 2.731803765600881, 3.4102255035217084, 4.744519018807717, 3.564232455394353, 5.367163936050195, 3.372173185512074, 3.3229884417791657, 3.9408143901713384, 2.564850383540802, 1.5291321942865712, 4.415833874302809, 1.892900302209115, 2.6298029516878385, 3.7385967984516686, 2.094565704424718], \"name\": \"quercus_palustris\", \"type\": \"scatter\", \"marker\": {\"opacity\": 0.7, \"line\": {\"width\": 0.5, \"color\": \"rgba(217, 217, 217, 0.14)\"}, \"size\": 12}, \"y\": [-3.987436797066, -4.502001477401962, -3.802001514617774, -4.272703021812884, -5.179115206767153, -4.853885672490231, -3.85180799884084, -4.021392733720929, -4.777722197860919, -5.644545194015086, -4.801609281293959, -3.913246010645708, -4.558088258056235, -4.195628764428398, -3.9508125152636646, -5.205511683932512], \"mode\": \"markers\"}, {\"x\": [-0.9403462692007972, -1.048034207525407, -0.8136301691030124, -1.1127173253187137, -0.813191076496683, -0.9400940357794643, -0.7795587619782445, -1.2050670306883253, -1.137690524734569, -0.9218805258666182, -1.0792396280528829, -0.9588949165045229, -1.0660494695831906, -0.9822821316775118, -0.8861429387904982, -1.0344937313549156], \"name\": \"quercus_pontica\", \"type\": \"scatter\", \"marker\": {\"opacity\": 0.7, \"line\": {\"width\": 0.5, \"color\": \"rgba(217, 217, 217, 0.14)\"}, \"size\": 12}, \"y\": [0.3828811004262067, 0.5671753918154837, 0.12032556564723215, 0.7450926840943404, 0.11342299472289909, 0.3937370814590741, 0.01478463952335117, 0.9202839427975896, 0.844986499650087, 0.2821853521060181, 0.6839939473366353, 0.3214618605510908, 0.6130461487876661, 0.4103528035859916, 0.26501989031707496, 0.5606436825682146], \"mode\": \"markers\"}, {\"x\": [2.930528750026182, 4.135990563491734, 2.17736967099223, 1.6638726222896902, 1.1962247945779063, 3.8227590540786265, 3.1255803454911617, 3.601883590633826, 5.244461774335591, 4.009280857977535, 2.5275034360431845, 2.753066667899631, 2.6590401476922683, 1.6522864497790952, 3.6516693000890377, 4.016358561039794], \"name\": \"quercus_texana\", \"type\": \"scatter\", \"marker\": {\"opacity\": 0.7, \"line\": {\"width\": 0.5, \"color\": \"rgba(217, 217, 217, 0.14)\"}, \"size\": 12}, \"y\": [-2.5909531292690358, -2.1399602087711123, -2.7834926321220137, -2.4922717217722057, -2.1310760630291945, -1.9538457024621567, -2.1909009973853277, -2.093186096761326, -2.4365239989078207, -1.639770840443322, -2.537212662739209, -2.2909616670564854, -1.9674470042785503, -2.5707679307530715, -2.6116658126860894, -1.9390708561167602], \"mode\": \"markers\"}, {\"x\": [-0.7253527353145203, -0.8330657818033576, -0.8263607076389721, -0.6866184501136154, -1.005198105243752, -1.012277491500198, -0.8767139833805508, -0.8156098320545916, -1.063169852753205, -0.9567383312213875, -1.0137961435679772, -0.8164167265165931, -1.1546227270030034, -0.9315849959851833, -0.7980468001818607, -0.8358537169121122], \"name\": \"quercus_x_turneri\", \"type\": \"scatter\", \"marker\": {\"opacity\": 0.7, \"line\": {\"width\": 0.5, \"color\": \"rgba(217, 217, 217, 0.14)\"}, \"size\": 12}, \"y\": [-0.05957909978651266, 0.12801491670146212, 0.07342502042773445, -0.13828131559562282, 0.5693489800156769, 0.552054531735716, 0.3024881462347304, 0.16667547297562674, 0.6156334394894402, 0.382429777462177, 0.5705997684494584, 0.15478120560233827, 0.790026021576577, 0.3194715234744626, 0.03706016666405515, 0.18903115528352682], \"mode\": \"markers\"}, {\"x\": [-2.572631938844647, -2.3896746480159305, -3.138159512382058, -2.5541085933192877, -3.095744338973102, -2.8273558628726088, -2.216981470339976, -2.9628082314819535, -2.4264714911904726, -2.3339472001146975, -2.5293604161803227, -2.4015900494533353, -2.6081150489705642, -2.456263555044083, -2.416807318405147, -2.740819729709081], \"name\": \"salix_intergra\", \"type\": \"scatter\", \"marker\": {\"opacity\": 0.7, \"line\": {\"width\": 0.5, \"color\": \"rgba(217, 217, 217, 0.14)\"}, \"size\": 12}, \"y\": [1.0558018355449894, 0.7356444158806594, 0.29786460492771755, 0.5428736568265794, 0.3003428624296683, 0.3258387974033782, 1.087964146620909, 0.9642512756627071, 0.5347039254153594, 0.5437677095339262, 0.8893374753885273, 0.803848257954523, 0.5458730259606221, 0.3685822946849611, 1.1673274877906408, 0.7583607272871769], \"mode\": \"markers\"}], {\"yaxis\": {\"ticklen\": 5, \"gridwidth\": 2, \"title\": \"Principal Component 2\"}, \"showlegend\": false, \"xaxis\": {\"ticklen\": 5, \"zeroline\": false, \"gridwidth\": 2, \"title\": \"Principal Component 1\"}, \"title\": \"Leaf Species\", \"hovermode\": \"closest\"}, {\"linkText\": \"Export to plot.ly\", \"showLink\": true})});</script>"
      ],
      "text/vnd.plotly.v1+html": [
       "<div id=\"5d28b57d-d9c9-46ae-8169-f5b36bf5a055\" style=\"height: 525px; width: 100%;\" class=\"plotly-graph-div\"></div><script type=\"text/javascript\">require([\"plotly\"], function(Plotly) { window.PLOTLYENV=window.PLOTLYENV || {};window.PLOTLYENV.BASE_URL=\"https://plot.ly\";Plotly.newPlot(\"5d28b57d-d9c9-46ae-8169-f5b36bf5a055\", [{\"x\": [0.39378542152643836, -1.0936869722422615, -0.3793737117348804, 0.06411268854426606, 0.02467850742658087, 0.38739125343562336, -0.22947562329420249, -0.30519495879122815, 0.0423190512912074, -0.28761988027242835, 0.09840841463680447, -0.14368842065403956, 0.49373538902706476, -0.114773714110035, 0.2377800960851232, 1.6878964071492404], \"name\": \"acer_circinatum\", \"type\": \"scatter\", \"marker\": {\"opacity\": 0.7, \"line\": {\"width\": 0.5, \"color\": \"rgba(217, 217, 217, 0.14)\"}, \"size\": 12}, \"y\": [-1.4268188302330291, -2.382318220436148, -1.9415177605170364, -1.6435024244054812, -2.0373895713835806, -1.146982132512669, -2.372778119851146, -2.011088661274845, -1.546408793157136, -1.8972888691864749, -1.9703723059346685, -2.0930376069766377, -1.8888209606137387, -1.7446657062913968, -2.0069096967807605, -1.1585421020849158], \"mode\": \"markers\"}, {\"x\": [-1.7313136833684275, -2.3308379041680833, -2.176330171015738, -1.9176118740349772, -1.9108783357432135, -1.582405653276816, -1.3503249937660993, -1.9976048470328243, -1.751714545765294, -2.46628442211909, -2.060543054260142, -1.6095194463404905, -1.4891730840109296, -1.8150065672620324, -2.2331896271178064, -1.4397087094644998], \"name\": \"acer_mono\", \"type\": \"scatter\", \"marker\": {\"opacity\": 0.7, \"line\": {\"width\": 0.5, \"color\": \"rgba(217, 217, 217, 0.14)\"}, \"size\": 12}, \"y\": [-1.5024975049218678, -2.2410363529236017, -0.46382973214837, -2.205483231700004, -1.6518414872786595, -2.071191361096325, -1.5883142394795366, -1.7972735572734218, -1.78362635820266, -1.3611683219498627, -1.5306202210488309, -2.5507979609881906, -2.6112471362176044, -1.9392007006248904, -1.5846487080813696, -1.5127927194615483], \"mode\": \"markers\"}, {\"x\": [-0.7958168093317871, -1.2416729681755696, -1.3477914671426496, -1.218026461321661, -1.2176270490063117, -1.1768187695830585, -1.045095732755646, -1.3786186734163801, -1.343348512553084, -1.2860038352497047, -1.2730364219788968, -1.2975743120784204, -1.235008225750493, -1.24814782461521, -0.9163960218776006, -1.0827877747635135], \"name\": \"arundinaria_simonii\", \"type\": \"scatter\", \"marker\": {\"opacity\": 0.7, \"line\": {\"width\": 0.5, \"color\": \"rgba(217, 217, 217, 0.14)\"}, \"size\": 12}, \"y\": [-0.5167347519989801, 0.6335879573114003, 0.510969386296401, 0.5241541033938173, 0.49709102355381113, 0.43615993369892087, 0.12257880801758263, 0.5332939419510815, 0.5825809713048252, 0.6821796454517794, 0.46681843630755465, 0.5948081184846555, 0.5872065016929319, 0.506548903619842, -0.1492289524551115, 0.29338166392922527], \"mode\": \"markers\"}, {\"x\": [-3.2131881349190436, -3.097201348994514, -2.8464235379603515, -3.0831686870984756, -3.0975213361466976, -2.9885934755283037, -2.8354258385058797, -3.3364315983752775, -2.7994862673680005, -3.102856769939532, -3.088361595925603, -3.3502352912713613, -3.094101636545998, -3.017164397449736, -2.945542037153368, -2.9444227108606293], \"name\": \"betula_pendula\", \"type\": \"scatter\", \"marker\": {\"opacity\": 0.7, \"line\": {\"width\": 0.5, \"color\": \"rgba(217, 217, 217, 0.14)\"}, \"size\": 12}, \"y\": [-2.4428356281289116, -1.6738181633365823, -1.6711874784612764, -2.197818805571586, -1.9994423092854483, -2.3332365046957904, -1.5987316616697498, -2.296330406521066, -1.888415308871158, -1.4135985803964903, -1.9490292227628223, -2.334460028850132, -2.5825129086974323, -1.4591345444741355, -1.3937109260451426, -2.658418783004512], \"mode\": \"markers\"}, {\"x\": [2.0606788812847467, 3.273445503528303, 4.448451012742199, 4.398468310749209, 3.072682179537491, 3.6363932014737728, 2.5428252388810355, 1.0846066921250457, 3.1150376133755073, 3.9158194900496124, 1.4017488345861122, 4.5835298294660705, 0.9624656926491945, 4.9359745077799815, 2.7770949343561044, 2.6446815886959976], \"name\": \"castanea_sativa\", \"type\": \"scatter\", \"marker\": {\"opacity\": 0.7, \"line\": {\"width\": 0.5, \"color\": \"rgba(217, 217, 217, 0.14)\"}, \"size\": 12}, \"y\": [0.8301847202877837, 1.302325214071752, 2.0573917884002695, 1.4351957782193332, 1.1258091626438496, 1.3495497412939288, 1.6400266228333171, 0.019838187862289886, 0.9637002306235133, 0.9286897449827411, 0.7113493452436841, 1.415146845264497, 0.564602471512656, 1.7208358924571119, 0.5778490068887948, 0.6206075374337101], \"mode\": \"markers\"}, {\"x\": [1.3848835379582067, 0.5386567521883348, 1.0388440452708056, 1.5103476315512323, 1.4973832061814303, 1.6490185647416427, 1.903233512325577, 0.5468896975316959, 1.9034880299788597, 1.0597095967790369, 1.0180912320415891, 1.3279386148652175, 0.4388671722657697, -1.445657203716258, 0.2951858350825798, 1.8528951297472203], \"name\": \"cornus_chinensis\", \"type\": \"scatter\", \"marker\": {\"opacity\": 0.7, \"line\": {\"width\": 0.5, \"color\": \"rgba(217, 217, 217, 0.14)\"}, \"size\": 12}, \"y\": [2.0629787229962497, 1.543588826080897, 1.5565154229102975, 1.864916292204958, 1.7873889829093128, 2.1110115447239686, 2.453119358682252, 1.5030826258881733, 1.7006699851741551, 1.5460419257207765, 2.1544177950211294, 1.9390092774865346, 1.1442603712814758, 0.40133154909898006, 1.2536359197552045, 1.8446613871021744], \"mode\": \"markers\"}, {\"x\": [-1.8402707125410007, -0.684030662663641, -1.773313964055827, -1.1881939381667093, 0.07892138764299274, -0.06702143874503183, -1.622585544971655, -1.0293150774121647, 0.13286613365310757, -0.9166047673278356, -1.2936229224326177, -0.12363287013349507, -0.6042141651678427, -1.4386253517069112, -0.5992530325109205, -0.9461823809787213], \"name\": \"ilex_aquifolium\", \"type\": \"scatter\", \"marker\": {\"opacity\": 0.7, \"line\": {\"width\": 0.5, \"color\": \"rgba(217, 217, 217, 0.14)\"}, \"size\": 12}, \"y\": [0.3703235035104464, 1.050970685860914, 0.8603919765690832, 0.7045337566349752, 1.2946693188131992, 1.1813437899806274, 0.4330016385229495, 1.0534020153092678, 1.1610726559379965, 0.6511794196005399, 0.820790207466221, 1.0061100136892196, 1.059653998915075, 0.631211153188108, 0.6613151130139057, 0.869095547973522], \"mode\": \"markers\"}, {\"x\": [6.394433983423748, 5.601028978825276, 2.1898976484142336, 4.197272606690051, 2.6355441816907392, 2.403954186239299, 5.490794212278024, 4.673031115921364, 5.702265306347128, 3.8167430015236343, 7.294440467144483, 5.845162229600436, 5.351458457071672, 2.6889064115769648, 2.1065526993310044, 2.4707008364332506], \"name\": \"liriodendron_tulipifera\", \"type\": \"scatter\", \"marker\": {\"opacity\": 0.7, \"line\": {\"width\": 0.5, \"color\": \"rgba(217, 217, 217, 0.14)\"}, \"size\": 12}, \"y\": [2.717533244996262, 2.7948949531726472, 1.5338602876767866, 2.775820108303426, 1.8319548531545737, 1.7336694442497553, 2.28149929176823, 3.2384253706271577, 2.5963109503472572, 1.9859244438708565, 3.463604653298739, 2.5731309864627767, 3.318386956620449, 1.5086434432974778, 1.1939056259709928, 1.774675624129189], \"mode\": \"markers\"}, {\"x\": [-1.2465265404185732, -1.1835946004335813, -1.0611223298677241, -1.05245215037021, -1.1648032922936056, -1.2505798905452232, -1.0333742283607719, -1.1253740775000887, -1.1065236381887416, -1.0959250749784308, -1.2111413367732078, -1.093335205163427, -1.0919509298553207, -1.13971031304298, -1.2162711128038168, -1.103398362237383], \"name\": \"lithocarpus_edulis\", \"type\": \"scatter\", \"marker\": {\"opacity\": 0.7, \"line\": {\"width\": 0.5, \"color\": \"rgba(217, 217, 217, 0.14)\"}, \"size\": 12}, \"y\": [1.0743528896836112, 0.9617159247960954, 0.6916807197210131, 0.6603952801989704, 0.8842793123955177, 1.0425653639299548, 0.5899782253011736, 0.8052140705980972, 0.796740600453412, 0.7669764181821452, 0.9830395788642547, 0.7652227067724211, 0.769328896568417, 0.836443542557226, 1.0007123982888384, 0.7478806641103846], \"mode\": \"markers\"}, {\"x\": [-1.4325411843328606, -0.7871800276684375, -1.5215688101101046, -0.7380805151068456, -0.9142499505402065, -0.38792377783591464, -0.6461598458999123, -0.8369776330998522, -1.0467281069158298, -0.8665150981520555, -1.2600773932871834, -1.1776588558346437, -0.6647690480569509, -1.4837536717645077, -1.5301716560897187, -0.25027225854632074], \"name\": \"populus_nigra\", \"type\": \"scatter\", \"marker\": {\"opacity\": 0.7, \"line\": {\"width\": 0.5, \"color\": \"rgba(217, 217, 217, 0.14)\"}, \"size\": 12}, \"y\": [-0.2075837005222586, 0.44512405997685667, 0.06720531290030557, 0.3720846963225803, 0.5878750324319703, 0.44785870400119737, 0.6366274539824684, 0.6232872223880339, 0.19036945818895545, 0.19825913513124305, 0.1462547742115935, 0.14981097327124956, 0.40286859382306817, -0.03188704636277784, -0.1692086672486145, 0.6404579740953065], \"mode\": \"markers\"}, {\"x\": [2.3632232627395062, 0.07075243501837769, -1.4416669008860716, 1.8906271169587165, -1.6939849108764378, -1.0269241667128948, -0.7640154776182361, 1.264939207131274, 0.27555984689953006, 1.5567977241985254, 0.2474390481886396, 1.7738244141474067, 0.8509645558720245, 0.13016287305157995, 0.7264075251621682, 0.967523837475188], \"name\": \"prunus_x_shmittii\", \"type\": \"scatter\", \"marker\": {\"opacity\": 0.7, \"line\": {\"width\": 0.5, \"color\": \"rgba(217, 217, 217, 0.14)\"}, \"size\": 12}, \"y\": [0.9598020992268853, 0.5045807217391372, -0.22790552678779702, 1.3020135217931395, 0.2005224150986572, 0.29290874324366234, -0.017581376287128025, 0.7522327663532469, 0.6665474108748, 1.1799156555961778, 0.6345108945782132, 1.2263585443002762, 0.7538511025087127, 0.7325328227243182, 0.7192133605516242, 0.7976264418692625], \"mode\": \"markers\"}, {\"x\": [0.03102536782338612, -0.8913313734370061, -0.765460947066848, -1.27440486618248, -0.8485376822534748, -0.21425743782949702, -1.574764383864517, -0.9855772583533526, -1.478824827451721, -0.4939173406759961, -0.617235994120965, -0.7568365321563454, -0.2520834936741114, 0.5810949213310304, -0.6001037698209261, -1.8475304017656256], \"name\": \"quercus_canariensis\", \"type\": \"scatter\", \"marker\": {\"opacity\": 0.7, \"line\": {\"width\": 0.5, \"color\": \"rgba(217, 217, 217, 0.14)\"}, \"size\": 12}, \"y\": [1.025763511180228, 0.33024647057906237, 0.8017133922309959, 0.21645229634914698, 1.126869635231779, 1.2351536324166374, 0.3415359207002673, 0.4568525208816186, 0.6154266684955173, 0.5222011408544253, 0.7396998572922704, 0.5898280931769687, 0.8420297666391747, 1.469455894075268, 0.6754583704274012, 0.0837338951573337], \"mode\": \"markers\"}, {\"x\": [-1.2496410199933041, -1.2852245692779178, -1.305773521236207, -1.3863967543985514, -1.3854203765551625, -1.2817770268317605, -1.2703058420486018, -1.1603635834450299, -1.2239908696171167, -1.239944638142339, -1.3195236868002367, -1.2092321220350328, -1.3534635236337804, -1.3343828845481112, -1.295269156763515, -1.3201510411837465], \"name\": \"quercus_chrysolepis\", \"type\": \"scatter\", \"marker\": {\"opacity\": 0.7, \"line\": {\"width\": 0.5, \"color\": \"rgba(217, 217, 217, 0.14)\"}, \"size\": 12}, \"y\": [0.9915001500253615, 1.0887305521763457, 1.1256529285607226, 1.299879962626606, 1.3366073796141997, 1.0885479796844464, 1.0727568859590626, 0.8171059594400971, 0.9424966186652975, 1.0454664580406972, 1.1681771782286134, 0.9555687408309741, 1.2341932273067187, 1.1699333043468172, 1.127859733423222, 1.1487115369478682], \"mode\": \"markers\"}, {\"x\": [-2.261103117542395, -2.162029814309365, -2.0979688593428114, -1.2173420482793298, -2.6111878755842888, -2.0264725557622025, -2.081278976429598, -1.6991005391777585, -1.3904525827652123, -2.0541898541266446, -1.180209782784927, -2.0491492243128624, -1.657091929139946, -1.6335605810594305, -1.116594153179693, -0.3100202987611528], \"name\": \"quercus_infectoria_sub\", \"type\": \"scatter\", \"marker\": {\"opacity\": 0.7, \"line\": {\"width\": 0.5, \"color\": \"rgba(217, 217, 217, 0.14)\"}, \"size\": 12}, \"y\": [-0.208157546175255, 0.2593918431390535, 0.04643413811582403, 0.39255357321339013, -0.08583842009888587, 0.1488458520599152, 0.5826385958102862, 0.33304006034937433, 0.43006439018515874, 0.29783739306802626, 0.633621162896919, 0.09393538412697713, 0.5764603874427376, 0.47826046798304633, 0.8681240137201295, 0.9163861630769309], \"mode\": \"markers\"}, {\"x\": [2.5523158835622586, 3.067444456803231, 1.005515615400128, 2.5043664102789225, 3.4301460696591812, 3.394362568061676, 1.2953240848455851, 2.3630075446329872, 0.056172052798923386, 0.8616791728638741, 1.8772288966116835, 2.1155962682728706, 1.072239055041809, 1.3409171114191785, 3.1013453233388204, 2.40921837278752], \"name\": \"quercus_nigra\", \"type\": \"scatter\", \"marker\": {\"opacity\": 0.7, \"line\": {\"width\": 0.5, \"color\": \"rgba(217, 217, 217, 0.14)\"}, \"size\": 12}, \"y\": [0.49836422098051025, -1.002823503496731, 0.26524536942337945, 1.507735124034447, 1.395959683016921, 1.1176338468862543, 0.18601613585969018, 0.5279312878009745, -0.6947699256879357, -0.14986694627310548, 0.3406774638231649, 0.6079737790901518, 1.397916395811572, 0.6265389521682438, 1.7207469895535583, 1.9143733127506068], \"mode\": \"markers\"}, {\"x\": [4.102922117777562, 2.731803765600881, 3.4102255035217084, 4.744519018807717, 3.564232455394353, 5.367163936050195, 3.372173185512074, 3.3229884417791657, 3.9408143901713384, 2.564850383540802, 1.5291321942865712, 4.415833874302809, 1.892900302209115, 2.6298029516878385, 3.7385967984516686, 2.094565704424718], \"name\": \"quercus_palustris\", \"type\": \"scatter\", \"marker\": {\"opacity\": 0.7, \"line\": {\"width\": 0.5, \"color\": \"rgba(217, 217, 217, 0.14)\"}, \"size\": 12}, \"y\": [-3.987436797066, -4.502001477401962, -3.802001514617774, -4.272703021812884, -5.179115206767153, -4.853885672490231, -3.85180799884084, -4.021392733720929, -4.777722197860919, -5.644545194015086, -4.801609281293959, -3.913246010645708, -4.558088258056235, -4.195628764428398, -3.9508125152636646, -5.205511683932512], \"mode\": \"markers\"}, {\"x\": [-0.9403462692007972, -1.048034207525407, -0.8136301691030124, -1.1127173253187137, -0.813191076496683, -0.9400940357794643, -0.7795587619782445, -1.2050670306883253, -1.137690524734569, -0.9218805258666182, -1.0792396280528829, -0.9588949165045229, -1.0660494695831906, -0.9822821316775118, -0.8861429387904982, -1.0344937313549156], \"name\": \"quercus_pontica\", \"type\": \"scatter\", \"marker\": {\"opacity\": 0.7, \"line\": {\"width\": 0.5, \"color\": \"rgba(217, 217, 217, 0.14)\"}, \"size\": 12}, \"y\": [0.3828811004262067, 0.5671753918154837, 0.12032556564723215, 0.7450926840943404, 0.11342299472289909, 0.3937370814590741, 0.01478463952335117, 0.9202839427975896, 0.844986499650087, 0.2821853521060181, 0.6839939473366353, 0.3214618605510908, 0.6130461487876661, 0.4103528035859916, 0.26501989031707496, 0.5606436825682146], \"mode\": \"markers\"}, {\"x\": [2.930528750026182, 4.135990563491734, 2.17736967099223, 1.6638726222896902, 1.1962247945779063, 3.8227590540786265, 3.1255803454911617, 3.601883590633826, 5.244461774335591, 4.009280857977535, 2.5275034360431845, 2.753066667899631, 2.6590401476922683, 1.6522864497790952, 3.6516693000890377, 4.016358561039794], \"name\": \"quercus_texana\", \"type\": \"scatter\", \"marker\": {\"opacity\": 0.7, \"line\": {\"width\": 0.5, \"color\": \"rgba(217, 217, 217, 0.14)\"}, \"size\": 12}, \"y\": [-2.5909531292690358, -2.1399602087711123, -2.7834926321220137, -2.4922717217722057, -2.1310760630291945, -1.9538457024621567, -2.1909009973853277, -2.093186096761326, -2.4365239989078207, -1.639770840443322, -2.537212662739209, -2.2909616670564854, -1.9674470042785503, -2.5707679307530715, -2.6116658126860894, -1.9390708561167602], \"mode\": \"markers\"}, {\"x\": [-0.7253527353145203, -0.8330657818033576, -0.8263607076389721, -0.6866184501136154, -1.005198105243752, -1.012277491500198, -0.8767139833805508, -0.8156098320545916, -1.063169852753205, -0.9567383312213875, -1.0137961435679772, -0.8164167265165931, -1.1546227270030034, -0.9315849959851833, -0.7980468001818607, -0.8358537169121122], \"name\": \"quercus_x_turneri\", \"type\": \"scatter\", \"marker\": {\"opacity\": 0.7, \"line\": {\"width\": 0.5, \"color\": \"rgba(217, 217, 217, 0.14)\"}, \"size\": 12}, \"y\": [-0.05957909978651266, 0.12801491670146212, 0.07342502042773445, -0.13828131559562282, 0.5693489800156769, 0.552054531735716, 0.3024881462347304, 0.16667547297562674, 0.6156334394894402, 0.382429777462177, 0.5705997684494584, 0.15478120560233827, 0.790026021576577, 0.3194715234744626, 0.03706016666405515, 0.18903115528352682], \"mode\": \"markers\"}, {\"x\": [-2.572631938844647, -2.3896746480159305, -3.138159512382058, -2.5541085933192877, -3.095744338973102, -2.8273558628726088, -2.216981470339976, -2.9628082314819535, -2.4264714911904726, -2.3339472001146975, -2.5293604161803227, -2.4015900494533353, -2.6081150489705642, -2.456263555044083, -2.416807318405147, -2.740819729709081], \"name\": \"salix_intergra\", \"type\": \"scatter\", \"marker\": {\"opacity\": 0.7, \"line\": {\"width\": 0.5, \"color\": \"rgba(217, 217, 217, 0.14)\"}, \"size\": 12}, \"y\": [1.0558018355449894, 0.7356444158806594, 0.29786460492771755, 0.5428736568265794, 0.3003428624296683, 0.3258387974033782, 1.087964146620909, 0.9642512756627071, 0.5347039254153594, 0.5437677095339262, 0.8893374753885273, 0.803848257954523, 0.5458730259606221, 0.3685822946849611, 1.1673274877906408, 0.7583607272871769], \"mode\": \"markers\"}], {\"yaxis\": {\"ticklen\": 5, \"gridwidth\": 2, \"title\": \"Principal Component 2\"}, \"showlegend\": false, \"xaxis\": {\"ticklen\": 5, \"zeroline\": false, \"gridwidth\": 2, \"title\": \"Principal Component 1\"}, \"title\": \"Leaf Species\", \"hovermode\": \"closest\"}, {\"linkText\": \"Export to plot.ly\", \"showLink\": true})});</script>"
      ]
     },
     "metadata": {},
     "output_type": "display_data"
    }
   ],
   "source": [
    "traces = []\n",
    "\n",
    "for name in numpy.unique(y):\n",
    "    trace = go.Scatter(\n",
    "        x=Y[y==name,0],\n",
    "        y=Y[y==name,1],\n",
    "        mode=\"markers\",\n",
    "        name=name,\n",
    "        marker=go.Marker(\n",
    "            size=12,\n",
    "            line=go.Line(\n",
    "                color=\"rgba(217, 217, 217, 0.14)\",\n",
    "                width=0.5),\n",
    "            opacity=0.7))\n",
    "    traces.append(trace)\n",
    "\n",
    "\n",
    "data = go.Data(traces)\n",
    "\n",
    "layout = go.Layout(\n",
    "    title= \"Leaf Species\",\n",
    "    hovermode= \"closest\",\n",
    "    xaxis= dict(\n",
    "        title= \"Principal Component 1\",\n",
    "        ticklen= 5,\n",
    "        zeroline= False,\n",
    "        gridwidth= 2,\n",
    "    ),\n",
    "    yaxis=dict(\n",
    "        title= \"Principal Component 2\",\n",
    "        ticklen= 5,\n",
    "        gridwidth= 2,\n",
    "    ),\n",
    "    showlegend= False\n",
    ")\n",
    "\n",
    "fig = go.Figure(data=data, layout=layout)\n",
    "po.iplot(fig)"
   ]
  },
  {
   "cell_type": "markdown",
   "metadata": {},
   "source": [
    "### 5.4 Scatter plot visualization (3 PCs)"
   ]
  },
  {
   "cell_type": "markdown",
   "metadata": {},
   "source": [
    "From the previous plot we can see that with just 2 principal components it can be very diffucult to classify some leaf species. \n",
    "\n",
    "Let's try to visualize the first 3 principal components and see what we can get:"
   ]
  },
  {
   "cell_type": "code",
   "execution_count": 20,
   "metadata": {},
   "outputs": [
    {
     "data": {
      "application/vnd.plotly.v1+json": {
       "data": [
        {
         "marker": {
          "line": {
           "color": "rgba(217, 217, 217, 0.14)",
           "width": 0.5
          },
          "opacity": 0.8,
          "size": 12
         },
         "mode": "markers",
         "name": "acer_circinatum",
         "type": "scatter3d",
         "x": [
          0.39378542152643836,
          -1.0936869722422615,
          -0.3793737117348804,
          0.06411268854426606,
          0.02467850742658087,
          0.38739125343562336,
          -0.22947562329420249,
          -0.30519495879122815,
          0.0423190512912074,
          -0.28761988027242835,
          0.09840841463680447,
          -0.14368842065403956,
          0.49373538902706476,
          -0.114773714110035,
          0.2377800960851232,
          1.6878964071492404
         ],
         "y": [
          -1.4268188302330291,
          -2.382318220436148,
          -1.9415177605170364,
          -1.6435024244054812,
          -2.0373895713835806,
          -1.146982132512669,
          -2.372778119851146,
          -2.011088661274845,
          -1.546408793157136,
          -1.8972888691864749,
          -1.9703723059346685,
          -2.0930376069766377,
          -1.8888209606137387,
          -1.7446657062913968,
          -2.0069096967807605,
          -1.1585421020849158
         ],
         "z": [
          0.03609228690273826,
          -0.017588020701748107,
          0.008695205423397913,
          -0.0760008356336239,
          0.026877958455923945,
          -0.029734912924708094,
          0.059819439090597754,
          0.01155962850128459,
          -0.0755867352361422,
          -0.10525519257223315,
          0.14257179046244256,
          -0.028800161332964598,
          0.10728383625543278,
          -0.07084300595901803,
          -0.13201746230522643,
          0.057993897743150793
         ]
        },
        {
         "marker": {
          "line": {
           "color": "rgba(217, 217, 217, 0.14)",
           "width": 0.5
          },
          "opacity": 0.8,
          "size": 12
         },
         "mode": "markers",
         "name": "acer_mono",
         "type": "scatter3d",
         "x": [
          -1.7313136833684275,
          -2.3308379041680833,
          -2.176330171015738,
          -1.9176118740349772,
          -1.9108783357432135,
          -1.582405653276816,
          -1.3503249937660993,
          -1.9976048470328243,
          -1.751714545765294,
          -2.46628442211909,
          -2.060543054260142,
          -1.6095194463404905,
          -1.4891730840109296,
          -1.8150065672620324,
          -2.2331896271178064,
          -1.4397087094644998
         ],
         "y": [
          -1.5024975049218678,
          -2.2410363529236017,
          -0.46382973214837,
          -2.205483231700004,
          -1.6518414872786595,
          -2.071191361096325,
          -1.5883142394795366,
          -1.7972735572734218,
          -1.78362635820266,
          -1.3611683219498627,
          -1.5306202210488309,
          -2.5507979609881906,
          -2.6112471362176044,
          -1.9392007006248904,
          -1.5846487080813696,
          -1.5127927194615483
         ],
         "z": [
          -0.7059455260795413,
          -0.5790671500577955,
          -0.7386976486960742,
          -0.580266144662036,
          -0.5891954692634143,
          -0.742937315360632,
          -0.6882625551772676,
          -0.5825201779456061,
          -0.7739624687105121,
          -0.6259646138649783,
          -0.6311193384043462,
          -0.558374080089206,
          -0.5652720867977001,
          -0.7453564725190571,
          -0.6727220207499635,
          -0.636918586587431
         ]
        },
        {
         "marker": {
          "line": {
           "color": "rgba(217, 217, 217, 0.14)",
           "width": 0.5
          },
          "opacity": 0.8,
          "size": 12
         },
         "mode": "markers",
         "name": "arundinaria_simonii",
         "type": "scatter3d",
         "x": [
          -0.7958168093317871,
          -1.2416729681755696,
          -1.3477914671426496,
          -1.218026461321661,
          -1.2176270490063117,
          -1.1768187695830585,
          -1.045095732755646,
          -1.3786186734163801,
          -1.343348512553084,
          -1.2860038352497047,
          -1.2730364219788968,
          -1.2975743120784204,
          -1.235008225750493,
          -1.24814782461521,
          -0.9163960218776006,
          -1.0827877747635135
         ],
         "y": [
          -0.5167347519989801,
          0.6335879573114003,
          0.510969386296401,
          0.5241541033938173,
          0.49709102355381113,
          0.43615993369892087,
          0.12257880801758263,
          0.5332939419510815,
          0.5825809713048252,
          0.6821796454517794,
          0.46681843630755465,
          0.5948081184846555,
          0.5872065016929319,
          0.506548903619842,
          -0.1492289524551115,
          0.29338166392922527
         ],
         "z": [
          4.935814844107944,
          2.564017615578085,
          5.745488520469455,
          3.318395890230877,
          3.5871515352353858,
          3.2865033537670585,
          3.753066206213928,
          6.047390867712881,
          5.172310154087182,
          3.1701014851878457,
          4.809835100052253,
          4.003370423680915,
          2.8691338602550203,
          4.003532084132386,
          3.887068373385104,
          3.1643135361024792
         ]
        },
        {
         "marker": {
          "line": {
           "color": "rgba(217, 217, 217, 0.14)",
           "width": 0.5
          },
          "opacity": 0.8,
          "size": 12
         },
         "mode": "markers",
         "name": "betula_pendula",
         "type": "scatter3d",
         "x": [
          -3.2131881349190436,
          -3.097201348994514,
          -2.8464235379603515,
          -3.0831686870984756,
          -3.0975213361466976,
          -2.9885934755283037,
          -2.8354258385058797,
          -3.3364315983752775,
          -2.7994862673680005,
          -3.102856769939532,
          -3.088361595925603,
          -3.3502352912713613,
          -3.094101636545998,
          -3.017164397449736,
          -2.945542037153368,
          -2.9444227108606293
         ],
         "y": [
          -2.4428356281289116,
          -1.6738181633365823,
          -1.6711874784612764,
          -2.197818805571586,
          -1.9994423092854483,
          -2.3332365046957904,
          -1.5987316616697498,
          -2.296330406521066,
          -1.888415308871158,
          -1.4135985803964903,
          -1.9490292227628223,
          -2.334460028850132,
          -2.5825129086974323,
          -1.4591345444741355,
          -1.3937109260451426,
          -2.658418783004512
         ],
         "z": [
          -0.5673805577218304,
          -0.7641411326587454,
          -0.7460789154140458,
          -0.6893156988100154,
          -0.7121790149634494,
          -0.669298840801833,
          -0.7347050980490201,
          -0.5638062560072711,
          -0.8104292813936751,
          -0.7881250866969869,
          -0.6878814076692812,
          -0.5668745567270442,
          -0.5950977569905891,
          -0.6947065945910361,
          -0.7605582094240718,
          -0.661177509574414
         ]
        },
        {
         "marker": {
          "line": {
           "color": "rgba(217, 217, 217, 0.14)",
           "width": 0.5
          },
          "opacity": 0.8,
          "size": 12
         },
         "mode": "markers",
         "name": "castanea_sativa",
         "type": "scatter3d",
         "x": [
          2.0606788812847467,
          3.273445503528303,
          4.448451012742199,
          4.398468310749209,
          3.072682179537491,
          3.6363932014737728,
          2.5428252388810355,
          1.0846066921250457,
          3.1150376133755073,
          3.9158194900496124,
          1.4017488345861122,
          4.5835298294660705,
          0.9624656926491945,
          4.9359745077799815,
          2.7770949343561044,
          2.6446815886959976
         ],
         "y": [
          0.8301847202877837,
          1.302325214071752,
          2.0573917884002695,
          1.4351957782193332,
          1.1258091626438496,
          1.3495497412939288,
          1.6400266228333171,
          0.019838187862289886,
          0.9637002306235133,
          0.9286897449827411,
          0.7113493452436841,
          1.415146845264497,
          0.564602471512656,
          1.7208358924571119,
          0.5778490068887948,
          0.6206075374337101
         ],
         "z": [
          0.4114591100701752,
          0.5969732610840631,
          0.5796490189494317,
          0.8500160471562459,
          0.9076755916841842,
          0.8105720353147003,
          0.274261975784497,
          0.44696504825911293,
          0.872782806144917,
          1.165428119227659,
          0.42945543766090427,
          0.9648398750028832,
          0.1964569895809823,
          0.8203889025298565,
          0.6862782229464087,
          1.0415384847326488
         ]
        },
        {
         "marker": {
          "line": {
           "color": "rgba(217, 217, 217, 0.14)",
           "width": 0.5
          },
          "opacity": 0.8,
          "size": 12
         },
         "mode": "markers",
         "name": "cornus_chinensis",
         "type": "scatter3d",
         "x": [
          1.3848835379582067,
          0.5386567521883348,
          1.0388440452708056,
          1.5103476315512323,
          1.4973832061814303,
          1.6490185647416427,
          1.903233512325577,
          0.5468896975316959,
          1.9034880299788597,
          1.0597095967790369,
          1.0180912320415891,
          1.3279386148652175,
          0.4388671722657697,
          -1.445657203716258,
          0.2951858350825798,
          1.8528951297472203
         ],
         "y": [
          2.0629787229962497,
          1.543588826080897,
          1.5565154229102975,
          1.864916292204958,
          1.7873889829093128,
          2.1110115447239686,
          2.453119358682252,
          1.5030826258881733,
          1.7006699851741551,
          1.5460419257207765,
          2.1544177950211294,
          1.9390092774865346,
          1.1442603712814758,
          0.40133154909898006,
          1.2536359197552045,
          1.8446613871021744
         ],
         "z": [
          -0.44248591595148545,
          -0.31514145765001095,
          -0.26369636843811933,
          -0.25746395867285465,
          -0.39496091548832657,
          -0.338655047972324,
          -0.6100536860596977,
          -0.3820643894513806,
          -0.23570110963489338,
          -0.27982761698410175,
          -0.5769552334553076,
          -0.41947748698762655,
          -0.15421968851381107,
          -0.31568835647689636,
          -0.29001288135140474,
          -0.16654710464251274
         ]
        },
        {
         "marker": {
          "line": {
           "color": "rgba(217, 217, 217, 0.14)",
           "width": 0.5
          },
          "opacity": 0.8,
          "size": 12
         },
         "mode": "markers",
         "name": "ilex_aquifolium",
         "type": "scatter3d",
         "x": [
          -1.8402707125410007,
          -0.684030662663641,
          -1.773313964055827,
          -1.1881939381667093,
          0.07892138764299274,
          -0.06702143874503183,
          -1.622585544971655,
          -1.0293150774121647,
          0.13286613365310757,
          -0.9166047673278356,
          -1.2936229224326177,
          -0.12363287013349507,
          -0.6042141651678427,
          -1.4386253517069112,
          -0.5992530325109205,
          -0.9461823809787213
         ],
         "y": [
          0.3703235035104464,
          1.050970685860914,
          0.8603919765690832,
          0.7045337566349752,
          1.2946693188131992,
          1.1813437899806274,
          0.4330016385229495,
          1.0534020153092678,
          1.1610726559379965,
          0.6511794196005399,
          0.820790207466221,
          1.0061100136892196,
          1.059653998915075,
          0.631211153188108,
          0.6613151130139057,
          0.869095547973522
         ],
         "z": [
          -0.7253957178087622,
          -0.4639828066742614,
          -0.6445274835397129,
          -0.5997501305477839,
          -0.45100792411297597,
          -0.5151809644135595,
          -0.4888722460926776,
          -0.5473971221244829,
          -0.5251464080700944,
          -0.49522555049703004,
          -0.5132509448297619,
          -0.636340331506317,
          -0.5683585994115046,
          -0.5417013947912869,
          -0.4879333108342473,
          -0.5040347231413915
         ]
        },
        {
         "marker": {
          "line": {
           "color": "rgba(217, 217, 217, 0.14)",
           "width": 0.5
          },
          "opacity": 0.8,
          "size": 12
         },
         "mode": "markers",
         "name": "liriodendron_tulipifera",
         "type": "scatter3d",
         "x": [
          6.394433983423748,
          5.601028978825276,
          2.1898976484142336,
          4.197272606690051,
          2.6355441816907392,
          2.403954186239299,
          5.490794212278024,
          4.673031115921364,
          5.702265306347128,
          3.8167430015236343,
          7.294440467144483,
          5.845162229600436,
          5.351458457071672,
          2.6889064115769648,
          2.1065526993310044,
          2.4707008364332506
         ],
         "y": [
          2.717533244996262,
          2.7948949531726472,
          1.5338602876767866,
          2.775820108303426,
          1.8319548531545737,
          1.7336694442497553,
          2.28149929176823,
          3.2384253706271577,
          2.5963109503472572,
          1.9859244438708565,
          3.463604653298739,
          2.5731309864627767,
          3.318386956620449,
          1.5086434432974778,
          1.1939056259709928,
          1.774675624129189
         ],
         "z": [
          -0.7103920198492577,
          -0.8123552338960698,
          -0.8264938845716248,
          -0.7946356792344582,
          -0.8841775566559462,
          -0.9227864486733005,
          -0.7737056553801642,
          -0.82955779201783,
          -0.7931763114970208,
          -0.7275617822510215,
          -0.6380135278233214,
          -0.7522193345011623,
          -0.8560906929978604,
          -0.8612650775025125,
          -0.9542333318160765,
          -0.7842265073442454
         ]
        },
        {
         "marker": {
          "line": {
           "color": "rgba(217, 217, 217, 0.14)",
           "width": 0.5
          },
          "opacity": 0.8,
          "size": 12
         },
         "mode": "markers",
         "name": "lithocarpus_edulis",
         "type": "scatter3d",
         "x": [
          -1.2465265404185732,
          -1.1835946004335813,
          -1.0611223298677241,
          -1.05245215037021,
          -1.1648032922936056,
          -1.2505798905452232,
          -1.0333742283607719,
          -1.1253740775000887,
          -1.1065236381887416,
          -1.0959250749784308,
          -1.2111413367732078,
          -1.093335205163427,
          -1.0919509298553207,
          -1.13971031304298,
          -1.2162711128038168,
          -1.103398362237383
         ],
         "y": [
          1.0743528896836112,
          0.9617159247960954,
          0.6916807197210131,
          0.6603952801989704,
          0.8842793123955177,
          1.0425653639299548,
          0.5899782253011736,
          0.8052140705980972,
          0.796740600453412,
          0.7669764181821452,
          0.9830395788642547,
          0.7652227067724211,
          0.769328896568417,
          0.836443542557226,
          1.0007123982888384,
          0.7478806641103846
         ],
         "z": [
          -0.3206990223308974,
          -0.47411925095436896,
          -0.18199033933967707,
          -0.06074469378815952,
          -0.20101181821412778,
          -0.11339568449081053,
          0.09851686418774935,
          -0.19832908524337656,
          -0.29707324068382207,
          -0.3007845976596147,
          -0.3058140542219634,
          -0.2627275330361052,
          -0.22622205026944053,
          -0.1960516839029664,
          -0.3045800013213175,
          -0.07514944226952558
         ]
        },
        {
         "marker": {
          "line": {
           "color": "rgba(217, 217, 217, 0.14)",
           "width": 0.5
          },
          "opacity": 0.8,
          "size": 12
         },
         "mode": "markers",
         "name": "populus_nigra",
         "type": "scatter3d",
         "x": [
          -1.4325411843328606,
          -0.7871800276684375,
          -1.5215688101101046,
          -0.7380805151068456,
          -0.9142499505402065,
          -0.38792377783591464,
          -0.6461598458999123,
          -0.8369776330998522,
          -1.0467281069158298,
          -0.8665150981520555,
          -1.2600773932871834,
          -1.1776588558346437,
          -0.6647690480569509,
          -1.4837536717645077,
          -1.5301716560897187,
          -0.25027225854632074
         ],
         "y": [
          -0.2075837005222586,
          0.44512405997685667,
          0.06720531290030557,
          0.3720846963225803,
          0.5878750324319703,
          0.44785870400119737,
          0.6366274539824684,
          0.6232872223880339,
          0.19036945818895545,
          0.19825913513124305,
          0.1462547742115935,
          0.14981097327124956,
          0.40286859382306817,
          -0.03188704636277784,
          -0.1692086672486145,
          0.6404579740953065
         ],
         "z": [
          -1.077728040130213,
          -1.0763607267712116,
          -1.0949787186594728,
          -1.0646619487470501,
          -1.1272405481063956,
          -1.0660948076269527,
          -1.083638068699651,
          -1.0911866492241895,
          -1.0950075589356087,
          -1.047405879379108,
          -1.1015846435656198,
          -1.0712662879430384,
          -1.087967247000607,
          -1.0387585382729996,
          -1.1275486294793602,
          -1.0815613009983727
         ]
        },
        {
         "marker": {
          "line": {
           "color": "rgba(217, 217, 217, 0.14)",
           "width": 0.5
          },
          "opacity": 0.8,
          "size": 12
         },
         "mode": "markers",
         "name": "prunus_x_shmittii",
         "type": "scatter3d",
         "x": [
          2.3632232627395062,
          0.07075243501837769,
          -1.4416669008860716,
          1.8906271169587165,
          -1.6939849108764378,
          -1.0269241667128948,
          -0.7640154776182361,
          1.264939207131274,
          0.27555984689953006,
          1.5567977241985254,
          0.2474390481886396,
          1.7738244141474067,
          0.8509645558720245,
          0.13016287305157995,
          0.7264075251621682,
          0.967523837475188
         ],
         "y": [
          0.9598020992268853,
          0.5045807217391372,
          -0.22790552678779702,
          1.3020135217931395,
          0.2005224150986572,
          0.29290874324366234,
          -0.017581376287128025,
          0.7522327663532469,
          0.6665474108748,
          1.1799156555961778,
          0.6345108945782132,
          1.2263585443002762,
          0.7538511025087127,
          0.7325328227243182,
          0.7192133605516242,
          0.7976264418692625
         ],
         "z": [
          -0.05275956854718066,
          -0.0727923683137534,
          0.002336698387965779,
          -0.15315629900378025,
          -0.3388197715583967,
          -0.27563428199605083,
          -0.22621648931271418,
          -0.06606557818755768,
          -0.250230633852098,
          -0.14114715338920938,
          -0.3476196871025989,
          -0.03241876726410571,
          -0.12188494845801039,
          -0.31134060528557195,
          -0.12609784574368457,
          -0.1909115056440529
         ]
        },
        {
         "marker": {
          "line": {
           "color": "rgba(217, 217, 217, 0.14)",
           "width": 0.5
          },
          "opacity": 0.8,
          "size": 12
         },
         "mode": "markers",
         "name": "quercus_canariensis",
         "type": "scatter3d",
         "x": [
          0.03102536782338612,
          -0.8913313734370061,
          -0.765460947066848,
          -1.27440486618248,
          -0.8485376822534748,
          -0.21425743782949702,
          -1.574764383864517,
          -0.9855772583533526,
          -1.478824827451721,
          -0.4939173406759961,
          -0.617235994120965,
          -0.7568365321563454,
          -0.2520834936741114,
          0.5810949213310304,
          -0.6001037698209261,
          -1.8475304017656256
         ],
         "y": [
          1.025763511180228,
          0.33024647057906237,
          0.8017133922309959,
          0.21645229634914698,
          1.126869635231779,
          1.2351536324166374,
          0.3415359207002673,
          0.4568525208816186,
          0.6154266684955173,
          0.5222011408544253,
          0.7396998572922704,
          0.5898280931769687,
          0.8420297666391747,
          1.469455894075268,
          0.6754583704274012,
          0.0837338951573337
         ],
         "z": [
          -0.353752679716563,
          -1.0421380079893734,
          -1.147717340841985,
          0.04160701707325003,
          0.4950399776161175,
          -0.2238025520125863,
          0.16822946108868467,
          -0.10307745973587966,
          0.11977706057684165,
          0.0742775927889063,
          0.1921489690933289,
          -0.10595909483203286,
          -0.04456491197522264,
          -0.3285987100886774,
          0.019443401056412155,
          0.04510932748152513
         ]
        },
        {
         "marker": {
          "line": {
           "color": "rgba(217, 217, 217, 0.14)",
           "width": 0.5
          },
          "opacity": 0.8,
          "size": 12
         },
         "mode": "markers",
         "name": "quercus_chrysolepis",
         "type": "scatter3d",
         "x": [
          -1.2496410199933041,
          -1.2852245692779178,
          -1.305773521236207,
          -1.3863967543985514,
          -1.3854203765551625,
          -1.2817770268317605,
          -1.2703058420486018,
          -1.1603635834450299,
          -1.2239908696171167,
          -1.239944638142339,
          -1.3195236868002367,
          -1.2092321220350328,
          -1.3534635236337804,
          -1.3343828845481112,
          -1.295269156763515,
          -1.3201510411837465
         ],
         "y": [
          0.9915001500253615,
          1.0887305521763457,
          1.1256529285607226,
          1.299879962626606,
          1.3366073796141997,
          1.0885479796844464,
          1.0727568859590626,
          0.8171059594400971,
          0.9424966186652975,
          1.0454664580406972,
          1.1681771782286134,
          0.9555687408309741,
          1.2341932273067187,
          1.1699333043468172,
          1.127859733423222,
          1.1487115369478682
         ],
         "z": [
          0.20338351144799457,
          -0.0017626484499359526,
          -0.07172079940689084,
          -0.10640468037377372,
          -0.3017555739540487,
          -0.13056542709481836,
          -0.059781693263870984,
          0.17476556587837885,
          0.22916372980057842,
          -0.1975478603574077,
          -0.06480442451744806,
          -0.1357609064891135,
          -0.08859309622950737,
          0.09697655144351851,
          -0.05828577833098578,
          0.10186979531414367
         ]
        },
        {
         "marker": {
          "line": {
           "color": "rgba(217, 217, 217, 0.14)",
           "width": 0.5
          },
          "opacity": 0.8,
          "size": 12
         },
         "mode": "markers",
         "name": "quercus_infectoria_sub",
         "type": "scatter3d",
         "x": [
          -2.261103117542395,
          -2.162029814309365,
          -2.0979688593428114,
          -1.2173420482793298,
          -2.6111878755842888,
          -2.0264725557622025,
          -2.081278976429598,
          -1.6991005391777585,
          -1.3904525827652123,
          -2.0541898541266446,
          -1.180209782784927,
          -2.0491492243128624,
          -1.657091929139946,
          -1.6335605810594305,
          -1.116594153179693,
          -0.3100202987611528
         ],
         "y": [
          -0.208157546175255,
          0.2593918431390535,
          0.04643413811582403,
          0.39255357321339013,
          -0.08583842009888587,
          0.1488458520599152,
          0.5826385958102862,
          0.33304006034937433,
          0.43006439018515874,
          0.29783739306802626,
          0.633621162896919,
          0.09393538412697713,
          0.5764603874427376,
          0.47826046798304633,
          0.8681240137201295,
          0.9163861630769309
         ],
         "z": [
          -0.03950118979280054,
          0.004475584384511559,
          -0.173141532405846,
          -0.24849871404327045,
          -0.14427051116863737,
          -0.0954398566211838,
          -0.3158523788201467,
          -0.4127233571150001,
          -0.35888969950301297,
          -0.2032566795488069,
          -0.19865960724132353,
          -0.15876444157027028,
          -0.41310765766345575,
          -0.42890774799899894,
          -0.07757379948122774,
          -0.12419257577987046
         ]
        },
        {
         "marker": {
          "line": {
           "color": "rgba(217, 217, 217, 0.14)",
           "width": 0.5
          },
          "opacity": 0.8,
          "size": 12
         },
         "mode": "markers",
         "name": "quercus_nigra",
         "type": "scatter3d",
         "x": [
          2.5523158835622586,
          3.067444456803231,
          1.005515615400128,
          2.5043664102789225,
          3.4301460696591812,
          3.394362568061676,
          1.2953240848455851,
          2.3630075446329872,
          0.056172052798923386,
          0.8616791728638741,
          1.8772288966116835,
          2.1155962682728706,
          1.072239055041809,
          1.3409171114191785,
          3.1013453233388204,
          2.40921837278752
         ],
         "y": [
          0.49836422098051025,
          -1.002823503496731,
          0.26524536942337945,
          1.507735124034447,
          1.395959683016921,
          1.1176338468862543,
          0.18601613585969018,
          0.5279312878009745,
          -0.6947699256879357,
          -0.14986694627310548,
          0.3406774638231649,
          0.6079737790901518,
          1.397916395811572,
          0.6265389521682438,
          1.7207469895535583,
          1.9143733127506068
         ],
         "z": [
          0.24187446615737151,
          0.47336856191595145,
          -0.14611118266375317,
          0.23807409630065765,
          -0.09309620381505183,
          0.014881234826791025,
          0.26466458691756695,
          -0.28163259941764257,
          0.06638432900655267,
          -0.27292637662895064,
          0.24372519711121993,
          0.29712711214208465,
          -0.10772361443215117,
          0.16474811332592368,
          0.0024497181407904106,
          -0.025666879032763046
         ]
        },
        {
         "marker": {
          "line": {
           "color": "rgba(217, 217, 217, 0.14)",
           "width": 0.5
          },
          "opacity": 0.8,
          "size": 12
         },
         "mode": "markers",
         "name": "quercus_palustris",
         "type": "scatter3d",
         "x": [
          4.102922117777562,
          2.731803765600881,
          3.4102255035217084,
          4.744519018807717,
          3.564232455394353,
          5.367163936050195,
          3.372173185512074,
          3.3229884417791657,
          3.9408143901713384,
          2.564850383540802,
          1.5291321942865712,
          4.415833874302809,
          1.892900302209115,
          2.6298029516878385,
          3.7385967984516686,
          2.094565704424718
         ],
         "y": [
          -3.987436797066,
          -4.502001477401962,
          -3.802001514617774,
          -4.272703021812884,
          -5.179115206767153,
          -4.853885672490231,
          -3.85180799884084,
          -4.021392733720929,
          -4.777722197860919,
          -5.644545194015086,
          -4.801609281293959,
          -3.913246010645708,
          -4.558088258056235,
          -4.195628764428398,
          -3.9508125152636646,
          -5.205511683932512
         ],
         "z": [
          0.21260245603787298,
          0.21002089034480262,
          0.38700585705742513,
          0.3355922208813872,
          0.3335469250248325,
          0.845667891634162,
          0.11223406001805122,
          0.23483450066687742,
          0.36551673318724914,
          0.6598907417815106,
          -0.02506666561801303,
          0.28228948573414137,
          -0.22229187674026654,
          0.11191696570201051,
          0.02443449850428087,
          0.3585723454244233
         ]
        },
        {
         "marker": {
          "line": {
           "color": "rgba(217, 217, 217, 0.14)",
           "width": 0.5
          },
          "opacity": 0.8,
          "size": 12
         },
         "mode": "markers",
         "name": "quercus_pontica",
         "type": "scatter3d",
         "x": [
          -0.9403462692007972,
          -1.048034207525407,
          -0.8136301691030124,
          -1.1127173253187137,
          -0.813191076496683,
          -0.9400940357794643,
          -0.7795587619782445,
          -1.2050670306883253,
          -1.137690524734569,
          -0.9218805258666182,
          -1.0792396280528829,
          -0.9588949165045229,
          -1.0660494695831906,
          -0.9822821316775118,
          -0.8861429387904982,
          -1.0344937313549156
         ],
         "y": [
          0.3828811004262067,
          0.5671753918154837,
          0.12032556564723215,
          0.7450926840943404,
          0.11342299472289909,
          0.3937370814590741,
          0.01478463952335117,
          0.9202839427975896,
          0.844986499650087,
          0.2821853521060181,
          0.6839939473366353,
          0.3214618605510908,
          0.6130461487876661,
          0.4103528035859916,
          0.26501989031707496,
          0.5606436825682146
         ],
         "z": [
          -0.34621570156614156,
          -0.24183222626080217,
          -0.2523307348430964,
          -0.39327608052442153,
          -0.2925626726393236,
          -0.42909238735544486,
          -0.1536457574139292,
          -0.44219826783378957,
          -0.4026455499575858,
          -0.31105103423931885,
          -0.3782965377167867,
          -0.13982546911290028,
          -0.29936286238122406,
          -0.08507878018200306,
          -0.38955385078176996,
          -0.10254508940551624
         ]
        },
        {
         "marker": {
          "line": {
           "color": "rgba(217, 217, 217, 0.14)",
           "width": 0.5
          },
          "opacity": 0.8,
          "size": 12
         },
         "mode": "markers",
         "name": "quercus_texana",
         "type": "scatter3d",
         "x": [
          2.930528750026182,
          4.135990563491734,
          2.17736967099223,
          1.6638726222896902,
          1.1962247945779063,
          3.8227590540786265,
          3.1255803454911617,
          3.601883590633826,
          5.244461774335591,
          4.009280857977535,
          2.5275034360431845,
          2.753066667899631,
          2.6590401476922683,
          1.6522864497790952,
          3.6516693000890377,
          4.016358561039794
         ],
         "y": [
          -2.5909531292690358,
          -2.1399602087711123,
          -2.7834926321220137,
          -2.4922717217722057,
          -2.1310760630291945,
          -1.9538457024621567,
          -2.1909009973853277,
          -2.093186096761326,
          -2.4365239989078207,
          -1.639770840443322,
          -2.537212662739209,
          -2.2909616670564854,
          -1.9674470042785503,
          -2.5707679307530715,
          -2.6116658126860894,
          -1.9390708561167602
         ],
         "z": [
          -0.13785296462590996,
          0.05655775218801008,
          -0.22338264992100146,
          -0.04249507167627057,
          -0.2438549783166573,
          -0.04448571275145571,
          -0.12217708277130922,
          -0.14442948198080902,
          0.04716739870702254,
          -0.05107862533735097,
          -0.09885337291469246,
          -0.09138935050983912,
          -0.09727071017474287,
          -0.21516390801602883,
          -0.0855185825575866,
          -0.04241674561205708
         ]
        },
        {
         "marker": {
          "line": {
           "color": "rgba(217, 217, 217, 0.14)",
           "width": 0.5
          },
          "opacity": 0.8,
          "size": 12
         },
         "mode": "markers",
         "name": "quercus_x_turneri",
         "type": "scatter3d",
         "x": [
          -0.7253527353145203,
          -0.8330657818033576,
          -0.8263607076389721,
          -0.6866184501136154,
          -1.005198105243752,
          -1.012277491500198,
          -0.8767139833805508,
          -0.8156098320545916,
          -1.063169852753205,
          -0.9567383312213875,
          -1.0137961435679772,
          -0.8164167265165931,
          -1.1546227270030034,
          -0.9315849959851833,
          -0.7980468001818607,
          -0.8358537169121122
         ],
         "y": [
          -0.05957909978651266,
          0.12801491670146212,
          0.07342502042773445,
          -0.13828131559562282,
          0.5693489800156769,
          0.552054531735716,
          0.3024881462347304,
          0.16667547297562674,
          0.6156334394894402,
          0.382429777462177,
          0.5705997684494584,
          0.15478120560233827,
          0.790026021576577,
          0.3194715234744626,
          0.03706016666405515,
          0.18903115528352682
         ],
         "z": [
          0.006341490665024875,
          0.17113304269610224,
          0.21482109300917931,
          -0.003186533522047886,
          -0.26291799738134836,
          0.05258504652232988,
          -0.03714059905234127,
          -0.22669662003353958,
          0.05851385931487659,
          0.03871089820629603,
          -0.21951405139637287,
          0.21518784970873148,
          0.06349318671967533,
          0.06800498904527032,
          0.24159925062617577,
          0.2214396332909371
         ]
        },
        {
         "marker": {
          "line": {
           "color": "rgba(217, 217, 217, 0.14)",
           "width": 0.5
          },
          "opacity": 0.8,
          "size": 12
         },
         "mode": "markers",
         "name": "salix_intergra",
         "type": "scatter3d",
         "x": [
          -2.572631938844647,
          -2.3896746480159305,
          -3.138159512382058,
          -2.5541085933192877,
          -3.095744338973102,
          -2.8273558628726088,
          -2.216981470339976,
          -2.9628082314819535,
          -2.4264714911904726,
          -2.3339472001146975,
          -2.5293604161803227,
          -2.4015900494533353,
          -2.6081150489705642,
          -2.456263555044083,
          -2.416807318405147,
          -2.740819729709081
         ],
         "y": [
          1.0558018355449894,
          0.7356444158806594,
          0.29786460492771755,
          0.5428736568265794,
          0.3003428624296683,
          0.3258387974033782,
          1.087964146620909,
          0.9642512756627071,
          0.5347039254153594,
          0.5437677095339262,
          0.8893374753885273,
          0.803848257954523,
          0.5458730259606221,
          0.3685822946849611,
          1.1673274877906408,
          0.7583607272871769
         ],
         "z": [
          0.26692312094748205,
          0.2999505955628383,
          0.2647691816254529,
          0.22723301625541661,
          0.4465995989921251,
          0.3150769158884709,
          -0.04546045299331674,
          0.2580227625542883,
          0.30964528862035895,
          -0.17803561899358808,
          0.08222678726378013,
          0.0985492735741725,
          -0.084677615578052,
          0.21524165029716882,
          0.2941788130465554,
          0.18064431732671896
         ]
        }
       ],
       "layout": {
        "hovermode": "closest",
        "showlegend": false,
        "title": "Leaf Species",
        "xaxis": {
         "gridwidth": 2,
         "ticklen": 5,
         "title": "Principal Component 1",
         "zeroline": false
        },
        "yaxis": {
         "gridwidth": 2,
         "ticklen": 5,
         "title": "Principal Component 2"
        }
       }
      },
      "text/html": [
       "<div id=\"2bd6ba07-5073-4612-96bf-c172e3c9d537\" style=\"height: 525px; width: 100%;\" class=\"plotly-graph-div\"></div><script type=\"text/javascript\">require([\"plotly\"], function(Plotly) { window.PLOTLYENV=window.PLOTLYENV || {};window.PLOTLYENV.BASE_URL=\"https://plot.ly\";Plotly.newPlot(\"2bd6ba07-5073-4612-96bf-c172e3c9d537\", [{\"x\": [0.39378542152643836, -1.0936869722422615, -0.3793737117348804, 0.06411268854426606, 0.02467850742658087, 0.38739125343562336, -0.22947562329420249, -0.30519495879122815, 0.0423190512912074, -0.28761988027242835, 0.09840841463680447, -0.14368842065403956, 0.49373538902706476, -0.114773714110035, 0.2377800960851232, 1.6878964071492404], \"name\": \"acer_circinatum\", \"z\": [0.03609228690273826, -0.017588020701748107, 0.008695205423397913, -0.0760008356336239, 0.026877958455923945, -0.029734912924708094, 0.059819439090597754, 0.01155962850128459, -0.0755867352361422, -0.10525519257223315, 0.14257179046244256, -0.028800161332964598, 0.10728383625543278, -0.07084300595901803, -0.13201746230522643, 0.057993897743150793], \"type\": \"scatter3d\", \"marker\": {\"opacity\": 0.8, \"line\": {\"width\": 0.5, \"color\": \"rgba(217, 217, 217, 0.14)\"}, \"size\": 12}, \"y\": [-1.4268188302330291, -2.382318220436148, -1.9415177605170364, -1.6435024244054812, -2.0373895713835806, -1.146982132512669, -2.372778119851146, -2.011088661274845, -1.546408793157136, -1.8972888691864749, -1.9703723059346685, -2.0930376069766377, -1.8888209606137387, -1.7446657062913968, -2.0069096967807605, -1.1585421020849158], \"mode\": \"markers\"}, {\"x\": [-1.7313136833684275, -2.3308379041680833, -2.176330171015738, -1.9176118740349772, -1.9108783357432135, -1.582405653276816, -1.3503249937660993, -1.9976048470328243, -1.751714545765294, -2.46628442211909, -2.060543054260142, -1.6095194463404905, -1.4891730840109296, -1.8150065672620324, -2.2331896271178064, -1.4397087094644998], \"name\": \"acer_mono\", \"z\": [-0.7059455260795413, -0.5790671500577955, -0.7386976486960742, -0.580266144662036, -0.5891954692634143, -0.742937315360632, -0.6882625551772676, -0.5825201779456061, -0.7739624687105121, -0.6259646138649783, -0.6311193384043462, -0.558374080089206, -0.5652720867977001, -0.7453564725190571, -0.6727220207499635, -0.636918586587431], \"type\": \"scatter3d\", \"marker\": {\"opacity\": 0.8, \"line\": {\"width\": 0.5, \"color\": \"rgba(217, 217, 217, 0.14)\"}, \"size\": 12}, \"y\": [-1.5024975049218678, -2.2410363529236017, -0.46382973214837, -2.205483231700004, -1.6518414872786595, -2.071191361096325, -1.5883142394795366, -1.7972735572734218, -1.78362635820266, -1.3611683219498627, -1.5306202210488309, -2.5507979609881906, -2.6112471362176044, -1.9392007006248904, -1.5846487080813696, -1.5127927194615483], \"mode\": \"markers\"}, {\"x\": [-0.7958168093317871, -1.2416729681755696, -1.3477914671426496, -1.218026461321661, -1.2176270490063117, -1.1768187695830585, -1.045095732755646, -1.3786186734163801, -1.343348512553084, -1.2860038352497047, -1.2730364219788968, -1.2975743120784204, -1.235008225750493, -1.24814782461521, -0.9163960218776006, -1.0827877747635135], \"name\": \"arundinaria_simonii\", \"z\": [4.935814844107944, 2.564017615578085, 5.745488520469455, 3.318395890230877, 3.5871515352353858, 3.2865033537670585, 3.753066206213928, 6.047390867712881, 5.172310154087182, 3.1701014851878457, 4.809835100052253, 4.003370423680915, 2.8691338602550203, 4.003532084132386, 3.887068373385104, 3.1643135361024792], \"type\": \"scatter3d\", \"marker\": {\"opacity\": 0.8, \"line\": {\"width\": 0.5, \"color\": \"rgba(217, 217, 217, 0.14)\"}, \"size\": 12}, \"y\": [-0.5167347519989801, 0.6335879573114003, 0.510969386296401, 0.5241541033938173, 0.49709102355381113, 0.43615993369892087, 0.12257880801758263, 0.5332939419510815, 0.5825809713048252, 0.6821796454517794, 0.46681843630755465, 0.5948081184846555, 0.5872065016929319, 0.506548903619842, -0.1492289524551115, 0.29338166392922527], \"mode\": \"markers\"}, {\"x\": [-3.2131881349190436, -3.097201348994514, -2.8464235379603515, -3.0831686870984756, -3.0975213361466976, -2.9885934755283037, -2.8354258385058797, -3.3364315983752775, -2.7994862673680005, -3.102856769939532, -3.088361595925603, -3.3502352912713613, -3.094101636545998, -3.017164397449736, -2.945542037153368, -2.9444227108606293], \"name\": \"betula_pendula\", \"z\": [-0.5673805577218304, -0.7641411326587454, -0.7460789154140458, -0.6893156988100154, -0.7121790149634494, -0.669298840801833, -0.7347050980490201, -0.5638062560072711, -0.8104292813936751, -0.7881250866969869, -0.6878814076692812, -0.5668745567270442, -0.5950977569905891, -0.6947065945910361, -0.7605582094240718, -0.661177509574414], \"type\": \"scatter3d\", \"marker\": {\"opacity\": 0.8, \"line\": {\"width\": 0.5, \"color\": \"rgba(217, 217, 217, 0.14)\"}, \"size\": 12}, \"y\": [-2.4428356281289116, -1.6738181633365823, -1.6711874784612764, -2.197818805571586, -1.9994423092854483, -2.3332365046957904, -1.5987316616697498, -2.296330406521066, -1.888415308871158, -1.4135985803964903, -1.9490292227628223, -2.334460028850132, -2.5825129086974323, -1.4591345444741355, -1.3937109260451426, -2.658418783004512], \"mode\": \"markers\"}, {\"x\": [2.0606788812847467, 3.273445503528303, 4.448451012742199, 4.398468310749209, 3.072682179537491, 3.6363932014737728, 2.5428252388810355, 1.0846066921250457, 3.1150376133755073, 3.9158194900496124, 1.4017488345861122, 4.5835298294660705, 0.9624656926491945, 4.9359745077799815, 2.7770949343561044, 2.6446815886959976], \"name\": \"castanea_sativa\", \"z\": [0.4114591100701752, 0.5969732610840631, 0.5796490189494317, 0.8500160471562459, 0.9076755916841842, 0.8105720353147003, 0.274261975784497, 0.44696504825911293, 0.872782806144917, 1.165428119227659, 0.42945543766090427, 0.9648398750028832, 0.1964569895809823, 0.8203889025298565, 0.6862782229464087, 1.0415384847326488], \"type\": \"scatter3d\", \"marker\": {\"opacity\": 0.8, \"line\": {\"width\": 0.5, \"color\": \"rgba(217, 217, 217, 0.14)\"}, \"size\": 12}, \"y\": [0.8301847202877837, 1.302325214071752, 2.0573917884002695, 1.4351957782193332, 1.1258091626438496, 1.3495497412939288, 1.6400266228333171, 0.019838187862289886, 0.9637002306235133, 0.9286897449827411, 0.7113493452436841, 1.415146845264497, 0.564602471512656, 1.7208358924571119, 0.5778490068887948, 0.6206075374337101], \"mode\": \"markers\"}, {\"x\": [1.3848835379582067, 0.5386567521883348, 1.0388440452708056, 1.5103476315512323, 1.4973832061814303, 1.6490185647416427, 1.903233512325577, 0.5468896975316959, 1.9034880299788597, 1.0597095967790369, 1.0180912320415891, 1.3279386148652175, 0.4388671722657697, -1.445657203716258, 0.2951858350825798, 1.8528951297472203], \"name\": \"cornus_chinensis\", \"z\": [-0.44248591595148545, -0.31514145765001095, -0.26369636843811933, -0.25746395867285465, -0.39496091548832657, -0.338655047972324, -0.6100536860596977, -0.3820643894513806, -0.23570110963489338, -0.27982761698410175, -0.5769552334553076, -0.41947748698762655, -0.15421968851381107, -0.31568835647689636, -0.29001288135140474, -0.16654710464251274], \"type\": \"scatter3d\", \"marker\": {\"opacity\": 0.8, \"line\": {\"width\": 0.5, \"color\": \"rgba(217, 217, 217, 0.14)\"}, \"size\": 12}, \"y\": [2.0629787229962497, 1.543588826080897, 1.5565154229102975, 1.864916292204958, 1.7873889829093128, 2.1110115447239686, 2.453119358682252, 1.5030826258881733, 1.7006699851741551, 1.5460419257207765, 2.1544177950211294, 1.9390092774865346, 1.1442603712814758, 0.40133154909898006, 1.2536359197552045, 1.8446613871021744], \"mode\": \"markers\"}, {\"x\": [-1.8402707125410007, -0.684030662663641, -1.773313964055827, -1.1881939381667093, 0.07892138764299274, -0.06702143874503183, -1.622585544971655, -1.0293150774121647, 0.13286613365310757, -0.9166047673278356, -1.2936229224326177, -0.12363287013349507, -0.6042141651678427, -1.4386253517069112, -0.5992530325109205, -0.9461823809787213], \"name\": \"ilex_aquifolium\", \"z\": [-0.7253957178087622, -0.4639828066742614, -0.6445274835397129, -0.5997501305477839, -0.45100792411297597, -0.5151809644135595, -0.4888722460926776, -0.5473971221244829, -0.5251464080700944, -0.49522555049703004, -0.5132509448297619, -0.636340331506317, -0.5683585994115046, -0.5417013947912869, -0.4879333108342473, -0.5040347231413915], \"type\": \"scatter3d\", \"marker\": {\"opacity\": 0.8, \"line\": {\"width\": 0.5, \"color\": \"rgba(217, 217, 217, 0.14)\"}, \"size\": 12}, \"y\": [0.3703235035104464, 1.050970685860914, 0.8603919765690832, 0.7045337566349752, 1.2946693188131992, 1.1813437899806274, 0.4330016385229495, 1.0534020153092678, 1.1610726559379965, 0.6511794196005399, 0.820790207466221, 1.0061100136892196, 1.059653998915075, 0.631211153188108, 0.6613151130139057, 0.869095547973522], \"mode\": \"markers\"}, {\"x\": [6.394433983423748, 5.601028978825276, 2.1898976484142336, 4.197272606690051, 2.6355441816907392, 2.403954186239299, 5.490794212278024, 4.673031115921364, 5.702265306347128, 3.8167430015236343, 7.294440467144483, 5.845162229600436, 5.351458457071672, 2.6889064115769648, 2.1065526993310044, 2.4707008364332506], \"name\": \"liriodendron_tulipifera\", \"z\": [-0.7103920198492577, -0.8123552338960698, -0.8264938845716248, -0.7946356792344582, -0.8841775566559462, -0.9227864486733005, -0.7737056553801642, -0.82955779201783, -0.7931763114970208, -0.7275617822510215, -0.6380135278233214, -0.7522193345011623, -0.8560906929978604, -0.8612650775025125, -0.9542333318160765, -0.7842265073442454], \"type\": \"scatter3d\", \"marker\": {\"opacity\": 0.8, \"line\": {\"width\": 0.5, \"color\": \"rgba(217, 217, 217, 0.14)\"}, \"size\": 12}, \"y\": [2.717533244996262, 2.7948949531726472, 1.5338602876767866, 2.775820108303426, 1.8319548531545737, 1.7336694442497553, 2.28149929176823, 3.2384253706271577, 2.5963109503472572, 1.9859244438708565, 3.463604653298739, 2.5731309864627767, 3.318386956620449, 1.5086434432974778, 1.1939056259709928, 1.774675624129189], \"mode\": \"markers\"}, {\"x\": [-1.2465265404185732, -1.1835946004335813, -1.0611223298677241, -1.05245215037021, -1.1648032922936056, -1.2505798905452232, -1.0333742283607719, -1.1253740775000887, -1.1065236381887416, -1.0959250749784308, -1.2111413367732078, -1.093335205163427, -1.0919509298553207, -1.13971031304298, -1.2162711128038168, -1.103398362237383], \"name\": \"lithocarpus_edulis\", \"z\": [-0.3206990223308974, -0.47411925095436896, -0.18199033933967707, -0.06074469378815952, -0.20101181821412778, -0.11339568449081053, 0.09851686418774935, -0.19832908524337656, -0.29707324068382207, -0.3007845976596147, -0.3058140542219634, -0.2627275330361052, -0.22622205026944053, -0.1960516839029664, -0.3045800013213175, -0.07514944226952558], \"type\": \"scatter3d\", \"marker\": {\"opacity\": 0.8, \"line\": {\"width\": 0.5, \"color\": \"rgba(217, 217, 217, 0.14)\"}, \"size\": 12}, \"y\": [1.0743528896836112, 0.9617159247960954, 0.6916807197210131, 0.6603952801989704, 0.8842793123955177, 1.0425653639299548, 0.5899782253011736, 0.8052140705980972, 0.796740600453412, 0.7669764181821452, 0.9830395788642547, 0.7652227067724211, 0.769328896568417, 0.836443542557226, 1.0007123982888384, 0.7478806641103846], \"mode\": \"markers\"}, {\"x\": [-1.4325411843328606, -0.7871800276684375, -1.5215688101101046, -0.7380805151068456, -0.9142499505402065, -0.38792377783591464, -0.6461598458999123, -0.8369776330998522, -1.0467281069158298, -0.8665150981520555, -1.2600773932871834, -1.1776588558346437, -0.6647690480569509, -1.4837536717645077, -1.5301716560897187, -0.25027225854632074], \"name\": \"populus_nigra\", \"z\": [-1.077728040130213, -1.0763607267712116, -1.0949787186594728, -1.0646619487470501, -1.1272405481063956, -1.0660948076269527, -1.083638068699651, -1.0911866492241895, -1.0950075589356087, -1.047405879379108, -1.1015846435656198, -1.0712662879430384, -1.087967247000607, -1.0387585382729996, -1.1275486294793602, -1.0815613009983727], \"type\": \"scatter3d\", \"marker\": {\"opacity\": 0.8, \"line\": {\"width\": 0.5, \"color\": \"rgba(217, 217, 217, 0.14)\"}, \"size\": 12}, \"y\": [-0.2075837005222586, 0.44512405997685667, 0.06720531290030557, 0.3720846963225803, 0.5878750324319703, 0.44785870400119737, 0.6366274539824684, 0.6232872223880339, 0.19036945818895545, 0.19825913513124305, 0.1462547742115935, 0.14981097327124956, 0.40286859382306817, -0.03188704636277784, -0.1692086672486145, 0.6404579740953065], \"mode\": \"markers\"}, {\"x\": [2.3632232627395062, 0.07075243501837769, -1.4416669008860716, 1.8906271169587165, -1.6939849108764378, -1.0269241667128948, -0.7640154776182361, 1.264939207131274, 0.27555984689953006, 1.5567977241985254, 0.2474390481886396, 1.7738244141474067, 0.8509645558720245, 0.13016287305157995, 0.7264075251621682, 0.967523837475188], \"name\": \"prunus_x_shmittii\", \"z\": [-0.05275956854718066, -0.0727923683137534, 0.002336698387965779, -0.15315629900378025, -0.3388197715583967, -0.27563428199605083, -0.22621648931271418, -0.06606557818755768, -0.250230633852098, -0.14114715338920938, -0.3476196871025989, -0.03241876726410571, -0.12188494845801039, -0.31134060528557195, -0.12609784574368457, -0.1909115056440529], \"type\": \"scatter3d\", \"marker\": {\"opacity\": 0.8, \"line\": {\"width\": 0.5, \"color\": \"rgba(217, 217, 217, 0.14)\"}, \"size\": 12}, \"y\": [0.9598020992268853, 0.5045807217391372, -0.22790552678779702, 1.3020135217931395, 0.2005224150986572, 0.29290874324366234, -0.017581376287128025, 0.7522327663532469, 0.6665474108748, 1.1799156555961778, 0.6345108945782132, 1.2263585443002762, 0.7538511025087127, 0.7325328227243182, 0.7192133605516242, 0.7976264418692625], \"mode\": \"markers\"}, {\"x\": [0.03102536782338612, -0.8913313734370061, -0.765460947066848, -1.27440486618248, -0.8485376822534748, -0.21425743782949702, -1.574764383864517, -0.9855772583533526, -1.478824827451721, -0.4939173406759961, -0.617235994120965, -0.7568365321563454, -0.2520834936741114, 0.5810949213310304, -0.6001037698209261, -1.8475304017656256], \"name\": \"quercus_canariensis\", \"z\": [-0.353752679716563, -1.0421380079893734, -1.147717340841985, 0.04160701707325003, 0.4950399776161175, -0.2238025520125863, 0.16822946108868467, -0.10307745973587966, 0.11977706057684165, 0.0742775927889063, 0.1921489690933289, -0.10595909483203286, -0.04456491197522264, -0.3285987100886774, 0.019443401056412155, 0.04510932748152513], \"type\": \"scatter3d\", \"marker\": {\"opacity\": 0.8, \"line\": {\"width\": 0.5, \"color\": \"rgba(217, 217, 217, 0.14)\"}, \"size\": 12}, \"y\": [1.025763511180228, 0.33024647057906237, 0.8017133922309959, 0.21645229634914698, 1.126869635231779, 1.2351536324166374, 0.3415359207002673, 0.4568525208816186, 0.6154266684955173, 0.5222011408544253, 0.7396998572922704, 0.5898280931769687, 0.8420297666391747, 1.469455894075268, 0.6754583704274012, 0.0837338951573337], \"mode\": \"markers\"}, {\"x\": [-1.2496410199933041, -1.2852245692779178, -1.305773521236207, -1.3863967543985514, -1.3854203765551625, -1.2817770268317605, -1.2703058420486018, -1.1603635834450299, -1.2239908696171167, -1.239944638142339, -1.3195236868002367, -1.2092321220350328, -1.3534635236337804, -1.3343828845481112, -1.295269156763515, -1.3201510411837465], \"name\": \"quercus_chrysolepis\", \"z\": [0.20338351144799457, -0.0017626484499359526, -0.07172079940689084, -0.10640468037377372, -0.3017555739540487, -0.13056542709481836, -0.059781693263870984, 0.17476556587837885, 0.22916372980057842, -0.1975478603574077, -0.06480442451744806, -0.1357609064891135, -0.08859309622950737, 0.09697655144351851, -0.05828577833098578, 0.10186979531414367], \"type\": \"scatter3d\", \"marker\": {\"opacity\": 0.8, \"line\": {\"width\": 0.5, \"color\": \"rgba(217, 217, 217, 0.14)\"}, \"size\": 12}, \"y\": [0.9915001500253615, 1.0887305521763457, 1.1256529285607226, 1.299879962626606, 1.3366073796141997, 1.0885479796844464, 1.0727568859590626, 0.8171059594400971, 0.9424966186652975, 1.0454664580406972, 1.1681771782286134, 0.9555687408309741, 1.2341932273067187, 1.1699333043468172, 1.127859733423222, 1.1487115369478682], \"mode\": \"markers\"}, {\"x\": [-2.261103117542395, -2.162029814309365, -2.0979688593428114, -1.2173420482793298, -2.6111878755842888, -2.0264725557622025, -2.081278976429598, -1.6991005391777585, -1.3904525827652123, -2.0541898541266446, -1.180209782784927, -2.0491492243128624, -1.657091929139946, -1.6335605810594305, -1.116594153179693, -0.3100202987611528], \"name\": \"quercus_infectoria_sub\", \"z\": [-0.03950118979280054, 0.004475584384511559, -0.173141532405846, -0.24849871404327045, -0.14427051116863737, -0.0954398566211838, -0.3158523788201467, -0.4127233571150001, -0.35888969950301297, -0.2032566795488069, -0.19865960724132353, -0.15876444157027028, -0.41310765766345575, -0.42890774799899894, -0.07757379948122774, -0.12419257577987046], \"type\": \"scatter3d\", \"marker\": {\"opacity\": 0.8, \"line\": {\"width\": 0.5, \"color\": \"rgba(217, 217, 217, 0.14)\"}, \"size\": 12}, \"y\": [-0.208157546175255, 0.2593918431390535, 0.04643413811582403, 0.39255357321339013, -0.08583842009888587, 0.1488458520599152, 0.5826385958102862, 0.33304006034937433, 0.43006439018515874, 0.29783739306802626, 0.633621162896919, 0.09393538412697713, 0.5764603874427376, 0.47826046798304633, 0.8681240137201295, 0.9163861630769309], \"mode\": \"markers\"}, {\"x\": [2.5523158835622586, 3.067444456803231, 1.005515615400128, 2.5043664102789225, 3.4301460696591812, 3.394362568061676, 1.2953240848455851, 2.3630075446329872, 0.056172052798923386, 0.8616791728638741, 1.8772288966116835, 2.1155962682728706, 1.072239055041809, 1.3409171114191785, 3.1013453233388204, 2.40921837278752], \"name\": \"quercus_nigra\", \"z\": [0.24187446615737151, 0.47336856191595145, -0.14611118266375317, 0.23807409630065765, -0.09309620381505183, 0.014881234826791025, 0.26466458691756695, -0.28163259941764257, 0.06638432900655267, -0.27292637662895064, 0.24372519711121993, 0.29712711214208465, -0.10772361443215117, 0.16474811332592368, 0.0024497181407904106, -0.025666879032763046], \"type\": \"scatter3d\", \"marker\": {\"opacity\": 0.8, \"line\": {\"width\": 0.5, \"color\": \"rgba(217, 217, 217, 0.14)\"}, \"size\": 12}, \"y\": [0.49836422098051025, -1.002823503496731, 0.26524536942337945, 1.507735124034447, 1.395959683016921, 1.1176338468862543, 0.18601613585969018, 0.5279312878009745, -0.6947699256879357, -0.14986694627310548, 0.3406774638231649, 0.6079737790901518, 1.397916395811572, 0.6265389521682438, 1.7207469895535583, 1.9143733127506068], \"mode\": \"markers\"}, {\"x\": [4.102922117777562, 2.731803765600881, 3.4102255035217084, 4.744519018807717, 3.564232455394353, 5.367163936050195, 3.372173185512074, 3.3229884417791657, 3.9408143901713384, 2.564850383540802, 1.5291321942865712, 4.415833874302809, 1.892900302209115, 2.6298029516878385, 3.7385967984516686, 2.094565704424718], \"name\": \"quercus_palustris\", \"z\": [0.21260245603787298, 0.21002089034480262, 0.38700585705742513, 0.3355922208813872, 0.3335469250248325, 0.845667891634162, 0.11223406001805122, 0.23483450066687742, 0.36551673318724914, 0.6598907417815106, -0.02506666561801303, 0.28228948573414137, -0.22229187674026654, 0.11191696570201051, 0.02443449850428087, 0.3585723454244233], \"type\": \"scatter3d\", \"marker\": {\"opacity\": 0.8, \"line\": {\"width\": 0.5, \"color\": \"rgba(217, 217, 217, 0.14)\"}, \"size\": 12}, \"y\": [-3.987436797066, -4.502001477401962, -3.802001514617774, -4.272703021812884, -5.179115206767153, -4.853885672490231, -3.85180799884084, -4.021392733720929, -4.777722197860919, -5.644545194015086, -4.801609281293959, -3.913246010645708, -4.558088258056235, -4.195628764428398, -3.9508125152636646, -5.205511683932512], \"mode\": \"markers\"}, {\"x\": [-0.9403462692007972, -1.048034207525407, -0.8136301691030124, -1.1127173253187137, -0.813191076496683, -0.9400940357794643, -0.7795587619782445, -1.2050670306883253, -1.137690524734569, -0.9218805258666182, -1.0792396280528829, -0.9588949165045229, -1.0660494695831906, -0.9822821316775118, -0.8861429387904982, -1.0344937313549156], \"name\": \"quercus_pontica\", \"z\": [-0.34621570156614156, -0.24183222626080217, -0.2523307348430964, -0.39327608052442153, -0.2925626726393236, -0.42909238735544486, -0.1536457574139292, -0.44219826783378957, -0.4026455499575858, -0.31105103423931885, -0.3782965377167867, -0.13982546911290028, -0.29936286238122406, -0.08507878018200306, -0.38955385078176996, -0.10254508940551624], \"type\": \"scatter3d\", \"marker\": {\"opacity\": 0.8, \"line\": {\"width\": 0.5, \"color\": \"rgba(217, 217, 217, 0.14)\"}, \"size\": 12}, \"y\": [0.3828811004262067, 0.5671753918154837, 0.12032556564723215, 0.7450926840943404, 0.11342299472289909, 0.3937370814590741, 0.01478463952335117, 0.9202839427975896, 0.844986499650087, 0.2821853521060181, 0.6839939473366353, 0.3214618605510908, 0.6130461487876661, 0.4103528035859916, 0.26501989031707496, 0.5606436825682146], \"mode\": \"markers\"}, {\"x\": [2.930528750026182, 4.135990563491734, 2.17736967099223, 1.6638726222896902, 1.1962247945779063, 3.8227590540786265, 3.1255803454911617, 3.601883590633826, 5.244461774335591, 4.009280857977535, 2.5275034360431845, 2.753066667899631, 2.6590401476922683, 1.6522864497790952, 3.6516693000890377, 4.016358561039794], \"name\": \"quercus_texana\", \"z\": [-0.13785296462590996, 0.05655775218801008, -0.22338264992100146, -0.04249507167627057, -0.2438549783166573, -0.04448571275145571, -0.12217708277130922, -0.14442948198080902, 0.04716739870702254, -0.05107862533735097, -0.09885337291469246, -0.09138935050983912, -0.09727071017474287, -0.21516390801602883, -0.0855185825575866, -0.04241674561205708], \"type\": \"scatter3d\", \"marker\": {\"opacity\": 0.8, \"line\": {\"width\": 0.5, \"color\": \"rgba(217, 217, 217, 0.14)\"}, \"size\": 12}, \"y\": [-2.5909531292690358, -2.1399602087711123, -2.7834926321220137, -2.4922717217722057, -2.1310760630291945, -1.9538457024621567, -2.1909009973853277, -2.093186096761326, -2.4365239989078207, -1.639770840443322, -2.537212662739209, -2.2909616670564854, -1.9674470042785503, -2.5707679307530715, -2.6116658126860894, -1.9390708561167602], \"mode\": \"markers\"}, {\"x\": [-0.7253527353145203, -0.8330657818033576, -0.8263607076389721, -0.6866184501136154, -1.005198105243752, -1.012277491500198, -0.8767139833805508, -0.8156098320545916, -1.063169852753205, -0.9567383312213875, -1.0137961435679772, -0.8164167265165931, -1.1546227270030034, -0.9315849959851833, -0.7980468001818607, -0.8358537169121122], \"name\": \"quercus_x_turneri\", \"z\": [0.006341490665024875, 0.17113304269610224, 0.21482109300917931, -0.003186533522047886, -0.26291799738134836, 0.05258504652232988, -0.03714059905234127, -0.22669662003353958, 0.05851385931487659, 0.03871089820629603, -0.21951405139637287, 0.21518784970873148, 0.06349318671967533, 0.06800498904527032, 0.24159925062617577, 0.2214396332909371], \"type\": \"scatter3d\", \"marker\": {\"opacity\": 0.8, \"line\": {\"width\": 0.5, \"color\": \"rgba(217, 217, 217, 0.14)\"}, \"size\": 12}, \"y\": [-0.05957909978651266, 0.12801491670146212, 0.07342502042773445, -0.13828131559562282, 0.5693489800156769, 0.552054531735716, 0.3024881462347304, 0.16667547297562674, 0.6156334394894402, 0.382429777462177, 0.5705997684494584, 0.15478120560233827, 0.790026021576577, 0.3194715234744626, 0.03706016666405515, 0.18903115528352682], \"mode\": \"markers\"}, {\"x\": [-2.572631938844647, -2.3896746480159305, -3.138159512382058, -2.5541085933192877, -3.095744338973102, -2.8273558628726088, -2.216981470339976, -2.9628082314819535, -2.4264714911904726, -2.3339472001146975, -2.5293604161803227, -2.4015900494533353, -2.6081150489705642, -2.456263555044083, -2.416807318405147, -2.740819729709081], \"name\": \"salix_intergra\", \"z\": [0.26692312094748205, 0.2999505955628383, 0.2647691816254529, 0.22723301625541661, 0.4465995989921251, 0.3150769158884709, -0.04546045299331674, 0.2580227625542883, 0.30964528862035895, -0.17803561899358808, 0.08222678726378013, 0.0985492735741725, -0.084677615578052, 0.21524165029716882, 0.2941788130465554, 0.18064431732671896], \"type\": \"scatter3d\", \"marker\": {\"opacity\": 0.8, \"line\": {\"width\": 0.5, \"color\": \"rgba(217, 217, 217, 0.14)\"}, \"size\": 12}, \"y\": [1.0558018355449894, 0.7356444158806594, 0.29786460492771755, 0.5428736568265794, 0.3003428624296683, 0.3258387974033782, 1.087964146620909, 0.9642512756627071, 0.5347039254153594, 0.5437677095339262, 0.8893374753885273, 0.803848257954523, 0.5458730259606221, 0.3685822946849611, 1.1673274877906408, 0.7583607272871769], \"mode\": \"markers\"}], {\"yaxis\": {\"ticklen\": 5, \"gridwidth\": 2, \"title\": \"Principal Component 2\"}, \"showlegend\": false, \"xaxis\": {\"ticklen\": 5, \"zeroline\": false, \"gridwidth\": 2, \"title\": \"Principal Component 1\"}, \"title\": \"Leaf Species\", \"hovermode\": \"closest\"}, {\"linkText\": \"Export to plot.ly\", \"showLink\": true})});</script>"
      ],
      "text/vnd.plotly.v1+html": [
       "<div id=\"2bd6ba07-5073-4612-96bf-c172e3c9d537\" style=\"height: 525px; width: 100%;\" class=\"plotly-graph-div\"></div><script type=\"text/javascript\">require([\"plotly\"], function(Plotly) { window.PLOTLYENV=window.PLOTLYENV || {};window.PLOTLYENV.BASE_URL=\"https://plot.ly\";Plotly.newPlot(\"2bd6ba07-5073-4612-96bf-c172e3c9d537\", [{\"x\": [0.39378542152643836, -1.0936869722422615, -0.3793737117348804, 0.06411268854426606, 0.02467850742658087, 0.38739125343562336, -0.22947562329420249, -0.30519495879122815, 0.0423190512912074, -0.28761988027242835, 0.09840841463680447, -0.14368842065403956, 0.49373538902706476, -0.114773714110035, 0.2377800960851232, 1.6878964071492404], \"name\": \"acer_circinatum\", \"z\": [0.03609228690273826, -0.017588020701748107, 0.008695205423397913, -0.0760008356336239, 0.026877958455923945, -0.029734912924708094, 0.059819439090597754, 0.01155962850128459, -0.0755867352361422, -0.10525519257223315, 0.14257179046244256, -0.028800161332964598, 0.10728383625543278, -0.07084300595901803, -0.13201746230522643, 0.057993897743150793], \"type\": \"scatter3d\", \"marker\": {\"opacity\": 0.8, \"line\": {\"width\": 0.5, \"color\": \"rgba(217, 217, 217, 0.14)\"}, \"size\": 12}, \"y\": [-1.4268188302330291, -2.382318220436148, -1.9415177605170364, -1.6435024244054812, -2.0373895713835806, -1.146982132512669, -2.372778119851146, -2.011088661274845, -1.546408793157136, -1.8972888691864749, -1.9703723059346685, -2.0930376069766377, -1.8888209606137387, -1.7446657062913968, -2.0069096967807605, -1.1585421020849158], \"mode\": \"markers\"}, {\"x\": [-1.7313136833684275, -2.3308379041680833, -2.176330171015738, -1.9176118740349772, -1.9108783357432135, -1.582405653276816, -1.3503249937660993, -1.9976048470328243, -1.751714545765294, -2.46628442211909, -2.060543054260142, -1.6095194463404905, -1.4891730840109296, -1.8150065672620324, -2.2331896271178064, -1.4397087094644998], \"name\": \"acer_mono\", \"z\": [-0.7059455260795413, -0.5790671500577955, -0.7386976486960742, -0.580266144662036, -0.5891954692634143, -0.742937315360632, -0.6882625551772676, -0.5825201779456061, -0.7739624687105121, -0.6259646138649783, -0.6311193384043462, -0.558374080089206, -0.5652720867977001, -0.7453564725190571, -0.6727220207499635, -0.636918586587431], \"type\": \"scatter3d\", \"marker\": {\"opacity\": 0.8, \"line\": {\"width\": 0.5, \"color\": \"rgba(217, 217, 217, 0.14)\"}, \"size\": 12}, \"y\": [-1.5024975049218678, -2.2410363529236017, -0.46382973214837, -2.205483231700004, -1.6518414872786595, -2.071191361096325, -1.5883142394795366, -1.7972735572734218, -1.78362635820266, -1.3611683219498627, -1.5306202210488309, -2.5507979609881906, -2.6112471362176044, -1.9392007006248904, -1.5846487080813696, -1.5127927194615483], \"mode\": \"markers\"}, {\"x\": [-0.7958168093317871, -1.2416729681755696, -1.3477914671426496, -1.218026461321661, -1.2176270490063117, -1.1768187695830585, -1.045095732755646, -1.3786186734163801, -1.343348512553084, -1.2860038352497047, -1.2730364219788968, -1.2975743120784204, -1.235008225750493, -1.24814782461521, -0.9163960218776006, -1.0827877747635135], \"name\": \"arundinaria_simonii\", \"z\": [4.935814844107944, 2.564017615578085, 5.745488520469455, 3.318395890230877, 3.5871515352353858, 3.2865033537670585, 3.753066206213928, 6.047390867712881, 5.172310154087182, 3.1701014851878457, 4.809835100052253, 4.003370423680915, 2.8691338602550203, 4.003532084132386, 3.887068373385104, 3.1643135361024792], \"type\": \"scatter3d\", \"marker\": {\"opacity\": 0.8, \"line\": {\"width\": 0.5, \"color\": \"rgba(217, 217, 217, 0.14)\"}, \"size\": 12}, \"y\": [-0.5167347519989801, 0.6335879573114003, 0.510969386296401, 0.5241541033938173, 0.49709102355381113, 0.43615993369892087, 0.12257880801758263, 0.5332939419510815, 0.5825809713048252, 0.6821796454517794, 0.46681843630755465, 0.5948081184846555, 0.5872065016929319, 0.506548903619842, -0.1492289524551115, 0.29338166392922527], \"mode\": \"markers\"}, {\"x\": [-3.2131881349190436, -3.097201348994514, -2.8464235379603515, -3.0831686870984756, -3.0975213361466976, -2.9885934755283037, -2.8354258385058797, -3.3364315983752775, -2.7994862673680005, -3.102856769939532, -3.088361595925603, -3.3502352912713613, -3.094101636545998, -3.017164397449736, -2.945542037153368, -2.9444227108606293], \"name\": \"betula_pendula\", \"z\": [-0.5673805577218304, -0.7641411326587454, -0.7460789154140458, -0.6893156988100154, -0.7121790149634494, -0.669298840801833, -0.7347050980490201, -0.5638062560072711, -0.8104292813936751, -0.7881250866969869, -0.6878814076692812, -0.5668745567270442, -0.5950977569905891, -0.6947065945910361, -0.7605582094240718, -0.661177509574414], \"type\": \"scatter3d\", \"marker\": {\"opacity\": 0.8, \"line\": {\"width\": 0.5, \"color\": \"rgba(217, 217, 217, 0.14)\"}, \"size\": 12}, \"y\": [-2.4428356281289116, -1.6738181633365823, -1.6711874784612764, -2.197818805571586, -1.9994423092854483, -2.3332365046957904, -1.5987316616697498, -2.296330406521066, -1.888415308871158, -1.4135985803964903, -1.9490292227628223, -2.334460028850132, -2.5825129086974323, -1.4591345444741355, -1.3937109260451426, -2.658418783004512], \"mode\": \"markers\"}, {\"x\": [2.0606788812847467, 3.273445503528303, 4.448451012742199, 4.398468310749209, 3.072682179537491, 3.6363932014737728, 2.5428252388810355, 1.0846066921250457, 3.1150376133755073, 3.9158194900496124, 1.4017488345861122, 4.5835298294660705, 0.9624656926491945, 4.9359745077799815, 2.7770949343561044, 2.6446815886959976], \"name\": \"castanea_sativa\", \"z\": [0.4114591100701752, 0.5969732610840631, 0.5796490189494317, 0.8500160471562459, 0.9076755916841842, 0.8105720353147003, 0.274261975784497, 0.44696504825911293, 0.872782806144917, 1.165428119227659, 0.42945543766090427, 0.9648398750028832, 0.1964569895809823, 0.8203889025298565, 0.6862782229464087, 1.0415384847326488], \"type\": \"scatter3d\", \"marker\": {\"opacity\": 0.8, \"line\": {\"width\": 0.5, \"color\": \"rgba(217, 217, 217, 0.14)\"}, \"size\": 12}, \"y\": [0.8301847202877837, 1.302325214071752, 2.0573917884002695, 1.4351957782193332, 1.1258091626438496, 1.3495497412939288, 1.6400266228333171, 0.019838187862289886, 0.9637002306235133, 0.9286897449827411, 0.7113493452436841, 1.415146845264497, 0.564602471512656, 1.7208358924571119, 0.5778490068887948, 0.6206075374337101], \"mode\": \"markers\"}, {\"x\": [1.3848835379582067, 0.5386567521883348, 1.0388440452708056, 1.5103476315512323, 1.4973832061814303, 1.6490185647416427, 1.903233512325577, 0.5468896975316959, 1.9034880299788597, 1.0597095967790369, 1.0180912320415891, 1.3279386148652175, 0.4388671722657697, -1.445657203716258, 0.2951858350825798, 1.8528951297472203], \"name\": \"cornus_chinensis\", \"z\": [-0.44248591595148545, -0.31514145765001095, -0.26369636843811933, -0.25746395867285465, -0.39496091548832657, -0.338655047972324, -0.6100536860596977, -0.3820643894513806, -0.23570110963489338, -0.27982761698410175, -0.5769552334553076, -0.41947748698762655, -0.15421968851381107, -0.31568835647689636, -0.29001288135140474, -0.16654710464251274], \"type\": \"scatter3d\", \"marker\": {\"opacity\": 0.8, \"line\": {\"width\": 0.5, \"color\": \"rgba(217, 217, 217, 0.14)\"}, \"size\": 12}, \"y\": [2.0629787229962497, 1.543588826080897, 1.5565154229102975, 1.864916292204958, 1.7873889829093128, 2.1110115447239686, 2.453119358682252, 1.5030826258881733, 1.7006699851741551, 1.5460419257207765, 2.1544177950211294, 1.9390092774865346, 1.1442603712814758, 0.40133154909898006, 1.2536359197552045, 1.8446613871021744], \"mode\": \"markers\"}, {\"x\": [-1.8402707125410007, -0.684030662663641, -1.773313964055827, -1.1881939381667093, 0.07892138764299274, -0.06702143874503183, -1.622585544971655, -1.0293150774121647, 0.13286613365310757, -0.9166047673278356, -1.2936229224326177, -0.12363287013349507, -0.6042141651678427, -1.4386253517069112, -0.5992530325109205, -0.9461823809787213], \"name\": \"ilex_aquifolium\", \"z\": [-0.7253957178087622, -0.4639828066742614, -0.6445274835397129, -0.5997501305477839, -0.45100792411297597, -0.5151809644135595, -0.4888722460926776, -0.5473971221244829, -0.5251464080700944, -0.49522555049703004, -0.5132509448297619, -0.636340331506317, -0.5683585994115046, -0.5417013947912869, -0.4879333108342473, -0.5040347231413915], \"type\": \"scatter3d\", \"marker\": {\"opacity\": 0.8, \"line\": {\"width\": 0.5, \"color\": \"rgba(217, 217, 217, 0.14)\"}, \"size\": 12}, \"y\": [0.3703235035104464, 1.050970685860914, 0.8603919765690832, 0.7045337566349752, 1.2946693188131992, 1.1813437899806274, 0.4330016385229495, 1.0534020153092678, 1.1610726559379965, 0.6511794196005399, 0.820790207466221, 1.0061100136892196, 1.059653998915075, 0.631211153188108, 0.6613151130139057, 0.869095547973522], \"mode\": \"markers\"}, {\"x\": [6.394433983423748, 5.601028978825276, 2.1898976484142336, 4.197272606690051, 2.6355441816907392, 2.403954186239299, 5.490794212278024, 4.673031115921364, 5.702265306347128, 3.8167430015236343, 7.294440467144483, 5.845162229600436, 5.351458457071672, 2.6889064115769648, 2.1065526993310044, 2.4707008364332506], \"name\": \"liriodendron_tulipifera\", \"z\": [-0.7103920198492577, -0.8123552338960698, -0.8264938845716248, -0.7946356792344582, -0.8841775566559462, -0.9227864486733005, -0.7737056553801642, -0.82955779201783, -0.7931763114970208, -0.7275617822510215, -0.6380135278233214, -0.7522193345011623, -0.8560906929978604, -0.8612650775025125, -0.9542333318160765, -0.7842265073442454], \"type\": \"scatter3d\", \"marker\": {\"opacity\": 0.8, \"line\": {\"width\": 0.5, \"color\": \"rgba(217, 217, 217, 0.14)\"}, \"size\": 12}, \"y\": [2.717533244996262, 2.7948949531726472, 1.5338602876767866, 2.775820108303426, 1.8319548531545737, 1.7336694442497553, 2.28149929176823, 3.2384253706271577, 2.5963109503472572, 1.9859244438708565, 3.463604653298739, 2.5731309864627767, 3.318386956620449, 1.5086434432974778, 1.1939056259709928, 1.774675624129189], \"mode\": \"markers\"}, {\"x\": [-1.2465265404185732, -1.1835946004335813, -1.0611223298677241, -1.05245215037021, -1.1648032922936056, -1.2505798905452232, -1.0333742283607719, -1.1253740775000887, -1.1065236381887416, -1.0959250749784308, -1.2111413367732078, -1.093335205163427, -1.0919509298553207, -1.13971031304298, -1.2162711128038168, -1.103398362237383], \"name\": \"lithocarpus_edulis\", \"z\": [-0.3206990223308974, -0.47411925095436896, -0.18199033933967707, -0.06074469378815952, -0.20101181821412778, -0.11339568449081053, 0.09851686418774935, -0.19832908524337656, -0.29707324068382207, -0.3007845976596147, -0.3058140542219634, -0.2627275330361052, -0.22622205026944053, -0.1960516839029664, -0.3045800013213175, -0.07514944226952558], \"type\": \"scatter3d\", \"marker\": {\"opacity\": 0.8, \"line\": {\"width\": 0.5, \"color\": \"rgba(217, 217, 217, 0.14)\"}, \"size\": 12}, \"y\": [1.0743528896836112, 0.9617159247960954, 0.6916807197210131, 0.6603952801989704, 0.8842793123955177, 1.0425653639299548, 0.5899782253011736, 0.8052140705980972, 0.796740600453412, 0.7669764181821452, 0.9830395788642547, 0.7652227067724211, 0.769328896568417, 0.836443542557226, 1.0007123982888384, 0.7478806641103846], \"mode\": \"markers\"}, {\"x\": [-1.4325411843328606, -0.7871800276684375, -1.5215688101101046, -0.7380805151068456, -0.9142499505402065, -0.38792377783591464, -0.6461598458999123, -0.8369776330998522, -1.0467281069158298, -0.8665150981520555, -1.2600773932871834, -1.1776588558346437, -0.6647690480569509, -1.4837536717645077, -1.5301716560897187, -0.25027225854632074], \"name\": \"populus_nigra\", \"z\": [-1.077728040130213, -1.0763607267712116, -1.0949787186594728, -1.0646619487470501, -1.1272405481063956, -1.0660948076269527, -1.083638068699651, -1.0911866492241895, -1.0950075589356087, -1.047405879379108, -1.1015846435656198, -1.0712662879430384, -1.087967247000607, -1.0387585382729996, -1.1275486294793602, -1.0815613009983727], \"type\": \"scatter3d\", \"marker\": {\"opacity\": 0.8, \"line\": {\"width\": 0.5, \"color\": \"rgba(217, 217, 217, 0.14)\"}, \"size\": 12}, \"y\": [-0.2075837005222586, 0.44512405997685667, 0.06720531290030557, 0.3720846963225803, 0.5878750324319703, 0.44785870400119737, 0.6366274539824684, 0.6232872223880339, 0.19036945818895545, 0.19825913513124305, 0.1462547742115935, 0.14981097327124956, 0.40286859382306817, -0.03188704636277784, -0.1692086672486145, 0.6404579740953065], \"mode\": \"markers\"}, {\"x\": [2.3632232627395062, 0.07075243501837769, -1.4416669008860716, 1.8906271169587165, -1.6939849108764378, -1.0269241667128948, -0.7640154776182361, 1.264939207131274, 0.27555984689953006, 1.5567977241985254, 0.2474390481886396, 1.7738244141474067, 0.8509645558720245, 0.13016287305157995, 0.7264075251621682, 0.967523837475188], \"name\": \"prunus_x_shmittii\", \"z\": [-0.05275956854718066, -0.0727923683137534, 0.002336698387965779, -0.15315629900378025, -0.3388197715583967, -0.27563428199605083, -0.22621648931271418, -0.06606557818755768, -0.250230633852098, -0.14114715338920938, -0.3476196871025989, -0.03241876726410571, -0.12188494845801039, -0.31134060528557195, -0.12609784574368457, -0.1909115056440529], \"type\": \"scatter3d\", \"marker\": {\"opacity\": 0.8, \"line\": {\"width\": 0.5, \"color\": \"rgba(217, 217, 217, 0.14)\"}, \"size\": 12}, \"y\": [0.9598020992268853, 0.5045807217391372, -0.22790552678779702, 1.3020135217931395, 0.2005224150986572, 0.29290874324366234, -0.017581376287128025, 0.7522327663532469, 0.6665474108748, 1.1799156555961778, 0.6345108945782132, 1.2263585443002762, 0.7538511025087127, 0.7325328227243182, 0.7192133605516242, 0.7976264418692625], \"mode\": \"markers\"}, {\"x\": [0.03102536782338612, -0.8913313734370061, -0.765460947066848, -1.27440486618248, -0.8485376822534748, -0.21425743782949702, -1.574764383864517, -0.9855772583533526, -1.478824827451721, -0.4939173406759961, -0.617235994120965, -0.7568365321563454, -0.2520834936741114, 0.5810949213310304, -0.6001037698209261, -1.8475304017656256], \"name\": \"quercus_canariensis\", \"z\": [-0.353752679716563, -1.0421380079893734, -1.147717340841985, 0.04160701707325003, 0.4950399776161175, -0.2238025520125863, 0.16822946108868467, -0.10307745973587966, 0.11977706057684165, 0.0742775927889063, 0.1921489690933289, -0.10595909483203286, -0.04456491197522264, -0.3285987100886774, 0.019443401056412155, 0.04510932748152513], \"type\": \"scatter3d\", \"marker\": {\"opacity\": 0.8, \"line\": {\"width\": 0.5, \"color\": \"rgba(217, 217, 217, 0.14)\"}, \"size\": 12}, \"y\": [1.025763511180228, 0.33024647057906237, 0.8017133922309959, 0.21645229634914698, 1.126869635231779, 1.2351536324166374, 0.3415359207002673, 0.4568525208816186, 0.6154266684955173, 0.5222011408544253, 0.7396998572922704, 0.5898280931769687, 0.8420297666391747, 1.469455894075268, 0.6754583704274012, 0.0837338951573337], \"mode\": \"markers\"}, {\"x\": [-1.2496410199933041, -1.2852245692779178, -1.305773521236207, -1.3863967543985514, -1.3854203765551625, -1.2817770268317605, -1.2703058420486018, -1.1603635834450299, -1.2239908696171167, -1.239944638142339, -1.3195236868002367, -1.2092321220350328, -1.3534635236337804, -1.3343828845481112, -1.295269156763515, -1.3201510411837465], \"name\": \"quercus_chrysolepis\", \"z\": [0.20338351144799457, -0.0017626484499359526, -0.07172079940689084, -0.10640468037377372, -0.3017555739540487, -0.13056542709481836, -0.059781693263870984, 0.17476556587837885, 0.22916372980057842, -0.1975478603574077, -0.06480442451744806, -0.1357609064891135, -0.08859309622950737, 0.09697655144351851, -0.05828577833098578, 0.10186979531414367], \"type\": \"scatter3d\", \"marker\": {\"opacity\": 0.8, \"line\": {\"width\": 0.5, \"color\": \"rgba(217, 217, 217, 0.14)\"}, \"size\": 12}, \"y\": [0.9915001500253615, 1.0887305521763457, 1.1256529285607226, 1.299879962626606, 1.3366073796141997, 1.0885479796844464, 1.0727568859590626, 0.8171059594400971, 0.9424966186652975, 1.0454664580406972, 1.1681771782286134, 0.9555687408309741, 1.2341932273067187, 1.1699333043468172, 1.127859733423222, 1.1487115369478682], \"mode\": \"markers\"}, {\"x\": [-2.261103117542395, -2.162029814309365, -2.0979688593428114, -1.2173420482793298, -2.6111878755842888, -2.0264725557622025, -2.081278976429598, -1.6991005391777585, -1.3904525827652123, -2.0541898541266446, -1.180209782784927, -2.0491492243128624, -1.657091929139946, -1.6335605810594305, -1.116594153179693, -0.3100202987611528], \"name\": \"quercus_infectoria_sub\", \"z\": [-0.03950118979280054, 0.004475584384511559, -0.173141532405846, -0.24849871404327045, -0.14427051116863737, -0.0954398566211838, -0.3158523788201467, -0.4127233571150001, -0.35888969950301297, -0.2032566795488069, -0.19865960724132353, -0.15876444157027028, -0.41310765766345575, -0.42890774799899894, -0.07757379948122774, -0.12419257577987046], \"type\": \"scatter3d\", \"marker\": {\"opacity\": 0.8, \"line\": {\"width\": 0.5, \"color\": \"rgba(217, 217, 217, 0.14)\"}, \"size\": 12}, \"y\": [-0.208157546175255, 0.2593918431390535, 0.04643413811582403, 0.39255357321339013, -0.08583842009888587, 0.1488458520599152, 0.5826385958102862, 0.33304006034937433, 0.43006439018515874, 0.29783739306802626, 0.633621162896919, 0.09393538412697713, 0.5764603874427376, 0.47826046798304633, 0.8681240137201295, 0.9163861630769309], \"mode\": \"markers\"}, {\"x\": [2.5523158835622586, 3.067444456803231, 1.005515615400128, 2.5043664102789225, 3.4301460696591812, 3.394362568061676, 1.2953240848455851, 2.3630075446329872, 0.056172052798923386, 0.8616791728638741, 1.8772288966116835, 2.1155962682728706, 1.072239055041809, 1.3409171114191785, 3.1013453233388204, 2.40921837278752], \"name\": \"quercus_nigra\", \"z\": [0.24187446615737151, 0.47336856191595145, -0.14611118266375317, 0.23807409630065765, -0.09309620381505183, 0.014881234826791025, 0.26466458691756695, -0.28163259941764257, 0.06638432900655267, -0.27292637662895064, 0.24372519711121993, 0.29712711214208465, -0.10772361443215117, 0.16474811332592368, 0.0024497181407904106, -0.025666879032763046], \"type\": \"scatter3d\", \"marker\": {\"opacity\": 0.8, \"line\": {\"width\": 0.5, \"color\": \"rgba(217, 217, 217, 0.14)\"}, \"size\": 12}, \"y\": [0.49836422098051025, -1.002823503496731, 0.26524536942337945, 1.507735124034447, 1.395959683016921, 1.1176338468862543, 0.18601613585969018, 0.5279312878009745, -0.6947699256879357, -0.14986694627310548, 0.3406774638231649, 0.6079737790901518, 1.397916395811572, 0.6265389521682438, 1.7207469895535583, 1.9143733127506068], \"mode\": \"markers\"}, {\"x\": [4.102922117777562, 2.731803765600881, 3.4102255035217084, 4.744519018807717, 3.564232455394353, 5.367163936050195, 3.372173185512074, 3.3229884417791657, 3.9408143901713384, 2.564850383540802, 1.5291321942865712, 4.415833874302809, 1.892900302209115, 2.6298029516878385, 3.7385967984516686, 2.094565704424718], \"name\": \"quercus_palustris\", \"z\": [0.21260245603787298, 0.21002089034480262, 0.38700585705742513, 0.3355922208813872, 0.3335469250248325, 0.845667891634162, 0.11223406001805122, 0.23483450066687742, 0.36551673318724914, 0.6598907417815106, -0.02506666561801303, 0.28228948573414137, -0.22229187674026654, 0.11191696570201051, 0.02443449850428087, 0.3585723454244233], \"type\": \"scatter3d\", \"marker\": {\"opacity\": 0.8, \"line\": {\"width\": 0.5, \"color\": \"rgba(217, 217, 217, 0.14)\"}, \"size\": 12}, \"y\": [-3.987436797066, -4.502001477401962, -3.802001514617774, -4.272703021812884, -5.179115206767153, -4.853885672490231, -3.85180799884084, -4.021392733720929, -4.777722197860919, -5.644545194015086, -4.801609281293959, -3.913246010645708, -4.558088258056235, -4.195628764428398, -3.9508125152636646, -5.205511683932512], \"mode\": \"markers\"}, {\"x\": [-0.9403462692007972, -1.048034207525407, -0.8136301691030124, -1.1127173253187137, -0.813191076496683, -0.9400940357794643, -0.7795587619782445, -1.2050670306883253, -1.137690524734569, -0.9218805258666182, -1.0792396280528829, -0.9588949165045229, -1.0660494695831906, -0.9822821316775118, -0.8861429387904982, -1.0344937313549156], \"name\": \"quercus_pontica\", \"z\": [-0.34621570156614156, -0.24183222626080217, -0.2523307348430964, -0.39327608052442153, -0.2925626726393236, -0.42909238735544486, -0.1536457574139292, -0.44219826783378957, -0.4026455499575858, -0.31105103423931885, -0.3782965377167867, -0.13982546911290028, -0.29936286238122406, -0.08507878018200306, -0.38955385078176996, -0.10254508940551624], \"type\": \"scatter3d\", \"marker\": {\"opacity\": 0.8, \"line\": {\"width\": 0.5, \"color\": \"rgba(217, 217, 217, 0.14)\"}, \"size\": 12}, \"y\": [0.3828811004262067, 0.5671753918154837, 0.12032556564723215, 0.7450926840943404, 0.11342299472289909, 0.3937370814590741, 0.01478463952335117, 0.9202839427975896, 0.844986499650087, 0.2821853521060181, 0.6839939473366353, 0.3214618605510908, 0.6130461487876661, 0.4103528035859916, 0.26501989031707496, 0.5606436825682146], \"mode\": \"markers\"}, {\"x\": [2.930528750026182, 4.135990563491734, 2.17736967099223, 1.6638726222896902, 1.1962247945779063, 3.8227590540786265, 3.1255803454911617, 3.601883590633826, 5.244461774335591, 4.009280857977535, 2.5275034360431845, 2.753066667899631, 2.6590401476922683, 1.6522864497790952, 3.6516693000890377, 4.016358561039794], \"name\": \"quercus_texana\", \"z\": [-0.13785296462590996, 0.05655775218801008, -0.22338264992100146, -0.04249507167627057, -0.2438549783166573, -0.04448571275145571, -0.12217708277130922, -0.14442948198080902, 0.04716739870702254, -0.05107862533735097, -0.09885337291469246, -0.09138935050983912, -0.09727071017474287, -0.21516390801602883, -0.0855185825575866, -0.04241674561205708], \"type\": \"scatter3d\", \"marker\": {\"opacity\": 0.8, \"line\": {\"width\": 0.5, \"color\": \"rgba(217, 217, 217, 0.14)\"}, \"size\": 12}, \"y\": [-2.5909531292690358, -2.1399602087711123, -2.7834926321220137, -2.4922717217722057, -2.1310760630291945, -1.9538457024621567, -2.1909009973853277, -2.093186096761326, -2.4365239989078207, -1.639770840443322, -2.537212662739209, -2.2909616670564854, -1.9674470042785503, -2.5707679307530715, -2.6116658126860894, -1.9390708561167602], \"mode\": \"markers\"}, {\"x\": [-0.7253527353145203, -0.8330657818033576, -0.8263607076389721, -0.6866184501136154, -1.005198105243752, -1.012277491500198, -0.8767139833805508, -0.8156098320545916, -1.063169852753205, -0.9567383312213875, -1.0137961435679772, -0.8164167265165931, -1.1546227270030034, -0.9315849959851833, -0.7980468001818607, -0.8358537169121122], \"name\": \"quercus_x_turneri\", \"z\": [0.006341490665024875, 0.17113304269610224, 0.21482109300917931, -0.003186533522047886, -0.26291799738134836, 0.05258504652232988, -0.03714059905234127, -0.22669662003353958, 0.05851385931487659, 0.03871089820629603, -0.21951405139637287, 0.21518784970873148, 0.06349318671967533, 0.06800498904527032, 0.24159925062617577, 0.2214396332909371], \"type\": \"scatter3d\", \"marker\": {\"opacity\": 0.8, \"line\": {\"width\": 0.5, \"color\": \"rgba(217, 217, 217, 0.14)\"}, \"size\": 12}, \"y\": [-0.05957909978651266, 0.12801491670146212, 0.07342502042773445, -0.13828131559562282, 0.5693489800156769, 0.552054531735716, 0.3024881462347304, 0.16667547297562674, 0.6156334394894402, 0.382429777462177, 0.5705997684494584, 0.15478120560233827, 0.790026021576577, 0.3194715234744626, 0.03706016666405515, 0.18903115528352682], \"mode\": \"markers\"}, {\"x\": [-2.572631938844647, -2.3896746480159305, -3.138159512382058, -2.5541085933192877, -3.095744338973102, -2.8273558628726088, -2.216981470339976, -2.9628082314819535, -2.4264714911904726, -2.3339472001146975, -2.5293604161803227, -2.4015900494533353, -2.6081150489705642, -2.456263555044083, -2.416807318405147, -2.740819729709081], \"name\": \"salix_intergra\", \"z\": [0.26692312094748205, 0.2999505955628383, 0.2647691816254529, 0.22723301625541661, 0.4465995989921251, 0.3150769158884709, -0.04546045299331674, 0.2580227625542883, 0.30964528862035895, -0.17803561899358808, 0.08222678726378013, 0.0985492735741725, -0.084677615578052, 0.21524165029716882, 0.2941788130465554, 0.18064431732671896], \"type\": \"scatter3d\", \"marker\": {\"opacity\": 0.8, \"line\": {\"width\": 0.5, \"color\": \"rgba(217, 217, 217, 0.14)\"}, \"size\": 12}, \"y\": [1.0558018355449894, 0.7356444158806594, 0.29786460492771755, 0.5428736568265794, 0.3003428624296683, 0.3258387974033782, 1.087964146620909, 0.9642512756627071, 0.5347039254153594, 0.5437677095339262, 0.8893374753885273, 0.803848257954523, 0.5458730259606221, 0.3685822946849611, 1.1673274877906408, 0.7583607272871769], \"mode\": \"markers\"}], {\"yaxis\": {\"ticklen\": 5, \"gridwidth\": 2, \"title\": \"Principal Component 2\"}, \"showlegend\": false, \"xaxis\": {\"ticklen\": 5, \"zeroline\": false, \"gridwidth\": 2, \"title\": \"Principal Component 1\"}, \"title\": \"Leaf Species\", \"hovermode\": \"closest\"}, {\"linkText\": \"Export to plot.ly\", \"showLink\": true})});</script>"
      ]
     },
     "metadata": {},
     "output_type": "display_data"
    }
   ],
   "source": [
    "traces = []\n",
    "\n",
    "for name in numpy.unique(y):\n",
    "    trace = go.Scatter3d(\n",
    "        x=Y[y==name,0],\n",
    "        y=Y[y==name,1],\n",
    "        z=Y[y==name,2],\n",
    "        mode=\"markers\",\n",
    "        name=name,\n",
    "        marker=go.Marker(\n",
    "            size=12,\n",
    "            line=go.Line(\n",
    "                color=\"rgba(217, 217, 217, 0.14)\",\n",
    "                width=0.5),\n",
    "            opacity=0.8))\n",
    "    traces.append(trace)\n",
    "   \n",
    "layout = go.Layout(\n",
    "    title= \"Leaf Species\",\n",
    "    hovermode= \"closest\",\n",
    "    xaxis= dict(\n",
    "        title= \"Principal Component 1\",\n",
    "        ticklen= 5,\n",
    "        zeroline= False,\n",
    "        gridwidth= 2,\n",
    "    ),\n",
    "    yaxis=dict(\n",
    "        title= \"Principal Component 2\",\n",
    "        ticklen= 5,\n",
    "        gridwidth= 2,\n",
    "    ),\n",
    "    showlegend= False\n",
    ")\n",
    "\n",
    "fig = go.Figure(data=go.Data(traces), layout=layout)\n",
    "po.iplot(fig)"
   ]
  },
  {
   "cell_type": "markdown",
   "metadata": {},
   "source": [
    "## 6. Gradient Boosting Classifier"
   ]
  },
  {
   "cell_type": "markdown",
   "metadata": {},
   "source": [
    "TODO: Implement Gradient Boosting Classifier"
   ]
  },
  {
   "cell_type": "markdown",
   "metadata": {},
   "source": [
    "## 7. Results"
   ]
  },
  {
   "cell_type": "markdown",
   "metadata": {},
   "source": [
    "TODO: present results (accuracy, confusion matrix, and so on)"
   ]
  },
  {
   "cell_type": "markdown",
   "metadata": {},
   "source": [
    "## 8. Concluding remarks"
   ]
  },
  {
   "cell_type": "markdown",
   "metadata": {},
   "source": [
    "TODO: Present some conclusions about this analysis"
   ]
  }
 ],
 "metadata": {
  "kernelspec": {
   "display_name": "Python 3",
   "language": "python",
   "name": "python3"
  },
  "language_info": {
   "codemirror_mode": {
    "name": "ipython",
    "version": 3
   },
   "file_extension": ".py",
   "mimetype": "text/x-python",
   "name": "python",
   "nbconvert_exporter": "python",
   "pygments_lexer": "ipython3",
   "version": "3.5.2"
  }
 },
 "nbformat": 4,
 "nbformat_minor": 2
}
