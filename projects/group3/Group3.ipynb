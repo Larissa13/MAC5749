{
 "cells": [
  {
   "cell_type": "markdown",
   "metadata": {},
   "source": [
    "# Leaf classification with Gradient Boosting\n",
    "#### Victor Mayrink, Eduardo Lopes and Renan Jacomassi"
   ]
  },
  {
   "cell_type": "markdown",
   "metadata": {},
   "source": [
    "This notebook presents a practical overview about shape analysis and classification.\n",
    "\n",
    "The dataset are available at [UCI repository](https://archive.ics.uci.edu/ml/datasets/leaf).\n",
    "\n",
    "This notebook was splitted in the following sections:\n",
    "\n",
    "1. Setup workspace\n",
    "2. Load raw data\n",
    "3. Image normalization\n",
    "4. Feature extraction\n",
    "5. Principal component analysis\n",
    "6. Gradient boosting classifier\n",
    "7. Results\n",
    "8. Concluding remarks\n",
    "\n",
    "Video: https://www.youtube.com/watch?v=ICvLoa5zC8Y&feature=youtu.be"
   ]
  },
  {
   "cell_type": "markdown",
   "metadata": {},
   "source": [
    "## 1. Setup workspace"
   ]
  },
  {
   "cell_type": "markdown",
   "metadata": {},
   "source": [
    "Import python packages and set global options:"
   ]
  },
  {
   "cell_type": "code",
   "execution_count": 1,
   "metadata": {},
   "outputs": [
    {
     "data": {
      "text/html": [
       "<script>requirejs.config({paths: { 'plotly': ['https://cdn.plot.ly/plotly-latest.min']},});if(!window.Plotly) {{require(['plotly'],function(plotly) {window.Plotly=plotly;});}}</script>"
      ],
      "text/vnd.plotly.v1+html": [
       "<script>requirejs.config({paths: { 'plotly': ['https://cdn.plot.ly/plotly-latest.min']},});if(!window.Plotly) {{require(['plotly'],function(plotly) {window.Plotly=plotly;});}}</script>"
      ]
     },
     "metadata": {},
     "output_type": "display_data"
    }
   ],
   "source": [
    "#Some useful packages\n",
    "import pathlib\n",
    "import pandas\n",
    "import random\n",
    "import scipy\n",
    "import numpy\n",
    "import os\n",
    "import re\n",
    "import math\n",
    "\n",
    "#To read image files\n",
    "import scipy.ndimage as scimg\n",
    "import scipy.spatial as spatial\n",
    "\n",
    "#OpenCV image processing package\n",
    "import cv2\n",
    "\n",
    "#Plot tools\n",
    "import matplotlib as mpl\n",
    "import matplotlib.pyplot as plt\n",
    "import plotly.graph_objs as go\n",
    "import plotly.offline as po\n",
    "\n",
    "#Scikit learn\n",
    "from sklearn.preprocessing import StandardScaler\n",
    "from sklearn.metrics import accuracy_score\n",
    "from sklearn.metrics import confusion_matrix\n",
    "\n",
    "#Gradient Boosting Classifier\n",
    "import xgboost as xgb\n",
    "\n",
    "#IPython Display \n",
    "from IPython.display import display\n",
    "\n",
    "#Global Settings\n",
    "random.seed(5749)\n",
    "%matplotlib inline\n",
    "mpl.rcParams['figure.figsize'] = (14,7)\n",
    "po.init_notebook_mode(connected=True)"
   ]
  },
  {
   "cell_type": "code",
   "execution_count": 2,
   "metadata": {},
   "outputs": [
    {
     "data": {
      "application/javascript": [
       "IPython.OutputArea.prototype._should_scroll = function(lines) {\n",
       "    return false;\n",
       "}"
      ],
      "text/plain": [
       "<IPython.core.display.Javascript object>"
      ]
     },
     "metadata": {},
     "output_type": "display_data"
    }
   ],
   "source": [
    "%%javascript\n",
    "IPython.OutputArea.prototype._should_scroll = function(lines) {\n",
    "    return false;\n",
    "}"
   ]
  },
  {
   "cell_type": "markdown",
   "metadata": {},
   "source": [
    "## 2. Load the raw images"
   ]
  },
  {
   "cell_type": "markdown",
   "metadata": {},
   "source": [
    "The raw images from the [UCI repository](https://archive.ics.uci.edu/ml/datasets/leaf) were added into the local folder: `./data/raw-images/`.\n",
    "\n",
    "Here we scan all subdirectories and store each image in a numpy array:"
   ]
  },
  {
   "cell_type": "code",
   "execution_count": 3,
   "metadata": {
    "collapsed": true
   },
   "outputs": [],
   "source": [
    "#Raw data path\n",
    "folder = \"./data/raw-images/\"\n",
    "\n",
    "#Check subdirectories\n",
    "subdirectories = list(map(str, [sb for sb in  pathlib.Path(folder).iterdir() if sb.is_dir()]))\n",
    "subdirectories.sort()\n",
    "\n",
    "#Load all images in each subdirectory\n",
    "images = []\n",
    "cat_id = 1\n",
    "id = 1\n",
    "for sb in subdirectories:\n",
    "    filenames = os.listdir(sb)\n",
    "    filenames = [fname for fname in filenames if re.match(\".*.jpg\", fname)]\n",
    "    filenames.sort()\n",
    "    classname = os.path.basename(sb).lower()\n",
    "    for fname in filenames:\n",
    "        images.append({\n",
    "                \"id\": id,\n",
    "                \"species_name\": classname,\n",
    "                \"image\": scimg.imread(sb + \"/\" + fname)})\n",
    "        id += 1\n",
    "    cat_id += 1\n",
    "\n",
    "#Store labels for each image id \n",
    "labeltable = pandas.DataFrame(images, columns = [\"id\", \"species_name\"])"
   ]
  },
  {
   "cell_type": "markdown",
   "metadata": {},
   "source": [
    "### 2.1 Example Plot"
   ]
  },
  {
   "cell_type": "code",
   "execution_count": 4,
   "metadata": {},
   "outputs": [
    {
     "data": {
      "image/png": "[encoded data removed]",
      "text/plain": [
       "<matplotlib.figure.Figure at 0x7fd94d61c6a0>"
      ]
     },
     "metadata": {},
     "output_type": "display_data"
    }
   ],
   "source": [
    "#Get a sample of the first 20 leaf species\n",
    "samples = list(range(0, 20*16, 16))\n",
    "\n",
    "#Plot each leaf sample\n",
    "mpl.rcParams['figure.figsize'] = (17,14)\n",
    "plt.figure()\n",
    "for i in range(20):\n",
    "    plt.subplot(5,4,i+1)\n",
    "    plt.title(images[samples[i]][\"species_name\"].replace(\"_\", \" \"))\n",
    "    fig = plt.imshow(images[samples[i]][\"image\"], cmap = \"gray\")\n",
    "    fig.axes.get_xaxis().set_visible(False)\n",
    "    fig.axes.get_yaxis().set_visible(False)\n",
    "\n",
    "plt.show()\n",
    "mpl.rcParams['figure.figsize'] = (14,7)"
   ]
  },
  {
   "cell_type": "markdown",
   "metadata": {},
   "source": [
    "## 3. Image normalization and pre-processing"
   ]
  },
  {
   "cell_type": "markdown",
   "metadata": {},
   "source": [
    "The raw images have different pixel sizes, which can be a problem for some features (which are sensible to shifting) and classifiers (which requires fixed input size, e.g. deep neural networks).\n",
    "\n",
    "In this section we insert all leaf images in a black background in such a way that all images have the same pixel size and the center of mass of each leaf matches the center of the image."
   ]
  },
  {
   "cell_type": "markdown",
   "metadata": {},
   "source": [
    "### 3.1 Find a suitable image size"
   ]
  },
  {
   "cell_type": "code",
   "execution_count": 5,
   "metadata": {
    "collapsed": true
   },
   "outputs": [],
   "source": [
    "#Center of mass of each leaf\n",
    "mass_centers = [tuple(map(int, scimg.measurements.center_of_mass(img[\"image\"]))) for img in images]\n",
    "#Shape of each raw image\n",
    "im_shapes = [img[\"image\"].shape for img in images]\n",
    "\n",
    "#Find out a suitable image size to normalize images\n",
    "max_height = numpy.array([2*max(im_shapes[i][0]-mass_centers[i][0], mass_centers[i][0]) for i in range(len(im_shapes))]).max()\n",
    "max_width = numpy.array([2*max(im_shapes[i][1]-mass_centers[i][1], mass_centers[i][1]) for i in range(len(im_shapes))]).max()\n",
    "max_width  = round(max_width+5, -1) + 1\n",
    "max_height = round(max_height+5, -1) + 1\n",
    "\n",
    "#Shape of normalized images\n",
    "shape = (max_height, max_width)\n",
    "\n",
    "#Center position of images\n",
    "center = (int(max_height/2), int(max_width/2))"
   ]
  },
  {
   "cell_type": "markdown",
   "metadata": {},
   "source": [
    "### 3.2 Save all images with the same size"
   ]
  },
  {
   "cell_type": "markdown",
   "metadata": {},
   "source": [
    "Center all images in a black background with the size computed previously:"
   ]
  },
  {
   "cell_type": "code",
   "execution_count": 6,
   "metadata": {
    "collapsed": true
   },
   "outputs": [],
   "source": [
    "#Destination folder of normalized images\n",
    "folder = \"./data/normalized-images/\"\n",
    "if not os.path.exists(folder):\n",
    "    os.makedirs(folder)\n",
    "\n",
    "#Save images after normalization\n",
    "for idx, img in enumerate(images):\n",
    "    norm_image = numpy.zeros(shape)\n",
    "    img_center = scimg.measurements.center_of_mass(img[\"image\"])\n",
    "    img_center = tuple([int(round(c)) for c in img_center])\n",
    "    x0 = center[0]-img_center[0]\n",
    "    y0 = center[1]-img_center[1]\n",
    "    x1 = x0 + img[\"image\"].shape[0]\n",
    "    y1 = y0 + img[\"image\"].shape[1]\n",
    "    norm_image[x0:x1, y0:y1] = img[\"image\"]\n",
    "    scipy.misc.imsave(folder + str(img[\"id\"]).zfill(4) + \"_\" + img[\"species_name\"] + \".jpg\", norm_image)\n",
    "\n",
    "#Delete images to free memory\n",
    "del images"
   ]
  },
  {
   "cell_type": "markdown",
   "metadata": {},
   "source": [
    "### 3.3 Example Plot"
   ]
  },
  {
   "cell_type": "markdown",
   "metadata": {},
   "source": [
    "Plot a sample of images after normalization:"
   ]
  },
  {
   "cell_type": "code",
   "execution_count": 7,
   "metadata": {},
   "outputs": [
    {
     "data": {
      "image/png": "[encoded data removed]",
      "text/plain": [
       "<matplotlib.figure.Figure at 0x7fd9925d0828>"
      ]
     },
     "metadata": {},
     "output_type": "display_data"
    }
   ],
   "source": [
    "#Get normalized image filenames\n",
    "filenames = os.listdir(folder)\n",
    "filenames = numpy.array([fname for fname in filenames if re.match(\".*.jpg\", fname)])\n",
    "filenames.sort()\n",
    "\n",
    "#Plot a sample of 20 leaf species\n",
    "samples = filenames[[i for i in range(0, 20*16, 16)]]\n",
    "mpl.rcParams['figure.figsize'] = (17,14)\n",
    "plt.figure()\n",
    "for i in range(20):\n",
    "    plt.subplot(5,4,i+1)\n",
    "    plt.title(samples[i][5:-4].replace(\"_\", \" \"))\n",
    "    fig = plt.imshow(cv2.cvtColor(scimg.imread(folder + samples[i]),cv2.COLOR_GRAY2RGB))\n",
    "    fig.axes.get_xaxis().set_visible(False)\n",
    "    fig.axes.get_yaxis().set_visible(False)\n",
    "\n",
    "plt.show()\n",
    "mpl.rcParams['figure.figsize'] = (14,7)"
   ]
  },
  {
   "cell_type": "markdown",
   "metadata": {},
   "source": [
    "## 4. Feature Engineering"
   ]
  },
  {
   "cell_type": "markdown",
   "metadata": {},
   "source": [
    "### 4.1 Choosing features"
   ]
  },
  {
   "cell_type": "markdown",
   "metadata": {},
   "source": [
    "#### 4.1.1 Area"
   ]
  },
  {
   "cell_type": "markdown",
   "metadata": {},
   "source": [
    "The plot below shows two distinct leaf species: *Acer mono* (left) and *Liriodendron tulipifera* (right).\n",
    "\n",
    "Obviously, the leaf area can be a very useful feature for classification purposes."
   ]
  },
  {
   "cell_type": "code",
   "execution_count": 8,
   "metadata": {},
   "outputs": [
    {
     "name": "stdout",
     "output_type": "stream",
     "text": [
      "Area:\n",
      "0049_acer_mono: 47263.5\n",
      "0593_liriodendron_tulipifera: 507760.0\n"
     ]
    },
    {
     "data": {
      "image/png": "[encoded data removed]",
      "text/plain": [
       "<matplotlib.figure.Figure at 0x7fd94d12ee10>"
      ]
     },
     "metadata": {},
     "output_type": "display_data"
    }
   ],
   "source": [
    "plt.figure()\n",
    "plt.subplot(1,2,1)\n",
    "plt.imshow(cv2.cvtColor(scimg.imread(folder + \"0049_acer_mono.jpg\"),cv2.COLOR_GRAY2RGB))\n",
    "plt.subplot(1,2,2)\n",
    "plt.imshow(cv2.cvtColor(scimg.imread(folder + \"0593_liriodendron_tulipifera.jpg\"),cv2.COLOR_GRAY2RGB))\n",
    "plt.show\n",
    "\n",
    "ret, im1 = cv2.threshold(scimg.imread(folder + \"0049_acer_mono.jpg\"), 127, 255, 0)\n",
    "ret, im2 = cv2.threshold(scimg.imread(folder + \"0593_liriodendron_tulipifera.jpg\"), 127, 255, 0)\n",
    "\n",
    "im, contours1, hierarchy = cv2.findContours(im1, cv2.RETR_TREE, cv2.CHAIN_APPROX_SIMPLE)\n",
    "im, contours2, hierarchy = cv2.findContours(im2, cv2.RETR_TREE, cv2.CHAIN_APPROX_SIMPLE)\n",
    "\n",
    "contour1 = contours1[numpy.array(list(map(len, contours1))).argmax()]\n",
    "contour2 = contours2[numpy.array(list(map(len, contours2))).argmax()]\n",
    "\n",
    "print(\"Area:\")\n",
    "print(\"0049_acer_mono: \" + str(cv2.contourArea(contour1)))\n",
    "print(\"0593_liriodendron_tulipifera: \" + str(cv2.contourArea(contour2)))"
   ]
  },
  {
   "cell_type": "markdown",
   "metadata": {},
   "source": [
    "#### 4.1.2 Perimeter & Perimeter-Area ratio"
   ]
  },
  {
   "cell_type": "markdown",
   "metadata": {},
   "source": [
    "Some leaf species can have a very similar area, but pretty different perimeters.\n",
    "\n",
    "Let's take a look at two samples of *Castanea sativa* and *Quercus palustris*, for example:"
   ]
  },
  {
   "cell_type": "code",
   "execution_count": 9,
   "metadata": {
    "scrolled": true
   },
   "outputs": [
    {
     "data": {
      "image/png": "[encoded data removed]",
      "text/plain": [
       "<matplotlib.figure.Figure at 0x7fd94caa93c8>"
      ]
     },
     "metadata": {},
     "output_type": "display_data"
    },
    {
     "name": "stdout",
     "output_type": "stream",
     "text": [
      "Area:\n",
      "0173_castanea_sativa: 389177.5\n",
      "0214_quercus_palustris: 199065.5\n",
      "Perimeter:\n",
      "0173_castanea_sativa: 5097.871601343155\n",
      "0214_quercus_palustris: 6080.0179134607315\n",
      "Perimeter-Area ratio:\n",
      "0173_castanea_sativa: 0.013099091292130596\n",
      "0214_quercus_palustris: 0.030542800804060632\n"
     ]
    }
   ],
   "source": [
    "ret, im1 = cv2.threshold(scimg.imread(folder + \"0336_castanea_sativa.jpg\"), 127, 255, 0)\n",
    "ret, im2 = cv2.threshold(scimg.imread(folder + \"1166_quercus_palustris.jpg\"), 127, 255, 0)\n",
    "\n",
    "im, contours1, hierarchy = cv2.findContours(im1, cv2.RETR_TREE, cv2.CHAIN_APPROX_SIMPLE)\n",
    "im, contours2, hierarchy = cv2.findContours(im2, cv2.RETR_TREE, cv2.CHAIN_APPROX_SIMPLE)\n",
    "\n",
    "contour1 = contours1[numpy.array(list(map(len, contours1))).argmax()]\n",
    "contour2 = contours2[numpy.array(list(map(len, contours2))).argmax()]\n",
    "\n",
    "im1 = cv2.cvtColor(im1, cv2.COLOR_GRAY2RGB)\n",
    "im2 = cv2.cvtColor(im2, cv2.COLOR_GRAY2RGB)\n",
    "\n",
    "im1 = cv2.drawContours(im1, contours1, 0, (255,0,0), 10)\n",
    "im2 = cv2.drawContours(im2, contours2, 0, (255,0,0), 10)\n",
    "\n",
    "plt.figure()\n",
    "plt.subplot(1,2,1)\n",
    "plt.imshow(im1)\n",
    "plt.subplot(1,2,2)\n",
    "plt.imshow(im2)\n",
    "plt.show()\n",
    "\n",
    "print(\"Area:\")\n",
    "print(\"0173_castanea_sativa: \" + str(cv2.contourArea(contour1)))\n",
    "print(\"0214_quercus_palustris: \" + str(cv2.contourArea(contour2)))\n",
    "print(\"Perimeter:\")\n",
    "print(\"0173_castanea_sativa: \" + str(cv2.arcLength(contour1,True)))\n",
    "print(\"0214_quercus_palustris: \" + str(cv2.arcLength(contour2,True)))\n",
    "print(\"Perimeter-Area ratio:\")\n",
    "print(\"0173_castanea_sativa: \" + str(cv2.arcLength(contour1,True)/cv2.contourArea(contour1)))\n",
    "print(\"0214_quercus_palustris: \" + str(cv2.arcLength(contour2,True)/cv2.contourArea(contour2)))"
   ]
  },
  {
   "cell_type": "markdown",
   "metadata": {},
   "source": [
    "#### 4.1.3 Extent"
   ]
  },
  {
   "cell_type": "markdown",
   "metadata": {},
   "source": [
    "Extent is the ratio of contour area to bounding rectangle area:"
   ]
  },
  {
   "cell_type": "markdown",
   "metadata": {},
   "source": [
    "$Extent = \\dfrac{Object Area}{Bounding Rectangle Area}$"
   ]
  },
  {
   "cell_type": "code",
   "execution_count": 10,
   "metadata": {},
   "outputs": [
    {
     "data": {
      "image/png": "[encoded data removed]",
      "text/plain": [
       "<matplotlib.figure.Figure at 0x7fd94d191da0>"
      ]
     },
     "metadata": {},
     "output_type": "display_data"
    },
    {
     "name": "stdout",
     "output_type": "stream",
     "text": [
      "Extent:\n",
      "0173_castanea_sativa: 0.6556131080975559\n",
      "0214_quercus_palustris: 0.3374870440531472\n"
     ]
    }
   ],
   "source": [
    "ret, im1 = cv2.threshold(scimg.imread(folder + \"0241_alnus_viridis.jpg\"), 127, 255, 0)\n",
    "ret, im2 = cv2.threshold(scimg.imread(folder + \"0083_acer_palmatum.jpg\"), 127, 255, 0)\n",
    "\n",
    "im, contours1, hierarchy = cv2.findContours(im1, cv2.RETR_TREE, cv2.CHAIN_APPROX_SIMPLE)\n",
    "im, contours2, hierarchy = cv2.findContours(im2, cv2.RETR_TREE, cv2.CHAIN_APPROX_SIMPLE)\n",
    "\n",
    "contour1 = contours1[numpy.array(list(map(len, contours1))).argmax()]\n",
    "contour2 = contours2[numpy.array(list(map(len, contours2))).argmax()]\n",
    "\n",
    "x1,y1,w1,h1 = cv2.boundingRect(contour1)\n",
    "x2,y2,w2,h2 = cv2.boundingRect(contour2)\n",
    "\n",
    "im1 = cv2.cvtColor(im1, cv2.COLOR_GRAY2RGB)\n",
    "im2 = cv2.cvtColor(im2, cv2.COLOR_GRAY2RGB)\n",
    "\n",
    "im1 = cv2.rectangle(im1,(x1,y1),(x1+w1,y1+h1),(255,0,0), 10)\n",
    "im2 = cv2.rectangle(im2,(x2,y2),(x2+w2,y2+h2),(255,0,0), 10)\n",
    "\n",
    "plt.figure()\n",
    "plt.subplot(1,2,1)\n",
    "plt.imshow(im1)\n",
    "plt.subplot(1,2,2)\n",
    "plt.imshow(im2)\n",
    "plt.show()\n",
    "\n",
    "print(\"Extent:\")\n",
    "print(\"0173_castanea_sativa: \" + str(cv2.contourArea(contour1)/(w1*h1)))\n",
    "print(\"0214_quercus_palustris: \" + str(cv2.contourArea(contour2)/(w2*h2)))"
   ]
  },
  {
   "cell_type": "markdown",
   "metadata": {},
   "source": [
    "#### 4.1.4 Slimness"
   ]
  },
  {
   "cell_type": "markdown",
   "metadata": {},
   "source": [
    "Using the width and height from the minimum bounding rectangle, it is possible to define how elongated the image shape is."
   ]
  },
  {
   "cell_type": "code",
   "execution_count": 11,
   "metadata": {},
   "outputs": [
    {
     "data": {
      "image/png": "[encoded data removed]",
      "text/plain": [
       "<matplotlib.figure.Figure at 0x7fd94d1fd400>"
      ]
     },
     "metadata": {},
     "output_type": "display_data"
    },
    {
     "name": "stdout",
     "output_type": "stream",
     "text": [
      "Slimness:\n",
      "1209_quercus_pontica: 1.92611607842\n",
      "0262_arundinaria_simonii: 11.7382933805\n"
     ]
    }
   ],
   "source": [
    "ret, im1 = cv2.threshold(scimg.imread(folder + \"1209_quercus_pontica.jpg\"), 127, 255, 0)\n",
    "ret, im2 = cv2.threshold(scimg.imread(folder + \"0262_arundinaria_simonii.jpg\"), 127, 255, 0)\n",
    "\n",
    "im, contours1, hierarchy = cv2.findContours(im1, cv2.RETR_TREE, cv2.CHAIN_APPROX_SIMPLE)\n",
    "im, contours2, hierarchy = cv2.findContours(im2, cv2.RETR_TREE, cv2.CHAIN_APPROX_SIMPLE)\n",
    "\n",
    "contour1 = contours1[numpy.array(list(map(len, contours1))).argmax()]\n",
    "contour2 = contours2[numpy.array(list(map(len, contours2))).argmax()]\n",
    "\n",
    "rect1 = cv2.minAreaRect(contour1)\n",
    "rect2 = cv2.minAreaRect(contour2)\n",
    "\n",
    "box1 = numpy.int0(cv2.boxPoints(rect1))\n",
    "box2 = numpy.int0(cv2.boxPoints(rect2))\n",
    "\n",
    "im1 = cv2.cvtColor(im1, cv2.COLOR_GRAY2RGB)\n",
    "im2 = cv2.cvtColor(im2, cv2.COLOR_GRAY2RGB)\n",
    "\n",
    "im1 = cv2.drawContours(im1, [box1], 0, (255,0,0), 10)\n",
    "im2 = cv2.drawContours(im2, [box2], 0, (255,0,0), 10)\n",
    "\n",
    "plt.figure()\n",
    "plt.subplot(1,2,1)\n",
    "plt.imshow(im1)\n",
    "plt.subplot(1,2,2)\n",
    "plt.imshow(im2)\n",
    "plt.show()\n",
    "\n",
    "d_box1_1 = spatial.distance.euclidean(box1[0],box1[1])\n",
    "d_box1_2 = spatial.distance.euclidean(box1[1],box1[2])\n",
    "\n",
    "d_box2_1 = spatial.distance.euclidean(box2[0],box2[1])\n",
    "d_box2_2 = spatial.distance.euclidean(box2[1],box2[2])\n",
    "\n",
    "print(\"Slimness:\")\n",
    "print(\"1209_quercus_pontica: \" + str(max(d_box1_1, d_box1_2)/min(d_box1_1, d_box1_2)))\n",
    "print(\"0262_arundinaria_simonii: \" + str(max(d_box2_1, d_box2_2)/min(d_box2_1, d_box2_2)))"
   ]
  },
  {
   "cell_type": "markdown",
   "metadata": {},
   "source": [
    "#### 4.1.5 Convex Hull area and perimiter ratios"
   ]
  },
  {
   "cell_type": "markdown",
   "metadata": {},
   "source": [
    "With the convex hull it is possible to define relations between the area (*solidity*) and perimeter (*hull perimeter ratio*) of the image and the convex hull. With this it is possible to define relations based on the deformity of the image and the quantity of concave regions of the shape."
   ]
  },
  {
   "cell_type": "markdown",
   "metadata": {},
   "source": [
    "$$\n",
    "\\begin{align}\n",
    "Solidity = \\dfrac{Object Area}{Convex Hull Area} && Hull Perimeter Ratio = \\dfrac{Object Perimeter}{Convex Hull Perimeter}\n",
    "\\end{align}\n",
    "$$"
   ]
  },
  {
   "cell_type": "code",
   "execution_count": null,
   "metadata": {},
   "outputs": [
    {
     "data": {
      "image/png": "[encoded data removed]",
      "text/plain": [
       "<matplotlib.figure.Figure at 0x7fd94d213b70>"
      ]
     },
     "metadata": {},
     "output_type": "display_data"
    },
    {
     "name": "stdout",
     "output_type": "stream",
     "text": [
      "Solidity:\n",
      "1480_sorbus_aria: 0.9440269058945341\n",
      "0097_acer_pictum: 0.45085565405157707\n",
      "Hull Perimeter Ratio:\n",
      "1480_sorbus_aria: 1.256244378230518\n",
      "0097_acer_pictum: 1.3976856569353384\n"
     ]
    }
   ],
   "source": [
    "ret, im1 = cv2.threshold(scimg.imread(folder + \"1480_sorbus_aria.jpg\"), 127, 255, 0)\n",
    "ret, im2 = cv2.threshold(scimg.imread(folder + \"0097_acer_pictum.jpg\"), 127, 255, 0)\n",
    "\n",
    "im, contours1, hierarchy = cv2.findContours(im1, cv2.RETR_TREE, cv2.CHAIN_APPROX_SIMPLE)\n",
    "im, contours2, hierarchy = cv2.findContours(im2, cv2.RETR_TREE, cv2.CHAIN_APPROX_SIMPLE)\n",
    "\n",
    "contour1 = contours1[numpy.array(list(map(len, contours1))).argmax()]\n",
    "contour2 = contours2[numpy.array(list(map(len, contours2))).argmax()]\n",
    "\n",
    "convex_hull_1 = cv2.convexHull(contour1)\n",
    "convex_hull_2 = cv2.convexHull(contour2)\n",
    "\n",
    "im1 = cv2.cvtColor(im1, cv2.COLOR_GRAY2RGB)\n",
    "im2 = cv2.cvtColor(im2, cv2.COLOR_GRAY2RGB)\n",
    "\n",
    "im1 = cv2.drawContours(im1, [convex_hull_1], 0, (255,0,0), 10)\n",
    "im2 = cv2.drawContours(im2, [convex_hull_2], 0, (255,0,0), 10)\n",
    "\n",
    "plt.figure()\n",
    "plt.subplot(1,2,1)\n",
    "plt.imshow(im1)\n",
    "plt.subplot(1,2,2)\n",
    "plt.imshow(im2)\n",
    "plt.show()\n",
    "\n",
    "\n",
    "print(\"Solidity:\")\n",
    "print(\"1480_sorbus_aria: \" + str(cv2.contourArea(contour1)/cv2.contourArea(convex_hull_1)))\n",
    "print(\"0097_acer_pictum: \" + str(cv2.contourArea(contour2)/cv2.contourArea(convex_hull_2)))\n",
    "print(\"Hull Perimeter Ratio:\")\n",
    "print(\"1480_sorbus_aria: \" + str(cv2.arcLength(contour1,True)/cv2.arcLength(convex_hull_1,True)))\n",
    "print(\"0097_acer_pictum: \" + str(cv2.arcLength(contour2,True)/cv2.arcLength(convex_hull_2,True)))"
   ]
  },
  {
   "cell_type": "markdown",
   "metadata": {},
   "source": [
    "#### 4.1.6 Roundness"
   ]
  },
  {
   "cell_type": "markdown",
   "metadata": {},
   "source": [
    "$Roundness = \\dfrac{4 \\times \\pi \\times Area}{(Perimeter)^2}$"
   ]
  },
  {
   "cell_type": "markdown",
   "metadata": {},
   "source": [
    "#### 4.1.7 Equivalent Diameter"
   ]
  },
  {
   "cell_type": "markdown",
   "metadata": {},
   "source": [
    "Equivalent Diameter is the diameter of the circle whose area is same as the area of the object:"
   ]
  },
  {
   "cell_type": "markdown",
   "metadata": {},
   "source": [
    "$Equivalent\\_Diameter = \\sqrt{\\dfrac{4 \\times Contour\\_Area}{\\pi}}$"
   ]
  },
  {
   "cell_type": "markdown",
   "metadata": {},
   "source": [
    "#### 4.1.8 Dispersion"
   ]
  },
  {
   "cell_type": "markdown",
   "metadata": {},
   "source": [
    "Dispersion is the ratio between the largest and smallest distance from the centroid. With this feature is possible to define how irregular the image shape is."
   ]
  },
  {
   "cell_type": "markdown",
   "metadata": {},
   "source": [
    "$Dispersion = \\dfrac{max(\\sqrt{(x_i-\\bar{x})^2+(y_i-\\bar{y})^2}}{min(\\sqrt{(x_i-\\bar{x})^2+(y_i-\\bar{y})^2}}$"
   ]
  },
  {
   "cell_type": "markdown",
   "metadata": {},
   "source": [
    "### 4.2 Extract image features"
   ]
  },
  {
   "cell_type": "code",
   "execution_count": null,
   "metadata": {
    "collapsed": true
   },
   "outputs": [],
   "source": [
    "#Path to normalized images\n",
    "folder = \"./data/normalized-images/\"\n",
    "\n",
    "#Scan all files\n",
    "filenames = os.listdir(folder)\n",
    "filenames = [fname for fname in filenames if re.match(\".*.jpg\", fname)]\n",
    "filenames.sort()\n",
    "filenames = filenames[0:(16*20)] #subset\n",
    "\n",
    "#Extract features for each image\n",
    "features = []\n",
    "for file in filenames:\n",
    "    img =  scimg.imread(folder + file)\n",
    "    ret, thresh = cv2.threshold(img, 127, 255, 0)\n",
    "    img2, contours, hierarchy = cv2.findContours(thresh, cv2.RETR_TREE, cv2.CHAIN_APPROX_SIMPLE)\n",
    "    \n",
    "    contour = contours[numpy.array(list(map(len, contours))).argmax()]\n",
    "    convex_hull = cv2.convexHull(contour)    \n",
    "    rect = cv2.minAreaRect(contour)\n",
    "    box = cv2.boxPoints(rect)\n",
    "    d1 = spatial.distance.euclidean(box[0],box[1])\n",
    "    d2 = spatial.distance.euclidean(box[1],box[2])\n",
    "    img_center = scimg.measurements.center_of_mass(img)\n",
    "    img_center = tuple([int(round(c)) for c in img_center])\n",
    "    x0 = img_center[0]\n",
    "    y0 = img_center[1]\n",
    "        \n",
    "    area = cv2.contourArea(contour)\n",
    "    rect_area = d1*d2\n",
    "    extent = float(area)/rect_area\n",
    "    convex_hull_area = cv2.contourArea(convex_hull)\n",
    "    convex_hull_perimeter = cv2.arcLength(convex_hull,True)\n",
    "    solidity = area/convex_hull_area\n",
    "    perimeter = cv2.arcLength(contour,True)\n",
    "    hull_perimeter_ratio = perimeter/convex_hull_perimeter\n",
    "    perimeter_area_ratio = perimeter/area\n",
    "    slimness = max(d1, d2)/min(d1, d2)\n",
    "    equi_diameter = numpy.sqrt(4*area/numpy.pi)\n",
    "    roundness = 4*math.pi*area/perimeter*perimeter\n",
    "    \n",
    "    eucl_dist = numpy.zeros(len(contour))\n",
    "    for index, p in enumerate(contour):\n",
    "        eucl_dist[index] = scipy.spatial.distance.euclidean([x0,y0],p[0])\n",
    "    dispersion = max(eucl_dist)/min(eucl_dist)\n",
    "    contourdistvar = numpy.std(eucl_dist)\n",
    "    \n",
    "    features.append([\n",
    "            int(file[:4]),\n",
    "            area,\n",
    "            rect_area,\n",
    "            extent,\n",
    "            convex_hull_area,\n",
    "            solidity,\n",
    "            perimeter,\n",
    "            perimeter_area_ratio,\n",
    "            slimness,\n",
    "            equi_diameter,\n",
    "            roundness,\n",
    "            dispersion,\n",
    "            contourdistvar,\n",
    "            hull_perimeter_ratio\n",
    "            ])"
   ]
  },
  {
   "cell_type": "markdown",
   "metadata": {},
   "source": [
    "### 4.3 Build the dataset"
   ]
  },
  {
   "cell_type": "code",
   "execution_count": null,
   "metadata": {
    "collapsed": true
   },
   "outputs": [],
   "source": [
    "#Feature set\n",
    "dataset = pandas.DataFrame(features, \n",
    "                           columns=[\"id\", \"area\", \"rect_area\", \"extent\", \"convex_hull_area\", \n",
    "                                    \"solidity\", \"perimeter\", \"perimeter_area_ratio\", \"slimness\",\n",
    "                                    \"equi_diameter\", \"roundness\", \"dispersion\", \"contourdistvar\",\n",
    "                                    \"hull_perimeter_ratio\"\n",
    "                                   ])\n",
    "\n",
    "#Add class label\n",
    "dataset = pandas.merge(dataset, labeltable, how=\"left\", on=\"id\")\n",
    "\n",
    "#Add class label id\n",
    "target = [[i] * 16 for i in range(20)]\n",
    "target = numpy.asarray(numpy.array(target)).reshape(-1)\n",
    "dataset[\"class_id\"] = target\n",
    "\n",
    "#Save to '.csv' file\n",
    "dataset.to_csv(\"dataset.csv\")"
   ]
  },
  {
   "cell_type": "markdown",
   "metadata": {},
   "source": [
    "## 5. Principal Component Analysis"
   ]
  },
  {
   "cell_type": "markdown",
   "metadata": {},
   "source": [
    "Principal Component Analysis (PCA) is a widely used statistical procedure for dimensionality reduction. Althouth we do not have too many variables in our dataset, PCA is still useful for data analysis and visualization. In this section we show how to perform a PCA transform and present plots regarding the variance of principal components and the distribuition of classes along the first 2 and 3 principal components."
   ]
  },
  {
   "cell_type": "markdown",
   "metadata": {},
   "source": [
    "### 5.1 Extract principal components"
   ]
  },
  {
   "cell_type": "code",
   "execution_count": null,
   "metadata": {
    "collapsed": true
   },
   "outputs": [],
   "source": [
    "#Inputs and outputs\n",
    "X = dataset.ix[:,1:-2]\n",
    "y = dataset.ix[:,-2]\n",
    "57\n",
    "#Scale normalization\n",
    "X_std = StandardScaler().fit_transform(X)\n",
    "\n",
    "#Compute covariance matrix, eigenvalues and eigenvectors\n",
    "cov_mat = numpy.cov(X_std.T)\n",
    "eig_vals, eig_vecs = numpy.linalg.eig(cov_mat)\n",
    "\n",
    "#Compute principal components (PCA)\n",
    "eig_pairs = [(numpy.abs(eig_vals[i]), eig_vecs[:,i]) for i in range(len(eig_vals))]\n",
    "matrix_w = numpy.hstack(tuple([ep[1].reshape(len(X.columns),1) for ep in eig_pairs]))\n",
    "Y = X_std.dot(matrix_w)"
   ]
  },
  {
   "cell_type": "markdown",
   "metadata": {},
   "source": [
    "### 5.2 Variance of principal components"
   ]
  },
  {
   "cell_type": "code",
   "execution_count": null,
   "metadata": {},
   "outputs": [],
   "source": [
    "#Compute self and cumulative variance of each PCA component\n",
    "tot = sum(eig_vals)\n",
    "var_exp = [(i / tot)*100 for i in sorted(eig_vals, reverse=True)]\n",
    "cum_var_exp = numpy.cumsum(var_exp)\n",
    "\n",
    "#Plot variance of each component\n",
    "trace1 = go.Bar(\n",
    "        x=['PC %s' %i for i in range(1,Y.shape[1])],\n",
    "        y=var_exp,\n",
    "        showlegend=False)\n",
    "\n",
    "trace2 = go.Scatter(\n",
    "        x=['PC %s' %i for i in range(1,Y.shape[1])], \n",
    "        y=cum_var_exp,\n",
    "        name='cumulative explained variance')\n",
    "\n",
    "data = go.Data([trace1, trace2])\n",
    "\n",
    "layout = go.Layout(\n",
    "    title='Explained variance by different principal components',  \n",
    "    hovermode=\"closest\",\n",
    "    yaxis=go.YAxis(title='Explained variance in percent'))\n",
    "\n",
    "fig = go.Figure(data=data, layout=layout)\n",
    "po.iplot(fig)"
   ]
  },
  {
   "cell_type": "markdown",
   "metadata": {},
   "source": [
    "### 5.3 Scatter plot visualization (2 PCs)"
   ]
  },
  {
   "cell_type": "code",
   "execution_count": null,
   "metadata": {},
   "outputs": [],
   "source": [
    "traces = []\n",
    "\n",
    "for name in numpy.unique(y):\n",
    "    trace = go.Scatter(\n",
    "        x=Y[y==name,0],\n",
    "        y=Y[y==name,1],\n",
    "        mode=\"markers\",\n",
    "        name=name,\n",
    "        marker=go.Marker(\n",
    "            size=12,\n",
    "            line=go.Line(\n",
    "                color=\"rgba(217, 217, 217, 0.14)\",\n",
    "                width=0.5),\n",
    "            opacity=0.7))\n",
    "    traces.append(trace)\n",
    "\n",
    "\n",
    "data = go.Data(traces)\n",
    "\n",
    "layout = go.Layout(\n",
    "    title= \"Leaf Species\",\n",
    "    hovermode= \"closest\",\n",
    "    xaxis= dict(\n",
    "        title= \"Principal Component 1\",\n",
    "        ticklen= 5,\n",
    "        zeroline= False,\n",
    "        gridwidth= 2,\n",
    "    ),\n",
    "    yaxis=dict(\n",
    "        title= \"Principal Component 2\",\n",
    "        ticklen= 5,\n",
    "        gridwidth= 2,\n",
    "    ),\n",
    "    showlegend= False\n",
    ")\n",
    "\n",
    "fig = go.Figure(data=data, layout=layout)\n",
    "po.iplot(fig)"
   ]
  },
  {
   "cell_type": "markdown",
   "metadata": {},
   "source": [
    "### 5.4 Scatter plot visualization (3 PCs)"
   ]
  },
  {
   "cell_type": "markdown",
   "metadata": {},
   "source": [
    "From the previous plot we can see that with just 2 principal components it can be very diffucult to classify some leaf species. \n",
    "\n",
    "Let's try to visualize the first 3 principal components and see what we can get:"
   ]
  },
  {
   "cell_type": "code",
   "execution_count": null,
   "metadata": {},
   "outputs": [],
   "source": [
    "traces = []\n",
    "\n",
    "for name in numpy.unique(y):\n",
    "    trace = go.Scatter3d(\n",
    "        x=Y[y==name,0],\n",
    "        y=Y[y==name,1],\n",
    "        z=Y[y==name,2],\n",
    "        mode=\"markers\",\n",
    "        name=name,\n",
    "        marker=go.Marker(\n",
    "            size=12,\n",
    "            line=go.Line(\n",
    "                color=\"rgba(217, 217, 217, 0.14)\",\n",
    "                width=0.5),\n",
    "            opacity=0.8))\n",
    "    traces.append(trace)\n",
    "   \n",
    "layout = go.Layout(\n",
    "    title= \"Leaf Species\",\n",
    "    hovermode= \"closest\",\n",
    "    xaxis= dict(\n",
    "        title= \"Principal Component 1\",\n",
    "        ticklen= 5,\n",
    "        zeroline= False,\n",
    "        gridwidth= 2,\n",
    "    ),\n",
    "    yaxis=dict(\n",
    "        title= \"Principal Component 2\",\n",
    "        ticklen= 5,\n",
    "        gridwidth= 2,\n",
    "    ),\n",
    "    showlegend= False\n",
    ")\n",
    "\n",
    "fig = go.Figure(data=go.Data(traces), layout=layout)\n",
    "po.iplot(fig)"
   ]
  },
  {
   "cell_type": "markdown",
   "metadata": {},
   "source": [
    "## 6. Gradient Boosting Classifier"
   ]
  },
  {
   "cell_type": "markdown",
   "metadata": {},
   "source": [
    "### 6.1 Split the data into train and test set"
   ]
  },
  {
   "cell_type": "code",
   "execution_count": null,
   "metadata": {
    "collapsed": true
   },
   "outputs": [],
   "source": [
    "#Split train and test set\n",
    "seed = [\"test\"] * 6 + [\"train\"] * 10\n",
    "\n",
    "rowset = []\n",
    "for _ in range(20):\n",
    "    random.shuffle(seed)\n",
    "    rowset += seed\n",
    "\n",
    "rowset = numpy.array(rowset)\n",
    "\n",
    "trainset = dataset[rowset == \"train\"]\n",
    "traindata = trainset.iloc[:,1:-2]\n",
    "traintarget = trainset.iloc[:, -1]\n",
    "\n",
    "testset = dataset[rowset == \"test\"]\n",
    "testdata = testset.iloc[:,1:-2]\n",
    "testtarget = testset.iloc[:, -1]"
   ]
  },
  {
   "cell_type": "markdown",
   "metadata": {},
   "source": [
    "### 6.2 Fit Gradient Boosting Model"
   ]
  },
  {
   "cell_type": "code",
   "execution_count": null,
   "metadata": {
    "collapsed": true
   },
   "outputs": [],
   "source": [
    "dtrain = xgb.DMatrix(traindata, label=traintarget)\n",
    "dtest = xgb.DMatrix(testdata)\n",
    "\n",
    "param = {\n",
    "    'max_depth': 5,\n",
    "    'eta': 0.01,\n",
    "    'silent': 1,\n",
    "    'objective': 'multi:softprob',\n",
    "    'num_class': 20}\n",
    "\n",
    "num_round = 300  # the number of training iterations\n",
    "\n",
    "xgbmodel = xgb.train(param, dtrain, num_round)\n",
    "\n",
    "preds = xgbmodel.predict(dtest)\n",
    "preds = [p.argmax() for p in preds]"
   ]
  },
  {
   "cell_type": "markdown",
   "metadata": {},
   "source": [
    "## 7. Results"
   ]
  },
  {
   "cell_type": "markdown",
   "metadata": {},
   "source": [
    "### 7.1 Accuracy"
   ]
  },
  {
   "cell_type": "code",
   "execution_count": null,
   "metadata": {},
   "outputs": [],
   "source": [
    "accuracy_score(testtarget, preds)"
   ]
  },
  {
   "cell_type": "markdown",
   "metadata": {},
   "source": [
    "### 7.2 Confusion Matrix"
   ]
  },
  {
   "cell_type": "code",
   "execution_count": null,
   "metadata": {},
   "outputs": [],
   "source": [
    "cm = confusion_matrix(testtarget, preds)\n",
    "class_id = [str(i).zfill(2) for i in range(1, 21)]\n",
    "\n",
    "cmdf = pandas.DataFrame(cm)\n",
    "cmdf.columns = [ \"[\" + ci + \"]\" for ci in class_id]\n",
    "cmdf.index = [name + \" [\" + class_id[idx] + \"]\" for idx, name in enumerate(dataset[\"species_name\"].unique())]\n",
    "display(cmdf)"
   ]
  },
  {
   "cell_type": "markdown",
   "metadata": {},
   "source": [
    "### 7.3 Feature Importance"
   ]
  },
  {
   "cell_type": "code",
   "execution_count": null,
   "metadata": {},
   "outputs": [],
   "source": [
    "xgb.plot_importance(xgbmodel)"
   ]
  },
  {
   "cell_type": "markdown",
   "metadata": {},
   "source": [
    "## 8. Concluding Remarks"
   ]
  },
  {
   "cell_type": "markdown",
   "metadata": {},
   "source": [
    "We have some important considerations regarding the methodology presented here. First, the leaf database was acquired under controlled conditions and previously submitted to some pre-processing operations; here we just performed a simple normalization in the size of each image. Pre-processing is a critical step in modelling and also played an important role in the results achieved by the gradient bossting model. Second, it was very important to extract features that consider ratios between two variables, eg. *hull_perimeter_ratio* and *solidity* since they are more robust to size. As a future work, it would be interesting to investigate more features and also perform a cross-validation procedure."
   ]
  },
  {
   "cell_type": "markdown",
   "metadata": {},
   "source": [
    "## References"
   ]
  },
  {
   "cell_type": "markdown",
   "metadata": {},
   "source": [
    "Costa, Luciano da Fontoura Da, and Roberto Marcondes Cesar Jr. *Shape analysis and classification: theory and practice.* CRC Press, Inc., 2000."
   ]
  },
  {
   "cell_type": "markdown",
   "metadata": {},
   "source": [
    "Gonzalez, Rafael C., and Richard E. 1954- Woods. *Digital Image Processing.* 3rd ed. Upper Saddle River, N.J.: Prentice Hall, 2008."
   ]
  },
  {
   "cell_type": "markdown",
   "metadata": {},
   "source": [
    "Pedro F.B. Silva; Andre R.S. Marcal and Rubim M. Almeida da Silva. *Evaluation of Features for Leaf Discrimination*. Springer Lecture Notes in Computer Science, Vol. 7950, 197-204 (2013)."
   ]
  },
  {
   "cell_type": "markdown",
   "metadata": {},
   "source": [
    "Kadir, Abdul, et al. \"Leaf classification using shape, color, and texture features.\" *arXiv preprint arXiv:1401.4447* (2013)."
   ]
  },
  {
   "cell_type": "markdown",
   "metadata": {},
   "source": [
    "*OpenCV: Open Source Computer Vision Library.* GitHub Repository: https://github.com/opencv/opencv"
   ]
  }
 ],
 "metadata": {
  "kernelspec": {
   "display_name": "Python 3",
   "language": "python",
   "name": "python3"
  },
  "language_info": {
   "codemirror_mode": {
    "name": "ipython",
    "version": 3
   },
   "file_extension": ".py",
   "mimetype": "text/x-python",
   "name": "python",
   "nbconvert_exporter": "python",
   "pygments_lexer": "ipython3",
   "version": "3.6.5"
  },
  "toc": {
   "base_numbering": 1,
   "nav_menu": {},
   "number_sections": true,
   "sideBar": true,
   "skip_h1_title": false,
   "title_cell": "Table of Contents",
   "title_sidebar": "Contents",
   "toc_cell": false,
   "toc_position": {},
   "toc_section_display": true,
   "toc_window_display": true
  }
 },
 "nbformat": 4,
 "nbformat_minor": 2
}
