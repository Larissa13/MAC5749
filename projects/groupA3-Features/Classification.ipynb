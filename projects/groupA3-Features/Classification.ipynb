{
 "cells": [
  {
   "cell_type": "markdown",
   "metadata": {},
   "source": [
    "# Grupo A3 - Classification using feature vectors"
   ]
  },
  {
   "cell_type": "markdown",
   "metadata": {},
   "source": [
    " In this project we will extract features from the shapes present in the images in order to correctly classify the EMNIST dataset. \n",
    " \n",
    "The features to be extracted are: \n",
    "TODO: choose features\n",
    "\n",
    "The classifiers that will be used are: \n",
    "- Nearest Neighbors\n",
    "- SVC (SVM for classification, C-Support Vector Classification.)\n",
    "- Gaussian Process\n",
    "- Decision Tree\n",
    "- Random Forest\n",
    "- MLP (Multi-Layer Perceptron)\n",
    "- Ada Boost\n",
    "- Gaussian NB\n",
    "- Quadratic Discriminant Analysis\n",
    "\n",
    "We will use the classifiers from scikit-learn and follow the scheme present in "
   ]
  },
  {
   "cell_type": "code",
   "execution_count": null,
   "metadata": {
    "collapsed": true
   },
   "outputs": [],
   "source": []
  }
 ],
 "metadata": {
  "kernelspec": {
   "display_name": "Python [conda env:vision]",
   "language": "python",
   "name": "conda-env-vision-py"
  },
  "language_info": {
   "codemirror_mode": {
    "name": "ipython",
    "version": 3
   },
   "file_extension": ".py",
   "mimetype": "text/x-python",
   "name": "python",
   "nbconvert_exporter": "python",
   "pygments_lexer": "ipython3",
   "version": "3.6.5"
  },
  "toc": {
   "base_numbering": 1,
   "nav_menu": {},
   "number_sections": true,
   "sideBar": true,
   "skip_h1_title": false,
   "title_cell": "Table of Contents",
   "title_sidebar": "Contents",
   "toc_cell": false,
   "toc_position": {},
   "toc_section_display": true,
   "toc_window_display": false
  }
 },
 "nbformat": 4,
 "nbformat_minor": 2
}
