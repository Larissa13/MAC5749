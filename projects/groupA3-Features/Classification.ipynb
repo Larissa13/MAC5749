{
 "cells": [
  {
   "cell_type": "markdown",
   "metadata": {},
   "source": [
    "# Grupo A3 - Classification using feature vectors"
   ]
  },
  {
   "cell_type": "markdown",
   "metadata": {},
   "source": [
    " In this project we will extract features from the shapes present in the images in order to correctly classify the EMNIST dataset. \n",
    " \n",
    "The features to be extracted are:\n",
    "\n",
    "TODO: choose features\n",
    "- area of the black pixels (foreground/shape)\n",
    "- area of the white pixels (background)\n",
    "- perimeter of the shape\n",
    "- bounding-box area\n",
    "- major axis length\n",
    "- solidity\n",
    "- extent\n",
    "- equivalent-diameter\n",
    "- centroid (x and y coordinates)\n",
    "- convex_area\n",
    "\n",
    "The classifiers that will be used are: \n",
    "- Nearest Neighbors\n",
    "- SVC (SVM for classification, C-Support Vector Classification.)\n",
    "- Gaussian Process\n",
    "- Decision Tree\n",
    "- Random Forest\n",
    "- MLP (Multi-Layer Perceptron)\n",
    "- Ada Boost\n",
    "- Gaussian NB\n",
    "- Quadratic Discriminant Analysis\n",
    "\n",
    "We will use the classifiers from scikit-learn and follow the scheme present in "
   ]
  },
  {
   "cell_type": "markdown",
   "metadata": {
    "collapsed": true
   },
   "source": [
    "#  Loading Data"
   ]
  },
  {
   "cell_type": "markdown",
   "metadata": {},
   "source": [
    "## Imports"
   ]
  },
  {
   "cell_type": "code",
   "execution_count": 64,
   "metadata": {
    "ExecuteTime": {
     "end_time": "2018-11-16T20:13:53.323303Z",
     "start_time": "2018-11-16T20:13:43.623353Z"
    }
   },
   "outputs": [
    {
     "name": "stdout",
     "output_type": "stream",
     "text": [
      "teste\n"
     ]
    }
   ],
   "source": [
    "import sys\n",
    "sys.path.append('../../')\n",
    "\n",
    "from sarpy.datasets import load_emnist\n",
    "%matplotlib inline\n",
    "\n",
    "import matplotlib.pyplot as plt\n",
    "import numpy as np\n",
    "\n",
    "print(\"teste\")"
   ]
  },
  {
   "cell_type": "markdown",
   "metadata": {},
   "source": [
    "## Loading data set and binarizing the images"
   ]
  },
  {
   "cell_type": "code",
   "execution_count": 222,
   "metadata": {
    "ExecuteTime": {
     "end_time": "2018-11-14T22:53:16.714713Z",
     "start_time": "2018-11-14T22:53:16.547642Z"
    }
   },
   "outputs": [
    {
     "name": "stderr",
     "output_type": "stream",
     "text": [
      "reshape training: 100%|██████████| 112800/112800 [00:02<00:00, 40882.69it/s]\n",
      "reshape testing: 100%|██████████| 18800/18800 [00:00<00:00, 39842.59it/s]\n"
     ]
    },
    {
     "name": "stdout",
     "output_type": "stream",
     "text": [
      "Train size: 94000\n",
      "Test size: 18800\n",
      "Validation size: 18800\n",
      "# classes: 47\n"
     ]
    }
   ],
   "source": [
    "X_train, y_train, X_test, y_test, X_valid, y_valid, mapping, nb_classes = load_emnist('balanced', validation=True)\n",
    "\n",
    "X_train = X_train > 0\n",
    "X_train = X_train.astype(int)\n",
    "X_train = np.squeeze(X_train)\n",
    "\n",
    "X_test = X_test > 0\n",
    "X_test = X_test.astype(int)\n",
    "X_test = np.squeeze(X_test)\n",
    "\n",
    "X_valid = X_valid > 0\n",
    "X_valid = X_valid.astype(int)\n",
    "X_valid = np.squeeze(X_valid)"
   ]
  },
  {
   "cell_type": "markdown",
   "metadata": {},
   "source": [
    "# Extracting Features"
   ]
  },
  {
   "cell_type": "markdown",
   "metadata": {},
   "source": [
    "## Imports"
   ]
  },
  {
   "cell_type": "code",
   "execution_count": 164,
   "metadata": {
    "ExecuteTime": {
     "end_time": "2018-11-17T00:08:00.488244Z",
     "start_time": "2018-11-17T00:08:00.162354Z"
    }
   },
   "outputs": [],
   "source": [
    "from skimage.measure import label, regionprops"
   ]
  },
  {
   "cell_type": "markdown",
   "metadata": {},
   "source": [
    "## Feature extraction"
   ]
  },
  {
   "cell_type": "code",
   "execution_count": 262,
   "metadata": {},
   "outputs": [],
   "source": [
    "def feature_extraction(image):\n",
    "    features = [ [] for _ in range(11)]\n",
    "    label_img = label(image)\n",
    "    props = regionprops(label_img)\n",
    "    for j in range(0, len(props)):\n",
    "        features[0].append(props[j].area)\n",
    "        features[1].append(props[j].perimeter)\n",
    "        features[2].append(props[j].bbox_area)\n",
    "        features[3].append(props[j].major_axis_length)\n",
    "        features[4].append(props[j].solidity)\n",
    "        features[5].append(props[j].extent)\n",
    "        features[6].append(props[j].equivalent_diameter)\n",
    "        features[7].append(props[j].centroid[0])\n",
    "        features[8].append(props[j].centroid[1])\n",
    "        features[9].append(props[j].convex_area)\n",
    "        features[10].append(props[j].filled_area)\n",
    "    return features\n"
   ]
  },
  {
   "cell_type": "code",
   "execution_count": 267,
   "metadata": {},
   "outputs": [
    {
     "name": "stderr",
     "output_type": "stream",
     "text": [
      "/usr/local/Cellar/python/3.7.0/Frameworks/Python.framework/Versions/3.7/lib/python3.7/site-packages/skimage/measure/_regionprops.py:250: UserWarning: regionprops and image moments (including moments, normalized moments, central moments, and inertia tensor) of 2D images will change from xy coordinates to rc coordinates in version 0.16.\n",
      "See http://scikit-image.org/docs/0.14.x/release_notes_and_installation.html#deprecations for details on how to avoid this message.\n",
      "  warn(XY_TO_RC_DEPRECATION_MESSAGE)\n",
      "/usr/local/Cellar/python/3.7.0/Frameworks/Python.framework/Versions/3.7/lib/python3.7/site-packages/skimage/measure/_regionprops.py:260: UserWarning: regionprops and image moments (including moments, normalized moments, central moments, and inertia tensor) of 2D images will change from xy coordinates to rc coordinates in version 0.16.\n",
      "See http://scikit-image.org/docs/0.14.x/release_notes_and_installation.html#deprecations for details on how to avoid this message.\n",
      "  warn(XY_TO_RC_DEPRECATION_MESSAGE)\n"
     ]
    },
    {
     "name": "stdout",
     "output_type": "stream",
     "text": [
      "138\n",
      "7\n",
      "8\n",
      "\n",
      "\n",
      "89.42640687119285\n",
      "6.82842712474619\n",
      "7.414213562373095\n",
      "\n",
      "\n",
      "336\n",
      "9\n",
      "9\n",
      "\n",
      "\n",
      "25.075522444278086\n",
      "3.0237157840738176\n",
      "3.4641016151377544\n",
      "\n",
      "\n",
      "0.6509433962264151\n",
      "1.0\n",
      "1.0\n",
      "\n",
      "\n",
      "0.4107142857142857\n",
      "0.7777777777777778\n",
      "0.8888888888888888\n",
      "\n",
      "\n",
      "13.255453865237978\n",
      "2.985410660720923\n",
      "3.1915382432114616\n",
      "\n",
      "\n",
      "13.021739130434783\n",
      "6.0\n",
      "15.125\n",
      "\n",
      "\n",
      "18.905797101449274\n",
      "3.7142857142857144\n",
      "1.875\n",
      "\n",
      "\n",
      "212\n",
      "7\n",
      "8\n",
      "\n",
      "\n",
      "167\n",
      "7\n",
      "8\n",
      "\n",
      "\n"
     ]
    }
   ],
   "source": [
    "f = []\n",
    "#isso está demorando bastante \n",
    "for i in range(0, len(X_train)):\n",
    "    f.append(feature_extraction(X_train[i]))\n",
    "\n",
    "for i in range(0, len(f[19])):\n",
    "    for j in range(0, len(f[19][i])):\n",
    "        print(f[19][i][j])\n",
    "    print(\"\\n\")\n",
    "\n",
    "# print(f)"
   ]
  },
  {
   "cell_type": "markdown",
   "metadata": {},
   "source": [
    "# Fitting Classifiers"
   ]
  },
  {
   "cell_type": "markdown",
   "metadata": {},
   "source": [
    "# Results"
   ]
  }
 ],
 "metadata": {
  "kernelspec": {
   "display_name": "Python 3",
   "language": "python",
   "name": "python3"
  },
  "language_info": {
   "codemirror_mode": {
    "name": "ipython",
    "version": 3
   },
   "file_extension": ".py",
   "mimetype": "text/x-python",
   "name": "python",
   "nbconvert_exporter": "python",
   "pygments_lexer": "ipython3",
   "version": "3.7.0"
  },
  "toc": {
   "base_numbering": 1,
   "nav_menu": {},
   "number_sections": true,
   "sideBar": true,
   "skip_h1_title": false,
   "title_cell": "Table of Contents",
   "title_sidebar": "Contents",
   "toc_cell": false,
   "toc_position": {},
   "toc_section_display": true,
   "toc_window_display": false
  }
 },
 "nbformat": 4,
 "nbformat_minor": 2
}
