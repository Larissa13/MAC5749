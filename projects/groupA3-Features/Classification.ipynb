{
 "cells": [
  {
   "cell_type": "markdown",
   "metadata": {},
   "source": [
    "# Grupo A3 - Classification using feature vectors"
   ]
  },
  {
   "cell_type": "markdown",
   "metadata": {},
   "source": [
    " In this project we will extract features from the shapes present in the images in order to correctly classify the EMNIST dataset. \n",
    " \n",
    "The features to be extracted are:\n",
    "\n",
    "- area of shape\n",
    "- eccentricity\n",
    "- equivalent diameter\n",
    "- euler number\n",
    "- extent\n",
    "- centroid\n",
    "- mean intensity (of the gray-level image)\n",
    "- major-axis length\n",
    "- minor-axis length\n",
    "- ratio between major-axis length  and minor-axis length\n",
    "- orientation\n",
    "- perimeter\n",
    "- solidity\n",
    "- perimeter-to-area ratio\n",
    "- standard deviation (of the gray-level image)\n",
    "\n",
    "The classifiers that will be used are: \n",
    "\n",
    "- SVM with linear kernel\n",
    "- gradient Boosting\n",
    "\n",
    "We will use the classifiers from scikit-learn"
   ]
  },
  {
   "cell_type": "markdown",
   "metadata": {
    "collapsed": true
   },
   "source": [
    "#  Loading Data"
   ]
  },
  {
   "cell_type": "markdown",
   "metadata": {},
   "source": [
    "## Imports"
   ]
  },
  {
   "cell_type": "code",
   "execution_count": 2,
   "metadata": {
    "ExecuteTime": {
     "end_time": "2018-12-08T00:38:24.434660Z",
     "start_time": "2018-12-08T00:38:24.413290Z"
    }
   },
   "outputs": [],
   "source": [
    "import sys\n",
    "sys.path.append('../../')\n",
    "\n",
    "from sarpy.datasets import load_emnist\n",
    "%matplotlib inline\n",
    "\n",
    "import matplotlib.pyplot as plt\n",
    "import numpy as np\n",
    "from skimage import filters\n",
    "from skimage.morphology import disk, binary_dilation\n",
    "from skimage.measure import label, regionprops"
   ]
  },
  {
   "cell_type": "markdown",
   "metadata": {},
   "source": [
    "## Loading data set and binarizing the images"
   ]
  },
  {
   "cell_type": "code",
   "execution_count": 3,
   "metadata": {
    "ExecuteTime": {
     "end_time": "2018-12-08T00:38:28.126764Z",
     "start_time": "2018-12-08T00:38:25.471226Z"
    }
   },
   "outputs": [
    {
     "name": "stderr",
     "output_type": "stream",
     "text": [
      "reshape training: 100%|██████████| 112800/112800 [00:01<00:00, 94111.42it/s]\n",
      "reshape testing: 100%|██████████| 18800/18800 [00:00<00:00, 92882.44it/s]\n"
     ]
    },
    {
     "name": "stdout",
     "output_type": "stream",
     "text": [
      "Train size: 94000\n",
      "Test size: 18800\n",
      "Validation size: 18800\n",
      "# classes: 47\n",
      "(94000, 28, 28) (94000,)\n"
     ]
    }
   ],
   "source": [
    "X_train, y_train, X_test, y_test, X_valid, y_valid, mapping, nb_classes = load_emnist('balanced', validation=True)\n",
    "X_train = np.squeeze(X_train)\n",
    "X_valid = np.squeeze(X_valid)\n",
    "X_test = np.squeeze(X_test)\n",
    "y_train = np.ravel(y_train)\n",
    "y_valid = np.ravel(y_valid)\n",
    "y_test  = np.ravel(y_test)\n",
    "print(np.shape(X_train), np.shape(y_train))"
   ]
  },
  {
   "cell_type": "markdown",
   "metadata": {},
   "source": [
    "### Reducing Training dataset"
   ]
  },
  {
   "cell_type": "code",
   "execution_count": 4,
   "metadata": {
    "ExecuteTime": {
     "end_time": "2018-12-08T00:38:29.045065Z",
     "start_time": "2018-12-08T00:38:29.033624Z"
    }
   },
   "outputs": [],
   "source": [
    "def reduce(data, labels, n_samples, n_class, mapping):\n",
    "    images_class = []\n",
    "    for class_ in mapping:\n",
    "        images_class += [np.where(labels == class_)[0]]\n",
    "\n",
    "    data_red = []\n",
    "    label_red = []\n",
    "    for class_ in images_class:\n",
    "        index_class = np.random.choice(class_, n_samples, replace=False)\n",
    "        data_red += [data[index_class]]\n",
    "        label_red += [labels[class_[0]]]*n_samples\n",
    "#         plt.imshow(np.squeeze(data[class_[0]]), cmap = 'gray')\n",
    "#         plt.show()\n",
    "    data_red = np.array(data_red).reshape((n_samples*n_class, 28, 28))\n",
    "    label_red = np.array(label_red)\n",
    "    return data_red, label_red"
   ]
  },
  {
   "cell_type": "code",
   "execution_count": 5,
   "metadata": {
    "ExecuteTime": {
     "end_time": "2018-12-08T00:38:34.890247Z",
     "start_time": "2018-12-08T00:38:30.135675Z"
    }
   },
   "outputs": [
    {
     "name": "stdout",
     "output_type": "stream",
     "text": [
      "4 4 4\n"
     ]
    }
   ],
   "source": [
    "n_trains = [300, 500, 700, 900]\n",
    "n_valids = [100, 200, 300, 400]\n",
    "n_tests = [100, 200, 300, 400]\n",
    "X_train_red = []\n",
    "y_train_red = []\n",
    "X_valid_red = []\n",
    "y_valid_red = []\n",
    "X_test_red = []\n",
    "y_test_red = []\n",
    "for i in range(len(n_trains)):\n",
    "    xt, yt = reduce(X_train, y_train, n_trains[i], nb_classes, mapping)\n",
    "    X_train_red += [xt]\n",
    "    y_train_red += [yt]\n",
    "    xte, yte = reduce(X_test, y_test, n_tests[i], nb_classes, mapping)\n",
    "    X_test_red += [xte]\n",
    "    y_test_red += [yte]\n",
    "    xv, yv = reduce(X_valid, y_valid, n_valids[i], nb_classes, mapping)\n",
    "    X_valid_red += [xv]\n",
    "    y_valid_red += [yv]\n",
    "print(len(X_train_red), len(X_test_red), len(X_valid_red))"
   ]
  },
  {
   "cell_type": "markdown",
   "metadata": {},
   "source": [
    "### Extracting foreground with a priori threshold"
   ]
  },
  {
   "cell_type": "code",
   "execution_count": 6,
   "metadata": {
    "ExecuteTime": {
     "end_time": "2018-12-08T00:38:38.265234Z",
     "start_time": "2018-12-08T00:38:37.413940Z"
    }
   },
   "outputs": [
    {
     "name": "stdout",
     "output_type": "stream",
     "text": [
      "4 4 4\n"
     ]
    }
   ],
   "source": [
    "def bin_image(imset, thresh = 40):\n",
    "    imsetb = imset > thresh\n",
    "    imsetb = imsetb.astype(int)\n",
    "    return imsetb\n",
    "X_trainb = []\n",
    "X_testb = []\n",
    "X_validb = []\n",
    "for i in range(len(n_trains)):\n",
    "    X_trainb += [[bin_image(x_t, 50) for x_t in X_train_red[i]]]\n",
    "    X_validb += [[bin_image(x_v, 50) for x_v in X_valid_red[i]]]\n",
    "    X_testb += [[bin_image(x_te, 50) for x_te in X_test_red[i]]]\n",
    "print(len(X_trainb), len(X_testb), len(X_validb))"
   ]
  },
  {
   "cell_type": "code",
   "execution_count": null,
   "metadata": {
    "ExecuteTime": {
     "end_time": "2018-12-07T16:41:49.245075Z",
     "start_time": "2018-12-07T16:41:35.085061Z"
    }
   },
   "outputs": [],
   "source": [
    "for i in range(47):\n",
    "    plt.subplot(1, 6, 1)\n",
    "    plt.imshow(X_train_red[0][i*n_trains[0]], cmap='gray')\n",
    "    plt.title(\"Train\")\n",
    "    plt.subplot(1, 6, 2)\n",
    "    plt.imshow(X_trainb[0][i*n_trains[0]], cmap='gray')\n",
    "    plt.subplot(1, 6, 3)\n",
    "    plt.imshow(X_valid_red[0][i*n_valids[0]], cmap='gray')\n",
    "    plt.title(\"Validation\")\n",
    "    plt.subplot(1, 6, 4)\n",
    "    plt.imshow(X_validb[0][i*n_valids[0]], cmap='gray')\n",
    "    plt.subplot(1, 6, 5)\n",
    "    plt.imshow(X_test_red[0][i*n_tests[0]], cmap='gray')\n",
    "    plt.title(\"Test\")\n",
    "    plt.subplot(1, 6, 6)\n",
    "    plt.imshow(X_testb[0][i*n_tests[0]], cmap='gray')\n",
    "    print(y_train_red[0][i*300])\n",
    "    plt.show()"
   ]
  },
  {
   "cell_type": "markdown",
   "metadata": {},
   "source": [
    "### Extracting foreground  with Otsu"
   ]
  },
  {
   "cell_type": "code",
   "execution_count": 7,
   "metadata": {
    "ExecuteTime": {
     "end_time": "2018-12-08T00:38:43.158311Z",
     "start_time": "2018-12-08T00:38:43.150790Z"
    }
   },
   "outputs": [],
   "source": [
    "def bin_otsu(images):\n",
    "    new_images = []\n",
    "    for image in images:\n",
    "        t  = filters.threshold_otsu(image)\n",
    "        new_images += [(image>t).astype(int)]\n",
    "    return np.array(new_images)"
   ]
  },
  {
   "cell_type": "code",
   "execution_count": 8,
   "metadata": {
    "ExecuteTime": {
     "end_time": "2018-12-08T00:39:51.574545Z",
     "start_time": "2018-12-08T00:39:22.247996Z"
    }
   },
   "outputs": [
    {
     "name": "stdout",
     "output_type": "stream",
     "text": [
      "4 4 4 (14100, 28, 28)\n"
     ]
    }
   ],
   "source": [
    "X_train_otsu = [bin_otsu(xt) for xt in X_train_red]\n",
    "X_valid_otsu = [bin_otsu(xv) for xv in X_valid_red]\n",
    "X_test_otsu = [bin_otsu(xte) for xte in X_test_red]\n",
    "print(len(X_train_otsu), len(X_valid_otsu), len(X_test_otsu), np.shape(X_train_otsu[0]))"
   ]
  },
  {
   "cell_type": "code",
   "execution_count": null,
   "metadata": {
    "ExecuteTime": {
     "end_time": "2018-12-07T16:46:28.667442Z",
     "start_time": "2018-12-07T16:46:21.060120Z"
    }
   },
   "outputs": [],
   "source": [
    "for i in range(47):\n",
    "    plt.subplot(1, 3, 1)\n",
    "    plt.imshow(X_train_red[0][i*n_trains[0]], cmap='gray')\n",
    "    plt.subplot(1, 3, 2)\n",
    "    plt.imshow(X_trainb[0][i*n_trains[0]], cmap='gray')\n",
    "    plt.subplot(1, 3, 3)\n",
    "    plt.imshow(X_train_otsu[0][i*n_trains[0]], cmap='gray')\n",
    "    plt.show()"
   ]
  },
  {
   "cell_type": "markdown",
   "metadata": {},
   "source": [
    "## Performing morphologic transforms to correct connectivity"
   ]
  },
  {
   "cell_type": "code",
   "execution_count": 9,
   "metadata": {
    "ExecuteTime": {
     "end_time": "2018-12-08T00:41:37.154263Z",
     "start_time": "2018-12-08T00:41:37.141696Z"
    }
   },
   "outputs": [],
   "source": [
    "def connect(imgs):\n",
    "    disk3 = disk(2)\n",
    "    new_imgs = []\n",
    "    coefs = []\n",
    "    for img, i in zip(imgs, range(len(imgs))):\n",
    "        while np.max(label(img)) > 2:\n",
    "            img = binary_dilation(img, disk3)\n",
    "            coefs+= [i]\n",
    "        new_imgs += [img]\n",
    "    return new_imgs, np.unique(coefs)"
   ]
  },
  {
   "cell_type": "code",
   "execution_count": 10,
   "metadata": {
    "ExecuteTime": {
     "end_time": "2018-12-08T00:41:37.973182Z",
     "start_time": "2018-12-08T00:41:37.969425Z"
    }
   },
   "outputs": [],
   "source": [
    "def hist_components(imgs, text):\n",
    "    new_imgs = [label(img) for img in imgs]\n",
    "    comps = [np.max(new_img) for new_img in new_imgs]\n",
    "    plt.hist(comps)\n",
    "    plt.title(text)\n",
    "    plt.show()"
   ]
  },
  {
   "cell_type": "code",
   "execution_count": 11,
   "metadata": {
    "ExecuteTime": {
     "end_time": "2018-12-08T00:41:48.959237Z",
     "start_time": "2018-12-08T00:41:41.846211Z"
    }
   },
   "outputs": [
    {
     "data": {
      "image/png": "[encoded data removed]",
      "text/plain": [
       "<Figure size 432x288 with 1 Axes>"
      ]
     },
     "metadata": {},
     "output_type": "display_data"
    },
    {
     "data": {
      "image/png": "[encoded data removed]",
      "text/plain": [
       "<Figure size 432x288 with 1 Axes>"
      ]
     },
     "metadata": {},
     "output_type": "display_data"
    },
    {
     "data": {
      "image/png": "[encoded data removed]",
      "text/plain": [
       "<Figure size 432x288 with 1 Axes>"
      ]
     },
     "metadata": {},
     "output_type": "display_data"
    },
    {
     "data": {
      "image/png": "[encoded data removed]",
      "text/plain": [
       "<Figure size 432x288 with 1 Axes>"
      ]
     },
     "metadata": {},
     "output_type": "display_data"
    },
    {
     "data": {
      "image/png": "[encoded data removed]",
      "text/plain": [
       "<Figure size 432x288 with 1 Axes>"
      ]
     },
     "metadata": {},
     "output_type": "display_data"
    },
    {
     "data": {
      "image/png": "[encoded data removed]",
      "text/plain": [
       "<Figure size 432x288 with 1 Axes>"
      ]
     },
     "metadata": {},
     "output_type": "display_data"
    },
    {
     "data": {
      "image/png": "[encoded data removed]",
      "text/plain": [
       "<Figure size 432x288 with 1 Axes>"
      ]
     },
     "metadata": {},
     "output_type": "display_data"
    },
    {
     "data": {
      "image/png": "[encoded data removed]",
      "text/plain": [
       "<Figure size 432x288 with 1 Axes>"
      ]
     },
     "metadata": {},
     "output_type": "display_data"
    },
    {
     "data": {
      "image/png": "[encoded data removed]",
      "text/plain": [
       "<Figure size 432x288 with 1 Axes>"
      ]
     },
     "metadata": {},
     "output_type": "display_data"
    },
    {
     "data": {
      "image/png": "[encoded data removed]",
      "text/plain": [
       "<Figure size 432x288 with 1 Axes>"
      ]
     },
     "metadata": {},
     "output_type": "display_data"
    },
    {
     "data": {
      "image/png": "[encoded data removed]",
      "text/plain": [
       "<Figure size 432x288 with 1 Axes>"
      ]
     },
     "metadata": {},
     "output_type": "display_data"
    },
    {
     "data": {
      "image/png": "[encoded data removed]",
      "text/plain": [
       "<Figure size 432x288 with 1 Axes>"
      ]
     },
     "metadata": {},
     "output_type": "display_data"
    }
   ],
   "source": [
    "for i in range(len(n_trains)):\n",
    "    hist_components(X_train_otsu[i], \"Number of connected components per image before filtering - Training set\")\n",
    "    hist_components(X_test_otsu[i], \"Number of connected components per image before filtering - Test set\")\n",
    "    hist_components(X_valid_otsu[i], \"Number of connected components per image before filtering- Validation set\")"
   ]
  },
  {
   "cell_type": "code",
   "execution_count": 12,
   "metadata": {
    "ExecuteTime": {
     "end_time": "2018-12-08T00:41:53.479777Z",
     "start_time": "2018-12-08T00:41:53.461400Z"
    }
   },
   "outputs": [],
   "source": [
    "def remove_noise(imgs, thresh):\n",
    "    new_imgs = []\n",
    "    coefs = []\n",
    "    for img, i in zip(imgs, range(len(imgs))):\n",
    "        imgl = label(img)\n",
    "        new_img = np.copy(img)\n",
    "        if np.max(imgl) > 1:\n",
    "            props = regionprops(imgl)\n",
    "            areas = [props[i].area for i in range(np.max(imgl))]\n",
    "            for area, j in zip(areas, range(len(areas))):\n",
    "                if area < thresh:\n",
    "                    coefs +=[i]\n",
    "                    a, b, c, d = props[j].bbox\n",
    "                    new_img[a:c, b:d] = 0\n",
    "        new_imgs += [new_img] \n",
    "    return new_imgs, coefs\n",
    "        "
   ]
  },
  {
   "cell_type": "code",
   "execution_count": 13,
   "metadata": {
    "ExecuteTime": {
     "end_time": "2018-12-08T00:42:02.739590Z",
     "start_time": "2018-12-08T00:41:55.099596Z"
    }
   },
   "outputs": [],
   "source": [
    "X_train_otsu_clean = []\n",
    "X_valid_otsu_clean = []\n",
    "X_test_otsu_clean = []\n",
    "coefstrain = []\n",
    "coefsvalid = []\n",
    "coefstest = []\n",
    "for i in range(len(X_train_otsu)):\n",
    "    xt, coefs = remove_noise(X_train_otsu[i], 10)\n",
    "    X_train_otsu_clean += [xt]\n",
    "    coefstrain += [coefs]\n",
    "    xte, coefst = remove_noise(X_test_otsu[i], 10)\n",
    "    X_test_otsu_clean += [xte]\n",
    "    coefstest += [coefst]\n",
    "    xv, coefsv = remove_noise(X_valid_otsu[i], 10)\n",
    "    X_valid_otsu_clean += [xv]\n",
    "    coefsvalid += [coefsv]"
   ]
  },
  {
   "cell_type": "code",
   "execution_count": null,
   "metadata": {
    "ExecuteTime": {
     "end_time": "2018-12-07T20:38:13.826219Z",
     "start_time": "2018-12-07T20:38:13.744817Z"
    }
   },
   "outputs": [],
   "source": [
    "print(len(X_train_otsu_clean), len(X_valid_otsu_clean), len(X_test_otsu_clean), np.shape(X_train_otsu_clean[0]))"
   ]
  },
  {
   "cell_type": "code",
   "execution_count": null,
   "metadata": {
    "ExecuteTime": {
     "end_time": "2018-12-07T16:52:17.371447Z",
     "start_time": "2018-12-07T16:51:51.790187Z"
    }
   },
   "outputs": [],
   "source": [
    "for i in coefstrain[0]:\n",
    "    plt.subplot(1, 2, 1)\n",
    "    plt.imshow(X_train_otsu[0][i], cmap = 'gray')\n",
    "    plt.title(\"Train - Original\")\n",
    "    plt.subplot(1, 2, 2)\n",
    "    plt.imshow(X_train_otsu_clean[0][i], cmap = 'gray')\n",
    "    plt.title(\"Train - Filtered\")\n",
    "    plt.show()"
   ]
  },
  {
   "cell_type": "code",
   "execution_count": null,
   "metadata": {
    "ExecuteTime": {
     "end_time": "2018-12-07T16:52:42.299582Z",
     "start_time": "2018-12-07T16:52:17.375158Z"
    }
   },
   "outputs": [],
   "source": [
    "for i in coefstest[2]:\n",
    "    plt.subplot(1, 2, 1)\n",
    "    plt.imshow(X_test_otsu[2][i], cmap = 'gray')\n",
    "    plt.title(\"Test - Original\")\n",
    "    plt.subplot(1, 2, 2)\n",
    "    plt.imshow(X_test_otsu_clean[2][i], cmap = 'gray')\n",
    "    plt.title(\"Test - Filtered\")\n",
    "    plt.show()"
   ]
  },
  {
   "cell_type": "code",
   "execution_count": null,
   "metadata": {
    "ExecuteTime": {
     "end_time": "2018-12-07T20:38:57.542622Z",
     "start_time": "2018-12-07T20:38:42.726384Z"
    }
   },
   "outputs": [],
   "source": [
    "for i in range(len(X_train_otsu)):\n",
    "    hist_components(X_train_otsu_clean[i], \"Number of connected components per image after filtering- Training set\")\n",
    "    hist_components(X_test_otsu_clean[i], \"Number of connected components per image after filtering - Test set\")\n",
    "    hist_components(X_valid_otsu_clean[i], \"Number of connected components per image after filtering - Validation set\")"
   ]
  },
  {
   "cell_type": "markdown",
   "metadata": {},
   "source": [
    "# Extracting Features"
   ]
  },
  {
   "cell_type": "markdown",
   "metadata": {},
   "source": [
    "## Imports"
   ]
  },
  {
   "cell_type": "code",
   "execution_count": 14,
   "metadata": {
    "ExecuteTime": {
     "end_time": "2018-12-08T00:42:26.129321Z",
     "start_time": "2018-12-08T00:42:26.121617Z"
    }
   },
   "outputs": [],
   "source": [
    "from skimage.measure import regionprops, label\n",
    "from scipy import ndimage"
   ]
  },
  {
   "cell_type": "markdown",
   "metadata": {},
   "source": [
    "## Feature extraction"
   ]
  },
  {
   "cell_type": "markdown",
   "metadata": {
    "ExecuteTime": {
     "end_time": "2018-12-07T20:40:49.395445Z",
     "start_time": "2018-12-07T20:40:49.360441Z"
    }
   },
   "source": [
    "The features extracted from the shape are, as previously cited:\n",
    "- area :the number of pixels belonging to the shape.\n",
    "- eccentricity: refers to the ratio $\\frac{FocalDistance}{||MajorAxis||}$ of  the ellipse with same variance as the shape.\n",
    "- equivalent diameter: diameter of the circle which has the same area as the shape.\n",
    "- euler number: topological measure. $Euler_{number} = n_c - n_h$, where $n_c$ is the number of connected components on the image and $n_h$ is the number of holes.\n",
    "- extent (or rectangularity):  $\\frac{area}{area(MER)}$; ratio between the shape's area and the minimum-enclosing-rectangle that contains the shape.\n",
    "- centroid: center of mass of the shape. $(S_{x0}, S_{y0}) = (\\frac{\\sum{S_{xi}}}{N}, \\frac{\\sum{S_{yi}}}{N}) $.\n",
    "- mean intensity: refers to the mean value of the intensities of the gray-level image of the shape.\n",
    "- major-axis length: \n",
    "- minor-axis length:\n",
    "- orientation: refers to the angle between the shape's major axis and the horizontal axis (x).\n",
    "- perimeter: the number of pixels in the shape's contour (extracted considering 8-conneted neighborhood)\n",
    "- solidity: $\\frac{area}{ConvexHullArea}$\n",
    "- standand deviation: refers to the standard deviation value of the intensities of the gray-level image of the shape."
   ]
  },
  {
   "cell_type": "code",
   "execution_count": 15,
   "metadata": {
    "ExecuteTime": {
     "end_time": "2018-12-08T00:42:28.609401Z",
     "start_time": "2018-12-08T00:42:28.588498Z"
    }
   },
   "outputs": [],
   "source": [
    "def feature_extraction_2(image_bin, image_gray):\n",
    "    features = []\n",
    "    img_binl = label(image_bin)\n",
    "    props = regionprops(label_image=img_binl, intensity_image=image_gray)\n",
    "    max_comp = 0\n",
    "    if np.max(img_binl) > 1:\n",
    "        areas = [props[i].area for i in range(np.max(img_binl))]\n",
    "        max_comp = np.argmax(areas)\n",
    "    \n",
    "    features.append(props[max_comp].area)\n",
    "    features.append(props[max_comp].eccentricity)\n",
    "    features.append(props[max_comp].equivalent_diameter)\n",
    "    features.append(props[max_comp].euler_number)\n",
    "    features.append(props[max_comp].extent)\n",
    "    lcx, lcy = props[max_comp].centroid\n",
    "    features.append(lcx)\n",
    "    features.append(lcy)\n",
    "    features.append(props[max_comp].mean_intensity)\n",
    "    features.append(props[max_comp].major_axis_length)\n",
    "    features.append(props[max_comp].minor_axis_length)\n",
    "    features.append(props[max_comp].major_axis_length/props[max_comp].minor_axis_length)\n",
    "    features.append(props[max_comp].orientation)\n",
    "    features.append(props[max_comp].perimeter)\n",
    "    features.append(props[max_comp].solidity)\n",
    "    features.append(props[max_comp].perimeter/props[max_comp].area)\n",
    "    features.append(ndimage.standard_deviation(image_gray))\n",
    "    return features"
   ]
  },
  {
   "cell_type": "code",
   "execution_count": 16,
   "metadata": {
    "ExecuteTime": {
     "end_time": "2018-12-08T00:49:24.601754Z",
     "start_time": "2018-12-08T00:42:29.566860Z"
    }
   },
   "outputs": [
    {
     "name": "stdout",
     "output_type": "stream",
     "text": [
      "Created train feature vector\n",
      "Created test feature vector\n",
      "Created valid feature vector\n",
      "Created train feature vector\n",
      "Created test feature vector\n",
      "Created valid feature vector\n",
      "Created train feature vector\n",
      "Created test feature vector\n",
      "Created valid feature vector\n",
      "Created train feature vector\n",
      "Created test feature vector\n",
      "Created valid feature vector\n",
      "4 4 4 14100\n"
     ]
    }
   ],
   "source": [
    "f_trains = []\n",
    "f_valids = []\n",
    "f_tests = []\n",
    "for i in range(len(X_train_otsu_clean)):\n",
    "    f_trains += [[feature_extraction_2(imageb, np.squeeze(imageg)) for imageb, imageg in zip(X_train_otsu_clean[i], X_train_red[i])]]\n",
    "    print(\"Created train feature vector\")\n",
    "\n",
    "    f_tests += [[feature_extraction_2(imageb, np.squeeze(imageg)) for imageb, imageg in  zip(X_test_otsu_clean[i], X_test_red[i])]]\n",
    "    print(\"Created test feature vector\")\n",
    "\n",
    "\n",
    "    f_valids += [[feature_extraction_2(imageb, np.squeeze(imageg)) for imageb, imageg in zip(X_valid_otsu_clean[i], X_valid_red[i])]]\n",
    "    print(\"Created valid feature vector\")\n",
    "print(len(f_trains), len(f_valids), len(f_tests), len(f_trains[0]))"
   ]
  },
  {
   "cell_type": "markdown",
   "metadata": {},
   "source": [
    "### Separating Digits from Letters"
   ]
  },
  {
   "cell_type": "code",
   "execution_count": 17,
   "metadata": {
    "ExecuteTime": {
     "end_time": "2018-12-08T00:49:24.605558Z",
     "start_time": "2018-12-08T00:49:24.603208Z"
    }
   },
   "outputs": [],
   "source": [
    "def sep_dig(data, labels, n_samples):\n",
    "    data_dig = data[:10*n_samples]\n",
    "    labels_dig = labels[:10*n_samples]\n",
    "    data_let = data[10*n_samples:]\n",
    "    labels_let  = labels[10*n_samples:]\n",
    "    return data_dig, labels_dig, data_let, labels_let"
   ]
  },
  {
   "cell_type": "code",
   "execution_count": 18,
   "metadata": {
    "ExecuteTime": {
     "end_time": "2018-12-08T00:49:24.800147Z",
     "start_time": "2018-12-08T00:49:24.606672Z"
    }
   },
   "outputs": [],
   "source": [
    "f_trains_dig, y_trains_dig, f_trains_let, y_trains_let  = [] , [], [], []\n",
    "f_valids_dig, y_valids_dig, f_valids_let, y_valids_let  = [] , [], [], []\n",
    "f_tests_dig, y_tests_dig, f_tests_let, y_tests_let  = [] , [], [], []\n",
    "\n",
    "for i in range(len(f_trains)):\n",
    "    f_train_dig, y_train_dig, f_train_let, y_train_let = sep_dig(f_trains[i], y_train_red[i], n_trains[i])\n",
    "    f_trains_dig += [f_train_dig] \n",
    "    y_trains_dig += [y_train_dig]\n",
    "    f_trains_let += [f_train_let]\n",
    "    y_trains_let += [y_train_let]\n",
    "    f_test_dig, y_test_dig, f_test_let, y_test_let = sep_dig(f_tests[i], y_test_red[i], n_tests[i]) \n",
    "    f_tests_dig += [f_test_dig] \n",
    "    y_tests_dig += [y_test_dig]\n",
    "    f_tests_let += [f_test_let]\n",
    "    y_tests_let += [y_test_let]\n",
    "    f_valid_dig, y_valid_dig, f_valid_let, y_valid_let = sep_dig(f_valids[i], y_valid_red[i], n_valids[i])\n",
    "    f_valids_dig += [f_valid_dig] \n",
    "    y_valids_dig += [y_valid_dig]\n",
    "    f_valids_let += [f_valid_let]\n",
    "    y_valids_let += [y_valid_let]\n",
    "    \n"
   ]
  },
  {
   "cell_type": "markdown",
   "metadata": {},
   "source": [
    "### Shuffling the feature vector"
   ]
  },
  {
   "cell_type": "code",
   "execution_count": 19,
   "metadata": {
    "ExecuteTime": {
     "end_time": "2018-12-08T00:49:24.912025Z",
     "start_time": "2018-12-08T00:49:24.801478Z"
    }
   },
   "outputs": [],
   "source": [
    "def permute(data, labels, n_samples, nb_classes):\n",
    "    perm = np.random.permutation(np.arange(n_samples*nb_classes))\n",
    "    new_data = np.array(data, copy = True)[perm]\n",
    "    new_labels = np.array(labels, copy = True)[perm]\n",
    "    return new_data, new_labels"
   ]
  },
  {
   "cell_type": "code",
   "execution_count": 20,
   "metadata": {
    "ExecuteTime": {
     "end_time": "2018-12-08T00:49:25.346738Z",
     "start_time": "2018-12-08T00:49:24.915209Z"
    }
   },
   "outputs": [],
   "source": [
    "f_train_perm, y_train_perm, f_test_perm, y_test_perm, f_valid_perm, y_valid_perm = [], [], [], [], [], []\n",
    "for i in range(len(n_trains)):\n",
    "    tp, ytp = permute(f_trains[i], y_train_red[i], n_trains[i], nb_classes)\n",
    "    f_train_perm += [tp]\n",
    "    y_train_perm += [ytp]\n",
    "    tep, ytep = permute(f_tests[i], y_test_red[i], n_tests[i], nb_classes)\n",
    "    f_test_perm += [tep]\n",
    "    y_test_perm += [ytep]\n",
    "    vp, yvp = permute(f_valids[i], y_valid_red[i], n_valids[i], nb_classes)\n",
    "    f_valid_perm += [vp]\n",
    "    y_valid_perm += [yvp]\n",
    "    "
   ]
  },
  {
   "cell_type": "markdown",
   "metadata": {},
   "source": [
    "# Fitting Classifiers"
   ]
  },
  {
   "cell_type": "markdown",
   "metadata": {},
   "source": [
    "## Imports"
   ]
  },
  {
   "cell_type": "code",
   "execution_count": 21,
   "metadata": {
    "ExecuteTime": {
     "end_time": "2018-12-08T00:54:55.029678Z",
     "start_time": "2018-12-08T00:54:42.940582Z"
    }
   },
   "outputs": [],
   "source": [
    "import numpy as np\n",
    "import matplotlib.pyplot as plt\n",
    "from matplotlib.colors import ListedColormap\n",
    "from sklearn.preprocessing import StandardScaler\n",
    "from sklearn.neural_network import MLPClassifier\n",
    "from sklearn.neighbors import KNeighborsClassifier\n",
    "from sklearn.svm import SVC\n",
    "from sklearn.gaussian_process import GaussianProcessClassifier\n",
    "from sklearn.gaussian_process.kernels import RBF\n",
    "from sklearn.tree import DecisionTreeClassifier\n",
    "from sklearn.ensemble import RandomForestClassifier, AdaBoostClassifier, GradientBoostingClassifier\n",
    "from sklearn.naive_bayes import GaussianNB\n",
    "from sklearn.discriminant_analysis import QuadraticDiscriminantAnalysis\n",
    "from sklearn.decomposition import PCA\n",
    "from sklearn.feature_selection import VarianceThreshold\n",
    "from sklearn.model_selection import cross_val_score\n",
    "import time"
   ]
  },
  {
   "cell_type": "markdown",
   "metadata": {},
   "source": [
    "## Feature Selection and normalization\n"
   ]
  },
  {
   "cell_type": "code",
   "execution_count": 22,
   "metadata": {
    "ExecuteTime": {
     "end_time": "2018-12-08T00:55:16.781208Z",
     "start_time": "2018-12-08T00:55:16.762939Z"
    }
   },
   "outputs": [],
   "source": [
    "def feature_sel(train, test, valid):\n",
    "    sel = VarianceThreshold(threshold=(.8 * (1 - .8)))\n",
    "    train_sel = sel.fit_transform(train)\n",
    "    test_sel = sel.fit_transform(test)\n",
    "    valid_sel = sel.fit_transform(valid)\n",
    "    print(train_sel.shape, test_sel.shape, valid_sel.shape)\n",
    "    return train_sel, test_sel, valid_sel\n",
    "\n",
    "def normalize(train, test, valid):\n",
    "    stdScaler = StandardScaler()\n",
    "    train_norm = stdScaler.fit_transform(train)\n",
    "    test_norm = stdScaler.fit_transform(test)\n",
    "    valid_norm = stdScaler.fit_transform(valid)\n",
    "    return train_norm, test_norm, valid_norm\n",
    "\n",
    "def transform(trains, tests, valids):\n",
    "    train_norm, test_norm, valid_norm = [], [], []\n",
    "    for i in range(len(trains)):\n",
    "        train, test, valid = normalize(*feature_sel(trains[i], tests[i], valids[i]))\n",
    "        train_norm += [train]\n",
    "        test_norm += [test]\n",
    "        valid_norm += [valid]\n",
    "    print(len(train_norm), len(test_norm), len(valid_norm))\n",
    "    return train_norm, test_norm, valid_norm"
   ]
  },
  {
   "cell_type": "markdown",
   "metadata": {},
   "source": [
    "## Classification"
   ]
  },
  {
   "cell_type": "code",
   "execution_count": 23,
   "metadata": {
    "ExecuteTime": {
     "end_time": "2018-12-08T00:55:20.826739Z",
     "start_time": "2018-12-08T00:55:19.668331Z"
    }
   },
   "outputs": [
    {
     "name": "stdout",
     "output_type": "stream",
     "text": [
      "(14100, 12) (4700, 12) (4700, 12)\n",
      "(23500, 12) (9400, 12) (9400, 12)\n",
      "(32900, 12) (14100, 12) (14100, 12)\n",
      "(42300, 12) (18800, 12) (18800, 12)\n",
      "4 4 4\n",
      "(3000, 12) (1000, 12) (1000, 12)\n",
      "(5000, 12) (2000, 12) (2000, 12)\n",
      "(7000, 12) (3000, 12) (3000, 12)\n",
      "(9000, 12) (4000, 12) (4000, 12)\n",
      "4 4 4\n",
      "(11100, 12) (3700, 12) (3700, 12)\n",
      "(18500, 12) (7400, 12) (7400, 12)\n",
      "(25900, 12) (11100, 12) (11100, 12)\n",
      "(33300, 12) (14800, 12) (14800, 12)\n",
      "4 4 4\n"
     ]
    }
   ],
   "source": [
    "clfs = [SVC(kernel='linear', C = 0.01), GradientBoostingClassifier()]\n",
    "clfs_names = [\"SVM com Kernel Linear\", \"Gradient Boosting\"]\n",
    "\n",
    "train_norm, test_norm, valid_norm = transform(f_train_perm, f_test_perm, f_valid_perm)\n",
    "train_digs_norm, test_digs_norm, valid_digs_norm = transform(f_trains_dig, f_tests_dig, f_valids_dig)\n",
    "train_lets_norm, test_lets_norm, valid_lets_norm = transform(f_trains_let, f_tests_let, f_valids_let)\n",
    "\n",
    "def classify(trains, trains_label, tests, tests_label, valids, valids_label, clfs, clfs_names):\n",
    "    score = dict()\n",
    "    valid_e = dict()\n",
    "    times = dict()\n",
    "    classifier = dict()\n",
    "    for cla, i in zip(clfs, clfs_names):\n",
    "        if not i in score:\n",
    "            score[i], valid_e[i], times[i], classifier[i] = [], [], [], []\n",
    "        for j in range(len(trains)):\n",
    "            clf = cla\n",
    "            start = time.time()\n",
    "            classifier[i] += [clf.fit(trains[j], trains_label[j])]\n",
    "            end  = time.time()\n",
    "            score[i] += [[clf.score(tests[k], tests_label[k]) for k in range(len(tests))]]\n",
    "            valid_e[i] += [[clf.score(valids[k], valids_label[k]) for k in range(len(valids))]]\n",
    "            times[i] += [end-start]\n",
    "            \n",
    "    return classifier, score, valid_e, times"
   ]
  },
  {
   "cell_type": "code",
   "execution_count": null,
   "metadata": {
    "ExecuteTime": {
     "start_time": "2018-12-08T00:55:24.019Z"
    }
   },
   "outputs": [],
   "source": [
    "classifiers, scores, valid_errs, times = classify(train_norm, y_train_red, test_norm, y_test_red, valid_norm, y_valid_red, clfs, clfs_names)"
   ]
  },
  {
   "cell_type": "markdown",
   "metadata": {},
   "source": [
    "### Classifying only digits"
   ]
  },
  {
   "cell_type": "code",
   "execution_count": null,
   "metadata": {
    "ExecuteTime": {
     "start_time": "2018-12-08T00:55:32.164Z"
    }
   },
   "outputs": [],
   "source": [
    "classfiers_dig, scores_dig, valid_errs_dig, times_dig = classify(train_digs_norm, y_trains_dig, test_digs_norm, y_test_dig, valid_digs_norm, y_valid_dig, clfs, clfs_names)"
   ]
  },
  {
   "cell_type": "markdown",
   "metadata": {},
   "source": [
    "### Classifying only letters"
   ]
  },
  {
   "cell_type": "code",
   "execution_count": null,
   "metadata": {
    "ExecuteTime": {
     "start_time": "2018-12-08T00:55:33.067Z"
    }
   },
   "outputs": [],
   "source": [
    "classfiers_let, scores_let, valid_errs_let, times_let = classify(train_lets_norm, y_trains_let, test_lets_norm, y_test_let, valid_lets_norm, y_valid_let, clfs, clfs_names)"
   ]
  },
  {
   "cell_type": "markdown",
   "metadata": {},
   "source": [
    "# Results"
   ]
  },
  {
   "cell_type": "markdown",
   "metadata": {},
   "source": [
    "## Imports"
   ]
  },
  {
   "cell_type": "code",
   "execution_count": null,
   "metadata": {
    "ExecuteTime": {
     "end_time": "2018-12-08T00:22:22.590613Z",
     "start_time": "2018-12-07T23:51:17.434Z"
    }
   },
   "outputs": [],
   "source": [
    "from sklearn import metrics\n",
    "import pprint, binascii\n",
    "import seaborn as sns"
   ]
  },
  {
   "cell_type": "markdown",
   "metadata": {},
   "source": [
    "## Confusion Matrix"
   ]
  },
  {
   "cell_type": "code",
   "execution_count": null,
   "metadata": {
    "ExecuteTime": {
     "end_time": "2018-12-08T00:22:22.593641Z",
     "start_time": "2018-12-07T23:51:17.906Z"
    }
   },
   "outputs": [],
   "source": [
    "characters = [binascii.b2a_qp(mapping[i]).decode('ascii') for i in mapping]"
   ]
  },
  {
   "cell_type": "code",
   "execution_count": null,
   "metadata": {
    "ExecuteTime": {
     "end_time": "2018-12-08T00:22:22.595600Z",
     "start_time": "2018-12-07T23:51:18.203Z"
    }
   },
   "outputs": [],
   "source": [
    "def heatmap(test, label, classifier, characters, title):\n",
    "        fig, ax = plt.subplots(figsize=(20,20)) \n",
    "        pred = classifier.predict(test)\n",
    "        sns.heatmap(metrics.confusion_matrix(label, pred), xticklabels=characters, yticklabels=characters)\n",
    "        plt.title(title)\n",
    "        plt.show()"
   ]
  },
  {
   "cell_type": "code",
   "execution_count": null,
   "metadata": {
    "ExecuteTime": {
     "end_time": "2018-12-08T00:22:22.598112Z",
     "start_time": "2018-12-07T23:51:18.490Z"
    }
   },
   "outputs": [],
   "source": [
    "def acc(clf_names, scores, n_trains, n_tests, name):\n",
    "    for clf_name in clfs_names:\n",
    "        fig, ax = plt.subplots(figsize=(30, 10)) \n",
    "        for scr, size, i in zip(scores[score], n_trains, range(len(n_trains))):\n",
    "            plt.subplot(1, len(n_trains), i+1)\n",
    "            plt.plot(scr)\n",
    "            plt.title(\"Accuracy in \" + name + \" set\" + clf_name)\n",
    "            plt.xticks(np.arange(4), (n_tests))\n",
    "            plt.ylabel(\"Accuracy - training set with \" + str(size)+ \"samples per class\")\n",
    "        plt.show()    "
   ]
  },
  {
   "cell_type": "code",
   "execution_count": null,
   "metadata": {
    "ExecuteTime": {
     "end_time": "2018-12-08T00:22:22.599599Z",
     "start_time": "2018-12-07T23:51:18.778Z"
    }
   },
   "outputs": [],
   "source": [
    "def time_graph(clfs_names, times, n_trains):\n",
    "    for clf in clfs_names:\n",
    "        fig, ax = plt.subplots(figsize=(10,8)) \n",
    "        plt.plot(times[clf])\n",
    "        plt.xticks(np.arange(4), (n_trains))\n",
    "        plt.title(\"Execution time for \" + clf + \" per training set size (s)\")   \n",
    "        plt.ylabel(\"seconds\")\n",
    "        plt.xlabel(\"Training set size\")\n",
    "        plt.show()"
   ]
  },
  {
   "cell_type": "code",
   "execution_count": null,
   "metadata": {
    "ExecuteTime": {
     "end_time": "2018-12-08T00:22:22.605537Z",
     "start_time": "2018-12-07T23:59:06.097Z"
    }
   },
   "outputs": [],
   "source": [
    "heatmap(test_norm[1], y_test_perm[1], classifiers[clfs_names[0]][0], characters, title='Heatmap of confusion matrix - SVM')\n",
    "heatmap(test_norm[1], y_test_perm[1], classifiers[clfs_names[1]][0], characters, title='Heatmap of confusion matrix - Gradient Boosting')"
   ]
  },
  {
   "cell_type": "code",
   "execution_count": null,
   "metadata": {
    "ExecuteTime": {
     "end_time": "2018-12-08T00:22:22.602990Z",
     "start_time": "2018-12-07T23:51:19.874Z"
    }
   },
   "outputs": [],
   "source": [
    "acc(clfs_names, scores, n_trains, n_tests, \"test\")\n",
    "acc(clfs_names, valid_errs, n_trains, n_valids, \"validation\")"
   ]
  },
  {
   "cell_type": "code",
   "execution_count": null,
   "metadata": {
    "ExecuteTime": {
     "end_time": "2018-12-08T00:22:22.604258Z",
     "start_time": "2018-12-07T23:51:20.274Z"
    }
   },
   "outputs": [],
   "source": [
    "time_graph(clfs_names, times, n_trains)"
   ]
  },
  {
   "cell_type": "code",
   "execution_count": null,
   "metadata": {},
   "outputs": [],
   "source": []
  }
 ],
 "metadata": {
  "kernelspec": {
   "display_name": "Python 3",
   "language": "python",
   "name": "python3"
  },
  "language_info": {
   "codemirror_mode": {
    "name": "ipython",
    "version": 3
   },
   "file_extension": ".py",
   "mimetype": "text/x-python",
   "name": "python",
   "nbconvert_exporter": "python",
   "pygments_lexer": "ipython3",
   "version": "3.6.5"
  },
  "toc": {
   "base_numbering": 1,
   "nav_menu": {},
   "number_sections": true,
   "sideBar": true,
   "skip_h1_title": false,
   "title_cell": "Table of Contents",
   "title_sidebar": "Contents",
   "toc_cell": false,
   "toc_position": {
    "height": "434px",
    "left": "1201px",
    "top": "111px",
    "width": "165px"
   },
   "toc_section_display": true,
   "toc_window_display": true
  }
 },
 "nbformat": 4,
 "nbformat_minor": 2
}
