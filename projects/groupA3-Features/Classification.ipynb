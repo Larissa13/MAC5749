{
 "cells": [
  {
   "cell_type": "markdown",
   "metadata": {},
   "source": [
    "# Grupo A3 - Classification using feature vectors"
   ]
  },
  {
   "cell_type": "markdown",
   "metadata": {},
   "source": [
    " In this project we will extract features from the shapes present in the images in order to correctly classify the EMNIST dataset. \n",
    " \n",
    "The features to be extracted are:\n",
    "\n",
    "TODO: choose features\n",
    "- area of the black pixels (foreground/shape)\n",
    "- area of the white pixels (background)\n",
    "- perimeter of the shape\n",
    "- bounding-box area\n",
    "- major axis length\n",
    "- solidity\n",
    "- extent\n",
    "- equivalent-diameter\n",
    "- centroid (x and y coordinates)\n",
    "- convex_area\n",
    "\n",
    "The classifiers that will be used are: \n",
    "- Nearest Neighbors\n",
    "- SVC (SVM for classification, C-Support Vector Classification.)\n",
    "- Gaussian Process\n",
    "- Decision Tree\n",
    "- Random Forest\n",
    "- MLP (Multi-Layer Perceptron)\n",
    "- Ada Boost\n",
    "- Gaussian NB\n",
    "- Quadratic Discriminant Analysis\n",
    "\n",
    "We will use the classifiers from scikit-learn and follow the scheme present in "
   ]
  },
  {
   "cell_type": "markdown",
   "metadata": {
    "collapsed": true
   },
   "source": [
    "#  Loading Data"
   ]
  },
  {
   "cell_type": "markdown",
   "metadata": {},
   "source": [
    "## Imports"
   ]
  },
  {
   "cell_type": "code",
   "execution_count": 1,
   "metadata": {
    "ExecuteTime": {
     "end_time": "2018-11-16T20:13:53.323303Z",
     "start_time": "2018-11-16T20:13:43.623353Z"
    }
   },
   "outputs": [],
   "source": [
    "import sys\n",
    "sys.path.append('../../')\n",
    "\n",
    "from sarpy.datasets import load_emnist\n",
    "%matplotlib inline\n",
    "\n",
    "import matplotlib.pyplot as plt\n",
    "import numpy as np"
   ]
  },
  {
   "cell_type": "markdown",
   "metadata": {},
   "source": [
    "## Loading data set and binarizing the images"
   ]
  },
  {
   "cell_type": "code",
   "execution_count": 2,
   "metadata": {
    "ExecuteTime": {
     "end_time": "2018-11-14T22:53:16.714713Z",
     "start_time": "2018-11-14T22:53:16.547642Z"
    }
   },
   "outputs": [
    {
     "name": "stderr",
     "output_type": "stream",
     "text": [
      "reshape training: 100%|██████████| 112800/112800 [00:03<00:00, 32992.10it/s]\n",
      "reshape testing: 100%|██████████| 18800/18800 [00:00<00:00, 34694.48it/s]\n"
     ]
    },
    {
     "name": "stdout",
     "output_type": "stream",
     "text": [
      "Train size: 94000\n",
      "Test size: 18800\n",
      "Validation size: 18800\n",
      "# classes: 47\n"
     ]
    }
   ],
   "source": [
    "X_train, y_train, X_test, y_test, X_valid, y_valid, mapping, nb_classes = load_emnist('balanced', validation=True)\n",
    "\n",
    "X_train = X_train > 0\n",
    "X_train = X_train.astype(int)\n",
    "X_train = np.squeeze(X_train)\n",
    "\n",
    "X_test = X_test > 0\n",
    "X_test = X_test.astype(int)\n",
    "X_test = np.squeeze(X_test)\n",
    "\n",
    "X_valid = X_valid > 0\n",
    "X_valid = X_valid.astype(int)\n",
    "X_valid = np.squeeze(X_valid)"
   ]
  },
  {
   "cell_type": "markdown",
   "metadata": {},
   "source": [
    "# Extracting Features"
   ]
  },
  {
   "cell_type": "markdown",
   "metadata": {},
   "source": [
    "## Imports"
   ]
  },
  {
   "cell_type": "code",
   "execution_count": 3,
   "metadata": {
    "ExecuteTime": {
     "end_time": "2018-11-17T00:08:00.488244Z",
     "start_time": "2018-11-17T00:08:00.162354Z"
    }
   },
   "outputs": [],
   "source": [
    "from skimage.measure import regionprops"
   ]
  },
  {
   "cell_type": "markdown",
   "metadata": {},
   "source": [
    "## Feature extraction"
   ]
  },
  {
   "cell_type": "code",
   "execution_count": 4,
   "metadata": {},
   "outputs": [],
   "source": [
    "def feature_extraction(image):\n",
    "    features = []*11\n",
    "    props = regionprops(image, coordinates='rc', cache =  True)\n",
    "    \n",
    "    features.append(props[0].area)\n",
    "    features.append(len(image)*len(image[0]) - props[0].area)\n",
    "    features.append(props[0].perimeter)\n",
    "    features.append(props[0].bbox_area)\n",
    "    features.append(props[0].major_axis_length)\n",
    "    features.append(props[0].solidity)\n",
    "    features.append(props[0].extent)\n",
    "    features.append(props[0].equivalent_diameter)\n",
    "    features.append(props[0].centroid[0])\n",
    "    features.append(props[0].centroid[1])\n",
    "    features.append(props[0].convex_area)\n",
    "    return features\n"
   ]
  },
  {
   "cell_type": "code",
   "execution_count": null,
   "metadata": {},
   "outputs": [],
   "source": [
    "f_train = []\n",
    "f_test = []\n",
    "f_valid = []\n",
    "\n",
    "#isso está demorando bastante \n",
    "for i in range(0, len(X_train)):\n",
    "    f_train.append(feature_extraction(X_train[i]))\n",
    "    \n",
    "print(\"Created train feature vector\")\n",
    "\n",
    "for i in range(0, len(X_test)):\n",
    "    f_test.append(feature_extraction(X_test[i]))\n",
    "    \n",
    "print(\"Created test feature vector\")\n",
    "\n",
    "for i in range(0, len(X_valid)):\n",
    "    f_valid.append(feature_extraction(X_valid[i]))\n",
    "    \n",
    "print(\"Created valid feature vector\")\n",
    "\n",
    "\n",
    "\n",
    "# for i in range(0, len(f)):\n",
    "#     print(f[i])\n"
   ]
  },
  {
   "cell_type": "markdown",
   "metadata": {},
   "source": [
    "# Fitting Classifiers"
   ]
  },
  {
   "cell_type": "markdown",
   "metadata": {},
   "source": [
    "# Results"
   ]
  }
 ],
 "metadata": {
  "kernelspec": {
   "display_name": "Python 3",
   "language": "python",
   "name": "python3"
  },
  "language_info": {
   "codemirror_mode": {
    "name": "ipython",
    "version": 3
   },
   "file_extension": ".py",
   "mimetype": "text/x-python",
   "name": "python",
   "nbconvert_exporter": "python",
   "pygments_lexer": "ipython3",
   "version": "3.7.0"
  },
  "toc": {
   "base_numbering": 1,
   "nav_menu": {},
   "number_sections": true,
   "sideBar": true,
   "skip_h1_title": false,
   "title_cell": "Table of Contents",
   "title_sidebar": "Contents",
   "toc_cell": false,
   "toc_position": {},
   "toc_section_display": true,
   "toc_window_display": false
  }
 },
 "nbformat": 4,
 "nbformat_minor": 2
}
