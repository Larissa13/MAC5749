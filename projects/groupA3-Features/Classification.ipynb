{
 "cells": [
  {
   "cell_type": "markdown",
   "metadata": {},
   "source": [
    "# Grupo A3 - Classification using feature vectors"
   ]
  },
  {
   "cell_type": "markdown",
   "metadata": {},
   "source": [
    " In this project we will extract features from the shapes present in the images in order to correctly classify the EMNIST dataset. \n",
    " \n",
    "The features to be extracted are:\n",
    "\n",
    "TODO: choose features\n",
    "- area of the black pixels (foreground/shape)\n",
    "- area of the white pixels (background)\n",
    "- perimeter of the shape\n",
    "- bounding-box area\n",
    "- major axis length\n",
    "- solidity\n",
    "- extent\n",
    "- equivalent-diameter\n",
    "- centroid (x and y coordinates)\n",
    "- convex_area\n",
    "\n",
    "The classifiers that will be used are: \n",
    "- Nearest Neighbors\n",
    "- SVC (SVM for classification, C-Support Vector Classification.)\n",
    "- Gaussian Process\n",
    "- Decision Tree\n",
    "- Random Forest\n",
    "- MLP (Multi-Layer Perceptron)\n",
    "- Ada Boost\n",
    "- Gaussian NB\n",
    "- Quadratic Discriminant Analysis\n",
    "\n",
    "We will use the classifiers from scikit-learn and follow the scheme present in "
   ]
  },
  {
   "cell_type": "markdown",
   "metadata": {
    "collapsed": true
   },
   "source": [
    "#  Loading Data"
   ]
  },
  {
   "cell_type": "markdown",
   "metadata": {},
   "source": [
    "## Imports"
   ]
  },
  {
   "cell_type": "code",
   "execution_count": 3,
   "metadata": {
    "ExecuteTime": {
     "end_time": "2018-11-16T20:13:53.323303Z",
     "start_time": "2018-11-16T20:13:43.623353Z"
    }
   },
   "outputs": [],
   "source": [
    "import sys\n",
    "sys.path.append('../../')\n",
    "\n",
    "from sarpy.datasets import load_emnist\n",
    "\n",
    "import matplotlib.pyplot as plt\n",
    "%matplotlib inline"
   ]
  },
  {
   "cell_type": "markdown",
   "metadata": {},
   "source": [
    "## Loading data set and binarizing the images"
   ]
  },
  {
   "cell_type": "code",
   "execution_count": 33,
   "metadata": {
    "ExecuteTime": {
     "end_time": "2018-11-14T22:53:16.714713Z",
     "start_time": "2018-11-14T22:53:16.547642Z"
    }
   },
   "outputs": [
    {
     "name": "stderr",
     "output_type": "stream",
     "text": [
      "reshape training: 100%|██████████| 112800/112800 [00:02<00:00, 54112.09it/s]\n",
      "reshape testing: 100%|██████████| 18800/18800 [00:00<00:00, 49196.89it/s]\n"
     ]
    },
    {
     "name": "stdout",
     "output_type": "stream",
     "text": [
      "Train size: 94000\n",
      "Test size: 18800\n",
      "Validation size: 18800\n",
      "# classes: 47\n"
     ]
    }
   ],
   "source": [
    "X_train, y_train, X_test, y_test, X_valid, y_valid, mapping, nb_classes = load_emnist('balanced', validation=True)\n",
    "\n",
    "X_train = X_train > 0\n",
    "X_test = X_test > 0\n",
    "X_valid = X_valid > 0"
   ]
  },
  {
   "cell_type": "markdown",
   "metadata": {},
   "source": [
    "# Extracting Features"
   ]
  },
  {
   "cell_type": "markdown",
   "metadata": {},
   "source": [
    "## Imports"
   ]
  },
  {
   "cell_type": "code",
   "execution_count": 1,
   "metadata": {
    "ExecuteTime": {
     "end_time": "2018-11-17T00:08:00.488244Z",
     "start_time": "2018-11-17T00:08:00.162354Z"
    }
   },
   "outputs": [],
   "source": [
    "from skimage.measure import regionprops"
   ]
  },
  {
   "cell_type": "markdown",
   "metadata": {},
   "source": [
    "## Feature extraction"
   ]
  },
  {
   "cell_type": "code",
   "execution_count": null,
   "metadata": {},
   "outputs": [],
   "source": []
  },
  {
   "cell_type": "markdown",
   "metadata": {},
   "source": [
    "# Fitting Classifiers"
   ]
  },
  {
   "cell_type": "markdown",
   "metadata": {},
   "source": [
    "# Results"
   ]
  }
 ],
 "metadata": {
  "kernelspec": {
   "display_name": "Python 3",
   "language": "python",
   "name": "python3"
  },
  "language_info": {
   "codemirror_mode": {
    "name": "ipython",
    "version": 3
   },
   "file_extension": ".py",
   "mimetype": "text/x-python",
   "name": "python",
   "nbconvert_exporter": "python",
   "pygments_lexer": "ipython3",
   "version": "3.6.5"
  },
  "toc": {
   "base_numbering": 1,
   "nav_menu": {},
   "number_sections": true,
   "sideBar": true,
   "skip_h1_title": false,
   "title_cell": "Table of Contents",
   "title_sidebar": "Contents",
   "toc_cell": false,
   "toc_position": {},
   "toc_section_display": true,
   "toc_window_display": false
  }
 },
 "nbformat": 4,
 "nbformat_minor": 2
}
