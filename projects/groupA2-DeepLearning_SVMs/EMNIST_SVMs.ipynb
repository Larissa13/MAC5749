{
  "nbformat": 4,
  "nbformat_minor": 0,
  "metadata": {
    "colab": {
      "name": "EMNIST SVMs",
      "version": "0.3.2",
      "provenance": [],
      "collapsed_sections": []
    },
    "kernelspec": {
      "name": "python3",
      "display_name": "Python 3"
    },
    "accelerator": "GPU"
  },
  "cells": [
    {
      "metadata": {
        "id": "uDUw_2Q9CYAD",
        "colab_type": "text"
      },
      "cell_type": "markdown",
      "source": [
        "## Dependencias"
      ]
    },
    {
      "metadata": {
        "id": "8kQsNuSO17m2",
        "colab_type": "code",
        "outputId": "9212831e-dd41-4582-941d-5a9afc078c33",
        "colab": {
          "base_uri": "https://localhost:8080/",
          "height": 34
        }
      },
      "cell_type": "code",
      "source": [
        "import numpy as np\n",
        "import matplotlib.pyplot as plt\n",
        "from PIL import Image\n",
        "from keras.preprocessing import image\n",
        "from tqdm import tqdm\n",
        "\n",
        "from sklearn.decomposition import RandomizedPCA\n",
        "from sklearn.metrics import accuracy_score\n",
        "\n",
        "%matplotlib inline\n",
        "\n",
        "%load_ext autoreload\n",
        "%autoreload 2"
      ],
      "execution_count": 0,
      "outputs": [
        {
          "output_type": "stream",
          "text": [
            "Using TensorFlow backend.\n"
          ],
          "name": "stderr"
        }
      ]
    },
    {
      "metadata": {
        "id": "Qp705zKX92CU",
        "colab_type": "text"
      },
      "cell_type": "markdown",
      "source": [
        "## Configurações para baixar arquivos do Google Drive"
      ]
    },
    {
      "metadata": {
        "id": "sqAIjTjm99tA",
        "colab_type": "code",
        "colab": {}
      },
      "cell_type": "code",
      "source": [
        "# Install the PyDrive wrapper & import libraries.\n",
        "# This only needs to be done once per notebook.\n",
        "!pip install -U -q PyDrive\n",
        "from pydrive.auth import GoogleAuth\n",
        "from pydrive.drive import GoogleDrive\n",
        "from google.colab import auth\n",
        "from oauth2client.client import GoogleCredentials\n",
        "from googleapiclient.http import MediaFileUpload\n",
        "from googleapiclient.discovery import build\n",
        "\n",
        "# Authenticate and create the PyDrive client.\n",
        "# This only needs to be done once per notebook.\n",
        "auth.authenticate_user()\n",
        "gauth = GoogleAuth()\n",
        "gauth.credentials = GoogleCredentials.get_application_default()\n",
        "drive = GoogleDrive(gauth)"
      ],
      "execution_count": 0,
      "outputs": []
    },
    {
      "metadata": {
        "id": "5Zprl2QwCmPJ",
        "colab_type": "text"
      },
      "cell_type": "markdown",
      "source": [
        "## Clonar o repositório do projeto"
      ]
    },
    {
      "metadata": {
        "id": "s2ZEgR8Gxy_1",
        "colab_type": "code",
        "outputId": "ee4d91d0-d765-4bc4-c25f-9525e0086633",
        "colab": {
          "base_uri": "https://localhost:8080/",
          "height": 68
        }
      },
      "cell_type": "code",
      "source": [
        "%cd /content/\n",
        "!git clone https://github.com/Larissa13/MAC5749.git\n",
        "%cd MAC5749\n",
        "\n",
        "import sys\n",
        "if not 'MAC5749' in sys.path:\n",
        "  sys.path.append('MAC5749')"
      ],
      "execution_count": 0,
      "outputs": [
        {
          "output_type": "stream",
          "text": [
            "/content\n",
            "fatal: destination path 'MAC5749' already exists and is not an empty directory.\n",
            "/content/MAC5749\n"
          ],
          "name": "stdout"
        }
      ]
    },
    {
      "metadata": {
        "id": "--ZFsdxyCriX",
        "colab_type": "text"
      },
      "cell_type": "markdown",
      "source": [
        "## Carregar o dataset"
      ]
    },
    {
      "metadata": {
        "id": "8VdQeem0yTC-",
        "colab_type": "code",
        "outputId": "149db414-cbc9-47fd-9e40-abef6b9331d3",
        "colab": {
          "base_uri": "https://localhost:8080/",
          "height": 187
        }
      },
      "cell_type": "code",
      "source": [
        "from sarpy.datasets import load_emnist\n",
        "\n",
        "X_train, y_train, X_test, y_test, X_valid, y_valid, mapping, nb_classes = load_emnist('balanced')\n",
        "\n",
        "print('X_train shape:', X_train.shape)\n",
        "print('y_train shape:', y_train.shape)\n",
        "\n",
        "#print('X_valid shape:', X_valid.shape)\n",
        "#print('y_valid shape:', y_valid.shape)\n",
        "\n",
        "print('X_test shape:', X_test.shape)\n",
        "print('y_test shape:', y_test.shape)"
      ],
      "execution_count": 0,
      "outputs": [
        {
          "output_type": "stream",
          "text": [
            "reshape training: 100%|██████████| 112800/112800 [00:02<00:00, 45629.19it/s]\n",
            "reshape testing: 100%|██████████| 18800/18800 [00:00<00:00, 47341.39it/s]\n"
          ],
          "name": "stderr"
        },
        {
          "output_type": "stream",
          "text": [
            "Train size: 112800\n",
            "Test size: 18800\n",
            "Validation size: 0\n",
            "# classes: 47\n",
            "X_train shape: (112800, 28, 28, 1)\n",
            "y_train shape: (112800, 1)\n",
            "X_test shape: (18800, 28, 28, 1)\n",
            "y_test shape: (18800, 1)\n"
          ],
          "name": "stdout"
        }
      ]
    },
    {
      "metadata": {
        "id": "fMZDQvMaL0jM",
        "colab_type": "text"
      },
      "cell_type": "markdown",
      "source": [
        "# Função que avalia os classificadores\n",
        "\n"
      ]
    },
    {
      "metadata": {
        "id": "liEBwXqeL0HF",
        "colab_type": "code",
        "colab": {}
      },
      "cell_type": "code",
      "source": [
        "from sklearn.svm import SVC, LinearSVC\n",
        "from sklearn.model_selection import cross_val_score\n",
        "\n",
        "def testClassifiers(X, Y, step):\n",
        "    names = [\"Linear SVM\", \n",
        "             \"RBF SVM\",\n",
        "             \"RBF SVM Gamma=2\",\n",
        "             \"RBF SVM C=005\",\n",
        "            ]\n",
        "\n",
        "    classifiers = [\n",
        "        LinearSVC(C=0.025),\n",
        "        SVC(kernel=\"rbf\"),\n",
        "        SVC(kernel=\"rbf\", gamma=2, C=1),\n",
        "        SVC(kernel=\"rbf\", C=0.005),\n",
        "    ]\n",
        "\n",
        "    kfolds   = 4 # number of kfolds\n",
        "\n",
        "    #print(\"Kfolds\",kfolds)\n",
        "    \n",
        "    X_std = X\n",
        "    #print(X_std.shape)\n",
        "    \n",
        "    plt.figure(figsize=(8,8))\n",
        "    \n",
        "    # iterate over classifiers names and configurations\n",
        "    print(\"\\n>> Classifiers\")\n",
        "    print(\"cross validation, kfolds = \",kfolds,\"\\n\")\n",
        "    for name, clf in zip(names, classifiers):\n",
        "        print(\"+\",name)\n",
        "        #plot x and y\n",
        "        x_graph = [0]\n",
        "        y_graph =[[0,0]]\n",
        "\n",
        "        # increase number of features at each iteration for comparations\n",
        "        for j in tqdm(range (0,X_std.shape[1],step), desc=\"Evaluating %s...\"%name):\n",
        "            #print(j+2, \"features\")\n",
        "            ttx = X_std[:,:j+2]\n",
        "            \n",
        "            #Cross validation 5-folds  (5 classifications)   \n",
        "            #print(ttx.shape)\n",
        "            scores = cross_val_score(clf, ttx, Y, cv=kfolds)\n",
        "\n",
        "            #add results to plot\n",
        "            x_graph = np.append(x_graph , (j+2))\n",
        "            y_graph = np.concatenate((y_graph,[[np.mean(scores),np.std(scores)]]),axis=0)\n",
        "\n",
        "        y_graph = y_graph[1:]\n",
        "        x_graph = x_graph[1:]\n",
        "\n",
        "        plt.plot(x_graph,y_graph[:,0],label=name)\n",
        "        plt.legend()\n",
        "    plt.xlabel('# of features')\n",
        "    plt.ylabel('predictions accuracy (%)')\n",
        "    plt.show()"
      ],
      "execution_count": 0,
      "outputs": []
    },
    {
      "metadata": {
        "id": "OSM7aJceC-fT",
        "colab_type": "text"
      },
      "cell_type": "markdown",
      "source": [
        "# SVM direto nos dados\n",
        "\n",
        "Treinamento de diversos modelos de SVMs diretamente no valor dos pixels, variando a quantidade de dados."
      ]
    },
    {
      "metadata": {
        "id": "JRvrubFl7tjX",
        "colab_type": "code",
        "outputId": "b2888428-4de4-42f9-fe2d-db58c3ecc701",
        "colab": {
          "base_uri": "https://localhost:8080/",
          "height": 698
        }
      },
      "cell_type": "code",
      "source": [
        "testClassifiers(X_train[0:400].reshape((-1, 28*28)), y_train[0:400].squeeze(), step = 28*28-1)"
      ],
      "execution_count": 0,
      "outputs": [
        {
          "output_type": "stream",
          "text": [
            "\rEvaluating Linear SVM...:   0%|          | 0/2 [00:00<?, ?it/s]"
          ],
          "name": "stderr"
        },
        {
          "output_type": "stream",
          "text": [
            "\n",
            ">> Classifiers\n",
            "cross validation, kfolds =  4 \n",
            "\n",
            "+ Linear SVM\n"
          ],
          "name": "stdout"
        },
        {
          "output_type": "stream",
          "text": [
            "Evaluating Linear SVM...: 100%|██████████| 2/2 [00:02<00:00,  1.19s/it]\n",
            "Evaluating RBF SVM...:   0%|          | 0/2 [00:00<?, ?it/s]"
          ],
          "name": "stderr"
        },
        {
          "output_type": "stream",
          "text": [
            "+ RBF SVM\n"
          ],
          "name": "stdout"
        },
        {
          "output_type": "stream",
          "text": [
            "Evaluating RBF SVM...: 100%|██████████| 2/2 [00:01<00:00,  1.97it/s]\n",
            "Evaluating RBF SVM Gamma=2...:   0%|          | 0/2 [00:00<?, ?it/s]"
          ],
          "name": "stderr"
        },
        {
          "output_type": "stream",
          "text": [
            "+ RBF SVM Gamma=2\n"
          ],
          "name": "stdout"
        },
        {
          "output_type": "stream",
          "text": [
            "Evaluating RBF SVM Gamma=2...: 100%|██████████| 2/2 [00:00<00:00,  2.00it/s]\n",
            "Evaluating RBF SVM C=005...:   0%|          | 0/2 [00:00<?, ?it/s]"
          ],
          "name": "stderr"
        },
        {
          "output_type": "stream",
          "text": [
            "+ RBF SVM C=005\n"
          ],
          "name": "stdout"
        },
        {
          "output_type": "stream",
          "text": [
            "\rEvaluating RBF SVM C=005...: 100%|██████████| 2/2 [00:00<00:00,  2.04it/s]\n"
          ],
          "name": "stderr"
        },
        {
          "output_type": "display_data",
          "data": {
            "image/png": "[encoded data removed]",
            "text/plain": [
              "<matplotlib.figure.Figure at 0x7fb8b6e12668>"
            ]
          },
          "metadata": {
            "tags": []
          }
        }
      ]
    },
    {
      "metadata": {
        "id": "-UI2KRWAJrok",
        "colab_type": "text"
      },
      "cell_type": "markdown",
      "source": [
        "# Extração de features com VGG16 (Imagenet)\n",
        "\n",
        "Treinamento de diversos modelos de SVMs sobre as features extraídas pela rede VGG16 [(Simonyan et al, 2015)](https://arxiv.org/abs/1409.1556), pré-treinada para classificação no Imagenet, variando a quantidade de features utilizadas."
      ]
    },
    {
      "metadata": {
        "id": "2E2_h3JzKxQZ",
        "colab_type": "text"
      },
      "cell_type": "markdown",
      "source": [
        "### Instanciar a rede"
      ]
    },
    {
      "metadata": {
        "id": "crMzSzHMK16d",
        "colab_type": "code",
        "outputId": "c0ac0b9c-db5c-4fc0-e2bb-b46bc5fd5e2d",
        "colab": {
          "base_uri": "https://localhost:8080/",
          "height": 836
        }
      },
      "cell_type": "code",
      "source": [
        "from keras.applications import vgg16\n",
        "\n",
        "model_vgg16 = vgg16.VGG16(weights='imagenet', include_top=False)\n",
        "model_vgg16.summary()"
      ],
      "execution_count": 0,
      "outputs": [
        {
          "output_type": "stream",
          "text": [
            "Downloading data from https://github.com/fchollet/deep-learning-models/releases/download/v0.1/vgg16_weights_tf_dim_ordering_tf_kernels_notop.h5\n",
            "58892288/58889256 [==============================] - 1s 0us/step\n",
            "_________________________________________________________________\n",
            "Layer (type)                 Output Shape              Param #   \n",
            "=================================================================\n",
            "input_1 (InputLayer)         (None, None, None, 3)     0         \n",
            "_________________________________________________________________\n",
            "block1_conv1 (Conv2D)        (None, None, None, 64)    1792      \n",
            "_________________________________________________________________\n",
            "block1_conv2 (Conv2D)        (None, None, None, 64)    36928     \n",
            "_________________________________________________________________\n",
            "block1_pool (MaxPooling2D)   (None, None, None, 64)    0         \n",
            "_________________________________________________________________\n",
            "block2_conv1 (Conv2D)        (None, None, None, 128)   73856     \n",
            "_________________________________________________________________\n",
            "block2_conv2 (Conv2D)        (None, None, None, 128)   147584    \n",
            "_________________________________________________________________\n",
            "block2_pool (MaxPooling2D)   (None, None, None, 128)   0         \n",
            "_________________________________________________________________\n",
            "block3_conv1 (Conv2D)        (None, None, None, 256)   295168    \n",
            "_________________________________________________________________\n",
            "block3_conv2 (Conv2D)        (None, None, None, 256)   590080    \n",
            "_________________________________________________________________\n",
            "block3_conv3 (Conv2D)        (None, None, None, 256)   590080    \n",
            "_________________________________________________________________\n",
            "block3_pool (MaxPooling2D)   (None, None, None, 256)   0         \n",
            "_________________________________________________________________\n",
            "block4_conv1 (Conv2D)        (None, None, None, 512)   1180160   \n",
            "_________________________________________________________________\n",
            "block4_conv2 (Conv2D)        (None, None, None, 512)   2359808   \n",
            "_________________________________________________________________\n",
            "block4_conv3 (Conv2D)        (None, None, None, 512)   2359808   \n",
            "_________________________________________________________________\n",
            "block4_pool (MaxPooling2D)   (None, None, None, 512)   0         \n",
            "_________________________________________________________________\n",
            "block5_conv1 (Conv2D)        (None, None, None, 512)   2359808   \n",
            "_________________________________________________________________\n",
            "block5_conv2 (Conv2D)        (None, None, None, 512)   2359808   \n",
            "_________________________________________________________________\n",
            "block5_conv3 (Conv2D)        (None, None, None, 512)   2359808   \n",
            "_________________________________________________________________\n",
            "block5_pool (MaxPooling2D)   (None, None, None, 512)   0         \n",
            "=================================================================\n",
            "Total params: 14,714,688\n",
            "Trainable params: 14,714,688\n",
            "Non-trainable params: 0\n",
            "_________________________________________________________________\n"
          ],
          "name": "stdout"
        }
      ]
    },
    {
      "metadata": {
        "id": "k-M5IxDvLMAS",
        "colab_type": "text"
      },
      "cell_type": "markdown",
      "source": [
        "### Funções para extrair as *VGG16 features* das imagens"
      ]
    },
    {
      "metadata": {
        "id": "pskDssuJLLiC",
        "colab_type": "code",
        "colab": {}
      },
      "cell_type": "code",
      "source": [
        "def get_features_vgg(img, model, new_sz):\n",
        "    img = np.stack((img,)*3, axis=-1)\n",
        "    pimage = Image.fromarray(img.astype('uint8'))\n",
        "    pimage = pimage.resize((new_sz,new_sz))\n",
        "    img_data = image.img_to_array(pimage)\n",
        "    img_data = np.expand_dims(img_data, axis=0)\n",
        "    img_data = vgg16.preprocess_input(img_data)\n",
        "    features = model.predict(img_data)\n",
        "    return features\n",
        "  \n",
        "def feature_extraction_vgg(X, model):\n",
        "    M = []\n",
        "    for i in tqdm(range(len(X)), desc=\"Extracting image features using VGG16\"):\n",
        "        if (i%500 == 0):\n",
        "            print(i)\n",
        "        features = get_features_vgg(X[i].reshape(28,28), model, 224)\n",
        "        feature_np = np.array(features)\n",
        "        M.append(feature_np.flatten())\n",
        "    M = np.asarray(M)\n",
        "    print(M.shape)\n",
        "    return M"
      ],
      "execution_count": 0,
      "outputs": []
    },
    {
      "metadata": {
        "id": "7iXVN1XsLnog",
        "colab_type": "text"
      },
      "cell_type": "markdown",
      "source": [
        "### Extrair as *VGG16 features* e avaliar os classificadores"
      ]
    },
    {
      "metadata": {
        "id": "RO6KO7w1Lh5T",
        "colab_type": "code",
        "outputId": "3637e13c-452d-4333-bdb0-ef9fe38b5532",
        "colab": {
          "base_uri": "https://localhost:8080/",
          "height": 749
        }
      },
      "cell_type": "code",
      "source": [
        "X_train_features_vgg = feature_extraction_vgg(X_train[0:400], model_vgg16)\n",
        "testClassifiers(X_train_features_vgg[0:400], y_train[0:400].ravel(), 1000)"
      ],
      "execution_count": 0,
      "outputs": [
        {
          "output_type": "stream",
          "text": [
            "\rExtracting image features using VGG16:   0%|          | 0/400 [00:00<?, ?it/s]"
          ],
          "name": "stderr"
        },
        {
          "output_type": "stream",
          "text": [
            "0\n"
          ],
          "name": "stdout"
        },
        {
          "output_type": "stream",
          "text": [
            "Extracting image features using VGG16: 100%|██████████| 400/400 [00:12<00:00, 31.46it/s]\n",
            "Evaluating Linear SVM...:   0%|          | 0/26 [00:00<?, ?it/s]"
          ],
          "name": "stderr"
        },
        {
          "output_type": "stream",
          "text": [
            "(400, 25088)\n",
            "\n",
            ">> Classifiers\n",
            "cross validation, kfolds =  4 \n",
            "\n",
            "+ Linear SVM\n"
          ],
          "name": "stdout"
        },
        {
          "output_type": "stream",
          "text": [
            "Evaluating Linear SVM...: 100%|██████████| 26/26 [02:04<00:00,  6.71s/it]\n",
            "Evaluating RBF SVM...:   0%|          | 0/26 [00:00<?, ?it/s]"
          ],
          "name": "stderr"
        },
        {
          "output_type": "stream",
          "text": [
            "+ RBF SVM\n"
          ],
          "name": "stdout"
        },
        {
          "output_type": "stream",
          "text": [
            "Evaluating RBF SVM...: 100%|██████████| 26/26 [06:12<00:00, 26.12s/it]\n",
            "Evaluating RBF SVM Gamma=2...:   0%|          | 0/26 [00:00<?, ?it/s]"
          ],
          "name": "stderr"
        },
        {
          "output_type": "stream",
          "text": [
            "+ RBF SVM Gamma=2\n"
          ],
          "name": "stdout"
        },
        {
          "output_type": "stream",
          "text": [
            "Evaluating RBF SVM Gamma=2...: 100%|██████████| 26/26 [06:11<00:00, 26.23s/it]\n",
            "Evaluating RBF SVM C=005...:   0%|          | 0/26 [00:00<?, ?it/s]"
          ],
          "name": "stderr"
        },
        {
          "output_type": "stream",
          "text": [
            "+ RBF SVM C=005\n"
          ],
          "name": "stdout"
        },
        {
          "output_type": "stream",
          "text": [
            "Evaluating RBF SVM C=005...: 100%|██████████| 26/26 [06:11<00:00, 26.06s/it]\n"
          ],
          "name": "stderr"
        },
        {
          "output_type": "display_data",
          "data": {
            "image/png": "[encoded data removed]",
            "text/plain": [
              "<matplotlib.figure.Figure at 0x7fb8ac1d5828>"
            ]
          },
          "metadata": {
            "tags": []
          }
        }
      ]
    },
    {
      "metadata": {
        "id": "vx54glc4Ro62",
        "colab_type": "text"
      },
      "cell_type": "markdown",
      "source": [
        "# Extração de features com Resnet50 (Imagenet)\n",
        "\n",
        "Treinamento de diversos modelos de SVMs sobre as features extraídas pela rede Resnet50 [(He et al, 2015)](https://arxiv.org/abs/1512.03385) pré-treinada para classificação no Imagenet, variando a quantidade de features utilizadas."
      ]
    },
    {
      "metadata": {
        "id": "-Ae9ZiuodWpY",
        "colab_type": "text"
      },
      "cell_type": "markdown",
      "source": [
        "### Instanciar a rede"
      ]
    },
    {
      "metadata": {
        "id": "OzZOrn5ER5Ov",
        "colab_type": "code",
        "outputId": "f0cc412c-2a81-452f-8573-e6e2070ddb8f",
        "colab": {
          "base_uri": "https://localhost:8080/",
          "height": 6446
        }
      },
      "cell_type": "code",
      "source": [
        "from keras.applications import resnet50\n",
        "\n",
        "model_resnet50 = resnet50.ResNet50(weights='imagenet', include_top = False)\n",
        "model_resnet50.summary()"
      ],
      "execution_count": 0,
      "outputs": [
        {
          "output_type": "stream",
          "text": [
            "/usr/local/lib/python3.6/dist-packages/keras_applications/resnet50.py:265: UserWarning: The output shape of `ResNet50(include_top=False)` has been changed since Keras 2.2.0.\n",
            "  warnings.warn('The output shape of `ResNet50(include_top=False)` '\n"
          ],
          "name": "stderr"
        },
        {
          "output_type": "stream",
          "text": [
            "Downloading data from https://github.com/fchollet/deep-learning-models/releases/download/v0.2/resnet50_weights_tf_dim_ordering_tf_kernels_notop.h5\n",
            "94658560/94653016 [==============================] - 1s 0us/step\n",
            "__________________________________________________________________________________________________\n",
            "Layer (type)                    Output Shape         Param #     Connected to                     \n",
            "==================================================================================================\n",
            "input_2 (InputLayer)            (None, None, None, 3 0                                            \n",
            "__________________________________________________________________________________________________\n",
            "conv1_pad (ZeroPadding2D)       (None, None, None, 3 0           input_2[0][0]                    \n",
            "__________________________________________________________________________________________________\n",
            "conv1 (Conv2D)                  (None, None, None, 6 9472        conv1_pad[0][0]                  \n",
            "__________________________________________________________________________________________________\n",
            "bn_conv1 (BatchNormalization)   (None, None, None, 6 256         conv1[0][0]                      \n",
            "__________________________________________________________________________________________________\n",
            "activation_1 (Activation)       (None, None, None, 6 0           bn_conv1[0][0]                   \n",
            "__________________________________________________________________________________________________\n",
            "pool1_pad (ZeroPadding2D)       (None, None, None, 6 0           activation_1[0][0]               \n",
            "__________________________________________________________________________________________________\n",
            "max_pooling2d_1 (MaxPooling2D)  (None, None, None, 6 0           pool1_pad[0][0]                  \n",
            "__________________________________________________________________________________________________\n",
            "res2a_branch2a (Conv2D)         (None, None, None, 6 4160        max_pooling2d_1[0][0]            \n",
            "__________________________________________________________________________________________________\n",
            "bn2a_branch2a (BatchNormalizati (None, None, None, 6 256         res2a_branch2a[0][0]             \n",
            "__________________________________________________________________________________________________\n",
            "activation_2 (Activation)       (None, None, None, 6 0           bn2a_branch2a[0][0]              \n",
            "__________________________________________________________________________________________________\n",
            "res2a_branch2b (Conv2D)         (None, None, None, 6 36928       activation_2[0][0]               \n",
            "__________________________________________________________________________________________________\n",
            "bn2a_branch2b (BatchNormalizati (None, None, None, 6 256         res2a_branch2b[0][0]             \n",
            "__________________________________________________________________________________________________\n",
            "activation_3 (Activation)       (None, None, None, 6 0           bn2a_branch2b[0][0]              \n",
            "__________________________________________________________________________________________________\n",
            "res2a_branch2c (Conv2D)         (None, None, None, 2 16640       activation_3[0][0]               \n",
            "__________________________________________________________________________________________________\n",
            "res2a_branch1 (Conv2D)          (None, None, None, 2 16640       max_pooling2d_1[0][0]            \n",
            "__________________________________________________________________________________________________\n",
            "bn2a_branch2c (BatchNormalizati (None, None, None, 2 1024        res2a_branch2c[0][0]             \n",
            "__________________________________________________________________________________________________\n",
            "bn2a_branch1 (BatchNormalizatio (None, None, None, 2 1024        res2a_branch1[0][0]              \n",
            "__________________________________________________________________________________________________\n",
            "add_1 (Add)                     (None, None, None, 2 0           bn2a_branch2c[0][0]              \n",
            "                                                                 bn2a_branch1[0][0]               \n",
            "__________________________________________________________________________________________________\n",
            "activation_4 (Activation)       (None, None, None, 2 0           add_1[0][0]                      \n",
            "__________________________________________________________________________________________________\n",
            "res2b_branch2a (Conv2D)         (None, None, None, 6 16448       activation_4[0][0]               \n",
            "__________________________________________________________________________________________________\n",
            "bn2b_branch2a (BatchNormalizati (None, None, None, 6 256         res2b_branch2a[0][0]             \n",
            "__________________________________________________________________________________________________\n",
            "activation_5 (Activation)       (None, None, None, 6 0           bn2b_branch2a[0][0]              \n",
            "__________________________________________________________________________________________________\n",
            "res2b_branch2b (Conv2D)         (None, None, None, 6 36928       activation_5[0][0]               \n",
            "__________________________________________________________________________________________________\n",
            "bn2b_branch2b (BatchNormalizati (None, None, None, 6 256         res2b_branch2b[0][0]             \n",
            "__________________________________________________________________________________________________\n",
            "activation_6 (Activation)       (None, None, None, 6 0           bn2b_branch2b[0][0]              \n",
            "__________________________________________________________________________________________________\n",
            "res2b_branch2c (Conv2D)         (None, None, None, 2 16640       activation_6[0][0]               \n",
            "__________________________________________________________________________________________________\n",
            "bn2b_branch2c (BatchNormalizati (None, None, None, 2 1024        res2b_branch2c[0][0]             \n",
            "__________________________________________________________________________________________________\n",
            "add_2 (Add)                     (None, None, None, 2 0           bn2b_branch2c[0][0]              \n",
            "                                                                 activation_4[0][0]               \n",
            "__________________________________________________________________________________________________\n",
            "activation_7 (Activation)       (None, None, None, 2 0           add_2[0][0]                      \n",
            "__________________________________________________________________________________________________\n",
            "res2c_branch2a (Conv2D)         (None, None, None, 6 16448       activation_7[0][0]               \n",
            "__________________________________________________________________________________________________\n",
            "bn2c_branch2a (BatchNormalizati (None, None, None, 6 256         res2c_branch2a[0][0]             \n",
            "__________________________________________________________________________________________________\n",
            "activation_8 (Activation)       (None, None, None, 6 0           bn2c_branch2a[0][0]              \n",
            "__________________________________________________________________________________________________\n",
            "res2c_branch2b (Conv2D)         (None, None, None, 6 36928       activation_8[0][0]               \n",
            "__________________________________________________________________________________________________\n",
            "bn2c_branch2b (BatchNormalizati (None, None, None, 6 256         res2c_branch2b[0][0]             \n",
            "__________________________________________________________________________________________________\n",
            "activation_9 (Activation)       (None, None, None, 6 0           bn2c_branch2b[0][0]              \n",
            "__________________________________________________________________________________________________\n",
            "res2c_branch2c (Conv2D)         (None, None, None, 2 16640       activation_9[0][0]               \n",
            "__________________________________________________________________________________________________\n",
            "bn2c_branch2c (BatchNormalizati (None, None, None, 2 1024        res2c_branch2c[0][0]             \n",
            "__________________________________________________________________________________________________\n",
            "add_3 (Add)                     (None, None, None, 2 0           bn2c_branch2c[0][0]              \n",
            "                                                                 activation_7[0][0]               \n",
            "__________________________________________________________________________________________________\n",
            "activation_10 (Activation)      (None, None, None, 2 0           add_3[0][0]                      \n",
            "__________________________________________________________________________________________________\n",
            "res3a_branch2a (Conv2D)         (None, None, None, 1 32896       activation_10[0][0]              \n",
            "__________________________________________________________________________________________________\n",
            "bn3a_branch2a (BatchNormalizati (None, None, None, 1 512         res3a_branch2a[0][0]             \n",
            "__________________________________________________________________________________________________\n",
            "activation_11 (Activation)      (None, None, None, 1 0           bn3a_branch2a[0][0]              \n",
            "__________________________________________________________________________________________________\n",
            "res3a_branch2b (Conv2D)         (None, None, None, 1 147584      activation_11[0][0]              \n",
            "__________________________________________________________________________________________________\n",
            "bn3a_branch2b (BatchNormalizati (None, None, None, 1 512         res3a_branch2b[0][0]             \n",
            "__________________________________________________________________________________________________\n",
            "activation_12 (Activation)      (None, None, None, 1 0           bn3a_branch2b[0][0]              \n",
            "__________________________________________________________________________________________________\n",
            "res3a_branch2c (Conv2D)         (None, None, None, 5 66048       activation_12[0][0]              \n",
            "__________________________________________________________________________________________________\n",
            "res3a_branch1 (Conv2D)          (None, None, None, 5 131584      activation_10[0][0]              \n",
            "__________________________________________________________________________________________________\n",
            "bn3a_branch2c (BatchNormalizati (None, None, None, 5 2048        res3a_branch2c[0][0]             \n",
            "__________________________________________________________________________________________________\n",
            "bn3a_branch1 (BatchNormalizatio (None, None, None, 5 2048        res3a_branch1[0][0]              \n",
            "__________________________________________________________________________________________________\n",
            "add_4 (Add)                     (None, None, None, 5 0           bn3a_branch2c[0][0]              \n",
            "                                                                 bn3a_branch1[0][0]               \n",
            "__________________________________________________________________________________________________\n",
            "activation_13 (Activation)      (None, None, None, 5 0           add_4[0][0]                      \n",
            "__________________________________________________________________________________________________\n",
            "res3b_branch2a (Conv2D)         (None, None, None, 1 65664       activation_13[0][0]              \n",
            "__________________________________________________________________________________________________\n",
            "bn3b_branch2a (BatchNormalizati (None, None, None, 1 512         res3b_branch2a[0][0]             \n",
            "__________________________________________________________________________________________________\n",
            "activation_14 (Activation)      (None, None, None, 1 0           bn3b_branch2a[0][0]              \n",
            "__________________________________________________________________________________________________\n",
            "res3b_branch2b (Conv2D)         (None, None, None, 1 147584      activation_14[0][0]              \n",
            "__________________________________________________________________________________________________\n",
            "bn3b_branch2b (BatchNormalizati (None, None, None, 1 512         res3b_branch2b[0][0]             \n",
            "__________________________________________________________________________________________________\n",
            "activation_15 (Activation)      (None, None, None, 1 0           bn3b_branch2b[0][0]              \n",
            "__________________________________________________________________________________________________\n",
            "res3b_branch2c (Conv2D)         (None, None, None, 5 66048       activation_15[0][0]              \n",
            "__________________________________________________________________________________________________\n",
            "bn3b_branch2c (BatchNormalizati (None, None, None, 5 2048        res3b_branch2c[0][0]             \n",
            "__________________________________________________________________________________________________\n",
            "add_5 (Add)                     (None, None, None, 5 0           bn3b_branch2c[0][0]              \n",
            "                                                                 activation_13[0][0]              \n",
            "__________________________________________________________________________________________________\n",
            "activation_16 (Activation)      (None, None, None, 5 0           add_5[0][0]                      \n",
            "__________________________________________________________________________________________________\n",
            "res3c_branch2a (Conv2D)         (None, None, None, 1 65664       activation_16[0][0]              \n",
            "__________________________________________________________________________________________________\n",
            "bn3c_branch2a (BatchNormalizati (None, None, None, 1 512         res3c_branch2a[0][0]             \n",
            "__________________________________________________________________________________________________\n",
            "activation_17 (Activation)      (None, None, None, 1 0           bn3c_branch2a[0][0]              \n",
            "__________________________________________________________________________________________________\n",
            "res3c_branch2b (Conv2D)         (None, None, None, 1 147584      activation_17[0][0]              \n",
            "__________________________________________________________________________________________________\n",
            "bn3c_branch2b (BatchNormalizati (None, None, None, 1 512         res3c_branch2b[0][0]             \n",
            "__________________________________________________________________________________________________\n",
            "activation_18 (Activation)      (None, None, None, 1 0           bn3c_branch2b[0][0]              \n",
            "__________________________________________________________________________________________________\n",
            "res3c_branch2c (Conv2D)         (None, None, None, 5 66048       activation_18[0][0]              \n",
            "__________________________________________________________________________________________________\n",
            "bn3c_branch2c (BatchNormalizati (None, None, None, 5 2048        res3c_branch2c[0][0]             \n",
            "__________________________________________________________________________________________________\n",
            "add_6 (Add)                     (None, None, None, 5 0           bn3c_branch2c[0][0]              \n",
            "                                                                 activation_16[0][0]              \n",
            "__________________________________________________________________________________________________\n",
            "activation_19 (Activation)      (None, None, None, 5 0           add_6[0][0]                      \n",
            "__________________________________________________________________________________________________\n",
            "res3d_branch2a (Conv2D)         (None, None, None, 1 65664       activation_19[0][0]              \n",
            "__________________________________________________________________________________________________\n",
            "bn3d_branch2a (BatchNormalizati (None, None, None, 1 512         res3d_branch2a[0][0]             \n",
            "__________________________________________________________________________________________________\n",
            "activation_20 (Activation)      (None, None, None, 1 0           bn3d_branch2a[0][0]              \n",
            "__________________________________________________________________________________________________\n",
            "res3d_branch2b (Conv2D)         (None, None, None, 1 147584      activation_20[0][0]              \n",
            "__________________________________________________________________________________________________\n",
            "bn3d_branch2b (BatchNormalizati (None, None, None, 1 512         res3d_branch2b[0][0]             \n",
            "__________________________________________________________________________________________________\n",
            "activation_21 (Activation)      (None, None, None, 1 0           bn3d_branch2b[0][0]              \n",
            "__________________________________________________________________________________________________\n",
            "res3d_branch2c (Conv2D)         (None, None, None, 5 66048       activation_21[0][0]              \n",
            "__________________________________________________________________________________________________\n",
            "bn3d_branch2c (BatchNormalizati (None, None, None, 5 2048        res3d_branch2c[0][0]             \n",
            "__________________________________________________________________________________________________\n",
            "add_7 (Add)                     (None, None, None, 5 0           bn3d_branch2c[0][0]              \n",
            "                                                                 activation_19[0][0]              \n",
            "__________________________________________________________________________________________________\n",
            "activation_22 (Activation)      (None, None, None, 5 0           add_7[0][0]                      \n",
            "__________________________________________________________________________________________________\n",
            "res4a_branch2a (Conv2D)         (None, None, None, 2 131328      activation_22[0][0]              \n",
            "__________________________________________________________________________________________________\n",
            "bn4a_branch2a (BatchNormalizati (None, None, None, 2 1024        res4a_branch2a[0][0]             \n",
            "__________________________________________________________________________________________________\n",
            "activation_23 (Activation)      (None, None, None, 2 0           bn4a_branch2a[0][0]              \n",
            "__________________________________________________________________________________________________\n",
            "res4a_branch2b (Conv2D)         (None, None, None, 2 590080      activation_23[0][0]              \n",
            "__________________________________________________________________________________________________\n",
            "bn4a_branch2b (BatchNormalizati (None, None, None, 2 1024        res4a_branch2b[0][0]             \n",
            "__________________________________________________________________________________________________\n",
            "activation_24 (Activation)      (None, None, None, 2 0           bn4a_branch2b[0][0]              \n",
            "__________________________________________________________________________________________________\n",
            "res4a_branch2c (Conv2D)         (None, None, None, 1 263168      activation_24[0][0]              \n",
            "__________________________________________________________________________________________________\n",
            "res4a_branch1 (Conv2D)          (None, None, None, 1 525312      activation_22[0][0]              \n",
            "__________________________________________________________________________________________________\n",
            "bn4a_branch2c (BatchNormalizati (None, None, None, 1 4096        res4a_branch2c[0][0]             \n",
            "__________________________________________________________________________________________________\n",
            "bn4a_branch1 (BatchNormalizatio (None, None, None, 1 4096        res4a_branch1[0][0]              \n",
            "__________________________________________________________________________________________________\n",
            "add_8 (Add)                     (None, None, None, 1 0           bn4a_branch2c[0][0]              \n",
            "                                                                 bn4a_branch1[0][0]               \n",
            "__________________________________________________________________________________________________\n",
            "activation_25 (Activation)      (None, None, None, 1 0           add_8[0][0]                      \n",
            "__________________________________________________________________________________________________\n",
            "res4b_branch2a (Conv2D)         (None, None, None, 2 262400      activation_25[0][0]              \n",
            "__________________________________________________________________________________________________\n",
            "bn4b_branch2a (BatchNormalizati (None, None, None, 2 1024        res4b_branch2a[0][0]             \n",
            "__________________________________________________________________________________________________\n",
            "activation_26 (Activation)      (None, None, None, 2 0           bn4b_branch2a[0][0]              \n",
            "__________________________________________________________________________________________________\n",
            "res4b_branch2b (Conv2D)         (None, None, None, 2 590080      activation_26[0][0]              \n",
            "__________________________________________________________________________________________________\n",
            "bn4b_branch2b (BatchNormalizati (None, None, None, 2 1024        res4b_branch2b[0][0]             \n",
            "__________________________________________________________________________________________________\n",
            "activation_27 (Activation)      (None, None, None, 2 0           bn4b_branch2b[0][0]              \n",
            "__________________________________________________________________________________________________\n",
            "res4b_branch2c (Conv2D)         (None, None, None, 1 263168      activation_27[0][0]              \n",
            "__________________________________________________________________________________________________\n",
            "bn4b_branch2c (BatchNormalizati (None, None, None, 1 4096        res4b_branch2c[0][0]             \n",
            "__________________________________________________________________________________________________\n",
            "add_9 (Add)                     (None, None, None, 1 0           bn4b_branch2c[0][0]              \n",
            "                                                                 activation_25[0][0]              \n",
            "__________________________________________________________________________________________________\n",
            "activation_28 (Activation)      (None, None, None, 1 0           add_9[0][0]                      \n",
            "__________________________________________________________________________________________________\n",
            "res4c_branch2a (Conv2D)         (None, None, None, 2 262400      activation_28[0][0]              \n",
            "__________________________________________________________________________________________________\n",
            "bn4c_branch2a (BatchNormalizati (None, None, None, 2 1024        res4c_branch2a[0][0]             \n",
            "__________________________________________________________________________________________________\n",
            "activation_29 (Activation)      (None, None, None, 2 0           bn4c_branch2a[0][0]              \n",
            "__________________________________________________________________________________________________\n",
            "res4c_branch2b (Conv2D)         (None, None, None, 2 590080      activation_29[0][0]              \n",
            "__________________________________________________________________________________________________\n",
            "bn4c_branch2b (BatchNormalizati (None, None, None, 2 1024        res4c_branch2b[0][0]             \n",
            "__________________________________________________________________________________________________\n",
            "activation_30 (Activation)      (None, None, None, 2 0           bn4c_branch2b[0][0]              \n",
            "__________________________________________________________________________________________________\n",
            "res4c_branch2c (Conv2D)         (None, None, None, 1 263168      activation_30[0][0]              \n",
            "__________________________________________________________________________________________________\n",
            "bn4c_branch2c (BatchNormalizati (None, None, None, 1 4096        res4c_branch2c[0][0]             \n",
            "__________________________________________________________________________________________________\n",
            "add_10 (Add)                    (None, None, None, 1 0           bn4c_branch2c[0][0]              \n",
            "                                                                 activation_28[0][0]              \n",
            "__________________________________________________________________________________________________\n",
            "activation_31 (Activation)      (None, None, None, 1 0           add_10[0][0]                     \n",
            "__________________________________________________________________________________________________\n",
            "res4d_branch2a (Conv2D)         (None, None, None, 2 262400      activation_31[0][0]              \n",
            "__________________________________________________________________________________________________\n",
            "bn4d_branch2a (BatchNormalizati (None, None, None, 2 1024        res4d_branch2a[0][0]             \n",
            "__________________________________________________________________________________________________\n",
            "activation_32 (Activation)      (None, None, None, 2 0           bn4d_branch2a[0][0]              \n",
            "__________________________________________________________________________________________________\n",
            "res4d_branch2b (Conv2D)         (None, None, None, 2 590080      activation_32[0][0]              \n",
            "__________________________________________________________________________________________________\n",
            "bn4d_branch2b (BatchNormalizati (None, None, None, 2 1024        res4d_branch2b[0][0]             \n",
            "__________________________________________________________________________________________________\n",
            "activation_33 (Activation)      (None, None, None, 2 0           bn4d_branch2b[0][0]              \n",
            "__________________________________________________________________________________________________\n",
            "res4d_branch2c (Conv2D)         (None, None, None, 1 263168      activation_33[0][0]              \n",
            "__________________________________________________________________________________________________\n",
            "bn4d_branch2c (BatchNormalizati (None, None, None, 1 4096        res4d_branch2c[0][0]             \n",
            "__________________________________________________________________________________________________\n",
            "add_11 (Add)                    (None, None, None, 1 0           bn4d_branch2c[0][0]              \n",
            "                                                                 activation_31[0][0]              \n",
            "__________________________________________________________________________________________________\n",
            "activation_34 (Activation)      (None, None, None, 1 0           add_11[0][0]                     \n",
            "__________________________________________________________________________________________________\n",
            "res4e_branch2a (Conv2D)         (None, None, None, 2 262400      activation_34[0][0]              \n",
            "__________________________________________________________________________________________________\n",
            "bn4e_branch2a (BatchNormalizati (None, None, None, 2 1024        res4e_branch2a[0][0]             \n",
            "__________________________________________________________________________________________________\n",
            "activation_35 (Activation)      (None, None, None, 2 0           bn4e_branch2a[0][0]              \n",
            "__________________________________________________________________________________________________\n",
            "res4e_branch2b (Conv2D)         (None, None, None, 2 590080      activation_35[0][0]              \n",
            "__________________________________________________________________________________________________\n",
            "bn4e_branch2b (BatchNormalizati (None, None, None, 2 1024        res4e_branch2b[0][0]             \n",
            "__________________________________________________________________________________________________\n",
            "activation_36 (Activation)      (None, None, None, 2 0           bn4e_branch2b[0][0]              \n",
            "__________________________________________________________________________________________________\n",
            "res4e_branch2c (Conv2D)         (None, None, None, 1 263168      activation_36[0][0]              \n",
            "__________________________________________________________________________________________________\n",
            "bn4e_branch2c (BatchNormalizati (None, None, None, 1 4096        res4e_branch2c[0][0]             \n",
            "__________________________________________________________________________________________________\n",
            "add_12 (Add)                    (None, None, None, 1 0           bn4e_branch2c[0][0]              \n",
            "                                                                 activation_34[0][0]              \n",
            "__________________________________________________________________________________________________\n",
            "activation_37 (Activation)      (None, None, None, 1 0           add_12[0][0]                     \n",
            "__________________________________________________________________________________________________\n",
            "res4f_branch2a (Conv2D)         (None, None, None, 2 262400      activation_37[0][0]              \n",
            "__________________________________________________________________________________________________\n",
            "bn4f_branch2a (BatchNormalizati (None, None, None, 2 1024        res4f_branch2a[0][0]             \n",
            "__________________________________________________________________________________________________\n",
            "activation_38 (Activation)      (None, None, None, 2 0           bn4f_branch2a[0][0]              \n",
            "__________________________________________________________________________________________________\n",
            "res4f_branch2b (Conv2D)         (None, None, None, 2 590080      activation_38[0][0]              \n",
            "__________________________________________________________________________________________________\n",
            "bn4f_branch2b (BatchNormalizati (None, None, None, 2 1024        res4f_branch2b[0][0]             \n",
            "__________________________________________________________________________________________________\n",
            "activation_39 (Activation)      (None, None, None, 2 0           bn4f_branch2b[0][0]              \n",
            "__________________________________________________________________________________________________\n",
            "res4f_branch2c (Conv2D)         (None, None, None, 1 263168      activation_39[0][0]              \n",
            "__________________________________________________________________________________________________\n",
            "bn4f_branch2c (BatchNormalizati (None, None, None, 1 4096        res4f_branch2c[0][0]             \n",
            "__________________________________________________________________________________________________\n",
            "add_13 (Add)                    (None, None, None, 1 0           bn4f_branch2c[0][0]              \n",
            "                                                                 activation_37[0][0]              \n",
            "__________________________________________________________________________________________________\n",
            "activation_40 (Activation)      (None, None, None, 1 0           add_13[0][0]                     \n",
            "__________________________________________________________________________________________________\n",
            "res5a_branch2a (Conv2D)         (None, None, None, 5 524800      activation_40[0][0]              \n",
            "__________________________________________________________________________________________________\n",
            "bn5a_branch2a (BatchNormalizati (None, None, None, 5 2048        res5a_branch2a[0][0]             \n",
            "__________________________________________________________________________________________________\n",
            "activation_41 (Activation)      (None, None, None, 5 0           bn5a_branch2a[0][0]              \n",
            "__________________________________________________________________________________________________\n",
            "res5a_branch2b (Conv2D)         (None, None, None, 5 2359808     activation_41[0][0]              \n",
            "__________________________________________________________________________________________________\n",
            "bn5a_branch2b (BatchNormalizati (None, None, None, 5 2048        res5a_branch2b[0][0]             \n",
            "__________________________________________________________________________________________________\n",
            "activation_42 (Activation)      (None, None, None, 5 0           bn5a_branch2b[0][0]              \n",
            "__________________________________________________________________________________________________\n",
            "res5a_branch2c (Conv2D)         (None, None, None, 2 1050624     activation_42[0][0]              \n",
            "__________________________________________________________________________________________________\n",
            "res5a_branch1 (Conv2D)          (None, None, None, 2 2099200     activation_40[0][0]              \n",
            "__________________________________________________________________________________________________\n",
            "bn5a_branch2c (BatchNormalizati (None, None, None, 2 8192        res5a_branch2c[0][0]             \n",
            "__________________________________________________________________________________________________\n",
            "bn5a_branch1 (BatchNormalizatio (None, None, None, 2 8192        res5a_branch1[0][0]              \n",
            "__________________________________________________________________________________________________\n",
            "add_14 (Add)                    (None, None, None, 2 0           bn5a_branch2c[0][0]              \n",
            "                                                                 bn5a_branch1[0][0]               \n",
            "__________________________________________________________________________________________________\n",
            "activation_43 (Activation)      (None, None, None, 2 0           add_14[0][0]                     \n",
            "__________________________________________________________________________________________________\n",
            "res5b_branch2a (Conv2D)         (None, None, None, 5 1049088     activation_43[0][0]              \n",
            "__________________________________________________________________________________________________\n",
            "bn5b_branch2a (BatchNormalizati (None, None, None, 5 2048        res5b_branch2a[0][0]             \n",
            "__________________________________________________________________________________________________\n",
            "activation_44 (Activation)      (None, None, None, 5 0           bn5b_branch2a[0][0]              \n",
            "__________________________________________________________________________________________________\n",
            "res5b_branch2b (Conv2D)         (None, None, None, 5 2359808     activation_44[0][0]              \n",
            "__________________________________________________________________________________________________\n",
            "bn5b_branch2b (BatchNormalizati (None, None, None, 5 2048        res5b_branch2b[0][0]             \n",
            "__________________________________________________________________________________________________\n",
            "activation_45 (Activation)      (None, None, None, 5 0           bn5b_branch2b[0][0]              \n",
            "__________________________________________________________________________________________________\n",
            "res5b_branch2c (Conv2D)         (None, None, None, 2 1050624     activation_45[0][0]              \n",
            "__________________________________________________________________________________________________\n",
            "bn5b_branch2c (BatchNormalizati (None, None, None, 2 8192        res5b_branch2c[0][0]             \n",
            "__________________________________________________________________________________________________\n",
            "add_15 (Add)                    (None, None, None, 2 0           bn5b_branch2c[0][0]              \n",
            "                                                                 activation_43[0][0]              \n",
            "__________________________________________________________________________________________________\n",
            "activation_46 (Activation)      (None, None, None, 2 0           add_15[0][0]                     \n",
            "__________________________________________________________________________________________________\n",
            "res5c_branch2a (Conv2D)         (None, None, None, 5 1049088     activation_46[0][0]              \n",
            "__________________________________________________________________________________________________\n",
            "bn5c_branch2a (BatchNormalizati (None, None, None, 5 2048        res5c_branch2a[0][0]             \n",
            "__________________________________________________________________________________________________\n",
            "activation_47 (Activation)      (None, None, None, 5 0           bn5c_branch2a[0][0]              \n",
            "__________________________________________________________________________________________________\n",
            "res5c_branch2b (Conv2D)         (None, None, None, 5 2359808     activation_47[0][0]              \n",
            "__________________________________________________________________________________________________\n",
            "bn5c_branch2b (BatchNormalizati (None, None, None, 5 2048        res5c_branch2b[0][0]             \n",
            "__________________________________________________________________________________________________\n",
            "activation_48 (Activation)      (None, None, None, 5 0           bn5c_branch2b[0][0]              \n",
            "__________________________________________________________________________________________________\n",
            "res5c_branch2c (Conv2D)         (None, None, None, 2 1050624     activation_48[0][0]              \n",
            "__________________________________________________________________________________________________\n",
            "bn5c_branch2c (BatchNormalizati (None, None, None, 2 8192        res5c_branch2c[0][0]             \n",
            "__________________________________________________________________________________________________\n",
            "add_16 (Add)                    (None, None, None, 2 0           bn5c_branch2c[0][0]              \n",
            "                                                                 activation_46[0][0]              \n",
            "__________________________________________________________________________________________________\n",
            "activation_49 (Activation)      (None, None, None, 2 0           add_16[0][0]                     \n",
            "==================================================================================================\n",
            "Total params: 23,587,712\n",
            "Trainable params: 23,534,592\n",
            "Non-trainable params: 53,120\n",
            "__________________________________________________________________________________________________\n"
          ],
          "name": "stdout"
        }
      ]
    },
    {
      "metadata": {
        "id": "vIVfibP6S_0V",
        "colab_type": "text"
      },
      "cell_type": "markdown",
      "source": [
        "### Funções para extrair as *Resnet50 features* das imagens"
      ]
    },
    {
      "metadata": {
        "id": "J1ZmrGz9TH4b",
        "colab_type": "code",
        "colab": {}
      },
      "cell_type": "code",
      "source": [
        "def get_features_resnet50(img, model, new_sz):\n",
        "    img = np.stack((img,)*3, axis=-1)\n",
        "    pimage = Image.fromarray(img.astype('uint8'))\n",
        "    pimage = pimage.resize((new_sz,new_sz))\n",
        "    img_data = image.img_to_array(pimage)\n",
        "    img_data = np.expand_dims(img_data, axis=0)\n",
        "    img_data = resnet50.preprocess_input(img_data)\n",
        "    features = model.predict(img_data)\n",
        "    return features\n",
        "  \n",
        "def feature_extraction_resnet50(X, model):\n",
        "    M = []\n",
        "    for i in tqdm(range(len(X)), desc=\"Extracting image features using Resnet50\"):\n",
        "        features = get_features_resnet50(X[i].reshape(28,28), model, 224)\n",
        "        feature_np = np.array(features)\n",
        "        M.append(feature_np.flatten())\n",
        "    M = np.asarray(M)\n",
        "    print(M.shape)\n",
        "    return M"
      ],
      "execution_count": 0,
      "outputs": []
    },
    {
      "metadata": {
        "id": "YYIZDHMLTG50",
        "colab_type": "text"
      },
      "cell_type": "markdown",
      "source": [
        "### Extrair as *Resnet50 features* e avaliar os classificadores"
      ]
    },
    {
      "metadata": {
        "id": "MrZxy9faTO4w",
        "colab_type": "code",
        "outputId": "e15b1613-51a9-470e-af85-7677ed0cbb57",
        "colab": {
          "base_uri": "https://localhost:8080/",
          "height": 732
        }
      },
      "cell_type": "code",
      "source": [
        "X_train_features_resnet50 = feature_extraction_resnet50(X_train[0:400], model_resnet50)\n",
        "testClassifiers(X_train_features_resnet50[0:400], y_train[0:400].ravel(), 20000)"
      ],
      "execution_count": 0,
      "outputs": [
        {
          "output_type": "stream",
          "text": [
            "Extracting image features using Resnet50: 100%|██████████| 400/400 [00:12<00:00, 32.90it/s]\n",
            "Evaluating Linear SVM...:   0%|          | 0/6 [00:00<?, ?it/s]"
          ],
          "name": "stderr"
        },
        {
          "output_type": "stream",
          "text": [
            "(400, 100352)\n",
            "\n",
            ">> Classifiers\n",
            "cross validation, kfolds =  4 \n",
            "\n",
            "+ Linear SVM\n"
          ],
          "name": "stdout"
        },
        {
          "output_type": "stream",
          "text": [
            "Evaluating Linear SVM...: 100%|██████████| 6/6 [04:33<00:00, 55.29s/it]\n",
            "Evaluating RBF SVM...:   0%|          | 0/6 [00:00<?, ?it/s]"
          ],
          "name": "stderr"
        },
        {
          "output_type": "stream",
          "text": [
            "+ RBF SVM\n"
          ],
          "name": "stdout"
        },
        {
          "output_type": "stream",
          "text": [
            "Evaluating RBF SVM...: 100%|██████████| 6/6 [05:44<00:00, 71.49s/it]\n",
            "Evaluating RBF SVM Gamma=2...:   0%|          | 0/6 [00:00<?, ?it/s]"
          ],
          "name": "stderr"
        },
        {
          "output_type": "stream",
          "text": [
            "+ RBF SVM Gamma=2\n"
          ],
          "name": "stdout"
        },
        {
          "output_type": "stream",
          "text": [
            "Evaluating RBF SVM Gamma=2...: 100%|██████████| 6/6 [05:47<00:00, 71.93s/it]\n",
            "Evaluating RBF SVM C=005...:   0%|          | 0/6 [00:00<?, ?it/s]"
          ],
          "name": "stderr"
        },
        {
          "output_type": "stream",
          "text": [
            "+ RBF SVM C=005\n"
          ],
          "name": "stdout"
        },
        {
          "output_type": "stream",
          "text": [
            "Evaluating RBF SVM C=005...: 100%|██████████| 6/6 [05:45<00:00, 71.94s/it]\n"
          ],
          "name": "stderr"
        },
        {
          "output_type": "display_data",
          "data": {
            "image/png": "[encoded data removed]",
            "text/plain": [
              "<matplotlib.figure.Figure at 0x7fb8a1f28668>"
            ]
          },
          "metadata": {
            "tags": []
          }
        }
      ]
    },
    {
      "metadata": {
        "id": "1sjrtnU7cl4t",
        "colab_type": "text"
      },
      "cell_type": "markdown",
      "source": [
        "# Extração de features com Inception V3 (Imagenet)\n",
        "\n",
        "Treinamento de diversos modelos de SVMs sobre as features extraídas pela rede Inception V3 [Szegedy et al, 2015](https://arxiv.org/abs/1512.00567) pré-treinada para classificação no Imagenet, variando a quantidade de features utilizadas."
      ]
    },
    {
      "metadata": {
        "id": "4LRGYBfmdZfZ",
        "colab_type": "text"
      },
      "cell_type": "markdown",
      "source": [
        "### Instanciar a rede"
      ]
    },
    {
      "metadata": {
        "id": "jYhaFsn8ddSJ",
        "colab_type": "code",
        "outputId": "7bd6501e-3c37-4f73-9579-ec777cea5e76",
        "colab": {
          "base_uri": "https://localhost:8080/",
          "height": 11359
        }
      },
      "cell_type": "code",
      "source": [
        "from keras.applications import inception_v3\n",
        "\n",
        "model_inception_v3 = inception_v3.InceptionV3(weights='imagenet', include_top = False)\n",
        "model_inception_v3.summary()"
      ],
      "execution_count": 0,
      "outputs": [
        {
          "output_type": "stream",
          "text": [
            "Downloading data from https://github.com/fchollet/deep-learning-models/releases/download/v0.5/inception_v3_weights_tf_dim_ordering_tf_kernels_notop.h5\n",
            "87916544/87910968 [==============================] - 1s 0us/step\n",
            "__________________________________________________________________________________________________\n",
            "Layer (type)                    Output Shape         Param #     Connected to                     \n",
            "==================================================================================================\n",
            "input_3 (InputLayer)            (None, None, None, 3 0                                            \n",
            "__________________________________________________________________________________________________\n",
            "conv2d_1 (Conv2D)               (None, None, None, 3 864         input_3[0][0]                    \n",
            "__________________________________________________________________________________________________\n",
            "batch_normalization_1 (BatchNor (None, None, None, 3 96          conv2d_1[0][0]                   \n",
            "__________________________________________________________________________________________________\n",
            "activation_50 (Activation)      (None, None, None, 3 0           batch_normalization_1[0][0]      \n",
            "__________________________________________________________________________________________________\n",
            "conv2d_2 (Conv2D)               (None, None, None, 3 9216        activation_50[0][0]              \n",
            "__________________________________________________________________________________________________\n",
            "batch_normalization_2 (BatchNor (None, None, None, 3 96          conv2d_2[0][0]                   \n",
            "__________________________________________________________________________________________________\n",
            "activation_51 (Activation)      (None, None, None, 3 0           batch_normalization_2[0][0]      \n",
            "__________________________________________________________________________________________________\n",
            "conv2d_3 (Conv2D)               (None, None, None, 6 18432       activation_51[0][0]              \n",
            "__________________________________________________________________________________________________\n",
            "batch_normalization_3 (BatchNor (None, None, None, 6 192         conv2d_3[0][0]                   \n",
            "__________________________________________________________________________________________________\n",
            "activation_52 (Activation)      (None, None, None, 6 0           batch_normalization_3[0][0]      \n",
            "__________________________________________________________________________________________________\n",
            "max_pooling2d_2 (MaxPooling2D)  (None, None, None, 6 0           activation_52[0][0]              \n",
            "__________________________________________________________________________________________________\n",
            "conv2d_4 (Conv2D)               (None, None, None, 8 5120        max_pooling2d_2[0][0]            \n",
            "__________________________________________________________________________________________________\n",
            "batch_normalization_4 (BatchNor (None, None, None, 8 240         conv2d_4[0][0]                   \n",
            "__________________________________________________________________________________________________\n",
            "activation_53 (Activation)      (None, None, None, 8 0           batch_normalization_4[0][0]      \n",
            "__________________________________________________________________________________________________\n",
            "conv2d_5 (Conv2D)               (None, None, None, 1 138240      activation_53[0][0]              \n",
            "__________________________________________________________________________________________________\n",
            "batch_normalization_5 (BatchNor (None, None, None, 1 576         conv2d_5[0][0]                   \n",
            "__________________________________________________________________________________________________\n",
            "activation_54 (Activation)      (None, None, None, 1 0           batch_normalization_5[0][0]      \n",
            "__________________________________________________________________________________________________\n",
            "max_pooling2d_3 (MaxPooling2D)  (None, None, None, 1 0           activation_54[0][0]              \n",
            "__________________________________________________________________________________________________\n",
            "conv2d_9 (Conv2D)               (None, None, None, 6 12288       max_pooling2d_3[0][0]            \n",
            "__________________________________________________________________________________________________\n",
            "batch_normalization_9 (BatchNor (None, None, None, 6 192         conv2d_9[0][0]                   \n",
            "__________________________________________________________________________________________________\n",
            "activation_58 (Activation)      (None, None, None, 6 0           batch_normalization_9[0][0]      \n",
            "__________________________________________________________________________________________________\n",
            "conv2d_7 (Conv2D)               (None, None, None, 4 9216        max_pooling2d_3[0][0]            \n",
            "__________________________________________________________________________________________________\n",
            "conv2d_10 (Conv2D)              (None, None, None, 9 55296       activation_58[0][0]              \n",
            "__________________________________________________________________________________________________\n",
            "batch_normalization_7 (BatchNor (None, None, None, 4 144         conv2d_7[0][0]                   \n",
            "__________________________________________________________________________________________________\n",
            "batch_normalization_10 (BatchNo (None, None, None, 9 288         conv2d_10[0][0]                  \n",
            "__________________________________________________________________________________________________\n",
            "activation_56 (Activation)      (None, None, None, 4 0           batch_normalization_7[0][0]      \n",
            "__________________________________________________________________________________________________\n",
            "activation_59 (Activation)      (None, None, None, 9 0           batch_normalization_10[0][0]     \n",
            "__________________________________________________________________________________________________\n",
            "average_pooling2d_1 (AveragePoo (None, None, None, 1 0           max_pooling2d_3[0][0]            \n",
            "__________________________________________________________________________________________________\n",
            "conv2d_6 (Conv2D)               (None, None, None, 6 12288       max_pooling2d_3[0][0]            \n",
            "__________________________________________________________________________________________________\n",
            "conv2d_8 (Conv2D)               (None, None, None, 6 76800       activation_56[0][0]              \n",
            "__________________________________________________________________________________________________\n",
            "conv2d_11 (Conv2D)              (None, None, None, 9 82944       activation_59[0][0]              \n",
            "__________________________________________________________________________________________________\n",
            "conv2d_12 (Conv2D)              (None, None, None, 3 6144        average_pooling2d_1[0][0]        \n",
            "__________________________________________________________________________________________________\n",
            "batch_normalization_6 (BatchNor (None, None, None, 6 192         conv2d_6[0][0]                   \n",
            "__________________________________________________________________________________________________\n",
            "batch_normalization_8 (BatchNor (None, None, None, 6 192         conv2d_8[0][0]                   \n",
            "__________________________________________________________________________________________________\n",
            "batch_normalization_11 (BatchNo (None, None, None, 9 288         conv2d_11[0][0]                  \n",
            "__________________________________________________________________________________________________\n",
            "batch_normalization_12 (BatchNo (None, None, None, 3 96          conv2d_12[0][0]                  \n",
            "__________________________________________________________________________________________________\n",
            "activation_55 (Activation)      (None, None, None, 6 0           batch_normalization_6[0][0]      \n",
            "__________________________________________________________________________________________________\n",
            "activation_57 (Activation)      (None, None, None, 6 0           batch_normalization_8[0][0]      \n",
            "__________________________________________________________________________________________________\n",
            "activation_60 (Activation)      (None, None, None, 9 0           batch_normalization_11[0][0]     \n",
            "__________________________________________________________________________________________________\n",
            "activation_61 (Activation)      (None, None, None, 3 0           batch_normalization_12[0][0]     \n",
            "__________________________________________________________________________________________________\n",
            "mixed0 (Concatenate)            (None, None, None, 2 0           activation_55[0][0]              \n",
            "                                                                 activation_57[0][0]              \n",
            "                                                                 activation_60[0][0]              \n",
            "                                                                 activation_61[0][0]              \n",
            "__________________________________________________________________________________________________\n",
            "conv2d_16 (Conv2D)              (None, None, None, 6 16384       mixed0[0][0]                     \n",
            "__________________________________________________________________________________________________\n",
            "batch_normalization_16 (BatchNo (None, None, None, 6 192         conv2d_16[0][0]                  \n",
            "__________________________________________________________________________________________________\n",
            "activation_65 (Activation)      (None, None, None, 6 0           batch_normalization_16[0][0]     \n",
            "__________________________________________________________________________________________________\n",
            "conv2d_14 (Conv2D)              (None, None, None, 4 12288       mixed0[0][0]                     \n",
            "__________________________________________________________________________________________________\n",
            "conv2d_17 (Conv2D)              (None, None, None, 9 55296       activation_65[0][0]              \n",
            "__________________________________________________________________________________________________\n",
            "batch_normalization_14 (BatchNo (None, None, None, 4 144         conv2d_14[0][0]                  \n",
            "__________________________________________________________________________________________________\n",
            "batch_normalization_17 (BatchNo (None, None, None, 9 288         conv2d_17[0][0]                  \n",
            "__________________________________________________________________________________________________\n",
            "activation_63 (Activation)      (None, None, None, 4 0           batch_normalization_14[0][0]     \n",
            "__________________________________________________________________________________________________\n",
            "activation_66 (Activation)      (None, None, None, 9 0           batch_normalization_17[0][0]     \n",
            "__________________________________________________________________________________________________\n",
            "average_pooling2d_2 (AveragePoo (None, None, None, 2 0           mixed0[0][0]                     \n",
            "__________________________________________________________________________________________________\n",
            "conv2d_13 (Conv2D)              (None, None, None, 6 16384       mixed0[0][0]                     \n",
            "__________________________________________________________________________________________________\n",
            "conv2d_15 (Conv2D)              (None, None, None, 6 76800       activation_63[0][0]              \n",
            "__________________________________________________________________________________________________\n",
            "conv2d_18 (Conv2D)              (None, None, None, 9 82944       activation_66[0][0]              \n",
            "__________________________________________________________________________________________________\n",
            "conv2d_19 (Conv2D)              (None, None, None, 6 16384       average_pooling2d_2[0][0]        \n",
            "__________________________________________________________________________________________________\n",
            "batch_normalization_13 (BatchNo (None, None, None, 6 192         conv2d_13[0][0]                  \n",
            "__________________________________________________________________________________________________\n",
            "batch_normalization_15 (BatchNo (None, None, None, 6 192         conv2d_15[0][0]                  \n",
            "__________________________________________________________________________________________________\n",
            "batch_normalization_18 (BatchNo (None, None, None, 9 288         conv2d_18[0][0]                  \n",
            "__________________________________________________________________________________________________\n",
            "batch_normalization_19 (BatchNo (None, None, None, 6 192         conv2d_19[0][0]                  \n",
            "__________________________________________________________________________________________________\n",
            "activation_62 (Activation)      (None, None, None, 6 0           batch_normalization_13[0][0]     \n",
            "__________________________________________________________________________________________________\n",
            "activation_64 (Activation)      (None, None, None, 6 0           batch_normalization_15[0][0]     \n",
            "__________________________________________________________________________________________________\n",
            "activation_67 (Activation)      (None, None, None, 9 0           batch_normalization_18[0][0]     \n",
            "__________________________________________________________________________________________________\n",
            "activation_68 (Activation)      (None, None, None, 6 0           batch_normalization_19[0][0]     \n",
            "__________________________________________________________________________________________________\n",
            "mixed1 (Concatenate)            (None, None, None, 2 0           activation_62[0][0]              \n",
            "                                                                 activation_64[0][0]              \n",
            "                                                                 activation_67[0][0]              \n",
            "                                                                 activation_68[0][0]              \n",
            "__________________________________________________________________________________________________\n",
            "conv2d_23 (Conv2D)              (None, None, None, 6 18432       mixed1[0][0]                     \n",
            "__________________________________________________________________________________________________\n",
            "batch_normalization_23 (BatchNo (None, None, None, 6 192         conv2d_23[0][0]                  \n",
            "__________________________________________________________________________________________________\n",
            "activation_72 (Activation)      (None, None, None, 6 0           batch_normalization_23[0][0]     \n",
            "__________________________________________________________________________________________________\n",
            "conv2d_21 (Conv2D)              (None, None, None, 4 13824       mixed1[0][0]                     \n",
            "__________________________________________________________________________________________________\n",
            "conv2d_24 (Conv2D)              (None, None, None, 9 55296       activation_72[0][0]              \n",
            "__________________________________________________________________________________________________\n",
            "batch_normalization_21 (BatchNo (None, None, None, 4 144         conv2d_21[0][0]                  \n",
            "__________________________________________________________________________________________________\n",
            "batch_normalization_24 (BatchNo (None, None, None, 9 288         conv2d_24[0][0]                  \n",
            "__________________________________________________________________________________________________\n",
            "activation_70 (Activation)      (None, None, None, 4 0           batch_normalization_21[0][0]     \n",
            "__________________________________________________________________________________________________\n",
            "activation_73 (Activation)      (None, None, None, 9 0           batch_normalization_24[0][0]     \n",
            "__________________________________________________________________________________________________\n",
            "average_pooling2d_3 (AveragePoo (None, None, None, 2 0           mixed1[0][0]                     \n",
            "__________________________________________________________________________________________________\n",
            "conv2d_20 (Conv2D)              (None, None, None, 6 18432       mixed1[0][0]                     \n",
            "__________________________________________________________________________________________________\n",
            "conv2d_22 (Conv2D)              (None, None, None, 6 76800       activation_70[0][0]              \n",
            "__________________________________________________________________________________________________\n",
            "conv2d_25 (Conv2D)              (None, None, None, 9 82944       activation_73[0][0]              \n",
            "__________________________________________________________________________________________________\n",
            "conv2d_26 (Conv2D)              (None, None, None, 6 18432       average_pooling2d_3[0][0]        \n",
            "__________________________________________________________________________________________________\n",
            "batch_normalization_20 (BatchNo (None, None, None, 6 192         conv2d_20[0][0]                  \n",
            "__________________________________________________________________________________________________\n",
            "batch_normalization_22 (BatchNo (None, None, None, 6 192         conv2d_22[0][0]                  \n",
            "__________________________________________________________________________________________________\n",
            "batch_normalization_25 (BatchNo (None, None, None, 9 288         conv2d_25[0][0]                  \n",
            "__________________________________________________________________________________________________\n",
            "batch_normalization_26 (BatchNo (None, None, None, 6 192         conv2d_26[0][0]                  \n",
            "__________________________________________________________________________________________________\n",
            "activation_69 (Activation)      (None, None, None, 6 0           batch_normalization_20[0][0]     \n",
            "__________________________________________________________________________________________________\n",
            "activation_71 (Activation)      (None, None, None, 6 0           batch_normalization_22[0][0]     \n",
            "__________________________________________________________________________________________________\n",
            "activation_74 (Activation)      (None, None, None, 9 0           batch_normalization_25[0][0]     \n",
            "__________________________________________________________________________________________________\n",
            "activation_75 (Activation)      (None, None, None, 6 0           batch_normalization_26[0][0]     \n",
            "__________________________________________________________________________________________________\n",
            "mixed2 (Concatenate)            (None, None, None, 2 0           activation_69[0][0]              \n",
            "                                                                 activation_71[0][0]              \n",
            "                                                                 activation_74[0][0]              \n",
            "                                                                 activation_75[0][0]              \n",
            "__________________________________________________________________________________________________\n",
            "conv2d_28 (Conv2D)              (None, None, None, 6 18432       mixed2[0][0]                     \n",
            "__________________________________________________________________________________________________\n",
            "batch_normalization_28 (BatchNo (None, None, None, 6 192         conv2d_28[0][0]                  \n",
            "__________________________________________________________________________________________________\n",
            "activation_77 (Activation)      (None, None, None, 6 0           batch_normalization_28[0][0]     \n",
            "__________________________________________________________________________________________________\n",
            "conv2d_29 (Conv2D)              (None, None, None, 9 55296       activation_77[0][0]              \n",
            "__________________________________________________________________________________________________\n",
            "batch_normalization_29 (BatchNo (None, None, None, 9 288         conv2d_29[0][0]                  \n",
            "__________________________________________________________________________________________________\n",
            "activation_78 (Activation)      (None, None, None, 9 0           batch_normalization_29[0][0]     \n",
            "__________________________________________________________________________________________________\n",
            "conv2d_27 (Conv2D)              (None, None, None, 3 995328      mixed2[0][0]                     \n",
            "__________________________________________________________________________________________________\n",
            "conv2d_30 (Conv2D)              (None, None, None, 9 82944       activation_78[0][0]              \n",
            "__________________________________________________________________________________________________\n",
            "batch_normalization_27 (BatchNo (None, None, None, 3 1152        conv2d_27[0][0]                  \n",
            "__________________________________________________________________________________________________\n",
            "batch_normalization_30 (BatchNo (None, None, None, 9 288         conv2d_30[0][0]                  \n",
            "__________________________________________________________________________________________________\n",
            "activation_76 (Activation)      (None, None, None, 3 0           batch_normalization_27[0][0]     \n",
            "__________________________________________________________________________________________________\n",
            "activation_79 (Activation)      (None, None, None, 9 0           batch_normalization_30[0][0]     \n",
            "__________________________________________________________________________________________________\n",
            "max_pooling2d_4 (MaxPooling2D)  (None, None, None, 2 0           mixed2[0][0]                     \n",
            "__________________________________________________________________________________________________\n",
            "mixed3 (Concatenate)            (None, None, None, 7 0           activation_76[0][0]              \n",
            "                                                                 activation_79[0][0]              \n",
            "                                                                 max_pooling2d_4[0][0]            \n",
            "__________________________________________________________________________________________________\n",
            "conv2d_35 (Conv2D)              (None, None, None, 1 98304       mixed3[0][0]                     \n",
            "__________________________________________________________________________________________________\n",
            "batch_normalization_35 (BatchNo (None, None, None, 1 384         conv2d_35[0][0]                  \n",
            "__________________________________________________________________________________________________\n",
            "activation_84 (Activation)      (None, None, None, 1 0           batch_normalization_35[0][0]     \n",
            "__________________________________________________________________________________________________\n",
            "conv2d_36 (Conv2D)              (None, None, None, 1 114688      activation_84[0][0]              \n",
            "__________________________________________________________________________________________________\n",
            "batch_normalization_36 (BatchNo (None, None, None, 1 384         conv2d_36[0][0]                  \n",
            "__________________________________________________________________________________________________\n",
            "activation_85 (Activation)      (None, None, None, 1 0           batch_normalization_36[0][0]     \n",
            "__________________________________________________________________________________________________\n",
            "conv2d_32 (Conv2D)              (None, None, None, 1 98304       mixed3[0][0]                     \n",
            "__________________________________________________________________________________________________\n",
            "conv2d_37 (Conv2D)              (None, None, None, 1 114688      activation_85[0][0]              \n",
            "__________________________________________________________________________________________________\n",
            "batch_normalization_32 (BatchNo (None, None, None, 1 384         conv2d_32[0][0]                  \n",
            "__________________________________________________________________________________________________\n",
            "batch_normalization_37 (BatchNo (None, None, None, 1 384         conv2d_37[0][0]                  \n",
            "__________________________________________________________________________________________________\n",
            "activation_81 (Activation)      (None, None, None, 1 0           batch_normalization_32[0][0]     \n",
            "__________________________________________________________________________________________________\n",
            "activation_86 (Activation)      (None, None, None, 1 0           batch_normalization_37[0][0]     \n",
            "__________________________________________________________________________________________________\n",
            "conv2d_33 (Conv2D)              (None, None, None, 1 114688      activation_81[0][0]              \n",
            "__________________________________________________________________________________________________\n",
            "conv2d_38 (Conv2D)              (None, None, None, 1 114688      activation_86[0][0]              \n",
            "__________________________________________________________________________________________________\n",
            "batch_normalization_33 (BatchNo (None, None, None, 1 384         conv2d_33[0][0]                  \n",
            "__________________________________________________________________________________________________\n",
            "batch_normalization_38 (BatchNo (None, None, None, 1 384         conv2d_38[0][0]                  \n",
            "__________________________________________________________________________________________________\n",
            "activation_82 (Activation)      (None, None, None, 1 0           batch_normalization_33[0][0]     \n",
            "__________________________________________________________________________________________________\n",
            "activation_87 (Activation)      (None, None, None, 1 0           batch_normalization_38[0][0]     \n",
            "__________________________________________________________________________________________________\n",
            "average_pooling2d_4 (AveragePoo (None, None, None, 7 0           mixed3[0][0]                     \n",
            "__________________________________________________________________________________________________\n",
            "conv2d_31 (Conv2D)              (None, None, None, 1 147456      mixed3[0][0]                     \n",
            "__________________________________________________________________________________________________\n",
            "conv2d_34 (Conv2D)              (None, None, None, 1 172032      activation_82[0][0]              \n",
            "__________________________________________________________________________________________________\n",
            "conv2d_39 (Conv2D)              (None, None, None, 1 172032      activation_87[0][0]              \n",
            "__________________________________________________________________________________________________\n",
            "conv2d_40 (Conv2D)              (None, None, None, 1 147456      average_pooling2d_4[0][0]        \n",
            "__________________________________________________________________________________________________\n",
            "batch_normalization_31 (BatchNo (None, None, None, 1 576         conv2d_31[0][0]                  \n",
            "__________________________________________________________________________________________________\n",
            "batch_normalization_34 (BatchNo (None, None, None, 1 576         conv2d_34[0][0]                  \n",
            "__________________________________________________________________________________________________\n",
            "batch_normalization_39 (BatchNo (None, None, None, 1 576         conv2d_39[0][0]                  \n",
            "__________________________________________________________________________________________________\n",
            "batch_normalization_40 (BatchNo (None, None, None, 1 576         conv2d_40[0][0]                  \n",
            "__________________________________________________________________________________________________\n",
            "activation_80 (Activation)      (None, None, None, 1 0           batch_normalization_31[0][0]     \n",
            "__________________________________________________________________________________________________\n",
            "activation_83 (Activation)      (None, None, None, 1 0           batch_normalization_34[0][0]     \n",
            "__________________________________________________________________________________________________\n",
            "activation_88 (Activation)      (None, None, None, 1 0           batch_normalization_39[0][0]     \n",
            "__________________________________________________________________________________________________\n",
            "activation_89 (Activation)      (None, None, None, 1 0           batch_normalization_40[0][0]     \n",
            "__________________________________________________________________________________________________\n",
            "mixed4 (Concatenate)            (None, None, None, 7 0           activation_80[0][0]              \n",
            "                                                                 activation_83[0][0]              \n",
            "                                                                 activation_88[0][0]              \n",
            "                                                                 activation_89[0][0]              \n",
            "__________________________________________________________________________________________________\n",
            "conv2d_45 (Conv2D)              (None, None, None, 1 122880      mixed4[0][0]                     \n",
            "__________________________________________________________________________________________________\n",
            "batch_normalization_45 (BatchNo (None, None, None, 1 480         conv2d_45[0][0]                  \n",
            "__________________________________________________________________________________________________\n",
            "activation_94 (Activation)      (None, None, None, 1 0           batch_normalization_45[0][0]     \n",
            "__________________________________________________________________________________________________\n",
            "conv2d_46 (Conv2D)              (None, None, None, 1 179200      activation_94[0][0]              \n",
            "__________________________________________________________________________________________________\n",
            "batch_normalization_46 (BatchNo (None, None, None, 1 480         conv2d_46[0][0]                  \n",
            "__________________________________________________________________________________________________\n",
            "activation_95 (Activation)      (None, None, None, 1 0           batch_normalization_46[0][0]     \n",
            "__________________________________________________________________________________________________\n",
            "conv2d_42 (Conv2D)              (None, None, None, 1 122880      mixed4[0][0]                     \n",
            "__________________________________________________________________________________________________\n",
            "conv2d_47 (Conv2D)              (None, None, None, 1 179200      activation_95[0][0]              \n",
            "__________________________________________________________________________________________________\n",
            "batch_normalization_42 (BatchNo (None, None, None, 1 480         conv2d_42[0][0]                  \n",
            "__________________________________________________________________________________________________\n",
            "batch_normalization_47 (BatchNo (None, None, None, 1 480         conv2d_47[0][0]                  \n",
            "__________________________________________________________________________________________________\n",
            "activation_91 (Activation)      (None, None, None, 1 0           batch_normalization_42[0][0]     \n",
            "__________________________________________________________________________________________________\n",
            "activation_96 (Activation)      (None, None, None, 1 0           batch_normalization_47[0][0]     \n",
            "__________________________________________________________________________________________________\n",
            "conv2d_43 (Conv2D)              (None, None, None, 1 179200      activation_91[0][0]              \n",
            "__________________________________________________________________________________________________\n",
            "conv2d_48 (Conv2D)              (None, None, None, 1 179200      activation_96[0][0]              \n",
            "__________________________________________________________________________________________________\n",
            "batch_normalization_43 (BatchNo (None, None, None, 1 480         conv2d_43[0][0]                  \n",
            "__________________________________________________________________________________________________\n",
            "batch_normalization_48 (BatchNo (None, None, None, 1 480         conv2d_48[0][0]                  \n",
            "__________________________________________________________________________________________________\n",
            "activation_92 (Activation)      (None, None, None, 1 0           batch_normalization_43[0][0]     \n",
            "__________________________________________________________________________________________________\n",
            "activation_97 (Activation)      (None, None, None, 1 0           batch_normalization_48[0][0]     \n",
            "__________________________________________________________________________________________________\n",
            "average_pooling2d_5 (AveragePoo (None, None, None, 7 0           mixed4[0][0]                     \n",
            "__________________________________________________________________________________________________\n",
            "conv2d_41 (Conv2D)              (None, None, None, 1 147456      mixed4[0][0]                     \n",
            "__________________________________________________________________________________________________\n",
            "conv2d_44 (Conv2D)              (None, None, None, 1 215040      activation_92[0][0]              \n",
            "__________________________________________________________________________________________________\n",
            "conv2d_49 (Conv2D)              (None, None, None, 1 215040      activation_97[0][0]              \n",
            "__________________________________________________________________________________________________\n",
            "conv2d_50 (Conv2D)              (None, None, None, 1 147456      average_pooling2d_5[0][0]        \n",
            "__________________________________________________________________________________________________\n",
            "batch_normalization_41 (BatchNo (None, None, None, 1 576         conv2d_41[0][0]                  \n",
            "__________________________________________________________________________________________________\n",
            "batch_normalization_44 (BatchNo (None, None, None, 1 576         conv2d_44[0][0]                  \n",
            "__________________________________________________________________________________________________\n",
            "batch_normalization_49 (BatchNo (None, None, None, 1 576         conv2d_49[0][0]                  \n",
            "__________________________________________________________________________________________________\n",
            "batch_normalization_50 (BatchNo (None, None, None, 1 576         conv2d_50[0][0]                  \n",
            "__________________________________________________________________________________________________\n",
            "activation_90 (Activation)      (None, None, None, 1 0           batch_normalization_41[0][0]     \n",
            "__________________________________________________________________________________________________\n",
            "activation_93 (Activation)      (None, None, None, 1 0           batch_normalization_44[0][0]     \n",
            "__________________________________________________________________________________________________\n",
            "activation_98 (Activation)      (None, None, None, 1 0           batch_normalization_49[0][0]     \n",
            "__________________________________________________________________________________________________\n",
            "activation_99 (Activation)      (None, None, None, 1 0           batch_normalization_50[0][0]     \n",
            "__________________________________________________________________________________________________\n",
            "mixed5 (Concatenate)            (None, None, None, 7 0           activation_90[0][0]              \n",
            "                                                                 activation_93[0][0]              \n",
            "                                                                 activation_98[0][0]              \n",
            "                                                                 activation_99[0][0]              \n",
            "__________________________________________________________________________________________________\n",
            "conv2d_55 (Conv2D)              (None, None, None, 1 122880      mixed5[0][0]                     \n",
            "__________________________________________________________________________________________________\n",
            "batch_normalization_55 (BatchNo (None, None, None, 1 480         conv2d_55[0][0]                  \n",
            "__________________________________________________________________________________________________\n",
            "activation_104 (Activation)     (None, None, None, 1 0           batch_normalization_55[0][0]     \n",
            "__________________________________________________________________________________________________\n",
            "conv2d_56 (Conv2D)              (None, None, None, 1 179200      activation_104[0][0]             \n",
            "__________________________________________________________________________________________________\n",
            "batch_normalization_56 (BatchNo (None, None, None, 1 480         conv2d_56[0][0]                  \n",
            "__________________________________________________________________________________________________\n",
            "activation_105 (Activation)     (None, None, None, 1 0           batch_normalization_56[0][0]     \n",
            "__________________________________________________________________________________________________\n",
            "conv2d_52 (Conv2D)              (None, None, None, 1 122880      mixed5[0][0]                     \n",
            "__________________________________________________________________________________________________\n",
            "conv2d_57 (Conv2D)              (None, None, None, 1 179200      activation_105[0][0]             \n",
            "__________________________________________________________________________________________________\n",
            "batch_normalization_52 (BatchNo (None, None, None, 1 480         conv2d_52[0][0]                  \n",
            "__________________________________________________________________________________________________\n",
            "batch_normalization_57 (BatchNo (None, None, None, 1 480         conv2d_57[0][0]                  \n",
            "__________________________________________________________________________________________________\n",
            "activation_101 (Activation)     (None, None, None, 1 0           batch_normalization_52[0][0]     \n",
            "__________________________________________________________________________________________________\n",
            "activation_106 (Activation)     (None, None, None, 1 0           batch_normalization_57[0][0]     \n",
            "__________________________________________________________________________________________________\n",
            "conv2d_53 (Conv2D)              (None, None, None, 1 179200      activation_101[0][0]             \n",
            "__________________________________________________________________________________________________\n",
            "conv2d_58 (Conv2D)              (None, None, None, 1 179200      activation_106[0][0]             \n",
            "__________________________________________________________________________________________________\n",
            "batch_normalization_53 (BatchNo (None, None, None, 1 480         conv2d_53[0][0]                  \n",
            "__________________________________________________________________________________________________\n",
            "batch_normalization_58 (BatchNo (None, None, None, 1 480         conv2d_58[0][0]                  \n",
            "__________________________________________________________________________________________________\n",
            "activation_102 (Activation)     (None, None, None, 1 0           batch_normalization_53[0][0]     \n",
            "__________________________________________________________________________________________________\n",
            "activation_107 (Activation)     (None, None, None, 1 0           batch_normalization_58[0][0]     \n",
            "__________________________________________________________________________________________________\n",
            "average_pooling2d_6 (AveragePoo (None, None, None, 7 0           mixed5[0][0]                     \n",
            "__________________________________________________________________________________________________\n",
            "conv2d_51 (Conv2D)              (None, None, None, 1 147456      mixed5[0][0]                     \n",
            "__________________________________________________________________________________________________\n",
            "conv2d_54 (Conv2D)              (None, None, None, 1 215040      activation_102[0][0]             \n",
            "__________________________________________________________________________________________________\n",
            "conv2d_59 (Conv2D)              (None, None, None, 1 215040      activation_107[0][0]             \n",
            "__________________________________________________________________________________________________\n",
            "conv2d_60 (Conv2D)              (None, None, None, 1 147456      average_pooling2d_6[0][0]        \n",
            "__________________________________________________________________________________________________\n",
            "batch_normalization_51 (BatchNo (None, None, None, 1 576         conv2d_51[0][0]                  \n",
            "__________________________________________________________________________________________________\n",
            "batch_normalization_54 (BatchNo (None, None, None, 1 576         conv2d_54[0][0]                  \n",
            "__________________________________________________________________________________________________\n",
            "batch_normalization_59 (BatchNo (None, None, None, 1 576         conv2d_59[0][0]                  \n",
            "__________________________________________________________________________________________________\n",
            "batch_normalization_60 (BatchNo (None, None, None, 1 576         conv2d_60[0][0]                  \n",
            "__________________________________________________________________________________________________\n",
            "activation_100 (Activation)     (None, None, None, 1 0           batch_normalization_51[0][0]     \n",
            "__________________________________________________________________________________________________\n",
            "activation_103 (Activation)     (None, None, None, 1 0           batch_normalization_54[0][0]     \n",
            "__________________________________________________________________________________________________\n",
            "activation_108 (Activation)     (None, None, None, 1 0           batch_normalization_59[0][0]     \n",
            "__________________________________________________________________________________________________\n",
            "activation_109 (Activation)     (None, None, None, 1 0           batch_normalization_60[0][0]     \n",
            "__________________________________________________________________________________________________\n",
            "mixed6 (Concatenate)            (None, None, None, 7 0           activation_100[0][0]             \n",
            "                                                                 activation_103[0][0]             \n",
            "                                                                 activation_108[0][0]             \n",
            "                                                                 activation_109[0][0]             \n",
            "__________________________________________________________________________________________________\n",
            "conv2d_65 (Conv2D)              (None, None, None, 1 147456      mixed6[0][0]                     \n",
            "__________________________________________________________________________________________________\n",
            "batch_normalization_65 (BatchNo (None, None, None, 1 576         conv2d_65[0][0]                  \n",
            "__________________________________________________________________________________________________\n",
            "activation_114 (Activation)     (None, None, None, 1 0           batch_normalization_65[0][0]     \n",
            "__________________________________________________________________________________________________\n",
            "conv2d_66 (Conv2D)              (None, None, None, 1 258048      activation_114[0][0]             \n",
            "__________________________________________________________________________________________________\n",
            "batch_normalization_66 (BatchNo (None, None, None, 1 576         conv2d_66[0][0]                  \n",
            "__________________________________________________________________________________________________\n",
            "activation_115 (Activation)     (None, None, None, 1 0           batch_normalization_66[0][0]     \n",
            "__________________________________________________________________________________________________\n",
            "conv2d_62 (Conv2D)              (None, None, None, 1 147456      mixed6[0][0]                     \n",
            "__________________________________________________________________________________________________\n",
            "conv2d_67 (Conv2D)              (None, None, None, 1 258048      activation_115[0][0]             \n",
            "__________________________________________________________________________________________________\n",
            "batch_normalization_62 (BatchNo (None, None, None, 1 576         conv2d_62[0][0]                  \n",
            "__________________________________________________________________________________________________\n",
            "batch_normalization_67 (BatchNo (None, None, None, 1 576         conv2d_67[0][0]                  \n",
            "__________________________________________________________________________________________________\n",
            "activation_111 (Activation)     (None, None, None, 1 0           batch_normalization_62[0][0]     \n",
            "__________________________________________________________________________________________________\n",
            "activation_116 (Activation)     (None, None, None, 1 0           batch_normalization_67[0][0]     \n",
            "__________________________________________________________________________________________________\n",
            "conv2d_63 (Conv2D)              (None, None, None, 1 258048      activation_111[0][0]             \n",
            "__________________________________________________________________________________________________\n",
            "conv2d_68 (Conv2D)              (None, None, None, 1 258048      activation_116[0][0]             \n",
            "__________________________________________________________________________________________________\n",
            "batch_normalization_63 (BatchNo (None, None, None, 1 576         conv2d_63[0][0]                  \n",
            "__________________________________________________________________________________________________\n",
            "batch_normalization_68 (BatchNo (None, None, None, 1 576         conv2d_68[0][0]                  \n",
            "__________________________________________________________________________________________________\n",
            "activation_112 (Activation)     (None, None, None, 1 0           batch_normalization_63[0][0]     \n",
            "__________________________________________________________________________________________________\n",
            "activation_117 (Activation)     (None, None, None, 1 0           batch_normalization_68[0][0]     \n",
            "__________________________________________________________________________________________________\n",
            "average_pooling2d_7 (AveragePoo (None, None, None, 7 0           mixed6[0][0]                     \n",
            "__________________________________________________________________________________________________\n",
            "conv2d_61 (Conv2D)              (None, None, None, 1 147456      mixed6[0][0]                     \n",
            "__________________________________________________________________________________________________\n",
            "conv2d_64 (Conv2D)              (None, None, None, 1 258048      activation_112[0][0]             \n",
            "__________________________________________________________________________________________________\n",
            "conv2d_69 (Conv2D)              (None, None, None, 1 258048      activation_117[0][0]             \n",
            "__________________________________________________________________________________________________\n",
            "conv2d_70 (Conv2D)              (None, None, None, 1 147456      average_pooling2d_7[0][0]        \n",
            "__________________________________________________________________________________________________\n",
            "batch_normalization_61 (BatchNo (None, None, None, 1 576         conv2d_61[0][0]                  \n",
            "__________________________________________________________________________________________________\n",
            "batch_normalization_64 (BatchNo (None, None, None, 1 576         conv2d_64[0][0]                  \n",
            "__________________________________________________________________________________________________\n",
            "batch_normalization_69 (BatchNo (None, None, None, 1 576         conv2d_69[0][0]                  \n",
            "__________________________________________________________________________________________________\n",
            "batch_normalization_70 (BatchNo (None, None, None, 1 576         conv2d_70[0][0]                  \n",
            "__________________________________________________________________________________________________\n",
            "activation_110 (Activation)     (None, None, None, 1 0           batch_normalization_61[0][0]     \n",
            "__________________________________________________________________________________________________\n",
            "activation_113 (Activation)     (None, None, None, 1 0           batch_normalization_64[0][0]     \n",
            "__________________________________________________________________________________________________\n",
            "activation_118 (Activation)     (None, None, None, 1 0           batch_normalization_69[0][0]     \n",
            "__________________________________________________________________________________________________\n",
            "activation_119 (Activation)     (None, None, None, 1 0           batch_normalization_70[0][0]     \n",
            "__________________________________________________________________________________________________\n",
            "mixed7 (Concatenate)            (None, None, None, 7 0           activation_110[0][0]             \n",
            "                                                                 activation_113[0][0]             \n",
            "                                                                 activation_118[0][0]             \n",
            "                                                                 activation_119[0][0]             \n",
            "__________________________________________________________________________________________________\n",
            "conv2d_73 (Conv2D)              (None, None, None, 1 147456      mixed7[0][0]                     \n",
            "__________________________________________________________________________________________________\n",
            "batch_normalization_73 (BatchNo (None, None, None, 1 576         conv2d_73[0][0]                  \n",
            "__________________________________________________________________________________________________\n",
            "activation_122 (Activation)     (None, None, None, 1 0           batch_normalization_73[0][0]     \n",
            "__________________________________________________________________________________________________\n",
            "conv2d_74 (Conv2D)              (None, None, None, 1 258048      activation_122[0][0]             \n",
            "__________________________________________________________________________________________________\n",
            "batch_normalization_74 (BatchNo (None, None, None, 1 576         conv2d_74[0][0]                  \n",
            "__________________________________________________________________________________________________\n",
            "activation_123 (Activation)     (None, None, None, 1 0           batch_normalization_74[0][0]     \n",
            "__________________________________________________________________________________________________\n",
            "conv2d_71 (Conv2D)              (None, None, None, 1 147456      mixed7[0][0]                     \n",
            "__________________________________________________________________________________________________\n",
            "conv2d_75 (Conv2D)              (None, None, None, 1 258048      activation_123[0][0]             \n",
            "__________________________________________________________________________________________________\n",
            "batch_normalization_71 (BatchNo (None, None, None, 1 576         conv2d_71[0][0]                  \n",
            "__________________________________________________________________________________________________\n",
            "batch_normalization_75 (BatchNo (None, None, None, 1 576         conv2d_75[0][0]                  \n",
            "__________________________________________________________________________________________________\n",
            "activation_120 (Activation)     (None, None, None, 1 0           batch_normalization_71[0][0]     \n",
            "__________________________________________________________________________________________________\n",
            "activation_124 (Activation)     (None, None, None, 1 0           batch_normalization_75[0][0]     \n",
            "__________________________________________________________________________________________________\n",
            "conv2d_72 (Conv2D)              (None, None, None, 3 552960      activation_120[0][0]             \n",
            "__________________________________________________________________________________________________\n",
            "conv2d_76 (Conv2D)              (None, None, None, 1 331776      activation_124[0][0]             \n",
            "__________________________________________________________________________________________________\n",
            "batch_normalization_72 (BatchNo (None, None, None, 3 960         conv2d_72[0][0]                  \n",
            "__________________________________________________________________________________________________\n",
            "batch_normalization_76 (BatchNo (None, None, None, 1 576         conv2d_76[0][0]                  \n",
            "__________________________________________________________________________________________________\n",
            "activation_121 (Activation)     (None, None, None, 3 0           batch_normalization_72[0][0]     \n",
            "__________________________________________________________________________________________________\n",
            "activation_125 (Activation)     (None, None, None, 1 0           batch_normalization_76[0][0]     \n",
            "__________________________________________________________________________________________________\n",
            "max_pooling2d_5 (MaxPooling2D)  (None, None, None, 7 0           mixed7[0][0]                     \n",
            "__________________________________________________________________________________________________\n",
            "mixed8 (Concatenate)            (None, None, None, 1 0           activation_121[0][0]             \n",
            "                                                                 activation_125[0][0]             \n",
            "                                                                 max_pooling2d_5[0][0]            \n",
            "__________________________________________________________________________________________________\n",
            "conv2d_81 (Conv2D)              (None, None, None, 4 573440      mixed8[0][0]                     \n",
            "__________________________________________________________________________________________________\n",
            "batch_normalization_81 (BatchNo (None, None, None, 4 1344        conv2d_81[0][0]                  \n",
            "__________________________________________________________________________________________________\n",
            "activation_130 (Activation)     (None, None, None, 4 0           batch_normalization_81[0][0]     \n",
            "__________________________________________________________________________________________________\n",
            "conv2d_78 (Conv2D)              (None, None, None, 3 491520      mixed8[0][0]                     \n",
            "__________________________________________________________________________________________________\n",
            "conv2d_82 (Conv2D)              (None, None, None, 3 1548288     activation_130[0][0]             \n",
            "__________________________________________________________________________________________________\n",
            "batch_normalization_78 (BatchNo (None, None, None, 3 1152        conv2d_78[0][0]                  \n",
            "__________________________________________________________________________________________________\n",
            "batch_normalization_82 (BatchNo (None, None, None, 3 1152        conv2d_82[0][0]                  \n",
            "__________________________________________________________________________________________________\n",
            "activation_127 (Activation)     (None, None, None, 3 0           batch_normalization_78[0][0]     \n",
            "__________________________________________________________________________________________________\n",
            "activation_131 (Activation)     (None, None, None, 3 0           batch_normalization_82[0][0]     \n",
            "__________________________________________________________________________________________________\n",
            "conv2d_79 (Conv2D)              (None, None, None, 3 442368      activation_127[0][0]             \n",
            "__________________________________________________________________________________________________\n",
            "conv2d_80 (Conv2D)              (None, None, None, 3 442368      activation_127[0][0]             \n",
            "__________________________________________________________________________________________________\n",
            "conv2d_83 (Conv2D)              (None, None, None, 3 442368      activation_131[0][0]             \n",
            "__________________________________________________________________________________________________\n",
            "conv2d_84 (Conv2D)              (None, None, None, 3 442368      activation_131[0][0]             \n",
            "__________________________________________________________________________________________________\n",
            "average_pooling2d_8 (AveragePoo (None, None, None, 1 0           mixed8[0][0]                     \n",
            "__________________________________________________________________________________________________\n",
            "conv2d_77 (Conv2D)              (None, None, None, 3 409600      mixed8[0][0]                     \n",
            "__________________________________________________________________________________________________\n",
            "batch_normalization_79 (BatchNo (None, None, None, 3 1152        conv2d_79[0][0]                  \n",
            "__________________________________________________________________________________________________\n",
            "batch_normalization_80 (BatchNo (None, None, None, 3 1152        conv2d_80[0][0]                  \n",
            "__________________________________________________________________________________________________\n",
            "batch_normalization_83 (BatchNo (None, None, None, 3 1152        conv2d_83[0][0]                  \n",
            "__________________________________________________________________________________________________\n",
            "batch_normalization_84 (BatchNo (None, None, None, 3 1152        conv2d_84[0][0]                  \n",
            "__________________________________________________________________________________________________\n",
            "conv2d_85 (Conv2D)              (None, None, None, 1 245760      average_pooling2d_8[0][0]        \n",
            "__________________________________________________________________________________________________\n",
            "batch_normalization_77 (BatchNo (None, None, None, 3 960         conv2d_77[0][0]                  \n",
            "__________________________________________________________________________________________________\n",
            "activation_128 (Activation)     (None, None, None, 3 0           batch_normalization_79[0][0]     \n",
            "__________________________________________________________________________________________________\n",
            "activation_129 (Activation)     (None, None, None, 3 0           batch_normalization_80[0][0]     \n",
            "__________________________________________________________________________________________________\n",
            "activation_132 (Activation)     (None, None, None, 3 0           batch_normalization_83[0][0]     \n",
            "__________________________________________________________________________________________________\n",
            "activation_133 (Activation)     (None, None, None, 3 0           batch_normalization_84[0][0]     \n",
            "__________________________________________________________________________________________________\n",
            "batch_normalization_85 (BatchNo (None, None, None, 1 576         conv2d_85[0][0]                  \n",
            "__________________________________________________________________________________________________\n",
            "activation_126 (Activation)     (None, None, None, 3 0           batch_normalization_77[0][0]     \n",
            "__________________________________________________________________________________________________\n",
            "mixed9_0 (Concatenate)          (None, None, None, 7 0           activation_128[0][0]             \n",
            "                                                                 activation_129[0][0]             \n",
            "__________________________________________________________________________________________________\n",
            "concatenate_1 (Concatenate)     (None, None, None, 7 0           activation_132[0][0]             \n",
            "                                                                 activation_133[0][0]             \n",
            "__________________________________________________________________________________________________\n",
            "activation_134 (Activation)     (None, None, None, 1 0           batch_normalization_85[0][0]     \n",
            "__________________________________________________________________________________________________\n",
            "mixed9 (Concatenate)            (None, None, None, 2 0           activation_126[0][0]             \n",
            "                                                                 mixed9_0[0][0]                   \n",
            "                                                                 concatenate_1[0][0]              \n",
            "                                                                 activation_134[0][0]             \n",
            "__________________________________________________________________________________________________\n",
            "conv2d_90 (Conv2D)              (None, None, None, 4 917504      mixed9[0][0]                     \n",
            "__________________________________________________________________________________________________\n",
            "batch_normalization_90 (BatchNo (None, None, None, 4 1344        conv2d_90[0][0]                  \n",
            "__________________________________________________________________________________________________\n",
            "activation_139 (Activation)     (None, None, None, 4 0           batch_normalization_90[0][0]     \n",
            "__________________________________________________________________________________________________\n",
            "conv2d_87 (Conv2D)              (None, None, None, 3 786432      mixed9[0][0]                     \n",
            "__________________________________________________________________________________________________\n",
            "conv2d_91 (Conv2D)              (None, None, None, 3 1548288     activation_139[0][0]             \n",
            "__________________________________________________________________________________________________\n",
            "batch_normalization_87 (BatchNo (None, None, None, 3 1152        conv2d_87[0][0]                  \n",
            "__________________________________________________________________________________________________\n",
            "batch_normalization_91 (BatchNo (None, None, None, 3 1152        conv2d_91[0][0]                  \n",
            "__________________________________________________________________________________________________\n",
            "activation_136 (Activation)     (None, None, None, 3 0           batch_normalization_87[0][0]     \n",
            "__________________________________________________________________________________________________\n",
            "activation_140 (Activation)     (None, None, None, 3 0           batch_normalization_91[0][0]     \n",
            "__________________________________________________________________________________________________\n",
            "conv2d_88 (Conv2D)              (None, None, None, 3 442368      activation_136[0][0]             \n",
            "__________________________________________________________________________________________________\n",
            "conv2d_89 (Conv2D)              (None, None, None, 3 442368      activation_136[0][0]             \n",
            "__________________________________________________________________________________________________\n",
            "conv2d_92 (Conv2D)              (None, None, None, 3 442368      activation_140[0][0]             \n",
            "__________________________________________________________________________________________________\n",
            "conv2d_93 (Conv2D)              (None, None, None, 3 442368      activation_140[0][0]             \n",
            "__________________________________________________________________________________________________\n",
            "average_pooling2d_9 (AveragePoo (None, None, None, 2 0           mixed9[0][0]                     \n",
            "__________________________________________________________________________________________________\n",
            "conv2d_86 (Conv2D)              (None, None, None, 3 655360      mixed9[0][0]                     \n",
            "__________________________________________________________________________________________________\n",
            "batch_normalization_88 (BatchNo (None, None, None, 3 1152        conv2d_88[0][0]                  \n",
            "__________________________________________________________________________________________________\n",
            "batch_normalization_89 (BatchNo (None, None, None, 3 1152        conv2d_89[0][0]                  \n",
            "__________________________________________________________________________________________________\n",
            "batch_normalization_92 (BatchNo (None, None, None, 3 1152        conv2d_92[0][0]                  \n",
            "__________________________________________________________________________________________________\n",
            "batch_normalization_93 (BatchNo (None, None, None, 3 1152        conv2d_93[0][0]                  \n",
            "__________________________________________________________________________________________________\n",
            "conv2d_94 (Conv2D)              (None, None, None, 1 393216      average_pooling2d_9[0][0]        \n",
            "__________________________________________________________________________________________________\n",
            "batch_normalization_86 (BatchNo (None, None, None, 3 960         conv2d_86[0][0]                  \n",
            "__________________________________________________________________________________________________\n",
            "activation_137 (Activation)     (None, None, None, 3 0           batch_normalization_88[0][0]     \n",
            "__________________________________________________________________________________________________\n",
            "activation_138 (Activation)     (None, None, None, 3 0           batch_normalization_89[0][0]     \n",
            "__________________________________________________________________________________________________\n",
            "activation_141 (Activation)     (None, None, None, 3 0           batch_normalization_92[0][0]     \n",
            "__________________________________________________________________________________________________\n",
            "activation_142 (Activation)     (None, None, None, 3 0           batch_normalization_93[0][0]     \n",
            "__________________________________________________________________________________________________\n",
            "batch_normalization_94 (BatchNo (None, None, None, 1 576         conv2d_94[0][0]                  \n",
            "__________________________________________________________________________________________________\n",
            "activation_135 (Activation)     (None, None, None, 3 0           batch_normalization_86[0][0]     \n",
            "__________________________________________________________________________________________________\n",
            "mixed9_1 (Concatenate)          (None, None, None, 7 0           activation_137[0][0]             \n",
            "                                                                 activation_138[0][0]             \n",
            "__________________________________________________________________________________________________\n",
            "concatenate_2 (Concatenate)     (None, None, None, 7 0           activation_141[0][0]             \n",
            "                                                                 activation_142[0][0]             \n",
            "__________________________________________________________________________________________________\n",
            "activation_143 (Activation)     (None, None, None, 1 0           batch_normalization_94[0][0]     \n",
            "__________________________________________________________________________________________________\n",
            "mixed10 (Concatenate)           (None, None, None, 2 0           activation_135[0][0]             \n",
            "                                                                 mixed9_1[0][0]                   \n",
            "                                                                 concatenate_2[0][0]              \n",
            "                                                                 activation_143[0][0]             \n",
            "==================================================================================================\n",
            "Total params: 21,802,784\n",
            "Trainable params: 21,768,352\n",
            "Non-trainable params: 34,432\n",
            "__________________________________________________________________________________________________\n"
          ],
          "name": "stdout"
        }
      ]
    },
    {
      "metadata": {
        "id": "3E52gM6PcqV5",
        "colab_type": "text"
      },
      "cell_type": "markdown",
      "source": [
        "### Funções para extrair as *Inception V3 features* das imagens\n"
      ]
    },
    {
      "metadata": {
        "id": "jQyTpggJdxdP",
        "colab_type": "code",
        "colab": {}
      },
      "cell_type": "code",
      "source": [
        "def get_features_inception_v3(img, model, new_sz):\n",
        "    img = np.stack((img,)*3, axis=-1)\n",
        "    pimage = Image.fromarray(img.astype('uint8'))\n",
        "    pimage = pimage.resize((new_sz,new_sz))\n",
        "    img_data = image.img_to_array(pimage)\n",
        "    img_data = np.expand_dims(img_data, axis=0)\n",
        "    img_data = preprocess_input_inceptionV3(img_data)\n",
        "    features = model.predict(img_data)\n",
        "    return features\n",
        "  \n",
        "def feature_extraction_inception_v3(X, model):\n",
        "    M = []\n",
        "    for i in tqdm(range(len(X)), desc=\"Extracting image features using Inception V3\"):\n",
        "        features = get_features_resnet50(X[i].reshape(28,28), model, 224)\n",
        "        feature_np = np.array(features)\n",
        "        M.append(feature_np.flatten())\n",
        "    M = np.asarray(M)\n",
        "    print(M.shape)\n",
        "    return M"
      ],
      "execution_count": 0,
      "outputs": []
    },
    {
      "metadata": {
        "id": "YffOVtqJcvAc",
        "colab_type": "text"
      },
      "cell_type": "markdown",
      "source": [
        "### Extrair as *Inception V3 features* e avaliar os classificadores"
      ]
    },
    {
      "metadata": {
        "id": "bZi3QVEqd2ua",
        "colab_type": "code",
        "outputId": "3c8fabf8-919d-4f47-9c73-f29e8521737d",
        "colab": {
          "base_uri": "https://localhost:8080/",
          "height": 732
        }
      },
      "cell_type": "code",
      "source": [
        "X_train_features_inception_v3 = feature_extraction_inception_v3(X_train[0:400], model_inception_v3)\n",
        "testClassifiers(X_train_features_inception_v3[0:400], y_train[0:400].ravel(), 20000)"
      ],
      "execution_count": 0,
      "outputs": [
        {
          "output_type": "stream",
          "text": [
            "Extracting image features using Inception V3: 100%|██████████| 400/400 [00:16<00:00, 29.22it/s]\n",
            "Evaluating Linear SVM...:   0%|          | 0/3 [00:00<?, ?it/s]"
          ],
          "name": "stderr"
        },
        {
          "output_type": "stream",
          "text": [
            "(400, 51200)\n",
            "\n",
            ">> Classifiers\n",
            "cross validation, kfolds =  4 \n",
            "\n",
            "+ Linear SVM\n"
          ],
          "name": "stdout"
        },
        {
          "output_type": "stream",
          "text": [
            "Evaluating Linear SVM...: 100%|██████████| 3/3 [05:32<00:00, 87.72s/it]\n",
            "Evaluating RBF SVM...:  33%|███▎      | 1/3 [00:00<00:00,  9.27it/s]"
          ],
          "name": "stderr"
        },
        {
          "output_type": "stream",
          "text": [
            "+ RBF SVM\n"
          ],
          "name": "stdout"
        },
        {
          "output_type": "stream",
          "text": [
            "Evaluating RBF SVM...: 100%|██████████| 3/3 [01:09<00:00, 18.85s/it]\n",
            "Evaluating RBF SVM Gamma=2...:   0%|          | 0/3 [00:00<?, ?it/s]"
          ],
          "name": "stderr"
        },
        {
          "output_type": "stream",
          "text": [
            "+ RBF SVM Gamma=2\n"
          ],
          "name": "stdout"
        },
        {
          "output_type": "stream",
          "text": [
            "Evaluating RBF SVM Gamma=2...: 100%|██████████| 3/3 [01:09<00:00, 21.92s/it]\n",
            "Evaluating RBF SVM C=005...:   0%|          | 0/3 [00:00<?, ?it/s]"
          ],
          "name": "stderr"
        },
        {
          "output_type": "stream",
          "text": [
            "+ RBF SVM C=005\n"
          ],
          "name": "stdout"
        },
        {
          "output_type": "stream",
          "text": [
            "Evaluating RBF SVM C=005...: 100%|██████████| 3/3 [01:09<00:00, 22.00s/it]\n"
          ],
          "name": "stderr"
        },
        {
          "output_type": "display_data",
          "data": {
            "image/png": "[encoded data removed]",
            "text/plain": [
              "<matplotlib.figure.Figure at 0x7fb88ba1a588>"
            ]
          },
          "metadata": {
            "tags": []
          }
        }
      ]
    },
    {
      "metadata": {
        "id": "Muf0xkTdwxsc",
        "colab_type": "text"
      },
      "cell_type": "markdown",
      "source": [
        "# Componentes PCA\n",
        "\n",
        "Obter os 100 primeiros componentes PCA da imagem e das features extraídas das redes neurais e avaliar os SVMs da mesma forma que anteriormente."
      ]
    },
    {
      "metadata": {
        "id": "-S2PayacxpVR",
        "colab_type": "code",
        "colab": {}
      },
      "cell_type": "code",
      "source": [
        "n_components = 100"
      ],
      "execution_count": 0,
      "outputs": []
    },
    {
      "metadata": {
        "id": "nEJbVifY7HXn",
        "colab_type": "text"
      },
      "cell_type": "markdown",
      "source": [
        "### PCA nos pixels das imagens"
      ]
    },
    {
      "metadata": {
        "id": "qKM_9AEa7K2j",
        "colab_type": "code",
        "outputId": "281cae6d-b2b1-4afa-9253-ed39e97cf330",
        "colab": {
          "base_uri": "https://localhost:8080/",
          "height": 755
        }
      },
      "cell_type": "code",
      "source": [
        "shape = X_train.shape\n",
        "\n",
        "PCA_X_train = X_train.reshape(shape[0], np.prod(shape[1:]))\n",
        "pca = RandomizedPCA(n_components = n_components).fit(PCA_X_train)\n",
        "pca_train = pca.transform(PCA_X_train)\n",
        "\n",
        "testClassifiers(pca_train[0:400], y_train[0:400].ravel(), 10)"
      ],
      "execution_count": 0,
      "outputs": [
        {
          "output_type": "stream",
          "text": [
            "/usr/local/lib/python3.6/dist-packages/sklearn/utils/deprecation.py:58: DeprecationWarning: Class RandomizedPCA is deprecated; RandomizedPCA was deprecated in 0.18 and will be removed in 0.20. Use PCA(svd_solver='randomized') instead. The new implementation DOES NOT store whiten ``components_``. Apply transform to get them.\n",
            "  warnings.warn(msg, category=DeprecationWarning)\n",
            "Evaluating Linear SVM...:   0%|          | 0/10 [00:00<?, ?it/s]"
          ],
          "name": "stderr"
        },
        {
          "output_type": "stream",
          "text": [
            "\n",
            ">> Classifiers\n",
            "cross validation, kfolds =  4 \n",
            "\n",
            "+ Linear SVM\n"
          ],
          "name": "stdout"
        },
        {
          "output_type": "stream",
          "text": [
            "Evaluating Linear SVM...: 100%|██████████| 10/10 [02:21<00:00, 20.10s/it]\n",
            "Evaluating RBF SVM...:  20%|██        | 2/10 [00:00<00:00, 11.00it/s]"
          ],
          "name": "stderr"
        },
        {
          "output_type": "stream",
          "text": [
            "+ RBF SVM\n"
          ],
          "name": "stdout"
        },
        {
          "output_type": "stream",
          "text": [
            "Evaluating RBF SVM...: 100%|██████████| 10/10 [00:01<00:00,  6.73it/s]\n",
            "Evaluating RBF SVM Gamma=2...:  20%|██        | 2/10 [00:00<00:00, 12.74it/s]"
          ],
          "name": "stderr"
        },
        {
          "output_type": "stream",
          "text": [
            "+ RBF SVM Gamma=2\n"
          ],
          "name": "stdout"
        },
        {
          "output_type": "stream",
          "text": [
            "Evaluating RBF SVM Gamma=2...: 100%|██████████| 10/10 [00:01<00:00,  6.97it/s]\n",
            "Evaluating RBF SVM C=005...:  20%|██        | 2/10 [00:00<00:00, 14.75it/s]"
          ],
          "name": "stderr"
        },
        {
          "output_type": "stream",
          "text": [
            "+ RBF SVM C=005\n"
          ],
          "name": "stdout"
        },
        {
          "output_type": "stream",
          "text": [
            "Evaluating RBF SVM C=005...: 100%|██████████| 10/10 [00:01<00:00,  7.54it/s]\n"
          ],
          "name": "stderr"
        },
        {
          "output_type": "display_data",
          "data": {
            "image/png": "[encoded data removed]",
            "text/plain": [
              "<matplotlib.figure.Figure at 0x7fa389e477f0>"
            ]
          },
          "metadata": {
            "tags": []
          }
        }
      ]
    },
    {
      "metadata": {
        "id": "QThFfDBCxrkA",
        "colab_type": "text"
      },
      "cell_type": "markdown",
      "source": [
        "### PCA nas  *VGG16 features*"
      ]
    },
    {
      "metadata": {
        "id": "SSea1h-NxmzB",
        "colab_type": "code",
        "outputId": "634db455-5515-4045-b527-c880e1a5eba8",
        "colab": {
          "base_uri": "https://localhost:8080/",
          "height": 806
        }
      },
      "cell_type": "code",
      "source": [
        "shape = X_train_features_vgg.shape\n",
        "\n",
        "PCA_X_train = X_train_features_vgg.reshape(shape[0],np.prod(shape[1:]))\n",
        "pca = RandomizedPCA(n_components=n_components).fit(PCA_X_train)\n",
        "pca_train = pca.transform(PCA_X_train)\n",
        "\n",
        "testClassifiers(pca_train[0:400], y_train[0:400].ravel(), 10)"
      ],
      "execution_count": 0,
      "outputs": [
        {
          "output_type": "stream",
          "text": [
            "\rExtracting image features using VGG16:   0%|          | 0/400 [00:00<?, ?it/s]"
          ],
          "name": "stderr"
        },
        {
          "output_type": "stream",
          "text": [
            "0\n"
          ],
          "name": "stdout"
        },
        {
          "output_type": "stream",
          "text": [
            "Extracting image features using VGG16: 100%|██████████| 400/400 [00:11<00:00, 34.05it/s]\n",
            "/usr/local/lib/python3.6/dist-packages/sklearn/utils/deprecation.py:58: DeprecationWarning: Class RandomizedPCA is deprecated; RandomizedPCA was deprecated in 0.18 and will be removed in 0.20. Use PCA(svd_solver='randomized') instead. The new implementation DOES NOT store whiten ``components_``. Apply transform to get them.\n",
            "  warnings.warn(msg, category=DeprecationWarning)\n"
          ],
          "name": "stderr"
        },
        {
          "output_type": "stream",
          "text": [
            "(400, 25088)\n"
          ],
          "name": "stdout"
        },
        {
          "output_type": "stream",
          "text": [
            "\rEvaluating Linear SVM...:   0%|          | 0/10 [00:00<?, ?it/s]"
          ],
          "name": "stderr"
        },
        {
          "output_type": "stream",
          "text": [
            "\n",
            ">> Classifiers\n",
            "cross validation, kfolds =  4 \n",
            "\n",
            "+ Linear SVM\n"
          ],
          "name": "stdout"
        },
        {
          "output_type": "stream",
          "text": [
            "Evaluating Linear SVM...: 100%|██████████| 10/10 [02:26<00:00, 20.94s/it]\n",
            "Evaluating RBF SVM...:  10%|█         | 1/10 [00:00<00:01,  8.20it/s]"
          ],
          "name": "stderr"
        },
        {
          "output_type": "stream",
          "text": [
            "+ RBF SVM\n"
          ],
          "name": "stdout"
        },
        {
          "output_type": "stream",
          "text": [
            "Evaluating RBF SVM...: 100%|██████████| 10/10 [00:01<00:00,  6.75it/s]\n",
            "Evaluating RBF SVM Gamma=2...:  20%|██        | 2/10 [00:00<00:00, 11.97it/s]"
          ],
          "name": "stderr"
        },
        {
          "output_type": "stream",
          "text": [
            "+ RBF SVM Gamma=2\n"
          ],
          "name": "stdout"
        },
        {
          "output_type": "stream",
          "text": [
            "Evaluating RBF SVM Gamma=2...: 100%|██████████| 10/10 [00:01<00:00,  6.88it/s]\n",
            "Evaluating RBF SVM C=005...:  20%|██        | 2/10 [00:00<00:00, 14.33it/s]"
          ],
          "name": "stderr"
        },
        {
          "output_type": "stream",
          "text": [
            "+ RBF SVM C=005\n"
          ],
          "name": "stdout"
        },
        {
          "output_type": "stream",
          "text": [
            "Evaluating RBF SVM C=005...: 100%|██████████| 10/10 [00:01<00:00,  7.44it/s]\n"
          ],
          "name": "stderr"
        },
        {
          "output_type": "display_data",
          "data": {
            "image/png": "[encoded data removed]",
            "text/plain": [
              "<matplotlib.figure.Figure at 0x7fa36285af28>"
            ]
          },
          "metadata": {
            "tags": []
          }
        }
      ]
    },
    {
      "metadata": {
        "id": "NeyQ-8E9x1WG",
        "colab_type": "text"
      },
      "cell_type": "markdown",
      "source": [
        "### PCA nas *Resnet50 features*"
      ]
    },
    {
      "metadata": {
        "id": "yjzaRQUNx505",
        "colab_type": "code",
        "outputId": "869fdc8f-dbe0-470e-fece-80a96d6d4c60",
        "colab": {
          "base_uri": "https://localhost:8080/",
          "height": 789
        }
      },
      "cell_type": "code",
      "source": [
        "shape = X_train_features_resnet50.shape\n",
        "\n",
        "PCA_X_train = X_train_features_resnet50.reshape(shape[0],np.prod(shape[1:]))\n",
        "pca = RandomizedPCA(n_components=n_components).fit(PCA_X_train)\n",
        "pca_train = pca.transform(PCA_X_train)\n",
        "\n",
        "testClassifiers(pca_train[0:400], y_train[0:400].ravel(), 10)"
      ],
      "execution_count": 0,
      "outputs": [
        {
          "output_type": "stream",
          "text": [
            "Extracting image features using Resnet50: 100%|██████████| 400/400 [00:13<00:00, 29.65it/s]\n",
            "/usr/local/lib/python3.6/dist-packages/sklearn/utils/deprecation.py:58: DeprecationWarning: Class RandomizedPCA is deprecated; RandomizedPCA was deprecated in 0.18 and will be removed in 0.20. Use PCA(svd_solver='randomized') instead. The new implementation DOES NOT store whiten ``components_``. Apply transform to get them.\n",
            "  warnings.warn(msg, category=DeprecationWarning)\n"
          ],
          "name": "stderr"
        },
        {
          "output_type": "stream",
          "text": [
            "(400, 100352)\n"
          ],
          "name": "stdout"
        },
        {
          "output_type": "stream",
          "text": [
            "\rEvaluating Linear SVM...:   0%|          | 0/10 [00:00<?, ?it/s]"
          ],
          "name": "stderr"
        },
        {
          "output_type": "stream",
          "text": [
            "\n",
            ">> Classifiers\n",
            "cross validation, kfolds =  4 \n",
            "\n",
            "+ Linear SVM\n"
          ],
          "name": "stdout"
        },
        {
          "output_type": "stream",
          "text": [
            "Evaluating Linear SVM...: 100%|██████████| 10/10 [02:24<00:00, 20.88s/it]\n",
            "Evaluating RBF SVM...:  20%|██        | 2/10 [00:00<00:00, 11.37it/s]"
          ],
          "name": "stderr"
        },
        {
          "output_type": "stream",
          "text": [
            "+ RBF SVM\n"
          ],
          "name": "stdout"
        },
        {
          "output_type": "stream",
          "text": [
            "Evaluating RBF SVM...: 100%|██████████| 10/10 [00:01<00:00,  6.73it/s]\n",
            "Evaluating RBF SVM Gamma=2...:  20%|██        | 2/10 [00:00<00:00, 12.79it/s]"
          ],
          "name": "stderr"
        },
        {
          "output_type": "stream",
          "text": [
            "+ RBF SVM Gamma=2\n"
          ],
          "name": "stdout"
        },
        {
          "output_type": "stream",
          "text": [
            "Evaluating RBF SVM Gamma=2...: 100%|██████████| 10/10 [00:01<00:00,  6.87it/s]\n",
            "Evaluating RBF SVM C=005...:  20%|██        | 2/10 [00:00<00:00, 14.22it/s]"
          ],
          "name": "stderr"
        },
        {
          "output_type": "stream",
          "text": [
            "+ RBF SVM C=005\n"
          ],
          "name": "stdout"
        },
        {
          "output_type": "stream",
          "text": [
            "Evaluating RBF SVM C=005...: 100%|██████████| 10/10 [00:01<00:00,  7.32it/s]\n"
          ],
          "name": "stderr"
        },
        {
          "output_type": "display_data",
          "data": {
            "image/png": "[encoded data removed]",
            "text/plain": [
              "<matplotlib.figure.Figure at 0x7fa35e6d92b0>"
            ]
          },
          "metadata": {
            "tags": []
          }
        }
      ]
    },
    {
      "metadata": {
        "id": "X6dJ2YwYx_FO",
        "colab_type": "text"
      },
      "cell_type": "markdown",
      "source": [
        "### PCA nas *Inception V3 features*"
      ]
    },
    {
      "metadata": {
        "id": "0d-5VeR3yGVR",
        "colab_type": "code",
        "outputId": "a9283e3e-69d2-455c-941f-35da0dd60f87",
        "colab": {
          "base_uri": "https://localhost:8080/",
          "height": 789
        }
      },
      "cell_type": "code",
      "source": [
        "X_train_features_inception_v3 = feature_extraction_inception_v3(X_train[0:400], model_inception_v3)\n",
        "shape = X_train_features_inception_v3.shape\n",
        "\n",
        "PCA_X_train = X_train_features_inception_v3.reshape(shape[0],np.prod(shape[1:]))\n",
        "pca = RandomizedPCA(n_components=n_components).fit(PCA_X_train)\n",
        "pca_train = pca.transform(PCA_X_train)\n",
        "\n",
        "testClassifiers(pca_train[0:400], y_train[0:400].ravel(), 2)"
      ],
      "execution_count": 0,
      "outputs": [
        {
          "output_type": "stream",
          "text": [
            "Extracting image features using Inception V3: 100%|██████████| 400/400 [00:17<00:00, 29.00it/s]\n",
            "/usr/local/lib/python3.6/dist-packages/sklearn/utils/deprecation.py:58: DeprecationWarning: Class RandomizedPCA is deprecated; RandomizedPCA was deprecated in 0.18 and will be removed in 0.20. Use PCA(svd_solver='randomized') instead. The new implementation DOES NOT store whiten ``components_``. Apply transform to get them.\n",
            "  warnings.warn(msg, category=DeprecationWarning)\n"
          ],
          "name": "stderr"
        },
        {
          "output_type": "stream",
          "text": [
            "(400, 51200)\n"
          ],
          "name": "stdout"
        },
        {
          "output_type": "stream",
          "text": [
            "\rEvaluating Linear SVM...:   0%|          | 0/50 [00:00<?, ?it/s]"
          ],
          "name": "stderr"
        },
        {
          "output_type": "stream",
          "text": [
            "\n",
            ">> Classifiers\n",
            "cross validation, kfolds =  4 \n",
            "\n",
            "+ Linear SVM\n"
          ],
          "name": "stdout"
        },
        {
          "output_type": "stream",
          "text": [
            "Evaluating Linear SVM...: 100%|██████████| 50/50 [13:04<00:00, 27.69s/it]\n",
            "Evaluating RBF SVM...:   4%|▍         | 2/50 [00:00<00:03, 12.38it/s]"
          ],
          "name": "stderr"
        },
        {
          "output_type": "stream",
          "text": [
            "+ RBF SVM\n"
          ],
          "name": "stdout"
        },
        {
          "output_type": "stream",
          "text": [
            "Evaluating RBF SVM...: 100%|██████████| 50/50 [00:06<00:00,  5.90it/s]\n",
            "Evaluating RBF SVM Gamma=2...:   4%|▍         | 2/50 [00:00<00:03, 13.43it/s]"
          ],
          "name": "stderr"
        },
        {
          "output_type": "stream",
          "text": [
            "+ RBF SVM Gamma=2\n"
          ],
          "name": "stdout"
        },
        {
          "output_type": "stream",
          "text": [
            "Evaluating RBF SVM Gamma=2...: 100%|██████████| 50/50 [00:06<00:00,  5.70it/s]\n",
            "Evaluating RBF SVM C=005...:   4%|▍         | 2/50 [00:00<00:03, 15.05it/s]"
          ],
          "name": "stderr"
        },
        {
          "output_type": "stream",
          "text": [
            "+ RBF SVM C=005\n"
          ],
          "name": "stdout"
        },
        {
          "output_type": "stream",
          "text": [
            "Evaluating RBF SVM C=005...: 100%|██████████| 50/50 [00:05<00:00,  6.12it/s]\n"
          ],
          "name": "stderr"
        },
        {
          "output_type": "display_data",
          "data": {
            "image/png": "[encoded data removed]",
            "text/plain": [
              "<matplotlib.figure.Figure at 0x7fa3580f0b38>"
            ]
          },
          "metadata": {
            "tags": []
          }
        }
      ]
    },
    {
      "metadata": {
        "id": "qOvij2bJzKNA",
        "colab_type": "text"
      },
      "cell_type": "markdown",
      "source": [
        "# Extração de features com VGG19 (EMNIST)\n",
        "\n",
        "Treinamento de diversos modelos de SVMs sobre as features extraídas pela rede VGG19 [(Simonyan et al, 2015)](https://arxiv.org/abs/1409.1556), pré-treinada para classificação no próprio EMNIST, variando a quantidade de features utilizadas."
      ]
    },
    {
      "metadata": {
        "id": "02as7UzumtpA",
        "colab_type": "code",
        "colab": {}
      },
      "cell_type": "code",
      "source": [
        "NUM_TESTS = 2000"
      ],
      "execution_count": 0,
      "outputs": []
    },
    {
      "metadata": {
        "id": "Brqp_eHv0X36",
        "colab_type": "code",
        "colab": {}
      },
      "cell_type": "code",
      "source": [
        "vgg_model_file_id = '1iLgU3mm2Rsdh3Q9xXi_pttajhdXUfswB'\n",
        "vgg_model_file = drive.CreateFile({'id': vgg_model_file_id})\n",
        "vgg_model_file.GetContentFile('emnist_adam_vgg_normal.h5')"
      ],
      "execution_count": 0,
      "outputs": []
    },
    {
      "metadata": {
        "id": "vsu4cPfX2rUD",
        "colab_type": "code",
        "outputId": "ff516ab7-b248-46c6-f9a5-149f97cc86a1",
        "colab": {
          "base_uri": "https://localhost:8080/",
          "height": 850
        }
      },
      "cell_type": "code",
      "source": [
        "import keras\n",
        "\n",
        "from keras.models import Model\n",
        "from keras.models import load_model\n",
        "\n",
        "vgg_emnist_model = keras.models.load_model('emnist_adam_vgg_normal.h5')\n",
        "vgg_emnist_model.summary()"
      ],
      "execution_count": 0,
      "outputs": [
        {
          "output_type": "stream",
          "text": [
            "_________________________________________________________________\n",
            "Layer (type)                 Output Shape              Param #   \n",
            "=================================================================\n",
            "input_1 (InputLayer)         (None, 32, 32, 3)         0         \n",
            "_________________________________________________________________\n",
            "block1_conv1 (Conv2D)        (None, 32, 32, 64)        1792      \n",
            "_________________________________________________________________\n",
            "block1_conv2 (Conv2D)        (None, 32, 32, 64)        36928     \n",
            "_________________________________________________________________\n",
            "block1_pool (MaxPooling2D)   (None, 16, 16, 64)        0         \n",
            "_________________________________________________________________\n",
            "block2_conv1 (Conv2D)        (None, 16, 16, 128)       73856     \n",
            "_________________________________________________________________\n",
            "block2_conv2 (Conv2D)        (None, 16, 16, 128)       147584    \n",
            "_________________________________________________________________\n",
            "block2_pool (MaxPooling2D)   (None, 8, 8, 128)         0         \n",
            "_________________________________________________________________\n",
            "block3_conv1 (Conv2D)        (None, 8, 8, 256)         295168    \n",
            "_________________________________________________________________\n",
            "block3_conv2 (Conv2D)        (None, 8, 8, 256)         590080    \n",
            "_________________________________________________________________\n",
            "block3_conv3 (Conv2D)        (None, 8, 8, 256)         590080    \n",
            "_________________________________________________________________\n",
            "block3_pool (MaxPooling2D)   (None, 4, 4, 256)         0         \n",
            "_________________________________________________________________\n",
            "block4_conv1 (Conv2D)        (None, 4, 4, 512)         1180160   \n",
            "_________________________________________________________________\n",
            "block4_conv2 (Conv2D)        (None, 4, 4, 512)         2359808   \n",
            "_________________________________________________________________\n",
            "block4_conv3 (Conv2D)        (None, 4, 4, 512)         2359808   \n",
            "_________________________________________________________________\n",
            "block4_pool (MaxPooling2D)   (None, 2, 2, 512)         0         \n",
            "_________________________________________________________________\n",
            "block5_conv1 (Conv2D)        (None, 2, 2, 512)         2359808   \n",
            "_________________________________________________________________\n",
            "block5_conv2 (Conv2D)        (None, 2, 2, 512)         2359808   \n",
            "_________________________________________________________________\n",
            "block5_conv3 (Conv2D)        (None, 2, 2, 512)         2359808   \n",
            "_________________________________________________________________\n",
            "block5_pool (MaxPooling2D)   (None, 1, 1, 512)         0         \n",
            "_________________________________________________________________\n",
            "flatten_1 (Flatten)          (None, 512)               0         \n",
            "_________________________________________________________________\n",
            "dense_1 (Dense)              (None, 47)                24111     \n",
            "=================================================================\n",
            "Total params: 14,738,799\n",
            "Trainable params: 14,738,799\n",
            "Non-trainable params: 0\n",
            "_________________________________________________________________\n"
          ],
          "name": "stdout"
        }
      ]
    },
    {
      "metadata": {
        "id": "3IlqiW0j3see",
        "colab_type": "code",
        "colab": {}
      },
      "cell_type": "code",
      "source": [
        "layer_name_vgg = 'flatten_1'\n",
        "intermediate_layer_model_vgg = Model(inputs=vgg_emnist_model.input,\n",
        "                                 outputs=vgg_emnist_model.get_layer(layer_name_vgg).output)"
      ],
      "execution_count": 0,
      "outputs": []
    },
    {
      "metadata": {
        "id": "dela5iri3zpT",
        "colab_type": "code",
        "colab": {}
      },
      "cell_type": "code",
      "source": [
        "from keras.applications import vgg16\n",
        "\n",
        "def get_features_emnist_vgg(img, model, new_sz):\n",
        "    img = np.stack((img,)*3, axis=-1)\n",
        "    pimage = Image.fromarray(img.astype('uint8'))\n",
        "    pimage = pimage.resize((new_sz,new_sz))\n",
        "    img_data = image.img_to_array(pimage)\n",
        "    img_data = np.expand_dims(img_data, axis=0)\n",
        "    img_data = vgg16.preprocess_input(img_data)\n",
        "    features = model.predict(img_data)\n",
        "    return features\n",
        "  \n",
        "def feature_extraction_emnist_vgg(X, model):\n",
        "    M = []\n",
        "    for i in tqdm(range(len(X)), desc=\"Extracting image features using VGG\"):\n",
        "        features = get_features_emnist_vgg(X[i].reshape(28,28), model, 32)\n",
        "        feature_np = np.array(features)\n",
        "        M.append(feature_np.flatten())\n",
        "    M = np.asarray(M)\n",
        "    print(M.shape)\n",
        "    return M"
      ],
      "execution_count": 0,
      "outputs": []
    },
    {
      "metadata": {
        "id": "nfE-Se7w335Y",
        "colab_type": "code",
        "outputId": "827fe4c6-af0d-4812-9ced-29b6d43ea4f6",
        "colab": {
          "base_uri": "https://localhost:8080/",
          "height": 51
        }
      },
      "cell_type": "code",
      "source": [
        "X_train_features_emnist_vgg = feature_extraction_emnist_vgg(X_train[0:NUM_TESTS], intermediate_layer_model_vgg)"
      ],
      "execution_count": 0,
      "outputs": [
        {
          "output_type": "stream",
          "text": [
            "Extracting image features using VGG: 100%|██████████| 2000/2000 [00:21<00:00, 91.69it/s] "
          ],
          "name": "stderr"
        },
        {
          "output_type": "stream",
          "text": [
            "(2000, 512)\n"
          ],
          "name": "stdout"
        },
        {
          "output_type": "stream",
          "text": [
            "\n"
          ],
          "name": "stderr"
        }
      ]
    },
    {
      "metadata": {
        "id": "tOzBxsXJ3-az",
        "colab_type": "code",
        "outputId": "630ef9b1-e22d-4b29-88e5-243b66ae2634",
        "colab": {
          "base_uri": "https://localhost:8080/",
          "height": 701
        }
      },
      "cell_type": "code",
      "source": [
        "testClassifiers(X_train_features_emnist_vgg[0:NUM_TESTS], y_train[0:NUM_TESTS].ravel(), 128)"
      ],
      "execution_count": 0,
      "outputs": [
        {
          "output_type": "stream",
          "text": [
            "\rEvaluating Linear SVM...:   0%|          | 0/4 [00:00<?, ?it/s]"
          ],
          "name": "stderr"
        },
        {
          "output_type": "stream",
          "text": [
            "\n",
            ">> Classifiers\n",
            "cross validation, kfolds =  4 \n",
            "\n",
            "+ Linear SVM\n"
          ],
          "name": "stdout"
        },
        {
          "output_type": "stream",
          "text": [
            "Evaluating Linear SVM...: 100%|██████████| 4/4 [00:09<00:00,  2.58s/it]\n",
            "Evaluating RBF SVM...:   0%|          | 0/4 [00:00<?, ?it/s]"
          ],
          "name": "stderr"
        },
        {
          "output_type": "stream",
          "text": [
            "+ RBF SVM\n"
          ],
          "name": "stdout"
        },
        {
          "output_type": "stream",
          "text": [
            "Evaluating RBF SVM...: 100%|██████████| 4/4 [00:21<00:00,  5.15s/it]\n",
            "Evaluating RBF SVM Gamma=2...:   0%|          | 0/4 [00:00<?, ?it/s]"
          ],
          "name": "stderr"
        },
        {
          "output_type": "stream",
          "text": [
            "+ RBF SVM Gamma=2\n"
          ],
          "name": "stdout"
        },
        {
          "output_type": "stream",
          "text": [
            "Evaluating RBF SVM Gamma=2...: 100%|██████████| 4/4 [00:20<00:00,  5.09s/it]\n",
            "Evaluating RBF SVM C=005...:   0%|          | 0/4 [00:00<?, ?it/s]"
          ],
          "name": "stderr"
        },
        {
          "output_type": "stream",
          "text": [
            "+ RBF SVM C=005\n"
          ],
          "name": "stdout"
        },
        {
          "output_type": "stream",
          "text": [
            "Evaluating RBF SVM C=005...: 100%|██████████| 4/4 [00:20<00:00,  5.08s/it]\n"
          ],
          "name": "stderr"
        },
        {
          "output_type": "display_data",
          "data": {
            "image/png": "[encoded data removed]",
            "text/plain": [
              "<matplotlib.figure.Figure at 0x7fa3571a3898>"
            ]
          },
          "metadata": {
            "tags": []
          }
        }
      ]
    },
    {
      "metadata": {
        "id": "kKPdC9K4_BMK",
        "colab_type": "code",
        "outputId": "16a60e33-3f0a-4d36-873e-94bf5576b97a",
        "colab": {
          "base_uri": "https://localhost:8080/",
          "height": 755
        }
      },
      "cell_type": "code",
      "source": [
        "shape = X_train_features_emnist_vgg.shape\n",
        "\n",
        "PCA_X_train = X_train_features_emnist_vgg.reshape(shape[0],np.prod(shape[1:]))\n",
        "pca = RandomizedPCA(n_components=n_components).fit(PCA_X_train)\n",
        "pca_train = pca.transform(PCA_X_train)\n",
        "\n",
        "testClassifiers(pca_train[0:NUM_TESTS], y_train[0:NUM_TESTS].ravel(), 10)"
      ],
      "execution_count": 0,
      "outputs": [
        {
          "output_type": "stream",
          "text": [
            "/usr/local/lib/python3.6/dist-packages/sklearn/utils/deprecation.py:58: DeprecationWarning: Class RandomizedPCA is deprecated; RandomizedPCA was deprecated in 0.18 and will be removed in 0.20. Use PCA(svd_solver='randomized') instead. The new implementation DOES NOT store whiten ``components_``. Apply transform to get them.\n",
            "  warnings.warn(msg, category=DeprecationWarning)\n",
            "\rEvaluating Linear SVM...:   0%|          | 0/10 [00:00<?, ?it/s]"
          ],
          "name": "stderr"
        },
        {
          "output_type": "stream",
          "text": [
            "\n",
            ">> Classifiers\n",
            "cross validation, kfolds =  4 \n",
            "\n",
            "+ Linear SVM\n"
          ],
          "name": "stdout"
        },
        {
          "output_type": "stream",
          "text": [
            "Evaluating Linear SVM...: 100%|██████████| 10/10 [13:02<00:00, 109.32s/it]\n",
            "Evaluating RBF SVM...:   0%|          | 0/10 [00:00<?, ?it/s]"
          ],
          "name": "stderr"
        },
        {
          "output_type": "stream",
          "text": [
            "+ RBF SVM\n"
          ],
          "name": "stdout"
        },
        {
          "output_type": "stream",
          "text": [
            "Evaluating RBF SVM...: 100%|██████████| 10/10 [00:19<00:00,  2.43s/it]\n",
            "Evaluating RBF SVM Gamma=2...:   0%|          | 0/10 [00:00<?, ?it/s]"
          ],
          "name": "stderr"
        },
        {
          "output_type": "stream",
          "text": [
            "+ RBF SVM Gamma=2\n"
          ],
          "name": "stdout"
        },
        {
          "output_type": "stream",
          "text": [
            "Evaluating RBF SVM Gamma=2...: 100%|██████████| 10/10 [00:19<00:00,  2.44s/it]\n",
            "Evaluating RBF SVM C=005...:   0%|          | 0/10 [00:00<?, ?it/s]"
          ],
          "name": "stderr"
        },
        {
          "output_type": "stream",
          "text": [
            "+ RBF SVM C=005\n"
          ],
          "name": "stdout"
        },
        {
          "output_type": "stream",
          "text": [
            "Evaluating RBF SVM C=005...: 100%|██████████| 10/10 [00:17<00:00,  2.33s/it]\n"
          ],
          "name": "stderr"
        },
        {
          "output_type": "display_data",
          "data": {
            "image/png": "[encoded data removed]",
            "text/plain": [
              "<matplotlib.figure.Figure at 0x7fa367acbf60>"
            ]
          },
          "metadata": {
            "tags": []
          }
        }
      ]
    },
    {
      "metadata": {
        "id": "9G-MiCa21COL",
        "colab_type": "text"
      },
      "cell_type": "markdown",
      "source": [
        "# Extração de features com Resnet50 (EMNIST)\n",
        "\n",
        "Treinamento de diversos modelos de SVMs sobre as features extraídas pela rede Resnet50 [(He et al, 2015)](https://arxiv.org/abs/1512.03385) pré-treinada para classificação no próprio EMNIST, variando a quantidade de features utilizadas."
      ]
    },
    {
      "metadata": {
        "id": "twoRDNjp1kw7",
        "colab_type": "code",
        "colab": {}
      },
      "cell_type": "code",
      "source": [
        "resnet_model_file_id = '1yWhaynQiuyK96QJoGy6aq-ZQb6-cJrsg'\n",
        "resnet_model_file = drive.CreateFile({'id': resnet_model_file_id})\n",
        "resnet_model_file.GetContentFile('emnist_adam_resnet.h5')"
      ],
      "execution_count": 0,
      "outputs": []
    },
    {
      "metadata": {
        "id": "RkxskwBh3UpB",
        "colab_type": "code",
        "outputId": "520248ca-896d-4cad-8530-e7afde7207d1",
        "colab": {
          "base_uri": "https://localhost:8080/",
          "height": 6426
        }
      },
      "cell_type": "code",
      "source": [
        "model_resnet50_emnist = keras.models.load_model('emnist_adam_resnet.h5')\n",
        "model_resnet50_emnist.summary()"
      ],
      "execution_count": 0,
      "outputs": [
        {
          "output_type": "stream",
          "text": [
            "__________________________________________________________________________________________________\n",
            "Layer (type)                    Output Shape         Param #     Connected to                     \n",
            "==================================================================================================\n",
            "input_2 (InputLayer)            (None, 32, 32, 3)    0                                            \n",
            "__________________________________________________________________________________________________\n",
            "conv1_pad (ZeroPadding2D)       (None, 38, 38, 3)    0           input_2[0][0]                    \n",
            "__________________________________________________________________________________________________\n",
            "conv1 (Conv2D)                  (None, 16, 16, 64)   9472        conv1_pad[0][0]                  \n",
            "__________________________________________________________________________________________________\n",
            "bn_conv1 (BatchNormalization)   (None, 16, 16, 64)   256         conv1[0][0]                      \n",
            "__________________________________________________________________________________________________\n",
            "activation_1 (Activation)       (None, 16, 16, 64)   0           bn_conv1[0][0]                   \n",
            "__________________________________________________________________________________________________\n",
            "pool1_pad (ZeroPadding2D)       (None, 18, 18, 64)   0           activation_1[0][0]               \n",
            "__________________________________________________________________________________________________\n",
            "max_pooling2d_1 (MaxPooling2D)  (None, 8, 8, 64)     0           pool1_pad[0][0]                  \n",
            "__________________________________________________________________________________________________\n",
            "res2a_branch2a (Conv2D)         (None, 8, 8, 64)     4160        max_pooling2d_1[0][0]            \n",
            "__________________________________________________________________________________________________\n",
            "bn2a_branch2a (BatchNormalizati (None, 8, 8, 64)     256         res2a_branch2a[0][0]             \n",
            "__________________________________________________________________________________________________\n",
            "activation_2 (Activation)       (None, 8, 8, 64)     0           bn2a_branch2a[0][0]              \n",
            "__________________________________________________________________________________________________\n",
            "res2a_branch2b (Conv2D)         (None, 8, 8, 64)     36928       activation_2[0][0]               \n",
            "__________________________________________________________________________________________________\n",
            "bn2a_branch2b (BatchNormalizati (None, 8, 8, 64)     256         res2a_branch2b[0][0]             \n",
            "__________________________________________________________________________________________________\n",
            "activation_3 (Activation)       (None, 8, 8, 64)     0           bn2a_branch2b[0][0]              \n",
            "__________________________________________________________________________________________________\n",
            "res2a_branch2c (Conv2D)         (None, 8, 8, 256)    16640       activation_3[0][0]               \n",
            "__________________________________________________________________________________________________\n",
            "res2a_branch1 (Conv2D)          (None, 8, 8, 256)    16640       max_pooling2d_1[0][0]            \n",
            "__________________________________________________________________________________________________\n",
            "bn2a_branch2c (BatchNormalizati (None, 8, 8, 256)    1024        res2a_branch2c[0][0]             \n",
            "__________________________________________________________________________________________________\n",
            "bn2a_branch1 (BatchNormalizatio (None, 8, 8, 256)    1024        res2a_branch1[0][0]              \n",
            "__________________________________________________________________________________________________\n",
            "add_1 (Add)                     (None, 8, 8, 256)    0           bn2a_branch2c[0][0]              \n",
            "                                                                 bn2a_branch1[0][0]               \n",
            "__________________________________________________________________________________________________\n",
            "activation_4 (Activation)       (None, 8, 8, 256)    0           add_1[0][0]                      \n",
            "__________________________________________________________________________________________________\n",
            "res2b_branch2a (Conv2D)         (None, 8, 8, 64)     16448       activation_4[0][0]               \n",
            "__________________________________________________________________________________________________\n",
            "bn2b_branch2a (BatchNormalizati (None, 8, 8, 64)     256         res2b_branch2a[0][0]             \n",
            "__________________________________________________________________________________________________\n",
            "activation_5 (Activation)       (None, 8, 8, 64)     0           bn2b_branch2a[0][0]              \n",
            "__________________________________________________________________________________________________\n",
            "res2b_branch2b (Conv2D)         (None, 8, 8, 64)     36928       activation_5[0][0]               \n",
            "__________________________________________________________________________________________________\n",
            "bn2b_branch2b (BatchNormalizati (None, 8, 8, 64)     256         res2b_branch2b[0][0]             \n",
            "__________________________________________________________________________________________________\n",
            "activation_6 (Activation)       (None, 8, 8, 64)     0           bn2b_branch2b[0][0]              \n",
            "__________________________________________________________________________________________________\n",
            "res2b_branch2c (Conv2D)         (None, 8, 8, 256)    16640       activation_6[0][0]               \n",
            "__________________________________________________________________________________________________\n",
            "bn2b_branch2c (BatchNormalizati (None, 8, 8, 256)    1024        res2b_branch2c[0][0]             \n",
            "__________________________________________________________________________________________________\n",
            "add_2 (Add)                     (None, 8, 8, 256)    0           bn2b_branch2c[0][0]              \n",
            "                                                                 activation_4[0][0]               \n",
            "__________________________________________________________________________________________________\n",
            "activation_7 (Activation)       (None, 8, 8, 256)    0           add_2[0][0]                      \n",
            "__________________________________________________________________________________________________\n",
            "res2c_branch2a (Conv2D)         (None, 8, 8, 64)     16448       activation_7[0][0]               \n",
            "__________________________________________________________________________________________________\n",
            "bn2c_branch2a (BatchNormalizati (None, 8, 8, 64)     256         res2c_branch2a[0][0]             \n",
            "__________________________________________________________________________________________________\n",
            "activation_8 (Activation)       (None, 8, 8, 64)     0           bn2c_branch2a[0][0]              \n",
            "__________________________________________________________________________________________________\n",
            "res2c_branch2b (Conv2D)         (None, 8, 8, 64)     36928       activation_8[0][0]               \n",
            "__________________________________________________________________________________________________\n",
            "bn2c_branch2b (BatchNormalizati (None, 8, 8, 64)     256         res2c_branch2b[0][0]             \n",
            "__________________________________________________________________________________________________\n",
            "activation_9 (Activation)       (None, 8, 8, 64)     0           bn2c_branch2b[0][0]              \n",
            "__________________________________________________________________________________________________\n",
            "res2c_branch2c (Conv2D)         (None, 8, 8, 256)    16640       activation_9[0][0]               \n",
            "__________________________________________________________________________________________________\n",
            "bn2c_branch2c (BatchNormalizati (None, 8, 8, 256)    1024        res2c_branch2c[0][0]             \n",
            "__________________________________________________________________________________________________\n",
            "add_3 (Add)                     (None, 8, 8, 256)    0           bn2c_branch2c[0][0]              \n",
            "                                                                 activation_7[0][0]               \n",
            "__________________________________________________________________________________________________\n",
            "activation_10 (Activation)      (None, 8, 8, 256)    0           add_3[0][0]                      \n",
            "__________________________________________________________________________________________________\n",
            "res3a_branch2a (Conv2D)         (None, 4, 4, 128)    32896       activation_10[0][0]              \n",
            "__________________________________________________________________________________________________\n",
            "bn3a_branch2a (BatchNormalizati (None, 4, 4, 128)    512         res3a_branch2a[0][0]             \n",
            "__________________________________________________________________________________________________\n",
            "activation_11 (Activation)      (None, 4, 4, 128)    0           bn3a_branch2a[0][0]              \n",
            "__________________________________________________________________________________________________\n",
            "res3a_branch2b (Conv2D)         (None, 4, 4, 128)    147584      activation_11[0][0]              \n",
            "__________________________________________________________________________________________________\n",
            "bn3a_branch2b (BatchNormalizati (None, 4, 4, 128)    512         res3a_branch2b[0][0]             \n",
            "__________________________________________________________________________________________________\n",
            "activation_12 (Activation)      (None, 4, 4, 128)    0           bn3a_branch2b[0][0]              \n",
            "__________________________________________________________________________________________________\n",
            "res3a_branch2c (Conv2D)         (None, 4, 4, 512)    66048       activation_12[0][0]              \n",
            "__________________________________________________________________________________________________\n",
            "res3a_branch1 (Conv2D)          (None, 4, 4, 512)    131584      activation_10[0][0]              \n",
            "__________________________________________________________________________________________________\n",
            "bn3a_branch2c (BatchNormalizati (None, 4, 4, 512)    2048        res3a_branch2c[0][0]             \n",
            "__________________________________________________________________________________________________\n",
            "bn3a_branch1 (BatchNormalizatio (None, 4, 4, 512)    2048        res3a_branch1[0][0]              \n",
            "__________________________________________________________________________________________________\n",
            "add_4 (Add)                     (None, 4, 4, 512)    0           bn3a_branch2c[0][0]              \n",
            "                                                                 bn3a_branch1[0][0]               \n",
            "__________________________________________________________________________________________________\n",
            "activation_13 (Activation)      (None, 4, 4, 512)    0           add_4[0][0]                      \n",
            "__________________________________________________________________________________________________\n",
            "res3b_branch2a (Conv2D)         (None, 4, 4, 128)    65664       activation_13[0][0]              \n",
            "__________________________________________________________________________________________________\n",
            "bn3b_branch2a (BatchNormalizati (None, 4, 4, 128)    512         res3b_branch2a[0][0]             \n",
            "__________________________________________________________________________________________________\n",
            "activation_14 (Activation)      (None, 4, 4, 128)    0           bn3b_branch2a[0][0]              \n",
            "__________________________________________________________________________________________________\n",
            "res3b_branch2b (Conv2D)         (None, 4, 4, 128)    147584      activation_14[0][0]              \n",
            "__________________________________________________________________________________________________\n",
            "bn3b_branch2b (BatchNormalizati (None, 4, 4, 128)    512         res3b_branch2b[0][0]             \n",
            "__________________________________________________________________________________________________\n",
            "activation_15 (Activation)      (None, 4, 4, 128)    0           bn3b_branch2b[0][0]              \n",
            "__________________________________________________________________________________________________\n",
            "res3b_branch2c (Conv2D)         (None, 4, 4, 512)    66048       activation_15[0][0]              \n",
            "__________________________________________________________________________________________________\n",
            "bn3b_branch2c (BatchNormalizati (None, 4, 4, 512)    2048        res3b_branch2c[0][0]             \n",
            "__________________________________________________________________________________________________\n",
            "add_5 (Add)                     (None, 4, 4, 512)    0           bn3b_branch2c[0][0]              \n",
            "                                                                 activation_13[0][0]              \n",
            "__________________________________________________________________________________________________\n",
            "activation_16 (Activation)      (None, 4, 4, 512)    0           add_5[0][0]                      \n",
            "__________________________________________________________________________________________________\n",
            "res3c_branch2a (Conv2D)         (None, 4, 4, 128)    65664       activation_16[0][0]              \n",
            "__________________________________________________________________________________________________\n",
            "bn3c_branch2a (BatchNormalizati (None, 4, 4, 128)    512         res3c_branch2a[0][0]             \n",
            "__________________________________________________________________________________________________\n",
            "activation_17 (Activation)      (None, 4, 4, 128)    0           bn3c_branch2a[0][0]              \n",
            "__________________________________________________________________________________________________\n",
            "res3c_branch2b (Conv2D)         (None, 4, 4, 128)    147584      activation_17[0][0]              \n",
            "__________________________________________________________________________________________________\n",
            "bn3c_branch2b (BatchNormalizati (None, 4, 4, 128)    512         res3c_branch2b[0][0]             \n",
            "__________________________________________________________________________________________________\n",
            "activation_18 (Activation)      (None, 4, 4, 128)    0           bn3c_branch2b[0][0]              \n",
            "__________________________________________________________________________________________________\n",
            "res3c_branch2c (Conv2D)         (None, 4, 4, 512)    66048       activation_18[0][0]              \n",
            "__________________________________________________________________________________________________\n",
            "bn3c_branch2c (BatchNormalizati (None, 4, 4, 512)    2048        res3c_branch2c[0][0]             \n",
            "__________________________________________________________________________________________________\n",
            "add_6 (Add)                     (None, 4, 4, 512)    0           bn3c_branch2c[0][0]              \n",
            "                                                                 activation_16[0][0]              \n",
            "__________________________________________________________________________________________________\n",
            "activation_19 (Activation)      (None, 4, 4, 512)    0           add_6[0][0]                      \n",
            "__________________________________________________________________________________________________\n",
            "res3d_branch2a (Conv2D)         (None, 4, 4, 128)    65664       activation_19[0][0]              \n",
            "__________________________________________________________________________________________________\n",
            "bn3d_branch2a (BatchNormalizati (None, 4, 4, 128)    512         res3d_branch2a[0][0]             \n",
            "__________________________________________________________________________________________________\n",
            "activation_20 (Activation)      (None, 4, 4, 128)    0           bn3d_branch2a[0][0]              \n",
            "__________________________________________________________________________________________________\n",
            "res3d_branch2b (Conv2D)         (None, 4, 4, 128)    147584      activation_20[0][0]              \n",
            "__________________________________________________________________________________________________\n",
            "bn3d_branch2b (BatchNormalizati (None, 4, 4, 128)    512         res3d_branch2b[0][0]             \n",
            "__________________________________________________________________________________________________\n",
            "activation_21 (Activation)      (None, 4, 4, 128)    0           bn3d_branch2b[0][0]              \n",
            "__________________________________________________________________________________________________\n",
            "res3d_branch2c (Conv2D)         (None, 4, 4, 512)    66048       activation_21[0][0]              \n",
            "__________________________________________________________________________________________________\n",
            "bn3d_branch2c (BatchNormalizati (None, 4, 4, 512)    2048        res3d_branch2c[0][0]             \n",
            "__________________________________________________________________________________________________\n",
            "add_7 (Add)                     (None, 4, 4, 512)    0           bn3d_branch2c[0][0]              \n",
            "                                                                 activation_19[0][0]              \n",
            "__________________________________________________________________________________________________\n",
            "activation_22 (Activation)      (None, 4, 4, 512)    0           add_7[0][0]                      \n",
            "__________________________________________________________________________________________________\n",
            "res4a_branch2a (Conv2D)         (None, 2, 2, 256)    131328      activation_22[0][0]              \n",
            "__________________________________________________________________________________________________\n",
            "bn4a_branch2a (BatchNormalizati (None, 2, 2, 256)    1024        res4a_branch2a[0][0]             \n",
            "__________________________________________________________________________________________________\n",
            "activation_23 (Activation)      (None, 2, 2, 256)    0           bn4a_branch2a[0][0]              \n",
            "__________________________________________________________________________________________________\n",
            "res4a_branch2b (Conv2D)         (None, 2, 2, 256)    590080      activation_23[0][0]              \n",
            "__________________________________________________________________________________________________\n",
            "bn4a_branch2b (BatchNormalizati (None, 2, 2, 256)    1024        res4a_branch2b[0][0]             \n",
            "__________________________________________________________________________________________________\n",
            "activation_24 (Activation)      (None, 2, 2, 256)    0           bn4a_branch2b[0][0]              \n",
            "__________________________________________________________________________________________________\n",
            "res4a_branch2c (Conv2D)         (None, 2, 2, 1024)   263168      activation_24[0][0]              \n",
            "__________________________________________________________________________________________________\n",
            "res4a_branch1 (Conv2D)          (None, 2, 2, 1024)   525312      activation_22[0][0]              \n",
            "__________________________________________________________________________________________________\n",
            "bn4a_branch2c (BatchNormalizati (None, 2, 2, 1024)   4096        res4a_branch2c[0][0]             \n",
            "__________________________________________________________________________________________________\n",
            "bn4a_branch1 (BatchNormalizatio (None, 2, 2, 1024)   4096        res4a_branch1[0][0]              \n",
            "__________________________________________________________________________________________________\n",
            "add_8 (Add)                     (None, 2, 2, 1024)   0           bn4a_branch2c[0][0]              \n",
            "                                                                 bn4a_branch1[0][0]               \n",
            "__________________________________________________________________________________________________\n",
            "activation_25 (Activation)      (None, 2, 2, 1024)   0           add_8[0][0]                      \n",
            "__________________________________________________________________________________________________\n",
            "res4b_branch2a (Conv2D)         (None, 2, 2, 256)    262400      activation_25[0][0]              \n",
            "__________________________________________________________________________________________________\n",
            "bn4b_branch2a (BatchNormalizati (None, 2, 2, 256)    1024        res4b_branch2a[0][0]             \n",
            "__________________________________________________________________________________________________\n",
            "activation_26 (Activation)      (None, 2, 2, 256)    0           bn4b_branch2a[0][0]              \n",
            "__________________________________________________________________________________________________\n",
            "res4b_branch2b (Conv2D)         (None, 2, 2, 256)    590080      activation_26[0][0]              \n",
            "__________________________________________________________________________________________________\n",
            "bn4b_branch2b (BatchNormalizati (None, 2, 2, 256)    1024        res4b_branch2b[0][0]             \n",
            "__________________________________________________________________________________________________\n",
            "activation_27 (Activation)      (None, 2, 2, 256)    0           bn4b_branch2b[0][0]              \n",
            "__________________________________________________________________________________________________\n",
            "res4b_branch2c (Conv2D)         (None, 2, 2, 1024)   263168      activation_27[0][0]              \n",
            "__________________________________________________________________________________________________\n",
            "bn4b_branch2c (BatchNormalizati (None, 2, 2, 1024)   4096        res4b_branch2c[0][0]             \n",
            "__________________________________________________________________________________________________\n",
            "add_9 (Add)                     (None, 2, 2, 1024)   0           bn4b_branch2c[0][0]              \n",
            "                                                                 activation_25[0][0]              \n",
            "__________________________________________________________________________________________________\n",
            "activation_28 (Activation)      (None, 2, 2, 1024)   0           add_9[0][0]                      \n",
            "__________________________________________________________________________________________________\n",
            "res4c_branch2a (Conv2D)         (None, 2, 2, 256)    262400      activation_28[0][0]              \n",
            "__________________________________________________________________________________________________\n",
            "bn4c_branch2a (BatchNormalizati (None, 2, 2, 256)    1024        res4c_branch2a[0][0]             \n",
            "__________________________________________________________________________________________________\n",
            "activation_29 (Activation)      (None, 2, 2, 256)    0           bn4c_branch2a[0][0]              \n",
            "__________________________________________________________________________________________________\n",
            "res4c_branch2b (Conv2D)         (None, 2, 2, 256)    590080      activation_29[0][0]              \n",
            "__________________________________________________________________________________________________\n",
            "bn4c_branch2b (BatchNormalizati (None, 2, 2, 256)    1024        res4c_branch2b[0][0]             \n",
            "__________________________________________________________________________________________________\n",
            "activation_30 (Activation)      (None, 2, 2, 256)    0           bn4c_branch2b[0][0]              \n",
            "__________________________________________________________________________________________________\n",
            "res4c_branch2c (Conv2D)         (None, 2, 2, 1024)   263168      activation_30[0][0]              \n",
            "__________________________________________________________________________________________________\n",
            "bn4c_branch2c (BatchNormalizati (None, 2, 2, 1024)   4096        res4c_branch2c[0][0]             \n",
            "__________________________________________________________________________________________________\n",
            "add_10 (Add)                    (None, 2, 2, 1024)   0           bn4c_branch2c[0][0]              \n",
            "                                                                 activation_28[0][0]              \n",
            "__________________________________________________________________________________________________\n",
            "activation_31 (Activation)      (None, 2, 2, 1024)   0           add_10[0][0]                     \n",
            "__________________________________________________________________________________________________\n",
            "res4d_branch2a (Conv2D)         (None, 2, 2, 256)    262400      activation_31[0][0]              \n",
            "__________________________________________________________________________________________________\n",
            "bn4d_branch2a (BatchNormalizati (None, 2, 2, 256)    1024        res4d_branch2a[0][0]             \n",
            "__________________________________________________________________________________________________\n",
            "activation_32 (Activation)      (None, 2, 2, 256)    0           bn4d_branch2a[0][0]              \n",
            "__________________________________________________________________________________________________\n",
            "res4d_branch2b (Conv2D)         (None, 2, 2, 256)    590080      activation_32[0][0]              \n",
            "__________________________________________________________________________________________________\n",
            "bn4d_branch2b (BatchNormalizati (None, 2, 2, 256)    1024        res4d_branch2b[0][0]             \n",
            "__________________________________________________________________________________________________\n",
            "activation_33 (Activation)      (None, 2, 2, 256)    0           bn4d_branch2b[0][0]              \n",
            "__________________________________________________________________________________________________\n",
            "res4d_branch2c (Conv2D)         (None, 2, 2, 1024)   263168      activation_33[0][0]              \n",
            "__________________________________________________________________________________________________\n",
            "bn4d_branch2c (BatchNormalizati (None, 2, 2, 1024)   4096        res4d_branch2c[0][0]             \n",
            "__________________________________________________________________________________________________\n",
            "add_11 (Add)                    (None, 2, 2, 1024)   0           bn4d_branch2c[0][0]              \n",
            "                                                                 activation_31[0][0]              \n",
            "__________________________________________________________________________________________________\n",
            "activation_34 (Activation)      (None, 2, 2, 1024)   0           add_11[0][0]                     \n",
            "__________________________________________________________________________________________________\n",
            "res4e_branch2a (Conv2D)         (None, 2, 2, 256)    262400      activation_34[0][0]              \n",
            "__________________________________________________________________________________________________\n",
            "bn4e_branch2a (BatchNormalizati (None, 2, 2, 256)    1024        res4e_branch2a[0][0]             \n",
            "__________________________________________________________________________________________________\n",
            "activation_35 (Activation)      (None, 2, 2, 256)    0           bn4e_branch2a[0][0]              \n",
            "__________________________________________________________________________________________________\n",
            "res4e_branch2b (Conv2D)         (None, 2, 2, 256)    590080      activation_35[0][0]              \n",
            "__________________________________________________________________________________________________\n",
            "bn4e_branch2b (BatchNormalizati (None, 2, 2, 256)    1024        res4e_branch2b[0][0]             \n",
            "__________________________________________________________________________________________________\n",
            "activation_36 (Activation)      (None, 2, 2, 256)    0           bn4e_branch2b[0][0]              \n",
            "__________________________________________________________________________________________________\n",
            "res4e_branch2c (Conv2D)         (None, 2, 2, 1024)   263168      activation_36[0][0]              \n",
            "__________________________________________________________________________________________________\n",
            "bn4e_branch2c (BatchNormalizati (None, 2, 2, 1024)   4096        res4e_branch2c[0][0]             \n",
            "__________________________________________________________________________________________________\n",
            "add_12 (Add)                    (None, 2, 2, 1024)   0           bn4e_branch2c[0][0]              \n",
            "                                                                 activation_34[0][0]              \n",
            "__________________________________________________________________________________________________\n",
            "activation_37 (Activation)      (None, 2, 2, 1024)   0           add_12[0][0]                     \n",
            "__________________________________________________________________________________________________\n",
            "res4f_branch2a (Conv2D)         (None, 2, 2, 256)    262400      activation_37[0][0]              \n",
            "__________________________________________________________________________________________________\n",
            "bn4f_branch2a (BatchNormalizati (None, 2, 2, 256)    1024        res4f_branch2a[0][0]             \n",
            "__________________________________________________________________________________________________\n",
            "activation_38 (Activation)      (None, 2, 2, 256)    0           bn4f_branch2a[0][0]              \n",
            "__________________________________________________________________________________________________\n",
            "res4f_branch2b (Conv2D)         (None, 2, 2, 256)    590080      activation_38[0][0]              \n",
            "__________________________________________________________________________________________________\n",
            "bn4f_branch2b (BatchNormalizati (None, 2, 2, 256)    1024        res4f_branch2b[0][0]             \n",
            "__________________________________________________________________________________________________\n",
            "activation_39 (Activation)      (None, 2, 2, 256)    0           bn4f_branch2b[0][0]              \n",
            "__________________________________________________________________________________________________\n",
            "res4f_branch2c (Conv2D)         (None, 2, 2, 1024)   263168      activation_39[0][0]              \n",
            "__________________________________________________________________________________________________\n",
            "bn4f_branch2c (BatchNormalizati (None, 2, 2, 1024)   4096        res4f_branch2c[0][0]             \n",
            "__________________________________________________________________________________________________\n",
            "add_13 (Add)                    (None, 2, 2, 1024)   0           bn4f_branch2c[0][0]              \n",
            "                                                                 activation_37[0][0]              \n",
            "__________________________________________________________________________________________________\n",
            "activation_40 (Activation)      (None, 2, 2, 1024)   0           add_13[0][0]                     \n",
            "__________________________________________________________________________________________________\n",
            "res5a_branch2a (Conv2D)         (None, 1, 1, 512)    524800      activation_40[0][0]              \n",
            "__________________________________________________________________________________________________\n",
            "bn5a_branch2a (BatchNormalizati (None, 1, 1, 512)    2048        res5a_branch2a[0][0]             \n",
            "__________________________________________________________________________________________________\n",
            "activation_41 (Activation)      (None, 1, 1, 512)    0           bn5a_branch2a[0][0]              \n",
            "__________________________________________________________________________________________________\n",
            "res5a_branch2b (Conv2D)         (None, 1, 1, 512)    2359808     activation_41[0][0]              \n",
            "__________________________________________________________________________________________________\n",
            "bn5a_branch2b (BatchNormalizati (None, 1, 1, 512)    2048        res5a_branch2b[0][0]             \n",
            "__________________________________________________________________________________________________\n",
            "activation_42 (Activation)      (None, 1, 1, 512)    0           bn5a_branch2b[0][0]              \n",
            "__________________________________________________________________________________________________\n",
            "res5a_branch2c (Conv2D)         (None, 1, 1, 2048)   1050624     activation_42[0][0]              \n",
            "__________________________________________________________________________________________________\n",
            "res5a_branch1 (Conv2D)          (None, 1, 1, 2048)   2099200     activation_40[0][0]              \n",
            "__________________________________________________________________________________________________\n",
            "bn5a_branch2c (BatchNormalizati (None, 1, 1, 2048)   8192        res5a_branch2c[0][0]             \n",
            "__________________________________________________________________________________________________\n",
            "bn5a_branch1 (BatchNormalizatio (None, 1, 1, 2048)   8192        res5a_branch1[0][0]              \n",
            "__________________________________________________________________________________________________\n",
            "add_14 (Add)                    (None, 1, 1, 2048)   0           bn5a_branch2c[0][0]              \n",
            "                                                                 bn5a_branch1[0][0]               \n",
            "__________________________________________________________________________________________________\n",
            "activation_43 (Activation)      (None, 1, 1, 2048)   0           add_14[0][0]                     \n",
            "__________________________________________________________________________________________________\n",
            "res5b_branch2a (Conv2D)         (None, 1, 1, 512)    1049088     activation_43[0][0]              \n",
            "__________________________________________________________________________________________________\n",
            "bn5b_branch2a (BatchNormalizati (None, 1, 1, 512)    2048        res5b_branch2a[0][0]             \n",
            "__________________________________________________________________________________________________\n",
            "activation_44 (Activation)      (None, 1, 1, 512)    0           bn5b_branch2a[0][0]              \n",
            "__________________________________________________________________________________________________\n",
            "res5b_branch2b (Conv2D)         (None, 1, 1, 512)    2359808     activation_44[0][0]              \n",
            "__________________________________________________________________________________________________\n",
            "bn5b_branch2b (BatchNormalizati (None, 1, 1, 512)    2048        res5b_branch2b[0][0]             \n",
            "__________________________________________________________________________________________________\n",
            "activation_45 (Activation)      (None, 1, 1, 512)    0           bn5b_branch2b[0][0]              \n",
            "__________________________________________________________________________________________________\n",
            "res5b_branch2c (Conv2D)         (None, 1, 1, 2048)   1050624     activation_45[0][0]              \n",
            "__________________________________________________________________________________________________\n",
            "bn5b_branch2c (BatchNormalizati (None, 1, 1, 2048)   8192        res5b_branch2c[0][0]             \n",
            "__________________________________________________________________________________________________\n",
            "add_15 (Add)                    (None, 1, 1, 2048)   0           bn5b_branch2c[0][0]              \n",
            "                                                                 activation_43[0][0]              \n",
            "__________________________________________________________________________________________________\n",
            "activation_46 (Activation)      (None, 1, 1, 2048)   0           add_15[0][0]                     \n",
            "__________________________________________________________________________________________________\n",
            "res5c_branch2a (Conv2D)         (None, 1, 1, 512)    1049088     activation_46[0][0]              \n",
            "__________________________________________________________________________________________________\n",
            "bn5c_branch2a (BatchNormalizati (None, 1, 1, 512)    2048        res5c_branch2a[0][0]             \n",
            "__________________________________________________________________________________________________\n",
            "activation_47 (Activation)      (None, 1, 1, 512)    0           bn5c_branch2a[0][0]              \n",
            "__________________________________________________________________________________________________\n",
            "res5c_branch2b (Conv2D)         (None, 1, 1, 512)    2359808     activation_47[0][0]              \n",
            "__________________________________________________________________________________________________\n",
            "bn5c_branch2b (BatchNormalizati (None, 1, 1, 512)    2048        res5c_branch2b[0][0]             \n",
            "__________________________________________________________________________________________________\n",
            "activation_48 (Activation)      (None, 1, 1, 512)    0           bn5c_branch2b[0][0]              \n",
            "__________________________________________________________________________________________________\n",
            "res5c_branch2c (Conv2D)         (None, 1, 1, 2048)   1050624     activation_48[0][0]              \n",
            "__________________________________________________________________________________________________\n",
            "bn5c_branch2c (BatchNormalizati (None, 1, 1, 2048)   8192        res5c_branch2c[0][0]             \n",
            "__________________________________________________________________________________________________\n",
            "add_16 (Add)                    (None, 1, 1, 2048)   0           bn5c_branch2c[0][0]              \n",
            "                                                                 activation_46[0][0]              \n",
            "__________________________________________________________________________________________________\n",
            "activation_49 (Activation)      (None, 1, 1, 2048)   0           add_16[0][0]                     \n",
            "__________________________________________________________________________________________________\n",
            "flatten_2 (Flatten)             (None, 2048)         0           activation_49[0][0]              \n",
            "__________________________________________________________________________________________________\n",
            "dense_2 (Dense)                 (None, 47)           96303       flatten_2[0][0]                  \n",
            "==================================================================================================\n",
            "Total params: 23,684,015\n",
            "Trainable params: 23,630,895\n",
            "Non-trainable params: 53,120\n",
            "__________________________________________________________________________________________________\n"
          ],
          "name": "stdout"
        }
      ]
    },
    {
      "metadata": {
        "id": "ZJQzBvJj4Lek",
        "colab_type": "code",
        "colab": {}
      },
      "cell_type": "code",
      "source": [
        "layer_name = 'flatten_2'\n",
        "intermediate_layer_model_resnet50 = Model(inputs=model_resnet50_emnist.input,\n",
        "                                 outputs=model_resnet50_emnist.get_layer(layer_name).output)"
      ],
      "execution_count": 0,
      "outputs": []
    },
    {
      "metadata": {
        "id": "rSZkO5pd43_9",
        "colab_type": "code",
        "colab": {}
      },
      "cell_type": "code",
      "source": [
        "def get_features_emnist_resnet50(img, model, new_sz):\n",
        "    img = np.stack((img,)*3, axis=-1)\n",
        "    pimage = Image.fromarray(img.astype('uint8'))\n",
        "    pimage = pimage.resize((new_sz,new_sz))\n",
        "    img_data = image.img_to_array(pimage)\n",
        "    img_data = np.expand_dims(img_data, axis=0)\n",
        "    img_data = resnet50.preprocess_input(img_data)\n",
        "    features = model.predict(img_data)\n",
        "    return features\n",
        "  \n",
        "def feature_extraction_emnist_resnet50(X, model):\n",
        "    M = []\n",
        "    for i in tqdm(range(len(X)), desc=\"Extracting image features using Resnet50\"):\n",
        "        features = get_features_emnist_resnet50(X[i].reshape(28,28), model, 32)\n",
        "        feature_np = np.array(features)\n",
        "        M.append(feature_np.flatten())\n",
        "    M = np.asarray(M)\n",
        "    print(M.shape)\n",
        "    return M"
      ],
      "execution_count": 0,
      "outputs": []
    },
    {
      "metadata": {
        "id": "TCQW6rqf5UFG",
        "colab_type": "code",
        "outputId": "6739fa30-7bab-4233-d05d-4bab9e82815b",
        "colab": {
          "base_uri": "https://localhost:8080/",
          "height": 51
        }
      },
      "cell_type": "code",
      "source": [
        "X_train_features_emnist_resnet50 = feature_extraction_emnist_resnet50(X_train[0:NUM_TESTS], intermediate_layer_model_resnet50)"
      ],
      "execution_count": 0,
      "outputs": [
        {
          "output_type": "stream",
          "text": [
            "Extracting image features using Resnet50: 100%|██████████| 2000/2000 [00:52<00:00, 38.45it/s]"
          ],
          "name": "stderr"
        },
        {
          "output_type": "stream",
          "text": [
            "(2000, 2048)\n"
          ],
          "name": "stdout"
        },
        {
          "output_type": "stream",
          "text": [
            "\n"
          ],
          "name": "stderr"
        }
      ]
    },
    {
      "metadata": {
        "id": "_JOztxnT5Z9H",
        "colab_type": "code",
        "outputId": "47356130-828e-45ca-8196-0b898dbfb293",
        "colab": {
          "base_uri": "https://localhost:8080/",
          "height": 701
        }
      },
      "cell_type": "code",
      "source": [
        "testClassifiers(X_train_features_emnist_resnet50[0:NUM_TESTS], y_train[0:NUM_TESTS].ravel(), 128)"
      ],
      "execution_count": 0,
      "outputs": [
        {
          "output_type": "stream",
          "text": [
            "\rEvaluating Linear SVM...:   0%|          | 0/16 [00:00<?, ?it/s]"
          ],
          "name": "stderr"
        },
        {
          "output_type": "stream",
          "text": [
            "\n",
            ">> Classifiers\n",
            "cross validation, kfolds =  4 \n",
            "\n",
            "+ Linear SVM\n"
          ],
          "name": "stdout"
        },
        {
          "output_type": "stream",
          "text": [
            "Evaluating Linear SVM...: 100%|██████████| 16/16 [48:43<00:00, 307.09s/it]\n",
            "Evaluating RBF SVM...:   0%|          | 0/16 [00:00<?, ?it/s]"
          ],
          "name": "stderr"
        },
        {
          "output_type": "stream",
          "text": [
            "+ RBF SVM\n"
          ],
          "name": "stdout"
        },
        {
          "output_type": "stream",
          "text": [
            "Evaluating RBF SVM...: 100%|██████████| 16/16 [06:10<00:00, 38.46s/it]\n",
            "Evaluating RBF SVM Gamma=2...:   0%|          | 0/16 [00:00<?, ?it/s]"
          ],
          "name": "stderr"
        },
        {
          "output_type": "stream",
          "text": [
            "+ RBF SVM Gamma=2\n"
          ],
          "name": "stdout"
        },
        {
          "output_type": "stream",
          "text": [
            "Evaluating RBF SVM Gamma=2...: 100%|██████████| 16/16 [06:09<00:00, 38.30s/it]\n",
            "Evaluating RBF SVM C=005...:   0%|          | 0/16 [00:00<?, ?it/s]"
          ],
          "name": "stderr"
        },
        {
          "output_type": "stream",
          "text": [
            "+ RBF SVM C=005\n"
          ],
          "name": "stdout"
        },
        {
          "output_type": "stream",
          "text": [
            "Evaluating RBF SVM C=005...: 100%|██████████| 16/16 [06:04<00:00, 37.65s/it]\n"
          ],
          "name": "stderr"
        },
        {
          "output_type": "display_data",
          "data": {
            "image/png": "[encoded data removed]",
            "text/plain": [
              "<matplotlib.figure.Figure at 0x7fa357175908>"
            ]
          },
          "metadata": {
            "tags": []
          }
        }
      ]
    },
    {
      "metadata": {
        "id": "qOsKRxku_LRn",
        "colab_type": "code",
        "outputId": "37c8ad0e-2ee0-4838-cb75-57e69375333a",
        "colab": {
          "base_uri": "https://localhost:8080/",
          "height": 755
        }
      },
      "cell_type": "code",
      "source": [
        "shape = X_train_features_emnist_resnet50.shape\n",
        "\n",
        "PCA_X_train = X_train_features_emnist_resnet50.reshape(shape[0],np.prod(shape[1:]))\n",
        "pca = RandomizedPCA(n_components=n_components).fit(PCA_X_train)\n",
        "pca_train = pca.transform(PCA_X_train)\n",
        "\n",
        "testClassifiers(pca_train[0:NUM_TESTS], y_train[0:NUM_TESTS].ravel(), 10)"
      ],
      "execution_count": 0,
      "outputs": [
        {
          "output_type": "stream",
          "text": [
            "/usr/local/lib/python3.6/dist-packages/sklearn/utils/deprecation.py:58: DeprecationWarning: Class RandomizedPCA is deprecated; RandomizedPCA was deprecated in 0.18 and will be removed in 0.20. Use PCA(svd_solver='randomized') instead. The new implementation DOES NOT store whiten ``components_``. Apply transform to get them.\n",
            "  warnings.warn(msg, category=DeprecationWarning)\n",
            "Evaluating Linear SVM...:   0%|          | 0/10 [00:00<?, ?it/s]"
          ],
          "name": "stderr"
        },
        {
          "output_type": "stream",
          "text": [
            "\n",
            ">> Classifiers\n",
            "cross validation, kfolds =  4 \n",
            "\n",
            "+ Linear SVM\n"
          ],
          "name": "stdout"
        },
        {
          "output_type": "stream",
          "text": [
            "Evaluating Linear SVM...: 100%|██████████| 10/10 [12:59<00:00, 109.70s/it]\n",
            "Evaluating RBF SVM...:   0%|          | 0/10 [00:00<?, ?it/s]"
          ],
          "name": "stderr"
        },
        {
          "output_type": "stream",
          "text": [
            "+ RBF SVM\n"
          ],
          "name": "stdout"
        },
        {
          "output_type": "stream",
          "text": [
            "Evaluating RBF SVM...: 100%|██████████| 10/10 [00:19<00:00,  2.46s/it]\n",
            "Evaluating RBF SVM Gamma=2...:   0%|          | 0/10 [00:00<?, ?it/s]"
          ],
          "name": "stderr"
        },
        {
          "output_type": "stream",
          "text": [
            "+ RBF SVM Gamma=2\n"
          ],
          "name": "stdout"
        },
        {
          "output_type": "stream",
          "text": [
            "Evaluating RBF SVM Gamma=2...: 100%|██████████| 10/10 [00:19<00:00,  2.46s/it]\n",
            "Evaluating RBF SVM C=005...:   0%|          | 0/10 [00:00<?, ?it/s]"
          ],
          "name": "stderr"
        },
        {
          "output_type": "stream",
          "text": [
            "+ RBF SVM C=005\n"
          ],
          "name": "stdout"
        },
        {
          "output_type": "stream",
          "text": [
            "Evaluating RBF SVM C=005...: 100%|██████████| 10/10 [00:17<00:00,  2.31s/it]\n"
          ],
          "name": "stderr"
        },
        {
          "output_type": "display_data",
          "data": {
            "image/png": "[encoded data removed]",
            "text/plain": [
              "<matplotlib.figure.Figure at 0x7fa34d005470>"
            ]
          },
          "metadata": {
            "tags": []
          }
        }
      ]
    },
    {
      "metadata": {
        "id": "LNS7nBBu1Uz5",
        "colab_type": "text"
      },
      "cell_type": "markdown",
      "source": [
        "# Extração de features com Mobilenet (EMNIST)\n",
        "\n",
        "Treinamento de diversos modelos de SVMs sobrea s features extraídas pela rede Mobilenet, pré-trein'ada para classificação no próprio EMINST, variando a quantidade de features utilizadas."
      ]
    },
    {
      "metadata": {
        "id": "3htRK6W71lnh",
        "colab_type": "code",
        "colab": {}
      },
      "cell_type": "code",
      "source": [
        "mobileNet_model_file_id = '1Lr0HdMEKxZ4t5XkPuIP6TRs24caWAwpt'\n",
        "mobilenet_model_file = drive.CreateFile({'id': mobileNet_model_file_id})\n",
        "mobilenet_model_file.GetContentFile('emnist_adam_mobilenet.h5')"
      ],
      "execution_count": 0,
      "outputs": []
    },
    {
      "metadata": {
        "id": "OthpICVz4Cl_",
        "colab_type": "code",
        "outputId": "1b5c81aa-0896-4355-fa7b-ac8885d51e3d",
        "colab": {
          "base_uri": "https://localhost:8080/",
          "height": 3162
        }
      },
      "cell_type": "code",
      "source": [
        "mobilenet_emnist_model = keras.models.load_model('emnist_adam_mobilenet.h5')\n",
        "mobilenet_emnist_model.summary()\n",
        "\n"
      ],
      "execution_count": 0,
      "outputs": [
        {
          "output_type": "stream",
          "text": [
            "_________________________________________________________________\n",
            "Layer (type)                 Output Shape              Param #   \n",
            "=================================================================\n",
            "input_3 (InputLayer)         (None, 32, 32, 3)         0         \n",
            "_________________________________________________________________\n",
            "conv1_pad (ZeroPadding2D)    (None, 33, 33, 3)         0         \n",
            "_________________________________________________________________\n",
            "conv1 (Conv2D)               (None, 16, 16, 32)        864       \n",
            "_________________________________________________________________\n",
            "conv1_bn (BatchNormalization (None, 16, 16, 32)        128       \n",
            "_________________________________________________________________\n",
            "conv1_relu (ReLU)            (None, 16, 16, 32)        0         \n",
            "_________________________________________________________________\n",
            "conv_dw_1 (DepthwiseConv2D)  (None, 16, 16, 32)        288       \n",
            "_________________________________________________________________\n",
            "conv_dw_1_bn (BatchNormaliza (None, 16, 16, 32)        128       \n",
            "_________________________________________________________________\n",
            "conv_dw_1_relu (ReLU)        (None, 16, 16, 32)        0         \n",
            "_________________________________________________________________\n",
            "conv_pw_1 (Conv2D)           (None, 16, 16, 64)        2048      \n",
            "_________________________________________________________________\n",
            "conv_pw_1_bn (BatchNormaliza (None, 16, 16, 64)        256       \n",
            "_________________________________________________________________\n",
            "conv_pw_1_relu (ReLU)        (None, 16, 16, 64)        0         \n",
            "_________________________________________________________________\n",
            "conv_pad_2 (ZeroPadding2D)   (None, 17, 17, 64)        0         \n",
            "_________________________________________________________________\n",
            "conv_dw_2 (DepthwiseConv2D)  (None, 8, 8, 64)          576       \n",
            "_________________________________________________________________\n",
            "conv_dw_2_bn (BatchNormaliza (None, 8, 8, 64)          256       \n",
            "_________________________________________________________________\n",
            "conv_dw_2_relu (ReLU)        (None, 8, 8, 64)          0         \n",
            "_________________________________________________________________\n",
            "conv_pw_2 (Conv2D)           (None, 8, 8, 128)         8192      \n",
            "_________________________________________________________________\n",
            "conv_pw_2_bn (BatchNormaliza (None, 8, 8, 128)         512       \n",
            "_________________________________________________________________\n",
            "conv_pw_2_relu (ReLU)        (None, 8, 8, 128)         0         \n",
            "_________________________________________________________________\n",
            "conv_dw_3 (DepthwiseConv2D)  (None, 8, 8, 128)         1152      \n",
            "_________________________________________________________________\n",
            "conv_dw_3_bn (BatchNormaliza (None, 8, 8, 128)         512       \n",
            "_________________________________________________________________\n",
            "conv_dw_3_relu (ReLU)        (None, 8, 8, 128)         0         \n",
            "_________________________________________________________________\n",
            "conv_pw_3 (Conv2D)           (None, 8, 8, 128)         16384     \n",
            "_________________________________________________________________\n",
            "conv_pw_3_bn (BatchNormaliza (None, 8, 8, 128)         512       \n",
            "_________________________________________________________________\n",
            "conv_pw_3_relu (ReLU)        (None, 8, 8, 128)         0         \n",
            "_________________________________________________________________\n",
            "conv_pad_4 (ZeroPadding2D)   (None, 9, 9, 128)         0         \n",
            "_________________________________________________________________\n",
            "conv_dw_4 (DepthwiseConv2D)  (None, 4, 4, 128)         1152      \n",
            "_________________________________________________________________\n",
            "conv_dw_4_bn (BatchNormaliza (None, 4, 4, 128)         512       \n",
            "_________________________________________________________________\n",
            "conv_dw_4_relu (ReLU)        (None, 4, 4, 128)         0         \n",
            "_________________________________________________________________\n",
            "conv_pw_4 (Conv2D)           (None, 4, 4, 256)         32768     \n",
            "_________________________________________________________________\n",
            "conv_pw_4_bn (BatchNormaliza (None, 4, 4, 256)         1024      \n",
            "_________________________________________________________________\n",
            "conv_pw_4_relu (ReLU)        (None, 4, 4, 256)         0         \n",
            "_________________________________________________________________\n",
            "conv_dw_5 (DepthwiseConv2D)  (None, 4, 4, 256)         2304      \n",
            "_________________________________________________________________\n",
            "conv_dw_5_bn (BatchNormaliza (None, 4, 4, 256)         1024      \n",
            "_________________________________________________________________\n",
            "conv_dw_5_relu (ReLU)        (None, 4, 4, 256)         0         \n",
            "_________________________________________________________________\n",
            "conv_pw_5 (Conv2D)           (None, 4, 4, 256)         65536     \n",
            "_________________________________________________________________\n",
            "conv_pw_5_bn (BatchNormaliza (None, 4, 4, 256)         1024      \n",
            "_________________________________________________________________\n",
            "conv_pw_5_relu (ReLU)        (None, 4, 4, 256)         0         \n",
            "_________________________________________________________________\n",
            "conv_pad_6 (ZeroPadding2D)   (None, 5, 5, 256)         0         \n",
            "_________________________________________________________________\n",
            "conv_dw_6 (DepthwiseConv2D)  (None, 2, 2, 256)         2304      \n",
            "_________________________________________________________________\n",
            "conv_dw_6_bn (BatchNormaliza (None, 2, 2, 256)         1024      \n",
            "_________________________________________________________________\n",
            "conv_dw_6_relu (ReLU)        (None, 2, 2, 256)         0         \n",
            "_________________________________________________________________\n",
            "conv_pw_6 (Conv2D)           (None, 2, 2, 512)         131072    \n",
            "_________________________________________________________________\n",
            "conv_pw_6_bn (BatchNormaliza (None, 2, 2, 512)         2048      \n",
            "_________________________________________________________________\n",
            "conv_pw_6_relu (ReLU)        (None, 2, 2, 512)         0         \n",
            "_________________________________________________________________\n",
            "conv_dw_7 (DepthwiseConv2D)  (None, 2, 2, 512)         4608      \n",
            "_________________________________________________________________\n",
            "conv_dw_7_bn (BatchNormaliza (None, 2, 2, 512)         2048      \n",
            "_________________________________________________________________\n",
            "conv_dw_7_relu (ReLU)        (None, 2, 2, 512)         0         \n",
            "_________________________________________________________________\n",
            "conv_pw_7 (Conv2D)           (None, 2, 2, 512)         262144    \n",
            "_________________________________________________________________\n",
            "conv_pw_7_bn (BatchNormaliza (None, 2, 2, 512)         2048      \n",
            "_________________________________________________________________\n",
            "conv_pw_7_relu (ReLU)        (None, 2, 2, 512)         0         \n",
            "_________________________________________________________________\n",
            "conv_dw_8 (DepthwiseConv2D)  (None, 2, 2, 512)         4608      \n",
            "_________________________________________________________________\n",
            "conv_dw_8_bn (BatchNormaliza (None, 2, 2, 512)         2048      \n",
            "_________________________________________________________________\n",
            "conv_dw_8_relu (ReLU)        (None, 2, 2, 512)         0         \n",
            "_________________________________________________________________\n",
            "conv_pw_8 (Conv2D)           (None, 2, 2, 512)         262144    \n",
            "_________________________________________________________________\n",
            "conv_pw_8_bn (BatchNormaliza (None, 2, 2, 512)         2048      \n",
            "_________________________________________________________________\n",
            "conv_pw_8_relu (ReLU)        (None, 2, 2, 512)         0         \n",
            "_________________________________________________________________\n",
            "conv_dw_9 (DepthwiseConv2D)  (None, 2, 2, 512)         4608      \n",
            "_________________________________________________________________\n",
            "conv_dw_9_bn (BatchNormaliza (None, 2, 2, 512)         2048      \n",
            "_________________________________________________________________\n",
            "conv_dw_9_relu (ReLU)        (None, 2, 2, 512)         0         \n",
            "_________________________________________________________________\n",
            "conv_pw_9 (Conv2D)           (None, 2, 2, 512)         262144    \n",
            "_________________________________________________________________\n",
            "conv_pw_9_bn (BatchNormaliza (None, 2, 2, 512)         2048      \n",
            "_________________________________________________________________\n",
            "conv_pw_9_relu (ReLU)        (None, 2, 2, 512)         0         \n",
            "_________________________________________________________________\n",
            "conv_dw_10 (DepthwiseConv2D) (None, 2, 2, 512)         4608      \n",
            "_________________________________________________________________\n",
            "conv_dw_10_bn (BatchNormaliz (None, 2, 2, 512)         2048      \n",
            "_________________________________________________________________\n",
            "conv_dw_10_relu (ReLU)       (None, 2, 2, 512)         0         \n",
            "_________________________________________________________________\n",
            "conv_pw_10 (Conv2D)          (None, 2, 2, 512)         262144    \n",
            "_________________________________________________________________\n",
            "conv_pw_10_bn (BatchNormaliz (None, 2, 2, 512)         2048      \n",
            "_________________________________________________________________\n",
            "conv_pw_10_relu (ReLU)       (None, 2, 2, 512)         0         \n",
            "_________________________________________________________________\n",
            "conv_dw_11 (DepthwiseConv2D) (None, 2, 2, 512)         4608      \n",
            "_________________________________________________________________\n",
            "conv_dw_11_bn (BatchNormaliz (None, 2, 2, 512)         2048      \n",
            "_________________________________________________________________\n",
            "conv_dw_11_relu (ReLU)       (None, 2, 2, 512)         0         \n",
            "_________________________________________________________________\n",
            "conv_pw_11 (Conv2D)          (None, 2, 2, 512)         262144    \n",
            "_________________________________________________________________\n",
            "conv_pw_11_bn (BatchNormaliz (None, 2, 2, 512)         2048      \n",
            "_________________________________________________________________\n",
            "conv_pw_11_relu (ReLU)       (None, 2, 2, 512)         0         \n",
            "_________________________________________________________________\n",
            "conv_pad_12 (ZeroPadding2D)  (None, 3, 3, 512)         0         \n",
            "_________________________________________________________________\n",
            "conv_dw_12 (DepthwiseConv2D) (None, 1, 1, 512)         4608      \n",
            "_________________________________________________________________\n",
            "conv_dw_12_bn (BatchNormaliz (None, 1, 1, 512)         2048      \n",
            "_________________________________________________________________\n",
            "conv_dw_12_relu (ReLU)       (None, 1, 1, 512)         0         \n",
            "_________________________________________________________________\n",
            "conv_pw_12 (Conv2D)          (None, 1, 1, 1024)        524288    \n",
            "_________________________________________________________________\n",
            "conv_pw_12_bn (BatchNormaliz (None, 1, 1, 1024)        4096      \n",
            "_________________________________________________________________\n",
            "conv_pw_12_relu (ReLU)       (None, 1, 1, 1024)        0         \n",
            "_________________________________________________________________\n",
            "conv_dw_13 (DepthwiseConv2D) (None, 1, 1, 1024)        9216      \n",
            "_________________________________________________________________\n",
            "conv_dw_13_bn (BatchNormaliz (None, 1, 1, 1024)        4096      \n",
            "_________________________________________________________________\n",
            "conv_dw_13_relu (ReLU)       (None, 1, 1, 1024)        0         \n",
            "_________________________________________________________________\n",
            "conv_pw_13 (Conv2D)          (None, 1, 1, 1024)        1048576   \n",
            "_________________________________________________________________\n",
            "conv_pw_13_bn (BatchNormaliz (None, 1, 1, 1024)        4096      \n",
            "_________________________________________________________________\n",
            "conv_pw_13_relu (ReLU)       (None, 1, 1, 1024)        0         \n",
            "_________________________________________________________________\n",
            "flatten_3 (Flatten)          (None, 1024)              0         \n",
            "_________________________________________________________________\n",
            "dense_3 (Dense)              (None, 47)                48175     \n",
            "=================================================================\n",
            "Total params: 3,277,039\n",
            "Trainable params: 3,255,151\n",
            "Non-trainable params: 21,888\n",
            "_________________________________________________________________\n"
          ],
          "name": "stdout"
        }
      ]
    },
    {
      "metadata": {
        "id": "WoM2x0jm6WjJ",
        "colab_type": "code",
        "colab": {}
      },
      "cell_type": "code",
      "source": [
        "layer_name = 'flatten_3'\n",
        "intermediate_layer_model_mobilenet = Model(inputs=mobilenet_emnist_model.input,\n",
        "                                 outputs=mobilenet_emnist_model.get_layer(layer_name).output)"
      ],
      "execution_count": 0,
      "outputs": []
    },
    {
      "metadata": {
        "id": "3-3Z20HX5py4",
        "colab_type": "code",
        "outputId": "ea10a760-1ab5-46c5-f1f8-ff600b75267a",
        "colab": {
          "base_uri": "https://localhost:8080/",
          "height": 51
        }
      },
      "cell_type": "code",
      "source": [
        "from keras.applications import mobilenet\n",
        "\n",
        "def get_features_emnist_mobilenet(img, model, new_sz):\n",
        "    img = np.stack((img,)*3, axis=-1)\n",
        "    pimage = Image.fromarray(img.astype('uint8'))\n",
        "    pimage = pimage.resize((new_sz,new_sz))\n",
        "    img_data = image.img_to_array(pimage)\n",
        "    img_data = np.expand_dims(img_data, axis=0)\n",
        "    img_data = mobilenet.preprocess_input(img_data)\n",
        "    features = model.predict(img_data)\n",
        "    return features\n",
        "  \n",
        "def feature_extraction_emnist_mobilenet(X, model):\n",
        "    M = []\n",
        "    for i in tqdm(range(len(X)), desc=\"Extracting image features using Mobilenet\"):\n",
        "        features = get_features_emnist_mobilenet(X[i].reshape(28,28), model, 32)\n",
        "        feature_np = np.array(features)\n",
        "        M.append(feature_np.flatten())\n",
        "    M = np.asarray(M)\n",
        "    print(M.shape)\n",
        "    return M\n",
        "\n",
        "X_train_features_emnist_mobilenet = feature_extraction_emnist_mobilenet(X_train[0:NUM_TESTS], intermediate_layer_model_resnet50)\n"
      ],
      "execution_count": 0,
      "outputs": [
        {
          "output_type": "stream",
          "text": [
            "Extracting image features using Mobilenet: 100%|██████████| 2000/2000 [00:47<00:00, 41.82it/s]"
          ],
          "name": "stderr"
        },
        {
          "output_type": "stream",
          "text": [
            "(2000, 2048)\n"
          ],
          "name": "stdout"
        },
        {
          "output_type": "stream",
          "text": [
            "\n"
          ],
          "name": "stderr"
        }
      ]
    },
    {
      "metadata": {
        "id": "TVOjkfbV619m",
        "colab_type": "code",
        "outputId": "3bfe9828-898d-4243-f784-fde7ce651f35",
        "colab": {
          "base_uri": "https://localhost:8080/",
          "height": 701
        }
      },
      "cell_type": "code",
      "source": [
        "testClassifiers(X_train_features_emnist_mobilenet[0:NUM_TESTS], y_train[0:NUM_TESTS].ravel(), 128)"
      ],
      "execution_count": 0,
      "outputs": [
        {
          "output_type": "stream",
          "text": [
            "\rEvaluating Linear SVM...:   0%|          | 0/16 [00:00<?, ?it/s]"
          ],
          "name": "stderr"
        },
        {
          "output_type": "stream",
          "text": [
            "\n",
            ">> Classifiers\n",
            "cross validation, kfolds =  4 \n",
            "\n",
            "+ Linear SVM\n"
          ],
          "name": "stdout"
        },
        {
          "output_type": "stream",
          "text": [
            "Evaluating Linear SVM...: 100%|██████████| 16/16 [00:38<00:00,  3.92s/it]\n",
            "Evaluating RBF SVM...:   0%|          | 0/16 [00:00<?, ?it/s]"
          ],
          "name": "stderr"
        },
        {
          "output_type": "stream",
          "text": [
            "+ RBF SVM\n"
          ],
          "name": "stdout"
        },
        {
          "output_type": "stream",
          "text": [
            "Evaluating RBF SVM...: 100%|██████████| 16/16 [03:22<00:00, 20.72s/it]\n",
            "Evaluating RBF SVM Gamma=2...:   0%|          | 0/16 [00:00<?, ?it/s]"
          ],
          "name": "stderr"
        },
        {
          "output_type": "stream",
          "text": [
            "+ RBF SVM Gamma=2\n"
          ],
          "name": "stdout"
        },
        {
          "output_type": "stream",
          "text": [
            "Evaluating RBF SVM Gamma=2...: 100%|██████████| 16/16 [06:28<00:00, 39.81s/it]\n",
            "Evaluating RBF SVM C=005...:   0%|          | 0/16 [00:00<?, ?it/s]"
          ],
          "name": "stderr"
        },
        {
          "output_type": "stream",
          "text": [
            "+ RBF SVM C=005\n"
          ],
          "name": "stdout"
        },
        {
          "output_type": "stream",
          "text": [
            "Evaluating RBF SVM C=005...: 100%|██████████| 16/16 [06:01<00:00, 37.45s/it]\n"
          ],
          "name": "stderr"
        },
        {
          "output_type": "display_data",
          "data": {
            "image/png": "[encoded data removed]",
            "text/plain": [
              "<matplotlib.figure.Figure at 0x7fa34ceac2e8>"
            ]
          },
          "metadata": {
            "tags": []
          }
        }
      ]
    },
    {
      "metadata": {
        "id": "9aFjTdDZ_RRt",
        "colab_type": "code",
        "outputId": "05be8238-0d98-466c-ca22-00a071ab2a28",
        "colab": {
          "base_uri": "https://localhost:8080/",
          "height": 755
        }
      },
      "cell_type": "code",
      "source": [
        "shape = X_train_features_emnist_mobilenet.shape\n",
        "\n",
        "PCA_X_train = X_train_features_emnist_mobilenet.reshape(shape[0],np.prod(shape[1:]))\n",
        "pca = RandomizedPCA(n_components=n_components).fit(PCA_X_train)\n",
        "pca_train = pca.transform(PCA_X_train)\n",
        "\n",
        "testClassifiers(pca_train[0:NUM_TESTS], y_train[0:NUM_TESTS].ravel(), 10)"
      ],
      "execution_count": 0,
      "outputs": [
        {
          "output_type": "stream",
          "text": [
            "/usr/local/lib/python3.6/dist-packages/sklearn/utils/deprecation.py:58: DeprecationWarning: Class RandomizedPCA is deprecated; RandomizedPCA was deprecated in 0.18 and will be removed in 0.20. Use PCA(svd_solver='randomized') instead. The new implementation DOES NOT store whiten ``components_``. Apply transform to get them.\n",
            "  warnings.warn(msg, category=DeprecationWarning)\n",
            "Evaluating Linear SVM...:   0%|          | 0/10 [00:00<?, ?it/s]"
          ],
          "name": "stderr"
        },
        {
          "output_type": "stream",
          "text": [
            "\n",
            ">> Classifiers\n",
            "cross validation, kfolds =  4 \n",
            "\n",
            "+ Linear SVM\n"
          ],
          "name": "stdout"
        },
        {
          "output_type": "stream",
          "text": [
            "Evaluating Linear SVM...: 100%|██████████| 10/10 [04:20<00:00, 36.06s/it]\n",
            "Evaluating RBF SVM...:   0%|          | 0/10 [00:00<?, ?it/s]"
          ],
          "name": "stderr"
        },
        {
          "output_type": "stream",
          "text": [
            "+ RBF SVM\n"
          ],
          "name": "stdout"
        },
        {
          "output_type": "stream",
          "text": [
            "Evaluating RBF SVM...: 100%|██████████| 10/10 [00:22<00:00,  2.77s/it]\n",
            "Evaluating RBF SVM Gamma=2...:   0%|          | 0/10 [00:00<?, ?it/s]"
          ],
          "name": "stderr"
        },
        {
          "output_type": "stream",
          "text": [
            "+ RBF SVM Gamma=2\n"
          ],
          "name": "stdout"
        },
        {
          "output_type": "stream",
          "text": [
            "Evaluating RBF SVM Gamma=2...: 100%|██████████| 10/10 [00:23<00:00,  2.81s/it]\n",
            "Evaluating RBF SVM C=005...:   0%|          | 0/10 [00:00<?, ?it/s]"
          ],
          "name": "stderr"
        },
        {
          "output_type": "stream",
          "text": [
            "+ RBF SVM C=005\n"
          ],
          "name": "stdout"
        },
        {
          "output_type": "stream",
          "text": [
            "Evaluating RBF SVM C=005...: 100%|██████████| 10/10 [00:19<00:00,  2.49s/it]\n"
          ],
          "name": "stderr"
        },
        {
          "output_type": "display_data",
          "data": {
            "image/png": "[encoded data removed]",
            "text/plain": [
              "<matplotlib.figure.Figure at 0x7fa34cedb2b0>"
            ]
          },
          "metadata": {
            "tags": []
          }
        }
      ]
    },
    {
      "metadata": {
        "id": "uDnetEzD_f1K",
        "colab_type": "text"
      },
      "cell_type": "markdown",
      "source": [
        "# **Extração de features com Inception V3 (EMNIST)**"
      ]
    },
    {
      "metadata": {
        "id": "-Srg3G7J_isr",
        "colab_type": "text"
      },
      "cell_type": "markdown",
      "source": [
        "Treinamento de diversos modelos de SVMs sobrea s features extraídas pela rede Inception V3, pré-trein'ada para classificação no próprio EMINST, variando a quantidade de features utilizadas."
      ]
    },
    {
      "metadata": {
        "id": "yg2qfH1b_tWj",
        "colab_type": "code",
        "colab": {}
      },
      "cell_type": "code",
      "source": [
        "inception_model_file_id = '1TNx9a9UxBSlsq8Zwf7a0PEreeMp6N3By'\n",
        "inception_model_file = drive.CreateFile({'id': inception_model_file_id})\n",
        "inception_model_file.GetContentFile('emnist_adam_inception.h5')"
      ],
      "execution_count": 0,
      "outputs": []
    },
    {
      "metadata": {
        "id": "J7hJSc7l_6xp",
        "colab_type": "code",
        "outputId": "4ab9fde3-291d-4d8f-f146-dd5b5e71f399",
        "colab": {
          "base_uri": "https://localhost:8080/",
          "height": 11373
        }
      },
      "cell_type": "code",
      "source": [
        "import keras\n",
        "\n",
        "inception_emnist_model = keras.models.load_model('emnist_adam_inception.h5')\n",
        "inception_emnist_model.summary()"
      ],
      "execution_count": 0,
      "outputs": [
        {
          "output_type": "stream",
          "text": [
            "__________________________________________________________________________________________________\n",
            "Layer (type)                    Output Shape         Param #     Connected to                     \n",
            "==================================================================================================\n",
            "input_24 (InputLayer)           (None, 128, 128, 3)  0                                            \n",
            "__________________________________________________________________________________________________\n",
            "conv2d_472 (Conv2D)             (None, 63, 63, 32)   864         input_24[0][0]                   \n",
            "__________________________________________________________________________________________________\n",
            "batch_normalization_460 (BatchN (None, 63, 63, 32)   96          conv2d_472[0][0]                 \n",
            "__________________________________________________________________________________________________\n",
            "activation_460 (Activation)     (None, 63, 63, 32)   0           batch_normalization_460[0][0]    \n",
            "__________________________________________________________________________________________________\n",
            "conv2d_473 (Conv2D)             (None, 61, 61, 32)   9216        activation_460[0][0]             \n",
            "__________________________________________________________________________________________________\n",
            "batch_normalization_461 (BatchN (None, 61, 61, 32)   96          conv2d_473[0][0]                 \n",
            "__________________________________________________________________________________________________\n",
            "activation_461 (Activation)     (None, 61, 61, 32)   0           batch_normalization_461[0][0]    \n",
            "__________________________________________________________________________________________________\n",
            "conv2d_474 (Conv2D)             (None, 61, 61, 64)   18432       activation_461[0][0]             \n",
            "__________________________________________________________________________________________________\n",
            "batch_normalization_462 (BatchN (None, 61, 61, 64)   192         conv2d_474[0][0]                 \n",
            "__________________________________________________________________________________________________\n",
            "activation_462 (Activation)     (None, 61, 61, 64)   0           batch_normalization_462[0][0]    \n",
            "__________________________________________________________________________________________________\n",
            "max_pooling2d_23 (MaxPooling2D) (None, 30, 30, 64)   0           activation_462[0][0]             \n",
            "__________________________________________________________________________________________________\n",
            "conv2d_475 (Conv2D)             (None, 30, 30, 80)   5120        max_pooling2d_23[0][0]           \n",
            "__________________________________________________________________________________________________\n",
            "batch_normalization_463 (BatchN (None, 30, 30, 80)   240         conv2d_475[0][0]                 \n",
            "__________________________________________________________________________________________________\n",
            "activation_463 (Activation)     (None, 30, 30, 80)   0           batch_normalization_463[0][0]    \n",
            "__________________________________________________________________________________________________\n",
            "conv2d_476 (Conv2D)             (None, 28, 28, 192)  138240      activation_463[0][0]             \n",
            "__________________________________________________________________________________________________\n",
            "batch_normalization_464 (BatchN (None, 28, 28, 192)  576         conv2d_476[0][0]                 \n",
            "__________________________________________________________________________________________________\n",
            "activation_464 (Activation)     (None, 28, 28, 192)  0           batch_normalization_464[0][0]    \n",
            "__________________________________________________________________________________________________\n",
            "max_pooling2d_24 (MaxPooling2D) (None, 13, 13, 192)  0           activation_464[0][0]             \n",
            "__________________________________________________________________________________________________\n",
            "conv2d_480 (Conv2D)             (None, 13, 13, 64)   12288       max_pooling2d_24[0][0]           \n",
            "__________________________________________________________________________________________________\n",
            "batch_normalization_468 (BatchN (None, 13, 13, 64)   192         conv2d_480[0][0]                 \n",
            "__________________________________________________________________________________________________\n",
            "activation_468 (Activation)     (None, 13, 13, 64)   0           batch_normalization_468[0][0]    \n",
            "__________________________________________________________________________________________________\n",
            "conv2d_478 (Conv2D)             (None, 13, 13, 48)   9216        max_pooling2d_24[0][0]           \n",
            "__________________________________________________________________________________________________\n",
            "conv2d_481 (Conv2D)             (None, 13, 13, 96)   55296       activation_468[0][0]             \n",
            "__________________________________________________________________________________________________\n",
            "batch_normalization_466 (BatchN (None, 13, 13, 48)   144         conv2d_478[0][0]                 \n",
            "__________________________________________________________________________________________________\n",
            "batch_normalization_469 (BatchN (None, 13, 13, 96)   288         conv2d_481[0][0]                 \n",
            "__________________________________________________________________________________________________\n",
            "activation_466 (Activation)     (None, 13, 13, 48)   0           batch_normalization_466[0][0]    \n",
            "__________________________________________________________________________________________________\n",
            "activation_469 (Activation)     (None, 13, 13, 96)   0           batch_normalization_469[0][0]    \n",
            "__________________________________________________________________________________________________\n",
            "average_pooling2d_46 (AveragePo (None, 13, 13, 192)  0           max_pooling2d_24[0][0]           \n",
            "__________________________________________________________________________________________________\n",
            "conv2d_477 (Conv2D)             (None, 13, 13, 64)   12288       max_pooling2d_24[0][0]           \n",
            "__________________________________________________________________________________________________\n",
            "conv2d_479 (Conv2D)             (None, 13, 13, 64)   76800       activation_466[0][0]             \n",
            "__________________________________________________________________________________________________\n",
            "conv2d_482 (Conv2D)             (None, 13, 13, 96)   82944       activation_469[0][0]             \n",
            "__________________________________________________________________________________________________\n",
            "conv2d_483 (Conv2D)             (None, 13, 13, 32)   6144        average_pooling2d_46[0][0]       \n",
            "__________________________________________________________________________________________________\n",
            "batch_normalization_465 (BatchN (None, 13, 13, 64)   192         conv2d_477[0][0]                 \n",
            "__________________________________________________________________________________________________\n",
            "batch_normalization_467 (BatchN (None, 13, 13, 64)   192         conv2d_479[0][0]                 \n",
            "__________________________________________________________________________________________________\n",
            "batch_normalization_470 (BatchN (None, 13, 13, 96)   288         conv2d_482[0][0]                 \n",
            "__________________________________________________________________________________________________\n",
            "batch_normalization_471 (BatchN (None, 13, 13, 32)   96          conv2d_483[0][0]                 \n",
            "__________________________________________________________________________________________________\n",
            "activation_465 (Activation)     (None, 13, 13, 64)   0           batch_normalization_465[0][0]    \n",
            "__________________________________________________________________________________________________\n",
            "activation_467 (Activation)     (None, 13, 13, 64)   0           batch_normalization_467[0][0]    \n",
            "__________________________________________________________________________________________________\n",
            "activation_470 (Activation)     (None, 13, 13, 96)   0           batch_normalization_470[0][0]    \n",
            "__________________________________________________________________________________________________\n",
            "activation_471 (Activation)     (None, 13, 13, 32)   0           batch_normalization_471[0][0]    \n",
            "__________________________________________________________________________________________________\n",
            "mixed0 (Concatenate)            (None, 13, 13, 256)  0           activation_465[0][0]             \n",
            "                                                                 activation_467[0][0]             \n",
            "                                                                 activation_470[0][0]             \n",
            "                                                                 activation_471[0][0]             \n",
            "__________________________________________________________________________________________________\n",
            "conv2d_487 (Conv2D)             (None, 13, 13, 64)   16384       mixed0[0][0]                     \n",
            "__________________________________________________________________________________________________\n",
            "batch_normalization_475 (BatchN (None, 13, 13, 64)   192         conv2d_487[0][0]                 \n",
            "__________________________________________________________________________________________________\n",
            "activation_475 (Activation)     (None, 13, 13, 64)   0           batch_normalization_475[0][0]    \n",
            "__________________________________________________________________________________________________\n",
            "conv2d_485 (Conv2D)             (None, 13, 13, 48)   12288       mixed0[0][0]                     \n",
            "__________________________________________________________________________________________________\n",
            "conv2d_488 (Conv2D)             (None, 13, 13, 96)   55296       activation_475[0][0]             \n",
            "__________________________________________________________________________________________________\n",
            "batch_normalization_473 (BatchN (None, 13, 13, 48)   144         conv2d_485[0][0]                 \n",
            "__________________________________________________________________________________________________\n",
            "batch_normalization_476 (BatchN (None, 13, 13, 96)   288         conv2d_488[0][0]                 \n",
            "__________________________________________________________________________________________________\n",
            "activation_473 (Activation)     (None, 13, 13, 48)   0           batch_normalization_473[0][0]    \n",
            "__________________________________________________________________________________________________\n",
            "activation_476 (Activation)     (None, 13, 13, 96)   0           batch_normalization_476[0][0]    \n",
            "__________________________________________________________________________________________________\n",
            "average_pooling2d_47 (AveragePo (None, 13, 13, 256)  0           mixed0[0][0]                     \n",
            "__________________________________________________________________________________________________\n",
            "conv2d_484 (Conv2D)             (None, 13, 13, 64)   16384       mixed0[0][0]                     \n",
            "__________________________________________________________________________________________________\n",
            "conv2d_486 (Conv2D)             (None, 13, 13, 64)   76800       activation_473[0][0]             \n",
            "__________________________________________________________________________________________________\n",
            "conv2d_489 (Conv2D)             (None, 13, 13, 96)   82944       activation_476[0][0]             \n",
            "__________________________________________________________________________________________________\n",
            "conv2d_490 (Conv2D)             (None, 13, 13, 64)   16384       average_pooling2d_47[0][0]       \n",
            "__________________________________________________________________________________________________\n",
            "batch_normalization_472 (BatchN (None, 13, 13, 64)   192         conv2d_484[0][0]                 \n",
            "__________________________________________________________________________________________________\n",
            "batch_normalization_474 (BatchN (None, 13, 13, 64)   192         conv2d_486[0][0]                 \n",
            "__________________________________________________________________________________________________\n",
            "batch_normalization_477 (BatchN (None, 13, 13, 96)   288         conv2d_489[0][0]                 \n",
            "__________________________________________________________________________________________________\n",
            "batch_normalization_478 (BatchN (None, 13, 13, 64)   192         conv2d_490[0][0]                 \n",
            "__________________________________________________________________________________________________\n",
            "activation_472 (Activation)     (None, 13, 13, 64)   0           batch_normalization_472[0][0]    \n",
            "__________________________________________________________________________________________________\n",
            "activation_474 (Activation)     (None, 13, 13, 64)   0           batch_normalization_474[0][0]    \n",
            "__________________________________________________________________________________________________\n",
            "activation_477 (Activation)     (None, 13, 13, 96)   0           batch_normalization_477[0][0]    \n",
            "__________________________________________________________________________________________________\n",
            "activation_478 (Activation)     (None, 13, 13, 64)   0           batch_normalization_478[0][0]    \n",
            "__________________________________________________________________________________________________\n",
            "mixed1 (Concatenate)            (None, 13, 13, 288)  0           activation_472[0][0]             \n",
            "                                                                 activation_474[0][0]             \n",
            "                                                                 activation_477[0][0]             \n",
            "                                                                 activation_478[0][0]             \n",
            "__________________________________________________________________________________________________\n",
            "conv2d_494 (Conv2D)             (None, 13, 13, 64)   18432       mixed1[0][0]                     \n",
            "__________________________________________________________________________________________________\n",
            "batch_normalization_482 (BatchN (None, 13, 13, 64)   192         conv2d_494[0][0]                 \n",
            "__________________________________________________________________________________________________\n",
            "activation_482 (Activation)     (None, 13, 13, 64)   0           batch_normalization_482[0][0]    \n",
            "__________________________________________________________________________________________________\n",
            "conv2d_492 (Conv2D)             (None, 13, 13, 48)   13824       mixed1[0][0]                     \n",
            "__________________________________________________________________________________________________\n",
            "conv2d_495 (Conv2D)             (None, 13, 13, 96)   55296       activation_482[0][0]             \n",
            "__________________________________________________________________________________________________\n",
            "batch_normalization_480 (BatchN (None, 13, 13, 48)   144         conv2d_492[0][0]                 \n",
            "__________________________________________________________________________________________________\n",
            "batch_normalization_483 (BatchN (None, 13, 13, 96)   288         conv2d_495[0][0]                 \n",
            "__________________________________________________________________________________________________\n",
            "activation_480 (Activation)     (None, 13, 13, 48)   0           batch_normalization_480[0][0]    \n",
            "__________________________________________________________________________________________________\n",
            "activation_483 (Activation)     (None, 13, 13, 96)   0           batch_normalization_483[0][0]    \n",
            "__________________________________________________________________________________________________\n",
            "average_pooling2d_48 (AveragePo (None, 13, 13, 288)  0           mixed1[0][0]                     \n",
            "__________________________________________________________________________________________________\n",
            "conv2d_491 (Conv2D)             (None, 13, 13, 64)   18432       mixed1[0][0]                     \n",
            "__________________________________________________________________________________________________\n",
            "conv2d_493 (Conv2D)             (None, 13, 13, 64)   76800       activation_480[0][0]             \n",
            "__________________________________________________________________________________________________\n",
            "conv2d_496 (Conv2D)             (None, 13, 13, 96)   82944       activation_483[0][0]             \n",
            "__________________________________________________________________________________________________\n",
            "conv2d_497 (Conv2D)             (None, 13, 13, 64)   18432       average_pooling2d_48[0][0]       \n",
            "__________________________________________________________________________________________________\n",
            "batch_normalization_479 (BatchN (None, 13, 13, 64)   192         conv2d_491[0][0]                 \n",
            "__________________________________________________________________________________________________\n",
            "batch_normalization_481 (BatchN (None, 13, 13, 64)   192         conv2d_493[0][0]                 \n",
            "__________________________________________________________________________________________________\n",
            "batch_normalization_484 (BatchN (None, 13, 13, 96)   288         conv2d_496[0][0]                 \n",
            "__________________________________________________________________________________________________\n",
            "batch_normalization_485 (BatchN (None, 13, 13, 64)   192         conv2d_497[0][0]                 \n",
            "__________________________________________________________________________________________________\n",
            "activation_479 (Activation)     (None, 13, 13, 64)   0           batch_normalization_479[0][0]    \n",
            "__________________________________________________________________________________________________\n",
            "activation_481 (Activation)     (None, 13, 13, 64)   0           batch_normalization_481[0][0]    \n",
            "__________________________________________________________________________________________________\n",
            "activation_484 (Activation)     (None, 13, 13, 96)   0           batch_normalization_484[0][0]    \n",
            "__________________________________________________________________________________________________\n",
            "activation_485 (Activation)     (None, 13, 13, 64)   0           batch_normalization_485[0][0]    \n",
            "__________________________________________________________________________________________________\n",
            "mixed2 (Concatenate)            (None, 13, 13, 288)  0           activation_479[0][0]             \n",
            "                                                                 activation_481[0][0]             \n",
            "                                                                 activation_484[0][0]             \n",
            "                                                                 activation_485[0][0]             \n",
            "__________________________________________________________________________________________________\n",
            "conv2d_499 (Conv2D)             (None, 13, 13, 64)   18432       mixed2[0][0]                     \n",
            "__________________________________________________________________________________________________\n",
            "batch_normalization_487 (BatchN (None, 13, 13, 64)   192         conv2d_499[0][0]                 \n",
            "__________________________________________________________________________________________________\n",
            "activation_487 (Activation)     (None, 13, 13, 64)   0           batch_normalization_487[0][0]    \n",
            "__________________________________________________________________________________________________\n",
            "conv2d_500 (Conv2D)             (None, 13, 13, 96)   55296       activation_487[0][0]             \n",
            "__________________________________________________________________________________________________\n",
            "batch_normalization_488 (BatchN (None, 13, 13, 96)   288         conv2d_500[0][0]                 \n",
            "__________________________________________________________________________________________________\n",
            "activation_488 (Activation)     (None, 13, 13, 96)   0           batch_normalization_488[0][0]    \n",
            "__________________________________________________________________________________________________\n",
            "conv2d_498 (Conv2D)             (None, 6, 6, 384)    995328      mixed2[0][0]                     \n",
            "__________________________________________________________________________________________________\n",
            "conv2d_501 (Conv2D)             (None, 6, 6, 96)     82944       activation_488[0][0]             \n",
            "__________________________________________________________________________________________________\n",
            "batch_normalization_486 (BatchN (None, 6, 6, 384)    1152        conv2d_498[0][0]                 \n",
            "__________________________________________________________________________________________________\n",
            "batch_normalization_489 (BatchN (None, 6, 6, 96)     288         conv2d_501[0][0]                 \n",
            "__________________________________________________________________________________________________\n",
            "activation_486 (Activation)     (None, 6, 6, 384)    0           batch_normalization_486[0][0]    \n",
            "__________________________________________________________________________________________________\n",
            "activation_489 (Activation)     (None, 6, 6, 96)     0           batch_normalization_489[0][0]    \n",
            "__________________________________________________________________________________________________\n",
            "max_pooling2d_25 (MaxPooling2D) (None, 6, 6, 288)    0           mixed2[0][0]                     \n",
            "__________________________________________________________________________________________________\n",
            "mixed3 (Concatenate)            (None, 6, 6, 768)    0           activation_486[0][0]             \n",
            "                                                                 activation_489[0][0]             \n",
            "                                                                 max_pooling2d_25[0][0]           \n",
            "__________________________________________________________________________________________________\n",
            "conv2d_506 (Conv2D)             (None, 6, 6, 128)    98304       mixed3[0][0]                     \n",
            "__________________________________________________________________________________________________\n",
            "batch_normalization_494 (BatchN (None, 6, 6, 128)    384         conv2d_506[0][0]                 \n",
            "__________________________________________________________________________________________________\n",
            "activation_494 (Activation)     (None, 6, 6, 128)    0           batch_normalization_494[0][0]    \n",
            "__________________________________________________________________________________________________\n",
            "conv2d_507 (Conv2D)             (None, 6, 6, 128)    114688      activation_494[0][0]             \n",
            "__________________________________________________________________________________________________\n",
            "batch_normalization_495 (BatchN (None, 6, 6, 128)    384         conv2d_507[0][0]                 \n",
            "__________________________________________________________________________________________________\n",
            "activation_495 (Activation)     (None, 6, 6, 128)    0           batch_normalization_495[0][0]    \n",
            "__________________________________________________________________________________________________\n",
            "conv2d_503 (Conv2D)             (None, 6, 6, 128)    98304       mixed3[0][0]                     \n",
            "__________________________________________________________________________________________________\n",
            "conv2d_508 (Conv2D)             (None, 6, 6, 128)    114688      activation_495[0][0]             \n",
            "__________________________________________________________________________________________________\n",
            "batch_normalization_491 (BatchN (None, 6, 6, 128)    384         conv2d_503[0][0]                 \n",
            "__________________________________________________________________________________________________\n",
            "batch_normalization_496 (BatchN (None, 6, 6, 128)    384         conv2d_508[0][0]                 \n",
            "__________________________________________________________________________________________________\n",
            "activation_491 (Activation)     (None, 6, 6, 128)    0           batch_normalization_491[0][0]    \n",
            "__________________________________________________________________________________________________\n",
            "activation_496 (Activation)     (None, 6, 6, 128)    0           batch_normalization_496[0][0]    \n",
            "__________________________________________________________________________________________________\n",
            "conv2d_504 (Conv2D)             (None, 6, 6, 128)    114688      activation_491[0][0]             \n",
            "__________________________________________________________________________________________________\n",
            "conv2d_509 (Conv2D)             (None, 6, 6, 128)    114688      activation_496[0][0]             \n",
            "__________________________________________________________________________________________________\n",
            "batch_normalization_492 (BatchN (None, 6, 6, 128)    384         conv2d_504[0][0]                 \n",
            "__________________________________________________________________________________________________\n",
            "batch_normalization_497 (BatchN (None, 6, 6, 128)    384         conv2d_509[0][0]                 \n",
            "__________________________________________________________________________________________________\n",
            "activation_492 (Activation)     (None, 6, 6, 128)    0           batch_normalization_492[0][0]    \n",
            "__________________________________________________________________________________________________\n",
            "activation_497 (Activation)     (None, 6, 6, 128)    0           batch_normalization_497[0][0]    \n",
            "__________________________________________________________________________________________________\n",
            "average_pooling2d_49 (AveragePo (None, 6, 6, 768)    0           mixed3[0][0]                     \n",
            "__________________________________________________________________________________________________\n",
            "conv2d_502 (Conv2D)             (None, 6, 6, 192)    147456      mixed3[0][0]                     \n",
            "__________________________________________________________________________________________________\n",
            "conv2d_505 (Conv2D)             (None, 6, 6, 192)    172032      activation_492[0][0]             \n",
            "__________________________________________________________________________________________________\n",
            "conv2d_510 (Conv2D)             (None, 6, 6, 192)    172032      activation_497[0][0]             \n",
            "__________________________________________________________________________________________________\n",
            "conv2d_511 (Conv2D)             (None, 6, 6, 192)    147456      average_pooling2d_49[0][0]       \n",
            "__________________________________________________________________________________________________\n",
            "batch_normalization_490 (BatchN (None, 6, 6, 192)    576         conv2d_502[0][0]                 \n",
            "__________________________________________________________________________________________________\n",
            "batch_normalization_493 (BatchN (None, 6, 6, 192)    576         conv2d_505[0][0]                 \n",
            "__________________________________________________________________________________________________\n",
            "batch_normalization_498 (BatchN (None, 6, 6, 192)    576         conv2d_510[0][0]                 \n",
            "__________________________________________________________________________________________________\n",
            "batch_normalization_499 (BatchN (None, 6, 6, 192)    576         conv2d_511[0][0]                 \n",
            "__________________________________________________________________________________________________\n",
            "activation_490 (Activation)     (None, 6, 6, 192)    0           batch_normalization_490[0][0]    \n",
            "__________________________________________________________________________________________________\n",
            "activation_493 (Activation)     (None, 6, 6, 192)    0           batch_normalization_493[0][0]    \n",
            "__________________________________________________________________________________________________\n",
            "activation_498 (Activation)     (None, 6, 6, 192)    0           batch_normalization_498[0][0]    \n",
            "__________________________________________________________________________________________________\n",
            "activation_499 (Activation)     (None, 6, 6, 192)    0           batch_normalization_499[0][0]    \n",
            "__________________________________________________________________________________________________\n",
            "mixed4 (Concatenate)            (None, 6, 6, 768)    0           activation_490[0][0]             \n",
            "                                                                 activation_493[0][0]             \n",
            "                                                                 activation_498[0][0]             \n",
            "                                                                 activation_499[0][0]             \n",
            "__________________________________________________________________________________________________\n",
            "conv2d_516 (Conv2D)             (None, 6, 6, 160)    122880      mixed4[0][0]                     \n",
            "__________________________________________________________________________________________________\n",
            "batch_normalization_504 (BatchN (None, 6, 6, 160)    480         conv2d_516[0][0]                 \n",
            "__________________________________________________________________________________________________\n",
            "activation_504 (Activation)     (None, 6, 6, 160)    0           batch_normalization_504[0][0]    \n",
            "__________________________________________________________________________________________________\n",
            "conv2d_517 (Conv2D)             (None, 6, 6, 160)    179200      activation_504[0][0]             \n",
            "__________________________________________________________________________________________________\n",
            "batch_normalization_505 (BatchN (None, 6, 6, 160)    480         conv2d_517[0][0]                 \n",
            "__________________________________________________________________________________________________\n",
            "activation_505 (Activation)     (None, 6, 6, 160)    0           batch_normalization_505[0][0]    \n",
            "__________________________________________________________________________________________________\n",
            "conv2d_513 (Conv2D)             (None, 6, 6, 160)    122880      mixed4[0][0]                     \n",
            "__________________________________________________________________________________________________\n",
            "conv2d_518 (Conv2D)             (None, 6, 6, 160)    179200      activation_505[0][0]             \n",
            "__________________________________________________________________________________________________\n",
            "batch_normalization_501 (BatchN (None, 6, 6, 160)    480         conv2d_513[0][0]                 \n",
            "__________________________________________________________________________________________________\n",
            "batch_normalization_506 (BatchN (None, 6, 6, 160)    480         conv2d_518[0][0]                 \n",
            "__________________________________________________________________________________________________\n",
            "activation_501 (Activation)     (None, 6, 6, 160)    0           batch_normalization_501[0][0]    \n",
            "__________________________________________________________________________________________________\n",
            "activation_506 (Activation)     (None, 6, 6, 160)    0           batch_normalization_506[0][0]    \n",
            "__________________________________________________________________________________________________\n",
            "conv2d_514 (Conv2D)             (None, 6, 6, 160)    179200      activation_501[0][0]             \n",
            "__________________________________________________________________________________________________\n",
            "conv2d_519 (Conv2D)             (None, 6, 6, 160)    179200      activation_506[0][0]             \n",
            "__________________________________________________________________________________________________\n",
            "batch_normalization_502 (BatchN (None, 6, 6, 160)    480         conv2d_514[0][0]                 \n",
            "__________________________________________________________________________________________________\n",
            "batch_normalization_507 (BatchN (None, 6, 6, 160)    480         conv2d_519[0][0]                 \n",
            "__________________________________________________________________________________________________\n",
            "activation_502 (Activation)     (None, 6, 6, 160)    0           batch_normalization_502[0][0]    \n",
            "__________________________________________________________________________________________________\n",
            "activation_507 (Activation)     (None, 6, 6, 160)    0           batch_normalization_507[0][0]    \n",
            "__________________________________________________________________________________________________\n",
            "average_pooling2d_50 (AveragePo (None, 6, 6, 768)    0           mixed4[0][0]                     \n",
            "__________________________________________________________________________________________________\n",
            "conv2d_512 (Conv2D)             (None, 6, 6, 192)    147456      mixed4[0][0]                     \n",
            "__________________________________________________________________________________________________\n",
            "conv2d_515 (Conv2D)             (None, 6, 6, 192)    215040      activation_502[0][0]             \n",
            "__________________________________________________________________________________________________\n",
            "conv2d_520 (Conv2D)             (None, 6, 6, 192)    215040      activation_507[0][0]             \n",
            "__________________________________________________________________________________________________\n",
            "conv2d_521 (Conv2D)             (None, 6, 6, 192)    147456      average_pooling2d_50[0][0]       \n",
            "__________________________________________________________________________________________________\n",
            "batch_normalization_500 (BatchN (None, 6, 6, 192)    576         conv2d_512[0][0]                 \n",
            "__________________________________________________________________________________________________\n",
            "batch_normalization_503 (BatchN (None, 6, 6, 192)    576         conv2d_515[0][0]                 \n",
            "__________________________________________________________________________________________________\n",
            "batch_normalization_508 (BatchN (None, 6, 6, 192)    576         conv2d_520[0][0]                 \n",
            "__________________________________________________________________________________________________\n",
            "batch_normalization_509 (BatchN (None, 6, 6, 192)    576         conv2d_521[0][0]                 \n",
            "__________________________________________________________________________________________________\n",
            "activation_500 (Activation)     (None, 6, 6, 192)    0           batch_normalization_500[0][0]    \n",
            "__________________________________________________________________________________________________\n",
            "activation_503 (Activation)     (None, 6, 6, 192)    0           batch_normalization_503[0][0]    \n",
            "__________________________________________________________________________________________________\n",
            "activation_508 (Activation)     (None, 6, 6, 192)    0           batch_normalization_508[0][0]    \n",
            "__________________________________________________________________________________________________\n",
            "activation_509 (Activation)     (None, 6, 6, 192)    0           batch_normalization_509[0][0]    \n",
            "__________________________________________________________________________________________________\n",
            "mixed5 (Concatenate)            (None, 6, 6, 768)    0           activation_500[0][0]             \n",
            "                                                                 activation_503[0][0]             \n",
            "                                                                 activation_508[0][0]             \n",
            "                                                                 activation_509[0][0]             \n",
            "__________________________________________________________________________________________________\n",
            "conv2d_526 (Conv2D)             (None, 6, 6, 160)    122880      mixed5[0][0]                     \n",
            "__________________________________________________________________________________________________\n",
            "batch_normalization_514 (BatchN (None, 6, 6, 160)    480         conv2d_526[0][0]                 \n",
            "__________________________________________________________________________________________________\n",
            "activation_514 (Activation)     (None, 6, 6, 160)    0           batch_normalization_514[0][0]    \n",
            "__________________________________________________________________________________________________\n",
            "conv2d_527 (Conv2D)             (None, 6, 6, 160)    179200      activation_514[0][0]             \n",
            "__________________________________________________________________________________________________\n",
            "batch_normalization_515 (BatchN (None, 6, 6, 160)    480         conv2d_527[0][0]                 \n",
            "__________________________________________________________________________________________________\n",
            "activation_515 (Activation)     (None, 6, 6, 160)    0           batch_normalization_515[0][0]    \n",
            "__________________________________________________________________________________________________\n",
            "conv2d_523 (Conv2D)             (None, 6, 6, 160)    122880      mixed5[0][0]                     \n",
            "__________________________________________________________________________________________________\n",
            "conv2d_528 (Conv2D)             (None, 6, 6, 160)    179200      activation_515[0][0]             \n",
            "__________________________________________________________________________________________________\n",
            "batch_normalization_511 (BatchN (None, 6, 6, 160)    480         conv2d_523[0][0]                 \n",
            "__________________________________________________________________________________________________\n",
            "batch_normalization_516 (BatchN (None, 6, 6, 160)    480         conv2d_528[0][0]                 \n",
            "__________________________________________________________________________________________________\n",
            "activation_511 (Activation)     (None, 6, 6, 160)    0           batch_normalization_511[0][0]    \n",
            "__________________________________________________________________________________________________\n",
            "activation_516 (Activation)     (None, 6, 6, 160)    0           batch_normalization_516[0][0]    \n",
            "__________________________________________________________________________________________________\n",
            "conv2d_524 (Conv2D)             (None, 6, 6, 160)    179200      activation_511[0][0]             \n",
            "__________________________________________________________________________________________________\n",
            "conv2d_529 (Conv2D)             (None, 6, 6, 160)    179200      activation_516[0][0]             \n",
            "__________________________________________________________________________________________________\n",
            "batch_normalization_512 (BatchN (None, 6, 6, 160)    480         conv2d_524[0][0]                 \n",
            "__________________________________________________________________________________________________\n",
            "batch_normalization_517 (BatchN (None, 6, 6, 160)    480         conv2d_529[0][0]                 \n",
            "__________________________________________________________________________________________________\n",
            "activation_512 (Activation)     (None, 6, 6, 160)    0           batch_normalization_512[0][0]    \n",
            "__________________________________________________________________________________________________\n",
            "activation_517 (Activation)     (None, 6, 6, 160)    0           batch_normalization_517[0][0]    \n",
            "__________________________________________________________________________________________________\n",
            "average_pooling2d_51 (AveragePo (None, 6, 6, 768)    0           mixed5[0][0]                     \n",
            "__________________________________________________________________________________________________\n",
            "conv2d_522 (Conv2D)             (None, 6, 6, 192)    147456      mixed5[0][0]                     \n",
            "__________________________________________________________________________________________________\n",
            "conv2d_525 (Conv2D)             (None, 6, 6, 192)    215040      activation_512[0][0]             \n",
            "__________________________________________________________________________________________________\n",
            "conv2d_530 (Conv2D)             (None, 6, 6, 192)    215040      activation_517[0][0]             \n",
            "__________________________________________________________________________________________________\n",
            "conv2d_531 (Conv2D)             (None, 6, 6, 192)    147456      average_pooling2d_51[0][0]       \n",
            "__________________________________________________________________________________________________\n",
            "batch_normalization_510 (BatchN (None, 6, 6, 192)    576         conv2d_522[0][0]                 \n",
            "__________________________________________________________________________________________________\n",
            "batch_normalization_513 (BatchN (None, 6, 6, 192)    576         conv2d_525[0][0]                 \n",
            "__________________________________________________________________________________________________\n",
            "batch_normalization_518 (BatchN (None, 6, 6, 192)    576         conv2d_530[0][0]                 \n",
            "__________________________________________________________________________________________________\n",
            "batch_normalization_519 (BatchN (None, 6, 6, 192)    576         conv2d_531[0][0]                 \n",
            "__________________________________________________________________________________________________\n",
            "activation_510 (Activation)     (None, 6, 6, 192)    0           batch_normalization_510[0][0]    \n",
            "__________________________________________________________________________________________________\n",
            "activation_513 (Activation)     (None, 6, 6, 192)    0           batch_normalization_513[0][0]    \n",
            "__________________________________________________________________________________________________\n",
            "activation_518 (Activation)     (None, 6, 6, 192)    0           batch_normalization_518[0][0]    \n",
            "__________________________________________________________________________________________________\n",
            "activation_519 (Activation)     (None, 6, 6, 192)    0           batch_normalization_519[0][0]    \n",
            "__________________________________________________________________________________________________\n",
            "mixed6 (Concatenate)            (None, 6, 6, 768)    0           activation_510[0][0]             \n",
            "                                                                 activation_513[0][0]             \n",
            "                                                                 activation_518[0][0]             \n",
            "                                                                 activation_519[0][0]             \n",
            "__________________________________________________________________________________________________\n",
            "conv2d_536 (Conv2D)             (None, 6, 6, 192)    147456      mixed6[0][0]                     \n",
            "__________________________________________________________________________________________________\n",
            "batch_normalization_524 (BatchN (None, 6, 6, 192)    576         conv2d_536[0][0]                 \n",
            "__________________________________________________________________________________________________\n",
            "activation_524 (Activation)     (None, 6, 6, 192)    0           batch_normalization_524[0][0]    \n",
            "__________________________________________________________________________________________________\n",
            "conv2d_537 (Conv2D)             (None, 6, 6, 192)    258048      activation_524[0][0]             \n",
            "__________________________________________________________________________________________________\n",
            "batch_normalization_525 (BatchN (None, 6, 6, 192)    576         conv2d_537[0][0]                 \n",
            "__________________________________________________________________________________________________\n",
            "activation_525 (Activation)     (None, 6, 6, 192)    0           batch_normalization_525[0][0]    \n",
            "__________________________________________________________________________________________________\n",
            "conv2d_533 (Conv2D)             (None, 6, 6, 192)    147456      mixed6[0][0]                     \n",
            "__________________________________________________________________________________________________\n",
            "conv2d_538 (Conv2D)             (None, 6, 6, 192)    258048      activation_525[0][0]             \n",
            "__________________________________________________________________________________________________\n",
            "batch_normalization_521 (BatchN (None, 6, 6, 192)    576         conv2d_533[0][0]                 \n",
            "__________________________________________________________________________________________________\n",
            "batch_normalization_526 (BatchN (None, 6, 6, 192)    576         conv2d_538[0][0]                 \n",
            "__________________________________________________________________________________________________\n",
            "activation_521 (Activation)     (None, 6, 6, 192)    0           batch_normalization_521[0][0]    \n",
            "__________________________________________________________________________________________________\n",
            "activation_526 (Activation)     (None, 6, 6, 192)    0           batch_normalization_526[0][0]    \n",
            "__________________________________________________________________________________________________\n",
            "conv2d_534 (Conv2D)             (None, 6, 6, 192)    258048      activation_521[0][0]             \n",
            "__________________________________________________________________________________________________\n",
            "conv2d_539 (Conv2D)             (None, 6, 6, 192)    258048      activation_526[0][0]             \n",
            "__________________________________________________________________________________________________\n",
            "batch_normalization_522 (BatchN (None, 6, 6, 192)    576         conv2d_534[0][0]                 \n",
            "__________________________________________________________________________________________________\n",
            "batch_normalization_527 (BatchN (None, 6, 6, 192)    576         conv2d_539[0][0]                 \n",
            "__________________________________________________________________________________________________\n",
            "activation_522 (Activation)     (None, 6, 6, 192)    0           batch_normalization_522[0][0]    \n",
            "__________________________________________________________________________________________________\n",
            "activation_527 (Activation)     (None, 6, 6, 192)    0           batch_normalization_527[0][0]    \n",
            "__________________________________________________________________________________________________\n",
            "average_pooling2d_52 (AveragePo (None, 6, 6, 768)    0           mixed6[0][0]                     \n",
            "__________________________________________________________________________________________________\n",
            "conv2d_532 (Conv2D)             (None, 6, 6, 192)    147456      mixed6[0][0]                     \n",
            "__________________________________________________________________________________________________\n",
            "conv2d_535 (Conv2D)             (None, 6, 6, 192)    258048      activation_522[0][0]             \n",
            "__________________________________________________________________________________________________\n",
            "conv2d_540 (Conv2D)             (None, 6, 6, 192)    258048      activation_527[0][0]             \n",
            "__________________________________________________________________________________________________\n",
            "conv2d_541 (Conv2D)             (None, 6, 6, 192)    147456      average_pooling2d_52[0][0]       \n",
            "__________________________________________________________________________________________________\n",
            "batch_normalization_520 (BatchN (None, 6, 6, 192)    576         conv2d_532[0][0]                 \n",
            "__________________________________________________________________________________________________\n",
            "batch_normalization_523 (BatchN (None, 6, 6, 192)    576         conv2d_535[0][0]                 \n",
            "__________________________________________________________________________________________________\n",
            "batch_normalization_528 (BatchN (None, 6, 6, 192)    576         conv2d_540[0][0]                 \n",
            "__________________________________________________________________________________________________\n",
            "batch_normalization_529 (BatchN (None, 6, 6, 192)    576         conv2d_541[0][0]                 \n",
            "__________________________________________________________________________________________________\n",
            "activation_520 (Activation)     (None, 6, 6, 192)    0           batch_normalization_520[0][0]    \n",
            "__________________________________________________________________________________________________\n",
            "activation_523 (Activation)     (None, 6, 6, 192)    0           batch_normalization_523[0][0]    \n",
            "__________________________________________________________________________________________________\n",
            "activation_528 (Activation)     (None, 6, 6, 192)    0           batch_normalization_528[0][0]    \n",
            "__________________________________________________________________________________________________\n",
            "activation_529 (Activation)     (None, 6, 6, 192)    0           batch_normalization_529[0][0]    \n",
            "__________________________________________________________________________________________________\n",
            "mixed7 (Concatenate)            (None, 6, 6, 768)    0           activation_520[0][0]             \n",
            "                                                                 activation_523[0][0]             \n",
            "                                                                 activation_528[0][0]             \n",
            "                                                                 activation_529[0][0]             \n",
            "__________________________________________________________________________________________________\n",
            "conv2d_544 (Conv2D)             (None, 6, 6, 192)    147456      mixed7[0][0]                     \n",
            "__________________________________________________________________________________________________\n",
            "batch_normalization_532 (BatchN (None, 6, 6, 192)    576         conv2d_544[0][0]                 \n",
            "__________________________________________________________________________________________________\n",
            "activation_532 (Activation)     (None, 6, 6, 192)    0           batch_normalization_532[0][0]    \n",
            "__________________________________________________________________________________________________\n",
            "conv2d_545 (Conv2D)             (None, 6, 6, 192)    258048      activation_532[0][0]             \n",
            "__________________________________________________________________________________________________\n",
            "batch_normalization_533 (BatchN (None, 6, 6, 192)    576         conv2d_545[0][0]                 \n",
            "__________________________________________________________________________________________________\n",
            "activation_533 (Activation)     (None, 6, 6, 192)    0           batch_normalization_533[0][0]    \n",
            "__________________________________________________________________________________________________\n",
            "conv2d_542 (Conv2D)             (None, 6, 6, 192)    147456      mixed7[0][0]                     \n",
            "__________________________________________________________________________________________________\n",
            "conv2d_546 (Conv2D)             (None, 6, 6, 192)    258048      activation_533[0][0]             \n",
            "__________________________________________________________________________________________________\n",
            "batch_normalization_530 (BatchN (None, 6, 6, 192)    576         conv2d_542[0][0]                 \n",
            "__________________________________________________________________________________________________\n",
            "batch_normalization_534 (BatchN (None, 6, 6, 192)    576         conv2d_546[0][0]                 \n",
            "__________________________________________________________________________________________________\n",
            "activation_530 (Activation)     (None, 6, 6, 192)    0           batch_normalization_530[0][0]    \n",
            "__________________________________________________________________________________________________\n",
            "activation_534 (Activation)     (None, 6, 6, 192)    0           batch_normalization_534[0][0]    \n",
            "__________________________________________________________________________________________________\n",
            "conv2d_543 (Conv2D)             (None, 2, 2, 320)    552960      activation_530[0][0]             \n",
            "__________________________________________________________________________________________________\n",
            "conv2d_547 (Conv2D)             (None, 2, 2, 192)    331776      activation_534[0][0]             \n",
            "__________________________________________________________________________________________________\n",
            "batch_normalization_531 (BatchN (None, 2, 2, 320)    960         conv2d_543[0][0]                 \n",
            "__________________________________________________________________________________________________\n",
            "batch_normalization_535 (BatchN (None, 2, 2, 192)    576         conv2d_547[0][0]                 \n",
            "__________________________________________________________________________________________________\n",
            "activation_531 (Activation)     (None, 2, 2, 320)    0           batch_normalization_531[0][0]    \n",
            "__________________________________________________________________________________________________\n",
            "activation_535 (Activation)     (None, 2, 2, 192)    0           batch_normalization_535[0][0]    \n",
            "__________________________________________________________________________________________________\n",
            "max_pooling2d_26 (MaxPooling2D) (None, 2, 2, 768)    0           mixed7[0][0]                     \n",
            "__________________________________________________________________________________________________\n",
            "mixed8 (Concatenate)            (None, 2, 2, 1280)   0           activation_531[0][0]             \n",
            "                                                                 activation_535[0][0]             \n",
            "                                                                 max_pooling2d_26[0][0]           \n",
            "__________________________________________________________________________________________________\n",
            "conv2d_552 (Conv2D)             (None, 2, 2, 448)    573440      mixed8[0][0]                     \n",
            "__________________________________________________________________________________________________\n",
            "batch_normalization_540 (BatchN (None, 2, 2, 448)    1344        conv2d_552[0][0]                 \n",
            "__________________________________________________________________________________________________\n",
            "activation_540 (Activation)     (None, 2, 2, 448)    0           batch_normalization_540[0][0]    \n",
            "__________________________________________________________________________________________________\n",
            "conv2d_549 (Conv2D)             (None, 2, 2, 384)    491520      mixed8[0][0]                     \n",
            "__________________________________________________________________________________________________\n",
            "conv2d_553 (Conv2D)             (None, 2, 2, 384)    1548288     activation_540[0][0]             \n",
            "__________________________________________________________________________________________________\n",
            "batch_normalization_537 (BatchN (None, 2, 2, 384)    1152        conv2d_549[0][0]                 \n",
            "__________________________________________________________________________________________________\n",
            "batch_normalization_541 (BatchN (None, 2, 2, 384)    1152        conv2d_553[0][0]                 \n",
            "__________________________________________________________________________________________________\n",
            "activation_537 (Activation)     (None, 2, 2, 384)    0           batch_normalization_537[0][0]    \n",
            "__________________________________________________________________________________________________\n",
            "activation_541 (Activation)     (None, 2, 2, 384)    0           batch_normalization_541[0][0]    \n",
            "__________________________________________________________________________________________________\n",
            "conv2d_550 (Conv2D)             (None, 2, 2, 384)    442368      activation_537[0][0]             \n",
            "__________________________________________________________________________________________________\n",
            "conv2d_551 (Conv2D)             (None, 2, 2, 384)    442368      activation_537[0][0]             \n",
            "__________________________________________________________________________________________________\n",
            "conv2d_554 (Conv2D)             (None, 2, 2, 384)    442368      activation_541[0][0]             \n",
            "__________________________________________________________________________________________________\n",
            "conv2d_555 (Conv2D)             (None, 2, 2, 384)    442368      activation_541[0][0]             \n",
            "__________________________________________________________________________________________________\n",
            "average_pooling2d_53 (AveragePo (None, 2, 2, 1280)   0           mixed8[0][0]                     \n",
            "__________________________________________________________________________________________________\n",
            "conv2d_548 (Conv2D)             (None, 2, 2, 320)    409600      mixed8[0][0]                     \n",
            "__________________________________________________________________________________________________\n",
            "batch_normalization_538 (BatchN (None, 2, 2, 384)    1152        conv2d_550[0][0]                 \n",
            "__________________________________________________________________________________________________\n",
            "batch_normalization_539 (BatchN (None, 2, 2, 384)    1152        conv2d_551[0][0]                 \n",
            "__________________________________________________________________________________________________\n",
            "batch_normalization_542 (BatchN (None, 2, 2, 384)    1152        conv2d_554[0][0]                 \n",
            "__________________________________________________________________________________________________\n",
            "batch_normalization_543 (BatchN (None, 2, 2, 384)    1152        conv2d_555[0][0]                 \n",
            "__________________________________________________________________________________________________\n",
            "conv2d_556 (Conv2D)             (None, 2, 2, 192)    245760      average_pooling2d_53[0][0]       \n",
            "__________________________________________________________________________________________________\n",
            "batch_normalization_536 (BatchN (None, 2, 2, 320)    960         conv2d_548[0][0]                 \n",
            "__________________________________________________________________________________________________\n",
            "activation_538 (Activation)     (None, 2, 2, 384)    0           batch_normalization_538[0][0]    \n",
            "__________________________________________________________________________________________________\n",
            "activation_539 (Activation)     (None, 2, 2, 384)    0           batch_normalization_539[0][0]    \n",
            "__________________________________________________________________________________________________\n",
            "activation_542 (Activation)     (None, 2, 2, 384)    0           batch_normalization_542[0][0]    \n",
            "__________________________________________________________________________________________________\n",
            "activation_543 (Activation)     (None, 2, 2, 384)    0           batch_normalization_543[0][0]    \n",
            "__________________________________________________________________________________________________\n",
            "batch_normalization_544 (BatchN (None, 2, 2, 192)    576         conv2d_556[0][0]                 \n",
            "__________________________________________________________________________________________________\n",
            "activation_536 (Activation)     (None, 2, 2, 320)    0           batch_normalization_536[0][0]    \n",
            "__________________________________________________________________________________________________\n",
            "mixed9_0 (Concatenate)          (None, 2, 2, 768)    0           activation_538[0][0]             \n",
            "                                                                 activation_539[0][0]             \n",
            "__________________________________________________________________________________________________\n",
            "concatenate_9 (Concatenate)     (None, 2, 2, 768)    0           activation_542[0][0]             \n",
            "                                                                 activation_543[0][0]             \n",
            "__________________________________________________________________________________________________\n",
            "activation_544 (Activation)     (None, 2, 2, 192)    0           batch_normalization_544[0][0]    \n",
            "__________________________________________________________________________________________________\n",
            "mixed9 (Concatenate)            (None, 2, 2, 2048)   0           activation_536[0][0]             \n",
            "                                                                 mixed9_0[0][0]                   \n",
            "                                                                 concatenate_9[0][0]              \n",
            "                                                                 activation_544[0][0]             \n",
            "__________________________________________________________________________________________________\n",
            "conv2d_561 (Conv2D)             (None, 2, 2, 448)    917504      mixed9[0][0]                     \n",
            "__________________________________________________________________________________________________\n",
            "batch_normalization_549 (BatchN (None, 2, 2, 448)    1344        conv2d_561[0][0]                 \n",
            "__________________________________________________________________________________________________\n",
            "activation_549 (Activation)     (None, 2, 2, 448)    0           batch_normalization_549[0][0]    \n",
            "__________________________________________________________________________________________________\n",
            "conv2d_558 (Conv2D)             (None, 2, 2, 384)    786432      mixed9[0][0]                     \n",
            "__________________________________________________________________________________________________\n",
            "conv2d_562 (Conv2D)             (None, 2, 2, 384)    1548288     activation_549[0][0]             \n",
            "__________________________________________________________________________________________________\n",
            "batch_normalization_546 (BatchN (None, 2, 2, 384)    1152        conv2d_558[0][0]                 \n",
            "__________________________________________________________________________________________________\n",
            "batch_normalization_550 (BatchN (None, 2, 2, 384)    1152        conv2d_562[0][0]                 \n",
            "__________________________________________________________________________________________________\n",
            "activation_546 (Activation)     (None, 2, 2, 384)    0           batch_normalization_546[0][0]    \n",
            "__________________________________________________________________________________________________\n",
            "activation_550 (Activation)     (None, 2, 2, 384)    0           batch_normalization_550[0][0]    \n",
            "__________________________________________________________________________________________________\n",
            "conv2d_559 (Conv2D)             (None, 2, 2, 384)    442368      activation_546[0][0]             \n",
            "__________________________________________________________________________________________________\n",
            "conv2d_560 (Conv2D)             (None, 2, 2, 384)    442368      activation_546[0][0]             \n",
            "__________________________________________________________________________________________________\n",
            "conv2d_563 (Conv2D)             (None, 2, 2, 384)    442368      activation_550[0][0]             \n",
            "__________________________________________________________________________________________________\n",
            "conv2d_564 (Conv2D)             (None, 2, 2, 384)    442368      activation_550[0][0]             \n",
            "__________________________________________________________________________________________________\n",
            "average_pooling2d_54 (AveragePo (None, 2, 2, 2048)   0           mixed9[0][0]                     \n",
            "__________________________________________________________________________________________________\n",
            "conv2d_557 (Conv2D)             (None, 2, 2, 320)    655360      mixed9[0][0]                     \n",
            "__________________________________________________________________________________________________\n",
            "batch_normalization_547 (BatchN (None, 2, 2, 384)    1152        conv2d_559[0][0]                 \n",
            "__________________________________________________________________________________________________\n",
            "batch_normalization_548 (BatchN (None, 2, 2, 384)    1152        conv2d_560[0][0]                 \n",
            "__________________________________________________________________________________________________\n",
            "batch_normalization_551 (BatchN (None, 2, 2, 384)    1152        conv2d_563[0][0]                 \n",
            "__________________________________________________________________________________________________\n",
            "batch_normalization_552 (BatchN (None, 2, 2, 384)    1152        conv2d_564[0][0]                 \n",
            "__________________________________________________________________________________________________\n",
            "conv2d_565 (Conv2D)             (None, 2, 2, 192)    393216      average_pooling2d_54[0][0]       \n",
            "__________________________________________________________________________________________________\n",
            "batch_normalization_545 (BatchN (None, 2, 2, 320)    960         conv2d_557[0][0]                 \n",
            "__________________________________________________________________________________________________\n",
            "activation_547 (Activation)     (None, 2, 2, 384)    0           batch_normalization_547[0][0]    \n",
            "__________________________________________________________________________________________________\n",
            "activation_548 (Activation)     (None, 2, 2, 384)    0           batch_normalization_548[0][0]    \n",
            "__________________________________________________________________________________________________\n",
            "activation_551 (Activation)     (None, 2, 2, 384)    0           batch_normalization_551[0][0]    \n",
            "__________________________________________________________________________________________________\n",
            "activation_552 (Activation)     (None, 2, 2, 384)    0           batch_normalization_552[0][0]    \n",
            "__________________________________________________________________________________________________\n",
            "batch_normalization_553 (BatchN (None, 2, 2, 192)    576         conv2d_565[0][0]                 \n",
            "__________________________________________________________________________________________________\n",
            "activation_545 (Activation)     (None, 2, 2, 320)    0           batch_normalization_545[0][0]    \n",
            "__________________________________________________________________________________________________\n",
            "mixed9_1 (Concatenate)          (None, 2, 2, 768)    0           activation_547[0][0]             \n",
            "                                                                 activation_548[0][0]             \n",
            "__________________________________________________________________________________________________\n",
            "concatenate_10 (Concatenate)    (None, 2, 2, 768)    0           activation_551[0][0]             \n",
            "                                                                 activation_552[0][0]             \n",
            "__________________________________________________________________________________________________\n",
            "activation_553 (Activation)     (None, 2, 2, 192)    0           batch_normalization_553[0][0]    \n",
            "__________________________________________________________________________________________________\n",
            "mixed10 (Concatenate)           (None, 2, 2, 2048)   0           activation_545[0][0]             \n",
            "                                                                 mixed9_1[0][0]                   \n",
            "                                                                 concatenate_10[0][0]             \n",
            "                                                                 activation_553[0][0]             \n",
            "__________________________________________________________________________________________________\n",
            "flatten_3 (Flatten)             (None, 8192)         0           mixed10[0][0]                    \n",
            "__________________________________________________________________________________________________\n",
            "dense_4 (Dense)                 (None, 47)           385071      flatten_3[0][0]                  \n",
            "==================================================================================================\n",
            "Total params: 22,187,855\n",
            "Trainable params: 22,153,423\n",
            "Non-trainable params: 34,432\n",
            "__________________________________________________________________________________________________\n"
          ],
          "name": "stdout"
        }
      ]
    },
    {
      "metadata": {
        "id": "h_0zJAPXAAt2",
        "colab_type": "code",
        "colab": {}
      },
      "cell_type": "code",
      "source": [
        "layer_name = 'flatten_3'\n",
        "intermediate_layer_model_inception = Model(inputs=inception_emnist_model.input,\n",
        "                                 outputs=inception_emnist_model.get_layer(layer_name).output)"
      ],
      "execution_count": 0,
      "outputs": []
    },
    {
      "metadata": {
        "id": "62Xh8f1BkELe",
        "colab_type": "code",
        "outputId": "7cf3260b-bff7-4613-fb96-67a944b64761",
        "colab": {
          "base_uri": "https://localhost:8080/",
          "height": 51
        }
      },
      "cell_type": "code",
      "source": [
        "from keras.applications import inception_v3\n",
        "\n",
        "def get_features_emnist_inceptionv3(img, model, new_sz):\n",
        "    img = np.stack((img,)*3, axis=-1)\n",
        "    pimage = Image.fromarray(img.astype('uint8'))\n",
        "    pimage = pimage.resize((new_sz,new_sz))\n",
        "    img_data = image.img_to_array(pimage)\n",
        "    img_data = np.expand_dims(img_data, axis=0)\n",
        "    img_data = inception_v3.preprocess_input(img_data)\n",
        "    features = model.predict(img_data)\n",
        "    return features\n",
        "  \n",
        "def feature_extraction_emnist_inceptionv3(X, model):\n",
        "    M = []\n",
        "    for i in tqdm(range(len(X)), desc=\"Extracting image features using Inception V3\"):\n",
        "        features = get_features_emnist_inceptionv3(X[i].reshape(28,28), model, 128)\n",
        "        feature_np = np.array(features)\n",
        "        M.append(feature_np.flatten())\n",
        "    M = np.asarray(M)\n",
        "    print(M.shape)\n",
        "    return M\n",
        "\n",
        "X_train_features_emnist_inception_v3 = feature_extraction_emnist_inceptionv3(X_test[0:NUM_TESTS], intermediate_layer_model_inception)\n"
      ],
      "execution_count": 0,
      "outputs": [
        {
          "output_type": "stream",
          "text": [
            "Extracting image features using Inception V3: 100%|██████████| 2000/2000 [01:10<00:00, 28.20it/s]\n"
          ],
          "name": "stderr"
        },
        {
          "output_type": "stream",
          "text": [
            "(2000, 8192)\n"
          ],
          "name": "stdout"
        }
      ]
    },
    {
      "metadata": {
        "id": "BNbo0yWolDMH",
        "colab_type": "code",
        "outputId": "432786e2-c7bd-42c9-86ad-953785a0f129",
        "colab": {
          "base_uri": "https://localhost:8080/",
          "height": 701
        }
      },
      "cell_type": "code",
      "source": [
        "testClassifiers(X_train_features_emnist_inception_v3[0:NUM_TESTS], y_test[0:NUM_TESTS].ravel(), 1024)"
      ],
      "execution_count": 0,
      "outputs": [
        {
          "output_type": "stream",
          "text": [
            "Evaluating Linear SVM...:  12%|█▎        | 1/8 [00:00<00:00,  8.00it/s]"
          ],
          "name": "stderr"
        },
        {
          "output_type": "stream",
          "text": [
            "\n",
            ">> Classifiers\n",
            "cross validation, kfolds =  4 \n",
            "\n",
            "+ Linear SVM\n"
          ],
          "name": "stdout"
        },
        {
          "output_type": "stream",
          "text": [
            "Evaluating Linear SVM...: 100%|██████████| 8/8 [2:00:06<00:00, 1295.63s/it]\n",
            "Evaluating RBF SVM...:   0%|          | 0/8 [00:00<?, ?it/s]"
          ],
          "name": "stderr"
        },
        {
          "output_type": "stream",
          "text": [
            "+ RBF SVM\n"
          ],
          "name": "stdout"
        },
        {
          "output_type": "stream",
          "text": [
            "Evaluating RBF SVM...: 100%|██████████| 8/8 [12:01<00:00, 124.86s/it]\n",
            "Evaluating RBF SVM Gamma=2...:   0%|          | 0/8 [00:00<?, ?it/s]"
          ],
          "name": "stderr"
        },
        {
          "output_type": "stream",
          "text": [
            "+ RBF SVM Gamma=2\n"
          ],
          "name": "stdout"
        },
        {
          "output_type": "stream",
          "text": [
            "Evaluating RBF SVM Gamma=2...: 100%|██████████| 8/8 [11:59<00:00, 124.80s/it]\n",
            "Evaluating RBF SVM C=005...:   0%|          | 0/8 [00:00<?, ?it/s]"
          ],
          "name": "stderr"
        },
        {
          "output_type": "stream",
          "text": [
            "+ RBF SVM C=005\n"
          ],
          "name": "stdout"
        },
        {
          "output_type": "stream",
          "text": [
            "Evaluating RBF SVM C=005...: 100%|██████████| 8/8 [11:57<00:00, 124.47s/it]\n"
          ],
          "name": "stderr"
        },
        {
          "output_type": "display_data",
          "data": {
            "image/png": "[encoded data removed]",
            "text/plain": [
              "<matplotlib.figure.Figure at 0x7fb2916e2c88>"
            ]
          },
          "metadata": {
            "tags": []
          }
        }
      ]
    },
    {
      "metadata": {
        "id": "RW942rCTlDRQ",
        "colab_type": "code",
        "outputId": "5f184014-ca9f-4208-c76b-74f69716dc61",
        "colab": {
          "base_uri": "https://localhost:8080/",
          "height": 1469
        }
      },
      "cell_type": "code",
      "source": [
        "shape = X_train_features_emnist_inception_v3.shape\n",
        "\n",
        "PCA_X_train = X_train_features_emnist_inception_v3.reshape(shape[0],np.prod(shape[1:]))\n",
        "pca = RandomizedPCA(n_components=n_components).fit(PCA_X_train)\n",
        "pca_train = pca.transform(PCA_X_train)\n",
        "\n",
        "testClassifiers(pca_train[0:NUM_TESTS], y_test[0:NUM_TESTS].ravel(), 10)"
      ],
      "execution_count": 0,
      "outputs": [
        {
          "output_type": "stream",
          "text": [
            "/usr/local/lib/python3.6/dist-packages/sklearn/utils/deprecation.py:58: DeprecationWarning: Class RandomizedPCA is deprecated; RandomizedPCA was deprecated in 0.18 and will be removed in 0.20. Use PCA(svd_solver='randomized') instead. The new implementation DOES NOT store whiten ``components_``. Apply transform to get them.\n",
            "  warnings.warn(msg, category=DeprecationWarning)\n",
            "\n",
            "Evaluating Linear SVM...:   0%|          | 0/10 [00:00<?, ?it/s]\u001b[A"
          ],
          "name": "stderr"
        },
        {
          "output_type": "stream",
          "text": [
            "\n",
            ">> Classifiers\n",
            "cross validation, kfolds =  4 \n",
            "\n",
            "+ Linear SVM\n"
          ],
          "name": "stdout"
        },
        {
          "output_type": "stream",
          "text": [
            "\n",
            "Evaluating Linear SVM...:  10%|█         | 1/10 [00:02<00:25,  2.80s/it]\u001b[A\n",
            "Evaluating Linear SVM...:  20%|██        | 2/10 [00:07<00:27,  3.41s/it]\u001b[A\n",
            "Evaluating Linear SVM...:  30%|███       | 3/10 [00:15<00:32,  4.64s/it]\u001b[A\n",
            "Evaluating Linear SVM...:  40%|████      | 4/10 [00:25<00:38,  6.34s/it]\u001b[A\n",
            "Evaluating Linear SVM...:  50%|█████     | 5/10 [00:38<00:41,  8.37s/it]\u001b[A\n",
            "Evaluating Linear SVM...:  60%|██████    | 6/10 [00:55<00:43, 10.86s/it]\u001b[A\n",
            "Evaluating Linear SVM...:  70%|███████   | 7/10 [01:14<00:40, 13.41s/it]\u001b[A\n",
            "Evaluating Linear SVM...:  80%|████████  | 8/10 [01:37<00:32, 16.13s/it]\u001b[A\n",
            "Evaluating Linear SVM...:  90%|█████████ | 9/10 [02:01<00:18, 18.71s/it]\u001b[A\n",
            "Evaluating Linear SVM...: 100%|██████████| 10/10 [02:29<00:00, 21.41s/it]\u001b[A\n",
            "\u001b[A\n",
            "Evaluating RBF SVM...:   0%|          | 0/10 [00:00<?, ?it/s]\u001b[A\n",
            "Evaluating RBF SVM...:  10%|█         | 1/10 [00:00<00:00,  9.72it/s]\u001b[A"
          ],
          "name": "stderr"
        },
        {
          "output_type": "stream",
          "text": [
            "+ RBF SVM\n"
          ],
          "name": "stdout"
        },
        {
          "output_type": "stream",
          "text": [
            "\n",
            "Evaluating RBF SVM...:  20%|██        | 2/10 [00:00<00:00,  9.66it/s]\u001b[A\n",
            "Evaluating RBF SVM...:  30%|███       | 3/10 [00:00<00:00,  9.50it/s]\u001b[A\n",
            "Evaluating RBF SVM...:  40%|████      | 4/10 [00:00<00:00,  9.08it/s]\u001b[A\n",
            "Evaluating RBF SVM...:  50%|█████     | 5/10 [00:00<00:00,  8.53it/s]\u001b[A\n",
            "Evaluating RBF SVM...:  60%|██████    | 6/10 [00:00<00:00,  8.01it/s]\u001b[A\n",
            "Evaluating RBF SVM...:  70%|███████   | 7/10 [00:00<00:00,  7.50it/s]\u001b[A\n",
            "Evaluating RBF SVM...:  80%|████████  | 8/10 [00:01<00:00,  7.02it/s]\u001b[A\n",
            "Evaluating RBF SVM...:  90%|█████████ | 9/10 [00:01<00:00,  6.44it/s]\u001b[A\n",
            "Evaluating RBF SVM...: 100%|██████████| 10/10 [00:01<00:00,  6.04it/s]\u001b[A\n",
            "\u001b[A\n",
            "Evaluating RBF SVM Gamma=2...:   0%|          | 0/10 [00:00<?, ?it/s]\u001b[A\n",
            "Evaluating RBF SVM Gamma=2...:  20%|██        | 2/10 [00:00<00:00, 11.00it/s]\u001b[A"
          ],
          "name": "stderr"
        },
        {
          "output_type": "stream",
          "text": [
            "+ RBF SVM Gamma=2\n"
          ],
          "name": "stdout"
        },
        {
          "output_type": "stream",
          "text": [
            "\n",
            "Evaluating RBF SVM Gamma=2...:  30%|███       | 3/10 [00:00<00:00, 10.34it/s]\u001b[A\n",
            "Evaluating RBF SVM Gamma=2...:  40%|████      | 4/10 [00:00<00:00,  9.64it/s]\u001b[A\n",
            "Evaluating RBF SVM Gamma=2...:  50%|█████     | 5/10 [00:00<00:00,  8.95it/s]\u001b[A\n",
            "Evaluating RBF SVM Gamma=2...:  60%|██████    | 6/10 [00:00<00:00,  8.19it/s]\u001b[A\n",
            "Evaluating RBF SVM Gamma=2...:  70%|███████   | 7/10 [00:00<00:00,  7.48it/s]\u001b[A\n",
            "Evaluating RBF SVM Gamma=2...:  80%|████████  | 8/10 [00:01<00:00,  7.02it/s]\u001b[A\n",
            "Evaluating RBF SVM Gamma=2...:  90%|█████████ | 9/10 [00:01<00:00,  6.54it/s]\u001b[A\n",
            "Evaluating RBF SVM Gamma=2...: 100%|██████████| 10/10 [00:01<00:00,  6.11it/s]\u001b[A\n",
            "\u001b[A\n",
            "Evaluating RBF SVM C=005...:   0%|          | 0/10 [00:00<?, ?it/s]\u001b[A\n",
            "Evaluating RBF SVM C=005...:  20%|██        | 2/10 [00:00<00:00, 12.85it/s]\u001b[A"
          ],
          "name": "stderr"
        },
        {
          "output_type": "stream",
          "text": [
            "+ RBF SVM C=005\n"
          ],
          "name": "stdout"
        },
        {
          "output_type": "stream",
          "text": [
            "\n",
            "Evaluating RBF SVM C=005...:  30%|███       | 3/10 [00:00<00:00, 11.78it/s]\u001b[A\n",
            "Evaluating RBF SVM C=005...:  40%|████      | 4/10 [00:00<00:00, 10.39it/s]\u001b[A\n",
            "Evaluating RBF SVM C=005...:  50%|█████     | 5/10 [00:00<00:00,  9.71it/s]\u001b[A\n",
            "Evaluating RBF SVM C=005...:  60%|██████    | 6/10 [00:00<00:00,  8.91it/s]\u001b[A\n",
            "Evaluating RBF SVM C=005...:  70%|███████   | 7/10 [00:00<00:00,  8.26it/s]\u001b[A\n",
            "Evaluating RBF SVM C=005...:  80%|████████  | 8/10 [00:00<00:00,  7.67it/s]\u001b[A\n",
            "Evaluating RBF SVM C=005...:  90%|█████████ | 9/10 [00:01<00:00,  7.11it/s]\u001b[A\n",
            "Evaluating RBF SVM C=005...: 100%|██████████| 10/10 [00:01<00:00,  6.61it/s]\u001b[A\n",
            "\u001b[A"
          ],
          "name": "stderr"
        },
        {
          "output_type": "display_data",
          "data": {
            "image/png": "[encoded data removed]",
            "text/plain": [
              "<matplotlib.figure.Figure at 0x7fb28ee8b0b8>"
            ]
          },
          "metadata": {
            "tags": []
          }
        }
      ]
    }
  ]
}