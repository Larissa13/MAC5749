{
 "cells": [
  {
   "cell_type": "markdown",
   "metadata": {},
   "source": [
    "<center><h1 style= \"background-color: powderblue;\"> MPEG-7 Classification Example using Deep Learning and Fine Tunning </h1></center>"
   ]
  },
  {
   "cell_type": "markdown",
   "metadata": {},
   "source": [
    "In this page, we aim to classify the images from MPEG7 Shape database using neural network library Keras. The pre-trained model chosen for image classification is <b><i>InceptionV3</i></b> with weights trained on ImageNet.\n",
    "\n",
    "<br>\n",
    "The following steps are necessary to utilize this model in our application:\n",
    "<ul>\n",
    "    <li>Install Keras</li>\n",
    "    <li>Download the weights files for the pre-trained network(s) (which we’ll be done automatically when you import and instantiate the respective network architecture).</li>\n",
    "    <li>Train the model with smaller set on dataset images (<b>Fine Tunning</b>) </li>\n",
    "    <li>Apply the pre-trained ImageNet networks from previous step to the images on database.</li>\n",
    "</ul>"
   ]
  },
  {
   "cell_type": "markdown",
   "metadata": {},
   "source": [
    "The MPEG-7 Shape dataset is avaliable in: http://www.dabi.temple.edu/~shape/MPEG7/dataset.html"
   ]
  },
  {
   "cell_type": "markdown",
   "metadata": {},
   "source": [
    "## Setup Workspace\n",
    "Set global options and import python packages"
   ]
  },
  {
   "cell_type": "code",
   "execution_count": 1,
   "metadata": {
    "collapsed": false
   },
   "outputs": [
    {
     "name": "stderr",
     "output_type": "stream",
     "text": [
      "Using TensorFlow backend.\n"
     ]
    }
   ],
   "source": [
    "import sys\n",
    "sys.path.append('../../')\n",
    "\n",
    "import numpy as np\n",
    "import matplotlib.pyplot as plt\n",
    "from sklearn.model_selection import train_test_split\n",
    "from skimage.transform import resize\n",
    "from skimage.color import gray2rgb\n",
    "\n",
    "import matplotlib.pyplot as plt\n",
    "\n",
    "import sarpy as sp\n",
    "from sarpy.datasets import load_mpeg7, mpeg7_get_class_name\n",
    "\n",
    "import keras\n",
    "import keras.applications.inception_v3 as inception\n",
    "from keras.preprocessing import image\n",
    "from keras.models import Model\n",
    "from keras.layers import Dense, GlobalAveragePooling2D\n",
    "from keras import backend as K\n"
   ]
  },
  {
   "cell_type": "markdown",
   "metadata": {},
   "source": [
    "\n",
    "## Data Loading, Normalization and Preprocessing\n",
    "From our implemented library, it is possible to load the MPEG7 dataset images just calling the function <i>load_mpeg7</i>. As the images have distinct size, a normalization step is required in order to be processed by the keras InceptionV3 model."
   ]
  },
  {
   "cell_type": "code",
   "execution_count": 2,
   "metadata": {
    "collapsed": false
   },
   "outputs": [
    {
     "name": "stdout",
     "output_type": "stream",
     "text": [
      "Loaded dataset. 1400 examples, 70 classes\n"
     ]
    }
   ],
   "source": [
    "# Loading dataset\n",
    "dataset = load_mpeg7()\n",
    "bitmaps, targets = dataset[\"bitmaps\"], dataset[\"targets\"]\n",
    "\n",
    "number_of_classes = len(np.unique(targets))\n",
    "print(\"Loaded dataset: {} examples, {} classes\".format(len(bitmaps), number_of_classes))\n",
    "\n",
    "# Normalizing images\n",
    "image_size_height = image_size_width = 299\n",
    "X = [image.img_to_array(gray2rgb(resize(bitmap.data, (299,299), mode=\"constant\"))) for bitmap in bitmaps]\n",
    "y = keras.utils.to_categorical(targets, num_classes=number_of_classes)"
   ]
  },
  {
   "cell_type": "markdown",
   "metadata": {},
   "source": [
    "<br>\n",
    "As usual, the data is preprocessed splitting into training set and testing set.  "
   ]
  },
  {
   "cell_type": "code",
   "execution_count": 3,
   "metadata": {
    "collapsed": false
   },
   "outputs": [
    {
     "name": "stdout",
     "output_type": "stream",
     "text": [
      "Split X and Y into train (shapes: (700, 299, 299, 3),(700, 70)) and test (shape: (700, 299, 299, 3),(700, 70))\n"
     ]
    }
   ],
   "source": [
    "# Train-test split\n",
    "X_train, X_test, y_train, y_test = train_test_split(X, y, test_size = 0.5, random_state=42)\n",
    "X_train, X_test, y_train, y_test = np.array(X_train), np.array(X_test), np.array(y_train), np.array(y_test)\n",
    "print(\"Split X and Y into train (shapes: {},{}) and test (shape: {},{})\".format(X_train.shape, y_train.shape, X_test.shape, y_test.shape))"
   ]
  },
  {
   "cell_type": "markdown",
   "metadata": {},
   "source": [
    "## Model Training [?]\n",
    "<b>TODO</b>"
   ]
  },
  {
   "cell_type": "code",
   "execution_count": 4,
   "metadata": {
    "collapsed": false
   },
   "outputs": [
    {
     "name": "stdout",
     "output_type": "stream",
     "text": [
      "Epoch 1/10\n",
      "700/700 [==============================] - 340s - loss: 4.8138    \n",
      "Epoch 2/10\n",
      "700/700 [==============================] - 348s - loss: 2.7091    \n",
      "Epoch 3/10\n",
      "700/700 [==============================] - 345s - loss: 1.6734    \n",
      "Epoch 4/10\n",
      "700/700 [==============================] - 337s - loss: 0.9994    \n",
      "Epoch 5/10\n",
      "700/700 [==============================] - 345s - loss: 0.6902    \n",
      "Epoch 6/10\n",
      "700/700 [==============================] - 349s - loss: 0.5381    \n",
      "Epoch 7/10\n",
      "700/700 [==============================] - 363s - loss: 0.3436    \n",
      "Epoch 8/10\n",
      "700/700 [==============================] - 355s - loss: 0.3676    \n",
      "Epoch 9/10\n",
      "700/700 [==============================] - 320s - loss: 0.3140    \n",
      "Epoch 10/10\n",
      "700/700 [==============================] - 351s - loss: 0.1318    \n"
     ]
    }
   ],
   "source": [
    "# create the base pre-trained model, without top\n",
    "base_model = inception.InceptionV3(weights='imagenet', include_top=False)\n",
    "\n",
    "x = base_model.output\n",
    "\n",
    "x = GlobalAveragePooling2D()(x)\n",
    "# Fully-connected layer\n",
    "x = Dense(1024, activation='relu')(x)\n",
    "# Classes logistic layer -- with 70 classes\n",
    "predictions = Dense(number_of_classes, activation='softmax')(x)\n",
    "\n",
    "# this is the model we will train\n",
    "model = Model(inputs=base_model.input, outputs=predictions)\n",
    "\n",
    "# first: train only the top layers (which were randomly initialized)\n",
    "# i.e. freeze all convolutional InceptionV3 layers\n",
    "for layer in base_model.layers:\n",
    "    layer.trainable = False\n",
    "\n",
    "# compile the model (should be done *after* setting layers to non-trainable)\n",
    "model.compile(optimizer='rmsprop', loss='categorical_crossentropy')\n",
    "\n",
    "# train the model on the new data for a few epochs\n",
    "model.fit(X_train,y_train,batch_size=32, epochs=10);"
   ]
  },
  {
   "cell_type": "code",
   "execution_count": 5,
   "metadata": {
    "collapsed": false
   },
   "outputs": [
    {
     "name": "stdout",
     "output_type": "stream",
     "text": [
      "700/700 [==============================] - 361s    \n",
      "Score: 1.47913465568\n"
     ]
    }
   ],
   "source": [
    "# Evaluate the model\n",
    "score = model.evaluate(X_test, y_test, batch_size=32)\n",
    "print(\"Score:\", score)"
   ]
  },
  {
   "cell_type": "markdown",
   "metadata": {},
   "source": [
    "# Results\n",
    "<b>TODO</b>: Say something cool~* about our results"
   ]
  },
  {
   "cell_type": "code",
   "execution_count": 7,
   "metadata": {
    "collapsed": false,
    "scrolled": false
   },
   "outputs": [
    {
     "data": {
      "image/png": "[encoded data removed]",
      "text/plain": [
       "<matplotlib.figure.Figure at 0x7f66c03e22e8>"
      ]
     },
     "metadata": {},
     "output_type": "display_data"
    },
    {
     "name": "stdout",
     "output_type": "stream",
     "text": [
      "Predicted: device1 (True: device7)\n"
     ]
    },
    {
     "data": {
      "image/png": "[encoded data removed]",
      "text/plain": [
       "<matplotlib.figure.Figure at 0x7f66c0362668>"
      ]
     },
     "metadata": {},
     "output_type": "display_data"
    },
    {
     "name": "stdout",
     "output_type": "stream",
     "text": [
      "Predicted: device1 (True: device0)\n"
     ]
    },
    {
     "data": {
      "image/png": "[encoded data removed]",
      "text/plain": [
       "<matplotlib.figure.Figure at 0x7f66c0270f60>"
      ]
     },
     "metadata": {},
     "output_type": "display_data"
    },
    {
     "name": "stdout",
     "output_type": "stream",
     "text": [
      "Predicted: device2 (True: device5)\n"
     ]
    },
    {
     "data": {
      "image/png": "[encoded data removed]",
      "text/plain": [
       "<matplotlib.figure.Figure at 0x7f66c0297a58>"
      ]
     },
     "metadata": {},
     "output_type": "display_data"
    },
    {
     "name": "stdout",
     "output_type": "stream",
     "text": [
      "Predicted: horse (True: horse)\n"
     ]
    },
    {
     "data": {
      "image/png": "[encoded data removed]",
      "text/plain": [
       "<matplotlib.figure.Figure at 0x7f66c026d080>"
      ]
     },
     "metadata": {},
     "output_type": "display_data"
    },
    {
     "name": "stdout",
     "output_type": "stream",
     "text": [
      "Predicted: guitar (True: key)\n"
     ]
    },
    {
     "data": {
      "image/png": "[encoded data removed]",
      "text/plain": [
       "<matplotlib.figure.Figure at 0x7f66c02c6c88>"
      ]
     },
     "metadata": {},
     "output_type": "display_data"
    },
    {
     "name": "stdout",
     "output_type": "stream",
     "text": [
      "Predicted: octopus (True: fly)\n"
     ]
    },
    {
     "data": {
      "image/png": "[encoded data removed]",
      "text/plain": [
       "<matplotlib.figure.Figure at 0x7f66c0404710>"
      ]
     },
     "metadata": {},
     "output_type": "display_data"
    },
    {
     "name": "stdout",
     "output_type": "stream",
     "text": [
      "Predicted: jar (True: jar)\n"
     ]
    }
   ],
   "source": [
    "# Display some results\n",
    "for test_image, test_target in zip(X_test[::int(len(X_test)/6)], y_test[::int(len(y_test)/6)]):\n",
    "    # Predicting class\n",
    "    predicted_class = model.predict(np.array([test_image]))[0]\n",
    "    plt.imshow(test_image, cmap='gray')\n",
    "    plt.axis('off')\n",
    "    plt.show()\n",
    "    print(\"Predicted: {} (True: {})\".format(mpeg7_get_class_name(np.argmax(predicted_class)), mpeg7_get_class_name(np.argwhere(test_target)[0][0])))"
   ]
  },
  {
   "cell_type": "markdown",
   "metadata": {},
   "source": [
    "# Tutorial Video \n",
    "Check our tutorial video below!"
   ]
  },
  {
   "cell_type": "code",
   "execution_count": 8,
   "metadata": {
    "collapsed": false
   },
   "outputs": [
    {
     "data": {
      "text/html": [
       "<iframe width=\"560\" height=\"315\" src=\"https://www.youtube.com/embed/t2ByLmLnYJ8?rel=0&amp;controls=0&amp;showinfo=0\" frameborder=\"0\" allowfullscreen></iframe>"
      ],
      "text/plain": [
       "<IPython.core.display.HTML object>"
      ]
     },
     "execution_count": 8,
     "metadata": {},
     "output_type": "execute_result"
    }
   ],
   "source": [
    "from IPython.display import HTML\n",
    "HTML('<iframe width=\"560\" height=\"315\" src=\"https://www.youtube.com/embed/t2ByLmLnYJ8?rel=0&amp;controls=0&amp;showinfo=0\" frameborder=\"0\" allowfullscreen></iframe>')\n"
   ]
  }
 ],
 "metadata": {
  "anaconda-cloud": {},
  "kernelspec": {
   "display_name": "Python [default]",
   "language": "python",
   "name": "python3"
  },
  "language_info": {
   "codemirror_mode": {
    "name": "ipython",
    "version": 3
   },
   "file_extension": ".py",
   "mimetype": "text/x-python",
   "name": "python",
   "nbconvert_exporter": "python",
   "pygments_lexer": "ipython3",
   "version": "3.5.2"
  }
 },
 "nbformat": 4,
 "nbformat_minor": 2
}
