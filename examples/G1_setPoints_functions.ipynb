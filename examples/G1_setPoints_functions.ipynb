{
 "cells": [
  {
   "cell_type": "markdown",
   "metadata": {},
   "source": [
    "    \n",
    "# Test group 1 Database NIST\n",
    "Special Database 19 contains NIST's entire corpus of training materials for handprinted document and character recognition.\n",
    "\n",
    "\n",
    "# Load database \n",
    "   - load_nist()"
   ]
  },
  {
   "cell_type": "code",
   "execution_count": 1,
   "metadata": {},
   "outputs": [
    {
     "name": "stdout",
     "output_type": "stream",
     "text": [
      "6200 images\n",
      "62 class\n",
      "----------------------------\n"
     ]
    }
   ],
   "source": [
    "import sys\n",
    "sys.path.append('../')\n",
    "import sarpy.binaryScale \n",
    "import skimage.io as skio\n",
    "import numpy as np\n",
    "import matplotlib.pyplot as plt\n",
    "from sarpy.datasets import *\n",
    "from sarpy import *\n",
    "\n",
    "dataset = load_nist()\n",
    "print(len(dataset['bitmaps']), \"images\")\n",
    "print(len(dataset['names']), \"class\")\n",
    "print(\"----------------------------\");\n",
    "\n",
    "%load_ext autoreload\n",
    "%autoreload 2"
   ]
  },
  {
   "cell_type": "markdown",
   "metadata": {},
   "source": [
    "# Shape scale\n",
    "- sarpy.binaryScale.shapeScale"
   ]
  },
  {
   "cell_type": "code",
   "execution_count": 2,
   "metadata": {},
   "outputs": [
    {
     "data": {
      "image/png": "[encoded data removed]",
      "text/plain": [
       "<matplotlib.figure.Figure at 0x6fb5cae25dd8>"
      ]
     },
     "metadata": {},
     "output_type": "display_data"
    }
   ],
   "source": [
    "def visualize(data,nclass):\n",
    "    plt.rcParams[\"figure.figsize\"] = [10,3]    \n",
    "    x = 5;\n",
    "    y = nclass\n",
    "    fig, axes = plt.subplots(y,x)\n",
    "    k = i = j = 0\n",
    "    idx = 0;\n",
    "    for char in data:\n",
    "        idx = 0\n",
    "        for sc in [4,2,1,0.8,0.5]:\n",
    "            axes[i,idx].axis('off')\n",
    "            axes[i,idx].imshow(sarpy.binaryScale.shapeScale(char,sc,(char.shape[0]/2,char.shape[1]/2)),cmap='gray')\n",
    "            idx+=1\n",
    "        i = i + 1        \n",
    "        \n",
    "    plt.show()\n",
    "\n",
    "visualize(dataset['bitmaps'][::6000],len(dataset['bitmaps'][::6000]))"
   ]
  },
  {
   "cell_type": "markdown",
   "metadata": {},
   "source": [
    "# Contour functions\n",
    "\n",
    "- plotContour(aContour)\n",
    "- plotContour1D(aContour)\n",
    "- contour2bm(aContour)"
   ]
  },
  {
   "cell_type": "code",
   "execution_count": 3,
   "metadata": {
    "collapsed": true
   },
   "outputs": [],
   "source": [
    "aContour = np.array([[0,2,2],[1,1,3],[2,1,4],[3,1,5],\n",
    "                     [4,2,6],[5,3,5],[6,4,5],[7,5,6],\n",
    "                     [8,6,5],[9,6,4],[10,6,3],[11,5,2],\n",
    "                     [12,4,1],[13,3,1],[14,2,2]]);"
   ]
  },
  {
   "cell_type": "code",
   "execution_count": 4,
   "metadata": {
    "scrolled": true
   },
   "outputs": [
    {
     "data": {
      "image/png": "[encoded data removed]",
      "text/plain": [
       "<matplotlib.figure.Figure at 0x6fb5cb0ac438>"
      ]
     },
     "metadata": {},
     "output_type": "display_data"
    }
   ],
   "source": [
    "from sarpy import plotContour\n",
    "sarpy.plotContour.plotContour(aContour)"
   ]
  },
  {
   "cell_type": "code",
   "execution_count": 5,
   "metadata": {},
   "outputs": [
    {
     "data": {
      "image/png": "[encoded data removed]",
      "text/plain": [
       "<matplotlib.figure.Figure at 0x6fb5cac41400>"
      ]
     },
     "metadata": {},
     "output_type": "display_data"
    }
   ],
   "source": [
    "from sarpy import plotContour1D\n",
    "sarpy.plotContour1D.plotContour1D(aContour)"
   ]
  },
  {
   "cell_type": "code",
   "execution_count": 6,
   "metadata": {},
   "outputs": [
    {
     "name": "stdout",
     "output_type": "stream",
     "text": [
      "[[0 0 0 0 0 0 0]\n",
      " [0 0 0 1 1 0 0]\n",
      " [0 0 1 0 0 1 0]\n",
      " [0 1 0 0 0 0 1]\n",
      " [0 1 0 0 0 0 1]\n",
      " [0 1 0 1 1 0 1]\n",
      " [0 0 1 0 0 1 0]]\n"
     ]
    }
   ],
   "source": [
    "from sarpy import plotContour\n",
    "print(sarpy.plotContour.contour2bm(aContour))"
   ]
  },
  {
   "cell_type": "code",
   "execution_count": null,
   "metadata": {
    "collapsed": true
   },
   "outputs": [],
   "source": []
  },
  {
   "cell_type": "code",
   "execution_count": 7,
   "metadata": {
    "collapsed": true
   },
   "outputs": [],
   "source": [
    "def bitmap2setPoints(bitmap,adj=4):\n",
    "    adjx = []\n",
    "    adjy = []\n",
    "    if adj == 8:\n",
    "        adjx = [-1,0,1,-1,1,-1,0,1];\n",
    "        adjy = [-1,-1,-1,0,0,1,1,1];\n",
    "    else:\n",
    "        adjx = [0,-1,1,0];\n",
    "        adjy = [-1,0,0,1];\n",
    "        \n",
    "    adjn = len(adjx)\n",
    "    nrows,ncols = bitmap.shape\n",
    "    setPoints = set();\n",
    "    for i in range(0,nrows):\n",
    "        for j in range(0,ncols):\n",
    "            if bitmap[i,j] == 1:\n",
    "                for dx,dy in zip(adjx,adjy):        \n",
    "                    x = i + dx\n",
    "                    y = j + dy\n",
    "                    if x >= 0 and x < ncols and y >=0 and y < nrows:\n",
    "                        if bitmap[x,y] == 0:                        \n",
    "                            setPoints.add(tuple([x,y]))\n",
    "    return list(setPoints)"
   ]
  },
  {
   "cell_type": "markdown",
   "metadata": {},
   "source": [
    "# Contour Set points\n",
    "    - contour set points  function bitmap2setPoints(bitmap,adjacency = 4)"
   ]
  },
  {
   "cell_type": "code",
   "execution_count": 18,
   "metadata": {},
   "outputs": [],
   "source": [
    "from sarpy import plotContour\n",
    "from sarpy import bitmap2pointsSet\n",
    "\n",
    "arr = np.array([[0,3,2],[1,4,2],[3,2,3],\n",
    "                [4,2,4],[5,2,5],[6,5,3],[7,5,4],\n",
    "                [8,3,4],[9,4,4],[9,5,5]]);\n",
    "img = np.zeros((8,8))\n",
    "img[:6,:6] = sarpy.plotContour.contour2bm(arr)\n",
    "img2 = dataset['bitmaps'][600]\n",
    "plt.rcParams[\"figure.figsize\"] = [18,10] \n",
    "fig, axes = plt.subplots(3,2)\n",
    "axes[0,0].axis('off')\n",
    "axes[0,0].imshow(img,cmap='gray')\n",
    "axes[0,1].axis('off')\n",
    "axes[0,1].imshow(img2,cmap='gray');\n"
   ]
  },
  {
   "cell_type": "code",
   "execution_count": 19,
   "metadata": {
    "scrolled": true
   },
   "outputs": [],
   "source": [
    "img_out = np.zeros(img.shape)\n",
    "for p in bitmap2setPoints(img,4):\n",
    "    img_out[p[0],p[1]] = 1\n",
    "\n",
    "axes[1,0].axis('off')\n",
    "axes[1,0].imshow(img_out,cmap='gray');\n",
    "\n",
    "img2 = dataset['bitmaps'][600]\n",
    "img_out = np.zeros(img2.shape)\n",
    "for p in bitmap2setPoints(img2,4):\n",
    "    img_out[p[0],p[1]] = 1\n",
    "\n",
    "axes[1,1].axis('off')\n",
    "axes[1,1].imshow(img_out,cmap='gray');"
   ]
  },
  {
   "cell_type": "code",
   "execution_count": 20,
   "metadata": {},
   "outputs": [
    {
     "data": {
      "image/png": "[encoded data removed]",
      "text/plain": [
       "<matplotlib.figure.Figure at 0x6fb5ca8099b0>"
      ]
     },
     "metadata": {},
     "output_type": "display_data"
    }
   ],
   "source": [
    "img_out = np.zeros(img.shape)\n",
    "for p in bitmap2setPoints(img,8):\n",
    "    img_out[p[0],p[1]] = 1\n",
    "# plt.imshow(img_out,cmap='gray')\n",
    "\n",
    "axes[2,0].axis('off')\n",
    "axes[2,0].imshow(img_out,cmap='gray');\n",
    "\n",
    "img2 = dataset['bitmaps'][600]\n",
    "img_out = np.zeros(img2.shape)\n",
    "for p in bitmap2setPoints(img2,8):\n",
    "    img_out[p[0],p[1]] = 1\n",
    "# plt.imshow(img_out,cmap='gray')\n",
    "# plt.show() \n",
    "\n",
    "axes[2,1].axis('off')\n",
    "axes[2,1].imshow(img_out,cmap='gray');\n",
    "plt.show()    \n"
   ]
  },
  {
   "cell_type": "code",
   "execution_count": null,
   "metadata": {
    "collapsed": true
   },
   "outputs": [],
   "source": [
    "# dataset = 0"
   ]
  }
 ],
 "metadata": {
  "kernelspec": {
   "display_name": "Python 3",
   "language": "python",
   "name": "python3"
  },
  "language_info": {
   "codemirror_mode": {
    "name": "ipython",
    "version": 3
   },
   "file_extension": ".py",
   "mimetype": "text/x-python",
   "name": "python",
   "nbconvert_exporter": "python",
   "pygments_lexer": "ipython3",
   "version": "3.6.2"
  }
 },
 "nbformat": 4,
 "nbformat_minor": 2
}
