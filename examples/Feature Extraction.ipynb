{
 "cells": [
  {
   "cell_type": "markdown",
   "metadata": {},
   "source": [
    "# Feature Extraction on Nist"
   ]
  },
  {
   "cell_type": "code",
   "execution_count": 38,
   "metadata": {
    "collapsed": true
   },
   "outputs": [],
   "source": [
    "import sys\n",
    "sys.path.append('../')\n",
    "import numpy as np\n",
    "import matplotlib.pyplot as plt\n",
    "from sarpy.datasets import load_nist\n",
    "from scipy import ndimage\n",
    "from skimage.feature import shape_index\n",
    "\n",
    "dataset = load_nist()"
   ]
  },
  {
   "cell_type": "code",
   "execution_count": 39,
   "metadata": {
    "collapsed": true
   },
   "outputs": [],
   "source": [
    "def features(bitmap):\n",
    "    f = []\n",
    "    f.append(np.sum(bitmap))\n",
    "    f.append(np.mean(bitmap))\n",
    "    x, y = ndimage.measurements.center_of_mass(bitmap)\n",
    "    f.append(x)\n",
    "    f.append(y)\n",
    "    f.append(ndimage.standard_deviation(bitmap))\n",
    "    return f"
   ]
  },
  {
   "cell_type": "code",
   "execution_count": 40,
   "metadata": {},
   "outputs": [],
   "source": [
    "def feature_extraction():\n",
    "    X = dataset['bitmaps']\n",
    "    Y = dataset['targets']\n",
    "\n",
    "    M = []\n",
    "    for i in range(len(X)):\n",
    "        feat = features(X[i].data)\n",
    "        M.append((feat, Y[i]))\n",
    "    return M"
   ]
  }
 ],
 "metadata": {
  "kernelspec": {
   "display_name": "Python 3",
   "language": "python",
   "name": "python3"
  },
  "language_info": {
   "codemirror_mode": {
    "name": "ipython",
    "version": 3
   },
   "file_extension": ".py",
   "mimetype": "text/x-python",
   "name": "python",
   "nbconvert_exporter": "python",
   "pygments_lexer": "ipython3",
   "version": "3.6.2"
  }
 },
 "nbformat": 4,
 "nbformat_minor": 2
}
