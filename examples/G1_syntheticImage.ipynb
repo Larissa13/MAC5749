{
 "cells": [
  {
   "cell_type": "code",
   "execution_count": 1,
   "metadata": {},
   "outputs": [
    {
     "data": {
      "text/plain": [
       "6200"
      ]
     },
     "execution_count": 1,
     "metadata": {},
     "output_type": "execute_result"
    }
   ],
   "source": [
    "import numpy as np\n",
    "import sarpy as sp\n",
    "\n",
    "data = sp.datasets.load_nist()\n",
    "len(data['bitmaps'])"
   ]
  },
  {
   "cell_type": "markdown",
   "metadata": {},
   "source": [
    "## Função que cria uma imagem sintética dado um dataset\n",
    "\n",
    "test_image(*data, n, size*):\n",
    "\n",
    "**Input**:\n",
    "- **data** : Dataset a ser utilizado\n",
    "- **n** : Quantidade de elementos para ser colocado na imagem final\n",
    "- **size** *(opt)* : Tamanho da imagem final. *default=(1000,1000)*\n",
    "- **seed** *(opt)* : Seed para a permutação e os locais da imagem. *default=None*\n",
    "\n",
    "**Output**:\n",
    "- **img** : Imagem final\n",
    "\n",
    "A função faz uma permutação do *data* recebido e cria uma imagem com as *n* primeiras \n",
    "imagens dessa permutação em posições aleatórias.\n"
   ]
  },
  {
   "cell_type": "code",
   "execution_count": 2,
   "metadata": {
    "collapsed": true
   },
   "outputs": [],
   "source": [
    "def test_image(data, n, size=(1000,1000), seed=None):\n",
    "    np.random.seed(seed)\n",
    "    rand_samp = np.random.permutation(data['bitmaps'])\n",
    "    img = np.zeros(size)\n",
    "    for i in range(n):\n",
    "        h,w = rand_samp[i].shape\n",
    "        x = np.random.randint(size[0] - w)\n",
    "        y = np.random.randint(size[1] - h)\n",
    "        img[x:x+w, y:y+h] = np.logical_or(img[x:x+w, y:y+h],rand_samp[i])\n",
    "    return img"
   ]
  },
  {
   "cell_type": "code",
   "execution_count": 3,
   "metadata": {},
   "outputs": [
    {
     "data": {
      "image/png": "[encoded data removed]",
      "text/plain": [
       "<matplotlib.figure.Figure at 0x7f63f1359780>"
      ]
     },
     "metadata": {},
     "output_type": "display_data"
    }
   ],
   "source": [
    "import matplotlib.pyplot as plt\n",
    "\n",
    "plt.rcParams['figure.figsize'] = [10,10]\n",
    "img = test_image(data, 20)\n",
    "plt.imshow(img, cmap='gray')\n",
    "plt.show()"
   ]
  },
  {
   "cell_type": "code",
   "execution_count": null,
   "metadata": {
    "collapsed": true
   },
   "outputs": [],
   "source": []
  }
 ],
 "metadata": {
  "kernelspec": {
   "display_name": "Python 3",
   "language": "python",
   "name": "python3"
  },
  "language_info": {
   "codemirror_mode": {
    "name": "ipython",
    "version": 3
   },
   "file_extension": ".py",
   "mimetype": "text/x-python",
   "name": "python",
   "nbconvert_exporter": "python",
   "pygments_lexer": "ipython3",
   "version": "3.6.2"
  }
 },
 "nbformat": 4,
 "nbformat_minor": 2
}
