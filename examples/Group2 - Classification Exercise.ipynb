{
 "cells": [
  {
   "cell_type": "code",
   "execution_count": 1,
   "metadata": {},
   "outputs": [
    {
     "name": "stderr",
     "output_type": "stream",
     "text": [
      "Using TensorFlow backend.\n",
      "/usr/lib/python3.6/importlib/_bootstrap.py:219: RuntimeWarning: compiletime version 3.5 of module 'tensorflow.python.framework.fast_tensor_util' does not match runtime version 3.6\n",
      "  return f(*args, **kwds)\n"
     ]
    }
   ],
   "source": [
    "import sys\n",
    "sys.path.append('../')\n",
    "\n",
    "import numpy as np\n",
    "import matplotlib.pyplot as plt\n",
    "from sklearn.model_selection import train_test_split\n",
    "from skimage.transform import resize\n",
    "from skimage.color import gray2rgb\n",
    "\n",
    "import matplotlib.pyplot as plt\n",
    "\n",
    "import sarpy as sp\n",
    "from sarpy.datasets import load_mpeg7\n",
    "\n",
    "import keras\n",
    "import keras.applications.inception_v3 as inception\n",
    "from keras.preprocessing import image\n",
    "from keras.models import Model\n",
    "from keras.layers import Dense, GlobalAveragePooling2D\n",
    "from keras import backend as K"
   ]
  },
  {
   "cell_type": "code",
   "execution_count": 2,
   "metadata": {
    "collapsed": true
   },
   "outputs": [],
   "source": [
    "def get_class_name(target):\n",
    "    if target == 0: return \"Bone\"\n",
    "    if target == 1: return \"Comma\"\n",
    "    if target == 2: return \"Glas\"\n",
    "    if target == 3: return \"HCircle\"\n",
    "    if target == 4: return \"Heart\"\n",
    "    if target == 5: return \"Misk\"\n",
    "    if target == 6: return \"apple\"\n",
    "    if target == 7: return \"bat\"\n",
    "    if target == 8: return \"beetle\"\n",
    "    if target == 9: return \"bell\"\n",
    "    if target == 10: return \"bird\"\n",
    "    if target == 11: return \"bottle\"\n",
    "    if target == 12: return \"brick\"\n",
    "    if target == 13: return \"butterfly\"\n",
    "    if target == 14: return \"camel\"\n",
    "    if target == 15: return \"car\"\n",
    "    if target == 16: return \"carriage\"\n",
    "    if target == 17: return \"cattle\"\n",
    "    if target == 18: return \"cellular_phone\"\n",
    "    if target == 19: return \"chicken\"\n",
    "    if target == 20: return \"children\"\n",
    "    if target == 21: return \"chopper\"\n",
    "    if target == 22: return \"classic\"\n",
    "    if target == 23: return \"crown\"\n",
    "    if target == 24: return \"cup\"\n",
    "    if target == 25: return \"deer\"\n",
    "    if target == 26: return \"device0\"\n",
    "    if target == 27: return \"device1\"\n",
    "    if target == 28: return \"device2\"\n",
    "    if target == 29: return \"device3\"\n",
    "    if target == 30: return \"device4\"\n",
    "    if target == 31: return \"device5\"\n",
    "    if target == 32: return \"device6\"\n",
    "    if target == 33: return \"device7\"\n",
    "    if target == 34: return \"device8\"\n",
    "    if target == 35: return \"device9\"\n",
    "    if target == 36: return \"dog\"\n",
    "    if target == 37: return \"elephant\"\n",
    "    if target == 38: return \"face\"\n",
    "    if target == 39: return \"fish\"\n",
    "    if target == 40: return \"flatfish\"\n",
    "    if target == 41: return \"fly\"\n",
    "    if target == 42: return \"fork\"\n",
    "    if target == 43: return \"fountain\"\n",
    "    if target == 44: return \"frog\"\n",
    "    if target == 45: return \"guitar\"\n",
    "    if target == 46: return \"hammer\"\n",
    "    if target == 47: return \"hat\"\n",
    "    if target == 48: return \"horse\"\n",
    "    if target == 49: return \"horseshoe\"\n",
    "    if target == 50: return \"jar\"\n",
    "    if target == 51: return \"key\"\n",
    "    if target == 52: return \"lizzard\"\n",
    "    if target == 53: return \"lmfish\"\n",
    "    if target == 54: return \"octopus\"\n",
    "    if target == 55: return \"pencil\"\n",
    "    if target == 56: return \"personal_car\"\n",
    "    if target == 57: return \"pocket\"\n",
    "    if target == 58: return \"rat\"\n",
    "    if target == 59: return \"ray\"\n",
    "    if target == 60: return \"sea_snake\"\n",
    "    if target == 61: return \"shoe\"\n",
    "    if target == 62: return \"spoon\"\n",
    "    if target == 63: return \"spring\"\n",
    "    if target == 64: return \"stef\"\n",
    "    if target == 65: return \"teddy\"\n",
    "    if target == 66: return \"tree\"\n",
    "    if target == 67: return \"truck\"\n",
    "    if target == 68: return \"turtle\"\n",
    "    if target == 69: return \"watch\""
   ]
  },
  {
   "cell_type": "code",
   "execution_count": 3,
   "metadata": {},
   "outputs": [
    {
     "name": "stdout",
     "output_type": "stream",
     "text": [
      "Loaded dataset. 140 examples, 7 classes\n"
     ]
    }
   ],
   "source": [
    "# Loading dataset\n",
    "dataset = load_mpeg7()\n",
    "bitmaps, targets = dataset[\"bitmaps\"][:140], dataset[\"targets\"][:140]\n",
    "\n",
    "number_of_classes = len(np.unique(targets))\n",
    "print(\"Loaded dataset. {} examples, {} classes\".format(len(bitmaps), number_of_classes))\n",
    "\n",
    "# Normalizing images\n",
    "image_size_height = image_size_width = 299\n",
    "#bitmaps = [bitmap.normalize(image_size_height,image_size_width) for bitmap in bitmaps]\n",
    "X = [image.img_to_array(gray2rgb(resize(bitmap.data, (299,299), mode=\"constant\"))) for bitmap in bitmaps]\n",
    "y = keras.utils.to_categorical(targets, num_classes=number_of_classes)"
   ]
  },
  {
   "cell_type": "code",
   "execution_count": 4,
   "metadata": {},
   "outputs": [
    {
     "name": "stdout",
     "output_type": "stream",
     "text": [
      "Split X and Y into train (shapes: (70, 299, 299, 3),(70, 7)) and test (shape: (70, 299, 299, 3),(70, 7))\n"
     ]
    }
   ],
   "source": [
    "# Train-test split\n",
    "X_train, X_test, y_train, y_test = train_test_split(X, y, test_size = 0.5, random_state=42)\n",
    "X_train, X_test, y_train, y_test = np.array(X_train), np.array(X_test), np.array(y_train), np.array(y_test)\n",
    "print(\"Split X and Y into train (shapes: {},{}) and test (shape: {},{})\".format(X_train.shape, y_train.shape, X_test.shape, y_test.shape))"
   ]
  },
  {
   "cell_type": "code",
   "execution_count": 5,
   "metadata": {},
   "outputs": [
    {
     "name": "stdout",
     "output_type": "stream",
     "text": [
      "Epoch 1/10\n",
      "70/70 [==============================] - 58s 834ms/step - loss: 4.9717\n",
      "Epoch 2/10\n",
      "70/70 [==============================] - 53s 758ms/step - loss: 7.8916\n",
      "Epoch 3/10\n",
      "70/70 [==============================] - 54s 775ms/step - loss: 5.9156\n",
      "Epoch 4/10\n",
      "70/70 [==============================] - 56s 793ms/step - loss: 4.0955\n",
      "Epoch 5/10\n",
      "70/70 [==============================] - 57s 813ms/step - loss: 4.1585\n",
      "Epoch 6/10\n",
      "70/70 [==============================] - 57s 812ms/step - loss: 3.0665\n",
      "Epoch 7/10\n",
      "70/70 [==============================] - 58s 829ms/step - loss: 3.0679\n",
      "Epoch 8/10\n",
      "70/70 [==============================] - 59s 836ms/step - loss: 1.9640\n",
      "Epoch 9/10\n",
      "70/70 [==============================] - 59s 845ms/step - loss: 2.3400\n",
      "Epoch 10/10\n",
      "70/70 [==============================] - 59s 837ms/step - loss: 0.2650\n"
     ]
    },
    {
     "data": {
      "text/plain": [
       "<keras.callbacks.History at 0x7fc972e46f98>"
      ]
     },
     "execution_count": 5,
     "metadata": {},
     "output_type": "execute_result"
    }
   ],
   "source": [
    "# create the base pre-trained model, without top\n",
    "base_model = inception.InceptionV3(weights='imagenet', include_top=False)\n",
    "\n",
    "x = base_model.output\n",
    "\n",
    "x = GlobalAveragePooling2D()(x)\n",
    "# Fully-connected layer\n",
    "x = Dense(1024, activation='relu')(x)\n",
    "# Classes logistic layer -- with 70 classes\n",
    "predictions = Dense(number_of_classes, activation='softmax')(x)\n",
    "\n",
    "# this is the model we will train\n",
    "model = Model(inputs=base_model.input, outputs=predictions)\n",
    "\n",
    "# first: train only the top layers (which were randomly initialized)\n",
    "# i.e. freeze all convolutional InceptionV3 layers\n",
    "for layer in base_model.layers:\n",
    "    layer.trainable = False\n",
    "\n",
    "# compile the model (should be done *after* setting layers to non-trainable)\n",
    "model.compile(optimizer='rmsprop', loss='categorical_crossentropy')\n",
    "\n",
    "# train the model on the new data for a few epochs\n",
    "model.fit(X_train,y_train,batch_size=32, epochs=10)"
   ]
  },
  {
   "cell_type": "code",
   "execution_count": 6,
   "metadata": {},
   "outputs": [
    {
     "name": "stdout",
     "output_type": "stream",
     "text": [
      "70/70 [==============================] - 68s 970ms/step\n",
      "Score: 0.545673149824\n"
     ]
    }
   ],
   "source": [
    "# Evaluate the model\n",
    "score = model.evaluate(X_test, y_test, batch_size=32)\n",
    "print(\"Score:\", score)"
   ]
  },
  {
   "cell_type": "code",
   "execution_count": 7,
   "metadata": {
    "scrolled": false
   },
   "outputs": [
    {
     "data": {
      "image/png": "[encoded data removed]",
      "text/plain": [
       "<matplotlib.figure.Figure at 0x7fc9940ea9e8>"
      ]
     },
     "metadata": {},
     "output_type": "display_data"
    },
    {
     "name": "stdout",
     "output_type": "stream",
     "text": [
      "Predicted: Misk (True: Misk)\n"
     ]
    },
    {
     "data": {
      "image/png": "[encoded data removed]",
      "text/plain": [
       "<matplotlib.figure.Figure at 0x7fc9845c9b38>"
      ]
     },
     "metadata": {},
     "output_type": "display_data"
    },
    {
     "name": "stdout",
     "output_type": "stream",
     "text": [
      "Predicted: Glas (True: Glas)\n"
     ]
    },
    {
     "data": {
      "image/png": "[encoded data removed]",
      "text/plain": [
       "<matplotlib.figure.Figure at 0x7fc984516978>"
      ]
     },
     "metadata": {},
     "output_type": "display_data"
    },
    {
     "name": "stdout",
     "output_type": "stream",
     "text": [
      "Predicted: HCircle (True: HCircle)\n"
     ]
    },
    {
     "data": {
      "image/png": "[encoded data removed]",
      "text/plain": [
       "<matplotlib.figure.Figure at 0x7fc984494780>"
      ]
     },
     "metadata": {},
     "output_type": "display_data"
    },
    {
     "name": "stdout",
     "output_type": "stream",
     "text": [
      "Predicted: Heart (True: Heart)\n"
     ]
    },
    {
     "data": {
      "image/png": "[encoded data removed]",
      "text/plain": [
       "<matplotlib.figure.Figure at 0x7fc9845746a0>"
      ]
     },
     "metadata": {},
     "output_type": "display_data"
    },
    {
     "name": "stdout",
     "output_type": "stream",
     "text": [
      "Predicted: Heart (True: Heart)\n"
     ]
    },
    {
     "data": {
      "image/png": "[encoded data removed]",
      "text/plain": [
       "<matplotlib.figure.Figure at 0x7fc9843dae48>"
      ]
     },
     "metadata": {},
     "output_type": "display_data"
    },
    {
     "name": "stdout",
     "output_type": "stream",
     "text": [
      "Predicted: Misk (True: Misk)\n"
     ]
    },
    {
     "data": {
      "image/png": "[encoded data removed]",
      "text/plain": [
       "<matplotlib.figure.Figure at 0x7fc98450e4a8>"
      ]
     },
     "metadata": {},
     "output_type": "display_data"
    },
    {
     "name": "stdout",
     "output_type": "stream",
     "text": [
      "Predicted: HCircle (True: HCircle)\n"
     ]
    }
   ],
   "source": [
    "# Display some results\n",
    "for test_image, test_target in zip(X_test[::int(len(X_test)/6)], y_test[::int(len(y_test)/6)]):\n",
    "    # Predicting class\n",
    "    predicted_class = model.predict(np.array([test_image]))[0]\n",
    "    plt.imshow(test_image, cmap='gray')\n",
    "    plt.show()\n",
    "    print(\"Predicted: {} (True: {})\".format(get_class_name(np.argmax(predicted_class)), get_class_name(np.argwhere(test_target)[0][0])))"
   ]
  },
  {
   "cell_type": "code",
   "execution_count": null,
   "metadata": {
    "collapsed": true
   },
   "outputs": [],
   "source": []
  }
 ],
 "metadata": {
  "kernelspec": {
   "display_name": "Python 3",
   "language": "python",
   "name": "python3"
  },
  "language_info": {
   "codemirror_mode": {
    "name": "ipython",
    "version": 3
   },
   "file_extension": ".py",
   "mimetype": "text/x-python",
   "name": "python",
   "nbconvert_exporter": "python",
   "pygments_lexer": "ipython3",
   "version": "3.6.3"
  }
 },
 "nbformat": 4,
 "nbformat_minor": 2
}
