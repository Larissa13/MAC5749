{
 "cells": [
  {
   "cell_type": "code",
   "execution_count": 7,
   "metadata": {},
   "outputs": [],
   "source": [
    "import sys\n",
    "sys.path.append('../')\n",
    "\n",
    "import numpy as np\n",
    "import matplotlib.pyplot as plt\n",
    "from sklearn.model_selection import train_test_split\n",
    "from skimage.transform import resize\n",
    "from skimage.color import gray2rgb\n",
    "\n",
    "import matplotlib.pyplot as plt\n",
    "\n",
    "import sarpy as sp\n",
    "from sarpy.datasets import load_mpeg7\n",
    "\n",
    "import keras\n",
    "import keras.applications.inception_v3 as inception\n",
    "from keras.preprocessing import image\n",
    "from keras.models import Model\n",
    "from keras.layers import Dense, GlobalAveragePooling2D\n",
    "from keras import backend as K"
   ]
  },
  {
   "cell_type": "code",
   "execution_count": 2,
   "metadata": {
    "collapsed": true
   },
   "outputs": [],
   "source": [
    "def get_class_name(target):\n",
    "    if target == 0: return \"Bone\"\n",
    "    if target == 1: return \"Comma\"\n",
    "    if target == 2: return \"Glas\"\n",
    "    if target == 3: return \"HCircle\"\n",
    "    if target == 4: return \"Heart\"\n",
    "    if target == 5: return \"Misk\"\n",
    "    if target == 6: return \"apple\"\n",
    "    if target == 7: return \"bat\"\n",
    "    if target == 8: return \"beetle\"\n",
    "    if target == 9: return \"bell\"\n",
    "    if target == 10: return \"bird\"\n",
    "    if target == 11: return \"bottle\"\n",
    "    if target == 12: return \"brick\"\n",
    "    if target == 13: return \"butterfly\"\n",
    "    if target == 14: return \"camel\"\n",
    "    if target == 15: return \"car\"\n",
    "    if target == 16: return \"carriage\"\n",
    "    if target == 17: return \"cattle\"\n",
    "    if target == 18: return \"cellular_phone\"\n",
    "    if target == 19: return \"chicken\"\n",
    "    if target == 20: return \"children\"\n",
    "    if target == 21: return \"chopper\"\n",
    "    if target == 22: return \"classic\"\n",
    "    if target == 23: return \"crown\"\n",
    "    if target == 24: return \"cup\"\n",
    "    if target == 25: return \"deer\"\n",
    "    if target == 26: return \"device0\"\n",
    "    if target == 27: return \"device1\"\n",
    "    if target == 28: return \"device2\"\n",
    "    if target == 29: return \"device3\"\n",
    "    if target == 30: return \"device4\"\n",
    "    if target == 31: return \"device5\"\n",
    "    if target == 32: return \"device6\"\n",
    "    if target == 33: return \"device7\"\n",
    "    if target == 34: return \"device8\"\n",
    "    if target == 35: return \"device9\"\n",
    "    if target == 36: return \"dog\"\n",
    "    if target == 37: return \"elephant\"\n",
    "    if target == 38: return \"face\"\n",
    "    if target == 39: return \"fish\"\n",
    "    if target == 40: return \"flatfish\"\n",
    "    if target == 41: return \"fly\"\n",
    "    if target == 42: return \"fork\"\n",
    "    if target == 43: return \"fountain\"\n",
    "    if target == 44: return \"frog\"\n",
    "    if target == 45: return \"guitar\"\n",
    "    if target == 46: return \"hammer\"\n",
    "    if target == 47: return \"hat\"\n",
    "    if target == 48: return \"horse\"\n",
    "    if target == 49: return \"horseshoe\"\n",
    "    if target == 50: return \"jar\"\n",
    "    if target == 51: return \"key\"\n",
    "    if target == 52: return \"lizzard\"\n",
    "    if target == 53: return \"lmfish\"\n",
    "    if target == 54: return \"octopus\"\n",
    "    if target == 55: return \"pencil\"\n",
    "    if target == 56: return \"personal_car\"\n",
    "    if target == 57: return \"pocket\"\n",
    "    if target == 58: return \"rat\"\n",
    "    if target == 59: return \"ray\"\n",
    "    if target == 60: return \"sea_snake\"\n",
    "    if target == 61: return \"shoe\"\n",
    "    if target == 62: return \"spoon\"\n",
    "    if target == 63: return \"spring\"\n",
    "    if target == 64: return \"stef\"\n",
    "    if target == 65: return \"teddy\"\n",
    "    if target == 66: return \"tree\"\n",
    "    if target == 67: return \"truck\"\n",
    "    if target == 68: return \"turtle\"\n",
    "    if target == 69: return \"watch\""
   ]
  },
  {
   "cell_type": "code",
   "execution_count": 16,
   "metadata": {},
   "outputs": [],
   "source": [
    "# Loading dataset\n",
    "dataset = load_mpeg7()\n",
    "bitmaps, targets = dataset[\"bitmaps\"][:140], dataset[\"targets\"][:140]\n",
    "\n",
    "# Normalizing images\n",
    "image_size_height = image_size_width = 299\n",
    "#bitmaps = [bitmap.normalize(image_size_height,image_size_width) for bitmap in bitmaps]\n",
    "bitmaps = [image.img_to_array(gray2rgb(resize(bitmap.data, (299,299), mode=\"constant\"))) for bitmap in bitmaps]\n",
    "targets = keras.utils.to_categorical(targets, num_classes=7)"
   ]
  },
  {
   "cell_type": "code",
   "execution_count": 17,
   "metadata": {},
   "outputs": [
    {
     "name": "stdout",
     "output_type": "stream",
     "text": [
      "[ 0.  0.  0.  0.  1.  0.  0.]\n"
     ]
    }
   ],
   "source": [
    "# Train-test split\n",
    "X_train, X_test, y_train, y_test = train_test_split(bitmaps, targets, test_size = 0.5, random_state=42)\n"
   ]
  },
  {
   "cell_type": "code",
   "execution_count": 19,
   "metadata": {},
   "outputs": [
    {
     "ename": "ValueError",
     "evalue": "Error when checking target: expected dense_10 to have 4 dimensions, but got array with shape (70, 7)",
     "output_type": "error",
     "traceback": [
      "\u001b[0;31m---------------------------------------------------------------------------\u001b[0m",
      "\u001b[0;31mValueError\u001b[0m                                Traceback (most recent call last)",
      "\u001b[0;32m<ipython-input-19-68f8ba51fd00>\u001b[0m in \u001b[0;36m<module>\u001b[0;34m()\u001b[0m\n\u001b[1;32m     20\u001b[0m \u001b[0;34m\u001b[0m\u001b[0m\n\u001b[1;32m     21\u001b[0m \u001b[0;31m# train the model on the new data for a few epochs\u001b[0m\u001b[0;34m\u001b[0m\u001b[0;34m\u001b[0m\u001b[0m\n\u001b[0;32m---> 22\u001b[0;31m \u001b[0mmodel\u001b[0m\u001b[0;34m.\u001b[0m\u001b[0mfit\u001b[0m\u001b[0;34m(\u001b[0m\u001b[0mx\u001b[0m\u001b[0;34m=\u001b[0m\u001b[0mnp\u001b[0m\u001b[0;34m.\u001b[0m\u001b[0marray\u001b[0m\u001b[0;34m(\u001b[0m\u001b[0mX_train\u001b[0m\u001b[0;34m)\u001b[0m\u001b[0;34m,\u001b[0m\u001b[0my\u001b[0m\u001b[0;34m=\u001b[0m\u001b[0mnp\u001b[0m\u001b[0;34m.\u001b[0m\u001b[0marray\u001b[0m\u001b[0;34m(\u001b[0m\u001b[0my_train\u001b[0m\u001b[0;34m)\u001b[0m\u001b[0;34m,\u001b[0m\u001b[0mbatch_size\u001b[0m\u001b[0;34m=\u001b[0m\u001b[0;36m32\u001b[0m\u001b[0;34m,\u001b[0m \u001b[0mepochs\u001b[0m\u001b[0;34m=\u001b[0m\u001b[0;36m1\u001b[0m\u001b[0;34m)\u001b[0m\u001b[0;34m\u001b[0m\u001b[0m\n\u001b[0m",
      "\u001b[0;32m/usr/lib/python3.6/site-packages/keras/engine/training.py\u001b[0m in \u001b[0;36mfit\u001b[0;34m(self, x, y, batch_size, epochs, verbose, callbacks, validation_split, validation_data, shuffle, class_weight, sample_weight, initial_epoch, steps_per_epoch, validation_steps, **kwargs)\u001b[0m\n\u001b[1;32m   1553\u001b[0m             \u001b[0mclass_weight\u001b[0m\u001b[0;34m=\u001b[0m\u001b[0mclass_weight\u001b[0m\u001b[0;34m,\u001b[0m\u001b[0;34m\u001b[0m\u001b[0m\n\u001b[1;32m   1554\u001b[0m             \u001b[0mcheck_batch_axis\u001b[0m\u001b[0;34m=\u001b[0m\u001b[0;32mFalse\u001b[0m\u001b[0;34m,\u001b[0m\u001b[0;34m\u001b[0m\u001b[0m\n\u001b[0;32m-> 1555\u001b[0;31m             batch_size=batch_size)\n\u001b[0m\u001b[1;32m   1556\u001b[0m         \u001b[0;31m# Prepare validation data.\u001b[0m\u001b[0;34m\u001b[0m\u001b[0;34m\u001b[0m\u001b[0m\n\u001b[1;32m   1557\u001b[0m         \u001b[0mdo_validation\u001b[0m \u001b[0;34m=\u001b[0m \u001b[0;32mFalse\u001b[0m\u001b[0;34m\u001b[0m\u001b[0m\n",
      "\u001b[0;32m/usr/lib/python3.6/site-packages/keras/engine/training.py\u001b[0m in \u001b[0;36m_standardize_user_data\u001b[0;34m(self, x, y, sample_weight, class_weight, check_batch_axis, batch_size)\u001b[0m\n\u001b[1;32m   1411\u001b[0m                                     \u001b[0moutput_shapes\u001b[0m\u001b[0;34m,\u001b[0m\u001b[0;34m\u001b[0m\u001b[0m\n\u001b[1;32m   1412\u001b[0m                                     \u001b[0mcheck_batch_axis\u001b[0m\u001b[0;34m=\u001b[0m\u001b[0;32mFalse\u001b[0m\u001b[0;34m,\u001b[0m\u001b[0;34m\u001b[0m\u001b[0m\n\u001b[0;32m-> 1413\u001b[0;31m                                     exception_prefix='target')\n\u001b[0m\u001b[1;32m   1414\u001b[0m         sample_weights = _standardize_sample_weights(sample_weight,\n\u001b[1;32m   1415\u001b[0m                                                      self._feed_output_names)\n",
      "\u001b[0;32m/usr/lib/python3.6/site-packages/keras/engine/training.py\u001b[0m in \u001b[0;36m_standardize_input_data\u001b[0;34m(data, names, shapes, check_batch_axis, exception_prefix)\u001b[0m\n\u001b[1;32m    140\u001b[0m                                  \u001b[0;34m' to have '\u001b[0m \u001b[0;34m+\u001b[0m \u001b[0mstr\u001b[0m\u001b[0;34m(\u001b[0m\u001b[0mlen\u001b[0m\u001b[0;34m(\u001b[0m\u001b[0mshapes\u001b[0m\u001b[0;34m[\u001b[0m\u001b[0mi\u001b[0m\u001b[0;34m]\u001b[0m\u001b[0;34m)\u001b[0m\u001b[0;34m)\u001b[0m \u001b[0;34m+\u001b[0m\u001b[0;34m\u001b[0m\u001b[0m\n\u001b[1;32m    141\u001b[0m                                  \u001b[0;34m' dimensions, but got array with shape '\u001b[0m \u001b[0;34m+\u001b[0m\u001b[0;34m\u001b[0m\u001b[0m\n\u001b[0;32m--> 142\u001b[0;31m                                  str(array.shape))\n\u001b[0m\u001b[1;32m    143\u001b[0m             \u001b[0;32mfor\u001b[0m \u001b[0mj\u001b[0m\u001b[0;34m,\u001b[0m \u001b[0;34m(\u001b[0m\u001b[0mdim\u001b[0m\u001b[0;34m,\u001b[0m \u001b[0mref_dim\u001b[0m\u001b[0;34m)\u001b[0m \u001b[0;32min\u001b[0m \u001b[0menumerate\u001b[0m\u001b[0;34m(\u001b[0m\u001b[0mzip\u001b[0m\u001b[0;34m(\u001b[0m\u001b[0marray\u001b[0m\u001b[0;34m.\u001b[0m\u001b[0mshape\u001b[0m\u001b[0;34m,\u001b[0m \u001b[0mshapes\u001b[0m\u001b[0;34m[\u001b[0m\u001b[0mi\u001b[0m\u001b[0;34m]\u001b[0m\u001b[0;34m)\u001b[0m\u001b[0;34m)\u001b[0m\u001b[0;34m:\u001b[0m\u001b[0;34m\u001b[0m\u001b[0m\n\u001b[1;32m    144\u001b[0m                 \u001b[0;32mif\u001b[0m \u001b[0;32mnot\u001b[0m \u001b[0mj\u001b[0m \u001b[0;32mand\u001b[0m \u001b[0;32mnot\u001b[0m \u001b[0mcheck_batch_axis\u001b[0m\u001b[0;34m:\u001b[0m\u001b[0;34m\u001b[0m\u001b[0m\n",
      "\u001b[0;31mValueError\u001b[0m: Error when checking target: expected dense_10 to have 4 dimensions, but got array with shape (70, 7)"
     ]
    }
   ],
   "source": [
    "# create the base pre-trained model, without top\n",
    "base_model = inception.InceptionV3(weights='imagenet', include_top=False)\n",
    "\n",
    "x = base_model.output\n",
    "# Fully-connected layer\n",
    "x = Dense(1024, activation='relu')(x)\n",
    "# Classes logistic layer -- with 70 classes\n",
    "predictions = Dense(7, activation='softmax')(x)\n",
    "\n",
    "# this is the model we will train\n",
    "model = Model(inputs=base_model.input, outputs=predictions)\n",
    "\n",
    "# first: train only the top layers (which were randomly initialized)\n",
    "# i.e. freeze all convolutional InceptionV3 layers\n",
    "for layer in base_model.layers:\n",
    "    layer.trainable = False\n",
    "\n",
    "# compile the model (should be done *after* setting layers to non-trainable)\n",
    "model.compile(optimizer='rmsprop', loss='categorical_crossentropy')\n",
    "\n",
    "# train the model on the new data for a few epochs\n",
    "model.fit(x=np.array(X_train),y=np.array(y_train),batch_size=32, epochs=1)"
   ]
  },
  {
   "cell_type": "code",
   "execution_count": null,
   "metadata": {
    "collapsed": true
   },
   "outputs": [],
   "source": []
  }
 ],
 "metadata": {
  "kernelspec": {
   "display_name": "Python 3",
   "language": "python",
   "name": "python3"
  },
  "language_info": {
   "codemirror_mode": {
    "name": "ipython",
    "version": 3
   },
   "file_extension": ".py",
   "mimetype": "text/x-python",
   "name": "python",
   "nbconvert_exporter": "python",
   "pygments_lexer": "ipython3",
   "version": "3.6.3"
  }
 },
 "nbformat": 4,
 "nbformat_minor": 2
}
