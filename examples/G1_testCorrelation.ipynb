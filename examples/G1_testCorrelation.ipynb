{
 "cells": [
  {
   "cell_type": "markdown",
   "metadata": {},
   "source": [
    "# Manipulação de bitmaps (correlation)"
   ]
  },
  {
   "cell_type": "code",
   "execution_count": 1,
   "metadata": {},
   "outputs": [],
   "source": [
    "import sys\n",
    "sys.path.append('../')\n",
    "import numpy as np\n",
    "import matplotlib.pyplot as plt\n",
    "from sarpy.datasets import load_nist\n",
    "\n",
    "dataset = load_nist()\n",
    "%load_ext autoreload\n",
    "%autoreload 2"
   ]
  },
  {
   "cell_type": "markdown",
   "metadata": {},
   "source": [
    "## Função de normalização dos bitmaps"
   ]
  },
  {
   "cell_type": "code",
   "execution_count": 2,
   "metadata": {
    "collapsed": true
   },
   "outputs": [],
   "source": [
    "from sarpy import extractContours\n",
    "from scipy.misc import imresize\n",
    "from math import *\n",
    "\n",
    "#change this block for group 1 function\n",
    "def normalizeImgs(data):\n",
    "    shapes_cropped = []\n",
    "    shapes_normalized = []\n",
    "\n",
    "    for img in images:\n",
    "        cc = extractContours.extract_contours(img)[0]\n",
    "        smin = np.min(cc,axis=0)\n",
    "        smax = np.max(cc,axis=0)\n",
    "        xx = img[smin[1]:smax[1]+1,smin[2]:smax[2]+1]\n",
    "        shapes_cropped.append(xx)\n",
    "\n",
    "    a = np.asarray([0,0])\n",
    "    for img in shapes_cropped:\n",
    "        a = img.shape + a\n",
    "\n",
    "    a = a/len(shapes_cropped) \n",
    "    for img in shapes_cropped:\n",
    "        t = imresize(img,(floor(a[0]),floor(a[1])),'nearest','L')\n",
    "        t = np.where(t > 0 , 1, 0)  \n",
    "        shapes_normalized.append(t)\n",
    "    return shapes_normalized"
   ]
  },
  {
   "cell_type": "markdown",
   "metadata": {},
   "source": [
    "## Função auxiliar para exibir grid de imagens\n",
    "- Função para visualizar grid de imagens"
   ]
  },
  {
   "cell_type": "code",
   "execution_count": 3,
   "metadata": {
    "collapsed": true
   },
   "outputs": [],
   "source": [
    "def gridVisualize(data):\n",
    "    f = lambda arg1 : arg1;\n",
    "    plt.rcParams[\"figure.figsize\"] = (10,8)\n",
    "    x = 8;\n",
    "    y = int(np.floor(len(data)/x))\n",
    "    fig = 0\n",
    "    axes = 0\n",
    "    if y <= 1:\n",
    "        y = 1\n",
    "        fig, axes = plt.subplots(1,x)\n",
    "    else:\n",
    "        fig, axes = plt.subplots(y+1,x)    \n",
    "    k = 0\n",
    "    for i in range(0,y+1):\n",
    "        for j in range(0,x):\n",
    "            if i*x+j < len(data):                \n",
    "                if y <= 1:\n",
    "                    axes[j].axis('off')\n",
    "                    axes[j].imshow(f(data[k]),cmap='gray')\n",
    "                else:\n",
    "                    axes[i,j].axis('off')\n",
    "                    axes[i,j].imshow(f(data[k]),cmap='gray')\n",
    "                k = k + 1\n",
    "            else:\n",
    "                if y <=1 :\n",
    "                    axes[j].axis('off')\n",
    "                else:\n",
    "                    axes[i,j].axis('off')                \n",
    "    plt.show()"
   ]
  },
  {
   "cell_type": "markdown",
   "metadata": {},
   "source": [
    "## Função para exibir o protótipo e a imagem em escala de cinza\n",
    "function group 2"
   ]
  },
  {
   "cell_type": "code",
   "execution_count": 4,
   "metadata": {
    "collapsed": true
   },
   "outputs": [],
   "source": [
    "def getMeanImage(data, threshold):\n",
    "    mean_array = np.mean(data,axis=0)\n",
    "    img_mean = np.zeros((len(mean_array),len(mean_array[0])))\n",
    "    img_gray = np.zeros((len(mean_array),len(mean_array[0])))\n",
    "\n",
    "    for idx in range(len(mean_array)):\n",
    "        for idy in range(len(mean_array[0])):\n",
    "            img_gray[idx][idy] = mean_array[idx][idy] * 255;\n",
    "            if(mean_array[idx][idy] > threshold):\n",
    "                img_mean[idx][idy] = 1;\n",
    "\n",
    "#     print(\"Gray Scale\")\n",
    "#     plt.imshow(img_gray,cmap='gray')\n",
    "#     plt.axis('off')\n",
    "#     plt.show()\n",
    "    return img_mean\n",
    "    \n"
   ]
  },
  {
   "cell_type": "markdown",
   "metadata": {},
   "source": [
    "## Processando imagens"
   ]
  },
  {
   "cell_type": "code",
   "execution_count": 5,
   "metadata": {
    "scrolled": false
   },
   "outputs": [
    {
     "name": "stdout",
     "output_type": "stream",
     "text": [
      "\n",
      "*******\n",
      "**\n",
      "  Images for label 0 \n",
      "**\n",
      "*******\n",
      "Threshold bitmap equal to  0.2\n"
     ]
    },
    {
     "data": {
      "image/png": "[encoded data removed]",
      "text/plain": [
       "<matplotlib.figure.Figure at 0x7f38d8c04a20>"
      ]
     },
     "metadata": {},
     "output_type": "display_data"
    },
    {
     "name": "stdout",
     "output_type": "stream",
     "text": [
      "Threshold bitmap equal to  0.4\n"
     ]
    },
    {
     "data": {
      "image/png": "[encoded data removed]",
      "text/plain": [
       "<matplotlib.figure.Figure at 0x7f38d8c048d0>"
      ]
     },
     "metadata": {},
     "output_type": "display_data"
    },
    {
     "name": "stdout",
     "output_type": "stream",
     "text": [
      "Threshold bitmap equal to  0.6000000000000001\n"
     ]
    },
    {
     "data": {
      "image/png": "[encoded data removed]",
      "text/plain": [
       "<matplotlib.figure.Figure at 0x7f38d8a98d30>"
      ]
     },
     "metadata": {},
     "output_type": "display_data"
    },
    {
     "name": "stdout",
     "output_type": "stream",
     "text": [
      "Threshold bitmap equal to  0.8\n"
     ]
    },
    {
     "data": {
      "image/png": "[encoded data removed]",
      "text/plain": [
       "<matplotlib.figure.Figure at 0x7f38d8a23da0>"
      ]
     },
     "metadata": {},
     "output_type": "display_data"
    },
    {
     "name": "stdout",
     "output_type": "stream",
     "text": [
      "\n",
      "*******\n",
      "**\n",
      "  Images for label F \n",
      "**\n",
      "*******\n",
      "Threshold bitmap equal to  0.2\n"
     ]
    },
    {
     "data": {
      "image/png": "[encoded data removed]",
      "text/plain": [
       "<matplotlib.figure.Figure at 0x7f38d89b5a20>"
      ]
     },
     "metadata": {},
     "output_type": "display_data"
    },
    {
     "name": "stdout",
     "output_type": "stream",
     "text": [
      "Threshold bitmap equal to  0.4\n"
     ]
    },
    {
     "data": {
      "image/png": "[encoded data removed]",
      "text/plain": [
       "<matplotlib.figure.Figure at 0x7f38d88d1ef0>"
      ]
     },
     "metadata": {},
     "output_type": "display_data"
    },
    {
     "name": "stdout",
     "output_type": "stream",
     "text": [
      "Threshold bitmap equal to  0.6000000000000001\n"
     ]
    },
    {
     "data": {
      "image/png": "[encoded data removed]",
      "text/plain": [
       "<matplotlib.figure.Figure at 0x7f38d8a924a8>"
      ]
     },
     "metadata": {},
     "output_type": "display_data"
    },
    {
     "name": "stdout",
     "output_type": "stream",
     "text": [
      "Threshold bitmap equal to  0.8\n"
     ]
    },
    {
     "data": {
      "image/png": "[encoded data removed]",
      "text/plain": [
       "<matplotlib.figure.Figure at 0x7f38d87d2d30>"
      ]
     },
     "metadata": {},
     "output_type": "display_data"
    },
    {
     "name": "stdout",
     "output_type": "stream",
     "text": [
      "\n",
      "*******\n",
      "**\n",
      "  Images for label U \n",
      "**\n",
      "*******\n",
      "Threshold bitmap equal to  0.2\n"
     ]
    },
    {
     "data": {
      "image/png": "[encoded data removed]",
      "text/plain": [
       "<matplotlib.figure.Figure at 0x7f38d8787898>"
      ]
     },
     "metadata": {},
     "output_type": "display_data"
    },
    {
     "name": "stdout",
     "output_type": "stream",
     "text": [
      "Threshold bitmap equal to  0.4\n"
     ]
    },
    {
     "data": {
      "image/png": "[encoded data removed]",
      "text/plain": [
       "<matplotlib.figure.Figure at 0x7f38d87a1588>"
      ]
     },
     "metadata": {},
     "output_type": "display_data"
    },
    {
     "name": "stdout",
     "output_type": "stream",
     "text": [
      "Threshold bitmap equal to  0.6000000000000001\n"
     ]
    },
    {
     "data": {
      "image/png": "[encoded data removed]",
      "text/plain": [
       "<matplotlib.figure.Figure at 0x7f38d867ed68>"
      ]
     },
     "metadata": {},
     "output_type": "display_data"
    },
    {
     "name": "stdout",
     "output_type": "stream",
     "text": [
      "Threshold bitmap equal to  0.8\n"
     ]
    },
    {
     "data": {
      "image/png": "[encoded data removed]",
      "text/plain": [
       "<matplotlib.figure.Figure at 0x7f38d87c42b0>"
      ]
     },
     "metadata": {},
     "output_type": "display_data"
    },
    {
     "name": "stdout",
     "output_type": "stream",
     "text": [
      "\n",
      "*******\n",
      "**\n",
      "  Images for label j \n",
      "**\n",
      "*******\n",
      "Threshold bitmap equal to  0.2\n"
     ]
    },
    {
     "data": {
      "image/png": "[encoded data removed]",
      "text/plain": [
       "<matplotlib.figure.Figure at 0x7f38d864e2e8>"
      ]
     },
     "metadata": {},
     "output_type": "display_data"
    },
    {
     "name": "stdout",
     "output_type": "stream",
     "text": [
      "Threshold bitmap equal to  0.4\n"
     ]
    },
    {
     "data": {
      "image/png": "[encoded data removed]",
      "text/plain": [
       "<matplotlib.figure.Figure at 0x7f38d87f8908>"
      ]
     },
     "metadata": {},
     "output_type": "display_data"
    },
    {
     "name": "stdout",
     "output_type": "stream",
     "text": [
      "Threshold bitmap equal to  0.6000000000000001\n"
     ]
    },
    {
     "data": {
      "image/png": "[encoded data removed]",
      "text/plain": [
       "<matplotlib.figure.Figure at 0x7f38d8c10f28>"
      ]
     },
     "metadata": {},
     "output_type": "display_data"
    },
    {
     "name": "stdout",
     "output_type": "stream",
     "text": [
      "Threshold bitmap equal to  0.8\n"
     ]
    },
    {
     "data": {
      "image/png": "[encoded data removed]",
      "text/plain": [
       "<matplotlib.figure.Figure at 0x7f38d876aac8>"
      ]
     },
     "metadata": {},
     "output_type": "display_data"
    },
    {
     "name": "stdout",
     "output_type": "stream",
     "text": [
      "\n",
      "*******\n",
      "**\n",
      "  Images for label y \n",
      "**\n",
      "*******\n",
      "Threshold bitmap equal to  0.2\n"
     ]
    },
    {
     "data": {
      "image/png": "[encoded data removed]",
      "text/plain": [
       "<matplotlib.figure.Figure at 0x7f38d8b79438>"
      ]
     },
     "metadata": {},
     "output_type": "display_data"
    },
    {
     "name": "stdout",
     "output_type": "stream",
     "text": [
      "Threshold bitmap equal to  0.4\n"
     ]
    },
    {
     "data": {
      "image/png": "[encoded data removed]",
      "text/plain": [
       "<matplotlib.figure.Figure at 0x7f38d8bf4f98>"
      ]
     },
     "metadata": {},
     "output_type": "display_data"
    },
    {
     "name": "stdout",
     "output_type": "stream",
     "text": [
      "Threshold bitmap equal to  0.6000000000000001\n"
     ]
    },
    {
     "data": {
      "image/png": "[encoded data removed]",
      "text/plain": [
       "<matplotlib.figure.Figure at 0x7f38d89866d8>"
      ]
     },
     "metadata": {},
     "output_type": "display_data"
    },
    {
     "name": "stdout",
     "output_type": "stream",
     "text": [
      "Threshold bitmap equal to  0.8\n"
     ]
    },
    {
     "data": {
      "image/png": "[encoded data removed]",
      "text/plain": [
       "<matplotlib.figure.Figure at 0x7f38d889e358>"
      ]
     },
     "metadata": {},
     "output_type": "display_data"
    }
   ],
   "source": [
    "\"\"\"\n",
    "#\n",
    "# Example para imagens aleatórias \n",
    "#\n",
    "\"\"\"    \n",
    "for c in range(0,62,15):\n",
    "    images = [];\n",
    "    for i in range(c*100,c*100+18):\n",
    "        images.append(dataset['bitmaps'][i])    \n",
    "    \n",
    "    print(\"\\n*******\\n**\\n  Images for label\", dataset['names'][dataset['targets'][c*100]],\"\\n**\\n*******\")\n",
    "    \n",
    "    normalized = normalizeImgs(images)\n",
    "    \n",
    "    thr = 0.2\n",
    "    while (thr < 1):\n",
    "        print(\"Threshold bitmap equal to \",thr)\n",
    "        mean_img = getMeanImage(normalized,thr)\n",
    "        plt.imshow(mean_img,cmap='gray')\n",
    "        plt.axis('off')\n",
    "        plt.show()   \n",
    "        thr = thr + 0.2\n",
    "    \n",
    "    \n"
   ]
  },
  {
   "cell_type": "code",
   "execution_count": null,
   "metadata": {
    "collapsed": true
   },
   "outputs": [],
   "source": []
  }
 ],
 "metadata": {
  "kernelspec": {
   "display_name": "Python 3",
   "language": "python",
   "name": "python3"
  },
  "language_info": {
   "codemirror_mode": {
    "name": "ipython",
    "version": 3
   },
   "file_extension": ".py",
   "mimetype": "text/x-python",
   "name": "python",
   "nbconvert_exporter": "python",
   "pygments_lexer": "ipython3",
   "version": "3.6.2"
  }
 },
 "nbformat": 4,
 "nbformat_minor": 2
}
